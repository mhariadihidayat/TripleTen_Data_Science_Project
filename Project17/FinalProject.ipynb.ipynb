{
 "cells": [
  {
   "cell_type": "markdown",
   "metadata": {},
   "source": [
    "<div style=\"border:solid black 2px; padding: 20px\"><h1 style=\"color:black; margin-bottom:20px\">Reviewer's comment v1</h1>\n",
    "Halo Muhammad !\n",
    "\n",
    "Perkenalkan saya Code Reviewers, disini saya akan mereview tugas Muhammad ya.\n",
    "\n",
    "Saya akan memberikan beberapa komen seperti dibawah ini, tolong jangan dipindah, dirubah, maupun dihapus ya.\n",
    "\n",
    "Komen yang saya berikan akan muncul dalam warna hijau, kuning, atau pun merah seperti ini:\n",
    "\n",
    "<div class=\"alert alert-success\">\n",
    "<b>Code Reviewers's comment v.1</b> <a class=\"tocSkip\"></a>\n",
    "\n",
    "Bagus, semua berjalan lancar.\n",
    "\n",
    "</div>\n",
    "\n",
    "<div class=\"alert alert-warning\">\n",
    "<b>Code Reviewers's comment v.1</b> <a class=\"tocSkip\"></a>\n",
    "\n",
    "Terdapat beberapa catatan.\n",
    "\n",
    "</div>\n",
    "\n",
    "<div class=\"alert alert-danger\">\n",
    "<b>Code Reviewers's comment v.1</b> <a class=\"tocSkip\"></a>\n",
    "\n",
    "Perlu beberapa perbaikan\n",
    "\n",
    "</div>\n",
    "\n",
    "Dan tentu saja Muhammad dapat menjawab saya dengan menggunakan ini\n",
    "\n",
    "<div class=\"alert alert-block alert-info\">\n",
    "<b>Student answer.</b> <a class=\"tocSkip\"></a>\n",
    "    \n",
    "Baik kak\n",
    "</div>"
   ]
  },
  {
   "cell_type": "markdown",
   "metadata": {},
   "source": [
    "## Final Project \n",
    "# Peramalan Keberhentian Pelanggan Telekomunikasi Menggunakan Pembelajaran Mesin \n",
    "\n",
    "Operator telekomunikasi Interconnect ingin dapat meramalkan churn (kepergian) klien mereka. Jika ditemukan bahwa seorang pengguna berencana untuk pergi, mereka akan ditawari kode promosi dan opsi paket khusus. Tim pemasaran Interconnect telah mengumpulkan beberapa data pribadi kliennya, termasuk informasi tentang paket dan kontrak mereka.\n",
    "\n",
    "# Layanan Interconnect\n",
    "\n",
    "Interconnect terutama menyediakan dua jenis layanan:\n",
    "\n",
    "1. Komunikasi melalui telepon tetap. Telepon dapat dihubungkan ke beberapa saluran secara bersamaan.\n",
    "2. Internet. Jaringan dapat disetel melalui saluran telepon (DSL, *digital subscriber line*) atau melalui kabel serat optik.\n",
    "\n",
    "Beberapa layanan lain yang disediakan perusahaan termasuk:\n",
    "\n",
    "- Keamanan internet: perangkat lunak antivirus (*DeviceProtection*) dan pemblokir situs web berbahaya (*OnlineSecurity*)\n",
    "- Layanan dukungan teknis khusus (*TechSupport*)\n",
    "- Penyimpanan file awan dan cadangan data (*OnlineBackup*)\n",
    "- Streaming TV (*StreamingTV*) dan direktori film (*StreamingMovies*)\n",
    "\n",
    "Klien dapat memilih pembayaran bulanan atau menandatangani kontrak 1 atau 2 tahun. Mereka dapat menggunakan berbagai metode pembayaran dan menerima faktur elektronik setelah transaksi.\n",
    "\n",
    "# Deskripsi Data\n",
    "\n",
    "Data terdiri dari file yang diperoleh dari berbagai sumber:\n",
    "\n",
    "- `contract.csv` — informasi kontrak\n",
    "- `personal.csv` — data pribadi klien\n",
    "- `internet.csv` — informasi tentang layanan internet\n",
    "- `phone.csv` — informasi tentang layanan telepon\n",
    "\n",
    "Di setiap file, kolom `customerID` berisi kode unik yang ditetapkan untuk setiap klien.\n",
    "\n",
    "Informasi kontrak berlaku per 1 Februari 2020.\n",
    "\n",
    "# Data\n",
    "\n",
    "[final_provider.zip](https://s3-us-west-2.amazonaws.com/secure.notion-static.com/ac39c23b-718e-4cd6-bdaa-85b3a127a457/final_provider.zip)\n",
    "\n",
    "Data juga berada di platform dalam folder `/datasets/final_provider/`.\n",
    "\n",
    "\n",
    "# Tujuan\n",
    "Tujuan dari proyek ini adalah:\n",
    "\n",
    "1. Membangun model machine learning untuk meramalkan churn / berhenti berhenti berlangganan klien Interconnect telecom.\n",
    "2. Menerapkan analisis data eksploratif untuk menentukan apakah layanan promosi khusus dan opsi paket dapat mencegah churn / berhenti berlangganan klien Interconnect telecom.\n",
    "3. Menganalisis kecepatan dan kualitas prediksi, waktu yang dibutuhkan untuk pelatihan, dll.\n",
    "\n",
    "\n",
    "# Daftar Pustaka \n",
    "\n",
    "1. [Membuka file data dan mempelajari informasi umum](#section1)\n",
    "2. [Pra-Pemrosesan Data](#section2)\n",
    "3. [Analisis Data Eskporatif](#section3)\n",
    "4. [Proses Pemodelan](#section4)\n",
    "5. [Model Training](#section5)\n",
    "6. [Evaluasi Model](#section6)\n",
    "7. [Rangkuman](#section7)\n",
    "8. [Laporan Tugas](#section8)\n"
   ]
  },
  {
   "cell_type": "markdown",
   "metadata": {},
   "source": [
    "<a id='section1'></a>\n",
    "## Buka data dan pelajari informasi umum\n",
    "Kita membutuhkan pustaka berikut: pandas dan numpy untuk pra-pemrosesan dan manipulasi data, matplotlib dan seaborn untuk visualisasi data."
   ]
  },
  {
   "cell_type": "markdown",
   "metadata": {},
   "source": [
    "<div class=\"alert alert-success\">\n",
    "<b>Code Reviewers's comment v.1</b> <a class=\"tocSkip\"></a>\n",
    "\n",
    "Bagus, semua berjalan lancar.\n",
    "\n",
    "</div>"
   ]
  },
  {
   "cell_type": "markdown",
   "metadata": {},
   "source": [
    "# Perpustakaan Project"
   ]
  },
  {
   "cell_type": "code",
   "execution_count": 1,
   "metadata": {},
   "outputs": [
    {
     "name": "stdout",
     "output_type": "stream",
     "text": [
      "Pustaka proyek telah berhasil diimpor!\n"
     ]
    }
   ],
   "source": [
    "import numpy as np\n",
    "import pandas as pd\n",
    "import time\n",
    "from datetime import datetime\n",
    "from IPython.display import display\n",
    "\n",
    "# matplotlib untuk visualisasi\n",
    "import matplotlib.pyplot as plt\n",
    "%matplotlib inline\n",
    "\n",
    "# seaborn untuk visualisasi data statistik\n",
    "import seaborn as sns\n",
    "\n",
    "# impor modul untuk pemisahan dan validasi silang menggunakan pencarian grid\n",
    "from sklearn.model_selection import train_test_split, GridSearchCV\n",
    "\n",
    "# impor modul untuk pra-pemrosesan\n",
    "from sklearn.preprocessing import OrdinalEncoder\n",
    "from sklearn.preprocessing import OneHotEncoder\n",
    "from sklearn.preprocessing import StandardScaler\n",
    "pd.options.mode.chained_assignment = None # untuk menghindari SettingWithCopyWarning setelah penskalaan\n",
    "\n",
    "# impor modul machine learning dari pustaka sklearn\n",
    "from sklearn.dummy import DummyClassifier # impor classifier dummy\n",
    "from sklearn.tree import DecisionTreeClassifier # impor classifier decision tree\n",
    "from sklearn.linear_model import LogisticRegression # impor logistic regression\n",
    "from sklearn.ensemble import RandomForestClassifier # impor algoritma random forest\n",
    "from catboost import CatBoostClassifier # impor classifier catboost\n",
    "from lightgbm import LGBMClassifier # impor classifier lightgbm\n",
    "from xgboost import XGBClassifier # impor classifier xgboost\n",
    "\n",
    "# impor metrik untuk pemeriksaan model\n",
    "from sklearn import metrics\n",
    "from sklearn.metrics import *\n",
    "from sklearn.metrics import accuracy_score\n",
    "from sklearn.metrics import confusion_matrix, classification_report\n",
    "from sklearn.metrics import precision_score, recall_score, f1_score, precision_recall_curve\n",
    "from sklearn.metrics import balanced_accuracy_score, roc_auc_score\n",
    "\n",
    "# impor peringatan\n",
    "import warnings\n",
    "warnings.filterwarnings('ignore')\n",
    "\n",
    "# impor utilitas sklearn\n",
    "from sklearn.utils import shuffle\n",
    "\n",
    "print('Pustaka proyek telah berhasil diimpor!')\n"
   ]
  },
  {
   "cell_type": "code",
   "execution_count": 2,
   "metadata": {},
   "outputs": [
    {
     "name": "stdout",
     "output_type": "stream",
     "text": [
      "Data berhasil terbaca!\n"
     ]
    }
   ],
   "source": [
    "# membaca data\n",
    "\n",
    "contract_data = pd.read_csv('final_project/final_provider/contract.csv')\n",
    "internet_data = pd.read_csv('final_project/final_provider/internet.csv')\n",
    "personal_data = pd.read_csv('final_project/final_provider/personal.csv')\n",
    "phone_data    = pd.read_csv('final_project/final_provider/phone.csv')\n",
    "\n",
    "print('Data berhasil terbaca!')"
   ]
  },
  {
   "cell_type": "code",
   "execution_count": 3,
   "metadata": {},
   "outputs": [],
   "source": [
    "# fungsi untuk menentukan apakah kolom dalam file memiliki nilai null\n",
    "def get_percent_of_na(df, num):\n",
    "    count = 0\n",
    "    df = df.copy()\n",
    "    s = (df.isna().sum() / df.shape[0])\n",
    "    for column, percent in zip(s.index, s.values):\n",
    "        num_of_nulls = df[column].isna().sum()\n",
    "        if num_of_nulls == 0:\n",
    "            continue\n",
    "        else:\n",
    "            count += 1\n",
    "        print('Kolom {} memiliki {:.{}%} persen nilai Null, dan {} nilai null'.format(column, percent, num, num_of_nulls))\n",
    "    if count != 0:\n",
    "        print(\"\\033[1m\" + 'Ada {} kolom dengan nilai NA.'.format(count) + \"\\033[0m\")\n",
    "    else:\n",
    "        print()\n",
    "        print(\"\\033[1m\" + 'Tidak ada kolom dengan nilai NA.' + \"\\033[0m\")\n",
    "\n",
    "# fungsi untuk menampilkan informasi umum tentang dataset\n",
    "def get_info(df):\n",
    "    \"\"\"\n",
    "    Fungsi ini menggunakan metode head(), info(), describe(), shape() dan duplicated()\n",
    "    untuk menampilkan informasi umum tentang dataset.\n",
    "    \"\"\"\n",
    "    print(\"\\033[1m\" + '-'*100 + \"\\033[0m\")\n",
    "    print('Head:')\n",
    "    print()\n",
    "    display(df.head())\n",
    "    print('-'*100)\n",
    "    print('Info:')\n",
    "    print()\n",
    "    display(df.info())\n",
    "    print('-'*100)\n",
    "    print('Describe:')\n",
    "    print()\n",
    "    display(df.describe())\n",
    "    print('-'*100)\n",
    "    display(df.describe(include='object'))\n",
    "    print()\n",
    "    print('Kolom dengan nulls:')\n",
    "    display(get_percent_of_na(df, 4))  # periksa ini\n",
    "    print('-'*100)\n",
    "    print('Shape:')\n",
    "    print(df.shape)\n",
    "    print('-'*100)\n",
    "    print('Duplicated:')\n",
    "    print(\"\\033[1m\" + 'Kita memiliki {} baris yang duplikat.\\n'.format(df.duplicated().sum()) + \"\\033[0m\")\n",
    "    print()\n"
   ]
  },
  {
   "cell_type": "code",
   "execution_count": 4,
   "metadata": {},
   "outputs": [
    {
     "name": "stdout",
     "output_type": "stream",
     "text": [
      "Informasi umum tentang dataset kontrak\n",
      "\u001b[1m----------------------------------------------------------------------------------------------------\u001b[0m\n",
      "Head:\n",
      "\n"
     ]
    },
    {
     "data": {
      "text/html": [
       "<div>\n",
       "<style scoped>\n",
       "    .dataframe tbody tr th:only-of-type {\n",
       "        vertical-align: middle;\n",
       "    }\n",
       "\n",
       "    .dataframe tbody tr th {\n",
       "        vertical-align: top;\n",
       "    }\n",
       "\n",
       "    .dataframe thead th {\n",
       "        text-align: right;\n",
       "    }\n",
       "</style>\n",
       "<table border=\"1\" class=\"dataframe\">\n",
       "  <thead>\n",
       "    <tr style=\"text-align: right;\">\n",
       "      <th></th>\n",
       "      <th>customerID</th>\n",
       "      <th>BeginDate</th>\n",
       "      <th>EndDate</th>\n",
       "      <th>Type</th>\n",
       "      <th>PaperlessBilling</th>\n",
       "      <th>PaymentMethod</th>\n",
       "      <th>MonthlyCharges</th>\n",
       "      <th>TotalCharges</th>\n",
       "    </tr>\n",
       "  </thead>\n",
       "  <tbody>\n",
       "    <tr>\n",
       "      <th>0</th>\n",
       "      <td>7590-VHVEG</td>\n",
       "      <td>2020-01-01</td>\n",
       "      <td>No</td>\n",
       "      <td>Month-to-month</td>\n",
       "      <td>Yes</td>\n",
       "      <td>Electronic check</td>\n",
       "      <td>29.85</td>\n",
       "      <td>29.85</td>\n",
       "    </tr>\n",
       "    <tr>\n",
       "      <th>1</th>\n",
       "      <td>5575-GNVDE</td>\n",
       "      <td>2017-04-01</td>\n",
       "      <td>No</td>\n",
       "      <td>One year</td>\n",
       "      <td>No</td>\n",
       "      <td>Mailed check</td>\n",
       "      <td>56.95</td>\n",
       "      <td>1889.5</td>\n",
       "    </tr>\n",
       "    <tr>\n",
       "      <th>2</th>\n",
       "      <td>3668-QPYBK</td>\n",
       "      <td>2019-10-01</td>\n",
       "      <td>2019-12-01 00:00:00</td>\n",
       "      <td>Month-to-month</td>\n",
       "      <td>Yes</td>\n",
       "      <td>Mailed check</td>\n",
       "      <td>53.85</td>\n",
       "      <td>108.15</td>\n",
       "    </tr>\n",
       "    <tr>\n",
       "      <th>3</th>\n",
       "      <td>7795-CFOCW</td>\n",
       "      <td>2016-05-01</td>\n",
       "      <td>No</td>\n",
       "      <td>One year</td>\n",
       "      <td>No</td>\n",
       "      <td>Bank transfer (automatic)</td>\n",
       "      <td>42.30</td>\n",
       "      <td>1840.75</td>\n",
       "    </tr>\n",
       "    <tr>\n",
       "      <th>4</th>\n",
       "      <td>9237-HQITU</td>\n",
       "      <td>2019-09-01</td>\n",
       "      <td>2019-11-01 00:00:00</td>\n",
       "      <td>Month-to-month</td>\n",
       "      <td>Yes</td>\n",
       "      <td>Electronic check</td>\n",
       "      <td>70.70</td>\n",
       "      <td>151.65</td>\n",
       "    </tr>\n",
       "  </tbody>\n",
       "</table>\n",
       "</div>"
      ],
      "text/plain": [
       "   customerID   BeginDate              EndDate            Type  \\\n",
       "0  7590-VHVEG  2020-01-01                   No  Month-to-month   \n",
       "1  5575-GNVDE  2017-04-01                   No        One year   \n",
       "2  3668-QPYBK  2019-10-01  2019-12-01 00:00:00  Month-to-month   \n",
       "3  7795-CFOCW  2016-05-01                   No        One year   \n",
       "4  9237-HQITU  2019-09-01  2019-11-01 00:00:00  Month-to-month   \n",
       "\n",
       "  PaperlessBilling              PaymentMethod  MonthlyCharges TotalCharges  \n",
       "0              Yes           Electronic check           29.85        29.85  \n",
       "1               No               Mailed check           56.95       1889.5  \n",
       "2              Yes               Mailed check           53.85       108.15  \n",
       "3               No  Bank transfer (automatic)           42.30      1840.75  \n",
       "4              Yes           Electronic check           70.70       151.65  "
      ]
     },
     "metadata": {},
     "output_type": "display_data"
    },
    {
     "name": "stdout",
     "output_type": "stream",
     "text": [
      "----------------------------------------------------------------------------------------------------\n",
      "Info:\n",
      "\n",
      "<class 'pandas.core.frame.DataFrame'>\n",
      "RangeIndex: 7043 entries, 0 to 7042\n",
      "Data columns (total 8 columns):\n",
      " #   Column            Non-Null Count  Dtype  \n",
      "---  ------            --------------  -----  \n",
      " 0   customerID        7043 non-null   object \n",
      " 1   BeginDate         7043 non-null   object \n",
      " 2   EndDate           7043 non-null   object \n",
      " 3   Type              7043 non-null   object \n",
      " 4   PaperlessBilling  7043 non-null   object \n",
      " 5   PaymentMethod     7043 non-null   object \n",
      " 6   MonthlyCharges    7043 non-null   float64\n",
      " 7   TotalCharges      7043 non-null   object \n",
      "dtypes: float64(1), object(7)\n",
      "memory usage: 440.3+ KB\n"
     ]
    },
    {
     "data": {
      "text/plain": [
       "None"
      ]
     },
     "metadata": {},
     "output_type": "display_data"
    },
    {
     "name": "stdout",
     "output_type": "stream",
     "text": [
      "----------------------------------------------------------------------------------------------------\n",
      "Describe:\n",
      "\n"
     ]
    },
    {
     "data": {
      "text/html": [
       "<div>\n",
       "<style scoped>\n",
       "    .dataframe tbody tr th:only-of-type {\n",
       "        vertical-align: middle;\n",
       "    }\n",
       "\n",
       "    .dataframe tbody tr th {\n",
       "        vertical-align: top;\n",
       "    }\n",
       "\n",
       "    .dataframe thead th {\n",
       "        text-align: right;\n",
       "    }\n",
       "</style>\n",
       "<table border=\"1\" class=\"dataframe\">\n",
       "  <thead>\n",
       "    <tr style=\"text-align: right;\">\n",
       "      <th></th>\n",
       "      <th>MonthlyCharges</th>\n",
       "    </tr>\n",
       "  </thead>\n",
       "  <tbody>\n",
       "    <tr>\n",
       "      <th>count</th>\n",
       "      <td>7043.000000</td>\n",
       "    </tr>\n",
       "    <tr>\n",
       "      <th>mean</th>\n",
       "      <td>64.761692</td>\n",
       "    </tr>\n",
       "    <tr>\n",
       "      <th>std</th>\n",
       "      <td>30.090047</td>\n",
       "    </tr>\n",
       "    <tr>\n",
       "      <th>min</th>\n",
       "      <td>18.250000</td>\n",
       "    </tr>\n",
       "    <tr>\n",
       "      <th>25%</th>\n",
       "      <td>35.500000</td>\n",
       "    </tr>\n",
       "    <tr>\n",
       "      <th>50%</th>\n",
       "      <td>70.350000</td>\n",
       "    </tr>\n",
       "    <tr>\n",
       "      <th>75%</th>\n",
       "      <td>89.850000</td>\n",
       "    </tr>\n",
       "    <tr>\n",
       "      <th>max</th>\n",
       "      <td>118.750000</td>\n",
       "    </tr>\n",
       "  </tbody>\n",
       "</table>\n",
       "</div>"
      ],
      "text/plain": [
       "       MonthlyCharges\n",
       "count     7043.000000\n",
       "mean        64.761692\n",
       "std         30.090047\n",
       "min         18.250000\n",
       "25%         35.500000\n",
       "50%         70.350000\n",
       "75%         89.850000\n",
       "max        118.750000"
      ]
     },
     "metadata": {},
     "output_type": "display_data"
    },
    {
     "name": "stdout",
     "output_type": "stream",
     "text": [
      "----------------------------------------------------------------------------------------------------\n"
     ]
    },
    {
     "data": {
      "text/html": [
       "<div>\n",
       "<style scoped>\n",
       "    .dataframe tbody tr th:only-of-type {\n",
       "        vertical-align: middle;\n",
       "    }\n",
       "\n",
       "    .dataframe tbody tr th {\n",
       "        vertical-align: top;\n",
       "    }\n",
       "\n",
       "    .dataframe thead th {\n",
       "        text-align: right;\n",
       "    }\n",
       "</style>\n",
       "<table border=\"1\" class=\"dataframe\">\n",
       "  <thead>\n",
       "    <tr style=\"text-align: right;\">\n",
       "      <th></th>\n",
       "      <th>customerID</th>\n",
       "      <th>BeginDate</th>\n",
       "      <th>EndDate</th>\n",
       "      <th>Type</th>\n",
       "      <th>PaperlessBilling</th>\n",
       "      <th>PaymentMethod</th>\n",
       "      <th>TotalCharges</th>\n",
       "    </tr>\n",
       "  </thead>\n",
       "  <tbody>\n",
       "    <tr>\n",
       "      <th>count</th>\n",
       "      <td>7043</td>\n",
       "      <td>7043</td>\n",
       "      <td>7043</td>\n",
       "      <td>7043</td>\n",
       "      <td>7043</td>\n",
       "      <td>7043</td>\n",
       "      <td>7043</td>\n",
       "    </tr>\n",
       "    <tr>\n",
       "      <th>unique</th>\n",
       "      <td>7043</td>\n",
       "      <td>77</td>\n",
       "      <td>5</td>\n",
       "      <td>3</td>\n",
       "      <td>2</td>\n",
       "      <td>4</td>\n",
       "      <td>6531</td>\n",
       "    </tr>\n",
       "    <tr>\n",
       "      <th>top</th>\n",
       "      <td>8097-VBQTZ</td>\n",
       "      <td>2014-02-01</td>\n",
       "      <td>No</td>\n",
       "      <td>Month-to-month</td>\n",
       "      <td>Yes</td>\n",
       "      <td>Electronic check</td>\n",
       "      <td></td>\n",
       "    </tr>\n",
       "    <tr>\n",
       "      <th>freq</th>\n",
       "      <td>1</td>\n",
       "      <td>366</td>\n",
       "      <td>5174</td>\n",
       "      <td>3875</td>\n",
       "      <td>4171</td>\n",
       "      <td>2365</td>\n",
       "      <td>11</td>\n",
       "    </tr>\n",
       "  </tbody>\n",
       "</table>\n",
       "</div>"
      ],
      "text/plain": [
       "        customerID   BeginDate EndDate            Type PaperlessBilling  \\\n",
       "count         7043        7043    7043            7043             7043   \n",
       "unique        7043          77       5               3                2   \n",
       "top     8097-VBQTZ  2014-02-01      No  Month-to-month              Yes   \n",
       "freq             1         366    5174            3875             4171   \n",
       "\n",
       "           PaymentMethod TotalCharges  \n",
       "count               7043         7043  \n",
       "unique                 4         6531  \n",
       "top     Electronic check               \n",
       "freq                2365           11  "
      ]
     },
     "metadata": {},
     "output_type": "display_data"
    },
    {
     "name": "stdout",
     "output_type": "stream",
     "text": [
      "\n",
      "Kolom dengan nulls:\n",
      "\n",
      "\u001b[1mTidak ada kolom dengan nilai NA.\u001b[0m\n"
     ]
    },
    {
     "data": {
      "text/plain": [
       "None"
      ]
     },
     "metadata": {},
     "output_type": "display_data"
    },
    {
     "name": "stdout",
     "output_type": "stream",
     "text": [
      "----------------------------------------------------------------------------------------------------\n",
      "Shape:\n",
      "(7043, 8)\n",
      "----------------------------------------------------------------------------------------------------\n",
      "Duplicated:\n",
      "\u001b[1mKita memiliki 0 baris yang duplikat.\n",
      "\u001b[0m\n",
      "\n"
     ]
    }
   ],
   "source": [
    "# mempelajari informasi umum tentang dataset kontrak\n",
    "print('Informasi umum tentang dataset kontrak')\n",
    "get_info(contract_data)\n"
   ]
  },
  {
   "cell_type": "markdown",
   "metadata": {},
   "source": [
    "<div class=\"alert alert-success\">\n",
    "<b>Code Reviewers's comment v.1</b> <a class=\"tocSkip\"></a>\n",
    "\n",
    "Bagus, semua berjalan lancar.\n",
    "\n",
    "</div>"
   ]
  },
  {
   "cell_type": "code",
   "execution_count": 5,
   "metadata": {},
   "outputs": [
    {
     "name": "stdout",
     "output_type": "stream",
     "text": [
      "Informasi umum tentang dataset internet\n",
      "\u001b[1m----------------------------------------------------------------------------------------------------\u001b[0m\n",
      "Head:\n",
      "\n"
     ]
    },
    {
     "data": {
      "text/html": [
       "<div>\n",
       "<style scoped>\n",
       "    .dataframe tbody tr th:only-of-type {\n",
       "        vertical-align: middle;\n",
       "    }\n",
       "\n",
       "    .dataframe tbody tr th {\n",
       "        vertical-align: top;\n",
       "    }\n",
       "\n",
       "    .dataframe thead th {\n",
       "        text-align: right;\n",
       "    }\n",
       "</style>\n",
       "<table border=\"1\" class=\"dataframe\">\n",
       "  <thead>\n",
       "    <tr style=\"text-align: right;\">\n",
       "      <th></th>\n",
       "      <th>customerID</th>\n",
       "      <th>InternetService</th>\n",
       "      <th>OnlineSecurity</th>\n",
       "      <th>OnlineBackup</th>\n",
       "      <th>DeviceProtection</th>\n",
       "      <th>TechSupport</th>\n",
       "      <th>StreamingTV</th>\n",
       "      <th>StreamingMovies</th>\n",
       "    </tr>\n",
       "  </thead>\n",
       "  <tbody>\n",
       "    <tr>\n",
       "      <th>0</th>\n",
       "      <td>7590-VHVEG</td>\n",
       "      <td>DSL</td>\n",
       "      <td>No</td>\n",
       "      <td>Yes</td>\n",
       "      <td>No</td>\n",
       "      <td>No</td>\n",
       "      <td>No</td>\n",
       "      <td>No</td>\n",
       "    </tr>\n",
       "    <tr>\n",
       "      <th>1</th>\n",
       "      <td>5575-GNVDE</td>\n",
       "      <td>DSL</td>\n",
       "      <td>Yes</td>\n",
       "      <td>No</td>\n",
       "      <td>Yes</td>\n",
       "      <td>No</td>\n",
       "      <td>No</td>\n",
       "      <td>No</td>\n",
       "    </tr>\n",
       "    <tr>\n",
       "      <th>2</th>\n",
       "      <td>3668-QPYBK</td>\n",
       "      <td>DSL</td>\n",
       "      <td>Yes</td>\n",
       "      <td>Yes</td>\n",
       "      <td>No</td>\n",
       "      <td>No</td>\n",
       "      <td>No</td>\n",
       "      <td>No</td>\n",
       "    </tr>\n",
       "    <tr>\n",
       "      <th>3</th>\n",
       "      <td>7795-CFOCW</td>\n",
       "      <td>DSL</td>\n",
       "      <td>Yes</td>\n",
       "      <td>No</td>\n",
       "      <td>Yes</td>\n",
       "      <td>Yes</td>\n",
       "      <td>No</td>\n",
       "      <td>No</td>\n",
       "    </tr>\n",
       "    <tr>\n",
       "      <th>4</th>\n",
       "      <td>9237-HQITU</td>\n",
       "      <td>Fiber optic</td>\n",
       "      <td>No</td>\n",
       "      <td>No</td>\n",
       "      <td>No</td>\n",
       "      <td>No</td>\n",
       "      <td>No</td>\n",
       "      <td>No</td>\n",
       "    </tr>\n",
       "  </tbody>\n",
       "</table>\n",
       "</div>"
      ],
      "text/plain": [
       "   customerID InternetService OnlineSecurity OnlineBackup DeviceProtection  \\\n",
       "0  7590-VHVEG             DSL             No          Yes               No   \n",
       "1  5575-GNVDE             DSL            Yes           No              Yes   \n",
       "2  3668-QPYBK             DSL            Yes          Yes               No   \n",
       "3  7795-CFOCW             DSL            Yes           No              Yes   \n",
       "4  9237-HQITU     Fiber optic             No           No               No   \n",
       "\n",
       "  TechSupport StreamingTV StreamingMovies  \n",
       "0          No          No              No  \n",
       "1          No          No              No  \n",
       "2          No          No              No  \n",
       "3         Yes          No              No  \n",
       "4          No          No              No  "
      ]
     },
     "metadata": {},
     "output_type": "display_data"
    },
    {
     "name": "stdout",
     "output_type": "stream",
     "text": [
      "----------------------------------------------------------------------------------------------------\n",
      "Info:\n",
      "\n",
      "<class 'pandas.core.frame.DataFrame'>\n",
      "RangeIndex: 5517 entries, 0 to 5516\n",
      "Data columns (total 8 columns):\n",
      " #   Column            Non-Null Count  Dtype \n",
      "---  ------            --------------  ----- \n",
      " 0   customerID        5517 non-null   object\n",
      " 1   InternetService   5517 non-null   object\n",
      " 2   OnlineSecurity    5517 non-null   object\n",
      " 3   OnlineBackup      5517 non-null   object\n",
      " 4   DeviceProtection  5517 non-null   object\n",
      " 5   TechSupport       5517 non-null   object\n",
      " 6   StreamingTV       5517 non-null   object\n",
      " 7   StreamingMovies   5517 non-null   object\n",
      "dtypes: object(8)\n",
      "memory usage: 344.9+ KB\n"
     ]
    },
    {
     "data": {
      "text/plain": [
       "None"
      ]
     },
     "metadata": {},
     "output_type": "display_data"
    },
    {
     "name": "stdout",
     "output_type": "stream",
     "text": [
      "----------------------------------------------------------------------------------------------------\n",
      "Describe:\n",
      "\n"
     ]
    },
    {
     "data": {
      "text/html": [
       "<div>\n",
       "<style scoped>\n",
       "    .dataframe tbody tr th:only-of-type {\n",
       "        vertical-align: middle;\n",
       "    }\n",
       "\n",
       "    .dataframe tbody tr th {\n",
       "        vertical-align: top;\n",
       "    }\n",
       "\n",
       "    .dataframe thead th {\n",
       "        text-align: right;\n",
       "    }\n",
       "</style>\n",
       "<table border=\"1\" class=\"dataframe\">\n",
       "  <thead>\n",
       "    <tr style=\"text-align: right;\">\n",
       "      <th></th>\n",
       "      <th>customerID</th>\n",
       "      <th>InternetService</th>\n",
       "      <th>OnlineSecurity</th>\n",
       "      <th>OnlineBackup</th>\n",
       "      <th>DeviceProtection</th>\n",
       "      <th>TechSupport</th>\n",
       "      <th>StreamingTV</th>\n",
       "      <th>StreamingMovies</th>\n",
       "    </tr>\n",
       "  </thead>\n",
       "  <tbody>\n",
       "    <tr>\n",
       "      <th>count</th>\n",
       "      <td>5517</td>\n",
       "      <td>5517</td>\n",
       "      <td>5517</td>\n",
       "      <td>5517</td>\n",
       "      <td>5517</td>\n",
       "      <td>5517</td>\n",
       "      <td>5517</td>\n",
       "      <td>5517</td>\n",
       "    </tr>\n",
       "    <tr>\n",
       "      <th>unique</th>\n",
       "      <td>5517</td>\n",
       "      <td>2</td>\n",
       "      <td>2</td>\n",
       "      <td>2</td>\n",
       "      <td>2</td>\n",
       "      <td>2</td>\n",
       "      <td>2</td>\n",
       "      <td>2</td>\n",
       "    </tr>\n",
       "    <tr>\n",
       "      <th>top</th>\n",
       "      <td>9831-BPFRI</td>\n",
       "      <td>Fiber optic</td>\n",
       "      <td>No</td>\n",
       "      <td>No</td>\n",
       "      <td>No</td>\n",
       "      <td>No</td>\n",
       "      <td>No</td>\n",
       "      <td>No</td>\n",
       "    </tr>\n",
       "    <tr>\n",
       "      <th>freq</th>\n",
       "      <td>1</td>\n",
       "      <td>3096</td>\n",
       "      <td>3498</td>\n",
       "      <td>3088</td>\n",
       "      <td>3095</td>\n",
       "      <td>3473</td>\n",
       "      <td>2810</td>\n",
       "      <td>2785</td>\n",
       "    </tr>\n",
       "  </tbody>\n",
       "</table>\n",
       "</div>"
      ],
      "text/plain": [
       "        customerID InternetService OnlineSecurity OnlineBackup  \\\n",
       "count         5517            5517           5517         5517   \n",
       "unique        5517               2              2            2   \n",
       "top     9831-BPFRI     Fiber optic             No           No   \n",
       "freq             1            3096           3498         3088   \n",
       "\n",
       "       DeviceProtection TechSupport StreamingTV StreamingMovies  \n",
       "count              5517        5517        5517            5517  \n",
       "unique                2           2           2               2  \n",
       "top                  No          No          No              No  \n",
       "freq               3095        3473        2810            2785  "
      ]
     },
     "metadata": {},
     "output_type": "display_data"
    },
    {
     "name": "stdout",
     "output_type": "stream",
     "text": [
      "----------------------------------------------------------------------------------------------------\n"
     ]
    },
    {
     "data": {
      "text/html": [
       "<div>\n",
       "<style scoped>\n",
       "    .dataframe tbody tr th:only-of-type {\n",
       "        vertical-align: middle;\n",
       "    }\n",
       "\n",
       "    .dataframe tbody tr th {\n",
       "        vertical-align: top;\n",
       "    }\n",
       "\n",
       "    .dataframe thead th {\n",
       "        text-align: right;\n",
       "    }\n",
       "</style>\n",
       "<table border=\"1\" class=\"dataframe\">\n",
       "  <thead>\n",
       "    <tr style=\"text-align: right;\">\n",
       "      <th></th>\n",
       "      <th>customerID</th>\n",
       "      <th>InternetService</th>\n",
       "      <th>OnlineSecurity</th>\n",
       "      <th>OnlineBackup</th>\n",
       "      <th>DeviceProtection</th>\n",
       "      <th>TechSupport</th>\n",
       "      <th>StreamingTV</th>\n",
       "      <th>StreamingMovies</th>\n",
       "    </tr>\n",
       "  </thead>\n",
       "  <tbody>\n",
       "    <tr>\n",
       "      <th>count</th>\n",
       "      <td>5517</td>\n",
       "      <td>5517</td>\n",
       "      <td>5517</td>\n",
       "      <td>5517</td>\n",
       "      <td>5517</td>\n",
       "      <td>5517</td>\n",
       "      <td>5517</td>\n",
       "      <td>5517</td>\n",
       "    </tr>\n",
       "    <tr>\n",
       "      <th>unique</th>\n",
       "      <td>5517</td>\n",
       "      <td>2</td>\n",
       "      <td>2</td>\n",
       "      <td>2</td>\n",
       "      <td>2</td>\n",
       "      <td>2</td>\n",
       "      <td>2</td>\n",
       "      <td>2</td>\n",
       "    </tr>\n",
       "    <tr>\n",
       "      <th>top</th>\n",
       "      <td>9831-BPFRI</td>\n",
       "      <td>Fiber optic</td>\n",
       "      <td>No</td>\n",
       "      <td>No</td>\n",
       "      <td>No</td>\n",
       "      <td>No</td>\n",
       "      <td>No</td>\n",
       "      <td>No</td>\n",
       "    </tr>\n",
       "    <tr>\n",
       "      <th>freq</th>\n",
       "      <td>1</td>\n",
       "      <td>3096</td>\n",
       "      <td>3498</td>\n",
       "      <td>3088</td>\n",
       "      <td>3095</td>\n",
       "      <td>3473</td>\n",
       "      <td>2810</td>\n",
       "      <td>2785</td>\n",
       "    </tr>\n",
       "  </tbody>\n",
       "</table>\n",
       "</div>"
      ],
      "text/plain": [
       "        customerID InternetService OnlineSecurity OnlineBackup  \\\n",
       "count         5517            5517           5517         5517   \n",
       "unique        5517               2              2            2   \n",
       "top     9831-BPFRI     Fiber optic             No           No   \n",
       "freq             1            3096           3498         3088   \n",
       "\n",
       "       DeviceProtection TechSupport StreamingTV StreamingMovies  \n",
       "count              5517        5517        5517            5517  \n",
       "unique                2           2           2               2  \n",
       "top                  No          No          No              No  \n",
       "freq               3095        3473        2810            2785  "
      ]
     },
     "metadata": {},
     "output_type": "display_data"
    },
    {
     "name": "stdout",
     "output_type": "stream",
     "text": [
      "\n",
      "Kolom dengan nulls:\n",
      "\n",
      "\u001b[1mTidak ada kolom dengan nilai NA.\u001b[0m\n"
     ]
    },
    {
     "data": {
      "text/plain": [
       "None"
      ]
     },
     "metadata": {},
     "output_type": "display_data"
    },
    {
     "name": "stdout",
     "output_type": "stream",
     "text": [
      "----------------------------------------------------------------------------------------------------\n",
      "Shape:\n",
      "(5517, 8)\n",
      "----------------------------------------------------------------------------------------------------\n",
      "Duplicated:\n",
      "\u001b[1mKita memiliki 0 baris yang duplikat.\n",
      "\u001b[0m\n",
      "\n"
     ]
    }
   ],
   "source": [
    "# mempelajari informasi umum tentang dataset internet\n",
    "print('Informasi umum tentang dataset internet')\n",
    "get_info(internet_data)\n"
   ]
  },
  {
   "cell_type": "markdown",
   "metadata": {},
   "source": [
    "<div class=\"alert alert-success\">\n",
    "<b>Code Reviewers's comment v.1</b> <a class=\"tocSkip\"></a>\n",
    "\n",
    "Bagus, semua berjalan lancar.\n",
    "\n",
    "</div>"
   ]
  },
  {
   "cell_type": "code",
   "execution_count": 6,
   "metadata": {},
   "outputs": [
    {
     "name": "stdout",
     "output_type": "stream",
     "text": [
      "Informasi umum tentang dataset personal\n",
      "\u001b[1m----------------------------------------------------------------------------------------------------\u001b[0m\n",
      "Head:\n",
      "\n"
     ]
    },
    {
     "data": {
      "text/html": [
       "<div>\n",
       "<style scoped>\n",
       "    .dataframe tbody tr th:only-of-type {\n",
       "        vertical-align: middle;\n",
       "    }\n",
       "\n",
       "    .dataframe tbody tr th {\n",
       "        vertical-align: top;\n",
       "    }\n",
       "\n",
       "    .dataframe thead th {\n",
       "        text-align: right;\n",
       "    }\n",
       "</style>\n",
       "<table border=\"1\" class=\"dataframe\">\n",
       "  <thead>\n",
       "    <tr style=\"text-align: right;\">\n",
       "      <th></th>\n",
       "      <th>customerID</th>\n",
       "      <th>gender</th>\n",
       "      <th>SeniorCitizen</th>\n",
       "      <th>Partner</th>\n",
       "      <th>Dependents</th>\n",
       "    </tr>\n",
       "  </thead>\n",
       "  <tbody>\n",
       "    <tr>\n",
       "      <th>0</th>\n",
       "      <td>7590-VHVEG</td>\n",
       "      <td>Female</td>\n",
       "      <td>0</td>\n",
       "      <td>Yes</td>\n",
       "      <td>No</td>\n",
       "    </tr>\n",
       "    <tr>\n",
       "      <th>1</th>\n",
       "      <td>5575-GNVDE</td>\n",
       "      <td>Male</td>\n",
       "      <td>0</td>\n",
       "      <td>No</td>\n",
       "      <td>No</td>\n",
       "    </tr>\n",
       "    <tr>\n",
       "      <th>2</th>\n",
       "      <td>3668-QPYBK</td>\n",
       "      <td>Male</td>\n",
       "      <td>0</td>\n",
       "      <td>No</td>\n",
       "      <td>No</td>\n",
       "    </tr>\n",
       "    <tr>\n",
       "      <th>3</th>\n",
       "      <td>7795-CFOCW</td>\n",
       "      <td>Male</td>\n",
       "      <td>0</td>\n",
       "      <td>No</td>\n",
       "      <td>No</td>\n",
       "    </tr>\n",
       "    <tr>\n",
       "      <th>4</th>\n",
       "      <td>9237-HQITU</td>\n",
       "      <td>Female</td>\n",
       "      <td>0</td>\n",
       "      <td>No</td>\n",
       "      <td>No</td>\n",
       "    </tr>\n",
       "  </tbody>\n",
       "</table>\n",
       "</div>"
      ],
      "text/plain": [
       "   customerID  gender  SeniorCitizen Partner Dependents\n",
       "0  7590-VHVEG  Female              0     Yes         No\n",
       "1  5575-GNVDE    Male              0      No         No\n",
       "2  3668-QPYBK    Male              0      No         No\n",
       "3  7795-CFOCW    Male              0      No         No\n",
       "4  9237-HQITU  Female              0      No         No"
      ]
     },
     "metadata": {},
     "output_type": "display_data"
    },
    {
     "name": "stdout",
     "output_type": "stream",
     "text": [
      "----------------------------------------------------------------------------------------------------\n",
      "Info:\n",
      "\n",
      "<class 'pandas.core.frame.DataFrame'>\n",
      "RangeIndex: 7043 entries, 0 to 7042\n",
      "Data columns (total 5 columns):\n",
      " #   Column         Non-Null Count  Dtype \n",
      "---  ------         --------------  ----- \n",
      " 0   customerID     7043 non-null   object\n",
      " 1   gender         7043 non-null   object\n",
      " 2   SeniorCitizen  7043 non-null   int64 \n",
      " 3   Partner        7043 non-null   object\n",
      " 4   Dependents     7043 non-null   object\n",
      "dtypes: int64(1), object(4)\n",
      "memory usage: 275.2+ KB\n"
     ]
    },
    {
     "data": {
      "text/plain": [
       "None"
      ]
     },
     "metadata": {},
     "output_type": "display_data"
    },
    {
     "name": "stdout",
     "output_type": "stream",
     "text": [
      "----------------------------------------------------------------------------------------------------\n",
      "Describe:\n",
      "\n"
     ]
    },
    {
     "data": {
      "text/html": [
       "<div>\n",
       "<style scoped>\n",
       "    .dataframe tbody tr th:only-of-type {\n",
       "        vertical-align: middle;\n",
       "    }\n",
       "\n",
       "    .dataframe tbody tr th {\n",
       "        vertical-align: top;\n",
       "    }\n",
       "\n",
       "    .dataframe thead th {\n",
       "        text-align: right;\n",
       "    }\n",
       "</style>\n",
       "<table border=\"1\" class=\"dataframe\">\n",
       "  <thead>\n",
       "    <tr style=\"text-align: right;\">\n",
       "      <th></th>\n",
       "      <th>SeniorCitizen</th>\n",
       "    </tr>\n",
       "  </thead>\n",
       "  <tbody>\n",
       "    <tr>\n",
       "      <th>count</th>\n",
       "      <td>7043.000000</td>\n",
       "    </tr>\n",
       "    <tr>\n",
       "      <th>mean</th>\n",
       "      <td>0.162147</td>\n",
       "    </tr>\n",
       "    <tr>\n",
       "      <th>std</th>\n",
       "      <td>0.368612</td>\n",
       "    </tr>\n",
       "    <tr>\n",
       "      <th>min</th>\n",
       "      <td>0.000000</td>\n",
       "    </tr>\n",
       "    <tr>\n",
       "      <th>25%</th>\n",
       "      <td>0.000000</td>\n",
       "    </tr>\n",
       "    <tr>\n",
       "      <th>50%</th>\n",
       "      <td>0.000000</td>\n",
       "    </tr>\n",
       "    <tr>\n",
       "      <th>75%</th>\n",
       "      <td>0.000000</td>\n",
       "    </tr>\n",
       "    <tr>\n",
       "      <th>max</th>\n",
       "      <td>1.000000</td>\n",
       "    </tr>\n",
       "  </tbody>\n",
       "</table>\n",
       "</div>"
      ],
      "text/plain": [
       "       SeniorCitizen\n",
       "count    7043.000000\n",
       "mean        0.162147\n",
       "std         0.368612\n",
       "min         0.000000\n",
       "25%         0.000000\n",
       "50%         0.000000\n",
       "75%         0.000000\n",
       "max         1.000000"
      ]
     },
     "metadata": {},
     "output_type": "display_data"
    },
    {
     "name": "stdout",
     "output_type": "stream",
     "text": [
      "----------------------------------------------------------------------------------------------------\n"
     ]
    },
    {
     "data": {
      "text/html": [
       "<div>\n",
       "<style scoped>\n",
       "    .dataframe tbody tr th:only-of-type {\n",
       "        vertical-align: middle;\n",
       "    }\n",
       "\n",
       "    .dataframe tbody tr th {\n",
       "        vertical-align: top;\n",
       "    }\n",
       "\n",
       "    .dataframe thead th {\n",
       "        text-align: right;\n",
       "    }\n",
       "</style>\n",
       "<table border=\"1\" class=\"dataframe\">\n",
       "  <thead>\n",
       "    <tr style=\"text-align: right;\">\n",
       "      <th></th>\n",
       "      <th>customerID</th>\n",
       "      <th>gender</th>\n",
       "      <th>Partner</th>\n",
       "      <th>Dependents</th>\n",
       "    </tr>\n",
       "  </thead>\n",
       "  <tbody>\n",
       "    <tr>\n",
       "      <th>count</th>\n",
       "      <td>7043</td>\n",
       "      <td>7043</td>\n",
       "      <td>7043</td>\n",
       "      <td>7043</td>\n",
       "    </tr>\n",
       "    <tr>\n",
       "      <th>unique</th>\n",
       "      <td>7043</td>\n",
       "      <td>2</td>\n",
       "      <td>2</td>\n",
       "      <td>2</td>\n",
       "    </tr>\n",
       "    <tr>\n",
       "      <th>top</th>\n",
       "      <td>8097-VBQTZ</td>\n",
       "      <td>Male</td>\n",
       "      <td>No</td>\n",
       "      <td>No</td>\n",
       "    </tr>\n",
       "    <tr>\n",
       "      <th>freq</th>\n",
       "      <td>1</td>\n",
       "      <td>3555</td>\n",
       "      <td>3641</td>\n",
       "      <td>4933</td>\n",
       "    </tr>\n",
       "  </tbody>\n",
       "</table>\n",
       "</div>"
      ],
      "text/plain": [
       "        customerID gender Partner Dependents\n",
       "count         7043   7043    7043       7043\n",
       "unique        7043      2       2          2\n",
       "top     8097-VBQTZ   Male      No         No\n",
       "freq             1   3555    3641       4933"
      ]
     },
     "metadata": {},
     "output_type": "display_data"
    },
    {
     "name": "stdout",
     "output_type": "stream",
     "text": [
      "\n",
      "Kolom dengan nulls:\n",
      "\n",
      "\u001b[1mTidak ada kolom dengan nilai NA.\u001b[0m\n"
     ]
    },
    {
     "data": {
      "text/plain": [
       "None"
      ]
     },
     "metadata": {},
     "output_type": "display_data"
    },
    {
     "name": "stdout",
     "output_type": "stream",
     "text": [
      "----------------------------------------------------------------------------------------------------\n",
      "Shape:\n",
      "(7043, 5)\n",
      "----------------------------------------------------------------------------------------------------\n",
      "Duplicated:\n",
      "\u001b[1mKita memiliki 0 baris yang duplikat.\n",
      "\u001b[0m\n",
      "\n"
     ]
    }
   ],
   "source": [
    "# mempelajari informasi umum tentang dataset personal\n",
    "print('Informasi umum tentang dataset personal')\n",
    "get_info(personal_data)"
   ]
  },
  {
   "cell_type": "markdown",
   "metadata": {},
   "source": [
    "<div class=\"alert alert-success\">\n",
    "<b>Code Reviewers's comment v.1</b> <a class=\"tocSkip\"></a>\n",
    "\n",
    "Bagus, semua berjalan lancar.\n",
    "\n",
    "</div>"
   ]
  },
  {
   "cell_type": "code",
   "execution_count": 7,
   "metadata": {},
   "outputs": [
    {
     "name": "stdout",
     "output_type": "stream",
     "text": [
      "Informasi umum tentang dataset telepon\n",
      "\u001b[1m----------------------------------------------------------------------------------------------------\u001b[0m\n",
      "Head:\n",
      "\n"
     ]
    },
    {
     "data": {
      "text/html": [
       "<div>\n",
       "<style scoped>\n",
       "    .dataframe tbody tr th:only-of-type {\n",
       "        vertical-align: middle;\n",
       "    }\n",
       "\n",
       "    .dataframe tbody tr th {\n",
       "        vertical-align: top;\n",
       "    }\n",
       "\n",
       "    .dataframe thead th {\n",
       "        text-align: right;\n",
       "    }\n",
       "</style>\n",
       "<table border=\"1\" class=\"dataframe\">\n",
       "  <thead>\n",
       "    <tr style=\"text-align: right;\">\n",
       "      <th></th>\n",
       "      <th>customerID</th>\n",
       "      <th>MultipleLines</th>\n",
       "    </tr>\n",
       "  </thead>\n",
       "  <tbody>\n",
       "    <tr>\n",
       "      <th>0</th>\n",
       "      <td>5575-GNVDE</td>\n",
       "      <td>No</td>\n",
       "    </tr>\n",
       "    <tr>\n",
       "      <th>1</th>\n",
       "      <td>3668-QPYBK</td>\n",
       "      <td>No</td>\n",
       "    </tr>\n",
       "    <tr>\n",
       "      <th>2</th>\n",
       "      <td>9237-HQITU</td>\n",
       "      <td>No</td>\n",
       "    </tr>\n",
       "    <tr>\n",
       "      <th>3</th>\n",
       "      <td>9305-CDSKC</td>\n",
       "      <td>Yes</td>\n",
       "    </tr>\n",
       "    <tr>\n",
       "      <th>4</th>\n",
       "      <td>1452-KIOVK</td>\n",
       "      <td>Yes</td>\n",
       "    </tr>\n",
       "  </tbody>\n",
       "</table>\n",
       "</div>"
      ],
      "text/plain": [
       "   customerID MultipleLines\n",
       "0  5575-GNVDE            No\n",
       "1  3668-QPYBK            No\n",
       "2  9237-HQITU            No\n",
       "3  9305-CDSKC           Yes\n",
       "4  1452-KIOVK           Yes"
      ]
     },
     "metadata": {},
     "output_type": "display_data"
    },
    {
     "name": "stdout",
     "output_type": "stream",
     "text": [
      "----------------------------------------------------------------------------------------------------\n",
      "Info:\n",
      "\n",
      "<class 'pandas.core.frame.DataFrame'>\n",
      "RangeIndex: 6361 entries, 0 to 6360\n",
      "Data columns (total 2 columns):\n",
      " #   Column         Non-Null Count  Dtype \n",
      "---  ------         --------------  ----- \n",
      " 0   customerID     6361 non-null   object\n",
      " 1   MultipleLines  6361 non-null   object\n",
      "dtypes: object(2)\n",
      "memory usage: 99.5+ KB\n"
     ]
    },
    {
     "data": {
      "text/plain": [
       "None"
      ]
     },
     "metadata": {},
     "output_type": "display_data"
    },
    {
     "name": "stdout",
     "output_type": "stream",
     "text": [
      "----------------------------------------------------------------------------------------------------\n",
      "Describe:\n",
      "\n"
     ]
    },
    {
     "data": {
      "text/html": [
       "<div>\n",
       "<style scoped>\n",
       "    .dataframe tbody tr th:only-of-type {\n",
       "        vertical-align: middle;\n",
       "    }\n",
       "\n",
       "    .dataframe tbody tr th {\n",
       "        vertical-align: top;\n",
       "    }\n",
       "\n",
       "    .dataframe thead th {\n",
       "        text-align: right;\n",
       "    }\n",
       "</style>\n",
       "<table border=\"1\" class=\"dataframe\">\n",
       "  <thead>\n",
       "    <tr style=\"text-align: right;\">\n",
       "      <th></th>\n",
       "      <th>customerID</th>\n",
       "      <th>MultipleLines</th>\n",
       "    </tr>\n",
       "  </thead>\n",
       "  <tbody>\n",
       "    <tr>\n",
       "      <th>count</th>\n",
       "      <td>6361</td>\n",
       "      <td>6361</td>\n",
       "    </tr>\n",
       "    <tr>\n",
       "      <th>unique</th>\n",
       "      <td>6361</td>\n",
       "      <td>2</td>\n",
       "    </tr>\n",
       "    <tr>\n",
       "      <th>top</th>\n",
       "      <td>8097-VBQTZ</td>\n",
       "      <td>No</td>\n",
       "    </tr>\n",
       "    <tr>\n",
       "      <th>freq</th>\n",
       "      <td>1</td>\n",
       "      <td>3390</td>\n",
       "    </tr>\n",
       "  </tbody>\n",
       "</table>\n",
       "</div>"
      ],
      "text/plain": [
       "        customerID MultipleLines\n",
       "count         6361          6361\n",
       "unique        6361             2\n",
       "top     8097-VBQTZ            No\n",
       "freq             1          3390"
      ]
     },
     "metadata": {},
     "output_type": "display_data"
    },
    {
     "name": "stdout",
     "output_type": "stream",
     "text": [
      "----------------------------------------------------------------------------------------------------\n"
     ]
    },
    {
     "data": {
      "text/html": [
       "<div>\n",
       "<style scoped>\n",
       "    .dataframe tbody tr th:only-of-type {\n",
       "        vertical-align: middle;\n",
       "    }\n",
       "\n",
       "    .dataframe tbody tr th {\n",
       "        vertical-align: top;\n",
       "    }\n",
       "\n",
       "    .dataframe thead th {\n",
       "        text-align: right;\n",
       "    }\n",
       "</style>\n",
       "<table border=\"1\" class=\"dataframe\">\n",
       "  <thead>\n",
       "    <tr style=\"text-align: right;\">\n",
       "      <th></th>\n",
       "      <th>customerID</th>\n",
       "      <th>MultipleLines</th>\n",
       "    </tr>\n",
       "  </thead>\n",
       "  <tbody>\n",
       "    <tr>\n",
       "      <th>count</th>\n",
       "      <td>6361</td>\n",
       "      <td>6361</td>\n",
       "    </tr>\n",
       "    <tr>\n",
       "      <th>unique</th>\n",
       "      <td>6361</td>\n",
       "      <td>2</td>\n",
       "    </tr>\n",
       "    <tr>\n",
       "      <th>top</th>\n",
       "      <td>8097-VBQTZ</td>\n",
       "      <td>No</td>\n",
       "    </tr>\n",
       "    <tr>\n",
       "      <th>freq</th>\n",
       "      <td>1</td>\n",
       "      <td>3390</td>\n",
       "    </tr>\n",
       "  </tbody>\n",
       "</table>\n",
       "</div>"
      ],
      "text/plain": [
       "        customerID MultipleLines\n",
       "count         6361          6361\n",
       "unique        6361             2\n",
       "top     8097-VBQTZ            No\n",
       "freq             1          3390"
      ]
     },
     "metadata": {},
     "output_type": "display_data"
    },
    {
     "name": "stdout",
     "output_type": "stream",
     "text": [
      "\n",
      "Kolom dengan nulls:\n",
      "\n",
      "\u001b[1mTidak ada kolom dengan nilai NA.\u001b[0m\n"
     ]
    },
    {
     "data": {
      "text/plain": [
       "None"
      ]
     },
     "metadata": {},
     "output_type": "display_data"
    },
    {
     "name": "stdout",
     "output_type": "stream",
     "text": [
      "----------------------------------------------------------------------------------------------------\n",
      "Shape:\n",
      "(6361, 2)\n",
      "----------------------------------------------------------------------------------------------------\n",
      "Duplicated:\n",
      "\u001b[1mKita memiliki 0 baris yang duplikat.\n",
      "\u001b[0m\n",
      "\n"
     ]
    }
   ],
   "source": [
    "# mempelajari informasi umum tentang dataset telepon\n",
    "print('Informasi umum tentang dataset telepon')\n",
    "get_info(phone_data)\n"
   ]
  },
  {
   "cell_type": "markdown",
   "metadata": {},
   "source": [
    "Dengan melihat informasi umum tentang data, kita menemukan bahwa:\n",
    "\n",
    "- `contract_data` memiliki 7043 baris dan 8 kolom tanpa nilai yang hilang dan tanpa nilai yang duplikat\n",
    "- `internet_data` memiliki 5517 baris dan 8 kolom tanpa nilai yang hilang dan tanpa nilai yang duplikat\n",
    "- `personal_data` memiliki 7043 baris dan 5 kolom tanpa nilai yang hilang dan tanpa nilai yang duplikat\n",
    "- `phone_data` memiliki 6361 baris dan 2 kolom tanpa nilai yang hilang dan tanpa nilai yang duplikat\n",
    "\n",
    "Kita perlu mengubah datatype ke tipe data yang benar. Misalnya, dalam contract_data, kita perlu mengubah BeginDate, EndDate menjadi Datetime dan TotalCharges menjadi float. Kita juga perlu melakukan pra-pemrosesan data dan menghasilkan fitur baru untuk machine learning."
   ]
  },
  {
   "cell_type": "markdown",
   "metadata": {},
   "source": [
    "<div class=\"alert alert-success\">\n",
    "<b>Code Reviewers's comment v.1</b> <a class=\"tocSkip\"></a>\n",
    "\n",
    "Bagus, semua berjalan lancar.\n",
    "\n",
    "</div>"
   ]
  },
  {
   "cell_type": "markdown",
   "metadata": {},
   "source": [
    "<a id='section2'></a>\n",
    "## Pra-Pemrosesan Data\n",
    "Pada bagian ini, kita akan melakukan wrangling data. Kita harus menggabungkan dataset, mengganti nama kolom, mengubah tipe data, dan melakukan rekayasa fitur."
   ]
  },
  {
   "cell_type": "markdown",
   "metadata": {},
   "source": [
    "### Penggabungan Dataset\n",
    "Sebelum kita mulai melakukan pra-pemrosesan data, kita bisa menggabungkan semua dataset individu menjadi satu dataframe menggunakan fungsi `merge()` di pandas."
   ]
  },
  {
   "cell_type": "code",
   "execution_count": 8,
   "metadata": {},
   "outputs": [
    {
     "data": {
      "text/html": [
       "<div>\n",
       "<style scoped>\n",
       "    .dataframe tbody tr th:only-of-type {\n",
       "        vertical-align: middle;\n",
       "    }\n",
       "\n",
       "    .dataframe tbody tr th {\n",
       "        vertical-align: top;\n",
       "    }\n",
       "\n",
       "    .dataframe thead th {\n",
       "        text-align: right;\n",
       "    }\n",
       "</style>\n",
       "<table border=\"1\" class=\"dataframe\">\n",
       "  <thead>\n",
       "    <tr style=\"text-align: right;\">\n",
       "      <th></th>\n",
       "      <th>customerID</th>\n",
       "      <th>BeginDate</th>\n",
       "      <th>EndDate</th>\n",
       "      <th>Type</th>\n",
       "      <th>PaperlessBilling</th>\n",
       "      <th>PaymentMethod</th>\n",
       "      <th>MonthlyCharges</th>\n",
       "      <th>TotalCharges</th>\n",
       "      <th>InternetService</th>\n",
       "      <th>OnlineSecurity</th>\n",
       "      <th>OnlineBackup</th>\n",
       "      <th>DeviceProtection</th>\n",
       "      <th>TechSupport</th>\n",
       "      <th>StreamingTV</th>\n",
       "      <th>StreamingMovies</th>\n",
       "      <th>gender</th>\n",
       "      <th>SeniorCitizen</th>\n",
       "      <th>Partner</th>\n",
       "      <th>Dependents</th>\n",
       "      <th>MultipleLines</th>\n",
       "    </tr>\n",
       "  </thead>\n",
       "  <tbody>\n",
       "    <tr>\n",
       "      <th>948</th>\n",
       "      <td>7028-DVOIQ</td>\n",
       "      <td>2017-02-01</td>\n",
       "      <td>2020-01-01 00:00:00</td>\n",
       "      <td>Month-to-month</td>\n",
       "      <td>Yes</td>\n",
       "      <td>Electronic check</td>\n",
       "      <td>99.05</td>\n",
       "      <td>3395.8</td>\n",
       "      <td>Fiber optic</td>\n",
       "      <td>No</td>\n",
       "      <td>No</td>\n",
       "      <td>Yes</td>\n",
       "      <td>No</td>\n",
       "      <td>Yes</td>\n",
       "      <td>Yes</td>\n",
       "      <td>Male</td>\n",
       "      <td>1</td>\n",
       "      <td>No</td>\n",
       "      <td>No</td>\n",
       "      <td>Yes</td>\n",
       "    </tr>\n",
       "    <tr>\n",
       "      <th>5476</th>\n",
       "      <td>6060-DRTNL</td>\n",
       "      <td>2019-05-01</td>\n",
       "      <td>2019-10-01 00:00:00</td>\n",
       "      <td>Month-to-month</td>\n",
       "      <td>Yes</td>\n",
       "      <td>Mailed check</td>\n",
       "      <td>84.85</td>\n",
       "      <td>415.55</td>\n",
       "      <td>Fiber optic</td>\n",
       "      <td>No</td>\n",
       "      <td>No</td>\n",
       "      <td>Yes</td>\n",
       "      <td>No</td>\n",
       "      <td>Yes</td>\n",
       "      <td>No</td>\n",
       "      <td>Female</td>\n",
       "      <td>1</td>\n",
       "      <td>No</td>\n",
       "      <td>No</td>\n",
       "      <td>No</td>\n",
       "    </tr>\n",
       "    <tr>\n",
       "      <th>3130</th>\n",
       "      <td>0496-AHOOK</td>\n",
       "      <td>2018-02-01</td>\n",
       "      <td>No</td>\n",
       "      <td>One year</td>\n",
       "      <td>No</td>\n",
       "      <td>Bank transfer (automatic)</td>\n",
       "      <td>74.40</td>\n",
       "      <td>1712.9</td>\n",
       "      <td>DSL</td>\n",
       "      <td>Yes</td>\n",
       "      <td>No</td>\n",
       "      <td>No</td>\n",
       "      <td>Yes</td>\n",
       "      <td>Yes</td>\n",
       "      <td>Yes</td>\n",
       "      <td>Male</td>\n",
       "      <td>0</td>\n",
       "      <td>Yes</td>\n",
       "      <td>No</td>\n",
       "      <td>No</td>\n",
       "    </tr>\n",
       "    <tr>\n",
       "      <th>3873</th>\n",
       "      <td>7340-KEFQE</td>\n",
       "      <td>2015-11-01</td>\n",
       "      <td>No</td>\n",
       "      <td>Two year</td>\n",
       "      <td>No</td>\n",
       "      <td>Bank transfer (automatic)</td>\n",
       "      <td>34.20</td>\n",
       "      <td>1782</td>\n",
       "      <td>DSL</td>\n",
       "      <td>Yes</td>\n",
       "      <td>No</td>\n",
       "      <td>No</td>\n",
       "      <td>Yes</td>\n",
       "      <td>No</td>\n",
       "      <td>No</td>\n",
       "      <td>Female</td>\n",
       "      <td>0</td>\n",
       "      <td>Yes</td>\n",
       "      <td>Yes</td>\n",
       "      <td>No</td>\n",
       "    </tr>\n",
       "    <tr>\n",
       "      <th>3951</th>\n",
       "      <td>5915-ANOEI</td>\n",
       "      <td>2014-04-01</td>\n",
       "      <td>No</td>\n",
       "      <td>Two year</td>\n",
       "      <td>No</td>\n",
       "      <td>Mailed check</td>\n",
       "      <td>79.15</td>\n",
       "      <td>5536.5</td>\n",
       "      <td>DSL</td>\n",
       "      <td>Yes</td>\n",
       "      <td>Yes</td>\n",
       "      <td>Yes</td>\n",
       "      <td>Yes</td>\n",
       "      <td>Yes</td>\n",
       "      <td>No</td>\n",
       "      <td>Male</td>\n",
       "      <td>0</td>\n",
       "      <td>Yes</td>\n",
       "      <td>No</td>\n",
       "      <td>Yes</td>\n",
       "    </tr>\n",
       "    <tr>\n",
       "      <th>5090</th>\n",
       "      <td>6502-HCJTI</td>\n",
       "      <td>2019-03-01</td>\n",
       "      <td>2019-10-01 00:00:00</td>\n",
       "      <td>Month-to-month</td>\n",
       "      <td>Yes</td>\n",
       "      <td>Credit card (automatic)</td>\n",
       "      <td>94.70</td>\n",
       "      <td>673.1</td>\n",
       "      <td>Fiber optic</td>\n",
       "      <td>Yes</td>\n",
       "      <td>Yes</td>\n",
       "      <td>No</td>\n",
       "      <td>No</td>\n",
       "      <td>No</td>\n",
       "      <td>Yes</td>\n",
       "      <td>Male</td>\n",
       "      <td>1</td>\n",
       "      <td>Yes</td>\n",
       "      <td>No</td>\n",
       "      <td>Yes</td>\n",
       "    </tr>\n",
       "    <tr>\n",
       "      <th>3477</th>\n",
       "      <td>7801-KICAO</td>\n",
       "      <td>2018-08-01</td>\n",
       "      <td>No</td>\n",
       "      <td>Month-to-month</td>\n",
       "      <td>Yes</td>\n",
       "      <td>Electronic check</td>\n",
       "      <td>74.15</td>\n",
       "      <td>1345.75</td>\n",
       "      <td>Fiber optic</td>\n",
       "      <td>No</td>\n",
       "      <td>No</td>\n",
       "      <td>No</td>\n",
       "      <td>No</td>\n",
       "      <td>No</td>\n",
       "      <td>No</td>\n",
       "      <td>Female</td>\n",
       "      <td>0</td>\n",
       "      <td>No</td>\n",
       "      <td>No</td>\n",
       "      <td>Yes</td>\n",
       "    </tr>\n",
       "    <tr>\n",
       "      <th>1481</th>\n",
       "      <td>9242-TKFSV</td>\n",
       "      <td>2014-02-01</td>\n",
       "      <td>No</td>\n",
       "      <td>Two year</td>\n",
       "      <td>Yes</td>\n",
       "      <td>Credit card (automatic)</td>\n",
       "      <td>65.10</td>\n",
       "      <td>4754.3</td>\n",
       "      <td>DSL</td>\n",
       "      <td>Yes</td>\n",
       "      <td>Yes</td>\n",
       "      <td>Yes</td>\n",
       "      <td>Yes</td>\n",
       "      <td>Yes</td>\n",
       "      <td>Yes</td>\n",
       "      <td>Male</td>\n",
       "      <td>0</td>\n",
       "      <td>Yes</td>\n",
       "      <td>Yes</td>\n",
       "      <td>No</td>\n",
       "    </tr>\n",
       "    <tr>\n",
       "      <th>1126</th>\n",
       "      <td>0927-LCSMG</td>\n",
       "      <td>2019-06-01</td>\n",
       "      <td>2020-01-01 00:00:00</td>\n",
       "      <td>Month-to-month</td>\n",
       "      <td>No</td>\n",
       "      <td>Mailed check</td>\n",
       "      <td>74.65</td>\n",
       "      <td>544.55</td>\n",
       "      <td>Fiber optic</td>\n",
       "      <td>No</td>\n",
       "      <td>No</td>\n",
       "      <td>Yes</td>\n",
       "      <td>No</td>\n",
       "      <td>No</td>\n",
       "      <td>No</td>\n",
       "      <td>Male</td>\n",
       "      <td>0</td>\n",
       "      <td>No</td>\n",
       "      <td>No</td>\n",
       "      <td>No</td>\n",
       "    </tr>\n",
       "    <tr>\n",
       "      <th>4346</th>\n",
       "      <td>9351-LZYGF</td>\n",
       "      <td>2016-08-01</td>\n",
       "      <td>No</td>\n",
       "      <td>Month-to-month</td>\n",
       "      <td>Yes</td>\n",
       "      <td>Credit card (automatic)</td>\n",
       "      <td>66.40</td>\n",
       "      <td>2727.8</td>\n",
       "      <td>DSL</td>\n",
       "      <td>Yes</td>\n",
       "      <td>Yes</td>\n",
       "      <td>No</td>\n",
       "      <td>Yes</td>\n",
       "      <td>No</td>\n",
       "      <td>No</td>\n",
       "      <td>Female</td>\n",
       "      <td>0</td>\n",
       "      <td>Yes</td>\n",
       "      <td>No</td>\n",
       "      <td>Yes</td>\n",
       "    </tr>\n",
       "  </tbody>\n",
       "</table>\n",
       "</div>"
      ],
      "text/plain": [
       "      customerID   BeginDate              EndDate            Type  \\\n",
       "948   7028-DVOIQ  2017-02-01  2020-01-01 00:00:00  Month-to-month   \n",
       "5476  6060-DRTNL  2019-05-01  2019-10-01 00:00:00  Month-to-month   \n",
       "3130  0496-AHOOK  2018-02-01                   No        One year   \n",
       "3873  7340-KEFQE  2015-11-01                   No        Two year   \n",
       "3951  5915-ANOEI  2014-04-01                   No        Two year   \n",
       "5090  6502-HCJTI  2019-03-01  2019-10-01 00:00:00  Month-to-month   \n",
       "3477  7801-KICAO  2018-08-01                   No  Month-to-month   \n",
       "1481  9242-TKFSV  2014-02-01                   No        Two year   \n",
       "1126  0927-LCSMG  2019-06-01  2020-01-01 00:00:00  Month-to-month   \n",
       "4346  9351-LZYGF  2016-08-01                   No  Month-to-month   \n",
       "\n",
       "     PaperlessBilling              PaymentMethod  MonthlyCharges TotalCharges  \\\n",
       "948               Yes           Electronic check           99.05       3395.8   \n",
       "5476              Yes               Mailed check           84.85       415.55   \n",
       "3130               No  Bank transfer (automatic)           74.40       1712.9   \n",
       "3873               No  Bank transfer (automatic)           34.20         1782   \n",
       "3951               No               Mailed check           79.15       5536.5   \n",
       "5090              Yes    Credit card (automatic)           94.70        673.1   \n",
       "3477              Yes           Electronic check           74.15      1345.75   \n",
       "1481              Yes    Credit card (automatic)           65.10       4754.3   \n",
       "1126               No               Mailed check           74.65       544.55   \n",
       "4346              Yes    Credit card (automatic)           66.40       2727.8   \n",
       "\n",
       "     InternetService OnlineSecurity OnlineBackup DeviceProtection TechSupport  \\\n",
       "948      Fiber optic             No           No              Yes          No   \n",
       "5476     Fiber optic             No           No              Yes          No   \n",
       "3130             DSL            Yes           No               No         Yes   \n",
       "3873             DSL            Yes           No               No         Yes   \n",
       "3951             DSL            Yes          Yes              Yes         Yes   \n",
       "5090     Fiber optic            Yes          Yes               No          No   \n",
       "3477     Fiber optic             No           No               No          No   \n",
       "1481             DSL            Yes          Yes              Yes         Yes   \n",
       "1126     Fiber optic             No           No              Yes          No   \n",
       "4346             DSL            Yes          Yes               No         Yes   \n",
       "\n",
       "     StreamingTV StreamingMovies  gender  SeniorCitizen Partner Dependents  \\\n",
       "948          Yes             Yes    Male              1      No         No   \n",
       "5476         Yes              No  Female              1      No         No   \n",
       "3130         Yes             Yes    Male              0     Yes         No   \n",
       "3873          No              No  Female              0     Yes        Yes   \n",
       "3951         Yes              No    Male              0     Yes         No   \n",
       "5090          No             Yes    Male              1     Yes         No   \n",
       "3477          No              No  Female              0      No         No   \n",
       "1481         Yes             Yes    Male              0     Yes        Yes   \n",
       "1126          No              No    Male              0      No         No   \n",
       "4346          No              No  Female              0     Yes         No   \n",
       "\n",
       "     MultipleLines  \n",
       "948            Yes  \n",
       "5476            No  \n",
       "3130            No  \n",
       "3873            No  \n",
       "3951           Yes  \n",
       "5090           Yes  \n",
       "3477           Yes  \n",
       "1481            No  \n",
       "1126            No  \n",
       "4346           Yes  "
      ]
     },
     "execution_count": 8,
     "metadata": {},
     "output_type": "execute_result"
    }
   ],
   "source": [
    "# menggabungkan dataset\n",
    "merged_df = pd.merge(contract_data, internet_data, on=\"customerID\", how='left')\n",
    "merged_df1 = pd.merge(merged_df, personal_data, on=\"customerID\", how='left')\n",
    "merged_df2 = pd.merge(merged_df1, phone_data, on=\"customerID\", how='left')\n",
    "merged_df2 = merged_df2.fillna('No')\n",
    "merged_df2.sample(10)\n"
   ]
  },
  {
   "cell_type": "code",
   "execution_count": 9,
   "metadata": {},
   "outputs": [
    {
     "name": "stdout",
     "output_type": "stream",
     "text": [
      "<class 'pandas.core.frame.DataFrame'>\n",
      "Int64Index: 7043 entries, 0 to 7042\n",
      "Data columns (total 20 columns):\n",
      " #   Column            Non-Null Count  Dtype  \n",
      "---  ------            --------------  -----  \n",
      " 0   customerID        7043 non-null   object \n",
      " 1   BeginDate         7043 non-null   object \n",
      " 2   EndDate           7043 non-null   object \n",
      " 3   Type              7043 non-null   object \n",
      " 4   PaperlessBilling  7043 non-null   object \n",
      " 5   PaymentMethod     7043 non-null   object \n",
      " 6   MonthlyCharges    7043 non-null   float64\n",
      " 7   TotalCharges      7043 non-null   object \n",
      " 8   InternetService   7043 non-null   object \n",
      " 9   OnlineSecurity    7043 non-null   object \n",
      " 10  OnlineBackup      7043 non-null   object \n",
      " 11  DeviceProtection  7043 non-null   object \n",
      " 12  TechSupport       7043 non-null   object \n",
      " 13  StreamingTV       7043 non-null   object \n",
      " 14  StreamingMovies   7043 non-null   object \n",
      " 15  gender            7043 non-null   object \n",
      " 16  SeniorCitizen     7043 non-null   int64  \n",
      " 17  Partner           7043 non-null   object \n",
      " 18  Dependents        7043 non-null   object \n",
      " 19  MultipleLines     7043 non-null   object \n",
      "dtypes: float64(1), int64(1), object(18)\n",
      "memory usage: 1.1+ MB\n"
     ]
    }
   ],
   "source": [
    "# membuat salinan dataset\n",
    "telecom_df = merged_df2.copy()\n",
    "telecom_df.info()"
   ]
  },
  {
   "cell_type": "markdown",
   "metadata": {},
   "source": [
    "<div class=\"alert alert-success\">\n",
    "<b>Code Reviewers's comment v.1</b> <a class=\"tocSkip\"></a>\n",
    "\n",
    "Bagus, semua berjalan lancar.\n",
    "\n",
    "</div>"
   ]
  },
  {
   "cell_type": "markdown",
   "metadata": {},
   "source": [
    "### Mengganti Nama Kolom\n",
    "Langkah selanjutnya dalam pra-pemrosesan data akan menjadi mengganti nama kolom dalam dataset kita."
   ]
  },
  {
   "cell_type": "code",
   "execution_count": 10,
   "metadata": {},
   "outputs": [],
   "source": [
    "# mengganti nama kolom\n",
    "telecom_df = telecom_df.rename(columns={'customerID': 'customer_id', 'BeginDate': 'begin_date', 'EndDate': 'end_date', 'Type': 'type',\n",
    "       'PaperlessBilling': 'paperless_billing', 'PaymentMethod': 'payment_method', 'MonthlyCharges': 'monthly_charges', 'TotalCharges': 'total_charges',\n",
    "       'gender': 'gender', 'SeniorCitizen': 'senior_citizen', 'Partner': 'partner', 'Dependents': 'dependents', 'MultipleLines': 'multiple_lines',\n",
    "       'InternetService': 'internet_service', 'OnlineSecurity': 'online_security', 'OnlineBackup': 'online_backup', 'DeviceProtection': 'device_protection',\n",
    "       'TechSupport': 'tech_support', 'StreamingTV': 'streaming_tv', 'StreamingMovies': 'streaming_movies'})\n"
   ]
  },
  {
   "cell_type": "code",
   "execution_count": 11,
   "metadata": {},
   "outputs": [
    {
     "name": "stdout",
     "output_type": "stream",
     "text": [
      "Dataset yang telah diganti nama kolomnya\n",
      "<class 'pandas.core.frame.DataFrame'>\n",
      "Int64Index: 7043 entries, 0 to 7042\n",
      "Data columns (total 20 columns):\n",
      " #   Column             Non-Null Count  Dtype  \n",
      "---  ------             --------------  -----  \n",
      " 0   customer_id        7043 non-null   object \n",
      " 1   begin_date         7043 non-null   object \n",
      " 2   end_date           7043 non-null   object \n",
      " 3   type               7043 non-null   object \n",
      " 4   paperless_billing  7043 non-null   object \n",
      " 5   payment_method     7043 non-null   object \n",
      " 6   monthly_charges    7043 non-null   float64\n",
      " 7   total_charges      7043 non-null   object \n",
      " 8   internet_service   7043 non-null   object \n",
      " 9   online_security    7043 non-null   object \n",
      " 10  online_backup      7043 non-null   object \n",
      " 11  device_protection  7043 non-null   object \n",
      " 12  tech_support       7043 non-null   object \n",
      " 13  streaming_tv       7043 non-null   object \n",
      " 14  streaming_movies   7043 non-null   object \n",
      " 15  gender             7043 non-null   object \n",
      " 16  senior_citizen     7043 non-null   int64  \n",
      " 17  partner            7043 non-null   object \n",
      " 18  dependents         7043 non-null   object \n",
      " 19  multiple_lines     7043 non-null   object \n",
      "dtypes: float64(1), int64(1), object(18)\n",
      "memory usage: 1.1+ MB\n"
     ]
    }
   ],
   "source": [
    "# memeriksa nama kolom yang telah di ganti\n",
    "print('Dataset yang telah diganti nama kolomnya')\n",
    "telecom_df.info()"
   ]
  },
  {
   "cell_type": "markdown",
   "metadata": {},
   "source": [
    "Kita telah berhasil mengubah nama kolom sehingga nama kolom akan seragam, dengan menggunakan snake case untuk meningkatkan keterbacaan. Fungsi `rename()` dalam pandas digunakan untuk membuat perubahan ini."
   ]
  },
  {
   "cell_type": "markdown",
   "metadata": {},
   "source": [
    "<div class=\"alert alert-success\">\n",
    "<b>Code Reviewers's comment v.1</b> <a class=\"tocSkip\"></a>\n",
    "\n",
    "Bagus, semua berjalan lancar.\n",
    "\n",
    "</div>"
   ]
  },
  {
   "cell_type": "markdown",
   "metadata": {},
   "source": [
    "### Mengubah Tipe Data\n",
    "Selanjutnya, kita ubah tipe data ke format yang benar. Misalnya, `begin_date` dan `end_date` akan diubah menjadi Datetime,`monthly_charges` dan `total_charges` menjadi float32, `senior_citizen` menjadi tipe data int32."
   ]
  },
  {
   "cell_type": "code",
   "execution_count": 12,
   "metadata": {},
   "outputs": [],
   "source": [
    "# fungsi untuk mengubah data ke tipe yang benar\n",
    "def change_datatype(df, cols, type_val):\n",
    "    for col in cols:\n",
    "        df[col] = df[col].astype(type_val)\n",
    "\n",
    "# membuat fitur end_date baru\n",
    "list_value = []\n",
    "for value in telecom_df.end_date:\n",
    "    if value != 'No':\n",
    "        datetime_value = datetime.strptime(value, '%Y-%m-%d %H:%M:%S')\n",
    "        list_value.append(datetime_value)\n",
    "    else:\n",
    "        contract_valid_date = '2020-02-01 00:00:00' # tanggal kontrak masih berlaku\n",
    "        contract_valid_date_value = datetime.strptime(contract_valid_date, '%Y-%m-%d %H:%M:%S')\n",
    "        list_value.append(contract_valid_date_value)\n",
    "EndDate_value = pd.to_datetime(list_value)\n",
    "telecom_df.insert(3, 'end_date_value', EndDate_value)\n",
    "\n",
    "# menyiapkan TotalChargers \n",
    "telecom_df.loc[telecom_df['total_charges'].isin([' ']),'total_charges'] = 0\n",
    "\n",
    "# mengubah tipe data\n",
    "change_datatype(telecom_df, ['begin_date'], 'datetime64[ns]')\n",
    "change_datatype(telecom_df, ['monthly_charges', 'total_charges'], 'float32')\n",
    "change_datatype(telecom_df, ['senior_citizen'], 'int32')"
   ]
  },
  {
   "cell_type": "code",
   "execution_count": 13,
   "metadata": {},
   "outputs": [
    {
     "name": "stdout",
     "output_type": "stream",
     "text": [
      "<class 'pandas.core.frame.DataFrame'>\n",
      "Int64Index: 7043 entries, 0 to 7042\n",
      "Data columns (total 21 columns):\n",
      " #   Column             Non-Null Count  Dtype         \n",
      "---  ------             --------------  -----         \n",
      " 0   customer_id        7043 non-null   object        \n",
      " 1   begin_date         7043 non-null   datetime64[ns]\n",
      " 2   end_date           7043 non-null   object        \n",
      " 3   end_date_value     7043 non-null   datetime64[ns]\n",
      " 4   type               7043 non-null   object        \n",
      " 5   paperless_billing  7043 non-null   object        \n",
      " 6   payment_method     7043 non-null   object        \n",
      " 7   monthly_charges    7043 non-null   float32       \n",
      " 8   total_charges      7043 non-null   float32       \n",
      " 9   internet_service   7043 non-null   object        \n",
      " 10  online_security    7043 non-null   object        \n",
      " 11  online_backup      7043 non-null   object        \n",
      " 12  device_protection  7043 non-null   object        \n",
      " 13  tech_support       7043 non-null   object        \n",
      " 14  streaming_tv       7043 non-null   object        \n",
      " 15  streaming_movies   7043 non-null   object        \n",
      " 16  gender             7043 non-null   object        \n",
      " 17  senior_citizen     7043 non-null   int32         \n",
      " 18  partner            7043 non-null   object        \n",
      " 19  dependents         7043 non-null   object        \n",
      " 20  multiple_lines     7043 non-null   object        \n",
      "dtypes: datetime64[ns](2), float32(2), int32(1), object(16)\n",
      "memory usage: 1.1+ MB\n"
     ]
    }
   ],
   "source": [
    "# periksa informasi data\n",
    "telecom_df.info()"
   ]
  },
  {
   "cell_type": "markdown",
   "metadata": {},
   "source": [
    "Di sini, kita pertama-tama mendefinisikan fungsi change_datatype yang mengubah tipe data dari kolom tertentu di dataframe. Kemudian kita membuat fitur end_date baru dan mengubah beberapa kolom ke tipe data yang tepat. Misalnya, kita mengubah `begin_date` ke `datetime64[ns]`, `monthly_charges` dan `total_charges` menjadi `float32`, dan `senior_citizen` menjadi `int32`. Selain itu, kita juga mengganti nilai kosong pada `total_charges` dengan 0."
   ]
  },
  {
   "cell_type": "markdown",
   "metadata": {},
   "source": [
    "<div class=\"alert alert-success\">\n",
    "<b>Code Reviewers's comment v.1</b> <a class=\"tocSkip\"></a>\n",
    "\n",
    "Bagus, semua berjalan lancar.\n",
    "\n",
    "</div>"
   ]
  },
  {
   "cell_type": "markdown",
   "metadata": {},
   "source": [
    "### Rekayasa Fitur\n",
    "Di sini, kita akan membuat fitur baru seperti durasi layanan (tenure), target `end_date exited` yang ditunjukkan sebagai 0 untuk tidak ada penghentian layanan (churn) dan 1 untuk adanya penghentian layanan, `service_count` yang menunjukkan jumlah produk (atau layanan) yang saat ini digunakan oleh pelanggan, `has_crcard` yang menunjukkan bahwa pelanggan menggunakan kartu kredit untuk pembayaran, serta tahun, bulan, dan hari dalam seminggu dimana pelanggan mulai menggunakan layanan Interconnect."
   ]
  },
  {
   "cell_type": "code",
   "execution_count": 14,
   "metadata": {},
   "outputs": [],
   "source": [
    "# mengubah tipe tanggal menjadi datetime dan membaginya menjadi hari, bulan, dan tahun\n",
    "def new_date_features(df):\n",
    "    columns = df.columns.tolist()\n",
    "    idx = [columns.index(x) for x in columns if 'begin_date' in x][0]\n",
    "    \n",
    "    df[columns[idx]] = pd.to_datetime(df[columns[idx]])\n",
    "    df['dayofweek'] = df[columns[idx]].dt.day_name()\n",
    "    df['month'] = df[columns[idx]].dt.month_name()\n",
    "    df['year'] = df[columns[idx]].dt.year\n",
    "    return df;    "
   ]
  },
  {
   "cell_type": "code",
   "execution_count": 15,
   "metadata": {},
   "outputs": [],
   "source": [
    "# menambahkan fitur baru ke data\n",
    "new_date_features(telecom_df)\n",
    "telecom_df['tenure'] = telecom_df['end_date_value'].dt.year - telecom_df['begin_date'].dt.year\n",
    "telecom_df['has_crcard'] = [1 if x == 'Credit card (automatic)' else 0 for x in telecom_df['payment_method']]\n",
    "telecom_df['exited'] = [1 if x != 'No' else 0 for x in telecom_df['end_date']]\n",
    "telecom_df['service_count'] = [x.count('Yes') for x in zip(telecom_df['online_security'], telecom_df['online_backup'], telecom_df['device_protection'], \n",
    "                                                           telecom_df['tech_support'], telecom_df['streaming_tv'], telecom_df['streaming_movies'])]\n",
    "change_datatype(telecom_df, ['year', 'tenure', 'has_crcard', 'exited', 'service_count'], 'int32') # mengurangi penggunaan memori dengan mengubah tipe data\n"
   ]
  },
  {
   "cell_type": "code",
   "execution_count": 16,
   "metadata": {},
   "outputs": [
    {
     "data": {
      "text/html": [
       "<div>\n",
       "<style scoped>\n",
       "    .dataframe tbody tr th:only-of-type {\n",
       "        vertical-align: middle;\n",
       "    }\n",
       "\n",
       "    .dataframe tbody tr th {\n",
       "        vertical-align: top;\n",
       "    }\n",
       "\n",
       "    .dataframe thead th {\n",
       "        text-align: right;\n",
       "    }\n",
       "</style>\n",
       "<table border=\"1\" class=\"dataframe\">\n",
       "  <thead>\n",
       "    <tr style=\"text-align: right;\">\n",
       "      <th></th>\n",
       "      <th>customer_id</th>\n",
       "      <th>begin_date</th>\n",
       "      <th>end_date</th>\n",
       "      <th>end_date_value</th>\n",
       "      <th>type</th>\n",
       "      <th>paperless_billing</th>\n",
       "      <th>payment_method</th>\n",
       "      <th>monthly_charges</th>\n",
       "      <th>total_charges</th>\n",
       "      <th>internet_service</th>\n",
       "      <th>...</th>\n",
       "      <th>partner</th>\n",
       "      <th>dependents</th>\n",
       "      <th>multiple_lines</th>\n",
       "      <th>dayofweek</th>\n",
       "      <th>month</th>\n",
       "      <th>year</th>\n",
       "      <th>tenure</th>\n",
       "      <th>has_crcard</th>\n",
       "      <th>exited</th>\n",
       "      <th>service_count</th>\n",
       "    </tr>\n",
       "  </thead>\n",
       "  <tbody>\n",
       "    <tr>\n",
       "      <th>0</th>\n",
       "      <td>7590-VHVEG</td>\n",
       "      <td>2020-01-01</td>\n",
       "      <td>No</td>\n",
       "      <td>2020-02-01</td>\n",
       "      <td>Month-to-month</td>\n",
       "      <td>Yes</td>\n",
       "      <td>Electronic check</td>\n",
       "      <td>29.850000</td>\n",
       "      <td>29.850000</td>\n",
       "      <td>DSL</td>\n",
       "      <td>...</td>\n",
       "      <td>Yes</td>\n",
       "      <td>No</td>\n",
       "      <td>No</td>\n",
       "      <td>Wednesday</td>\n",
       "      <td>January</td>\n",
       "      <td>2020</td>\n",
       "      <td>0</td>\n",
       "      <td>0</td>\n",
       "      <td>0</td>\n",
       "      <td>1</td>\n",
       "    </tr>\n",
       "    <tr>\n",
       "      <th>1</th>\n",
       "      <td>5575-GNVDE</td>\n",
       "      <td>2017-04-01</td>\n",
       "      <td>No</td>\n",
       "      <td>2020-02-01</td>\n",
       "      <td>One year</td>\n",
       "      <td>No</td>\n",
       "      <td>Mailed check</td>\n",
       "      <td>56.950001</td>\n",
       "      <td>1889.500000</td>\n",
       "      <td>DSL</td>\n",
       "      <td>...</td>\n",
       "      <td>No</td>\n",
       "      <td>No</td>\n",
       "      <td>No</td>\n",
       "      <td>Saturday</td>\n",
       "      <td>April</td>\n",
       "      <td>2017</td>\n",
       "      <td>3</td>\n",
       "      <td>0</td>\n",
       "      <td>0</td>\n",
       "      <td>2</td>\n",
       "    </tr>\n",
       "    <tr>\n",
       "      <th>2</th>\n",
       "      <td>3668-QPYBK</td>\n",
       "      <td>2019-10-01</td>\n",
       "      <td>2019-12-01 00:00:00</td>\n",
       "      <td>2019-12-01</td>\n",
       "      <td>Month-to-month</td>\n",
       "      <td>Yes</td>\n",
       "      <td>Mailed check</td>\n",
       "      <td>53.849998</td>\n",
       "      <td>108.150002</td>\n",
       "      <td>DSL</td>\n",
       "      <td>...</td>\n",
       "      <td>No</td>\n",
       "      <td>No</td>\n",
       "      <td>No</td>\n",
       "      <td>Tuesday</td>\n",
       "      <td>October</td>\n",
       "      <td>2019</td>\n",
       "      <td>0</td>\n",
       "      <td>0</td>\n",
       "      <td>1</td>\n",
       "      <td>2</td>\n",
       "    </tr>\n",
       "    <tr>\n",
       "      <th>3</th>\n",
       "      <td>7795-CFOCW</td>\n",
       "      <td>2016-05-01</td>\n",
       "      <td>No</td>\n",
       "      <td>2020-02-01</td>\n",
       "      <td>One year</td>\n",
       "      <td>No</td>\n",
       "      <td>Bank transfer (automatic)</td>\n",
       "      <td>42.299999</td>\n",
       "      <td>1840.750000</td>\n",
       "      <td>DSL</td>\n",
       "      <td>...</td>\n",
       "      <td>No</td>\n",
       "      <td>No</td>\n",
       "      <td>No</td>\n",
       "      <td>Sunday</td>\n",
       "      <td>May</td>\n",
       "      <td>2016</td>\n",
       "      <td>4</td>\n",
       "      <td>0</td>\n",
       "      <td>0</td>\n",
       "      <td>3</td>\n",
       "    </tr>\n",
       "    <tr>\n",
       "      <th>4</th>\n",
       "      <td>9237-HQITU</td>\n",
       "      <td>2019-09-01</td>\n",
       "      <td>2019-11-01 00:00:00</td>\n",
       "      <td>2019-11-01</td>\n",
       "      <td>Month-to-month</td>\n",
       "      <td>Yes</td>\n",
       "      <td>Electronic check</td>\n",
       "      <td>70.699997</td>\n",
       "      <td>151.649994</td>\n",
       "      <td>Fiber optic</td>\n",
       "      <td>...</td>\n",
       "      <td>No</td>\n",
       "      <td>No</td>\n",
       "      <td>No</td>\n",
       "      <td>Sunday</td>\n",
       "      <td>September</td>\n",
       "      <td>2019</td>\n",
       "      <td>0</td>\n",
       "      <td>0</td>\n",
       "      <td>1</td>\n",
       "      <td>0</td>\n",
       "    </tr>\n",
       "    <tr>\n",
       "      <th>5</th>\n",
       "      <td>9305-CDSKC</td>\n",
       "      <td>2019-03-01</td>\n",
       "      <td>2019-11-01 00:00:00</td>\n",
       "      <td>2019-11-01</td>\n",
       "      <td>Month-to-month</td>\n",
       "      <td>Yes</td>\n",
       "      <td>Electronic check</td>\n",
       "      <td>99.650002</td>\n",
       "      <td>820.500000</td>\n",
       "      <td>Fiber optic</td>\n",
       "      <td>...</td>\n",
       "      <td>No</td>\n",
       "      <td>No</td>\n",
       "      <td>Yes</td>\n",
       "      <td>Friday</td>\n",
       "      <td>March</td>\n",
       "      <td>2019</td>\n",
       "      <td>0</td>\n",
       "      <td>0</td>\n",
       "      <td>1</td>\n",
       "      <td>3</td>\n",
       "    </tr>\n",
       "    <tr>\n",
       "      <th>6</th>\n",
       "      <td>1452-KIOVK</td>\n",
       "      <td>2018-04-01</td>\n",
       "      <td>No</td>\n",
       "      <td>2020-02-01</td>\n",
       "      <td>Month-to-month</td>\n",
       "      <td>Yes</td>\n",
       "      <td>Credit card (automatic)</td>\n",
       "      <td>89.099998</td>\n",
       "      <td>1949.400024</td>\n",
       "      <td>Fiber optic</td>\n",
       "      <td>...</td>\n",
       "      <td>No</td>\n",
       "      <td>Yes</td>\n",
       "      <td>Yes</td>\n",
       "      <td>Sunday</td>\n",
       "      <td>April</td>\n",
       "      <td>2018</td>\n",
       "      <td>2</td>\n",
       "      <td>1</td>\n",
       "      <td>0</td>\n",
       "      <td>2</td>\n",
       "    </tr>\n",
       "    <tr>\n",
       "      <th>7</th>\n",
       "      <td>6713-OKOMC</td>\n",
       "      <td>2019-04-01</td>\n",
       "      <td>No</td>\n",
       "      <td>2020-02-01</td>\n",
       "      <td>Month-to-month</td>\n",
       "      <td>No</td>\n",
       "      <td>Mailed check</td>\n",
       "      <td>29.750000</td>\n",
       "      <td>301.899994</td>\n",
       "      <td>DSL</td>\n",
       "      <td>...</td>\n",
       "      <td>No</td>\n",
       "      <td>No</td>\n",
       "      <td>No</td>\n",
       "      <td>Monday</td>\n",
       "      <td>April</td>\n",
       "      <td>2019</td>\n",
       "      <td>1</td>\n",
       "      <td>0</td>\n",
       "      <td>0</td>\n",
       "      <td>1</td>\n",
       "    </tr>\n",
       "    <tr>\n",
       "      <th>8</th>\n",
       "      <td>7892-POOKP</td>\n",
       "      <td>2017-07-01</td>\n",
       "      <td>2019-11-01 00:00:00</td>\n",
       "      <td>2019-11-01</td>\n",
       "      <td>Month-to-month</td>\n",
       "      <td>Yes</td>\n",
       "      <td>Electronic check</td>\n",
       "      <td>104.800003</td>\n",
       "      <td>3046.050049</td>\n",
       "      <td>Fiber optic</td>\n",
       "      <td>...</td>\n",
       "      <td>Yes</td>\n",
       "      <td>No</td>\n",
       "      <td>Yes</td>\n",
       "      <td>Saturday</td>\n",
       "      <td>July</td>\n",
       "      <td>2017</td>\n",
       "      <td>2</td>\n",
       "      <td>0</td>\n",
       "      <td>1</td>\n",
       "      <td>4</td>\n",
       "    </tr>\n",
       "    <tr>\n",
       "      <th>9</th>\n",
       "      <td>6388-TABGU</td>\n",
       "      <td>2014-12-01</td>\n",
       "      <td>No</td>\n",
       "      <td>2020-02-01</td>\n",
       "      <td>One year</td>\n",
       "      <td>No</td>\n",
       "      <td>Bank transfer (automatic)</td>\n",
       "      <td>56.150002</td>\n",
       "      <td>3487.949951</td>\n",
       "      <td>DSL</td>\n",
       "      <td>...</td>\n",
       "      <td>No</td>\n",
       "      <td>Yes</td>\n",
       "      <td>No</td>\n",
       "      <td>Monday</td>\n",
       "      <td>December</td>\n",
       "      <td>2014</td>\n",
       "      <td>6</td>\n",
       "      <td>0</td>\n",
       "      <td>0</td>\n",
       "      <td>2</td>\n",
       "    </tr>\n",
       "  </tbody>\n",
       "</table>\n",
       "<p>10 rows × 28 columns</p>\n",
       "</div>"
      ],
      "text/plain": [
       "  customer_id begin_date             end_date end_date_value            type  \\\n",
       "0  7590-VHVEG 2020-01-01                   No     2020-02-01  Month-to-month   \n",
       "1  5575-GNVDE 2017-04-01                   No     2020-02-01        One year   \n",
       "2  3668-QPYBK 2019-10-01  2019-12-01 00:00:00     2019-12-01  Month-to-month   \n",
       "3  7795-CFOCW 2016-05-01                   No     2020-02-01        One year   \n",
       "4  9237-HQITU 2019-09-01  2019-11-01 00:00:00     2019-11-01  Month-to-month   \n",
       "5  9305-CDSKC 2019-03-01  2019-11-01 00:00:00     2019-11-01  Month-to-month   \n",
       "6  1452-KIOVK 2018-04-01                   No     2020-02-01  Month-to-month   \n",
       "7  6713-OKOMC 2019-04-01                   No     2020-02-01  Month-to-month   \n",
       "8  7892-POOKP 2017-07-01  2019-11-01 00:00:00     2019-11-01  Month-to-month   \n",
       "9  6388-TABGU 2014-12-01                   No     2020-02-01        One year   \n",
       "\n",
       "  paperless_billing             payment_method  monthly_charges  \\\n",
       "0               Yes           Electronic check        29.850000   \n",
       "1                No               Mailed check        56.950001   \n",
       "2               Yes               Mailed check        53.849998   \n",
       "3                No  Bank transfer (automatic)        42.299999   \n",
       "4               Yes           Electronic check        70.699997   \n",
       "5               Yes           Electronic check        99.650002   \n",
       "6               Yes    Credit card (automatic)        89.099998   \n",
       "7                No               Mailed check        29.750000   \n",
       "8               Yes           Electronic check       104.800003   \n",
       "9                No  Bank transfer (automatic)        56.150002   \n",
       "\n",
       "   total_charges internet_service  ... partner dependents multiple_lines  \\\n",
       "0      29.850000              DSL  ...     Yes         No             No   \n",
       "1    1889.500000              DSL  ...      No         No             No   \n",
       "2     108.150002              DSL  ...      No         No             No   \n",
       "3    1840.750000              DSL  ...      No         No             No   \n",
       "4     151.649994      Fiber optic  ...      No         No             No   \n",
       "5     820.500000      Fiber optic  ...      No         No            Yes   \n",
       "6    1949.400024      Fiber optic  ...      No        Yes            Yes   \n",
       "7     301.899994              DSL  ...      No         No             No   \n",
       "8    3046.050049      Fiber optic  ...     Yes         No            Yes   \n",
       "9    3487.949951              DSL  ...      No        Yes             No   \n",
       "\n",
       "   dayofweek      month  year tenure  has_crcard exited service_count  \n",
       "0  Wednesday    January  2020      0           0      0             1  \n",
       "1   Saturday      April  2017      3           0      0             2  \n",
       "2    Tuesday    October  2019      0           0      1             2  \n",
       "3     Sunday        May  2016      4           0      0             3  \n",
       "4     Sunday  September  2019      0           0      1             0  \n",
       "5     Friday      March  2019      0           0      1             3  \n",
       "6     Sunday      April  2018      2           1      0             2  \n",
       "7     Monday      April  2019      1           0      0             1  \n",
       "8   Saturday       July  2017      2           0      1             4  \n",
       "9     Monday   December  2014      6           0      0             2  \n",
       "\n",
       "[10 rows x 28 columns]"
      ]
     },
     "execution_count": 16,
     "metadata": {},
     "output_type": "execute_result"
    }
   ],
   "source": [
    "# periksa dataframe\n",
    "telecom_df.head(10)"
   ]
  },
  {
   "cell_type": "markdown",
   "metadata": {},
   "source": [
    "Menggunakan list comprehension, kita telah berhasil membuat fitur baru yang relevan untuk dataset. Fitur-fitur yang dihasilkan seperti 'tenure', 'exited', 'service_count', 'has_crcard', 'year', 'month', dan 'dayofweek'.\n",
    "\n",
    "- 'Tenure' merujuk pada durasi waktu seorang pelanggan telah berlangganan layanan. Fitur ini penting karena pelanggan yang telah berlangganan lebih lama cenderung kurang mungkin berhenti berlangganan (churn).\n",
    "- 'Exited' adalah fitur target yang menunjukkan apakah pelanggan berhenti berlangganan atau tidak.\n",
    "- 'Service_count' adalah jumlah layanan yang diambil pelanggan. Ini bisa memberi kita wawasan tentang seberapa besar keterlibatan pelanggan dengan layanan yang kita tawarkan.\n",
    "- 'Has_crcard' mengindikasikan apakah pelanggan menggunakan kartu kredit untuk pembayaran atau tidak.\n",
    "- 'Year', 'month', dan 'dayofweek' adalah fitur yang dihasilkan dari tanggal dan dapat memberikan wawasan tambahan tentang pola pelanggan dalam berlangganan layanan.\n",
    "\n",
    "Semua fitur ini akan membantu model pembelajaran mesin kita untuk menghindari bias saat membangun model. Kita juga tidak ingin memiliki terlalu banyak fitur untuk menghindari variansi tinggi. Variansi tinggi biasanya terjadi ketika model terlalu kompleks dan berisiko overfitting, yaitu ketika model belajar terlalu detail dari data pelatihan dan tidak mampu memberikan kinerja yang baik pada data yang belum pernah dilihat sebelumnya."
   ]
  },
  {
   "cell_type": "markdown",
   "metadata": {},
   "source": [
    "<div class=\"alert alert-success\">\n",
    "<b>Code Reviewers's comment v.1</b> <a class=\"tocSkip\"></a>\n",
    "\n",
    "Bagus, semua berjalan lancar.\n",
    "\n",
    "</div>"
   ]
  },
  {
   "cell_type": "markdown",
   "metadata": {},
   "source": [
    "<a id='section3'></a>\n",
    "## Analisis Data Eksploratif\n",
    "Dalam mengeksplorasi data, kita akan mengajukan berbagai pertanyaan yang memerlukan jawaban untuk mengungkap atau memahami data."
   ]
  },
  {
   "cell_type": "markdown",
   "metadata": {},
   "source": [
    "### Memeriksa korelasi dalam data"
   ]
  },
  {
   "cell_type": "code",
   "execution_count": 17,
   "metadata": {},
   "outputs": [
    {
     "data": {
      "text/html": [
       "<div>\n",
       "<style scoped>\n",
       "    .dataframe tbody tr th:only-of-type {\n",
       "        vertical-align: middle;\n",
       "    }\n",
       "\n",
       "    .dataframe tbody tr th {\n",
       "        vertical-align: top;\n",
       "    }\n",
       "\n",
       "    .dataframe thead th {\n",
       "        text-align: right;\n",
       "    }\n",
       "</style>\n",
       "<table border=\"1\" class=\"dataframe\">\n",
       "  <thead>\n",
       "    <tr style=\"text-align: right;\">\n",
       "      <th></th>\n",
       "      <th>monthly_charges</th>\n",
       "      <th>total_charges</th>\n",
       "      <th>senior_citizen</th>\n",
       "      <th>year</th>\n",
       "      <th>tenure</th>\n",
       "      <th>has_crcard</th>\n",
       "      <th>exited</th>\n",
       "      <th>service_count</th>\n",
       "    </tr>\n",
       "  </thead>\n",
       "  <tbody>\n",
       "    <tr>\n",
       "      <th>monthly_charges</th>\n",
       "      <td>1.000000</td>\n",
       "      <td>0.651174</td>\n",
       "      <td>0.220173</td>\n",
       "      <td>-0.264251</td>\n",
       "      <td>0.215257</td>\n",
       "      <td>0.030550</td>\n",
       "      <td>0.193356</td>\n",
       "      <td>0.724706</td>\n",
       "    </tr>\n",
       "    <tr>\n",
       "      <th>total_charges</th>\n",
       "      <td>0.651174</td>\n",
       "      <td>1.000000</td>\n",
       "      <td>0.103006</td>\n",
       "      <td>-0.819539</td>\n",
       "      <td>0.799383</td>\n",
       "      <td>0.182915</td>\n",
       "      <td>-0.198324</td>\n",
       "      <td>0.744827</td>\n",
       "    </tr>\n",
       "    <tr>\n",
       "      <th>senior_citizen</th>\n",
       "      <td>0.220173</td>\n",
       "      <td>0.103006</td>\n",
       "      <td>1.000000</td>\n",
       "      <td>-0.028418</td>\n",
       "      <td>0.004369</td>\n",
       "      <td>-0.024135</td>\n",
       "      <td>0.150889</td>\n",
       "      <td>0.067493</td>\n",
       "    </tr>\n",
       "    <tr>\n",
       "      <th>year</th>\n",
       "      <td>-0.264251</td>\n",
       "      <td>-0.819539</td>\n",
       "      <td>-0.028418</td>\n",
       "      <td>1.000000</td>\n",
       "      <td>-0.982735</td>\n",
       "      <td>-0.225887</td>\n",
       "      <td>0.291621</td>\n",
       "      <td>-0.490509</td>\n",
       "    </tr>\n",
       "    <tr>\n",
       "      <th>tenure</th>\n",
       "      <td>0.215257</td>\n",
       "      <td>0.799383</td>\n",
       "      <td>0.004369</td>\n",
       "      <td>-0.982735</td>\n",
       "      <td>1.000000</td>\n",
       "      <td>0.232277</td>\n",
       "      <td>-0.431905</td>\n",
       "      <td>0.472490</td>\n",
       "    </tr>\n",
       "    <tr>\n",
       "      <th>has_crcard</th>\n",
       "      <td>0.030550</td>\n",
       "      <td>0.182915</td>\n",
       "      <td>-0.024135</td>\n",
       "      <td>-0.225887</td>\n",
       "      <td>0.232277</td>\n",
       "      <td>1.000000</td>\n",
       "      <td>-0.134302</td>\n",
       "      <td>0.132626</td>\n",
       "    </tr>\n",
       "    <tr>\n",
       "      <th>exited</th>\n",
       "      <td>0.193356</td>\n",
       "      <td>-0.198324</td>\n",
       "      <td>0.150889</td>\n",
       "      <td>0.291621</td>\n",
       "      <td>-0.431905</td>\n",
       "      <td>-0.134302</td>\n",
       "      <td>1.000000</td>\n",
       "      <td>-0.087698</td>\n",
       "    </tr>\n",
       "    <tr>\n",
       "      <th>service_count</th>\n",
       "      <td>0.724706</td>\n",
       "      <td>0.744827</td>\n",
       "      <td>0.067493</td>\n",
       "      <td>-0.490509</td>\n",
       "      <td>0.472490</td>\n",
       "      <td>0.132626</td>\n",
       "      <td>-0.087698</td>\n",
       "      <td>1.000000</td>\n",
       "    </tr>\n",
       "  </tbody>\n",
       "</table>\n",
       "</div>"
      ],
      "text/plain": [
       "                 monthly_charges  total_charges  senior_citizen      year  \\\n",
       "monthly_charges         1.000000       0.651174        0.220173 -0.264251   \n",
       "total_charges           0.651174       1.000000        0.103006 -0.819539   \n",
       "senior_citizen          0.220173       0.103006        1.000000 -0.028418   \n",
       "year                   -0.264251      -0.819539       -0.028418  1.000000   \n",
       "tenure                  0.215257       0.799383        0.004369 -0.982735   \n",
       "has_crcard              0.030550       0.182915       -0.024135 -0.225887   \n",
       "exited                  0.193356      -0.198324        0.150889  0.291621   \n",
       "service_count           0.724706       0.744827        0.067493 -0.490509   \n",
       "\n",
       "                   tenure  has_crcard    exited  service_count  \n",
       "monthly_charges  0.215257    0.030550  0.193356       0.724706  \n",
       "total_charges    0.799383    0.182915 -0.198324       0.744827  \n",
       "senior_citizen   0.004369   -0.024135  0.150889       0.067493  \n",
       "year            -0.982735   -0.225887  0.291621      -0.490509  \n",
       "tenure           1.000000    0.232277 -0.431905       0.472490  \n",
       "has_crcard       0.232277    1.000000 -0.134302       0.132626  \n",
       "exited          -0.431905   -0.134302  1.000000      -0.087698  \n",
       "service_count    0.472490    0.132626 -0.087698       1.000000  "
      ]
     },
     "execution_count": 17,
     "metadata": {},
     "output_type": "execute_result"
    }
   ],
   "source": [
    "# Mencari korelasi antar kolom dalam data\n",
    "correlation_matrix = telecom_df.corr()\n",
    "\n",
    "# Menampilkan matriks korelasi\n",
    "correlation_matrix"
   ]
  },
  {
   "cell_type": "code",
   "execution_count": 18,
   "metadata": {
    "scrolled": false
   },
   "outputs": [
    {
     "data": {
      "image/png": "[encoded data removed]",
      "text/plain": [
       "<Figure size 576x432 with 2 Axes>"
      ]
     },
     "metadata": {
      "needs_background": "light"
     },
     "output_type": "display_data"
    }
   ],
   "source": [
    "# Membuat figure dengan ukuran tertentu\n",
    "plt.figure(figsize=(8, 6))\n",
    "\n",
    "# Menghitung matriks korelasi\n",
    "corrMatrix = telecom_df.corr()\n",
    "\n",
    "# Membuat heatmap dari matriks korelasi\n",
    "sns.heatmap(corrMatrix, annot=True, cmap='coolwarm')\n",
    "\n",
    "# Menambahkan judul untuk plot\n",
    "plt.title('Plot Matriks Korelasi untuk beberapa fitur')\n",
    "\n",
    "# Menampilkan plot\n",
    "plt.show();"
   ]
  },
  {
   "cell_type": "markdown",
   "metadata": {},
   "source": [
    "Dari plot matriks korelasi, kita bisa melihat hubungan antara beberapa fitur:\n",
    "\n",
    "1. Ada korelasi positif yang kuat antara `monthly_charges` dan `service_count`. Ini berarti bahwa semakin banyak layanan yang digunakan oleh pelanggan, semakin besar biaya bulanan mereka. Ini masuk akal karena lebih banyak layanan biasanya berarti lebih banyak biaya.\n",
    "\n",
    "2. Ada korelasi positif yang kuat antara `tenure` (lama berlangganan) dan `total_charges` (total biaya). Ini berarti bahwa pelanggan yang telah berlangganan lebih lama cenderung telah membayar lebih banyak biaya.\n",
    "\n",
    "3. Ada korelasi negatif yang kuat antara `tenure` dan `exited` (berhenti berlangganan). Ini berarti bahwa pelanggan yang telah berlangganan lebih lama cenderung kurang mungkin untuk berhenti berlangganan. \n",
    "\n",
    "4. Ada korelasi negatif yang kuat antara `year` (tahun berlangganan) dan `total_charges`. Ini berarti bahwa pelanggan yang telah berlangganan lebih lama cenderung membayar biaya yang lebih rendah. \n",
    "\n",
    "\n",
    "Namun mari kita analisis lebih dalam mengenai keterkaitan fitur lebih lanjut."
   ]
  },
  {
   "cell_type": "markdown",
   "metadata": {},
   "source": [
    "<div class=\"alert alert-success\">\n",
    "<b>Code Reviewers's comment v.1</b> <a class=\"tocSkip\"></a>\n",
    "\n",
    "Bagus, semua berjalan lancar.\n",
    "\n",
    "</div>"
   ]
  },
  {
   "cell_type": "markdown",
   "metadata": {},
   "source": [
    "###  Bagaimana perbandingan distribusi pembayaran bulanan (MonthlyCharges) antara semua klien aktif dengan klien yang telah berhenti? "
   ]
  },
  {
   "cell_type": "code",
   "execution_count": 19,
   "metadata": {},
   "outputs": [
    {
     "name": "stdout",
     "output_type": "stream",
     "text": [
      "Active Customers:\n",
      " count    5174.000000\n",
      "mean       61.265125\n",
      "std        31.092648\n",
      "min        18.250000\n",
      "25%        25.100000\n",
      "50%        64.424999\n",
      "75%        88.400002\n",
      "max       118.750000\n",
      "Name: monthly_charges, dtype: float64\n",
      "\n",
      "Exited Customers:\n",
      " count    1869.000000\n",
      "mean       74.441330\n",
      "std        24.666054\n",
      "min        18.850000\n",
      "25%        56.150002\n",
      "50%        79.650002\n",
      "75%        94.199997\n",
      "max       118.349998\n",
      "Name: monthly_charges, dtype: float64\n"
     ]
    },
    {
     "data": {
      "image/png": "[encoded data removed]",
      "text/plain": [
       "<Figure size 864x432 with 1 Axes>"
      ]
     },
     "metadata": {
      "needs_background": "light"
     },
     "output_type": "display_data"
    }
   ],
   "source": [
    "# Membagi data menjadi dua grup\n",
    "active_customers = telecom_df[telecom_df['exited'] == 0]['monthly_charges']\n",
    "exited_customers = telecom_df[telecom_df['exited'] == 1]['monthly_charges']\n",
    "\n",
    "# Menghitung statistik yang dibutuhkan\n",
    "statistics_active = active_customers.describe(percentiles=[.25, .5, .75])\n",
    "statistics_exited = exited_customers.describe(percentiles=[.25, .5, .75])\n",
    "\n",
    "# Mencetak hasil statistik\n",
    "print(\"Active Customers:\\n\", statistics_active)\n",
    "print(\"\\nExited Customers:\\n\", statistics_exited)\n",
    "\n",
    "# Membuat histogram distribusi\n",
    "plt.figure(figsize=(12,6))\n",
    "\n",
    "plt.hist(active_customers, bins=20, alpha=0.5, label='Active Customers')\n",
    "plt.hist(exited_customers, bins=20, alpha=0.5, label='Exited Customers')\n",
    "\n",
    "plt.title('Distribusi Biaya Bulanan Pelanggan Aktif dan yang Berhenti')\n",
    "plt.xlabel('Biaya Bulanan')\n",
    "plt.ylabel('Frekuensi')\n",
    "plt.legend(loc='upper right')\n",
    "\n",
    "plt.show()\n"
   ]
  },
  {
   "cell_type": "markdown",
   "metadata": {},
   "source": [
    "Dari analisis statistik dan histogram distribusi biaya bulanan (*monthly charges*), kita dapat menarik beberapa kesimpulan:\n",
    "\n",
    "1. Rata-rata biaya bulanan pelanggan yang masih aktif adalah sekitar 61.27, sedangkan pelanggan yang telah berhenti memiliki rata-rata biaya bulanan sekitar 74.44. Ini menunjukkan bahwa pelanggan yang membayar lebih banyak setiap bulan cenderung berhenti lebih banyak daripada mereka yang membayar lebih sedikit.\n",
    "\n",
    "2. Pelanggan yang masih aktif memiliki variasi biaya bulanan yang lebih besar dibandingkan dengan pelanggan yang telah berhenti. Hal ini ditunjukkan oleh nilai standar deviasi untuk masing-masing kelompok.\n",
    "\n",
    "3. Pelanggan yang masih aktif memiliki rentang biaya bulanan yang lebih luas dibandingkan dengan pelanggan yang telah berhenti. Nilai minimum dan maksimum untuk kedua kelompok menunjukkan ini.\n",
    "\n",
    "4. Untuk pelanggan yang masih aktif, 25% dari mereka membayar 25.10 atau kurang setiap bulan, dan 75% membayar 88.40 atau kurang. Di sisi lain, untuk pelanggan yang telah berhenti, 25% dari mereka membayar 56.15 atau kurang setiap bulan, dan 75% membayar 94.20 atau kurang. \n",
    "\n",
    "Dari sini, kita dapat melihat bahwa pelanggan yang berhenti umumnya membayar lebih banyak setiap bulan dibandingkan dengan pelanggan yang masih aktif. Hal ini dapat menunjukkan bahwa harga mungkin merupakan faktor penentu dalam keputusan pelanggan untuk berhenti. Mungkin mereka merasa bahwa mereka tidak mendapatkan nilai yang cukup untuk biaya yang mereka bayar. Ini adalah sesuatu yang perusahaan mungkin ingin investigasi lebih lanjut untuk strategi retensi pelanggan mereka."
   ]
  },
  {
   "cell_type": "markdown",
   "metadata": {},
   "source": [
    "<div class=\"alert alert-success\">\n",
    "<b>Code Reviewers's comment v.1</b> <a class=\"tocSkip\"></a>\n",
    "\n",
    "Bagus, semua berjalan lancar.\n",
    "\n",
    "</div>"
   ]
  },
  {
   "cell_type": "markdown",
   "metadata": {},
   "source": [
    "### Bagaimana perilaku pengguna layanan telepon dan internet antara pelanggan yang masih aktif dan yang telah berhenti berlangganan?"
   ]
  },
  {
   "cell_type": "code",
   "execution_count": 20,
   "metadata": {},
   "outputs": [],
   "source": [
    "# Mendefinisikan pengguna telepon dan internet\n",
    "telecom_df['telephone_user'] = np.where(telecom_df['multiple_lines'] == 'Yes', 1, 0)\n",
    "telecom_df['internet_user'] = np.where(telecom_df['internet_service'] != 'No', 1, 0)\n",
    "\n",
    "# Membagi data menjadi dua grup\n",
    "active_customers = telecom_df[telecom_df['exited'] == 0]\n",
    "exited_customers = telecom_df[telecom_df['exited'] == 1]\n",
    "\n",
    "# Menghitung bagian pengguna telepon di kedua grup\n",
    "telephone_user_share_active = active_customers['telephone_user'].mean()\n",
    "telephone_user_share_exited = exited_customers['telephone_user'].mean()\n",
    "\n",
    "# Menghitung bagian pengguna internet di kedua grup\n",
    "internet_user_share_active = active_customers['internet_user'].mean()\n",
    "internet_user_share_exited = exited_customers['internet_user'].mean()"
   ]
  },
  {
   "cell_type": "code",
   "execution_count": 21,
   "metadata": {},
   "outputs": [
    {
     "data": {
      "image/png": "[encoded data removed]",
      "text/plain": [
       "<Figure size 576x360 with 1 Axes>"
      ]
     },
     "metadata": {
      "needs_background": "light"
     },
     "output_type": "display_data"
    },
    {
     "data": {
      "image/png": "[encoded data removed]",
      "text/plain": [
       "<Figure size 576x360 with 1 Axes>"
      ]
     },
     "metadata": {
      "needs_background": "light"
     },
     "output_type": "display_data"
    }
   ],
   "source": [
    "# Plotting\n",
    "\n",
    "# Pengguna Telepon\n",
    "plt.figure(figsize=(8, 5))\n",
    "bars = plt.bar(['Active', 'Exited'], [telephone_user_share_active, telephone_user_share_exited], color=['b','r'])\n",
    "plt.title('Pengguna Telepon')\n",
    "plt.xlabel('Status Pelanggan')\n",
    "plt.ylabel('Jumlah')\n",
    "\n",
    "# Menambahkan angka\n",
    "for bar in bars:\n",
    "    yval = bar.get_height()\n",
    "    plt.text(bar.get_x() + bar.get_width()/2, yval + 0.01, round(yval, 2), ha='center', va='bottom')\n",
    "\n",
    "plt.show()\n",
    "\n",
    "# Pengguna Internet\n",
    "plt.figure(figsize=(8, 5))\n",
    "bars = plt.bar(['Active', 'Exited'], [internet_user_share_active, internet_user_share_exited], color=['b','r'])\n",
    "plt.title('Pengguna Internet')\n",
    "plt.xlabel('Status Pelanggan')\n",
    "plt.ylabel('Jumlah')\n",
    "\n",
    "# Menambahkan angka\n",
    "for bar in bars:\n",
    "    yval = bar.get_height()\n",
    "    plt.text(bar.get_x() + bar.get_width()/2, yval + 0.01, round(yval, 2), ha='center', va='bottom')\n",
    "\n",
    "plt.show()"
   ]
  },
  {
   "cell_type": "markdown",
   "metadata": {},
   "source": [
    "Berdasarkan analisis yang telah dilakukan, dapat disimpulkan sebagai berikut:\n",
    "\n",
    "1. Pengguna Telepon: \n",
    "    - Dari pelanggan yang masih aktif, sekitar 41% adalah pengguna telepon.\n",
    "    - Sementara itu, dari pelanggan yang telah berhenti, sekitar 45% adalah pengguna telepon.\n",
    "    \n",
    "    Meskipun perbedaannya tidak signifikan, ini menunjukkan bahwa pelanggan yang berhenti cenderung lebih sering menggunakan layanan telepon.\n",
    "\n",
    "2. Pengguna Internet: \n",
    "    - Dari pelanggan yang masih aktif, sekitar 73% adalah pengguna internet.\n",
    "    - Sementara itu, dari pelanggan yang telah berhenti, sekitar 94% adalah pengguna internet.\n",
    "    \n",
    "    Ini menunjukkan bahwa pelanggan yang berhenti memiliki kecenderungan yang jauh lebih besar untuk menggunakan layanan internet dibandingkan dengan pelanggan yang masih aktif. \n",
    "\n",
    "Sebagai langkah penanganan, perusahaan bisa melakukan evaluasi lebih lanjut terkait layanan telepon dan internet yang disediakan. Misalnya, mencari tahu apa masalah yang paling sering dihadapi oleh pengguna layanan tersebut atau apakah ada fitur tertentu yang membuat mereka tidak puas. Dengan begitu, perusahaan bisa mengambil langkah-langkah konkret untuk meningkatkan kualitas layanan dan mencegah lebih banyak pelanggan untuk berhenti."
   ]
  },
  {
   "cell_type": "markdown",
   "metadata": {},
   "source": [
    "<div class=\"alert alert-success\">\n",
    "<b>Code Reviewers's comment v.1</b> <a class=\"tocSkip\"></a>\n",
    "\n",
    "Bagus, semua berjalan lancar.\n",
    "\n",
    "</div>"
   ]
  },
  {
   "cell_type": "markdown",
   "metadata": {},
   "source": [
    "### Jenis pembayaran apa dan metode pembayaran apa yang unik untuk pelanggan Interconnect?"
   ]
  },
  {
   "cell_type": "code",
   "execution_count": 22,
   "metadata": {},
   "outputs": [
    {
     "data": {
      "text/html": [
       "<div>\n",
       "<style scoped>\n",
       "    .dataframe tbody tr th:only-of-type {\n",
       "        vertical-align: middle;\n",
       "    }\n",
       "\n",
       "    .dataframe tbody tr th {\n",
       "        vertical-align: top;\n",
       "    }\n",
       "\n",
       "    .dataframe thead th {\n",
       "        text-align: right;\n",
       "    }\n",
       "</style>\n",
       "<table border=\"1\" class=\"dataframe\">\n",
       "  <thead>\n",
       "    <tr style=\"text-align: right;\">\n",
       "      <th></th>\n",
       "      <th>type</th>\n",
       "      <th>unique count</th>\n",
       "      <th>percentage split (%)</th>\n",
       "    </tr>\n",
       "  </thead>\n",
       "  <tbody>\n",
       "    <tr>\n",
       "      <th>0</th>\n",
       "      <td>Month-to-month</td>\n",
       "      <td>3875</td>\n",
       "      <td>55.02</td>\n",
       "    </tr>\n",
       "    <tr>\n",
       "      <th>1</th>\n",
       "      <td>Two year</td>\n",
       "      <td>1695</td>\n",
       "      <td>24.07</td>\n",
       "    </tr>\n",
       "    <tr>\n",
       "      <th>2</th>\n",
       "      <td>One year</td>\n",
       "      <td>1473</td>\n",
       "      <td>20.91</td>\n",
       "    </tr>\n",
       "  </tbody>\n",
       "</table>\n",
       "</div>"
      ],
      "text/plain": [
       "             type  unique count percentage split (%)\n",
       "0  Month-to-month          3875                55.02\n",
       "1        Two year          1695                24.07\n",
       "2        One year          1473                20.91"
      ]
     },
     "execution_count": 22,
     "metadata": {},
     "output_type": "execute_result"
    }
   ],
   "source": [
    "unique_payment_type_count = (telecom_df['type'].value_counts() / telecom_df['type'].value_counts().sum() * 100).tolist()   \n",
    "\n",
    "# jenis pembayaran unik\n",
    "unique_payment_type = telecom_df['type'].value_counts().reset_index().rename(columns={'index': 'type', 'type': 'unique count'})\n",
    "unique_payment_type['percentage split (%)'] = ['{:.2f}'.format(x) for x in unique_payment_type_count]\n",
    "unique_payment_type\n"
   ]
  },
  {
   "cell_type": "code",
   "execution_count": 23,
   "metadata": {},
   "outputs": [
    {
     "data": {
      "image/png": "[encoded data removed]",
      "text/plain": [
       "<Figure size 720x432 with 1 Axes>"
      ]
     },
     "metadata": {
      "needs_background": "light"
     },
     "output_type": "display_data"
    }
   ],
   "source": [
    "# Mengubah 'percentage split (%)' menjadi float\n",
    "unique_payment_type['percentage split (%)'] = unique_payment_type['percentage split (%)'].astype(float)\n",
    "\n",
    "plt.figure(figsize=(10,6))\n",
    "bar = sns.barplot(x='type', y='unique count', data=unique_payment_type)\n",
    "plt.title('Distribusi Jenis Pembayaran')\n",
    "plt.xlabel('Jenis Pembayaran')\n",
    "plt.ylabel('Jumlah')\n",
    "\n",
    "# Menambahkan label nilai dan persentase pada setiap bar\n",
    "for idx, p in enumerate(bar.patches):\n",
    "    bar.annotate('{} ({:.2f}%)'.format(unique_payment_type['unique count'][idx], unique_payment_type['percentage split (%)'][idx]), \n",
    "                   (p.get_x() + p.get_width() / 2., p.get_height()), \n",
    "                   ha = 'center', \n",
    "                   va = 'center', \n",
    "                   xytext = (0, 9), \n",
    "                   textcoords = 'offset points')\n",
    "\n",
    "plt.show()"
   ]
  },
  {
   "cell_type": "markdown",
   "metadata": {},
   "source": [
    "Kesimpulan:\n",
    "\n",
    "Berdasarkan data yang ditampilkan, sebagian besar pelanggan Interconnect (55.02%) lebih memilih untuk melakukan pembayaran dari bulan ke bulan. Sebaliknya, hanya sebagian kecil dari pelanggan yang memilih untuk melakukan pembayaran dalam jangka waktu dua tahun (24.07%) atau satu tahun (20.91%).\n",
    "\n",
    "Saran:\n",
    "\n",
    "Mengingat mayoritas pelanggan lebih memilih untuk melakukan pembayaran dari bulan ke bulan, Interconnect mungkin perlu melihat lebih dekat ke dalam model penagihan ini. Misalnya, mungkin ada peluang untuk memberikan insentif atau penawaran khusus kepada pelanggan yang memilih untuk melakukan pembayaran bulanan. Ini bisa dalam bentuk diskon, penawaran khusus, atau manfaat lain yang mungkin menarik bagi pelanggan.\n",
    "\n",
    "Sebaliknya, untuk pelanggan yang memilih untuk melakukan pembayaran dalam jangka waktu satu atau dua tahun, Interconnect mungkin perlu mencari cara untuk membuat opsi ini lebih menarik. Ini bisa berarti memberikan lebih banyak insentif untuk memilih opsi ini, atau mungkin memberikan informasi yang lebih baik tentang manfaat melakukan pembayaran dalam jangka panjang.\n",
    "\n",
    "Secara keseluruhan, tujuannya adalah untuk meningkatkan kepuasan pelanggan dan retensi, sambil juga berusaha untuk meningkatkan pendapatan dari pembayaran pelanggan."
   ]
  },
  {
   "cell_type": "code",
   "execution_count": 24,
   "metadata": {},
   "outputs": [
    {
     "data": {
      "text/html": [
       "<div>\n",
       "<style scoped>\n",
       "    .dataframe tbody tr th:only-of-type {\n",
       "        vertical-align: middle;\n",
       "    }\n",
       "\n",
       "    .dataframe tbody tr th {\n",
       "        vertical-align: top;\n",
       "    }\n",
       "\n",
       "    .dataframe thead th {\n",
       "        text-align: right;\n",
       "    }\n",
       "</style>\n",
       "<table border=\"1\" class=\"dataframe\">\n",
       "  <thead>\n",
       "    <tr style=\"text-align: right;\">\n",
       "      <th></th>\n",
       "      <th>payment method</th>\n",
       "      <th>count</th>\n",
       "      <th>% payment split</th>\n",
       "    </tr>\n",
       "  </thead>\n",
       "  <tbody>\n",
       "    <tr>\n",
       "      <th>0</th>\n",
       "      <td>Electronic check</td>\n",
       "      <td>2365</td>\n",
       "      <td>33.58</td>\n",
       "    </tr>\n",
       "    <tr>\n",
       "      <th>1</th>\n",
       "      <td>Mailed check</td>\n",
       "      <td>1612</td>\n",
       "      <td>22.89</td>\n",
       "    </tr>\n",
       "    <tr>\n",
       "      <th>2</th>\n",
       "      <td>Bank transfer (automatic)</td>\n",
       "      <td>1544</td>\n",
       "      <td>21.92</td>\n",
       "    </tr>\n",
       "    <tr>\n",
       "      <th>3</th>\n",
       "      <td>Credit card (automatic)</td>\n",
       "      <td>1522</td>\n",
       "      <td>21.61</td>\n",
       "    </tr>\n",
       "  </tbody>\n",
       "</table>\n",
       "</div>"
      ],
      "text/plain": [
       "              payment method  count % payment split\n",
       "0           Electronic check   2365           33.58\n",
       "1               Mailed check   1612           22.89\n",
       "2  Bank transfer (automatic)   1544           21.92\n",
       "3    Credit card (automatic)   1522           21.61"
      ]
     },
     "execution_count": 24,
     "metadata": {},
     "output_type": "execute_result"
    }
   ],
   "source": [
    "unique_payment_method_count = (telecom_df['payment_method'].value_counts() / telecom_df['payment_method'].value_counts().sum() * 100).tolist()\n",
    "\n",
    "# metode pembayaran unik\n",
    "unique_payment_method = telecom_df['payment_method'].value_counts().reset_index().rename(columns={'index': 'payment method', 'payment_method': 'count'})\n",
    "unique_payment_method['% payment split'] = ['{:.2f}'.format(x) for x in unique_payment_method_count]\n",
    "unique_payment_method"
   ]
  },
  {
   "cell_type": "code",
   "execution_count": 25,
   "metadata": {},
   "outputs": [
    {
     "data": {
      "image/png": "[encoded data removed]",
      "text/plain": [
       "<Figure size 720x432 with 1 Axes>"
      ]
     },
     "metadata": {
      "needs_background": "light"
     },
     "output_type": "display_data"
    }
   ],
   "source": [
    "# Mengubah '% payment split' menjadi float\n",
    "unique_payment_method['% payment split'] = unique_payment_method['% payment split'].astype(float)\n",
    "\n",
    "plt.figure(figsize=(10,6))\n",
    "bar = sns.barplot(x='payment method', y='count', data=unique_payment_method)\n",
    "plt.title('Distribusi Metode Pembayaran')\n",
    "plt.xlabel('Metode Pembayaran')\n",
    "plt.ylabel('Jumlah')\n",
    "\n",
    "# Menambahkan label nilai dan persentase pada setiap bar\n",
    "for idx, p in enumerate(bar.patches):\n",
    "    bar.annotate('{} ({:.2f}%)'.format(unique_payment_method['count'][idx], unique_payment_method['% payment split'][idx]), \n",
    "                   (p.get_x() + p.get_width() / 2., p.get_height()), \n",
    "                   ha = 'center', \n",
    "                   va = 'center', \n",
    "                   xytext = (0, 9), \n",
    "                   textcoords = 'offset points')\n",
    "\n",
    "plt.xticks(rotation=90)  # Memutar label sumbu x agar mudah dibaca\n",
    "plt.show()"
   ]
  },
  {
   "cell_type": "markdown",
   "metadata": {},
   "source": [
    "Kesimpulan:\n",
    "\n",
    "Berdasarkan analisis di atas, kita dapat melihat bahwa sebagian besar pelanggan Interconnect lebih memilih pembayaran bulanan dengan 33% dari total pembayaran dilakukan dengan metode ini. Selain itu, cek elektronik merupakan metode pembayaran yang paling sering digunakan di antara semua metode pembayaran yang tersedia.\n",
    "\n",
    "Saran:\n",
    "\n",
    "Melihat preferensi yang kuat terhadap pembayaran bulanan dan penggunaan cek elektronik, Interconnect dapat merumuskan strategi pemasaran yang memanfaatkan preferensi ini. Misalnya, mereka dapat menawarkan insentif atau penawaran khusus kepada pelanggan yang memilih untuk membayar bulanan atau menggunakan cek elektronik, yang dapat mendorong retensi pelanggan dan meningkatkan kepuasan pelanggan.\n",
    "\n",
    "Selain itu, Interconnect juga dapat mempertimbangkan untuk melakukan penelitian lebih lanjut untuk memahami mengapa metode pembayaran ini begitu populer dan menggunakan temuan tersebut untuk meningkatkan atau menyesuaikan metode pembayaran lainnya. Misalnya, jika kenyamanan atau kecepatan adalah faktor kunci dalam popularitas cek elektronik, mungkin mereka dapat mencoba untuk menjadikan metode pembayaran lainnya lebih nyaman atau cepat."
   ]
  },
  {
   "cell_type": "markdown",
   "metadata": {},
   "source": [
    "<div class=\"alert alert-success\">\n",
    "<b>Code Reviewers's comment v.1</b> <a class=\"tocSkip\"></a>\n",
    "\n",
    "Bagus, semua berjalan lancar.\n",
    "\n",
    "</div>"
   ]
  },
  {
   "cell_type": "markdown",
   "metadata": {},
   "source": [
    "### Bisakah kita menyimpulkan hubungan antara metode pembayaran dan total biaya?"
   ]
  },
  {
   "cell_type": "code",
   "execution_count": 26,
   "metadata": {},
   "outputs": [
    {
     "data": {
      "text/html": [
       "<div>\n",
       "<style scoped>\n",
       "    .dataframe tbody tr th:only-of-type {\n",
       "        vertical-align: middle;\n",
       "    }\n",
       "\n",
       "    .dataframe tbody tr th {\n",
       "        vertical-align: top;\n",
       "    }\n",
       "\n",
       "    .dataframe thead th {\n",
       "        text-align: right;\n",
       "    }\n",
       "</style>\n",
       "<table border=\"1\" class=\"dataframe\">\n",
       "  <thead>\n",
       "    <tr style=\"text-align: right;\">\n",
       "      <th></th>\n",
       "      <th>payment_method</th>\n",
       "      <th>total_charges</th>\n",
       "    </tr>\n",
       "  </thead>\n",
       "  <tbody>\n",
       "    <tr>\n",
       "      <th>0</th>\n",
       "      <td>Electronic check</td>\n",
       "      <td>4944903.50</td>\n",
       "    </tr>\n",
       "    <tr>\n",
       "      <th>1</th>\n",
       "      <td>Bank transfer (automatic)</td>\n",
       "      <td>4748280.00</td>\n",
       "    </tr>\n",
       "    <tr>\n",
       "      <th>2</th>\n",
       "      <td>Credit card (automatic)</td>\n",
       "      <td>4671593.50</td>\n",
       "    </tr>\n",
       "    <tr>\n",
       "      <th>3</th>\n",
       "      <td>Mailed check</td>\n",
       "      <td>1691392.25</td>\n",
       "    </tr>\n",
       "  </tbody>\n",
       "</table>\n",
       "</div>"
      ],
      "text/plain": [
       "              payment_method  total_charges\n",
       "0           Electronic check     4944903.50\n",
       "1  Bank transfer (automatic)     4748280.00\n",
       "2    Credit card (automatic)     4671593.50\n",
       "3               Mailed check     1691392.25"
      ]
     },
     "execution_count": 26,
     "metadata": {},
     "output_type": "execute_result"
    }
   ],
   "source": [
    "# total biaya dikelompokkan berdasarkan metode pembayaran\n",
    "total_charges_grouped = telecom_df.groupby('payment_method', as_index=False).agg({'total_charges': 'sum'}).sort_values(\n",
    "    by='total_charges', ascending=False, ignore_index=True)\n",
    "total_charges_grouped"
   ]
  },
  {
   "cell_type": "code",
   "execution_count": 27,
   "metadata": {},
   "outputs": [
    {
     "data": {
      "image/png": "[encoded data removed]",
      "text/plain": [
       "<Figure size 720x432 with 1 Axes>"
      ]
     },
     "metadata": {
      "needs_background": "light"
     },
     "output_type": "display_data"
    }
   ],
   "source": [
    "# Set ukuran figure\n",
    "plt.figure(figsize=(10,6))\n",
    "\n",
    "# Buat bar plot dan simpan ke dalam variabel\n",
    "bars = plt.bar(total_charges_grouped['payment_method'], total_charges_grouped['total_charges'], color=['red', 'blue', 'green', 'purple'])\n",
    "\n",
    "# Set judul dan label\n",
    "plt.title('Total Biaya Berdasarkan Metode Pembayaran')\n",
    "plt.xlabel('Metode Pembayaran')\n",
    "plt.ylabel('Total Biaya')\n",
    "\n",
    "# Menambahkan angka di atas setiap bar\n",
    "for bar in bars:\n",
    "    yval = bar.get_height()\n",
    "    plt.text(bar.get_x() + bar.get_width()/2, yval + 100000, round(yval, 2), ha='center', va='bottom')\n",
    "\n",
    "# Tampilkan plot\n",
    "plt.show()"
   ]
  },
  {
   "cell_type": "markdown",
   "metadata": {},
   "source": [
    "Kesimpulan:\n",
    "\n",
    "Dari analisis data, kita dapat melihat bahwa metode pembayaran yang paling populer di antara pelanggan Interconnect adalah 'Cek Elektronik'. Selain itu, grup ini juga membayar biaya total tertinggi. Sebaliknya, pelanggan yang menggunakan metode 'Mailed Check' (cek yang dikirim melalui pos) memiliki total biaya terendah.\n",
    "\n",
    "Saran:\n",
    "\n",
    "Berdasarkan kesimpulan ini, departemen pemasaran Interconnect bisa mengambil beberapa tindakan strategis. Misalnya, mereka bisa mencoba menargetkan lebih banyak pelanggan untuk menggunakan metode 'Cek Elektronik' melalui kampanye pemasaran yang efektif. Ini bisa berarti memberikan insentif khusus atau penawaran khusus kepada pelanggan yang memilih metode pembayaran ini.\n",
    "\n",
    "Sebaliknya, untuk pelanggan yang saat ini menggunakan 'Mailed Check', tim pemasaran dapat merancang kampanye yang dirancang untuk mendorong mereka beralih ke metode pembayaran lain, seperti 'Bank Transfer' atau 'Electronic Check'. Langkah ini dapat membantu meningkatkan pendapatan total Interconnect, mengingat bahwa grup pelanggan ini saat ini memiliki total biaya terendah."
   ]
  },
  {
   "cell_type": "markdown",
   "metadata": {},
   "source": [
    "<div class=\"alert alert-success\">\n",
    "<b>Code Reviewers's comment v.1</b> <a class=\"tocSkip\"></a>\n",
    "\n",
    "Bagus, semua berjalan lancar.\n",
    "\n",
    "</div>"
   ]
  },
  {
   "cell_type": "markdown",
   "metadata": {},
   "source": [
    "### Bisakah kita menyimpulkan hubungan antara jenis pembayaran dan total biaya bulanan?"
   ]
  },
  {
   "cell_type": "code",
   "execution_count": 28,
   "metadata": {},
   "outputs": [],
   "source": [
    "# total biaya bulanan yang dikelompokkan berdasarkan jenis pembayaran\n",
    "df_payment_type = (telecom_df.groupby('type', as_index=False)\n",
    "     .agg({'monthly_charges': 'sum', 'total_charges': 'sum'})\n",
    "     .sort_values(by='total_charges', ascending=False, ignore_index=True)\n",
    ")"
   ]
  },
  {
   "cell_type": "code",
   "execution_count": 29,
   "metadata": {},
   "outputs": [
    {
     "data": {
      "image/png": "[encoded data removed]",
      "text/plain": [
       "<Figure size 720x432 with 1 Axes>"
      ]
     },
     "metadata": {
      "needs_background": "light"
     },
     "output_type": "display_data"
    }
   ],
   "source": [
    "# Mengatur ukuran gambar\n",
    "plt.figure(figsize=(10,6))\n",
    "\n",
    "# Membuat plot bar\n",
    "bar_plot = sns.barplot(x='type', y='total_charges', data=df_payment_type, palette='viridis')\n",
    "\n",
    "# Menambahkan judul dan label\n",
    "plt.xlabel('Tipe Pembayaran')\n",
    "plt.ylabel('Total Biaya')\n",
    "plt.title('Total Biaya Berdasarkan Tipe Pembayaran')\n",
    "\n",
    "# Menampilkan nilai numerik di atas setiap bar\n",
    "for p in bar_plot.patches:\n",
    "    bar_plot.annotate(format(p.get_height(), '.2f'), \n",
    "                      (p.get_x() + p.get_width() / 2., p.get_height()), \n",
    "                      ha = 'center', va = 'center', \n",
    "                      size=10,\n",
    "                      xytext = (0, -12), \n",
    "                      textcoords = 'offset points')\n",
    "\n",
    "plt.show()"
   ]
  },
  {
   "cell_type": "markdown",
   "metadata": {},
   "source": [
    "Kesimpulan:\n",
    "\n",
    "- Pelanggan Interconnect paling banyak menggunakan metode pembayaran 'Electronic Check' dan jenis pembayaran 'Month-to-Month'.\n",
    "- Total biaya tertinggi diperoleh dari pelanggan dengan kontrak 'Two year'.\n",
    "\n",
    "Saran:\n",
    "\n",
    "- Interconnect bisa mendorong lebih banyak pelanggan untuk memilih kontrak jangka panjang seperti 'Two year' atau 'One year' dengan memberikan insentif atau penawaran khusus.\n",
    "- Interconnect juga bisa menambahkan opsi pembayaran lain untuk memberikan lebih banyak fleksibilitas kepada pelanggan."
   ]
  },
  {
   "cell_type": "markdown",
   "metadata": {},
   "source": [
    "Jumlah layanan menurut jenis kontrak"
   ]
  },
  {
   "cell_type": "code",
   "execution_count": 30,
   "metadata": {},
   "outputs": [
    {
     "data": {
      "text/html": [
       "<div>\n",
       "<style scoped>\n",
       "    .dataframe tbody tr th:only-of-type {\n",
       "        vertical-align: middle;\n",
       "    }\n",
       "\n",
       "    .dataframe tbody tr th {\n",
       "        vertical-align: top;\n",
       "    }\n",
       "\n",
       "    .dataframe thead th {\n",
       "        text-align: right;\n",
       "    }\n",
       "</style>\n",
       "<table border=\"1\" class=\"dataframe\">\n",
       "  <thead>\n",
       "    <tr style=\"text-align: right;\">\n",
       "      <th></th>\n",
       "      <th>type</th>\n",
       "      <th>service_count</th>\n",
       "    </tr>\n",
       "  </thead>\n",
       "  <tbody>\n",
       "    <tr>\n",
       "      <th>0</th>\n",
       "      <td>Month-to-month</td>\n",
       "      <td>6013</td>\n",
       "    </tr>\n",
       "    <tr>\n",
       "      <th>1</th>\n",
       "      <td>Two year</td>\n",
       "      <td>4654</td>\n",
       "    </tr>\n",
       "    <tr>\n",
       "      <th>2</th>\n",
       "      <td>One year</td>\n",
       "      <td>3686</td>\n",
       "    </tr>\n",
       "  </tbody>\n",
       "</table>\n",
       "</div>"
      ],
      "text/plain": [
       "             type  service_count\n",
       "0  Month-to-month           6013\n",
       "1        Two year           4654\n",
       "2        One year           3686"
      ]
     },
     "execution_count": 30,
     "metadata": {},
     "output_type": "execute_result"
    }
   ],
   "source": [
    "# menghitung jumlah layanan berdasarkan tipe kontrak\n",
    "df_service_count = (telecom_df.groupby('type', as_index=False)\n",
    "     .agg({'service_count': 'sum'})\n",
    "     .sort_values(by='service_count', ascending=False, ignore_index=True)\n",
    ")\n",
    "df_service_count"
   ]
  },
  {
   "cell_type": "code",
   "execution_count": 31,
   "metadata": {},
   "outputs": [
    {
     "data": {
      "image/png": "[encoded data removed]",
      "text/plain": [
       "<Figure size 720x432 with 1 Axes>"
      ]
     },
     "metadata": {
      "needs_background": "light"
     },
     "output_type": "display_data"
    }
   ],
   "source": [
    "# membuat visualisasi\n",
    "plt.figure(figsize=(10,6))\n",
    "sns.barplot(x='type', y='service_count', data=df_service_count, palette='viridis')\n",
    "\n",
    "# menambahkan label nilai pada setiap bar\n",
    "for i, row in df_service_count.iterrows():\n",
    "    plt.text(i, row.service_count, round(row.service_count, 2), color='black', ha=\"center\")\n",
    "\n",
    "plt.xlabel('Tipe Kontrak')\n",
    "plt.ylabel('Jumlah Layanan')\n",
    "plt.title('Jumlah Layanan Berdasarkan Tipe Kontrak')\n",
    "plt.show()"
   ]
  },
  {
   "cell_type": "markdown",
   "metadata": {},
   "source": [
    "Kesimpulan:\n",
    "\n",
    "Dari visualisasi data, kita dapat melihat jumlah layanan yang digunakan berdasarkan tipe kontrak. Dengan informasi ini, kita dapat melihat tipe kontrak mana yang paling banyak menggunakan layanan.\n",
    "\n",
    "Saran:\n",
    "\n",
    "Jika terdapat tipe kontrak yang jumlah layanannya lebih rendah, perusahaan mungkin perlu merancang strategi untuk mendorong pelanggan dengan tipe kontrak tersebut untuk menggunakan lebih banyak layanan. Ini bisa dalam bentuk promosi, diskon untuk layanan tambahan, atau paket layanan yang menarik."
   ]
  },
  {
   "cell_type": "markdown",
   "metadata": {},
   "source": [
    "<div class=\"alert alert-success\">\n",
    "<b>Code Reviewers's comment v.1</b> <a class=\"tocSkip\"></a>\n",
    "\n",
    "Bagus, semua berjalan lancar.\n",
    "\n",
    "</div>"
   ]
  },
  {
   "cell_type": "markdown",
   "metadata": {},
   "source": [
    "### Jenis kelamin apa yang memiliki total tagihan dan jumlah layanan terbanyak?"
   ]
  },
  {
   "cell_type": "code",
   "execution_count": 32,
   "metadata": {},
   "outputs": [
    {
     "data": {
      "text/html": [
       "<div>\n",
       "<style scoped>\n",
       "    .dataframe tbody tr th:only-of-type {\n",
       "        vertical-align: middle;\n",
       "    }\n",
       "\n",
       "    .dataframe tbody tr th {\n",
       "        vertical-align: top;\n",
       "    }\n",
       "\n",
       "    .dataframe thead th {\n",
       "        text-align: right;\n",
       "    }\n",
       "</style>\n",
       "<table border=\"1\" class=\"dataframe\">\n",
       "  <thead>\n",
       "    <tr style=\"text-align: right;\">\n",
       "      <th></th>\n",
       "      <th>gender</th>\n",
       "      <th>total_charges</th>\n",
       "      <th>service_count</th>\n",
       "      <th>persentase_total_biaya</th>\n",
       "    </tr>\n",
       "  </thead>\n",
       "  <tbody>\n",
       "    <tr>\n",
       "      <th>0</th>\n",
       "      <td>Male</td>\n",
       "      <td>8103814</td>\n",
       "      <td>7144</td>\n",
       "      <td>50.471657</td>\n",
       "    </tr>\n",
       "    <tr>\n",
       "      <th>1</th>\n",
       "      <td>Female</td>\n",
       "      <td>7952354</td>\n",
       "      <td>7209</td>\n",
       "      <td>49.528343</td>\n",
       "    </tr>\n",
       "  </tbody>\n",
       "</table>\n",
       "</div>"
      ],
      "text/plain": [
       "   gender  total_charges  service_count  persentase_total_biaya\n",
       "0    Male        8103814           7144               50.471657\n",
       "1  Female        7952354           7209               49.528343"
      ]
     },
     "execution_count": 32,
     "metadata": {},
     "output_type": "execute_result"
    }
   ],
   "source": [
    "# total biaya yang dikelompokkan berdasarkan jenis kelamin\n",
    "gender_charges = telecom_df.groupby('gender', as_index=False).agg({'total_charges': 'sum', 'service_count': 'sum'}).sort_values(by='total_charges', ascending=False, ignore_index=True)\n",
    "change_datatype(gender_charges, ['total_charges'], 'int32')\n",
    "gender_charges['persentase_total_biaya'] = gender_charges['total_charges'] / sum(gender_charges['total_charges']) * 100\n",
    "gender_charges\n"
   ]
  },
  {
   "cell_type": "code",
   "execution_count": 33,
   "metadata": {},
   "outputs": [
    {
     "data": {
      "image/png": "[encoded data removed]",
      "text/plain": [
       "<Figure size 1008x432 with 2 Axes>"
      ]
     },
     "metadata": {
      "needs_background": "light"
     },
     "output_type": "display_data"
    }
   ],
   "source": [
    "# Membuat visualisasi\n",
    "fig, ax = plt.subplots(1, 2, figsize=(14,6))\n",
    "\n",
    "sns.barplot(x='gender', y='total_charges', data=gender_charges, ax=ax[0], palette='viridis')\n",
    "ax[0].set_title('Total Biaya Berdasarkan Jenis Kelamin')\n",
    "ax[0].set_xlabel('Jenis Kelamin')\n",
    "ax[0].set_ylabel('Total Biaya')\n",
    "\n",
    "# menambahkan label pada bar\n",
    "for p in ax[0].patches:\n",
    "    ax[0].annotate(format(p.get_height(), '.2f'), \n",
    "                   (p.get_x() + p.get_width() / 2., p.get_height()), \n",
    "                   ha = 'center', va = 'center', \n",
    "                   xytext = (0, 10), \n",
    "                   textcoords = 'offset points')\n",
    "\n",
    "sns.barplot(x='gender', y='service_count', data=gender_charges, ax=ax[1], palette='viridis')\n",
    "ax[1].set_title('Jumlah Layanan Berdasarkan Jenis Kelamin')\n",
    "ax[1].set_xlabel('Jenis Kelamin')\n",
    "ax[1].set_ylabel('Jumlah Layanan')\n",
    "\n",
    "# menambahkan label pada bar\n",
    "for p in ax[1].patches:\n",
    "    ax[1].annotate(format(p.get_height(), '.2f'), \n",
    "                   (p.get_x() + p.get_width() / 2., p.get_height()), \n",
    "                   ha = 'center', va = 'center', \n",
    "                   xytext = (0, 10), \n",
    "                   textcoords = 'offset points')\n",
    "\n",
    "plt.tight_layout()\n",
    "plt.show()"
   ]
  },
  {
   "cell_type": "markdown",
   "metadata": {},
   "source": [
    "Kesimpulan:\n",
    "\n",
    "Berdasarkan visualisasi, tampak bahwa total biaya dan jumlah layanan yang digunakan oleh pelanggan laki-laki dan perempuan hampir seimbang, dengan pelanggan laki-laki sedikit lebih banyak dalam hal total biaya, dan pelanggan perempuan sedikit lebih banyak dalam hal jumlah layanan.\n",
    "\n",
    "Saran:\n",
    "\n",
    "Dalam hal ini, tampaknya tidak perlu ada intervensi khusus berdasarkan jenis kelamin, karena kedua gender tampaknya sama-sama aktif dalam menggunakan layanan dan menghasilkan biaya. Namun, jika perusahaan ingin meningkatkan penggunaan layanan atau total biaya dari salah satu gender, mereka bisa mempertimbangkan untuk membuat paket layanan atau promosi yang lebih menarik bagi gender tersebut."
   ]
  },
  {
   "cell_type": "markdown",
   "metadata": {},
   "source": [
    "<div class=\"alert alert-success\">\n",
    "<b>Code Reviewers's comment v.1</b> <a class=\"tocSkip\"></a>\n",
    "\n",
    "Bagus, semua berjalan lancar.\n",
    "\n",
    "</div>"
   ]
  },
  {
   "cell_type": "markdown",
   "metadata": {},
   "source": [
    "### Bisakah jenis kontrak memengaruhi churn pelanggan?"
   ]
  },
  {
   "cell_type": "code",
   "execution_count": 34,
   "metadata": {},
   "outputs": [
    {
     "data": {
      "text/html": [
       "<div>\n",
       "<style scoped>\n",
       "    .dataframe tbody tr th:only-of-type {\n",
       "        vertical-align: middle;\n",
       "    }\n",
       "\n",
       "    .dataframe tbody tr th {\n",
       "        vertical-align: top;\n",
       "    }\n",
       "\n",
       "    .dataframe thead th {\n",
       "        text-align: right;\n",
       "    }\n",
       "</style>\n",
       "<table border=\"1\" class=\"dataframe\">\n",
       "  <thead>\n",
       "    <tr style=\"text-align: right;\">\n",
       "      <th></th>\n",
       "      <th>type</th>\n",
       "      <th>exited</th>\n",
       "      <th>% exit percent</th>\n",
       "    </tr>\n",
       "  </thead>\n",
       "  <tbody>\n",
       "    <tr>\n",
       "      <th>0</th>\n",
       "      <td>Month-to-month</td>\n",
       "      <td>1655</td>\n",
       "      <td>55.02</td>\n",
       "    </tr>\n",
       "    <tr>\n",
       "      <th>1</th>\n",
       "      <td>One year</td>\n",
       "      <td>166</td>\n",
       "      <td>24.07</td>\n",
       "    </tr>\n",
       "    <tr>\n",
       "      <th>2</th>\n",
       "      <td>Two year</td>\n",
       "      <td>48</td>\n",
       "      <td>20.91</td>\n",
       "    </tr>\n",
       "  </tbody>\n",
       "</table>\n",
       "</div>"
      ],
      "text/plain": [
       "             type  exited % exit percent\n",
       "0  Month-to-month    1655          55.02\n",
       "1        One year     166          24.07\n",
       "2        Two year      48          20.91"
      ]
     },
     "execution_count": 34,
     "metadata": {},
     "output_type": "execute_result"
    }
   ],
   "source": [
    "# pengaruh jenis kontrak terhadap churn pelanggan\n",
    "contract_type_percent = telecom_df.groupby(\n",
    "    'type', as_index=False).agg(\n",
    "    {'exited': 'sum'}).sort_values(\n",
    "    by='exited', ascending=False, ignore_index=True)\n",
    "contract_type_effect = (telecom_df['type'].value_counts() / telecom_df['type'].value_counts().sum() * 100).tolist()\n",
    "contract_type_percent['% exit percent'] = ['{:.2f}'.format(x) for x in contract_type_effect]\n",
    "contract_type_percent"
   ]
  },
  {
   "cell_type": "code",
   "execution_count": 35,
   "metadata": {},
   "outputs": [
    {
     "data": {
      "image/png": "[encoded data removed]",
      "text/plain": [
       "<Figure size 576x432 with 1 Axes>"
      ]
     },
     "metadata": {
      "needs_background": "light"
     },
     "output_type": "display_data"
    }
   ],
   "source": [
    "# membuat plot\n",
    "plt.figure(figsize=(8,6))\n",
    "bar = sns.barplot(x='type', y='exited', data=contract_type_percent, palette='viridis')\n",
    "\n",
    "# menambahkan label jumlah dan persentase pada setiap bar\n",
    "for idx, p in enumerate(bar.patches):\n",
    "    bar.annotate('Count: {} ({}%)'.format(contract_type_percent['exited'][idx], contract_type_percent['% exit percent'][idx]), \n",
    "                   (p.get_x() + p.get_width() / 2., p.get_height()),\n",
    "                   ha = 'center', va = 'center', \n",
    "                   size=12,\n",
    "                   xytext = (0, -12), \n",
    "                   textcoords = 'offset points')\n",
    "\n",
    "plt.xlabel('Tipe Kontrak')\n",
    "plt.ylabel('Jumlah Churn')\n",
    "plt.title('Efek Tipe Kontrak terhadap Churn Pelanggan')\n",
    "plt.show()"
   ]
  },
  {
   "cell_type": "markdown",
   "metadata": {},
   "source": [
    "Dari tabel di atas, dapat dilihat bahwa pelanggan yang memiliki kontrak dengan model \"Bulan-ke-Bulan\" (Month-to-month) memiliki tingkat churn (keluar) yang paling tinggi, yakni 1655 pelanggan atau sekitar 55.02% dari total pelanggan. Sementara itu, pelanggan dengan kontrak \"Satu Tahun\" (One year) memiliki tingkat churn sebesar 166 atau sekitar 24.07%, dan pelanggan dengan kontrak \"Dua Tahun\" (Two year) memiliki tingkat churn terendah, yakni hanya 48 atau sekitar 20.91%.\n",
    "\n",
    "Kesimpulan yang dapat diambil adalah jenis kontrak mempengaruhi tingkat churn pelanggan. Pelanggan dengan kontrak jangka pendek (bulan-ke-bulan) lebih mungkin untuk churn dibandingkan dengan pelanggan dengan kontrak jangka panjang. Ini bisa disebabkan oleh fleksibilitas yang lebih besar dalam kontrak bulanan, memungkinkan pelanggan untuk berpindah ke penyedia layanan lain dengan lebih mudah."
   ]
  },
  {
   "cell_type": "markdown",
   "metadata": {},
   "source": [
    "<div class=\"alert alert-success\">\n",
    "<b>Code Reviewers's comment v.1</b> <a class=\"tocSkip\"></a>\n",
    "\n",
    "Bagus, semua berjalan lancar.\n",
    "\n",
    "</div>"
   ]
  },
  {
   "cell_type": "markdown",
   "metadata": {},
   "source": [
    "### Apa saja 5 layanan teratas yang ditawarkan?"
   ]
  },
  {
   "cell_type": "code",
   "execution_count": 36,
   "metadata": {},
   "outputs": [
    {
     "data": {
      "text/html": [
       "<div>\n",
       "<style scoped>\n",
       "    .dataframe tbody tr th:only-of-type {\n",
       "        vertical-align: middle;\n",
       "    }\n",
       "\n",
       "    .dataframe tbody tr th {\n",
       "        vertical-align: top;\n",
       "    }\n",
       "\n",
       "    .dataframe thead th {\n",
       "        text-align: right;\n",
       "    }\n",
       "</style>\n",
       "<table border=\"1\" class=\"dataframe\">\n",
       "  <thead>\n",
       "    <tr style=\"text-align: right;\">\n",
       "      <th></th>\n",
       "      <th>0</th>\n",
       "      <th>1</th>\n",
       "      <th>2</th>\n",
       "      <th>3</th>\n",
       "      <th>4</th>\n",
       "      <th>5</th>\n",
       "      <th>6</th>\n",
       "      <th>7</th>\n",
       "      <th>8</th>\n",
       "      <th>9</th>\n",
       "      <th>...</th>\n",
       "      <th>7033</th>\n",
       "      <th>7034</th>\n",
       "      <th>7035</th>\n",
       "      <th>7036</th>\n",
       "      <th>7037</th>\n",
       "      <th>7038</th>\n",
       "      <th>7039</th>\n",
       "      <th>7040</th>\n",
       "      <th>7041</th>\n",
       "      <th>7042</th>\n",
       "    </tr>\n",
       "  </thead>\n",
       "  <tbody>\n",
       "    <tr>\n",
       "      <th>online_security</th>\n",
       "      <td>0</td>\n",
       "      <td>1</td>\n",
       "      <td>1</td>\n",
       "      <td>1</td>\n",
       "      <td>0</td>\n",
       "      <td>0</td>\n",
       "      <td>0</td>\n",
       "      <td>1</td>\n",
       "      <td>0</td>\n",
       "      <td>1</td>\n",
       "      <td>...</td>\n",
       "      <td>0</td>\n",
       "      <td>1</td>\n",
       "      <td>0</td>\n",
       "      <td>0</td>\n",
       "      <td>0</td>\n",
       "      <td>1</td>\n",
       "      <td>0</td>\n",
       "      <td>1</td>\n",
       "      <td>0</td>\n",
       "      <td>1</td>\n",
       "    </tr>\n",
       "    <tr>\n",
       "      <th>online_backup</th>\n",
       "      <td>1</td>\n",
       "      <td>0</td>\n",
       "      <td>1</td>\n",
       "      <td>0</td>\n",
       "      <td>0</td>\n",
       "      <td>0</td>\n",
       "      <td>1</td>\n",
       "      <td>0</td>\n",
       "      <td>0</td>\n",
       "      <td>1</td>\n",
       "      <td>...</td>\n",
       "      <td>0</td>\n",
       "      <td>1</td>\n",
       "      <td>0</td>\n",
       "      <td>1</td>\n",
       "      <td>0</td>\n",
       "      <td>0</td>\n",
       "      <td>1</td>\n",
       "      <td>0</td>\n",
       "      <td>0</td>\n",
       "      <td>0</td>\n",
       "    </tr>\n",
       "    <tr>\n",
       "      <th>device_protection</th>\n",
       "      <td>0</td>\n",
       "      <td>1</td>\n",
       "      <td>0</td>\n",
       "      <td>1</td>\n",
       "      <td>0</td>\n",
       "      <td>1</td>\n",
       "      <td>0</td>\n",
       "      <td>0</td>\n",
       "      <td>1</td>\n",
       "      <td>0</td>\n",
       "      <td>...</td>\n",
       "      <td>0</td>\n",
       "      <td>1</td>\n",
       "      <td>0</td>\n",
       "      <td>1</td>\n",
       "      <td>0</td>\n",
       "      <td>1</td>\n",
       "      <td>1</td>\n",
       "      <td>0</td>\n",
       "      <td>0</td>\n",
       "      <td>1</td>\n",
       "    </tr>\n",
       "    <tr>\n",
       "      <th>tech_support</th>\n",
       "      <td>0</td>\n",
       "      <td>0</td>\n",
       "      <td>0</td>\n",
       "      <td>1</td>\n",
       "      <td>0</td>\n",
       "      <td>0</td>\n",
       "      <td>0</td>\n",
       "      <td>0</td>\n",
       "      <td>1</td>\n",
       "      <td>0</td>\n",
       "      <td>...</td>\n",
       "      <td>0</td>\n",
       "      <td>0</td>\n",
       "      <td>0</td>\n",
       "      <td>1</td>\n",
       "      <td>0</td>\n",
       "      <td>1</td>\n",
       "      <td>0</td>\n",
       "      <td>0</td>\n",
       "      <td>0</td>\n",
       "      <td>1</td>\n",
       "    </tr>\n",
       "    <tr>\n",
       "      <th>streaming_tv</th>\n",
       "      <td>0</td>\n",
       "      <td>0</td>\n",
       "      <td>0</td>\n",
       "      <td>0</td>\n",
       "      <td>0</td>\n",
       "      <td>1</td>\n",
       "      <td>1</td>\n",
       "      <td>0</td>\n",
       "      <td>1</td>\n",
       "      <td>0</td>\n",
       "      <td>...</td>\n",
       "      <td>0</td>\n",
       "      <td>1</td>\n",
       "      <td>1</td>\n",
       "      <td>1</td>\n",
       "      <td>0</td>\n",
       "      <td>1</td>\n",
       "      <td>1</td>\n",
       "      <td>0</td>\n",
       "      <td>0</td>\n",
       "      <td>1</td>\n",
       "    </tr>\n",
       "    <tr>\n",
       "      <th>streaming_movies</th>\n",
       "      <td>0</td>\n",
       "      <td>0</td>\n",
       "      <td>0</td>\n",
       "      <td>0</td>\n",
       "      <td>0</td>\n",
       "      <td>1</td>\n",
       "      <td>0</td>\n",
       "      <td>0</td>\n",
       "      <td>1</td>\n",
       "      <td>0</td>\n",
       "      <td>...</td>\n",
       "      <td>0</td>\n",
       "      <td>0</td>\n",
       "      <td>0</td>\n",
       "      <td>1</td>\n",
       "      <td>0</td>\n",
       "      <td>1</td>\n",
       "      <td>1</td>\n",
       "      <td>0</td>\n",
       "      <td>0</td>\n",
       "      <td>1</td>\n",
       "    </tr>\n",
       "    <tr>\n",
       "      <th>exited</th>\n",
       "      <td>0</td>\n",
       "      <td>0</td>\n",
       "      <td>1</td>\n",
       "      <td>0</td>\n",
       "      <td>1</td>\n",
       "      <td>1</td>\n",
       "      <td>0</td>\n",
       "      <td>0</td>\n",
       "      <td>1</td>\n",
       "      <td>0</td>\n",
       "      <td>...</td>\n",
       "      <td>0</td>\n",
       "      <td>1</td>\n",
       "      <td>0</td>\n",
       "      <td>0</td>\n",
       "      <td>0</td>\n",
       "      <td>0</td>\n",
       "      <td>0</td>\n",
       "      <td>0</td>\n",
       "      <td>1</td>\n",
       "      <td>0</td>\n",
       "    </tr>\n",
       "  </tbody>\n",
       "</table>\n",
       "<p>7 rows × 7043 columns</p>\n",
       "</div>"
      ],
      "text/plain": [
       "                   0     1     2     3     4     5     6     7     8     9     \\\n",
       "online_security       0     1     1     1     0     0     0     1     0     1   \n",
       "online_backup         1     0     1     0     0     0     1     0     0     1   \n",
       "device_protection     0     1     0     1     0     1     0     0     1     0   \n",
       "tech_support          0     0     0     1     0     0     0     0     1     0   \n",
       "streaming_tv          0     0     0     0     0     1     1     0     1     0   \n",
       "streaming_movies      0     0     0     0     0     1     0     0     1     0   \n",
       "exited                0     0     1     0     1     1     0     0     1     0   \n",
       "\n",
       "                   ...  7033  7034  7035  7036  7037  7038  7039  7040  7041  \\\n",
       "online_security    ...     0     1     0     0     0     1     0     1     0   \n",
       "online_backup      ...     0     1     0     1     0     0     1     0     0   \n",
       "device_protection  ...     0     1     0     1     0     1     1     0     0   \n",
       "tech_support       ...     0     0     0     1     0     1     0     0     0   \n",
       "streaming_tv       ...     0     1     1     1     0     1     1     0     0   \n",
       "streaming_movies   ...     0     0     0     1     0     1     1     0     0   \n",
       "exited             ...     0     1     0     0     0     0     0     0     1   \n",
       "\n",
       "                   7042  \n",
       "online_security       1  \n",
       "online_backup         0  \n",
       "device_protection     1  \n",
       "tech_support          1  \n",
       "streaming_tv          1  \n",
       "streaming_movies      1  \n",
       "exited                0  \n",
       "\n",
       "[7 rows x 7043 columns]"
      ]
     },
     "execution_count": 36,
     "metadata": {},
     "output_type": "execute_result"
    }
   ],
   "source": [
    "# membuat salinan dari dataframe untuk digunakan dalam encoding\n",
    "telecom_df_encode = telecom_df.copy()\n",
    "\n",
    "# encoding layanan yang ditawarkan\n",
    "online_security = {'online_security':{'Yes': 1, 'No': 0}}\n",
    "online_backup = {'online_backup':{'Yes': 1, 'No': 0}}\n",
    "device_protection = {'device_protection':{'Yes': 1, 'No': 0}}\n",
    "tech_support = {'tech_support':{'Yes': 1, 'No': 0}}\n",
    "streaming_tv = {'streaming_tv':{'Yes': 1, 'No': 0}}\n",
    "streaming_movies = {'streaming_movies':{'Yes': 1, 'No': 0}}\n",
    "\n",
    "telecom_df_encode.replace(online_security, inplace =True)\n",
    "telecom_df_encode.replace(online_backup, inplace =True)\n",
    "telecom_df_encode.replace(device_protection, inplace =True)\n",
    "telecom_df_encode.replace(tech_support, inplace =True)\n",
    "telecom_df_encode.replace(streaming_tv, inplace =True)\n",
    "telecom_df_encode.replace(streaming_movies, inplace =True)\n",
    "\n",
    "telecom_services_data = telecom_df_encode[['online_security', 'online_backup', 'device_protection', 'tech_support', 'streaming_tv', 'streaming_movies', 'exited']]\n",
    "telecom_services_data = telecom_services_data.transpose()\n",
    "telecom_services_data"
   ]
  },
  {
   "cell_type": "code",
   "execution_count": 37,
   "metadata": {},
   "outputs": [
    {
     "data": {
      "text/html": [
       "<div>\n",
       "<style scoped>\n",
       "    .dataframe tbody tr th:only-of-type {\n",
       "        vertical-align: middle;\n",
       "    }\n",
       "\n",
       "    .dataframe tbody tr th {\n",
       "        vertical-align: top;\n",
       "    }\n",
       "\n",
       "    .dataframe thead th {\n",
       "        text-align: right;\n",
       "    }\n",
       "</style>\n",
       "<table border=\"1\" class=\"dataframe\">\n",
       "  <thead>\n",
       "    <tr style=\"text-align: right;\">\n",
       "      <th></th>\n",
       "      <th>services</th>\n",
       "      <th>count</th>\n",
       "      <th>% service offered</th>\n",
       "    </tr>\n",
       "  </thead>\n",
       "  <tbody>\n",
       "    <tr>\n",
       "      <th>0</th>\n",
       "      <td>streaming_movies</td>\n",
       "      <td>2732</td>\n",
       "      <td>16.841327</td>\n",
       "    </tr>\n",
       "    <tr>\n",
       "      <th>1</th>\n",
       "      <td>streaming_tv</td>\n",
       "      <td>2707</td>\n",
       "      <td>16.687215</td>\n",
       "    </tr>\n",
       "    <tr>\n",
       "      <th>2</th>\n",
       "      <td>online_backup</td>\n",
       "      <td>2429</td>\n",
       "      <td>14.973493</td>\n",
       "    </tr>\n",
       "    <tr>\n",
       "      <th>3</th>\n",
       "      <td>device_protection</td>\n",
       "      <td>2422</td>\n",
       "      <td>14.930342</td>\n",
       "    </tr>\n",
       "    <tr>\n",
       "      <th>4</th>\n",
       "      <td>tech_support</td>\n",
       "      <td>2044</td>\n",
       "      <td>12.600173</td>\n",
       "    </tr>\n",
       "    <tr>\n",
       "      <th>5</th>\n",
       "      <td>online_security</td>\n",
       "      <td>2019</td>\n",
       "      <td>12.446061</td>\n",
       "    </tr>\n",
       "    <tr>\n",
       "      <th>6</th>\n",
       "      <td>exited</td>\n",
       "      <td>1869</td>\n",
       "      <td>11.521391</td>\n",
       "    </tr>\n",
       "  </tbody>\n",
       "</table>\n",
       "</div>"
      ],
      "text/plain": [
       "            services  count  % service offered\n",
       "0   streaming_movies   2732          16.841327\n",
       "1       streaming_tv   2707          16.687215\n",
       "2      online_backup   2429          14.973493\n",
       "3  device_protection   2422          14.930342\n",
       "4       tech_support   2044          12.600173\n",
       "5    online_security   2019          12.446061\n",
       "6             exited   1869          11.521391"
      ]
     },
     "execution_count": 37,
     "metadata": {},
     "output_type": "execute_result"
    }
   ],
   "source": [
    "# mendapatkan dataframe yang menunjukkan layanan dan persentase hitungan\n",
    "telecom_services_data['count'] = telecom_services_data.sum(axis=1)\n",
    "telecom_services_df = telecom_services_data.reset_index(inplace=False)\n",
    "telecom_services_df = telecom_services_df[['index', 'count']].rename(columns={'index': 'services'})\n",
    "telecom_services_df['% service offered'] = telecom_services_df['count'] / telecom_services_df['count'].sum() * 100\n",
    "telecom_services = telecom_services_df.copy()\n",
    "telecom_services.sort_values('% service offered', axis = 0, ascending = False, inplace = True, ignore_index=True)\n",
    "telecom_services"
   ]
  },
  {
   "cell_type": "code",
   "execution_count": 38,
   "metadata": {},
   "outputs": [
    {
     "data": {
      "image/png": "[encoded data removed]",
      "text/plain": [
       "<Figure size 576x576 with 1 Axes>"
      ]
     },
     "metadata": {},
     "output_type": "display_data"
    }
   ],
   "source": [
    "# plot top 5 layanan Interconnect berdasarkan hitungan\n",
    "telecom_services_pie = telecom_services.head(5)\n",
    "(telecom_services_pie.set_index('services').plot(y='% service offered', kind='pie',\n",
    "title = 'Pie chart yang menunjukkan ukuran relatif dari lima layanan populer',\n",
    "figsize=(8, 8), autopct='%1.1f%%', shadow=True)\n",
    ");\n"
   ]
  },
  {
   "cell_type": "markdown",
   "metadata": {},
   "source": [
    "Dari data tersebut, kita dapat melihat bahwa layanan streaming (baik itu film atau TV) adalah layanan yang paling banyak digunakan oleh pelanggan Interconnect, dengan masing-masing memiliki 16,84% dan 16,69% dari total layanan yang ditawarkan. \n",
    "\n",
    "Selanjutnya, layanan backup online dan perlindungan perangkat juga cukup populer dengan masing-masing menyumbang sekitar 15% dari total layanan. Sedangkan layanan dukungan teknis dan keamanan online masing-masing memiliki sekitar 12,6% dan 12,45% dari total layanan.\n",
    "\n",
    "Namun, yang menarik adalah bahwa hampir 11,52% dari pelanggan telah memilih untuk keluar atau berhenti menggunakan layanan (dalam hal ini diartikan sebagai \"churn\"). Ini adalah angka yang cukup signifikan dan menunjukkan bahwa Interconnect mungkin perlu melakukan lebih banyak upaya untuk mempertahankan pelanggan mereka.\n",
    "\n",
    "Secara keseluruhan, data ini memberikan wawasan penting tentang layanan mana yang paling dihargai oleh pelanggan Interconnect, serta area mana yang mungkin perlu perbaikan untuk mengurangi angka churn."
   ]
  },
  {
   "cell_type": "markdown",
   "metadata": {},
   "source": [
    "<div class=\"alert alert-success\">\n",
    "<b>Code Reviewers's comment v.1</b> <a class=\"tocSkip\"></a>\n",
    "\n",
    "Bagus, semua berjalan lancar.\n",
    "\n",
    "</div>"
   ]
  },
  {
   "cell_type": "markdown",
   "metadata": {},
   "source": [
    "### Bisakah jumlah layanan yang ditawarkan memengaruhi churn pelanggan?"
   ]
  },
  {
   "cell_type": "code",
   "execution_count": 39,
   "metadata": {},
   "outputs": [
    {
     "data": {
      "text/html": [
       "<div>\n",
       "<style scoped>\n",
       "    .dataframe tbody tr th:only-of-type {\n",
       "        vertical-align: middle;\n",
       "    }\n",
       "\n",
       "    .dataframe tbody tr th {\n",
       "        vertical-align: top;\n",
       "    }\n",
       "\n",
       "    .dataframe thead th {\n",
       "        text-align: right;\n",
       "    }\n",
       "</style>\n",
       "<table border=\"1\" class=\"dataframe\">\n",
       "  <thead>\n",
       "    <tr style=\"text-align: right;\">\n",
       "      <th></th>\n",
       "      <th>service_count</th>\n",
       "      <th>exited</th>\n",
       "    </tr>\n",
       "  </thead>\n",
       "  <tbody>\n",
       "    <tr>\n",
       "      <th>0</th>\n",
       "      <td>0</td>\n",
       "      <td>475</td>\n",
       "    </tr>\n",
       "    <tr>\n",
       "      <th>1</th>\n",
       "      <td>1</td>\n",
       "      <td>442</td>\n",
       "    </tr>\n",
       "    <tr>\n",
       "      <th>2</th>\n",
       "      <td>2</td>\n",
       "      <td>370</td>\n",
       "    </tr>\n",
       "    <tr>\n",
       "      <th>3</th>\n",
       "      <td>3</td>\n",
       "      <td>306</td>\n",
       "    </tr>\n",
       "    <tr>\n",
       "      <th>4</th>\n",
       "      <td>4</td>\n",
       "      <td>190</td>\n",
       "    </tr>\n",
       "    <tr>\n",
       "      <th>5</th>\n",
       "      <td>5</td>\n",
       "      <td>71</td>\n",
       "    </tr>\n",
       "    <tr>\n",
       "      <th>6</th>\n",
       "      <td>6</td>\n",
       "      <td>15</td>\n",
       "    </tr>\n",
       "  </tbody>\n",
       "</table>\n",
       "</div>"
      ],
      "text/plain": [
       "   service_count  exited\n",
       "0              0     475\n",
       "1              1     442\n",
       "2              2     370\n",
       "3              3     306\n",
       "4              4     190\n",
       "5              5      71\n",
       "6              6      15"
      ]
     },
     "execution_count": 39,
     "metadata": {},
     "output_type": "execute_result"
    }
   ],
   "source": [
    "# Menghitung churn terhadap banyaknya layanan\n",
    "churn_by_service_count = telecom_df.groupby('service_count')['exited'].sum().reset_index()\n",
    "\n",
    "# Menampilkan data\n",
    "churn_by_service_count"
   ]
  },
  {
   "cell_type": "code",
   "execution_count": 40,
   "metadata": {},
   "outputs": [
    {
     "data": {
      "image/png": "[encoded data removed]",
      "text/plain": [
       "<Figure size 720x432 with 1 Axes>"
      ]
     },
     "metadata": {
      "needs_background": "light"
     },
     "output_type": "display_data"
    }
   ],
   "source": [
    "# Menggambar bar plot\n",
    "plt.figure(figsize=(10,6))\n",
    "ax = sns.barplot(x='service_count', y='exited', data=churn_by_service_count, palette='viridis')\n",
    "\n",
    "# Menambahkan label pada setiap bar\n",
    "for p in ax.patches:\n",
    "    ax.annotate(format(p.get_height(), '.0f'), \n",
    "                (p.get_x() + p.get_width() / 2., p.get_height()), \n",
    "                ha = 'center', va = 'center', \n",
    "                xytext = (0, 10), \n",
    "                textcoords = 'offset points', \n",
    "                bbox=dict(boxstyle='round,pad=0.5', fc='yellow', alpha=0.5),  # menambahkan kotak di sekitar teks\n",
    "                fontsize=12,  # ukuran font teks\n",
    "                color='black',  # warna font teks\n",
    "                )\n",
    "\n",
    "plt.title('Plot Jumlah Churn Pelanggan Berdasarkan Jumlah Layanan')\n",
    "plt.xlabel('Jumlah Layanan')\n",
    "plt.ylabel('Churn')\n",
    "plt.show()\n"
   ]
  },
  {
   "cell_type": "markdown",
   "metadata": {},
   "source": [
    "Berdasarkan data yang ditampilkan, terlihat bahwa semakin banyak layanan yang digunakan oleh pelanggan, semakin kecil peluang pelanggan tersebut untuk melakukan churn. \n",
    "\n",
    "Pada pelanggan yang tidak menggunakan layanan sama sekali (service_count = 0), jumlah churn mencapai 475 pelanggan, ini merupakan jumlah tertinggi di antara semua kelompok. \n",
    "\n",
    "Sebaliknya, pada kelompok pelanggan yang menggunakan 6 layanan (service_count = 6), jumlah churn sangat rendah, yaitu hanya 15 pelanggan.\n",
    "\n",
    "Ini menunjukkan bahwa pelanggan yang menggunakan lebih banyak layanan cenderung lebih puas dan lebih jarang melakukan churn. Oleh karena itu, perusahaan mungkin perlu mempertimbangkan strategi untuk mendorong pelanggan menggunakan lebih banyak layanan, seperti penawaran bundel layanan atau diskon untuk pelanggan yang menggunakan banyak layanan."
   ]
  },
  {
   "cell_type": "markdown",
   "metadata": {},
   "source": [
    "<div class=\"alert alert-success\">\n",
    "<b>Code Reviewers's comment v.1</b> <a class=\"tocSkip\"></a>\n",
    "\n",
    "Bagus, semua berjalan lancar.\n",
    "\n",
    "</div>"
   ]
  },
  {
   "cell_type": "markdown",
   "metadata": {},
   "source": [
    "### Bagaimana dengan efek hari dalam seminggu pada churn pelanggan?"
   ]
  },
  {
   "cell_type": "code",
   "execution_count": 41,
   "metadata": {},
   "outputs": [
    {
     "data": {
      "text/plain": [
       "dayofweek\n",
       "Sunday       395\n",
       "Friday       345\n",
       "Tuesday      276\n",
       "Monday       230\n",
       "Saturday     224\n",
       "Thursday     219\n",
       "Wednesday    180\n",
       "Name: exited, dtype: int32"
      ]
     },
     "execution_count": 41,
     "metadata": {},
     "output_type": "execute_result"
    }
   ],
   "source": [
    "# Menghitung jumlah churn untuk setiap hari dalam seminggu\n",
    "churn_per_day = telecom_df.groupby('dayofweek')['exited'].sum().sort_values(ascending=False)\n",
    "churn_per_day"
   ]
  },
  {
   "cell_type": "code",
   "execution_count": 42,
   "metadata": {},
   "outputs": [
    {
     "data": {
      "image/png": "[encoded data removed]",
      "text/plain": [
       "<Figure size 720x432 with 1 Axes>"
      ]
     },
     "metadata": {
      "needs_background": "light"
     },
     "output_type": "display_data"
    }
   ],
   "source": [
    "# Mengatur ukuran plot\n",
    "plt.figure(figsize=(10,6))\n",
    "\n",
    "# Membuat bar plot\n",
    "ax = sns.barplot(x=churn_per_day.index, y=churn_per_day.values, palette='viridis')\n",
    "\n",
    "# Menambahkan label pada setiap bar\n",
    "for p in ax.patches:\n",
    "    height = p.get_height()\n",
    "    ax.text(x = p.get_x()+(p.get_width()/2), \n",
    "            y = height, \n",
    "            s = '{:.0f}'.format(height), \n",
    "            ha = 'center') \n",
    "\n",
    "# Memberi judul dan label sumbu\n",
    "plt.title('Plot Jumlah Churn untuk Setiap Hari dalam Seminggu')\n",
    "plt.xlabel('Hari dalam Seminggu')\n",
    "plt.ylabel('Jumlah Churn')\n",
    "\n",
    "# Menampilkan plot\n",
    "plt.show()"
   ]
  },
  {
   "cell_type": "markdown",
   "metadata": {},
   "source": [
    "Kita dapat melihat bahwa churn paling banyak terjadi pada akhir pekan. Dengan pengetahuan ini, telekomunikasi Interkoneksi dapat memperkenalkan insentif dan bonus layanan akhir pekan untuk memastikan pelanggan tidak memutuskan layanan mereka selama akhir pekan."
   ]
  },
  {
   "cell_type": "markdown",
   "metadata": {},
   "source": [
    "<div class=\"alert alert-success\">\n",
    "<b>Code Reviewers's comment v.1</b> <a class=\"tocSkip\"></a>\n",
    "\n",
    "Bagus, semua berjalan lancar.\n",
    "\n",
    "</div>"
   ]
  },
  {
   "cell_type": "markdown",
   "metadata": {},
   "source": [
    "### Bulan apa yang paling banyak mengalami churn dan bagaimana cara mencegahnya?"
   ]
  },
  {
   "cell_type": "code",
   "execution_count": 43,
   "metadata": {},
   "outputs": [
    {
     "data": {
      "text/plain": [
       "month\n",
       "September    257\n",
       "November     224\n",
       "October      212\n",
       "December     204\n",
       "August       151\n",
       "July         142\n",
       "June         132\n",
       "May          126\n",
       "February     122\n",
       "March        107\n",
       "April         98\n",
       "January       94\n",
       "Name: exited, dtype: int32"
      ]
     },
     "execution_count": 43,
     "metadata": {},
     "output_type": "execute_result"
    }
   ],
   "source": [
    "churn_per_month = telecom_df.groupby('month')['exited'].sum().sort_values(ascending=False)\n",
    "churn_per_month"
   ]
  },
  {
   "cell_type": "code",
   "execution_count": 44,
   "metadata": {},
   "outputs": [
    {
     "data": {
      "image/png": "[encoded data removed]",
      "text/plain": [
       "<Figure size 864x576 with 1 Axes>"
      ]
     },
     "metadata": {
      "needs_background": "light"
     },
     "output_type": "display_data"
    }
   ],
   "source": [
    "# Mengatur ukuran plot\n",
    "plt.figure(figsize=(12,8))\n",
    "\n",
    "# Membuat bar plot\n",
    "ax = sns.barplot(x=churn_per_month.index, y=churn_per_month.values, palette='viridis')\n",
    "\n",
    "# Menambahkan label pada setiap bar\n",
    "for p in ax.patches:\n",
    "    height = p.get_height()\n",
    "    ax.text(x = p.get_x()+(p.get_width()/2), \n",
    "            y = height, \n",
    "            s = '{:.0f}'.format(height), \n",
    "            ha = 'center') \n",
    "\n",
    "# Memberi judul dan label sumbu\n",
    "plt.title('Plot Jumlah Churn untuk Setiap Bulan')\n",
    "plt.xlabel('Bulan')\n",
    "plt.ylabel('Jumlah Churn')\n",
    "\n",
    "# Menampilkan plot\n",
    "plt.show()\n"
   ]
  },
  {
   "cell_type": "markdown",
   "metadata": {},
   "source": [
    "Dari data di atas, kita bisa melihat bahwa churn pelanggan paling banyak terjadi pada bulan September, November, dan Oktober. Hal ini bisa disebabkan oleh berbagai faktor, mungkin terkait dengan kondisi pasar pada bulan-bulan tersebut, atau ada kebijakan perusahaan yang kurang disukai pelanggan pada periode tersebut."
   ]
  },
  {
   "cell_type": "markdown",
   "metadata": {},
   "source": [
    "### Kesimpulan \n",
    "\n",
    "Berikut adalah beberapa simpulan dan rekomendasi berdasarkan analisis data yang telah dilakukan:\n",
    "\n",
    "1. **Preferensi Pembayaran**: Mayoritas pelanggan Interconnect lebih memilih pembayaran bulanan dengan 55.2% dari pembayaran dilakukan dengan metode ini. Oleh karena itu, Interconnect dapat terus mempertahankan dan memperluas opsi pembayaran bulanan mereka.\n",
    "\n",
    "2. **Metode Pembayaran**: Pembayaran yang dilakukan dengan cek elektronik memiliki total tagihan tertinggi dan oleh karena itu akan membawa pendapatan terbanyak. Interconnect mungkin perlu mempertimbangkan untuk mendorong metode pembayaran ini kepada pelanggan mereka, mungkin dengan menawarkan insentif atau diskon bagi mereka yang menggunakan cek elektronik.\n",
    "\n",
    "3. **Jenis Kontrak**: Pelanggan dengan kontrak dua tahun menghasilkan total tagihan tertinggi dan pendapatan total lebih banyak dibandingkan dengan pelanggan dengan kontrak satu tahun. Untuk memaksimalkan pendapatan, Interconnect dapat menargetkan lebih banyak pelanggan untuk mendaftar kontrak dua tahun.\n",
    "\n",
    "4. **Churn dan Jenis Kontrak**: Pelanggan dengan kontrak dua tahun memiliki tingkat churn lebih rendah dibandingkan dengan jenis kontrak lainnya. Ini menunjukkan bahwa kontrak jangka panjang dapat membantu dalam mempertahankan pelanggan dan mengurangi churn. Interconnect mungkin perlu meninjau strategi mereka untuk mendorong lebih banyak pelanggan untuk mendaftar kontrak dua tahun.\n",
    "\n",
    "5. **Churn dan Jumlah Layanan**: Pelanggan yang menggunakan lebih dari 5 layanan sekaligus memiliki tingkat churn yang lebih rendah. Mendorong penggunaan layanan tambahan dapat menjadi strategi efektif untuk mempertahankan pelanggan dan mengurangi churn.\n",
    "\n",
    "6. **Churn dan Waktu**: Churn paling banyak terjadi pada akhir pekan. Interconnect mungkin perlu meninjau strategi layanan pelanggan mereka selama akhir pekan dan memastikan bahwa mereka memiliki sumber daya yang cukup untuk melayani pelanggan dan mencegah churn.\n",
    "\n",
    "Berdasarkan simpulan ini, berikut adalah rekomendasi tindakan:\n",
    "\n",
    "1. **Rencana Dua Tahun**: Perkenalkan lebih banyak opsi rencana kontrak dua tahun untuk menarik lebih banyak pelanggan.\n",
    "\n",
    "2. **Promosi**: Lakukan kampanye pemasaran dan acara promosi untuk mempromosikan rencana dua tahun.\n",
    "\n",
    "3. **Pembayaran Cek Elektronik**: Dorong pelanggan untuk melakukan pembayaran menggunakan cek elektronik, mungkin dengan menawarkan insentif atau diskon.\n",
    "\n",
    "4. **Layanan Tambahan**: Berikan insentif untuk pelanggan yang menggunakan lebih dari 5 layanan sekaligus, seperti diskon atau layanan premium.\n",
    "\n",
    "5. **Mencegah Churn**: Perkenalkan bonus, rencana layanan gratis, atau layanan streaming dengan diskon pada periode di mana tingkat churn cenderung tinggi, seperti akhir pekan.\n",
    "\n",
    "Dengan mengimplementasikan tindakan ini, Interconnect dapat berpotensi mengurangi tingkat churn dan meningkatkan pendapatan mereka."
   ]
  },
  {
   "cell_type": "markdown",
   "metadata": {},
   "source": [
    "<div class=\"alert alert-success\">\n",
    "<b>Code Reviewers's comment v.1</b> <a class=\"tocSkip\"></a>\n",
    "\n",
    "Bagus, semua berjalan lancar.\n",
    "\n",
    "</div>"
   ]
  },
  {
   "cell_type": "markdown",
   "metadata": {},
   "source": [
    "<a id='section4'></a>\n",
    "## Proses Pemodelan\n",
    "Di sini, kita akan melatih beberapa model. Kita akan melatih beberapa model  tree-based models, gradient-boosted model , dan eaf-based model. Metrik utama yang kita pilih untuk mengevaluasi model adalah AUC-ROC. Metrik sekunder adalah akurasi. AUC menghitung area di bawah kurva dan tujuannya adalah untuk memaksimalkan area ini. Akurasi memberi tahu kita seberapa sering klasifikasi benar dan tujuannya adalah untuk memaksimalkan akurasi."
   ]
  },
  {
   "cell_type": "markdown",
   "metadata": {},
   "source": [
    "### Rekayasa Fitur untuk Pembelajaran Mesin\n",
    "Kami melakukan rekayasa fitur untuk mengkodekan semua fitur kategorikal menjadi numerik. Pengkodean fitur membuat mereka berguna untuk pembelajaran mesin. Kami akan menerapkan one-hot encoding, target encoding, dan ordinal encoding tergantung pada algoritma pembelajaran mesin. Ringkasan hasil ditunjukkan di bawah."
   ]
  },
  {
   "cell_type": "code",
   "execution_count": 45,
   "metadata": {},
   "outputs": [
    {
     "data": {
      "text/html": [
       "<div>\n",
       "<style scoped>\n",
       "    .dataframe tbody tr th:only-of-type {\n",
       "        vertical-align: middle;\n",
       "    }\n",
       "\n",
       "    .dataframe tbody tr th {\n",
       "        vertical-align: top;\n",
       "    }\n",
       "\n",
       "    .dataframe thead th {\n",
       "        text-align: right;\n",
       "    }\n",
       "</style>\n",
       "<table border=\"1\" class=\"dataframe\">\n",
       "  <thead>\n",
       "    <tr style=\"text-align: right;\">\n",
       "      <th></th>\n",
       "      <th>Jenis Model</th>\n",
       "      <th>Model</th>\n",
       "      <th>Jenis Pengkodean</th>\n",
       "      <th>Highlight</th>\n",
       "      <th>Kekurangan / Kelebihan</th>\n",
       "    </tr>\n",
       "  </thead>\n",
       "  <tbody>\n",
       "    <tr>\n",
       "      <th>0</th>\n",
       "      <td>Statistical based</td>\n",
       "      <td>Logistic Regression</td>\n",
       "      <td>One-hot encoding</td>\n",
       "      <td>Kurang rentan terhadap overfitting</td>\n",
       "      <td>Dapat overfit di dataset berdimensi tinggi</td>\n",
       "    </tr>\n",
       "    <tr>\n",
       "      <th>1</th>\n",
       "      <td>Tree-based</td>\n",
       "      <td>Decision Tree</td>\n",
       "      <td>label encoding</td>\n",
       "      <td>Normalisasi atau penskalaan data tidak diperlukan</td>\n",
       "      <td>Cenderung overfitting</td>\n",
       "    </tr>\n",
       "    <tr>\n",
       "      <th>2</th>\n",
       "      <td>Tree-based</td>\n",
       "      <td>Random Forest</td>\n",
       "      <td>label encoding</td>\n",
       "      <td>Kekuatan prediktif yang sangat baik</td>\n",
       "      <td>Cenderung overfitting</td>\n",
       "    </tr>\n",
       "    <tr>\n",
       "      <th>3</th>\n",
       "      <td>Gradient-boosted</td>\n",
       "      <td>Catboost</td>\n",
       "      <td>Tanpa pengkodean</td>\n",
       "      <td>Dapat menangani data kategorikal dengan baik</td>\n",
       "      <td>Perlu membangun pohon keputusan dalam fitur de...</td>\n",
       "    </tr>\n",
       "    <tr>\n",
       "      <th>4</th>\n",
       "      <td>Gradient-boosted</td>\n",
       "      <td>XGBoost</td>\n",
       "      <td>One-hot encoding</td>\n",
       "      <td>Performa dan eksekusi model yang baik</td>\n",
       "      <td>Tidak bisa menangani fitur kategorikal (perlu ...</td>\n",
       "    </tr>\n",
       "    <tr>\n",
       "      <th>5</th>\n",
       "      <td>Gradient-boosted</td>\n",
       "      <td>LightGBM</td>\n",
       "      <td>Ordinal encoding</td>\n",
       "      <td>Sangat cepat</td>\n",
       "      <td>Butuh pengkodean untuk fitur kategorikal</td>\n",
       "    </tr>\n",
       "  </tbody>\n",
       "</table>\n",
       "</div>"
      ],
      "text/plain": [
       "         Jenis Model                Model  Jenis Pengkodean  \\\n",
       "0  Statistical based  Logistic Regression  One-hot encoding   \n",
       "1         Tree-based        Decision Tree    label encoding   \n",
       "2         Tree-based        Random Forest    label encoding   \n",
       "3   Gradient-boosted             Catboost  Tanpa pengkodean   \n",
       "4   Gradient-boosted              XGBoost  One-hot encoding   \n",
       "5   Gradient-boosted             LightGBM  Ordinal encoding   \n",
       "\n",
       "                                           Highlight  \\\n",
       "0                 Kurang rentan terhadap overfitting   \n",
       "1  Normalisasi atau penskalaan data tidak diperlukan   \n",
       "2                Kekuatan prediktif yang sangat baik   \n",
       "3       Dapat menangani data kategorikal dengan baik   \n",
       "4              Performa dan eksekusi model yang baik   \n",
       "5                                       Sangat cepat   \n",
       "\n",
       "                              Kekurangan / Kelebihan  \n",
       "0         Dapat overfit di dataset berdimensi tinggi  \n",
       "1                              Cenderung overfitting  \n",
       "2                              Cenderung overfitting  \n",
       "3  Perlu membangun pohon keputusan dalam fitur de...  \n",
       "4  Tidak bisa menangani fitur kategorikal (perlu ...  \n",
       "5           Butuh pengkodean untuk fitur kategorikal  "
      ]
     },
     "execution_count": 45,
     "metadata": {},
     "output_type": "execute_result"
    }
   ],
   "source": [
    "# Membuat DataFrame\n",
    "model_info = pd.DataFrame({\n",
    "    'Jenis Model': ['Statistical based', 'Tree-based','Tree-based', 'Gradient-boosted', 'Gradient-boosted', 'Gradient-boosted'],\n",
    "    'Model': ['Logistic Regression', 'Decision Tree', 'Random Forest', 'Catboost', 'XGBoost', 'LightGBM'],\n",
    "    'Jenis Pengkodean': ['One-hot encoding', 'label encoding', 'label encoding', 'Tanpa pengkodean', 'One-hot encoding', 'Ordinal encoding'],\n",
    "    'Highlight': ['Kurang rentan terhadap overfitting', 'Normalisasi atau penskalaan data tidak diperlukan', 'Kekuatan prediktif yang sangat baik', 'Dapat menangani data kategorikal dengan baik', 'Performa dan eksekusi model yang baik', 'Sangat cepat'],\n",
    "    'Kekurangan / Kelebihan': ['Dapat overfit di dataset berdimensi tinggi', 'Cenderung overfitting', 'Cenderung overfitting', 'Perlu membangun pohon keputusan dalam fitur dengan kardinalitas tinggi.', 'Tidak bisa menangani fitur kategorikal (perlu pengkodean)', 'Butuh pengkodean untuk fitur kategorikal']\n",
    "})\n",
    "\n",
    "model_info"
   ]
  },
  {
   "cell_type": "markdown",
   "metadata": {},
   "source": [
    "Untuk model berbasis pohon seperti decision tree dan random forest, kami menggunakan pengkodean label. Untuk regresi logistik dan XGBoost, kami menggunakan pengkodean satu-hot. XGBoost adalah algoritma Pembelajaran Mesin berbasis ansambel pohon keputusan yang menggunakan kerangka kerja peningkatan gradien. Regresor CatBoost memiliki implementasi sendiri untuk pengkodean fitur kategorikal. Dalam hal ini, kami membuat dataset terpisah tanpa pengkodean apa pun. Secara internal, catboost mengkodekan fitur kategorikal. Karena pengkodean satu-hot tidak optimal untuk LightGBM karena melakukan pengkodean sendiri untuk fitur kategorikal, kami menerapkan OrdinalEncoder pada fitur kategorikal LightGBM."
   ]
  },
  {
   "cell_type": "code",
   "execution_count": 46,
   "metadata": {},
   "outputs": [],
   "source": [
    "# menghapus fitur yang tidak penting\n",
    "df = telecom_df.drop(['customer_id', 'begin_date', 'end_date', 'end_date_value', 'dayofweek', 'month', 'year'], axis=1)\n",
    "\n",
    "# mendeklarasikan variabel untuk target dan fitur\n",
    "y = df.exited\n",
    "X = df.drop(['exited'], axis=1)\n",
    "\n",
    "# membagi data menjadi 75% pelatihan dan 25% pengujian\n",
    "X_train, X_test, y_train, y_test = train_test_split(X, y, test_size=0.25, random_state=12345)"
   ]
  },
  {
   "cell_type": "code",
   "execution_count": 47,
   "metadata": {},
   "outputs": [
    {
     "name": "stdout",
     "output_type": "stream",
     "text": [
      "Variabel kategorikal:\n",
      "['type', 'paperless_billing', 'payment_method', 'internet_service', 'online_security', 'online_backup', 'device_protection', 'tech_support', 'streaming_tv', 'streaming_movies', 'gender', 'partner', 'dependents', 'multiple_lines']\n"
     ]
    }
   ],
   "source": [
    "# membuat salinan dari dataset fitur yang sudah dipisah\n",
    "features_train = X_train.copy()\n",
    "features_test = X_test.copy()\n",
    "\n",
    "# memilih kolom numerik\n",
    "numerical_cols = [cname for cname in X_train.columns if X_train[cname].dtype in ['int64', 'int32', 'float32']]\n",
    "\n",
    "# daftar variabel kategorikal\n",
    "s = (features_train.dtypes == 'object')\n",
    "object_cols = list(s[s].index)\n",
    "print('Variabel kategorikal:')\n",
    "print(object_cols)"
   ]
  },
  {
   "cell_type": "code",
   "execution_count": 48,
   "metadata": {},
   "outputs": [],
   "source": [
    "# Enkoding fitur untuk pembelajaran mesin\n",
    "\n",
    "# Pendekatan 1: Enkoding Ordinal\n",
    "# buat salinan untuk menghindari perubahan data asli\n",
    "label__X_train = features_train.copy()\n",
    "label__X_test = features_test.copy()\n",
    "\n",
    "# terapkan enkoder ordinal ke setiap kolom dengan data kategorikal\n",
    "ordinal_encoder = OrdinalEncoder()\n",
    "label__X_train[object_cols] = ordinal_encoder.fit_transform(features_train[object_cols])\n",
    "label__X_test[object_cols] = ordinal_encoder.transform(features_test[object_cols])\n",
    "\n",
    "# Pendekatan 2: Enkoding One-Hot\n",
    "# enkoding one-hot dari fitur kategorikal\n",
    "df_ohe = pd.get_dummies(df, drop_first=True)\n",
    "\n",
    "# mendeklarasikan variabel untuk target dan fitur\n",
    "y_ohe = df_ohe.exited\n",
    "X_ohe = df_ohe.drop(['exited'], axis=1)\n",
    "\n",
    "# membagi data menjadi 75% pelatihan dan 25% set pengujian\n",
    "X_train_ohe, X_test_ohe, y_train_ohe, y_test_ohe = train_test_split(X_ohe, y_ohe, test_size=0.25, random_state=12345)\n",
    "\n",
    "# fitur numerik\n",
    "numerical_cols = [cname for cname in X_train_ohe.columns if X_train_ohe[cname].dtype in ['float32', 'float64', 'int64', 'int32']]\n",
    "\n",
    "# penskalaan fitur\n",
    "scaler = StandardScaler()\n",
    "scaler.fit(X_train_ohe[numerical_cols])\n",
    "# mengubah set pelatihan dan set pengujian menggunakan transform()\n",
    "X_train_ohe[numerical_cols] = scaler.transform(X_train_ohe[numerical_cols])\n",
    "X_test_ohe[numerical_cols]  = scaler.transform(X_test_ohe[numerical_cols])"
   ]
  },
  {
   "cell_type": "markdown",
   "metadata": {},
   "source": [
    "Kami telah membagi data menjadi 75% untuk pelatihan dan 25% untuk pengujian. Kami telah menerapkan metode pengkodean ordinal dan one-hot encoding pada fitur-fitur yang ada. Kami juga telah melakukan penskalaan pada data setelah one-hot encoding menggunakan fungsi StandardScaler. Selanjutnya, kami akan mengevaluasi apakah ada ketidakseimbangan dalam kelas target dan jika perlu, kami akan melakukan teknik penyeimbangan untuk meningkatkan kualitas model."
   ]
  },
  {
   "cell_type": "markdown",
   "metadata": {},
   "source": [
    "<div class=\"alert alert-success\">\n",
    "<b>Code Reviewers's comment v.1</b> <a class=\"tocSkip\"></a>\n",
    "\n",
    "Bagus, semua berjalan lancar.\n",
    "\n",
    "</div>"
   ]
  },
  {
   "cell_type": "markdown",
   "metadata": {},
   "source": [
    "### Memeriksa keseimbangan kelas"
   ]
  },
  {
   "cell_type": "code",
   "execution_count": 49,
   "metadata": {},
   "outputs": [],
   "source": [
    "# fungsi untuk menghitung metrik evaluasi model\n",
    "def print_model_evaluation(y_test, test_predictions):\n",
    "    print(\"\\033[1m\" + 'Skor F1: ' + \"\\033[0m\", '{:.3f}'.format(f1_score(y_test, test_predictions)))\n",
    "    print(\"\\033[1m\" + 'Skor Akurasi: ' + \"\\033[0m\", '{:.2%}'.format(accuracy_score(y_test, test_predictions)))\n",
    "    print(\"\\033[1m\" + 'Presisi: ' + \"\\033[0m\", '{:.3f}'.format(precision_score(y_test, test_predictions)))\n",
    "    print(\"\\033[1m\" + 'Recall: ' + \"\\033[0m\", '{:.3f}'.format(recall_score(y_test, test_predictions)))\n",
    "    print(\"\\033[1m\" + 'Skor Akurasi Seimbang: ' + \"\\033[0m\", '{:.2%}'.format(balanced_accuracy_score(y_test, test_predictions)))\n",
    "    print(\"\\033[1m\" + 'Skor AUC-ROC: ' + \"\\033[0m\", '{:.2%}'.format(roc_auc_score(y_test, test_predictions)))\n",
    "    print()\n",
    "    print(\"\\033[1m\" + 'Matriks Konfusi' + \"\\033[0m\")\n",
    "    print('-'*50)\n",
    "    print(confusion_matrix(y_test, test_predictions))\n",
    "    print()\n",
    "    print(\"\\033[1m\" + 'Laporan klasifikasi' + \"\\033[0m\")\n",
    "    print('-'*50)\n",
    "    print(classification_report(y_test, test_predictions))\n",
    "    print()\n"
   ]
  },
  {
   "cell_type": "code",
   "execution_count": 50,
   "metadata": {},
   "outputs": [],
   "source": [
    "# fungsi untuk mengevaluasi model klasifikasi\n",
    "def evaluate_model(model, train_features, train_target, test_features, test_target):\n",
    "    \n",
    "    eval_stats = {}\n",
    "    \n",
    "    fig, axs = plt.subplots(1, 3, figsize=(20, 6)) \n",
    "    \n",
    "    for type, features, target in (('train', train_features, train_target), ('test', test_features, test_target)):\n",
    "        \n",
    "        eval_stats[type] = {}\n",
    "    \n",
    "        pred_target = model.predict(features)\n",
    "        pred_proba = model.predict_proba(features)[:, 1]\n",
    "        \n",
    "        # F1\n",
    "        f1_thresholds = np.arange(0, 1.01, 0.05)\n",
    "        f1_scores = [metrics.f1_score(target, pred_proba>=threshold) for threshold in f1_thresholds]\n",
    "        \n",
    "        # ROC\n",
    "        fpr, tpr, roc_thresholds = metrics.roc_curve(target, pred_proba)\n",
    "        roc_auc = metrics.roc_auc_score(target, pred_proba)    \n",
    "        eval_stats[type]['ROC AUC'] = roc_auc\n",
    "\n",
    "        # PRC\n",
    "        precision, recall, pr_thresholds = metrics.precision_recall_curve(target, pred_proba)\n",
    "        aps = metrics.average_precision_score(target, pred_proba)\n",
    "        eval_stats[type]['APS'] = aps\n",
    "        \n",
    "        if type == 'train':\n",
    "            color = 'blue'\n",
    "        else:\n",
    "            color = 'green'\n",
    "\n",
    "        # F1 Score\n",
    "        ax = axs[0]\n",
    "        max_f1_score_idx = np.argmax(f1_scores)\n",
    "        ax.plot(f1_thresholds, f1_scores, color=color, label=f'{type}, max={f1_scores[max_f1_score_idx]:.2f} @ {f1_thresholds[max_f1_score_idx]:.2f}')\n",
    "        # setting crosses for some thresholds\n",
    "        for threshold in (0.2, 0.4, 0.5, 0.6, 0.8):\n",
    "            closest_value_idx = np.argmin(np.abs(f1_thresholds-threshold))\n",
    "            marker_color = 'orange' if threshold != 0.5 else 'red'\n",
    "            ax.plot(f1_thresholds[closest_value_idx], f1_scores[closest_value_idx], color=marker_color, marker='X', markersize=7)\n",
    "        ax.set_xlim([-0.02, 1.02])    \n",
    "        ax.set_ylim([-0.02, 1.02])\n",
    "        ax.set_xlabel('threshold')\n",
    "        ax.set_ylabel('F1')\n",
    "        ax.legend(loc='lower center')\n",
    "        ax.set_title(f'F1 Score') \n",
    "\n",
    "        # ROC\n",
    "        ax = axs[1]    \n",
    "        ax.plot(fpr, tpr, color=color, label=f'{type}, ROC AUC={roc_auc:.2f}')\n",
    "        # setting crosses for some thresholds\n",
    "        for threshold in (0.2, 0.4, 0.5, 0.6, 0.8):\n",
    "            closest_value_idx = np.argmin(np.abs(roc_thresholds-threshold))\n",
    "            marker_color = 'orange' if threshold != 0.5 else 'red'            \n",
    "            ax.plot(fpr[closest_value_idx], tpr[closest_value_idx], color=marker_color, marker='X', markersize=7)\n",
    "        ax.plot([0, 1], [0, 1], color='grey', linestyle='--')\n",
    "        ax.set_xlim([-0.02, 1.02])    \n",
    "        ax.set_ylim([-0.02, 1.02])\n",
    "        ax.set_xlabel('FPR')\n",
    "        ax.set_ylabel('TPR')\n",
    "        ax.legend(loc='lower center')        \n",
    "        ax.set_title(f'ROC Curve')\n",
    "        \n",
    "        # PRC\n",
    "        ax = axs[2]\n",
    "        ax.plot(recall, precision, color=color, label=f'{type}, AP={aps:.2f}')\n",
    "        # setting crosses for some thresholds\n",
    "        for threshold in (0.2, 0.4, 0.5, 0.6, 0.8):\n",
    "            closest_value_idx = np.argmin(np.abs(pr_thresholds-threshold))\n",
    "            marker_color = 'orange' if threshold != 0.5 else 'red'\n",
    "            ax.plot(recall[closest_value_idx], precision[closest_value_idx], color=marker_color, marker='X', markersize=7)\n",
    "        ax.set_xlim([-0.02, 1.02])    \n",
    "        ax.set_ylim([-0.02, 1.02])\n",
    "        ax.set_xlabel('recall')\n",
    "        ax.set_ylabel('precision')\n",
    "        ax.legend(loc='lower center')\n",
    "        ax.set_title(f'PRC')        \n",
    "\n",
    "        eval_stats[type]['Accuracy'] = metrics.accuracy_score(target, pred_target)\n",
    "        eval_stats[type]['F1'] = metrics.f1_score(target, pred_target)\n",
    "    \n",
    "    df_eval_stats = pd.DataFrame(eval_stats)\n",
    "    df_eval_stats = df_eval_stats.round(2)\n",
    "    df_eval_stats = df_eval_stats.reindex(index=('Accuracy', 'F1', 'APS', 'ROC AUC'))\n",
    "    \n",
    "    print(df_eval_stats)\n",
    "    \n",
    "    return"
   ]
  },
  {
   "cell_type": "markdown",
   "metadata": {},
   "source": [
    "<div class=\"alert alert-success\">\n",
    "<b>Code Reviewers's comment v.1</b> <a class=\"tocSkip\"></a>\n",
    "\n",
    "Bagus, semua berjalan lancar.\n",
    "\n",
    "</div>"
   ]
  },
  {
   "cell_type": "markdown",
   "metadata": {},
   "source": [
    "### Baseline Model"
   ]
  },
  {
   "cell_type": "code",
   "execution_count": 51,
   "metadata": {},
   "outputs": [],
   "source": [
    "#model baseline menggunakan klasifikasi dummy\n",
    "dummy_clf = DummyClassifier(strategy=\"most_frequent\")\n",
    "dummy_clf.fit(features_train, y_train)\n",
    "dummy_clf_test_predictions = dummy_clf.predict(features_test)"
   ]
  },
  {
   "cell_type": "code",
   "execution_count": 52,
   "metadata": {},
   "outputs": [
    {
     "name": "stdout",
     "output_type": "stream",
     "text": [
      "\u001b[1mSkor F1: \u001b[0m 0.000\n",
      "\u001b[1mSkor Akurasi: \u001b[0m 73.08%\n",
      "\u001b[1mPresisi: \u001b[0m 0.000\n",
      "\u001b[1mRecall: \u001b[0m 0.000\n",
      "\u001b[1mSkor Akurasi Seimbang: \u001b[0m 50.00%\n",
      "\u001b[1mSkor AUC-ROC: \u001b[0m 50.00%\n",
      "\n",
      "\u001b[1mMatriks Konfusi\u001b[0m\n",
      "--------------------------------------------------\n",
      "[[1287    0]\n",
      " [ 474    0]]\n",
      "\n",
      "\u001b[1mLaporan klasifikasi\u001b[0m\n",
      "--------------------------------------------------\n",
      "              precision    recall  f1-score   support\n",
      "\n",
      "           0       0.73      1.00      0.84      1287\n",
      "           1       0.00      0.00      0.00       474\n",
      "\n",
      "    accuracy                           0.73      1761\n",
      "   macro avg       0.37      0.50      0.42      1761\n",
      "weighted avg       0.53      0.73      0.62      1761\n",
      "\n",
      "\n"
     ]
    }
   ],
   "source": [
    "#evaluasi model baseline\n",
    "print_model_evaluation(y_test, dummy_clf_test_predictions)"
   ]
  },
  {
   "cell_type": "markdown",
   "metadata": {},
   "source": [
    "Model baseline memprediksi kelas yang paling sering muncul dalam hal ini \"0\". Dengan melihat laporan model baseline, kita dapat melihat bahwa akurasi rendah yaitu 73% dan skor AUC-ROC adalah 50%. Ini mewakili baseline sehingga kita seharusnya mengharapkan model kita untuk berkinerja lebih baik."
   ]
  },
  {
   "cell_type": "markdown",
   "metadata": {},
   "source": [
    "<div class=\"alert alert-success\">\n",
    "<b>Code Reviewers's comment v.1</b> <a class=\"tocSkip\"></a>\n",
    "\n",
    "Bagus, semua berjalan lancar.\n",
    "\n",
    "</div>"
   ]
  },
  {
   "cell_type": "markdown",
   "metadata": {},
   "source": [
    "### Sanity dengan Logistic regression"
   ]
  },
  {
   "cell_type": "code",
   "execution_count": 53,
   "metadata": {},
   "outputs": [
    {
     "name": "stdout",
     "output_type": "stream",
     "text": [
      "0    0.770585\n",
      "1    0.229415\n",
      "dtype: float64\n",
      "\n",
      "Accuracy score sebelum upsampling: 0.827\n"
     ]
    },
    {
     "data": {
      "image/png": "[encoded data removed]",
      "text/plain": [
       "<Figure size 432x288 with 1 Axes>"
      ]
     },
     "metadata": {
      "needs_background": "light"
     },
     "output_type": "display_data"
    }
   ],
   "source": [
    "# sanity check\n",
    "model = LogisticRegression(random_state=12345, solver='liblinear')\n",
    "model.fit(label__X_train, y_train) # melatih model \n",
    "test_predictions = pd.Series(model.predict(label__X_test))\n",
    "class_frequency = test_predictions.value_counts(normalize=True)\n",
    "print(class_frequency)\n",
    "class_frequency.plot(kind='bar');\n",
    "print()\n",
    "print('Accuracy score sebelum upsampling: {:.3f}'.format(accuracy_score(y_test, test_predictions)))"
   ]
  },
  {
   "cell_type": "markdown",
   "metadata": {},
   "source": [
    "Kami menilai keandalan model dengan memeriksa seberapa sering fitur target berisi kelas \"1\" atau \"0\". Kami dapat mengamati ketidakseimbangan kelas dalam set pengujian yang diprediksi. Selanjutnya kita mencoba untuk meningkatkan kualitas model menggunakan pendekatan upsampling untuk memperbaiki ketidakseimbangan kelas."
   ]
  },
  {
   "cell_type": "markdown",
   "metadata": {},
   "source": [
    "<div class=\"alert alert-success\">\n",
    "<b>Code Reviewers's comment v.1</b> <a class=\"tocSkip\"></a>\n",
    "\n",
    "Bagus, semua berjalan lancar.\n",
    "\n",
    "</div>"
   ]
  },
  {
   "cell_type": "markdown",
   "metadata": {},
   "source": [
    "### Upsampling untuk memperbaiki ketidakseimbangan kelas."
   ]
  },
  {
   "cell_type": "code",
   "execution_count": 54,
   "metadata": {},
   "outputs": [],
   "source": [
    "# function untuk menjalankan upsampling \n",
    "def upsample(features, target, repeat):\n",
    "    features_zeros = features[target == 0]\n",
    "    features_ones = features[target == 1]\n",
    "    target_zeros = target[target == 0]\n",
    "    target_ones = target[target == 1]\n",
    "\n",
    "    features_upsampled = pd.concat([features_zeros] + [features_ones] * repeat)\n",
    "    target_upsampled = pd.concat([target_zeros] + [target_ones] * repeat)\n",
    "\n",
    "    features_upsampled, target_upsampled = shuffle(\n",
    "        features_upsampled, target_upsampled, random_state=12345\n",
    "    )\n",
    "    return features_upsampled, target_upsampled\n",
    "\n",
    "#  membuat training baru\n",
    "features_upsampled, target_upsampled = upsample(\n",
    "    label__X_train, y_train, 5\n",
    ")"
   ]
  },
  {
   "cell_type": "code",
   "execution_count": 55,
   "metadata": {},
   "outputs": [
    {
     "name": "stdout",
     "output_type": "stream",
     "text": [
      "0    0.504259\n",
      "1    0.495741\n",
      "dtype: float64\n",
      "\n",
      "Accuracy score setelah upsampling: 0.719\n"
     ]
    },
    {
     "data": {
      "image/png": "[encoded data removed]",
      "text/plain": [
       "<Figure size 432x288 with 1 Axes>"
      ]
     },
     "metadata": {
      "needs_background": "light"
     },
     "output_type": "display_data"
    }
   ],
   "source": [
    "# sanity check setelah upsampling\n",
    "model = LogisticRegression(random_state=12345, solver='liblinear')\n",
    "model.fit(features_upsampled, target_upsampled) #melatih model  \n",
    "test_predictions = pd.Series(model.predict(label__X_test))\n",
    "class_frequency = test_predictions.value_counts(normalize=True)\n",
    "print(class_frequency)\n",
    "class_frequency.plot(kind='bar');\n",
    "print()\n",
    "print('Accuracy score setelah upsampling: {:.3f}'.format(accuracy_score(y_test, test_predictions)))"
   ]
  },
  {
   "cell_type": "markdown",
   "metadata": {},
   "source": [
    "Menggunakan teknik upsampling, kami telah dapat menyelesaikan masalah ketidakseimbangan kelas. Kelas telah seimbang meskipun akurasi model tidak meningkat."
   ]
  },
  {
   "cell_type": "markdown",
   "metadata": {},
   "source": [
    "<div class=\"alert alert-success\">\n",
    "<b>Code Reviewers's comment v.1</b> <a class=\"tocSkip\"></a>\n",
    "\n",
    "Bagus, semua berjalan lancar.\n",
    "\n",
    "</div>"
   ]
  },
  {
   "cell_type": "markdown",
   "metadata": {},
   "source": [
    "### Membuat dictionary untuk menyimpan hasil"
   ]
  },
  {
   "cell_type": "code",
   "execution_count": 137,
   "metadata": {},
   "outputs": [],
   "source": [
    "# Membuat dictionary untuk menyimpan hasil\n",
    "results = {\n",
    "    \"Models\": [],\n",
    "    \"Hyperparameter tuning time\": [],\n",
    "    \"Training time\": [],\n",
    "    \"Prediction time (train)\": [],\n",
    "    \"AUC-ROC score (train)\": [],\n",
    "    \"Accuracy score (train)\": [],\n",
    "    \"Prediction time (test)\": [],\n",
    "    \"AUC-ROC score (test)\": [],\n",
    "    \"Accuracy score (test)\": []\n",
    "}\n",
    "\n",
    "def evaluate_model(name, model, params, X_train, y_train, X_test, y_test):\n",
    "    # Hyperparameter tuning dan menghitung waktu\n",
    "    start_time = time.time()\n",
    "    model_cv = GridSearchCV(model, param_grid=params, cv=5, scoring='roc_auc')\n",
    "    model_cv.fit(X_train, y_train)\n",
    "    tuning_time = time.time() - start_time\n",
    "\n",
    "    # Dapatkan model terbaik\n",
    "    model_best = model_cv.best_estimator_\n",
    "\n",
    "    # Training dan menghitung waktu\n",
    "    start_time = time.time()\n",
    "    model_best.fit(X_train, y_train)\n",
    "    training_time = time.time() - start_time\n",
    "\n",
    "    # Prediksi dan menghitung waktu pada data training\n",
    "    start_time = time.time()\n",
    "    pred_train = model_best.predict(X_train)\n",
    "    pred_proba_train = model_best.predict_proba(X_train)[:, 1]\n",
    "    prediction_time_train = time.time() - start_time\n",
    "\n",
    "    # Prediksi dan menghitung waktu pada data uji\n",
    "    start_time = time.time()\n",
    "    pred_test = model_best.predict(X_test)\n",
    "    pred_proba_test = model_best.predict_proba(X_test)[:, 1]\n",
    "    prediction_time_test = time.time() - start_time\n",
    "\n",
    "    # Menghitung skor pada data training\n",
    "    auc_roc_score_train = roc_auc_score(y_train, pred_proba_train)\n",
    "    accuracy_score_train = accuracy_score(y_train, pred_train)\n",
    "\n",
    "    # Menghitung skor pada data uji\n",
    "    auc_roc_score_test = roc_auc_score(y_test, pred_proba_test)\n",
    "    accuracy_score_test = accuracy_score(y_test, pred_test)\n",
    "\n",
    "    # Menyimpan hasil\n",
    "    results[\"Models\"].append(name)\n",
    "    results[\"Hyperparameter tuning time\"].append(f\"{tuning_time:.2f} s\")\n",
    "    results[\"Training time\"].append(f\"{training_time:.2f} s\")\n",
    "    results[\"Prediction time (train)\"].append(f\"{prediction_time_train:.2f} s\")\n",
    "    results[\"AUC-ROC score (train)\"].append(f\"{auc_roc_score_train * 100:.2f} %\")\n",
    "    results[\"Accuracy score (train)\"].append(f\"{accuracy_score_train * 100:.2f} %\")\n",
    "    results[\"Prediction time (test)\"].append(f\"{prediction_time_test:.2f} s\")\n",
    "    results[\"AUC-ROC score (test)\"].append(f\"{auc_roc_score_test * 100:.2f} %\")\n",
    "    results[\"Accuracy score (test)\"].append(f\"{accuracy_score_test * 100:.2f} %\")\n"
   ]
  },
  {
   "cell_type": "markdown",
   "metadata": {},
   "source": [
    "<div class=\"alert alert-success\">\n",
    "<b>Code Reviewers's comment v.1</b> <a class=\"tocSkip\"></a>\n",
    "\n",
    "Bagus, semua berjalan lancar.\n",
    "\n",
    "</div>"
   ]
  },
  {
   "cell_type": "markdown",
   "metadata": {},
   "source": [
    "<a id='section5'></a>\n",
    "## Model Training"
   ]
  },
  {
   "cell_type": "code",
   "execution_count": 138,
   "metadata": {},
   "outputs": [],
   "source": [
    "# fungsi untuk plot confusion matrix\n",
    "def plot_confusion_matrix(y, y_predict):\n",
    "    \"Fungsi ini digunakan untuk memplot matriks kebingungan/confusion matrix\"\n",
    "    \n",
    "    # menghitung confusion matrix\n",
    "    cm = confusion_matrix(y, y_predict)\n",
    "    \n",
    "    # membuat plot\n",
    "    fig, ax = plt.subplots(figsize=(6,6))\n",
    "    \n",
    "    # menggunakan heatmap dari seaborn\n",
    "    sns.heatmap(cm, annot=True, fmt='g', cmap='Blues', ax = ax)\n",
    "    \n",
    "    # memberi label sumbu\n",
    "    ax.set_xlabel('Label Prediksi')\n",
    "    ax.set_ylabel('Label Sebenarnya')\n",
    "    \n",
    "    # memberi judul\n",
    "    ax.set_title('Confusion Matrix')\n",
    "    \n",
    "    # memberi label untuk kelas\n",
    "    ax.xaxis.set_ticklabels(['Tidak Churn', 'Churn'])\n",
    "    ax.yaxis.set_ticklabels(['Tidak Churn', 'Churn'])\n",
    "    \n",
    "    # menampilkan jumlah sampel di setiap kelas pada confusion matrix\n",
    "    for i in range(2):\n",
    "        for j in range(2):\n",
    "            ax.text(j+0.5,i+0.5,cm[i,j],\n",
    "                    ha='center',va='center',color='red')\n",
    "\n",
    "    plt.show()\n"
   ]
  },
  {
   "cell_type": "code",
   "execution_count": 139,
   "metadata": {},
   "outputs": [],
   "source": [
    "# Melakukan proses upsampling pada dataset yang telah dikodekan dengan label (label__X_train, y_train)\n",
    "label__X_train_upsampled, y_train_upsampled = upsample(\n",
    "    label__X_train, y_train, 5\n",
    ")\n",
    "\n",
    "# Melakukan proses upsampling pada dataset yang telah diubah dengan one-hot encoding (X_train_ohe, y_train_ohe)\n",
    "X_train_ohe_upsampled, y_train_ohe_upsampled = upsample(\n",
    "    X_train_ohe, y_train_ohe, 5\n",
    ")\n",
    "\n",
    "# Melakukan proses upsampling pada dataset latihan awal (X_train, y_train)\n",
    "X_train_upsampled, y_train_upsampled = upsample(\n",
    "    X_train, y_train, 5\n",
    ")"
   ]
  },
  {
   "cell_type": "markdown",
   "metadata": {},
   "source": [
    "<div class=\"alert alert-success\">\n",
    "<b>Code Reviewers's comment v.1</b> <a class=\"tocSkip\"></a>\n",
    "\n",
    "Bagus, semua berjalan lancar.\n",
    "\n",
    "</div>"
   ]
  },
  {
   "cell_type": "markdown",
   "metadata": {},
   "source": [
    "### Logistic Regression"
   ]
  },
  {
   "cell_type": "code",
   "execution_count": 140,
   "metadata": {},
   "outputs": [
    {
     "name": "stdout",
     "output_type": "stream",
     "text": [
      "Hyperparameter terbaik adalah: {'C': 1, 'penalty': 'l2', 'solver': 'lbfgs'}\n",
      "CPU times: user 2.49 s, sys: 3.76 s, total: 6.25 s\n",
      "Wall time: 6.26 s\n"
     ]
    }
   ],
   "source": [
    "%%time\n",
    "\n",
    "# Mendefinisikan hyperparameter yang akan dituning \n",
    "grid_logreg = {\n",
    "    \"C\": [0.01, 0.1, 1],\n",
    "    'penalty': ['l2'], # l1 lasso l2 ridge\n",
    "    'solver': ['lbfgs']\n",
    "}\n",
    "\n",
    "# Mendefinisikan model\n",
    "logreg_clf = LogisticRegression(random_state = 12345)\n",
    "# Mendefinisikan objek pencarian grid\n",
    "grid_search_logreg = GridSearchCV(\n",
    "    estimator = logreg_clf,\n",
    "    param_grid = grid_logreg,\n",
    "    scoring = 'roc_auc',\n",
    "    cv = 10\n",
    ")\n",
    "# Melakukan pencarian\n",
    "logreg_cv = grid_search_logreg.fit(X_train_ohe, y_train_ohe)\n",
    "\n",
    "# Menampilkan hasil\n",
    "print('Hyperparameter terbaik adalah: {}'.format(logreg_cv.best_params_))\n"
   ]
  },
  {
   "cell_type": "code",
   "execution_count": 141,
   "metadata": {},
   "outputs": [],
   "source": [
    "#%%time\n",
    "\n",
    "# Mendefinisikan hyperparameter yang akan dituning \n",
    "grid_logreg = {\n",
    "    \"C\": [0.01, 0.1, 1],\n",
    "    'penalty': ['l2'], # l1 lasso l2 ridge\n",
    "    'solver': ['lbfgs']\n",
    "}\n",
    "\n",
    "# Mendefinisikan model\n",
    "logreg_clf = LogisticRegression(random_state = 12345)\n",
    "# Mendefinisikan objek pencarian grid\n",
    "grid_search_logreg = GridSearchCV(\n",
    "    estimator = logreg_clf,\n",
    "    param_grid = grid_logreg,\n",
    "    scoring = 'roc_auc',\n",
    "    cv = 10\n",
    ")\n",
    "# Melakukan pencarian\n",
    "logreg_cv = grid_search_logreg.fit(X_train_ohe, y_train_ohe)\n",
    "\n",
    "# Menampilkan hasil\n",
    "print('Hyperparameter terbaik adalah: {}'.format(logreg_cv.best_params_))\n"
   ]
  },
  {
   "cell_type": "code",
   "execution_count": 142,
   "metadata": {},
   "outputs": [
    {
     "name": "stdout",
     "output_type": "stream",
     "text": [
      "CPU times: user 91.9 ms, sys: 146 ms, total: 237 ms\n",
      "Wall time: 210 ms\n"
     ]
    }
   ],
   "source": [
    "%%time\n",
    "# melatih logistic regression classifier \n",
    "train_logistic_regression_classifier(X_train_ohe, y_train_ohe)"
   ]
  },
  {
   "cell_type": "code",
   "execution_count": 143,
   "metadata": {},
   "outputs": [
    {
     "name": "stdout",
     "output_type": "stream",
     "text": [
      "\u001b[1mSkor AUC-ROC dan Akurasi menggunakan Klasifikasi Regresi Logistik : \u001b[0m\n",
      "Skor AUC-ROC: 88.30%\n",
      "Skor Akurasi: 83.30%\n",
      "\n"
     ]
    },
    {
     "data": {
      "image/png": "[encoded data removed]",
      "text/plain": [
       "<Figure size 864x432 with 1 Axes>"
      ]
     },
     "metadata": {
      "needs_background": "light"
     },
     "output_type": "display_data"
    },
    {
     "name": "stdout",
     "output_type": "stream",
     "text": [
      "CPU times: user 612 ms, sys: 174 ms, total: 786 ms\n",
      "Wall time: 823 ms\n"
     ]
    }
   ],
   "source": [
    "%%time\n",
    "# Membuat prediksi dengan klasifikasi regresi logistik untuk data uji\n",
    "logistic_regression_classifier_prediction(X_test_ohe, y_test_ohe)"
   ]
  },
  {
   "cell_type": "code",
   "execution_count": 144,
   "metadata": {},
   "outputs": [
    {
     "data": {
      "image/png": "[encoded data removed]",
      "text/plain": [
       "<Figure size 432x432 with 2 Axes>"
      ]
     },
     "metadata": {
      "needs_background": "light"
     },
     "output_type": "display_data"
    }
   ],
   "source": [
    "# plot confusion matrix\n",
    "plot_confusion_matrix(y_test, logreg_pred)"
   ]
  },
  {
   "cell_type": "markdown",
   "metadata": {},
   "source": [
    "#### input hasil prediksi model ke Dataframe"
   ]
  },
  {
   "cell_type": "code",
   "execution_count": 145,
   "metadata": {},
   "outputs": [],
   "source": [
    "logreg_cv_params = logreg_cv.best_params_\n",
    "# Mengubah setiap value menjadi list\n",
    "logreg_cv_params = {k: [v] for k, v in logreg_cv_params.items()}\n",
    "\n",
    "# otomatisasi skor agar skor masuk ke dalam result dataframe\n",
    "evaluate_model('Logistic Regression', logreg_clf, logreg_cv_params, X_train_ohe, y_train_ohe, X_test_ohe, y_test_ohe)"
   ]
  },
  {
   "cell_type": "markdown",
   "metadata": {},
   "source": [
    "<div class=\"alert alert-success\">\n",
    "<b>Code Reviewers's comment v.1</b> <a class=\"tocSkip\"></a>\n",
    "\n",
    "Bagus, semua berjalan lancar.\n",
    "\n",
    "</div>"
   ]
  },
  {
   "cell_type": "markdown",
   "metadata": {},
   "source": [
    "### Decision Tree Classifier"
   ]
  },
  {
   "cell_type": "code",
   "execution_count": 146,
   "metadata": {},
   "outputs": [
    {
     "name": "stdout",
     "output_type": "stream",
     "text": [
      "Hyperparameter terbaik adalah: {'criterion': 'entropy', 'max_depth': 8, 'min_samples_leaf': 2, 'min_samples_split': 16}\n",
      "CPU times: user 18.6 s, sys: 89.6 ms, total: 18.6 s\n",
      "Wall time: 18.7 s\n"
     ]
    }
   ],
   "source": [
    "%%time\n",
    "# Optimasi hyperparameter untuk klasifikasi pohon keputusan\n",
    "\n",
    "# Mendefinisikan hyperparameter yang akan diuji\n",
    "grid_dt = {\n",
    "    \"criterion\" : [\"gini\", \"entropy\"], # kriteria untuk split\n",
    "    \"max_depth\" : [None, 2, 4, 8, 10, 12], # kedalaman maksimum pohon\n",
    "    \"min_samples_split\" : [2, 4, 8, 16], # jumlah minimum sampel untuk split simpul internal\n",
    "    \"min_samples_leaf\" : [2, 4, 6] # jumlah minimum sampel untuk simpul daun\n",
    "}\n",
    "# Mendefinisikan model\n",
    "dt_clf = DecisionTreeClassifier(random_state = 12345)\n",
    "\n",
    "# Mendefinisikan objek grid search\n",
    "grid_search_dt = GridSearchCV(estimator=dt_clf, param_grid = grid_dt, cv=5, scoring = 'roc_auc')\n",
    "\n",
    "# Melakukan pencarian hyperparameter optimal\n",
    "dt_cv = grid_search_dt.fit(label__X_train, y_train)\n",
    "\n",
    "# Menampilkan hasil pencarian hyperparameter optimal\n",
    "print('Hyperparameter terbaik adalah: {}'.format(dt_cv.best_params_))"
   ]
  },
  {
   "cell_type": "code",
   "execution_count": 147,
   "metadata": {},
   "outputs": [],
   "source": [
    "# fungsi untuk melatih model dan membuat prediksi\n",
    "def train_decision_tree_classifier(X_train, y_train):\n",
    "    \"\"\"Fungsi ini melatih model klasifikasi pohon keputusan\"\"\"\n",
    "    global dt_model\n",
    "    # membangun model\n",
    "    dt_model = DecisionTreeClassifier(**grid_search_dt.best_params_)\n",
    "    dt_model.fit(X_train, y_train) # melatih model \n",
    "    \n",
    "def decision_tree_classifier_prediction(X_test, y_test):\n",
    "    \"\"\"\"\n",
    "    Fungsi ini digunakan untuk membuat prediksi \n",
    "    menggunakan model klasifikasi pohon keputusan\n",
    "    \"\"\"\n",
    "    global dt_pred, dt_pred_proba\n",
    "    dt_pred = dt_model.predict(X_test)\n",
    "    dt_pred_proba = dt_model.predict_proba(X_test)[:, 1]\n",
    "    \n",
    "    # menentukan skor AUC-ROC\n",
    "    print(\"\\033[1m\" + 'Skor AUC-ROC dan Akurasi menggunakan Klasifikasi Pohon Keputusan: ' + \"\\033[0m\")\n",
    "    print('Skor AUC-ROC: {:.2%}'.format(roc_auc_score(y_test, dt_pred_proba)))\n",
    "    \n",
    "    # menentukan akurasi untuk klasifikasi pohon keputusan\n",
    "    dt_accuracy = accuracy_score(y_test, dt_pred)\n",
    "    print('Akurasi: {:.2%}'.format(dt_accuracy))\n",
    "    print()\n",
    "    \n",
    "    # pentingnya fitur dari klasifikasi pohon keputusan\n",
    "    sorted_feature_importance = dt_model.feature_importances_.argsort()\n",
    "    plt.figure(figsize=(8,6))\n",
    "    plt.barh(label__X_train.columns[sorted_feature_importance], \n",
    "             dt_model.feature_importances_[sorted_feature_importance], \n",
    "             color='turquoise')\n",
    "    plt.xlabel(\"Pentingnya Fitur dari Klasifikasi Pohon Keputusan\")"
   ]
  },
  {
   "cell_type": "code",
   "execution_count": 148,
   "metadata": {},
   "outputs": [
    {
     "name": "stdout",
     "output_type": "stream",
     "text": [
      "CPU times: user 30.8 ms, sys: 0 ns, total: 30.8 ms\n",
      "Wall time: 42.7 ms\n"
     ]
    }
   ],
   "source": [
    "%%time\n",
    "# train decision tree classifier\n",
    "train_decision_tree_classifier(label__X_train, y_train)"
   ]
  },
  {
   "cell_type": "code",
   "execution_count": 149,
   "metadata": {},
   "outputs": [
    {
     "name": "stdout",
     "output_type": "stream",
     "text": [
      "\u001b[1mSkor AUC-ROC dan Akurasi menggunakan Klasifikasi Pohon Keputusan: \u001b[0m\n",
      "Skor AUC-ROC: 87.66%\n",
      "Akurasi: 84.61%\n",
      "\n",
      "CPU times: user 45.2 ms, sys: 13 µs, total: 45.2 ms\n",
      "Wall time: 42.9 ms\n"
     ]
    },
    {
     "data": {
      "image/png": "[encoded data removed]",
      "text/plain": [
       "<Figure size 576x432 with 1 Axes>"
      ]
     },
     "metadata": {
      "needs_background": "light"
     },
     "output_type": "display_data"
    }
   ],
   "source": [
    "%%time\n",
    "# Membuat prediksi dengan klasifikasi decision tree classifier untuk data uji \n",
    "decision_tree_classifier_prediction(label__X_test, y_test)"
   ]
  },
  {
   "cell_type": "code",
   "execution_count": 150,
   "metadata": {},
   "outputs": [
    {
     "data": {
      "image/png": "[encoded data removed]",
      "text/plain": [
       "<Figure size 432x432 with 2 Axes>"
      ]
     },
     "metadata": {
      "needs_background": "light"
     },
     "output_type": "display_data"
    }
   ],
   "source": [
    "# plot confusion matrix\n",
    "plot_confusion_matrix(y_test, dt_pred)"
   ]
  },
  {
   "cell_type": "markdown",
   "metadata": {},
   "source": [
    "#### input hasil prediksi model ke Dataframe"
   ]
  },
  {
   "cell_type": "code",
   "execution_count": 151,
   "metadata": {},
   "outputs": [],
   "source": [
    "dt_cv_params = dt_cv.best_params_\n",
    "# Mengubah setiap value menjadi list\n",
    "dt_cv_params = {k: [v] for k, v in dt_cv_params.items()}\n",
    "\n",
    "# otomatisasi skor agar skor masuk ke dalam result dataframe\n",
    "evaluate_model('Decision Tree Classifier', dt_clf, dt_cv_params, label__X_train, y_train, label__X_test, y_test)"
   ]
  },
  {
   "cell_type": "markdown",
   "metadata": {},
   "source": [
    "<div class=\"alert alert-success\">\n",
    "<b>Code Reviewers's comment v.1</b> <a class=\"tocSkip\"></a>\n",
    "\n",
    "Bagus, semua berjalan lancar.\n",
    "\n",
    "</div>"
   ]
  },
  {
   "cell_type": "markdown",
   "metadata": {},
   "source": [
    "### Random Forest Classifier"
   ]
  },
  {
   "cell_type": "code",
   "execution_count": 152,
   "metadata": {},
   "outputs": [
    {
     "name": "stdout",
     "output_type": "stream",
     "text": [
      "Hiperparameter terbaik adalah: {'criterion': 'entropy', 'max_depth': 12, 'min_samples_leaf': 2, 'n_estimators': 100}\n",
      "CPU times: user 2min 39s, sys: 566 ms, total: 2min 39s\n",
      "Wall time: 2min 40s\n"
     ]
    }
   ],
   "source": [
    "%%time\n",
    "# Optimasi hiperparameter\n",
    "\n",
    "# Menentukan hiperparameter untuk diubah\n",
    "grid_rf = {\n",
    "    \"criterion\" : [\"gini\", \"entropy\"],\n",
    "    \"n_estimators\" : [10, 25, 50, 100],\n",
    "    \"max_depth\" : [None, 2, 4, 8, 10, 12],\n",
    "    \"min_samples_leaf\" : [2, 4, 6]\n",
    "}\n",
    "\n",
    "# Mendefinisikan model\n",
    "rf_clf = RandomForestClassifier(random_state = 12345)\n",
    "\n",
    "# Mendefinisikan objek pencarian grid\n",
    "grid_search_rf = GridSearchCV(estimator=rf_clf, param_grid = grid_rf, cv=5, scoring = 'roc_auc')\n",
    "\n",
    "# Melakukan pencarian\n",
    "rf_cv = grid_search_rf.fit(label__X_train, y_train)\n",
    "\n",
    "# Menyimpulkan hasil\n",
    "print('Hiperparameter terbaik adalah: {}'.format(rf_cv.best_params_))"
   ]
  },
  {
   "cell_type": "code",
   "execution_count": 153,
   "metadata": {},
   "outputs": [],
   "source": [
    "# fungsi untuk melatih model dan membuat prediksi\n",
    "def train_random_forest_classifier(X_train, y_train):\n",
    "    \"\"\"Fungsi ini melatih model hutan acak\"\"\"\n",
    "    global rf_model\n",
    "    # membangun model\n",
    "    rf_model = RandomForestClassifier(**grid_search_rf.best_params_)\n",
    "    rf_model.fit(X_train, y_train) # melatih model \n",
    "    \n",
    "def random_forest_classifier_prediction(X_test, y_test):\n",
    "    \"\"\"\n",
    "    Fungsi ini digunakan untuk membuat prediksi \n",
    "    menggunakan model klasifikasi hutan acak\n",
    "    \"\"\"\n",
    "    global rf_pred, rf_pred_proba\n",
    "    rf_pred = rf_model.predict(X_test)\n",
    "    rf_pred_proba = rf_model.predict_proba(X_test)[:, 1]\n",
    "    # menentukan skor AUC-ROC\n",
    "    print(\"\\033[1m\" + 'Skor AUC-ROC dan Akurasi menggunakan Klasifikasi Hutan Acak' + \"\\033[0m\")\n",
    "    print('Skor AUC-ROC: {:.2%}'.format(roc_auc_score(y_test, rf_pred_proba)))\n",
    "    # menentukan akurasi untuk klasifikasi hutan acak\n",
    "    rf_accuracy = accuracy_score(y_test, rf_pred)\n",
    "    print('Skor Akurasi: {:.2%}'.format(rf_accuracy))\n",
    "    print()\n",
    "    # pentingnya fitur dari klasifikasi hutan acak\n",
    "    sorted_feature_importance = rf_model.feature_importances_.argsort()\n",
    "    plt.figure(figsize=(8,6))\n",
    "    plt.barh(label__X_train.columns[sorted_feature_importance], \n",
    "             rf_model.feature_importances_[sorted_feature_importance], \n",
    "             color='turquoise')\n",
    "    plt.xlabel(\"Pentingnya Fitur dari Klasifikasi Hutan Acak\")"
   ]
  },
  {
   "cell_type": "code",
   "execution_count": 154,
   "metadata": {},
   "outputs": [
    {
     "name": "stdout",
     "output_type": "stream",
     "text": [
      "CPU times: user 719 ms, sys: 0 ns, total: 719 ms\n",
      "Wall time: 730 ms\n"
     ]
    }
   ],
   "source": [
    "%%time\n",
    "# train random forest classifier\n",
    "train_random_forest_classifier(label__X_train, y_train)"
   ]
  },
  {
   "cell_type": "code",
   "execution_count": 155,
   "metadata": {},
   "outputs": [
    {
     "name": "stdout",
     "output_type": "stream",
     "text": [
      "\u001b[1mSkor AUC-ROC dan Akurasi menggunakan Klasifikasi Hutan Acak\u001b[0m\n",
      "Skor AUC-ROC: 88.78%\n",
      "Skor Akurasi: 83.99%\n",
      "\n",
      "CPU times: user 147 ms, sys: 3.92 ms, total: 151 ms\n",
      "Wall time: 159 ms\n"
     ]
    },
    {
     "data": {
      "image/png": "[encoded data removed]",
      "text/plain": [
       "<Figure size 576x432 with 1 Axes>"
      ]
     },
     "metadata": {
      "needs_background": "light"
     },
     "output_type": "display_data"
    }
   ],
   "source": [
    "%%time\n",
    "# Membuat prediksi dengan klasifikasi random forest classifier untuk data uji \n",
    "random_forest_classifier_prediction(label__X_test, y_test)"
   ]
  },
  {
   "cell_type": "code",
   "execution_count": 156,
   "metadata": {},
   "outputs": [
    {
     "data": {
      "image/png": "[encoded data removed]",
      "text/plain": [
       "<Figure size 432x432 with 2 Axes>"
      ]
     },
     "metadata": {
      "needs_background": "light"
     },
     "output_type": "display_data"
    }
   ],
   "source": [
    "# plot confusion matrix\n",
    "plot_confusion_matrix(y_test, rf_pred)"
   ]
  },
  {
   "cell_type": "markdown",
   "metadata": {},
   "source": [
    "#### input hasil prediksi model ke Dataframe"
   ]
  },
  {
   "cell_type": "code",
   "execution_count": 157,
   "metadata": {},
   "outputs": [],
   "source": [
    "rf_cv_params = rf_cv.best_params_\n",
    "# Mengubah setiap value menjadi list\n",
    "rf_cv_params = {k: [v] for k, v in rf_cv_params.items()}\n",
    "\n",
    "# otomatisasi skor agar skor masuk ke dalam result dataframe\n",
    "evaluate_model('Random Forest Classifier', rf_clf, rf_cv_params, label__X_train, y_train, label__X_test, y_test)"
   ]
  },
  {
   "cell_type": "markdown",
   "metadata": {},
   "source": [
    "<div class=\"alert alert-success\">\n",
    "<b>Code Reviewers's comment v.1</b> <a class=\"tocSkip\"></a>\n",
    "\n",
    "Bagus, semua berjalan lancar.\n",
    "\n",
    "</div>"
   ]
  },
  {
   "cell_type": "markdown",
   "metadata": {},
   "source": [
    "### CatBoost Classifier"
   ]
  },
  {
   "cell_type": "code",
   "execution_count": 158,
   "metadata": {},
   "outputs": [
    {
     "name": "stdout",
     "output_type": "stream",
     "text": [
      "Hyperparameter terbaik adalah: {'depth': 4, 'l2_leaf_reg': 9, 'learning_rate': 0.5}\n",
      "CPU times: user 11min 28s, sys: 5.92 s, total: 11min 34s\n",
      "Wall time: 11min 55s\n"
     ]
    }
   ],
   "source": [
    "%%time\n",
    "# optimisasi hyperparameter\n",
    "\n",
    "# definisikan hyperparameter untuk disesuaikan\n",
    "grid_cb = {'learning_rate': [0.001, 0.01, 0.5],\n",
    "        'depth': [4, 6, 10],\n",
    "        'l2_leaf_reg': [1, 3, 5, 7, 9]\n",
    "       }\n",
    "# definisikan model \n",
    "cb_clf = CatBoostClassifier(\n",
    "    iterations=200,\n",
    "    cat_features = object_cols,\n",
    "    logging_level = 'Silent',\n",
    "    eval_metric='AUC',\n",
    "    early_stopping_rounds = 50,\n",
    "    random_state = 12345)\n",
    "# definisikan pencarian grid\n",
    "grid_search_cb = GridSearchCV(estimator = cb_clf, param_grid = grid_cb, scoring=\"roc_auc\", cv=5)\n",
    "# eksekusi pencarian\n",
    "cb_cv = grid_search_cb.fit(X_train, y_train)\n",
    "# ringkasan hasil\n",
    "print('Hyperparameter terbaik adalah: {}'.format(cb_cv.best_params_))\n"
   ]
  },
  {
   "cell_type": "code",
   "execution_count": 159,
   "metadata": {},
   "outputs": [],
   "source": [
    "# fungsi untuk melatih model dan membuat prediksi\n",
    "def train_catboost_classifier(X_train, y_train, X_test, y_test):\n",
    "    \"\"\"Fungsi ini melatih model klasifikasi catboost\"\"\"\n",
    "    global cb_model\n",
    "    # membangun model\n",
    "    cb_model = CatBoostClassifier(**grid_search_cb.best_params_)\n",
    "    cb_model.fit(X_train, y_train, cat_features = object_cols, eval_set=(X_test, y_test), verbose=False, plot=False) # train the model \n",
    "    \n",
    "def catboost_classifier_prediction(X_test, y_test):\n",
    "    \"\"\"\n",
    "    Fungsi ini digunakan untuk membuat prediksi \n",
    "    menggunakan model klasifikasi catboost\n",
    "    \"\"\"\n",
    "    global cb_pred, cb_pred_proba\n",
    "    cb_pred = cb_model.predict(X_test)\n",
    "    cb_pred_proba = cb_model.predict_proba(X_test)[:, 1]\n",
    "    \n",
    "    # menentukan skor AUC-ROC\n",
    "    print(\"\\033[1m\" + 'Skor AUC-ROC dan Akurasi menggunakan Klasifikasi CatBoost' + \"\\033[0m\")\n",
    "    print('AUC-ROC Score: {:.2%}'.format(roc_auc_score(y_test, cb_pred_proba)))\n",
    "    \n",
    "    # menentukan akurasi untuk klasifikasi CatBoost\n",
    "    cb_accuracy = accuracy_score(y_test, cb_pred)\n",
    "    print('Skor Akurasi: {:.2%}'.format(cb_accuracy))\n",
    "    print()\n",
    "   \n",
    "     # pentingnya fitur dari klasifikasi CatBoost \n",
    "    sorted_feature_importance = cb_model.feature_importances_.argsort()\n",
    "    plt.figure(figsize=(8,6))\n",
    "    plt.barh(X_train.columns[sorted_feature_importance], \n",
    "             cb_model.feature_importances_[sorted_feature_importance], \n",
    "             color='turquoise')\n",
    "    plt.xlabel(\"Fitur penting dari Klasifikasi CatBoost\")"
   ]
  },
  {
   "cell_type": "code",
   "execution_count": 160,
   "metadata": {},
   "outputs": [
    {
     "name": "stdout",
     "output_type": "stream",
     "text": [
      "CPU times: user 7.31 s, sys: 83.7 ms, total: 7.4 s\n",
      "Wall time: 7.56 s\n"
     ]
    }
   ],
   "source": [
    "%%time\n",
    "# train catboost classifier model\n",
    "train_catboost_classifier(X_train, y_train, X_test, y_test)"
   ]
  },
  {
   "cell_type": "code",
   "execution_count": 161,
   "metadata": {},
   "outputs": [
    {
     "name": "stdout",
     "output_type": "stream",
     "text": [
      "\u001b[1mSkor AUC-ROC dan Akurasi menggunakan Klasifikasi CatBoost\u001b[0m\n",
      "AUC-ROC Score: 91.88%\n",
      "Skor Akurasi: 87.56%\n",
      "\n",
      "CPU times: user 50.3 ms, sys: 4.05 ms, total: 54.3 ms\n",
      "Wall time: 51.3 ms\n"
     ]
    },
    {
     "data": {
      "image/png": "[encoded data removed]",
      "text/plain": [
       "<Figure size 576x432 with 1 Axes>"
      ]
     },
     "metadata": {
      "needs_background": "light"
     },
     "output_type": "display_data"
    }
   ],
   "source": [
    "%%time\n",
    "# membuat prediksi dengan catboost classifier untuk test data\n",
    "catboost_classifier_prediction(X_test, y_test)"
   ]
  },
  {
   "cell_type": "code",
   "execution_count": 162,
   "metadata": {},
   "outputs": [
    {
     "data": {
      "image/png": "[encoded data removed]",
      "text/plain": [
       "<Figure size 432x432 with 2 Axes>"
      ]
     },
     "metadata": {
      "needs_background": "light"
     },
     "output_type": "display_data"
    }
   ],
   "source": [
    "# plot confusion matrix\n",
    "plot_confusion_matrix(y_test, cb_pred)"
   ]
  },
  {
   "cell_type": "markdown",
   "metadata": {},
   "source": [
    "#### input hasil prediks model  ke DataFrame"
   ]
  },
  {
   "cell_type": "code",
   "execution_count": 163,
   "metadata": {},
   "outputs": [],
   "source": [
    "cb_cv_params = cb_cv.best_params_\n",
    "# Mengubah setiap value menjadi list\n",
    "cb_cv_params = {k: [v] for k, v in cb_cv_params.items()}\n",
    "\n",
    "# otomatisasi skor agar skor masuk ke dalam result dataframe\n",
    "evaluate_model('CatBoost Classifier', cb_clf, cb_cv_params, X_train, y_train, X_test, y_test)"
   ]
  },
  {
   "cell_type": "markdown",
   "metadata": {},
   "source": [
    "<div class=\"alert alert-success\">\n",
    "<b>Code Reviewers's comment v.1</b> <a class=\"tocSkip\"></a>\n",
    "\n",
    "Bagus, semua berjalan lancar.\n",
    "\n",
    "</div>"
   ]
  },
  {
   "cell_type": "markdown",
   "metadata": {},
   "source": [
    "### XGBoost Classifier"
   ]
  },
  {
   "cell_type": "code",
   "execution_count": 164,
   "metadata": {},
   "outputs": [
    {
     "name": "stdout",
     "output_type": "stream",
     "text": [
      "Hyperparameter terbaik adalah: {'learning_rate': 0.1, 'max_depth': 2, 'n_estimators': 500}\n",
      "CPU times: user 24min 18s, sys: 10.6 s, total: 24min 28s\n",
      "Wall time: 24min 43s\n"
     ]
    }
   ],
   "source": [
    "%%time\n",
    "# optimasi hyperparameter untuk Klasifikasi XGBoost\n",
    "\n",
    "# mendefinisikan hyperparameter untuk penyetelan\n",
    "grid_xgb = {'learning_rate': [0.001, 0.01, 0.1, 0.3], \n",
    "            'max_depth': [2, 4, 6, 10],\n",
    "            'n_estimators': [50, 100, 200, 500]\n",
    "           }\n",
    "# mendefinisikan model\n",
    "xgb_clf = XGBClassifier(random_state = 12345, verbosity = 0)\n",
    "# mendefinisikan pencarian grid\n",
    "grid_search_xgb = GridSearchCV(\n",
    "    estimator = xgb_clf, \n",
    "    param_grid = grid_xgb, \n",
    "    scoring = \"roc_auc\", \n",
    "    cv = 5, \n",
    "    n_jobs = 1\n",
    ")\n",
    "# mengeksekusi pencarian\n",
    "xgb_cv = grid_search_xgb.fit(X_train_ohe, y_train_ohe)\n",
    "# merangkum hasil\n",
    "print('Hyperparameter terbaik adalah: {}'.format(xgb_cv.best_params_))\n"
   ]
  },
  {
   "cell_type": "code",
   "execution_count": 165,
   "metadata": {},
   "outputs": [],
   "source": [
    "# fungsi untuk melatih model dan membuat prediksi\n",
    "def train_xgboost_classifier(X_train, y_train):\n",
    "    \"\"\"Fungsi ini melatih sebuah klasifikasi XGBoost\"\"\"\n",
    "    global xgb_model\n",
    "   \n",
    "    # membangun model\n",
    "    xgb_model = XGBClassifier(**grid_search_xgb.best_params_)\n",
    "    xgb_model.fit(X_train, y_train) # melatih model \n",
    "    \n",
    "def xgboost_classifier_prediction(X_test, y_test):\n",
    "    \"\"\"\n",
    "    Fungsi ini digunakan untuk membuat prediksi \n",
    "    menggunakan model klasifikasi XGBoost\n",
    "    \"\"\"\n",
    "    global xgb_pred, xgb_pred_proba\n",
    "    xgb_pred = xgb_model.predict(X_test)\n",
    "    xgb_pred_proba = xgb_model.predict_proba(X_test)[:, 1]\n",
    "    \n",
    "    # menentukan skor AUC-ROC\n",
    "    print(\"\\033[1m\" + 'Skor AUC-ROC dan Akurasi menggunakan Klasifikasi XGBoost' + \"\\033[0m\")\n",
    "    print('Skor AUC-ROC: {:.2%}'.format(roc_auc_score(y_test, xgb_pred_proba)))\n",
    "    \n",
    "    # menentukan akurasi untuk klasifikasi XGBoost\n",
    "    xgb_accuracy = accuracy_score(y_test, xgb_pred)\n",
    "    print('Skor Akurasi: {:.2%}'.format(xgb_accuracy))\n",
    "    print()\n",
    "    \n",
    "    # menentukan pentingnya fitur dari klasifikasi XGBoost\n",
    "    sorted_feature_importance = xgb_model.feature_importances_.argsort()\n",
    "    plt.figure(figsize=(8,6))\n",
    "    plt.barh(X_train_ohe.columns[sorted_feature_importance], \n",
    "             xgb_model.feature_importances_[sorted_feature_importance], \n",
    "             color='turquoise')\n",
    "    plt.xlabel(\"Pentingnya Fitur dalam Klasifikasi XGBoost\")"
   ]
  },
  {
   "cell_type": "code",
   "execution_count": 166,
   "metadata": {},
   "outputs": [
    {
     "name": "stdout",
     "output_type": "stream",
     "text": [
      "CPU times: user 6.7 s, sys: 81.1 ms, total: 6.78 s\n",
      "Wall time: 6.84 s\n"
     ]
    }
   ],
   "source": [
    "%%time\n",
    "# train xgboost classifier\n",
    "train_xgboost_classifier(X_train_ohe, y_train_ohe)"
   ]
  },
  {
   "cell_type": "code",
   "execution_count": 167,
   "metadata": {},
   "outputs": [
    {
     "name": "stdout",
     "output_type": "stream",
     "text": [
      "\u001b[1mSkor AUC-ROC dan Akurasi menggunakan Klasifikasi XGBoost\u001b[0m\n",
      "Skor AUC-ROC: 91.01%\n",
      "Skor Akurasi: 87.90%\n",
      "\n",
      "CPU times: user 85.3 ms, sys: 6 µs, total: 85.3 ms\n",
      "Wall time: 58.3 ms\n"
     ]
    },
    {
     "data": {
      "image/png": "[encoded data removed]",
      "text/plain": [
       "<Figure size 576x432 with 1 Axes>"
      ]
     },
     "metadata": {
      "needs_background": "light"
     },
     "output_type": "display_data"
    }
   ],
   "source": [
    "%%time\n",
    "# membuat prediksi dengan xgboost classifier untuk test data\n",
    "xgboost_classifier_prediction(X_test_ohe, y_test_ohe)"
   ]
  },
  {
   "cell_type": "code",
   "execution_count": 168,
   "metadata": {},
   "outputs": [
    {
     "data": {
      "image/png": "[encoded data removed]",
      "text/plain": [
       "<Figure size 432x432 with 2 Axes>"
      ]
     },
     "metadata": {
      "needs_background": "light"
     },
     "output_type": "display_data"
    }
   ],
   "source": [
    "# plot confusion matrix\n",
    "plot_confusion_matrix(y_test_ohe, xgb_pred)"
   ]
  },
  {
   "cell_type": "markdown",
   "metadata": {},
   "source": [
    "#### input hasil prediks model  ke DataFrame"
   ]
  },
  {
   "cell_type": "code",
   "execution_count": 169,
   "metadata": {},
   "outputs": [],
   "source": [
    "xgb_cv_params = xgb_cv.best_params_\n",
    "# Mengubah setiap value menjadi list\n",
    "xgb_cv_params = {k: [v] for k, v in xgb_cv_params.items()}\n",
    "\n",
    "# otomatisasi skor agar skor masuk ke dalam result dataframe\n",
    "evaluate_model('XGBoost Classifier', xgb_clf, xgb_cv_params,X_train_ohe, y_train_ohe, X_test_ohe, y_test_ohe)"
   ]
  },
  {
   "cell_type": "markdown",
   "metadata": {},
   "source": [
    "<div class=\"alert alert-success\">\n",
    "<b>Code Reviewers's comment v.1</b> <a class=\"tocSkip\"></a>\n",
    "\n",
    "Bagus, semua berjalan lancar.\n",
    "\n",
    "</div>"
   ]
  },
  {
   "cell_type": "markdown",
   "metadata": {},
   "source": [
    "### LightGBM Classifier"
   ]
  },
  {
   "cell_type": "code",
   "execution_count": 170,
   "metadata": {},
   "outputs": [
    {
     "name": "stdout",
     "output_type": "stream",
     "text": [
      "Hyperparameter terbaik adalah: {'learning_rate': 0.1, 'n_estimators': 500, 'num_leaves': 5}\n",
      "CPU times: user 2min 42s, sys: 2.1 s, total: 2min 44s\n",
      "Wall time: 2min 45s\n"
     ]
    }
   ],
   "source": [
    "%%time \n",
    "# optimalisasi hyperparameter untuk klasifikasi LightGBM\n",
    "# menentukan hyperparameter yang akan diubah\n",
    "grid_lgbm = {'learning_rate': [0.001, 0.01, 0.05, 0.1],\n",
    "             'n_estimators': [50, 100, 500],\n",
    "             'num_leaves': [5, 10, 20, 31]\n",
    "            }\n",
    "# menentukan model \n",
    "lgbm_clf = LGBMClassifier(random_state = 12345)\n",
    "# menentukan pencarian grid\n",
    "grid_search_lgbm = GridSearchCV(\n",
    "    estimator = lgbm_clf, \n",
    "    param_grid = grid_lgbm, \n",
    "    scoring = \"accuracy\", \n",
    "    cv = 5, \n",
    "    n_jobs = 1\n",
    ")\n",
    "# melaksanakan pencarian\n",
    "lgbm_cv = grid_search_lgbm.fit(label__X_train, y_train)\n",
    "# merangkum hasil\n",
    "print('Hyperparameter terbaik adalah: {}'.format(lgbm_cv.best_params_))"
   ]
  },
  {
   "cell_type": "code",
   "execution_count": 171,
   "metadata": {},
   "outputs": [],
   "source": [
    "# fungsi untuk melatih model dan membuat prediksi\n",
    "def train_lightGBM_classifier(X_train, y_train):\n",
    "    \"\"\"Fungsi ini melatih klasifikasi LightGBM\"\"\"\n",
    "    global lgbm_model\n",
    "    # membangun model\n",
    "    lgbm_model = LGBMClassifier(**grid_search_lgbm.best_params_)\n",
    "    lgbm_model.fit(X_train, y_train) # melatih model \n",
    "    \n",
    "def lightGBM_classifier_prediction(X_test, y_test):\n",
    "    \"\"\"\n",
    "    Fungsi ini digunakan untuk membuat prediksi \n",
    "    menggunakan model klasifikasi LightGBM\n",
    "    \"\"\"\n",
    "    global lgbm_pred, lgbm_pred_proba\n",
    "    lgbm_pred = lgbm_model.predict(X_test)\n",
    "    lgbm_pred_proba = lgbm_model.predict_proba(X_test)[:, 1]\n",
    "    \n",
    "    # menentukan skor AUC-ROC\n",
    "    print(\"\\033[1m\" + 'Skor AUC-ROC dan Akurasi menggunakan Klasifikasi LightGBM' + \"\\033[0m\")\n",
    "    print('Skor AUC-ROC: {:.2%}'.format(roc_auc_score(y_test, lgbm_pred_proba)))\n",
    "    \n",
    "    # menentukan akurasi untuk klasifikasi LightGBM\n",
    "    lgbm_accuracy = accuracy_score(y_test, lgbm_pred)\n",
    "    print('Skor Akurasi: {:.2%}'.format(lgbm_accuracy))\n",
    "    print()\n",
    "    \n",
    "    # pentingnya fitur dari klasifikasi LightGBM\n",
    "    sorted_feature_importance = lgbm_model.feature_importances_.argsort()\n",
    "    plt.figure(figsize=(8,6))\n",
    "    plt.barh(label__X_train.columns[sorted_feature_importance], \n",
    "             lgbm_model.feature_importances_[sorted_feature_importance], \n",
    "             color='turquoise')\n",
    "    plt.xlabel(\"Pentingnya Fitur dalam Klasifikasi LightGBM\")"
   ]
  },
  {
   "cell_type": "code",
   "execution_count": 172,
   "metadata": {},
   "outputs": [
    {
     "name": "stdout",
     "output_type": "stream",
     "text": [
      "CPU times: user 636 ms, sys: 7.8 ms, total: 643 ms\n",
      "Wall time: 615 ms\n"
     ]
    }
   ],
   "source": [
    "%%time\n",
    "# train lightGBM classifier\n",
    "train_lightGBM_classifier(label__X_train, y_train)"
   ]
  },
  {
   "cell_type": "code",
   "execution_count": 173,
   "metadata": {},
   "outputs": [
    {
     "name": "stdout",
     "output_type": "stream",
     "text": [
      "\u001b[1mSkor AUC-ROC dan Akurasi menggunakan Klasifikasi LightGBM\u001b[0m\n",
      "Skor AUC-ROC: 91.37%\n",
      "Skor Akurasi: 87.79%\n",
      "\n",
      "CPU times: user 153 ms, sys: 12.2 ms, total: 165 ms\n",
      "Wall time: 205 ms\n"
     ]
    },
    {
     "data": {
      "image/png": "[encoded data removed]",
      "text/plain": [
       "<Figure size 576x432 with 1 Axes>"
      ]
     },
     "metadata": {
      "needs_background": "light"
     },
     "output_type": "display_data"
    }
   ],
   "source": [
    "%%time\n",
    "# membuat prediksi dengan lightGBM classifier untuk test data\n",
    "lightGBM_classifier_prediction(label__X_test, y_test)"
   ]
  },
  {
   "cell_type": "code",
   "execution_count": 174,
   "metadata": {},
   "outputs": [
    {
     "data": {
      "image/png": "[encoded data removed]",
      "text/plain": [
       "<Figure size 432x432 with 2 Axes>"
      ]
     },
     "metadata": {
      "needs_background": "light"
     },
     "output_type": "display_data"
    }
   ],
   "source": [
    "# plot confusion matrix\n",
    "plot_confusion_matrix(y_test_ohe, lgbm_pred)"
   ]
  },
  {
   "cell_type": "markdown",
   "metadata": {},
   "source": [
    "#### input hasil prediks model  ke DataFrame"
   ]
  },
  {
   "cell_type": "code",
   "execution_count": 175,
   "metadata": {},
   "outputs": [],
   "source": [
    "lgbm_cv_params = lgbm_cv.best_params_\n",
    "# Mengubah setiap value menjadi list\n",
    "lgbm_cv_params = {k: [v] for k, v in lgbm_cv_params.items()}\n",
    "\n",
    "# otomatisasi skor agar skor masuk ke dalam result dataframe\n",
    "evaluate_model('LGBM Classifier', lgbm_clf, lgbm_cv_params, label__X_train, y_train, label__X_test, y_test)"
   ]
  },
  {
   "cell_type": "markdown",
   "metadata": {},
   "source": [
    "<div class=\"alert alert-success\">\n",
    "<b>Code Reviewers's comment v.1</b> <a class=\"tocSkip\"></a>\n",
    "\n",
    "Bagus, semua berjalan lancar.\n",
    "\n",
    "</div>"
   ]
  },
  {
   "cell_type": "markdown",
   "metadata": {},
   "source": [
    "### Analisis Model"
   ]
  },
  {
   "cell_type": "code",
   "execution_count": 187,
   "metadata": {},
   "outputs": [
    {
     "data": {
      "text/html": [
       "<div>\n",
       "<style scoped>\n",
       "    .dataframe tbody tr th:only-of-type {\n",
       "        vertical-align: middle;\n",
       "    }\n",
       "\n",
       "    .dataframe tbody tr th {\n",
       "        vertical-align: top;\n",
       "    }\n",
       "\n",
       "    .dataframe thead th {\n",
       "        text-align: right;\n",
       "    }\n",
       "</style>\n",
       "<table border=\"1\" class=\"dataframe\">\n",
       "  <thead>\n",
       "    <tr style=\"text-align: right;\">\n",
       "      <th></th>\n",
       "      <th>Models</th>\n",
       "      <th>Hyperparameter tuning time</th>\n",
       "      <th>Training time</th>\n",
       "      <th>Prediction time (train)</th>\n",
       "      <th>AUC-ROC score (train)</th>\n",
       "      <th>Accuracy score (train)</th>\n",
       "      <th>Prediction time (test)</th>\n",
       "      <th>AUC-ROC score (test)</th>\n",
       "      <th>Accuracy score (test)</th>\n",
       "    </tr>\n",
       "  </thead>\n",
       "  <tbody>\n",
       "    <tr>\n",
       "      <th>0</th>\n",
       "      <td>CatBoost Classifier</td>\n",
       "      <td>8.19 s</td>\n",
       "      <td>1.51 s</td>\n",
       "      <td>0.05 s</td>\n",
       "      <td>97.26 %</td>\n",
       "      <td>92.43 %</td>\n",
       "      <td>0.02 s</td>\n",
       "      <td>91.59 %</td>\n",
       "      <td>87.85 %</td>\n",
       "    </tr>\n",
       "    <tr>\n",
       "      <th>1</th>\n",
       "      <td>LGBM Classifier</td>\n",
       "      <td>4.38 s</td>\n",
       "      <td>0.81 s</td>\n",
       "      <td>0.29 s</td>\n",
       "      <td>96.36 %</td>\n",
       "      <td>91.14 %</td>\n",
       "      <td>0.13 s</td>\n",
       "      <td>91.37 %</td>\n",
       "      <td>87.79 %</td>\n",
       "    </tr>\n",
       "    <tr>\n",
       "      <th>2</th>\n",
       "      <td>XGBoost Classifier</td>\n",
       "      <td>36.29 s</td>\n",
       "      <td>7.39 s</td>\n",
       "      <td>0.10 s</td>\n",
       "      <td>94.48 %</td>\n",
       "      <td>89.51 %</td>\n",
       "      <td>0.03 s</td>\n",
       "      <td>91.01 %</td>\n",
       "      <td>87.90 %</td>\n",
       "    </tr>\n",
       "    <tr>\n",
       "      <th>3</th>\n",
       "      <td>Random Forest Classifier</td>\n",
       "      <td>3.77 s</td>\n",
       "      <td>0.68 s</td>\n",
       "      <td>0.19 s</td>\n",
       "      <td>97.92 %</td>\n",
       "      <td>91.18 %</td>\n",
       "      <td>0.09 s</td>\n",
       "      <td>89.03 %</td>\n",
       "      <td>84.33 %</td>\n",
       "    </tr>\n",
       "    <tr>\n",
       "      <th>4</th>\n",
       "      <td>Logistic Regression</td>\n",
       "      <td>1.78 s</td>\n",
       "      <td>0.21 s</td>\n",
       "      <td>0.08 s</td>\n",
       "      <td>89.99 %</td>\n",
       "      <td>85.48 %</td>\n",
       "      <td>0.00 s</td>\n",
       "      <td>88.30 %</td>\n",
       "      <td>83.30 %</td>\n",
       "    </tr>\n",
       "    <tr>\n",
       "      <th>5</th>\n",
       "      <td>Decision Tree Classifier</td>\n",
       "      <td>0.18 s</td>\n",
       "      <td>0.03 s</td>\n",
       "      <td>0.01 s</td>\n",
       "      <td>92.72 %</td>\n",
       "      <td>86.73 %</td>\n",
       "      <td>0.00 s</td>\n",
       "      <td>87.85 %</td>\n",
       "      <td>84.61 %</td>\n",
       "    </tr>\n",
       "  </tbody>\n",
       "</table>\n",
       "</div>"
      ],
      "text/plain": [
       "                     Models Hyperparameter tuning time Training time  \\\n",
       "0       CatBoost Classifier                     8.19 s        1.51 s   \n",
       "1           LGBM Classifier                     4.38 s        0.81 s   \n",
       "2        XGBoost Classifier                    36.29 s        7.39 s   \n",
       "3  Random Forest Classifier                     3.77 s        0.68 s   \n",
       "4       Logistic Regression                     1.78 s        0.21 s   \n",
       "5  Decision Tree Classifier                     0.18 s        0.03 s   \n",
       "\n",
       "  Prediction time (train) AUC-ROC score (train) Accuracy score (train)  \\\n",
       "0                  0.05 s               97.26 %                92.43 %   \n",
       "1                  0.29 s               96.36 %                91.14 %   \n",
       "2                  0.10 s               94.48 %                89.51 %   \n",
       "3                  0.19 s               97.92 %                91.18 %   \n",
       "4                  0.08 s               89.99 %                85.48 %   \n",
       "5                  0.01 s               92.72 %                86.73 %   \n",
       "\n",
       "  Prediction time (test) AUC-ROC score (test) Accuracy score (test)  \n",
       "0                 0.02 s              91.59 %               87.85 %  \n",
       "1                 0.13 s              91.37 %               87.79 %  \n",
       "2                 0.03 s              91.01 %               87.90 %  \n",
       "3                 0.09 s              89.03 %               84.33 %  \n",
       "4                 0.00 s              88.30 %               83.30 %  \n",
       "5                 0.00 s              87.85 %               84.61 %  "
      ]
     },
     "execution_count": 187,
     "metadata": {},
     "output_type": "execute_result"
    }
   ],
   "source": [
    "df_results = pd.DataFrame(results).sort_values(\"AUC-ROC score (test)\", ascending=False).reset_index(drop=True)\n",
    "df_results"
   ]
  },
  {
   "cell_type": "markdown",
   "metadata": {},
   "source": [
    "### Kesimpulan \n",
    "\n",
    "Berdasarkan hasil yang diperoleh, model dengan performa terbaik (ditinjau dari skor AUC-ROC pada data uji) adalah CatBoost Classifier dengan skor AUC-ROC 91.59% dan akurasi 87.85%. Model ini dilatih dengan waktu hyperparameter tuning sebesar 8.19 detik dan waktu latihan sebesar 1.51 detik. Waktu yang dibutuhkan untuk membuat prediksi pada data uji adalah 0.02 detik.\n",
    "\n",
    "LGBM Classifier dan XGBoost Classifier juga menunjukkan performa yang baik, dengan skor AUC-ROC pada data uji sebesar 91.37% dan 91.01% serta akurasi 87.79% dan 87.90% masing-masing. Namun, CatBoost Classifier memiliki skor AUC-ROC sedikit lebih tinggi daripada kedua model tersebut.\n",
    "\n",
    "Sementara itu, Logistic Regression dan Decision Tree Classifier memiliki performa yang lebih rendah dibandingkan tiga model lainnya, dengan skor AUC-ROC pada data uji sebesar 88.30% dan 87.85% serta akurasi 83.30% dan 84.61% masing-masing."
   ]
  },
  {
   "cell_type": "markdown",
   "metadata": {},
   "source": [
    "<div class=\"alert alert-success\">\n",
    "<b>Code Reviewers's comment v.1</b> <a class=\"tocSkip\"></a>\n",
    "\n",
    "Bagus, semua berjalan lancar.\n",
    "\n",
    "</div>"
   ]
  },
  {
   "cell_type": "markdown",
   "metadata": {},
   "source": [
    "<a id='section6'></a>\n",
    "## Evaluasi Model"
   ]
  },
  {
   "cell_type": "code",
   "execution_count": 199,
   "metadata": {},
   "outputs": [],
   "source": [
    "# fungsi untuk menghitung metrik evaluasi model\n",
    "def final_model_evaluation(model, X_test, y_test):\n",
    "    test_predictions = model.predict(X_test)\n",
    "    test_probabilities = model.predict_proba(X_test)[:, 1]\n",
    "    auc_roc = roc_auc_score(y_test, test_probabilities)\n",
    "    \n",
    "    print(\"\\033[1m\" + 'F1 score: ' + \"\\033[0m\", '{:.3f}'.format(f1_score(y_test, test_predictions)))\n",
    "    print(\"\\033[1m\" + 'Accuracy Score: ' + \"\\033[0m\", '{:.2%}'.format(accuracy_score(y_test, test_predictions)))\n",
    "    print(\"\\033[1m\" + 'Precision: ' + \"\\033[0m\", '{:.3f}'.format(precision_score(y_test, test_predictions)))\n",
    "    print(\"\\033[1m\" + 'Recall: ' + \"\\033[0m\", '{:.3f}'.format(recall_score(y_test, test_predictions)))\n",
    "    print(\"\\033[1m\" + 'AUC-ROC: ' + \"\\033[0m\", '{:.3f}'.format(auc_roc))\n",
    "\n",
    "    print()\n",
    "    print(\"\\033[1m\" + 'Confusion Matrix' + \"\\033[0m\")\n",
    "    print('-'*50)\n",
    "    print(confusion_matrix(y_test, test_predictions))\n",
    "    print()\n",
    "    print(\"\\033[1m\" + 'Classification report' + \"\\033[0m\")\n",
    "    print('-'*50)\n",
    "    print(classification_report(y_test, test_predictions))\n",
    "    print()\n",
    "    \n",
    "    # Compute the SP based on AUC-ROC\n",
    "    if auc_roc < 0.75:\n",
    "        sp = 0\n",
    "    elif 0.75 <= auc_roc < 0.81:\n",
    "        sp = 4\n",
    "    elif 0.81 <= auc_roc < 0.85:\n",
    "        sp = 4.5\n",
    "    elif 0.85 <= auc_roc < 0.87:\n",
    "        sp = 5\n",
    "    elif 0.87 <= auc_roc < 0.88:\n",
    "        sp = 5.5\n",
    "    else:\n",
    "        sp = 6\n",
    "    print(\"\\033[1m\" + 'SP: ' + \"\\033[0m\", sp)\n"
   ]
  },
  {
   "cell_type": "markdown",
   "metadata": {},
   "source": [
    "### Logistic Regression"
   ]
  },
  {
   "cell_type": "code",
   "execution_count": 205,
   "metadata": {},
   "outputs": [
    {
     "name": "stdout",
     "output_type": "stream",
     "text": [
      "\u001b[1mF1 score: \u001b[0m 0.667\n",
      "\u001b[1mAccuracy Score: \u001b[0m 83.30%\n",
      "\u001b[1mPrecision: \u001b[0m 0.720\n",
      "\u001b[1mRecall: \u001b[0m 0.622\n",
      "\u001b[1mAUC-ROC: \u001b[0m 0.883\n",
      "\n",
      "\u001b[1mConfusion Matrix\u001b[0m\n",
      "--------------------------------------------------\n",
      "[[1172  115]\n",
      " [ 179  295]]\n",
      "\n",
      "\u001b[1mClassification report\u001b[0m\n",
      "--------------------------------------------------\n",
      "              precision    recall  f1-score   support\n",
      "\n",
      "           0       0.87      0.91      0.89      1287\n",
      "           1       0.72      0.62      0.67       474\n",
      "\n",
      "    accuracy                           0.83      1761\n",
      "   macro avg       0.79      0.77      0.78      1761\n",
      "weighted avg       0.83      0.83      0.83      1761\n",
      "\n",
      "\n",
      "\u001b[1mSP: \u001b[0m 6\n"
     ]
    }
   ],
   "source": [
    "# evaluate baseline model\n",
    "final_model_evaluation(logreg_cv.best_estimator_, X_test_ohe, y_test_ohe)"
   ]
  },
  {
   "cell_type": "markdown",
   "metadata": {},
   "source": [
    "### Decision Tree Classifier"
   ]
  },
  {
   "cell_type": "code",
   "execution_count": 207,
   "metadata": {},
   "outputs": [
    {
     "name": "stdout",
     "output_type": "stream",
     "text": [
      "\u001b[1mF1 score: \u001b[0m 0.655\n",
      "\u001b[1mAccuracy Score: \u001b[0m 84.61%\n",
      "\u001b[1mPrecision: \u001b[0m 0.826\n",
      "\u001b[1mRecall: \u001b[0m 0.542\n",
      "\u001b[1mAUC-ROC: \u001b[0m 0.878\n",
      "\n",
      "\u001b[1mConfusion Matrix\u001b[0m\n",
      "--------------------------------------------------\n",
      "[[1233   54]\n",
      " [ 217  257]]\n",
      "\n",
      "\u001b[1mClassification report\u001b[0m\n",
      "--------------------------------------------------\n",
      "              precision    recall  f1-score   support\n",
      "\n",
      "           0       0.85      0.96      0.90      1287\n",
      "           1       0.83      0.54      0.65       474\n",
      "\n",
      "    accuracy                           0.85      1761\n",
      "   macro avg       0.84      0.75      0.78      1761\n",
      "weighted avg       0.84      0.85      0.83      1761\n",
      "\n",
      "\n",
      "\u001b[1mSP: \u001b[0m 5.5\n"
     ]
    }
   ],
   "source": [
    "final_model_evaluation(dt_cv.best_estimator_,label__X_test, y_test)"
   ]
  },
  {
   "cell_type": "markdown",
   "metadata": {},
   "source": [
    "### Random Forest Classifier"
   ]
  },
  {
   "cell_type": "code",
   "execution_count": 208,
   "metadata": {},
   "outputs": [
    {
     "name": "stdout",
     "output_type": "stream",
     "text": [
      "\u001b[1mF1 score: \u001b[0m 0.658\n",
      "\u001b[1mAccuracy Score: \u001b[0m 84.33%\n",
      "\u001b[1mPrecision: \u001b[0m 0.798\n",
      "\u001b[1mRecall: \u001b[0m 0.559\n",
      "\u001b[1mAUC-ROC: \u001b[0m 0.890\n",
      "\n",
      "\u001b[1mConfusion Matrix\u001b[0m\n",
      "--------------------------------------------------\n",
      "[[1220   67]\n",
      " [ 209  265]]\n",
      "\n",
      "\u001b[1mClassification report\u001b[0m\n",
      "--------------------------------------------------\n",
      "              precision    recall  f1-score   support\n",
      "\n",
      "           0       0.85      0.95      0.90      1287\n",
      "           1       0.80      0.56      0.66       474\n",
      "\n",
      "    accuracy                           0.84      1761\n",
      "   macro avg       0.83      0.75      0.78      1761\n",
      "weighted avg       0.84      0.84      0.83      1761\n",
      "\n",
      "\n",
      "\u001b[1mSP: \u001b[0m 6\n"
     ]
    }
   ],
   "source": [
    "final_model_evaluation(rf_cv.best_estimator_, label__X_test, y_test)"
   ]
  },
  {
   "cell_type": "markdown",
   "metadata": {},
   "source": [
    "### CatBoost Classifier"
   ]
  },
  {
   "cell_type": "code",
   "execution_count": 209,
   "metadata": {},
   "outputs": [
    {
     "name": "stdout",
     "output_type": "stream",
     "text": [
      "\u001b[1mF1 score: \u001b[0m 0.752\n",
      "\u001b[1mAccuracy Score: \u001b[0m 87.85%\n",
      "\u001b[1mPrecision: \u001b[0m 0.835\n",
      "\u001b[1mRecall: \u001b[0m 0.684\n",
      "\u001b[1mAUC-ROC: \u001b[0m 0.916\n",
      "\n",
      "\u001b[1mConfusion Matrix\u001b[0m\n",
      "--------------------------------------------------\n",
      "[[1223   64]\n",
      " [ 150  324]]\n",
      "\n",
      "\u001b[1mClassification report\u001b[0m\n",
      "--------------------------------------------------\n",
      "              precision    recall  f1-score   support\n",
      "\n",
      "           0       0.89      0.95      0.92      1287\n",
      "           1       0.84      0.68      0.75       474\n",
      "\n",
      "    accuracy                           0.88      1761\n",
      "   macro avg       0.86      0.82      0.84      1761\n",
      "weighted avg       0.88      0.88      0.87      1761\n",
      "\n",
      "\n",
      "\u001b[1mSP: \u001b[0m 6\n"
     ]
    }
   ],
   "source": [
    "final_model_evaluation(cb_cv.best_estimator_, X_test, y_test)"
   ]
  },
  {
   "cell_type": "markdown",
   "metadata": {},
   "source": [
    "### XGBoost Classifier"
   ]
  },
  {
   "cell_type": "code",
   "execution_count": 210,
   "metadata": {},
   "outputs": [
    {
     "name": "stdout",
     "output_type": "stream",
     "text": [
      "\u001b[1mF1 score: \u001b[0m 0.747\n",
      "\u001b[1mAccuracy Score: \u001b[0m 87.90%\n",
      "\u001b[1mPrecision: \u001b[0m 0.856\n",
      "\u001b[1mRecall: \u001b[0m 0.662\n",
      "\u001b[1mAUC-ROC: \u001b[0m 0.910\n",
      "\n",
      "\u001b[1mConfusion Matrix\u001b[0m\n",
      "--------------------------------------------------\n",
      "[[1234   53]\n",
      " [ 160  314]]\n",
      "\n",
      "\u001b[1mClassification report\u001b[0m\n",
      "--------------------------------------------------\n",
      "              precision    recall  f1-score   support\n",
      "\n",
      "           0       0.89      0.96      0.92      1287\n",
      "           1       0.86      0.66      0.75       474\n",
      "\n",
      "    accuracy                           0.88      1761\n",
      "   macro avg       0.87      0.81      0.83      1761\n",
      "weighted avg       0.88      0.88      0.87      1761\n",
      "\n",
      "\n",
      "\u001b[1mSP: \u001b[0m 6\n"
     ]
    }
   ],
   "source": [
    "final_model_evaluation(xgb_cv.best_estimator_, X_test_ohe, y_test_ohe)"
   ]
  },
  {
   "cell_type": "markdown",
   "metadata": {},
   "source": [
    "### LighGBM Classifier"
   ]
  },
  {
   "cell_type": "code",
   "execution_count": 212,
   "metadata": {},
   "outputs": [
    {
     "name": "stdout",
     "output_type": "stream",
     "text": [
      "\u001b[1mF1 score: \u001b[0m 0.747\n",
      "\u001b[1mAccuracy Score: \u001b[0m 87.79%\n",
      "\u001b[1mPrecision: \u001b[0m 0.844\n",
      "\u001b[1mRecall: \u001b[0m 0.671\n",
      "\u001b[1mAUC-ROC: \u001b[0m 0.914\n",
      "\n",
      "\u001b[1mConfusion Matrix\u001b[0m\n",
      "--------------------------------------------------\n",
      "[[1228   59]\n",
      " [ 156  318]]\n",
      "\n",
      "\u001b[1mClassification report\u001b[0m\n",
      "--------------------------------------------------\n",
      "              precision    recall  f1-score   support\n",
      "\n",
      "           0       0.89      0.95      0.92      1287\n",
      "           1       0.84      0.67      0.75       474\n",
      "\n",
      "    accuracy                           0.88      1761\n",
      "   macro avg       0.87      0.81      0.83      1761\n",
      "weighted avg       0.88      0.88      0.87      1761\n",
      "\n",
      "\n",
      "\u001b[1mSP: \u001b[0m 6\n"
     ]
    }
   ],
   "source": [
    "final_model_evaluation(lgbm_cv.best_estimator_, label__X_test, y_test)"
   ]
  },
  {
   "cell_type": "markdown",
   "metadata": {},
   "source": [
    "### Kesimpulan \n",
    "\n",
    "Berdasarkan analisis dan evaluasi yang telah dilakukan terhadap berbagai model machine learning dengan hyperparameter tuning, berikut adalah beberapa poin penting yang dapat disimpulkan:\n",
    "\n",
    "1. Semua model yang telah dilatih, termasuk Logistic Regression, Decision Tree, Random Forest, CatBoost, XGBoost, dan LightGBM, telah menunjukkan performa yang baik, dengan AUC-ROC di atas 0.87 dan skor SP 6, melebihi kriteria evaluasi yang ditentukan.\n",
    "\n",
    "2. Dalam konteks ini, CatBoost Classifier mencapai AUC-ROC tertinggi 0.916 dan memiliki F1 Score 0.752. Meskipun F1 Score mungkin tidak selalu menjadi metrik terbaik untuk semua kasus (tergantung pada distribusi kelas, dll), di sini ia memberikan ukuran yang baik tentang bagaimana model berfungsi secara keseluruhan.\n",
    "\n",
    "3. Hal ini menunjukkan bahwa CatBoost Classifier memiliki kemampuan yang baik dalam membedakan antara kelas target berdasarkan fitur yang diberikan, dan memiliki tingkat kesalahan klasifikasi yang relatif rendah. Sehingga, model ini menjadi pilihan terbaik untuk tugas ini.\n",
    "\n",
    "4. Kesimpulannya, pada proyek ini, CatBoost Classifier dengan hyperparameter tuning telah menunjukkan performa terbaik berdasarkan metrik evaluasi yang ditentukan. Akan tetapi, penting untuk selalu melakukan validasi silang dan evaluasi lebih lanjut sebelum menerapkan model ini dalam produksi."
   ]
  },
  {
   "cell_type": "markdown",
   "metadata": {},
   "source": [
    "<div class=\"alert alert-success\">\n",
    "<b>Code Reviewers's comment v.1</b> <a class=\"tocSkip\"></a>\n",
    "\n",
    "Bagus, semua berjalan lancar.\n",
    "\n",
    "</div>"
   ]
  },
  {
   "cell_type": "markdown",
   "metadata": {},
   "source": [
    "<a id='section7'></a>\n",
    "## Rangkuman "
   ]
  },
  {
   "cell_type": "markdown",
   "metadata": {},
   "source": [
    "Dari analisis dan pemodelan data pelanggan Interconnect, dapat disimpulkan bahwa beberapa faktor memiliki peran penting dalam retensi pelanggan dan churn. Faktor-faktor tersebut mencakup jenis dan durasi kontrak, jumlah layanan yang digunakan, serta metode dan jenis pembayaran.\n",
    "\n",
    "Pelanggan dengan kontrak dua tahun cenderung memiliki tingkat churn lebih rendah dan membayar total biaya tertinggi, menunjukkan bahwa mendorong kontrak jangka panjang dapat meningkatkan retensi dan pendapatan. Selain itu, penggunaan layanan tambahan juga berhubungan dengan tingkat churn yang lebih rendah, sehingga promosi layanan tambahan dapat menjadi strategi efektif.\n",
    "\n",
    "Sementara itu, pelanggan lebih memilih metode pembayaran bulanan dan cek elektronik. Oleh karena itu, perlu dipertimbangkan untuk mempertahankan dan memperluas opsi pembayaran ini. Selain itu, perusahaan dapat meningkatkan pendapatan dengan mendorong penggunaan cek elektronik dan mempromosikan kontrak dua tahun.\n",
    "\n",
    "Dalam pemodelan data, CatBoost Classifier menunjukkan performa terbaik dengan skor AUC-ROC tertinggi 0.916 dan memiliki F1 Score 0.752. Meskipun model lain juga menunjukkan performa yang baik, CatBoost Classifier memberikan prediksi yang paling akurat dan efisien.\n",
    "\n",
    "Secara keseluruhan, hasil ini memberikan insight penting untuk strategi retensi pelanggan Interconnect, dengan memanfaatkan data pelanggan dan pemodelan machine learning. Mengimplementasikan strategi ini dapat membantu mengurangi tingkat churn dan meningkatkan kepuasan dan retensi pelanggan, serta pendapatan perusahaan."
   ]
  },
  {
   "cell_type": "markdown",
   "metadata": {},
   "source": [
    "<div class=\"alert alert-success\">\n",
    "<b>Code Reviewers's comment v.1</b> <a class=\"tocSkip\"></a>\n",
    "\n",
    "Bagus, semua berjalan lancar.\n",
    "\n",
    "</div>"
   ]
  },
  {
   "cell_type": "markdown",
   "metadata": {},
   "source": [
    "<a id='section8'></a>\n",
    "## Laporan Tugas"
   ]
  },
  {
   "cell_type": "markdown",
   "metadata": {},
   "source": [
    "1. Berdasarkan rencana kerja, langkah-langkah apa saja yang telah Anda lakukan dan langkah-langkah apa saja yang Anda lewati (jelaskan alasannya)?\n",
    "\n",
    "Tidak ada langkah yang dilewatkan dalam proses ini. Semua langkah dalam rencana kerja telah diikuti sesuai urutan yang ditentukan untuk mencapai tujuan proyek ini.\n",
    "\n",
    "\n",
    "2. Kesulitan apa saja yang Anda temui dan bagaimana Anda mengatasinya?\n",
    "\n",
    "Berikut adalah beberapa kesulitan yang ditemui dalam proyek ini:\n",
    "\n",
    "- Kebocoran Data: Salah satu tantangan yang paling signifikan dalam proyek ini adalah mencegah kebocoran data. Dalam hal ini, pembuatan fitur 'tenure' awalnya menyebabkan kebocoran data. Untuk menyelesaikan ini, fitur yang dibuat dari 'begin_date', seperti bulan dan hari dalam seminggu, dihapus. Selain itu, 'end_date' digunakan untuk pelanggan tanpa 'churn' sebagai tanggal 1 Februari 2020, yang membantu mencegah kebocoran lebih lanjut.\n",
    "\n",
    "- Peningkatan Performa Model: Awalnya, model yang dihasilkan memiliki skor AUC-ROC dan akurasi yang rendah. Perbaikan dalam pra-pemrosesan data dan penggunaan classifier XGBoost membantu meningkatkan skor AUC-ROC menjadi 0.91 dan akurasi menjadi 87,90%.\n",
    "\n",
    "- Seleksi Fitur: Memilih fitur yang tepat untuk digunakan dalam model adalah tantangan lain. Proses ini memerlukan pengetahuan yang baik tentang data dan pemahaman tentang bagaimana fitur-fitur ini dapat mempengaruhi hasil model.\n",
    "\n",
    "- Menyesuaikan Model: Proses penyetelan hyperparameter model untuk mencapai kinerja yang optimal bisa menjadi proses yang memakan waktu dan memerlukan banyak eksperimen.\n",
    "\n",
    "- Dengan mengatasi kesulitan-kesulitan ini, proyek berhasil mencapai tujuannya dengan mencapai skor kualitas 6 SP menggunakan classifier XGBoost.\n",
    "\n",
    "\n",
    "3. Langkah kunci apa saja yang Anda lakukan untuk menyelesaikan tugas ini?\n",
    "\n",
    "Berikut adalah langkah-langkah kunci yang dilakukan dalam menyelesaikan tugas ini:\n",
    "\n",
    "- Membuka File Data dan Mempelajari Informasi Umum: Langkah ini melibatkan memuat dataset dan melakukan analisis awal untuk memahami struktur dan isi data.\n",
    "\n",
    "- Pra-Pemrosesan Data: Dalam tahap ini, data dibersihkan dan dipersiapkan untuk analisis lebih lanjut. Hal ini dapat melibatkan penanganan nilai-nilai yang hilang, menghapus outlier, dan melakukan enkode pada variabel kategori.\n",
    "\n",
    "- Analisis Data Eksploratif: Analisis ini melibatkan pemahaman mendalam tentang data melalui visualisasi dan statistik deskriptif. Tujuannya adalah untuk memahami pola dan hubungan dalam data.\n",
    "\n",
    "- Proses Pemodelan: Dalam tahap ini, berbagai model machine learning diuji untuk menemukan yang paling efektif. Ini melibatkan penyetelan hyperparameter dan validasi silang untuk menghindari overfitting.\n",
    "\n",
    "- Model Training: Setelah memilih model terbaik, model tersebut kemudian dilatih menggunakan data pelatihan.\n",
    "\n",
    "- Evaluasi Model: Model yang telah dilatih kemudian dievaluasi menggunakan metrik kinerja tertentu (misalnya, F1 score, akurasi, AUC-ROC, dll.) pada data uji.\n",
    "\n",
    "- Rangkuman: Setelah semua tahap selesai, hasil dan penemuan penting dirangkum.\n",
    "\n",
    "4. Apa model akhir Anda dan berapa skor kualitasnya?\n",
    "\n",
    "- Model akhir yang dipilih adalah XGBoost Classifier, yang memiliki skor AUC-ROC sebesar 0.91 dan akurasi sebesar 87.90%. Berdasarkan metrik ini, model ini harus memberikan skor kualitas sebesar 6 SP."
   ]
  },
  {
   "cell_type": "markdown",
   "metadata": {},
   "source": [
    "<div class=\"alert alert-success\">\n",
    "<b>Code Reviewers's comment v.1</b> <a class=\"tocSkip\"></a>\n",
    "\n",
    "Bagus, semua berjalan lancar.\n",
    "\n",
    "</div>"
   ]
  },
  {
   "cell_type": "code",
   "execution_count": null,
   "metadata": {},
   "outputs": [],
   "source": []
  }
 ],
 "metadata": {
  "kernelspec": {
   "display_name": "Python 3 (ipykernel)",
   "language": "python",
   "name": "python3"
  },
  "language_info": {
   "codemirror_mode": {
    "name": "ipython",
    "version": 3
   },
   "file_extension": ".py",
   "mimetype": "text/x-python",
   "name": "python",
   "nbconvert_exporter": "python",
   "pygments_lexer": "ipython3",
   "version": "3.9.5"
  },
  "toc": {
   "base_numbering": 1,
   "nav_menu": {},
   "number_sections": true,
   "sideBar": true,
   "skip_h1_title": true,
   "title_cell": "Table of Contents",
   "title_sidebar": "Contents",
   "toc_cell": false,
   "toc_position": {
    "height": "calc(100% - 180px)",
    "left": "10px",
    "top": "150px",
    "width": "284.433px"
   },
   "toc_section_display": true,
   "toc_window_display": false
  }
 },
 "nbformat": 4,
 "nbformat_minor": 2
}
