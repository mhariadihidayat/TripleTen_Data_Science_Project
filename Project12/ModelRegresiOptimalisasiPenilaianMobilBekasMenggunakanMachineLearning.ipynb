{
 "cells": [
  {
   "cell_type": "markdown",
   "metadata": {},
   "source": [
    "# Deskripsi \n",
    "\n",
    "Rusty Bargain adalah perusahaan jual beli mobil bekas yang sedang mengembangkan sebuah aplikasi untuk menarik pembeli baru. Dalam aplikasi tersebut, Anda bisa dengan cepat mengetahui nilai pasar mobil Anda. Anda memiliki akses ke data historis, spesifikasi teknis kendaraan, versi model kendaraan, dan harga kendaraan. Tugas Anda adalah membuat suatu model yang mampu menentukan nilai pasar mobil. \n",
    "\n",
    "Rusty Bargain tertarik pada:\n",
    "\n",
    "- kualitas prediksi;\n",
    "- kecepatan model dalam memprediksi;\n",
    "- waktu yang diperlukan untuk melatih model"
   ]
  },
  {
   "cell_type": "markdown",
   "metadata": {},
   "source": [
    "## Persiapan Data"
   ]
  },
  {
   "cell_type": "markdown",
   "metadata": {},
   "source": [
    "# Memuat Libary yang dibutuhkan untuk pemrosesan data"
   ]
  },
  {
   "cell_type": "code",
   "execution_count": 1,
   "metadata": {},
   "outputs": [
    {
     "name": "stdout",
     "output_type": "stream",
     "text": [
      "Perpustakaan proyek telah berhasil diimpor!\n"
     ]
    }
   ],
   "source": [
    "# import pandas and numpy untuk proses dan manipulasi data\n",
    "import pandas as pd\n",
    "import numpy as np \n",
    "from pandas.api.types import is_string_dtype\n",
    "from pandas.api.types import is_numeric_dtype\n",
    "import random\n",
    "\n",
    "# import time untuk perhitungan waktu \n",
    "import time\n",
    "\n",
    "# Import seaborn untuk statistika data visualisasi\n",
    "import seaborn as sns\n",
    "\n",
    "# import matplotlib untuk data visualisasi\n",
    "import matplotlib.pyplot as plt \n",
    "%matplotlib inline\n",
    "\n",
    "# impor modul untuk pemisahan dan validasi silang menggunakan pencarian grid\n",
    "from sklearn.model_selection import train_test_split, GridSearchCV\n",
    "\n",
    "# impor metrik untuk mengukur kualitas model\n",
    "from sklearn.metrics import mean_squared_error\n",
    "\n",
    "# impor modul untuk preprocessing\n",
    "from sklearn.preprocessing import OrdinalEncoder\n",
    "from sklearn.preprocessing import OneHotEncoder\n",
    "from sklearn.preprocessing import StandardScaler\n",
    "pd.options.mode.chained_assignment = None # untuk menghindari SettingWithCopyWarning setelah penskalaan\n",
    "\n",
    "# impor model pembelajaran mesin\n",
    "from sklearn.linear_model import LinearRegression \n",
    "from sklearn.ensemble import RandomForestRegressor \n",
    "from catboost import CatBoostRegressor, Pool \n",
    "from lightgbm import LGBMRegressor \n",
    "from xgboost import XGBRegressor \n",
    "\n",
    "from IPython.display import display\n",
    "print('Perpustakaan proyek telah berhasil diimpor!')\n"
   ]
  },
  {
   "cell_type": "markdown",
   "metadata": {},
   "source": [
    "# Memuat Data dari csv agar dapat dijalankan dengan pandas untuk menjadi DataFrame"
   ]
  },
  {
   "cell_type": "code",
   "execution_count": 2,
   "metadata": {},
   "outputs": [],
   "source": [
    "df = pd.read_csv('/datasets/car_data.csv')"
   ]
  },
  {
   "cell_type": "code",
   "execution_count": 3,
   "metadata": {},
   "outputs": [],
   "source": [
    "# Membuat Fungsi untuk menentukan jika ada columns yang memiliki nilai yang hilang\n",
    "def get_percent_of_na(df, num):\n",
    "    count = 0\n",
    "    df = df.copy()\n",
    "    s = (df.isna().sum() / df.shape[0])\n",
    "    for column, percent in zip(s.index, s.values):\n",
    "        num_of_nulls = df[column].isna().sum()\n",
    "        if num_of_nulls == 0:\n",
    "            continue\n",
    "        else:\n",
    "            count += 1\n",
    "        print('Column {} dengan {:.{}%} persentasi nilai yang hilang , dan {} nilai yang hilang'.format(column, percent, num, num_of_nulls))\n",
    "    if count != 0:\n",
    "        print(\"\\033[1m\" + 'Terdapat {} columns dengan nilai NA.'.format(count) + \"\\033[0m\")\n",
    "    else:\n",
    "        print()\n",
    "        print(\"\\033[1m\" + 'Tidak Terdapat columns dengan nilai NA.' + \"\\033[0m\")\n",
    "        \n",
    "# Fungsi untuk melihat informasi keseluruhan pada dataset \n",
    "def get_info(df):\n",
    "    print(\"\\033[1m\" + '-'*100 + \"\\033[0m\")\n",
    "    print('Head:')\n",
    "    print()\n",
    "    display(df.head())\n",
    "    print('-'*100)\n",
    "    print('Info:')\n",
    "    print()\n",
    "    display(df.info())\n",
    "    print('-'*100)\n",
    "    print('Describe:')\n",
    "    print()\n",
    "    display(df.describe())\n",
    "    print('-'*100)\n",
    "    display(df.describe(include='object'))\n",
    "    print()\n",
    "    print('Columns dengan nilai yang hilang:')\n",
    "    display(get_percent_of_na(df, 4))  \n",
    "    print('-'*100)\n",
    "    print('Shape:')\n",
    "    print(df.shape)\n",
    "    print('-'*100)\n",
    "    print('Duplicated:')\n",
    "    print(\"\\033[1m\" + 'Kita mempunyai {} baris yang terduplikasi.\\n'.format(df.duplicated().sum()) + \"\\033[0m\")\n",
    "    print()"
   ]
  },
  {
   "cell_type": "code",
   "execution_count": 4,
   "metadata": {},
   "outputs": [
    {
     "name": "stdout",
     "output_type": "stream",
     "text": [
      "Informasi Umum pada Dataset\n",
      "\u001b[1m----------------------------------------------------------------------------------------------------\u001b[0m\n",
      "Head:\n",
      "\n"
     ]
    },
    {
     "data": {
      "text/html": [
       "<div>\n",
       "<style scoped>\n",
       "    .dataframe tbody tr th:only-of-type {\n",
       "        vertical-align: middle;\n",
       "    }\n",
       "\n",
       "    .dataframe tbody tr th {\n",
       "        vertical-align: top;\n",
       "    }\n",
       "\n",
       "    .dataframe thead th {\n",
       "        text-align: right;\n",
       "    }\n",
       "</style>\n",
       "<table border=\"1\" class=\"dataframe\">\n",
       "  <thead>\n",
       "    <tr style=\"text-align: right;\">\n",
       "      <th></th>\n",
       "      <th>DateCrawled</th>\n",
       "      <th>Price</th>\n",
       "      <th>VehicleType</th>\n",
       "      <th>RegistrationYear</th>\n",
       "      <th>Gearbox</th>\n",
       "      <th>Power</th>\n",
       "      <th>Model</th>\n",
       "      <th>Mileage</th>\n",
       "      <th>RegistrationMonth</th>\n",
       "      <th>FuelType</th>\n",
       "      <th>Brand</th>\n",
       "      <th>NotRepaired</th>\n",
       "      <th>DateCreated</th>\n",
       "      <th>NumberOfPictures</th>\n",
       "      <th>PostalCode</th>\n",
       "      <th>LastSeen</th>\n",
       "    </tr>\n",
       "  </thead>\n",
       "  <tbody>\n",
       "    <tr>\n",
       "      <th>0</th>\n",
       "      <td>24/03/2016 11:52</td>\n",
       "      <td>480</td>\n",
       "      <td>NaN</td>\n",
       "      <td>1993</td>\n",
       "      <td>manual</td>\n",
       "      <td>0</td>\n",
       "      <td>golf</td>\n",
       "      <td>150000</td>\n",
       "      <td>0</td>\n",
       "      <td>petrol</td>\n",
       "      <td>volkswagen</td>\n",
       "      <td>NaN</td>\n",
       "      <td>24/03/2016 00:00</td>\n",
       "      <td>0</td>\n",
       "      <td>70435</td>\n",
       "      <td>07/04/2016 03:16</td>\n",
       "    </tr>\n",
       "    <tr>\n",
       "      <th>1</th>\n",
       "      <td>24/03/2016 10:58</td>\n",
       "      <td>18300</td>\n",
       "      <td>coupe</td>\n",
       "      <td>2011</td>\n",
       "      <td>manual</td>\n",
       "      <td>190</td>\n",
       "      <td>NaN</td>\n",
       "      <td>125000</td>\n",
       "      <td>5</td>\n",
       "      <td>gasoline</td>\n",
       "      <td>audi</td>\n",
       "      <td>yes</td>\n",
       "      <td>24/03/2016 00:00</td>\n",
       "      <td>0</td>\n",
       "      <td>66954</td>\n",
       "      <td>07/04/2016 01:46</td>\n",
       "    </tr>\n",
       "    <tr>\n",
       "      <th>2</th>\n",
       "      <td>14/03/2016 12:52</td>\n",
       "      <td>9800</td>\n",
       "      <td>suv</td>\n",
       "      <td>2004</td>\n",
       "      <td>auto</td>\n",
       "      <td>163</td>\n",
       "      <td>grand</td>\n",
       "      <td>125000</td>\n",
       "      <td>8</td>\n",
       "      <td>gasoline</td>\n",
       "      <td>jeep</td>\n",
       "      <td>NaN</td>\n",
       "      <td>14/03/2016 00:00</td>\n",
       "      <td>0</td>\n",
       "      <td>90480</td>\n",
       "      <td>05/04/2016 12:47</td>\n",
       "    </tr>\n",
       "    <tr>\n",
       "      <th>3</th>\n",
       "      <td>17/03/2016 16:54</td>\n",
       "      <td>1500</td>\n",
       "      <td>small</td>\n",
       "      <td>2001</td>\n",
       "      <td>manual</td>\n",
       "      <td>75</td>\n",
       "      <td>golf</td>\n",
       "      <td>150000</td>\n",
       "      <td>6</td>\n",
       "      <td>petrol</td>\n",
       "      <td>volkswagen</td>\n",
       "      <td>no</td>\n",
       "      <td>17/03/2016 00:00</td>\n",
       "      <td>0</td>\n",
       "      <td>91074</td>\n",
       "      <td>17/03/2016 17:40</td>\n",
       "    </tr>\n",
       "    <tr>\n",
       "      <th>4</th>\n",
       "      <td>31/03/2016 17:25</td>\n",
       "      <td>3600</td>\n",
       "      <td>small</td>\n",
       "      <td>2008</td>\n",
       "      <td>manual</td>\n",
       "      <td>69</td>\n",
       "      <td>fabia</td>\n",
       "      <td>90000</td>\n",
       "      <td>7</td>\n",
       "      <td>gasoline</td>\n",
       "      <td>skoda</td>\n",
       "      <td>no</td>\n",
       "      <td>31/03/2016 00:00</td>\n",
       "      <td>0</td>\n",
       "      <td>60437</td>\n",
       "      <td>06/04/2016 10:17</td>\n",
       "    </tr>\n",
       "  </tbody>\n",
       "</table>\n",
       "</div>"
      ],
      "text/plain": [
       "        DateCrawled  Price VehicleType  RegistrationYear Gearbox  Power  \\\n",
       "0  24/03/2016 11:52    480         NaN              1993  manual      0   \n",
       "1  24/03/2016 10:58  18300       coupe              2011  manual    190   \n",
       "2  14/03/2016 12:52   9800         suv              2004    auto    163   \n",
       "3  17/03/2016 16:54   1500       small              2001  manual     75   \n",
       "4  31/03/2016 17:25   3600       small              2008  manual     69   \n",
       "\n",
       "   Model  Mileage  RegistrationMonth  FuelType       Brand NotRepaired  \\\n",
       "0   golf   150000                  0    petrol  volkswagen         NaN   \n",
       "1    NaN   125000                  5  gasoline        audi         yes   \n",
       "2  grand   125000                  8  gasoline        jeep         NaN   \n",
       "3   golf   150000                  6    petrol  volkswagen          no   \n",
       "4  fabia    90000                  7  gasoline       skoda          no   \n",
       "\n",
       "        DateCreated  NumberOfPictures  PostalCode          LastSeen  \n",
       "0  24/03/2016 00:00                 0       70435  07/04/2016 03:16  \n",
       "1  24/03/2016 00:00                 0       66954  07/04/2016 01:46  \n",
       "2  14/03/2016 00:00                 0       90480  05/04/2016 12:47  \n",
       "3  17/03/2016 00:00                 0       91074  17/03/2016 17:40  \n",
       "4  31/03/2016 00:00                 0       60437  06/04/2016 10:17  "
      ]
     },
     "metadata": {},
     "output_type": "display_data"
    },
    {
     "name": "stdout",
     "output_type": "stream",
     "text": [
      "----------------------------------------------------------------------------------------------------\n",
      "Info:\n",
      "\n",
      "<class 'pandas.core.frame.DataFrame'>\n",
      "RangeIndex: 354369 entries, 0 to 354368\n",
      "Data columns (total 16 columns):\n",
      " #   Column             Non-Null Count   Dtype \n",
      "---  ------             --------------   ----- \n",
      " 0   DateCrawled        354369 non-null  object\n",
      " 1   Price              354369 non-null  int64 \n",
      " 2   VehicleType        316879 non-null  object\n",
      " 3   RegistrationYear   354369 non-null  int64 \n",
      " 4   Gearbox            334536 non-null  object\n",
      " 5   Power              354369 non-null  int64 \n",
      " 6   Model              334664 non-null  object\n",
      " 7   Mileage            354369 non-null  int64 \n",
      " 8   RegistrationMonth  354369 non-null  int64 \n",
      " 9   FuelType           321474 non-null  object\n",
      " 10  Brand              354369 non-null  object\n",
      " 11  NotRepaired        283215 non-null  object\n",
      " 12  DateCreated        354369 non-null  object\n",
      " 13  NumberOfPictures   354369 non-null  int64 \n",
      " 14  PostalCode         354369 non-null  int64 \n",
      " 15  LastSeen           354369 non-null  object\n",
      "dtypes: int64(7), object(9)\n",
      "memory usage: 43.3+ MB\n"
     ]
    },
    {
     "data": {
      "text/plain": [
       "None"
      ]
     },
     "metadata": {},
     "output_type": "display_data"
    },
    {
     "name": "stdout",
     "output_type": "stream",
     "text": [
      "----------------------------------------------------------------------------------------------------\n",
      "Describe:\n",
      "\n"
     ]
    },
    {
     "data": {
      "text/html": [
       "<div>\n",
       "<style scoped>\n",
       "    .dataframe tbody tr th:only-of-type {\n",
       "        vertical-align: middle;\n",
       "    }\n",
       "\n",
       "    .dataframe tbody tr th {\n",
       "        vertical-align: top;\n",
       "    }\n",
       "\n",
       "    .dataframe thead th {\n",
       "        text-align: right;\n",
       "    }\n",
       "</style>\n",
       "<table border=\"1\" class=\"dataframe\">\n",
       "  <thead>\n",
       "    <tr style=\"text-align: right;\">\n",
       "      <th></th>\n",
       "      <th>Price</th>\n",
       "      <th>RegistrationYear</th>\n",
       "      <th>Power</th>\n",
       "      <th>Mileage</th>\n",
       "      <th>RegistrationMonth</th>\n",
       "      <th>NumberOfPictures</th>\n",
       "      <th>PostalCode</th>\n",
       "    </tr>\n",
       "  </thead>\n",
       "  <tbody>\n",
       "    <tr>\n",
       "      <th>count</th>\n",
       "      <td>354369.000000</td>\n",
       "      <td>354369.000000</td>\n",
       "      <td>354369.000000</td>\n",
       "      <td>354369.000000</td>\n",
       "      <td>354369.000000</td>\n",
       "      <td>354369.0</td>\n",
       "      <td>354369.000000</td>\n",
       "    </tr>\n",
       "    <tr>\n",
       "      <th>mean</th>\n",
       "      <td>4416.656776</td>\n",
       "      <td>2004.234448</td>\n",
       "      <td>110.094337</td>\n",
       "      <td>128211.172535</td>\n",
       "      <td>5.714645</td>\n",
       "      <td>0.0</td>\n",
       "      <td>50508.689087</td>\n",
       "    </tr>\n",
       "    <tr>\n",
       "      <th>std</th>\n",
       "      <td>4514.158514</td>\n",
       "      <td>90.227958</td>\n",
       "      <td>189.850405</td>\n",
       "      <td>37905.341530</td>\n",
       "      <td>3.726421</td>\n",
       "      <td>0.0</td>\n",
       "      <td>25783.096248</td>\n",
       "    </tr>\n",
       "    <tr>\n",
       "      <th>min</th>\n",
       "      <td>0.000000</td>\n",
       "      <td>1000.000000</td>\n",
       "      <td>0.000000</td>\n",
       "      <td>5000.000000</td>\n",
       "      <td>0.000000</td>\n",
       "      <td>0.0</td>\n",
       "      <td>1067.000000</td>\n",
       "    </tr>\n",
       "    <tr>\n",
       "      <th>25%</th>\n",
       "      <td>1050.000000</td>\n",
       "      <td>1999.000000</td>\n",
       "      <td>69.000000</td>\n",
       "      <td>125000.000000</td>\n",
       "      <td>3.000000</td>\n",
       "      <td>0.0</td>\n",
       "      <td>30165.000000</td>\n",
       "    </tr>\n",
       "    <tr>\n",
       "      <th>50%</th>\n",
       "      <td>2700.000000</td>\n",
       "      <td>2003.000000</td>\n",
       "      <td>105.000000</td>\n",
       "      <td>150000.000000</td>\n",
       "      <td>6.000000</td>\n",
       "      <td>0.0</td>\n",
       "      <td>49413.000000</td>\n",
       "    </tr>\n",
       "    <tr>\n",
       "      <th>75%</th>\n",
       "      <td>6400.000000</td>\n",
       "      <td>2008.000000</td>\n",
       "      <td>143.000000</td>\n",
       "      <td>150000.000000</td>\n",
       "      <td>9.000000</td>\n",
       "      <td>0.0</td>\n",
       "      <td>71083.000000</td>\n",
       "    </tr>\n",
       "    <tr>\n",
       "      <th>max</th>\n",
       "      <td>20000.000000</td>\n",
       "      <td>9999.000000</td>\n",
       "      <td>20000.000000</td>\n",
       "      <td>150000.000000</td>\n",
       "      <td>12.000000</td>\n",
       "      <td>0.0</td>\n",
       "      <td>99998.000000</td>\n",
       "    </tr>\n",
       "  </tbody>\n",
       "</table>\n",
       "</div>"
      ],
      "text/plain": [
       "               Price  RegistrationYear          Power        Mileage  \\\n",
       "count  354369.000000     354369.000000  354369.000000  354369.000000   \n",
       "mean     4416.656776       2004.234448     110.094337  128211.172535   \n",
       "std      4514.158514         90.227958     189.850405   37905.341530   \n",
       "min         0.000000       1000.000000       0.000000    5000.000000   \n",
       "25%      1050.000000       1999.000000      69.000000  125000.000000   \n",
       "50%      2700.000000       2003.000000     105.000000  150000.000000   \n",
       "75%      6400.000000       2008.000000     143.000000  150000.000000   \n",
       "max     20000.000000       9999.000000   20000.000000  150000.000000   \n",
       "\n",
       "       RegistrationMonth  NumberOfPictures     PostalCode  \n",
       "count      354369.000000          354369.0  354369.000000  \n",
       "mean            5.714645               0.0   50508.689087  \n",
       "std             3.726421               0.0   25783.096248  \n",
       "min             0.000000               0.0    1067.000000  \n",
       "25%             3.000000               0.0   30165.000000  \n",
       "50%             6.000000               0.0   49413.000000  \n",
       "75%             9.000000               0.0   71083.000000  \n",
       "max            12.000000               0.0   99998.000000  "
      ]
     },
     "metadata": {},
     "output_type": "display_data"
    },
    {
     "name": "stdout",
     "output_type": "stream",
     "text": [
      "----------------------------------------------------------------------------------------------------\n"
     ]
    },
    {
     "data": {
      "text/html": [
       "<div>\n",
       "<style scoped>\n",
       "    .dataframe tbody tr th:only-of-type {\n",
       "        vertical-align: middle;\n",
       "    }\n",
       "\n",
       "    .dataframe tbody tr th {\n",
       "        vertical-align: top;\n",
       "    }\n",
       "\n",
       "    .dataframe thead th {\n",
       "        text-align: right;\n",
       "    }\n",
       "</style>\n",
       "<table border=\"1\" class=\"dataframe\">\n",
       "  <thead>\n",
       "    <tr style=\"text-align: right;\">\n",
       "      <th></th>\n",
       "      <th>DateCrawled</th>\n",
       "      <th>VehicleType</th>\n",
       "      <th>Gearbox</th>\n",
       "      <th>Model</th>\n",
       "      <th>FuelType</th>\n",
       "      <th>Brand</th>\n",
       "      <th>NotRepaired</th>\n",
       "      <th>DateCreated</th>\n",
       "      <th>LastSeen</th>\n",
       "    </tr>\n",
       "  </thead>\n",
       "  <tbody>\n",
       "    <tr>\n",
       "      <th>count</th>\n",
       "      <td>354369</td>\n",
       "      <td>316879</td>\n",
       "      <td>334536</td>\n",
       "      <td>334664</td>\n",
       "      <td>321474</td>\n",
       "      <td>354369</td>\n",
       "      <td>283215</td>\n",
       "      <td>354369</td>\n",
       "      <td>354369</td>\n",
       "    </tr>\n",
       "    <tr>\n",
       "      <th>unique</th>\n",
       "      <td>15470</td>\n",
       "      <td>8</td>\n",
       "      <td>2</td>\n",
       "      <td>250</td>\n",
       "      <td>7</td>\n",
       "      <td>40</td>\n",
       "      <td>2</td>\n",
       "      <td>109</td>\n",
       "      <td>18592</td>\n",
       "    </tr>\n",
       "    <tr>\n",
       "      <th>top</th>\n",
       "      <td>05/03/2016 14:25</td>\n",
       "      <td>sedan</td>\n",
       "      <td>manual</td>\n",
       "      <td>golf</td>\n",
       "      <td>petrol</td>\n",
       "      <td>volkswagen</td>\n",
       "      <td>no</td>\n",
       "      <td>03/04/2016 00:00</td>\n",
       "      <td>07/04/2016 07:16</td>\n",
       "    </tr>\n",
       "    <tr>\n",
       "      <th>freq</th>\n",
       "      <td>66</td>\n",
       "      <td>91457</td>\n",
       "      <td>268251</td>\n",
       "      <td>29232</td>\n",
       "      <td>216352</td>\n",
       "      <td>77013</td>\n",
       "      <td>247161</td>\n",
       "      <td>13719</td>\n",
       "      <td>654</td>\n",
       "    </tr>\n",
       "  </tbody>\n",
       "</table>\n",
       "</div>"
      ],
      "text/plain": [
       "             DateCrawled VehicleType Gearbox   Model FuelType       Brand  \\\n",
       "count             354369      316879  334536  334664   321474      354369   \n",
       "unique             15470           8       2     250        7          40   \n",
       "top     05/03/2016 14:25       sedan  manual    golf   petrol  volkswagen   \n",
       "freq                  66       91457  268251   29232   216352       77013   \n",
       "\n",
       "       NotRepaired       DateCreated          LastSeen  \n",
       "count       283215            354369            354369  \n",
       "unique           2               109             18592  \n",
       "top             no  03/04/2016 00:00  07/04/2016 07:16  \n",
       "freq        247161             13719               654  "
      ]
     },
     "metadata": {},
     "output_type": "display_data"
    },
    {
     "name": "stdout",
     "output_type": "stream",
     "text": [
      "\n",
      "Columns dengan nilai yang hilang:\n",
      "Column VehicleType dengan 10.5794% persentasi nilai yang hilang , dan 37490 nilai yang hilang\n",
      "Column Gearbox dengan 5.5967% persentasi nilai yang hilang , dan 19833 nilai yang hilang\n",
      "Column Model dengan 5.5606% persentasi nilai yang hilang , dan 19705 nilai yang hilang\n",
      "Column FuelType dengan 9.2827% persentasi nilai yang hilang , dan 32895 nilai yang hilang\n",
      "Column NotRepaired dengan 20.0791% persentasi nilai yang hilang , dan 71154 nilai yang hilang\n",
      "\u001b[1mTerdapat 5 columns dengan nilai NA.\u001b[0m\n"
     ]
    },
    {
     "data": {
      "text/plain": [
       "None"
      ]
     },
     "metadata": {},
     "output_type": "display_data"
    },
    {
     "name": "stdout",
     "output_type": "stream",
     "text": [
      "----------------------------------------------------------------------------------------------------\n",
      "Shape:\n",
      "(354369, 16)\n",
      "----------------------------------------------------------------------------------------------------\n",
      "Duplicated:\n",
      "\u001b[1mKita mempunyai 262 baris yang terduplikasi.\n",
      "\u001b[0m\n",
      "\n"
     ]
    }
   ],
   "source": [
    "print('Informasi Umum pada Dataset')\n",
    "get_info(df)"
   ]
  },
  {
   "cell_type": "markdown",
   "metadata": {},
   "source": [
    "Kesimpulan :\n",
    "\n",
    "Dengan melihat informasi umum pada data, kita dapat melihat bahwa data tersebut berisi 354.369 baris dan 16 kolom. Terdapat 5 kolom dengan nilai yang hilang. Nilai yang hilang dalam kumpulan data sebagian besar hilang secara acak (MAR). serta kita memiliki 262 baris duplikat dan Kita juga perlu mengonversi tipe data untuk beberapa fitur."
   ]
  },
  {
   "cell_type": "markdown",
   "metadata": {},
   "source": [
    "# Langkah pertama dalam persiapan data adalah mengganti nama kolom."
   ]
  },
  {
   "cell_type": "code",
   "execution_count": 5,
   "metadata": {},
   "outputs": [],
   "source": [
    "# menggani nama column\n",
    "df = df.rename(columns={'DateCrawled': 'date_crawled', 'Price': 'price', 'VehicleType': 'vehicle_type', 'RegistrationYear': 'registration_year', 'Gearbox': 'gearbox',\n",
    "       'Power': 'power', 'Model': 'model', 'Mileage': 'mileage', 'RegistrationMonth': 'registration_month', 'FuelType': 'fuel_type', 'Brand': 'brand',\n",
    "       'NotRepaired': 'not_repaired', 'DateCreated': 'date_created', 'NumberOfPictures': 'number_of_pictures', 'PostalCode': 'postal_code', 'LastSeen': 'last_seen'})\n"
   ]
  },
  {
   "cell_type": "markdown",
   "metadata": {},
   "source": [
    "# Menangani nilai yang hilang "
   ]
  },
  {
   "cell_type": "code",
   "execution_count": 6,
   "metadata": {},
   "outputs": [],
   "source": [
    "# Fungsi untuk menghitung persentasi nilai yang hilang \n",
    "def missing_values_table(df):\n",
    "        # Total Nilai yang hilang \n",
    "        mis_val = df.isnull().sum()\n",
    "        \n",
    "        # Persentase niilai yang hilang \n",
    "        mis_val_percent = 100 * df.isnull().sum() / len(df)\n",
    "        \n",
    "        # Membuat table dengan hasil nilai yang hilang \n",
    "        mis_val_table = pd.concat([mis_val, mis_val_percent], axis=1)\n",
    "        \n",
    "        # Mengubah nama column\n",
    "        mis_val_table_ren_columns = mis_val_table.rename(\n",
    "        columns = {0 : 'Missing Values', 1 : '% of Total Values'})\n",
    "        \n",
    "        # Mengurutkan tabel berdasarkan persentase nilai yang hilang berdasarkan descending        \n",
    "        mis_val_table_ren_columns = mis_val_table_ren_columns[\n",
    "            mis_val_table_ren_columns.iloc[:,1] != 0].sort_values(\n",
    "        '% of Total Values', ascending=False).round(1)\n",
    "        \n",
    "        # Menampilkan hasil informasi \n",
    "        print (\"Dataframe yang terpilih  \" + str(df.shape[1]) + \" columns.\\n\"      \n",
    "            \"Terdapat \" + str(mis_val_table_ren_columns.shape[0]) +\n",
    "              \" columns yang memiliki nilai yang hilang.\")\n",
    "        \n",
    "        # Return dataframe  dengan nilia yang hilang \n",
    "        return mis_val_table_ren_columns"
   ]
  },
  {
   "cell_type": "code",
   "execution_count": 7,
   "metadata": {},
   "outputs": [
    {
     "name": "stdout",
     "output_type": "stream",
     "text": [
      "Dataframe yang terpilih  16 columns.\n",
      "Terdapat 5 columns yang memiliki nilai yang hilang.\n"
     ]
    },
    {
     "data": {
      "text/html": [
       "<div>\n",
       "<style scoped>\n",
       "    .dataframe tbody tr th:only-of-type {\n",
       "        vertical-align: middle;\n",
       "    }\n",
       "\n",
       "    .dataframe tbody tr th {\n",
       "        vertical-align: top;\n",
       "    }\n",
       "\n",
       "    .dataframe thead th {\n",
       "        text-align: right;\n",
       "    }\n",
       "</style>\n",
       "<table border=\"1\" class=\"dataframe\">\n",
       "  <thead>\n",
       "    <tr style=\"text-align: right;\">\n",
       "      <th></th>\n",
       "      <th>Missing Values</th>\n",
       "      <th>% of Total Values</th>\n",
       "    </tr>\n",
       "  </thead>\n",
       "  <tbody>\n",
       "    <tr>\n",
       "      <th>not_repaired</th>\n",
       "      <td>71154</td>\n",
       "      <td>20.1</td>\n",
       "    </tr>\n",
       "    <tr>\n",
       "      <th>vehicle_type</th>\n",
       "      <td>37490</td>\n",
       "      <td>10.6</td>\n",
       "    </tr>\n",
       "    <tr>\n",
       "      <th>fuel_type</th>\n",
       "      <td>32895</td>\n",
       "      <td>9.3</td>\n",
       "    </tr>\n",
       "    <tr>\n",
       "      <th>gearbox</th>\n",
       "      <td>19833</td>\n",
       "      <td>5.6</td>\n",
       "    </tr>\n",
       "    <tr>\n",
       "      <th>model</th>\n",
       "      <td>19705</td>\n",
       "      <td>5.6</td>\n",
       "    </tr>\n",
       "  </tbody>\n",
       "</table>\n",
       "</div>"
      ],
      "text/plain": [
       "              Missing Values  % of Total Values\n",
       "not_repaired           71154               20.1\n",
       "vehicle_type           37490               10.6\n",
       "fuel_type              32895                9.3\n",
       "gearbox                19833                5.6\n",
       "model                  19705                5.6"
      ]
     },
     "execution_count": 7,
     "metadata": {},
     "output_type": "execute_result"
    }
   ],
   "source": [
    "# Memeriksa nilai yang hilang\n",
    "missing_values_table(df)"
   ]
  },
  {
   "cell_type": "markdown",
   "metadata": {},
   "source": [
    "Kesimpulan : \n",
    "\n",
    "Kita dapat melihat bahwa column `not_repaired` memiliki nilai yang hilang sebesar 20,1%, sedangkan `vehicle_type`, `fuel_type`, `gearbox`, dan `model` memiliki nilai yang hilang kurang dari 10%. Kita dapat memutuskan untuk membuang nilai yang hilang kurang dari 10% tetapi cara yang lebih baik untuk mengatasi nilai yang hilang adalah dengan mengisinya secara sistematis menggunakan properti data."
   ]
  },
  {
   "cell_type": "markdown",
   "metadata": {},
   "source": [
    "# Membuat fungsi untuk menangani nilai yang hilang "
   ]
  },
  {
   "cell_type": "markdown",
   "metadata": {},
   "source": [
    "# Mempersiapkan  `model` features"
   ]
  },
  {
   "cell_type": "code",
   "execution_count": 8,
   "metadata": {},
   "outputs": [],
   "source": [
    "# Fungsi untuk mengganti nilai yang hilang \n",
    "def replace_missing_value(unique_value_feature, col_to_replace):\n",
    "    \"\"\"\"\n",
    "    Fungsi ini digunakan untuk mengganti nilai yang hilang pada column\n",
    "    dengan cara mengganti nilai yang hilang dengan nilai yang unik pada feature\n",
    "    \"\"\"\n",
    "    # Mencari nilai yang unik pada feature dari dataframe\n",
    "    for value in df[unique_value_feature].unique().tolist():\n",
    "        # Mendapatkan nilai feature tertentu menggunakan nilai yang memungkinkan dari nilai columns\n",
    "        specific_value_df = df[df[unique_value_feature] == value].dropna()[col_to_replace]\n",
    "        value_replacement_list = specific_value_df.unique().tolist()\n",
    "        # untuk nilai yang hilang, tetapkan pilihan acak dari nilai pengganti untuk nilai yang hilang\n",
    "        if value_replacement_list != []:\n",
    "            df.loc[(df[unique_value_feature] == value) & (df[col_to_replace] != df[col_to_replace]), col_to_replace] = random.choice(value_replacement_list)\n",
    "        else:\n",
    "            df.loc[(df[unique_value_feature] == value) & (df[col_to_replace] != df[col_to_replace]), col_to_replace] = df[col_to_replace].mode() \n",
    "    "
   ]
  },
  {
   "cell_type": "markdown",
   "metadata": {},
   "source": [
    "Untuk mengganti nilai yang hilang pada kolom `model`, pertama-tama kita mendapatkan nilai unik `vehicle_type`\t, kemudian mendapatkan `vehicle_type` tertentu dengan kemungkinan `model` untuk merek tersebut. Kemudian memilih nilai acak dari columns (tidak termasuk nilai nan) dan menetapkannya ke` model` yang hilang untuk merek kendaraan tersebut dalam kerangka data. Untuk merek unik dengan daftar kosong, kita menggunakan nilai paling sering di kolom model."
   ]
  },
  {
   "cell_type": "code",
   "execution_count": 9,
   "metadata": {},
   "outputs": [],
   "source": [
    "# Mengganti nilai yang hilang pada column `model` \n",
    "replace_missing_value('brand', 'model')"
   ]
  },
  {
   "cell_type": "markdown",
   "metadata": {},
   "source": [
    "# Mempersiapkan  `vehicle_type` features"
   ]
  },
  {
   "cell_type": "markdown",
   "metadata": {},
   "source": [
    "Untuk mengganti nilai yang hilang di kolom `vehicle_type`, pertama-tama kita mendapatkan nilai unik dari model kendaraan, lalu mendapatkan daftar model spesifik dengan kemungkinan tipe kendaraan untuk model tersebut. Kami kemudian memilih nilai acak dari daftar (tidak termasuk nilai nan) dan menetapkannya ke `vehicle_type` yang hilang untuk model kendaraan tersebut dalam kerangka data. Untuk model unik dengan daftar kosong, kami menggunakan nilai paling sering di kolom jenis kendaraan."
   ]
  },
  {
   "cell_type": "code",
   "execution_count": 10,
   "metadata": {},
   "outputs": [],
   "source": [
    "# Mengganti nilai yang hilang pada column `vehicle_type` \n",
    "replace_missing_value('model', 'vehicle_type')"
   ]
  },
  {
   "cell_type": "markdown",
   "metadata": {},
   "source": [
    "# Mempersiapkan  `fuel_type` features"
   ]
  },
  {
   "cell_type": "markdown",
   "metadata": {},
   "source": [
    "Kami menerapkan strategi serupa untuk mengganti nilai yang hilang pada fitur `fuel_type` dan `gearbox`."
   ]
  },
  {
   "cell_type": "code",
   "execution_count": 11,
   "metadata": {},
   "outputs": [],
   "source": [
    "# Mengganti nilai yang hilang pada column `fuel_type` \n",
    "replace_missing_value('model', 'fuel_type')"
   ]
  },
  {
   "cell_type": "markdown",
   "metadata": {},
   "source": [
    "# Mempersiapkan  `gearbox` features"
   ]
  },
  {
   "cell_type": "code",
   "execution_count": 12,
   "metadata": {},
   "outputs": [],
   "source": [
    "# Mengganti nilai yang hilang pada column `gearbox` \n",
    "replace_missing_value('model', 'gearbox')"
   ]
  },
  {
   "cell_type": "markdown",
   "metadata": {},
   "source": [
    "# Mempersiapkan `not_repaired` features"
   ]
  },
  {
   "cell_type": "markdown",
   "metadata": {},
   "source": [
    "Untuk fitur `not_repaired`, tidak ada cara untuk mengetahui list mana yang diperbaiki atau tidak, jadi kami mengisi nilai yang hilang dengan kategori baru 'tidak diketahui' / 'unknown'."
   ]
  },
  {
   "cell_type": "code",
   "execution_count": 13,
   "metadata": {},
   "outputs": [
    {
     "data": {
      "text/plain": [
       "no         247161\n",
       "unknown     71154\n",
       "yes         36054\n",
       "Name: not_repaired, dtype: int64"
      ]
     },
     "execution_count": 13,
     "metadata": {},
     "output_type": "execute_result"
    }
   ],
   "source": [
    "# mengganti nilai 'NaN' pada `not_repaired` column\n",
    "df['not_repaired'].fillna('unknown', inplace=True)\n",
    "df.not_repaired.value_counts()"
   ]
  },
  {
   "cell_type": "code",
   "execution_count": 14,
   "metadata": {},
   "outputs": [
    {
     "name": "stdout",
     "output_type": "stream",
     "text": [
      "Dataframe yang terpilih  16 columns.\n",
      "Terdapat 4 columns yang memiliki nilai yang hilang.\n"
     ]
    },
    {
     "data": {
      "text/html": [
       "<div>\n",
       "<style scoped>\n",
       "    .dataframe tbody tr th:only-of-type {\n",
       "        vertical-align: middle;\n",
       "    }\n",
       "\n",
       "    .dataframe tbody tr th {\n",
       "        vertical-align: top;\n",
       "    }\n",
       "\n",
       "    .dataframe thead th {\n",
       "        text-align: right;\n",
       "    }\n",
       "</style>\n",
       "<table border=\"1\" class=\"dataframe\">\n",
       "  <thead>\n",
       "    <tr style=\"text-align: right;\">\n",
       "      <th></th>\n",
       "      <th>Missing Values</th>\n",
       "      <th>% of Total Values</th>\n",
       "    </tr>\n",
       "  </thead>\n",
       "  <tbody>\n",
       "    <tr>\n",
       "      <th>model</th>\n",
       "      <td>3374</td>\n",
       "      <td>1.0</td>\n",
       "    </tr>\n",
       "    <tr>\n",
       "      <th>gearbox</th>\n",
       "      <td>1104</td>\n",
       "      <td>0.3</td>\n",
       "    </tr>\n",
       "    <tr>\n",
       "      <th>fuel_type</th>\n",
       "      <td>1104</td>\n",
       "      <td>0.3</td>\n",
       "    </tr>\n",
       "    <tr>\n",
       "      <th>vehicle_type</th>\n",
       "      <td>1042</td>\n",
       "      <td>0.3</td>\n",
       "    </tr>\n",
       "  </tbody>\n",
       "</table>\n",
       "</div>"
      ],
      "text/plain": [
       "              Missing Values  % of Total Values\n",
       "model                   3374                1.0\n",
       "gearbox                 1104                0.3\n",
       "fuel_type               1104                0.3\n",
       "vehicle_type            1042                0.3"
      ]
     },
     "execution_count": 14,
     "metadata": {},
     "output_type": "execute_result"
    }
   ],
   "source": [
    "# memriksa kembali nilai yang hilang \n",
    "missing_values_table(df)"
   ]
  },
  {
   "cell_type": "markdown",
   "metadata": {},
   "source": [
    "Dari pemeriksaan ulang untuk nilai yang hilang, kami melihat bahwa kami masih memiliki beberapa nilai yang hilang. Kita dapat melihat ke dalam kumpulan data untuk mencari kategori dengan nilai yang hilang. Dari kerangka data dengan nilai yang hilang, kita dapat mengamati bahwa sebagian besar nilai yang hilang hilang tidak secara acak (MNAR). Ini berarti bahwa `fuel_type` , `model`, `gearbox`, dan `vehicle_type` di beberapa baris tidak memiliki nilai. Dapat dilihat secara detail menunjukkan bahwa merek sonstige_autos memiliki nilai 'NaN' sebagai nama merek. Karena ini mewakili kategori merek, menghapus baris dengan nilai yang hilang dapat menimbulkan bias dalam kumpulan data kami. Opsi terbaik adalah mengisi nilai yang hilang dengan 'tidak diketahui' daripada menghapus merek sonstige_autos dari kumpulan data."
   ]
  },
  {
   "cell_type": "code",
   "execution_count": 15,
   "metadata": {},
   "outputs": [
    {
     "data": {
      "text/html": [
       "<div>\n",
       "<style scoped>\n",
       "    .dataframe tbody tr th:only-of-type {\n",
       "        vertical-align: middle;\n",
       "    }\n",
       "\n",
       "    .dataframe tbody tr th {\n",
       "        vertical-align: top;\n",
       "    }\n",
       "\n",
       "    .dataframe thead th {\n",
       "        text-align: right;\n",
       "    }\n",
       "</style>\n",
       "<table border=\"1\" class=\"dataframe\">\n",
       "  <thead>\n",
       "    <tr style=\"text-align: right;\">\n",
       "      <th></th>\n",
       "      <th>date_crawled</th>\n",
       "      <th>price</th>\n",
       "      <th>vehicle_type</th>\n",
       "      <th>registration_year</th>\n",
       "      <th>gearbox</th>\n",
       "      <th>power</th>\n",
       "      <th>model</th>\n",
       "      <th>mileage</th>\n",
       "      <th>registration_month</th>\n",
       "      <th>fuel_type</th>\n",
       "      <th>brand</th>\n",
       "      <th>not_repaired</th>\n",
       "      <th>date_created</th>\n",
       "      <th>number_of_pictures</th>\n",
       "      <th>postal_code</th>\n",
       "      <th>last_seen</th>\n",
       "    </tr>\n",
       "  </thead>\n",
       "  <tbody>\n",
       "    <tr>\n",
       "      <th>59</th>\n",
       "      <td>29/03/2016 15:48</td>\n",
       "      <td>1</td>\n",
       "      <td>suv</td>\n",
       "      <td>1994</td>\n",
       "      <td>manual</td>\n",
       "      <td>286</td>\n",
       "      <td>NaN</td>\n",
       "      <td>150000</td>\n",
       "      <td>11</td>\n",
       "      <td>NaN</td>\n",
       "      <td>sonstige_autos</td>\n",
       "      <td>unknown</td>\n",
       "      <td>29/03/2016 00:00</td>\n",
       "      <td>0</td>\n",
       "      <td>53721</td>\n",
       "      <td>06/04/2016 01:44</td>\n",
       "    </tr>\n",
       "    <tr>\n",
       "      <th>306</th>\n",
       "      <td>21/03/2016 14:38</td>\n",
       "      <td>200</td>\n",
       "      <td>NaN</td>\n",
       "      <td>2009</td>\n",
       "      <td>NaN</td>\n",
       "      <td>0</td>\n",
       "      <td>NaN</td>\n",
       "      <td>10000</td>\n",
       "      <td>0</td>\n",
       "      <td>NaN</td>\n",
       "      <td>sonstige_autos</td>\n",
       "      <td>unknown</td>\n",
       "      <td>21/03/2016 00:00</td>\n",
       "      <td>0</td>\n",
       "      <td>6493</td>\n",
       "      <td>24/03/2016 02:47</td>\n",
       "    </tr>\n",
       "    <tr>\n",
       "      <th>431</th>\n",
       "      <td>20/03/2016 20:45</td>\n",
       "      <td>3950</td>\n",
       "      <td>small</td>\n",
       "      <td>2004</td>\n",
       "      <td>auto</td>\n",
       "      <td>5</td>\n",
       "      <td>NaN</td>\n",
       "      <td>70000</td>\n",
       "      <td>5</td>\n",
       "      <td>gasoline</td>\n",
       "      <td>sonstige_autos</td>\n",
       "      <td>no</td>\n",
       "      <td>20/03/2016 00:00</td>\n",
       "      <td>0</td>\n",
       "      <td>90562</td>\n",
       "      <td>03/04/2016 04:17</td>\n",
       "    </tr>\n",
       "    <tr>\n",
       "      <th>650</th>\n",
       "      <td>30/03/2016 11:55</td>\n",
       "      <td>15000</td>\n",
       "      <td>coupe</td>\n",
       "      <td>1971</td>\n",
       "      <td>NaN</td>\n",
       "      <td>0</td>\n",
       "      <td>NaN</td>\n",
       "      <td>5000</td>\n",
       "      <td>4</td>\n",
       "      <td>NaN</td>\n",
       "      <td>sonstige_autos</td>\n",
       "      <td>no</td>\n",
       "      <td>30/03/2016 00:00</td>\n",
       "      <td>0</td>\n",
       "      <td>51145</td>\n",
       "      <td>07/04/2016 02:45</td>\n",
       "    </tr>\n",
       "    <tr>\n",
       "      <th>661</th>\n",
       "      <td>01/04/2016 15:56</td>\n",
       "      <td>9900</td>\n",
       "      <td>suv</td>\n",
       "      <td>2000</td>\n",
       "      <td>auto</td>\n",
       "      <td>250</td>\n",
       "      <td>NaN</td>\n",
       "      <td>150000</td>\n",
       "      <td>4</td>\n",
       "      <td>lpg</td>\n",
       "      <td>sonstige_autos</td>\n",
       "      <td>no</td>\n",
       "      <td>01/04/2016 00:00</td>\n",
       "      <td>0</td>\n",
       "      <td>17309</td>\n",
       "      <td>07/04/2016 14:56</td>\n",
       "    </tr>\n",
       "    <tr>\n",
       "      <th>...</th>\n",
       "      <td>...</td>\n",
       "      <td>...</td>\n",
       "      <td>...</td>\n",
       "      <td>...</td>\n",
       "      <td>...</td>\n",
       "      <td>...</td>\n",
       "      <td>...</td>\n",
       "      <td>...</td>\n",
       "      <td>...</td>\n",
       "      <td>...</td>\n",
       "      <td>...</td>\n",
       "      <td>...</td>\n",
       "      <td>...</td>\n",
       "      <td>...</td>\n",
       "      <td>...</td>\n",
       "      <td>...</td>\n",
       "    </tr>\n",
       "    <tr>\n",
       "      <th>354062</th>\n",
       "      <td>19/03/2016 11:25</td>\n",
       "      <td>6000</td>\n",
       "      <td>small</td>\n",
       "      <td>2008</td>\n",
       "      <td>manual</td>\n",
       "      <td>155</td>\n",
       "      <td>NaN</td>\n",
       "      <td>150000</td>\n",
       "      <td>5</td>\n",
       "      <td>petrol</td>\n",
       "      <td>sonstige_autos</td>\n",
       "      <td>no</td>\n",
       "      <td>19/03/2016 00:00</td>\n",
       "      <td>0</td>\n",
       "      <td>63069</td>\n",
       "      <td>07/04/2016 00:46</td>\n",
       "    </tr>\n",
       "    <tr>\n",
       "      <th>354073</th>\n",
       "      <td>19/03/2016 14:53</td>\n",
       "      <td>1750</td>\n",
       "      <td>NaN</td>\n",
       "      <td>1995</td>\n",
       "      <td>NaN</td>\n",
       "      <td>0</td>\n",
       "      <td>NaN</td>\n",
       "      <td>100000</td>\n",
       "      <td>12</td>\n",
       "      <td>NaN</td>\n",
       "      <td>sonstige_autos</td>\n",
       "      <td>unknown</td>\n",
       "      <td>19/03/2016 00:00</td>\n",
       "      <td>0</td>\n",
       "      <td>6188</td>\n",
       "      <td>01/04/2016 01:47</td>\n",
       "    </tr>\n",
       "    <tr>\n",
       "      <th>354083</th>\n",
       "      <td>30/03/2016 07:54</td>\n",
       "      <td>0</td>\n",
       "      <td>NaN</td>\n",
       "      <td>2000</td>\n",
       "      <td>NaN</td>\n",
       "      <td>0</td>\n",
       "      <td>NaN</td>\n",
       "      <td>150000</td>\n",
       "      <td>0</td>\n",
       "      <td>NaN</td>\n",
       "      <td>sonstige_autos</td>\n",
       "      <td>unknown</td>\n",
       "      <td>30/03/2016 00:00</td>\n",
       "      <td>0</td>\n",
       "      <td>6686</td>\n",
       "      <td>06/04/2016 23:46</td>\n",
       "    </tr>\n",
       "    <tr>\n",
       "      <th>354321</th>\n",
       "      <td>15/03/2016 13:52</td>\n",
       "      <td>9400</td>\n",
       "      <td>wagon</td>\n",
       "      <td>2007</td>\n",
       "      <td>manual</td>\n",
       "      <td>200</td>\n",
       "      <td>NaN</td>\n",
       "      <td>150000</td>\n",
       "      <td>4</td>\n",
       "      <td>gasoline</td>\n",
       "      <td>sonstige_autos</td>\n",
       "      <td>yes</td>\n",
       "      <td>15/03/2016 00:00</td>\n",
       "      <td>0</td>\n",
       "      <td>91186</td>\n",
       "      <td>17/03/2016 08:16</td>\n",
       "    </tr>\n",
       "    <tr>\n",
       "      <th>354365</th>\n",
       "      <td>14/03/2016 17:48</td>\n",
       "      <td>2200</td>\n",
       "      <td>NaN</td>\n",
       "      <td>2005</td>\n",
       "      <td>NaN</td>\n",
       "      <td>0</td>\n",
       "      <td>NaN</td>\n",
       "      <td>20000</td>\n",
       "      <td>1</td>\n",
       "      <td>NaN</td>\n",
       "      <td>sonstige_autos</td>\n",
       "      <td>unknown</td>\n",
       "      <td>14/03/2016 00:00</td>\n",
       "      <td>0</td>\n",
       "      <td>39576</td>\n",
       "      <td>06/04/2016 00:46</td>\n",
       "    </tr>\n",
       "  </tbody>\n",
       "</table>\n",
       "<p>3374 rows × 16 columns</p>\n",
       "</div>"
      ],
      "text/plain": [
       "            date_crawled  price vehicle_type  registration_year gearbox  \\\n",
       "59      29/03/2016 15:48      1          suv               1994  manual   \n",
       "306     21/03/2016 14:38    200          NaN               2009     NaN   \n",
       "431     20/03/2016 20:45   3950        small               2004    auto   \n",
       "650     30/03/2016 11:55  15000        coupe               1971     NaN   \n",
       "661     01/04/2016 15:56   9900          suv               2000    auto   \n",
       "...                  ...    ...          ...                ...     ...   \n",
       "354062  19/03/2016 11:25   6000        small               2008  manual   \n",
       "354073  19/03/2016 14:53   1750          NaN               1995     NaN   \n",
       "354083  30/03/2016 07:54      0          NaN               2000     NaN   \n",
       "354321  15/03/2016 13:52   9400        wagon               2007  manual   \n",
       "354365  14/03/2016 17:48   2200          NaN               2005     NaN   \n",
       "\n",
       "        power model  mileage  registration_month fuel_type           brand  \\\n",
       "59        286   NaN   150000                  11       NaN  sonstige_autos   \n",
       "306         0   NaN    10000                   0       NaN  sonstige_autos   \n",
       "431         5   NaN    70000                   5  gasoline  sonstige_autos   \n",
       "650         0   NaN     5000                   4       NaN  sonstige_autos   \n",
       "661       250   NaN   150000                   4       lpg  sonstige_autos   \n",
       "...       ...   ...      ...                 ...       ...             ...   \n",
       "354062    155   NaN   150000                   5    petrol  sonstige_autos   \n",
       "354073      0   NaN   100000                  12       NaN  sonstige_autos   \n",
       "354083      0   NaN   150000                   0       NaN  sonstige_autos   \n",
       "354321    200   NaN   150000                   4  gasoline  sonstige_autos   \n",
       "354365      0   NaN    20000                   1       NaN  sonstige_autos   \n",
       "\n",
       "       not_repaired      date_created  number_of_pictures  postal_code  \\\n",
       "59          unknown  29/03/2016 00:00                   0        53721   \n",
       "306         unknown  21/03/2016 00:00                   0         6493   \n",
       "431              no  20/03/2016 00:00                   0        90562   \n",
       "650              no  30/03/2016 00:00                   0        51145   \n",
       "661              no  01/04/2016 00:00                   0        17309   \n",
       "...             ...               ...                 ...          ...   \n",
       "354062           no  19/03/2016 00:00                   0        63069   \n",
       "354073      unknown  19/03/2016 00:00                   0         6188   \n",
       "354083      unknown  30/03/2016 00:00                   0         6686   \n",
       "354321          yes  15/03/2016 00:00                   0        91186   \n",
       "354365      unknown  14/03/2016 00:00                   0        39576   \n",
       "\n",
       "               last_seen  \n",
       "59      06/04/2016 01:44  \n",
       "306     24/03/2016 02:47  \n",
       "431     03/04/2016 04:17  \n",
       "650     07/04/2016 02:45  \n",
       "661     07/04/2016 14:56  \n",
       "...                  ...  \n",
       "354062  07/04/2016 00:46  \n",
       "354073  01/04/2016 01:47  \n",
       "354083  06/04/2016 23:46  \n",
       "354321  17/03/2016 08:16  \n",
       "354365  06/04/2016 00:46  \n",
       "\n",
       "[3374 rows x 16 columns]"
      ]
     },
     "execution_count": 15,
     "metadata": {},
     "output_type": "execute_result"
    }
   ],
   "source": [
    "# dataframe dengan nilai yang hilang\n",
    "df[(df['model'].isnull()) & (df['brand'] == 'sonstige_autos')]"
   ]
  },
  {
   "cell_type": "code",
   "execution_count": 16,
   "metadata": {},
   "outputs": [],
   "source": [
    "# mengganti nilai 'NaN' pada dataframe baru dengan 'unknown'\n",
    "df.fillna(value='unkwon', inplace=True)"
   ]
  },
  {
   "cell_type": "code",
   "execution_count": 17,
   "metadata": {},
   "outputs": [
    {
     "name": "stdout",
     "output_type": "stream",
     "text": [
      "Dataframe yang terpilih  16 columns.\n",
      "Terdapat 0 columns yang memiliki nilai yang hilang.\n"
     ]
    },
    {
     "data": {
      "text/html": [
       "<div>\n",
       "<style scoped>\n",
       "    .dataframe tbody tr th:only-of-type {\n",
       "        vertical-align: middle;\n",
       "    }\n",
       "\n",
       "    .dataframe tbody tr th {\n",
       "        vertical-align: top;\n",
       "    }\n",
       "\n",
       "    .dataframe thead th {\n",
       "        text-align: right;\n",
       "    }\n",
       "</style>\n",
       "<table border=\"1\" class=\"dataframe\">\n",
       "  <thead>\n",
       "    <tr style=\"text-align: right;\">\n",
       "      <th></th>\n",
       "      <th>Missing Values</th>\n",
       "      <th>% of Total Values</th>\n",
       "    </tr>\n",
       "  </thead>\n",
       "  <tbody>\n",
       "  </tbody>\n",
       "</table>\n",
       "</div>"
      ],
      "text/plain": [
       "Empty DataFrame\n",
       "Columns: [Missing Values, % of Total Values]\n",
       "Index: []"
      ]
     },
     "execution_count": 17,
     "metadata": {},
     "output_type": "execute_result"
    }
   ],
   "source": [
    "# Memeriksa nilai yang hilang \n",
    "missing_values_table(df)"
   ]
  },
  {
   "cell_type": "markdown",
   "metadata": {},
   "source": [
    "# Menangani duplikat Data"
   ]
  },
  {
   "cell_type": "code",
   "execution_count": 18,
   "metadata": {},
   "outputs": [
    {
     "name": "stdout",
     "output_type": "stream",
     "text": [
      "Kita menangani data dengan cara mendrop 265 dengan baris yang terduplikasi 354104 total baris pada dataset\n"
     ]
    }
   ],
   "source": [
    "n_duplicated = df.duplicated().sum()\n",
    "\n",
    "# drop duplikat data\n",
    "df =  df.drop_duplicates()\n",
    "print(f'Kita menangani data dengan cara mendrop {n_duplicated} dengan baris yang terduplikasi {df.shape[0]} total baris pada dataset')"
   ]
  },
  {
   "cell_type": "code",
   "execution_count": 19,
   "metadata": {},
   "outputs": [
    {
     "data": {
      "text/html": [
       "<div>\n",
       "<style scoped>\n",
       "    .dataframe tbody tr th:only-of-type {\n",
       "        vertical-align: middle;\n",
       "    }\n",
       "\n",
       "    .dataframe tbody tr th {\n",
       "        vertical-align: top;\n",
       "    }\n",
       "\n",
       "    .dataframe thead th {\n",
       "        text-align: right;\n",
       "    }\n",
       "</style>\n",
       "<table border=\"1\" class=\"dataframe\">\n",
       "  <thead>\n",
       "    <tr style=\"text-align: right;\">\n",
       "      <th></th>\n",
       "      <th>price</th>\n",
       "      <th>registration_year</th>\n",
       "      <th>power</th>\n",
       "      <th>mileage</th>\n",
       "      <th>registration_month</th>\n",
       "      <th>number_of_pictures</th>\n",
       "      <th>postal_code</th>\n",
       "    </tr>\n",
       "  </thead>\n",
       "  <tbody>\n",
       "    <tr>\n",
       "      <th>count</th>\n",
       "      <td>354104.000000</td>\n",
       "      <td>354104.000000</td>\n",
       "      <td>354104.000000</td>\n",
       "      <td>354104.000000</td>\n",
       "      <td>354104.000000</td>\n",
       "      <td>354104.0</td>\n",
       "      <td>354104.000000</td>\n",
       "    </tr>\n",
       "    <tr>\n",
       "      <th>mean</th>\n",
       "      <td>4416.445064</td>\n",
       "      <td>2004.235369</td>\n",
       "      <td>110.090199</td>\n",
       "      <td>128212.022457</td>\n",
       "      <td>5.714177</td>\n",
       "      <td>0.0</td>\n",
       "      <td>50507.082919</td>\n",
       "    </tr>\n",
       "    <tr>\n",
       "      <th>std</th>\n",
       "      <td>4514.354910</td>\n",
       "      <td>90.261549</td>\n",
       "      <td>189.915675</td>\n",
       "      <td>37906.576587</td>\n",
       "      <td>3.726674</td>\n",
       "      <td>0.0</td>\n",
       "      <td>25784.224910</td>\n",
       "    </tr>\n",
       "    <tr>\n",
       "      <th>min</th>\n",
       "      <td>0.000000</td>\n",
       "      <td>1000.000000</td>\n",
       "      <td>0.000000</td>\n",
       "      <td>5000.000000</td>\n",
       "      <td>0.000000</td>\n",
       "      <td>0.0</td>\n",
       "      <td>1067.000000</td>\n",
       "    </tr>\n",
       "    <tr>\n",
       "      <th>25%</th>\n",
       "      <td>1050.000000</td>\n",
       "      <td>1999.000000</td>\n",
       "      <td>69.000000</td>\n",
       "      <td>125000.000000</td>\n",
       "      <td>3.000000</td>\n",
       "      <td>0.0</td>\n",
       "      <td>30165.000000</td>\n",
       "    </tr>\n",
       "    <tr>\n",
       "      <th>50%</th>\n",
       "      <td>2700.000000</td>\n",
       "      <td>2003.000000</td>\n",
       "      <td>105.000000</td>\n",
       "      <td>150000.000000</td>\n",
       "      <td>6.000000</td>\n",
       "      <td>0.0</td>\n",
       "      <td>49406.000000</td>\n",
       "    </tr>\n",
       "    <tr>\n",
       "      <th>75%</th>\n",
       "      <td>6400.000000</td>\n",
       "      <td>2008.000000</td>\n",
       "      <td>143.000000</td>\n",
       "      <td>150000.000000</td>\n",
       "      <td>9.000000</td>\n",
       "      <td>0.0</td>\n",
       "      <td>71083.000000</td>\n",
       "    </tr>\n",
       "    <tr>\n",
       "      <th>max</th>\n",
       "      <td>20000.000000</td>\n",
       "      <td>9999.000000</td>\n",
       "      <td>20000.000000</td>\n",
       "      <td>150000.000000</td>\n",
       "      <td>12.000000</td>\n",
       "      <td>0.0</td>\n",
       "      <td>99998.000000</td>\n",
       "    </tr>\n",
       "  </tbody>\n",
       "</table>\n",
       "</div>"
      ],
      "text/plain": [
       "               price  registration_year          power        mileage  \\\n",
       "count  354104.000000      354104.000000  354104.000000  354104.000000   \n",
       "mean     4416.445064        2004.235369     110.090199  128212.022457   \n",
       "std      4514.354910          90.261549     189.915675   37906.576587   \n",
       "min         0.000000        1000.000000       0.000000    5000.000000   \n",
       "25%      1050.000000        1999.000000      69.000000  125000.000000   \n",
       "50%      2700.000000        2003.000000     105.000000  150000.000000   \n",
       "75%      6400.000000        2008.000000     143.000000  150000.000000   \n",
       "max     20000.000000        9999.000000   20000.000000  150000.000000   \n",
       "\n",
       "       registration_month  number_of_pictures    postal_code  \n",
       "count       354104.000000            354104.0  354104.000000  \n",
       "mean             5.714177                 0.0   50507.082919  \n",
       "std              3.726674                 0.0   25784.224910  \n",
       "min              0.000000                 0.0    1067.000000  \n",
       "25%              3.000000                 0.0   30165.000000  \n",
       "50%              6.000000                 0.0   49406.000000  \n",
       "75%              9.000000                 0.0   71083.000000  \n",
       "max             12.000000                 0.0   99998.000000  "
      ]
     },
     "execution_count": 19,
     "metadata": {},
     "output_type": "execute_result"
    }
   ],
   "source": [
    "# Gambaran Data\n",
    "df.describe()"
   ]
  },
  {
   "cell_type": "markdown",
   "metadata": {},
   "source": [
    "Kami telah menangani nilai yang hilang di kolom  tipe kategorikal dengan imputasi mode, mode bekerja dengan properti dan hubungan antar fitur dalam kumpulan data. Kami memperhatikan bahwa sebagian besar nilai yang hilang adalah Missing at random (MAR) jadi imputasi adalah cara yang lebih baik untuk menangani nilai yang hilang. dengan detail secara seksama pada data menunjukkan merek sonstige_autos kehilangan datanya tidak secara acak (MNAR). Untuk mengatasinya, kami mengisi nilai yang hilang dengan 'unknown' daripada menghapus merek sonstige_autos dari kumpulan data. Deskripsi singkat tentang data menunjukkan bahwa data tersebut miring dan mungkin ada outlier dalam fitur price dan power. Misalnya, nilai maksimum power adalah 20.000. Sekarang kami melanjutkan untuk mengubah tipe data dan melakukan beberapa rekayasa fitur."
   ]
  },
  {
   "cell_type": "markdown",
   "metadata": {},
   "source": [
    "# Mengubah Tipedata"
   ]
  },
  {
   "cell_type": "code",
   "execution_count": 20,
   "metadata": {},
   "outputs": [],
   "source": [
    "# fungsi untuk mengubah tipe data yang tepat \n",
    "def change_datatype(df, cols, type_val):\n",
    "    for col in cols:\n",
    "        df[col] = df[col].astype(type_val)\n",
    "        \n",
    "change_datatype(df, ['date_crawled', 'date_created', 'last_seen'], 'datetime64[ns]')\n",
    "change_datatype(df, ['price', 'registration_year', 'power', 'registration_month', 'number_of_pictures'], 'int32')"
   ]
  },
  {
   "cell_type": "code",
   "execution_count": 21,
   "metadata": {},
   "outputs": [
    {
     "name": "stdout",
     "output_type": "stream",
     "text": [
      "<class 'pandas.core.frame.DataFrame'>\n",
      "Int64Index: 354104 entries, 0 to 354368\n",
      "Data columns (total 16 columns):\n",
      " #   Column              Non-Null Count   Dtype         \n",
      "---  ------              --------------   -----         \n",
      " 0   date_crawled        354104 non-null  datetime64[ns]\n",
      " 1   price               354104 non-null  int32         \n",
      " 2   vehicle_type        354104 non-null  object        \n",
      " 3   registration_year   354104 non-null  int32         \n",
      " 4   gearbox             354104 non-null  object        \n",
      " 5   power               354104 non-null  int32         \n",
      " 6   model               354104 non-null  object        \n",
      " 7   mileage             354104 non-null  int64         \n",
      " 8   registration_month  354104 non-null  int32         \n",
      " 9   fuel_type           354104 non-null  object        \n",
      " 10  brand               354104 non-null  object        \n",
      " 11  not_repaired        354104 non-null  object        \n",
      " 12  date_created        354104 non-null  datetime64[ns]\n",
      " 13  number_of_pictures  354104 non-null  int32         \n",
      " 14  postal_code         354104 non-null  int64         \n",
      " 15  last_seen           354104 non-null  datetime64[ns]\n",
      "dtypes: datetime64[ns](3), int32(5), int64(2), object(6)\n",
      "memory usage: 39.2+ MB\n"
     ]
    }
   ],
   "source": [
    "# informasi pada dataset \n",
    "df.info()"
   ]
  },
  {
   "cell_type": "markdown",
   "metadata": {},
   "source": [
    "Sekarang kita memiliki  tipe data yang tepat dan mengurangi penggunaan memori dengan menggunakan int32, bukan int64. Ini mungkin berguna selama pelatihan model"
   ]
  },
  {
   "cell_type": "markdown",
   "metadata": {},
   "source": [
    "# Menambahkan Feature Data"
   ]
  },
  {
   "cell_type": "code",
   "execution_count": 22,
   "metadata": {},
   "outputs": [
    {
     "data": {
      "text/html": [
       "<div>\n",
       "<style scoped>\n",
       "    .dataframe tbody tr th:only-of-type {\n",
       "        vertical-align: middle;\n",
       "    }\n",
       "\n",
       "    .dataframe tbody tr th {\n",
       "        vertical-align: top;\n",
       "    }\n",
       "\n",
       "    .dataframe thead th {\n",
       "        text-align: right;\n",
       "    }\n",
       "</style>\n",
       "<table border=\"1\" class=\"dataframe\">\n",
       "  <thead>\n",
       "    <tr style=\"text-align: right;\">\n",
       "      <th></th>\n",
       "      <th>date_crawled</th>\n",
       "      <th>price</th>\n",
       "      <th>vehicle_type</th>\n",
       "      <th>registration_year</th>\n",
       "      <th>gearbox</th>\n",
       "      <th>power</th>\n",
       "      <th>model</th>\n",
       "      <th>mileage</th>\n",
       "      <th>registration_month</th>\n",
       "      <th>fuel_type</th>\n",
       "      <th>brand</th>\n",
       "      <th>not_repaired</th>\n",
       "      <th>date_created</th>\n",
       "      <th>number_of_pictures</th>\n",
       "      <th>postal_code</th>\n",
       "      <th>last_seen</th>\n",
       "      <th>age</th>\n",
       "    </tr>\n",
       "  </thead>\n",
       "  <tbody>\n",
       "    <tr>\n",
       "      <th>0</th>\n",
       "      <td>2016-03-24 11:52:00</td>\n",
       "      <td>480</td>\n",
       "      <td>wagon</td>\n",
       "      <td>1993</td>\n",
       "      <td>manual</td>\n",
       "      <td>0</td>\n",
       "      <td>golf</td>\n",
       "      <td>150000</td>\n",
       "      <td>0</td>\n",
       "      <td>petrol</td>\n",
       "      <td>volkswagen</td>\n",
       "      <td>unknown</td>\n",
       "      <td>2016-03-24</td>\n",
       "      <td>0</td>\n",
       "      <td>70435</td>\n",
       "      <td>2016-07-04 03:16:00</td>\n",
       "      <td>23</td>\n",
       "    </tr>\n",
       "    <tr>\n",
       "      <th>1</th>\n",
       "      <td>2016-03-24 10:58:00</td>\n",
       "      <td>18300</td>\n",
       "      <td>coupe</td>\n",
       "      <td>2011</td>\n",
       "      <td>manual</td>\n",
       "      <td>190</td>\n",
       "      <td>q3</td>\n",
       "      <td>125000</td>\n",
       "      <td>5</td>\n",
       "      <td>gasoline</td>\n",
       "      <td>audi</td>\n",
       "      <td>yes</td>\n",
       "      <td>2016-03-24</td>\n",
       "      <td>0</td>\n",
       "      <td>66954</td>\n",
       "      <td>2016-07-04 01:46:00</td>\n",
       "      <td>5</td>\n",
       "    </tr>\n",
       "    <tr>\n",
       "      <th>2</th>\n",
       "      <td>2016-03-14 12:52:00</td>\n",
       "      <td>9800</td>\n",
       "      <td>suv</td>\n",
       "      <td>2004</td>\n",
       "      <td>auto</td>\n",
       "      <td>163</td>\n",
       "      <td>grand</td>\n",
       "      <td>125000</td>\n",
       "      <td>8</td>\n",
       "      <td>gasoline</td>\n",
       "      <td>jeep</td>\n",
       "      <td>unknown</td>\n",
       "      <td>2016-03-14</td>\n",
       "      <td>0</td>\n",
       "      <td>90480</td>\n",
       "      <td>2016-05-04 12:47:00</td>\n",
       "      <td>12</td>\n",
       "    </tr>\n",
       "    <tr>\n",
       "      <th>3</th>\n",
       "      <td>2016-03-17 16:54:00</td>\n",
       "      <td>1500</td>\n",
       "      <td>small</td>\n",
       "      <td>2001</td>\n",
       "      <td>manual</td>\n",
       "      <td>75</td>\n",
       "      <td>golf</td>\n",
       "      <td>150000</td>\n",
       "      <td>6</td>\n",
       "      <td>petrol</td>\n",
       "      <td>volkswagen</td>\n",
       "      <td>no</td>\n",
       "      <td>2016-03-17</td>\n",
       "      <td>0</td>\n",
       "      <td>91074</td>\n",
       "      <td>2016-03-17 17:40:00</td>\n",
       "      <td>15</td>\n",
       "    </tr>\n",
       "    <tr>\n",
       "      <th>4</th>\n",
       "      <td>2016-03-31 17:25:00</td>\n",
       "      <td>3600</td>\n",
       "      <td>small</td>\n",
       "      <td>2008</td>\n",
       "      <td>manual</td>\n",
       "      <td>69</td>\n",
       "      <td>fabia</td>\n",
       "      <td>90000</td>\n",
       "      <td>7</td>\n",
       "      <td>gasoline</td>\n",
       "      <td>skoda</td>\n",
       "      <td>no</td>\n",
       "      <td>2016-03-31</td>\n",
       "      <td>0</td>\n",
       "      <td>60437</td>\n",
       "      <td>2016-06-04 10:17:00</td>\n",
       "      <td>8</td>\n",
       "    </tr>\n",
       "  </tbody>\n",
       "</table>\n",
       "</div>"
      ],
      "text/plain": [
       "         date_crawled  price vehicle_type  registration_year gearbox  power  \\\n",
       "0 2016-03-24 11:52:00    480        wagon               1993  manual      0   \n",
       "1 2016-03-24 10:58:00  18300        coupe               2011  manual    190   \n",
       "2 2016-03-14 12:52:00   9800          suv               2004    auto    163   \n",
       "3 2016-03-17 16:54:00   1500        small               2001  manual     75   \n",
       "4 2016-03-31 17:25:00   3600        small               2008  manual     69   \n",
       "\n",
       "   model  mileage  registration_month fuel_type       brand not_repaired  \\\n",
       "0   golf   150000                   0    petrol  volkswagen      unknown   \n",
       "1     q3   125000                   5  gasoline        audi          yes   \n",
       "2  grand   125000                   8  gasoline        jeep      unknown   \n",
       "3   golf   150000                   6    petrol  volkswagen           no   \n",
       "4  fabia    90000                   7  gasoline       skoda           no   \n",
       "\n",
       "  date_created  number_of_pictures  postal_code           last_seen  age  \n",
       "0   2016-03-24                   0        70435 2016-07-04 03:16:00   23  \n",
       "1   2016-03-24                   0        66954 2016-07-04 01:46:00    5  \n",
       "2   2016-03-14                   0        90480 2016-05-04 12:47:00   12  \n",
       "3   2016-03-17                   0        91074 2016-03-17 17:40:00   15  \n",
       "4   2016-03-31                   0        60437 2016-06-04 10:17:00    8  "
      ]
     },
     "execution_count": 22,
     "metadata": {},
     "output_type": "execute_result"
    }
   ],
   "source": [
    "# menambahkan feature data \n",
    "df['age'] = df['date_created'].dt.year - df['registration_year']\n",
    "df.head()"
   ]
  },
  {
   "cell_type": "markdown",
   "metadata": {},
   "source": [
    "Kesimpulan :\n",
    "Kita menambahkan umur fitur baru yaitu umur kendaraan. Kami dapat melakukan analisis data eksplorasi dan memeriksa outlier dalam data dan menghapusnya jika ada"
   ]
  },
  {
   "cell_type": "markdown",
   "metadata": {},
   "source": [
    "# Exploratory Data Analysis"
   ]
  },
  {
   "cell_type": "code",
   "execution_count": 23,
   "metadata": {},
   "outputs": [],
   "source": [
    "# Fungsi membuat plot korelasi matrix untuk penggunaan `car` data\n",
    "def corr_matrix(df, label):\n",
    "    plt.figure(figsize=(8,6))\n",
    "    corrMatrix = df.corr()\n",
    "    sns.heatmap(corrMatrix, annot=True)\n",
    "    plt.title('Korelasi Matrix untuk ' + label)\n",
    "    plt.show()\n",
    "\n",
    "# Fungsi membuat barplot seaborn\n",
    "def plot_snsbar(df, x, y, title):\n",
    "    xlabel = str(x.replace('_', ' ').capitalize())\n",
    "    ylabel = str(y.replace('_', ' ').capitalize())\n",
    "    # Mengelompokkan data\n",
    "    data = df.groupby([x])[y].count().sort_values(ascending=False).reset_index()\n",
    "    fig, ax=plt.subplots(figsize=(12,6))\n",
    "    ax = sns.barplot(x = x, y = y, data=data)\n",
    "    ax.set_title(title, fontdict={'size':12})\n",
    "    ax.set_ylabel(ylabel, fontsize = 10)\n",
    "    ax.set_xlabel(xlabel, fontsize = 10)\n",
    "    # Mengatur Keterangan diatas bar \n",
    "    for p in ax.patches:\n",
    "        ax.annotate(str(round(p.get_height(), 2)), (p.get_x() * 1.005, p.get_height() * 1.005), fontweight='bold', color='black', horizontalalignment='left', size=10)\n",
    "    ax.set_xticklabels(data[x], rotation=90);\n",
    "\n",
    "    "
   ]
  },
  {
   "cell_type": "code",
   "execution_count": 24,
   "metadata": {},
   "outputs": [
    {
     "data": {
      "image/png": "[encoded data removed]",
      "text/plain": [
       "<Figure size 576x432 with 2 Axes>"
      ]
     },
     "metadata": {
      "needs_background": "light"
     },
     "output_type": "display_data"
    }
   ],
   "source": [
    "# korelasi matrix\n",
    "corr_df = df[['price', 'power', 'mileage', 'age']]\n",
    "corr_matrix(corr_df, 'used car data')"
   ]
  },
  {
   "cell_type": "markdown",
   "metadata": {},
   "source": [
    "Kami menggunakan plot korelasi (meskipun itu menggambarkan korelasi linier antar variabel) untuk melihat apakah ada korelasi di antara beberapa variabel yang dipilih. Kami menemukan sedikit atau tidak ada korelasi di antara variabel-variabel yang dipilih."
   ]
  },
  {
   "cell_type": "code",
   "execution_count": 25,
   "metadata": {},
   "outputs": [
    {
     "data": {
      "image/png": "[encoded data removed]",
      "text/plain": [
       "<Figure size 1080x720 with 4 Axes>"
      ]
     },
     "metadata": {
      "needs_background": "light"
     },
     "output_type": "display_data"
    }
   ],
   "source": [
    "# histogram dari variabel yang dipilih / feature\n",
    "df[['price', 'power', 'mileage', 'age']].hist(bins=30, figsize=(15, 10))\n",
    "plt.suptitle('Histogram dari variabel yang dipilih', y=0.95);"
   ]
  },
  {
   "cell_type": "markdown",
   "metadata": {},
   "source": [
    "Kami memplot histogram beberapa fitur untuk melihat distribusi dan memeriksa adanya anomali dalam data. Plot distribusi untuk `price` menunjukkan bahwa sebagian besar mobil dijual antara 0 hingga 7500 euro. Juga, sebagian besar mobil memiliki jarak tempuh / `mileages` lebih dari 80.000 mil yang diharapkan untuk mobil bekas. Satu anomali yang kami amati adalah pada fitur `power` di mana kami mengamati bahwa beberapa mobil memiliki tenaga kuda lebih dari 2000 hp. Selain itu, fitur `age` memiliki usia kurang dari 0 (atau negatif). Ini sepertinya outlier dan harus dihapus."
   ]
  },
  {
   "cell_type": "code",
   "execution_count": 26,
   "metadata": {},
   "outputs": [
    {
     "name": "stdout",
     "output_type": "stream",
     "text": [
      "['price', 'power', 'mileage', 'age']\n",
      "['vehicle_type', 'gearbox', 'fuel_type', 'brand', 'not_repaired']\n"
     ]
    }
   ],
   "source": [
    "# mengisi daftar atribut numerik dan kategorikal\n",
    "num_list = []\n",
    "cat_list = []\n",
    "plot_data = df[['price', 'vehicle_type', 'gearbox', 'power', 'mileage', 'fuel_type', 'brand', 'not_repaired', 'age']]\n",
    "\n",
    "for column in plot_data:\n",
    "    if is_numeric_dtype(plot_data[column]):\n",
    "        num_list.append(column)\n",
    "    elif is_string_dtype(plot_data[column]):\n",
    "        cat_list.append(column)\n",
    "        \n",
    "print(num_list)\n",
    "print(cat_list)"
   ]
  },
  {
   "cell_type": "code",
   "execution_count": 27,
   "metadata": {},
   "outputs": [
    {
     "data": {
      "image/png": "[encoded data removed]",
      "text/plain": [
       "<Figure size 432x288 with 1 Axes>"
      ]
     },
     "metadata": {
      "needs_background": "light"
     },
     "output_type": "display_data"
    },
    {
     "data": {
      "image/png": "[encoded data removed]",
      "text/plain": [
       "<Figure size 432x288 with 1 Axes>"
      ]
     },
     "metadata": {
      "needs_background": "light"
     },
     "output_type": "display_data"
    },
    {
     "data": {
      "image/png": "[encoded data removed]",
      "text/plain": [
       "<Figure size 432x288 with 1 Axes>"
      ]
     },
     "metadata": {
      "needs_background": "light"
     },
     "output_type": "display_data"
    },
    {
     "data": {
      "image/png": "[encoded data removed]",
      "text/plain": [
       "<Figure size 432x288 with 1 Axes>"
      ]
     },
     "metadata": {
      "needs_background": "light"
     },
     "output_type": "display_data"
    },
    {
     "data": {
      "image/png": "[encoded data removed]",
      "text/plain": [
       "<Figure size 432x288 with 1 Axes>"
      ]
     },
     "metadata": {
      "needs_background": "light"
     },
     "output_type": "display_data"
    },
    {
     "data": {
      "image/png": "[encoded data removed]",
      "text/plain": [
       "<Figure size 432x288 with 1 Axes>"
      ]
     },
     "metadata": {
      "needs_background": "light"
     },
     "output_type": "display_data"
    },
    {
     "data": {
      "image/png": "[encoded data removed]",
      "text/plain": [
       "<Figure size 432x288 with 1 Axes>"
      ]
     },
     "metadata": {
      "needs_background": "light"
     },
     "output_type": "display_data"
    },
    {
     "data": {
      "image/png": "[encoded data removed]",
      "text/plain": [
       "<Figure size 432x288 with 1 Axes>"
      ]
     },
     "metadata": {
      "needs_background": "light"
     },
     "output_type": "display_data"
    },
    {
     "data": {
      "image/png": "[encoded data removed]",
      "text/plain": [
       "<Figure size 432x288 with 1 Axes>"
      ]
     },
     "metadata": {
      "needs_background": "light"
     },
     "output_type": "display_data"
    }
   ],
   "source": [
    "# membuat histogram dan bar chart \n",
    "for column in plot_data:\n",
    "    plt.figure(column)\n",
    "    plt.xlabel(column)\n",
    "    plt.ylabel('frekuensi')\n",
    "    plt.title('Histogram dari ' + column)\n",
    "    if is_numeric_dtype(plot_data[column]):\n",
    "        df[column].plot(kind = 'hist')\n",
    "    elif is_string_dtype(plot_data[column]):\n",
    "        df[column].value_counts().plot(kind = 'bar')"
   ]
  },
  {
   "cell_type": "code",
   "execution_count": 28,
   "metadata": {},
   "outputs": [
    {
     "data": {
      "image/png": "[encoded data removed]",
      "text/plain": [
       "<Figure size 864x432 with 1 Axes>"
      ]
     },
     "metadata": {
      "needs_background": "light"
     },
     "output_type": "display_data"
    }
   ],
   "source": [
    "# plot penjualan terbaik dari merk mobil \n",
    "plot_snsbar(df, 'brand', 'price', 'Plot dari harga total mobil bekas vs merek')\n",
    "\n"
   ]
  },
  {
   "cell_type": "markdown",
   "metadata": {},
   "source": [
    "Kesimpulan :\n",
    "\n",
    "Dari visualisasi yang dilakukan, terlihat bahwa 10 merek terlaris dari segi harga adalah volkswagen, opel, bmw, mercedes benz, audi, ford, renault, peugeot, fiat dan seat. Kendaraan yang paling banyak terjual adalah sedan dan transmisi manual memiliki representasi terbanyak di antara kendaraan yang terjual. Kami memiliki lebih banyak mobil yang belum diperbaiki yang terwakili dalam data. Sebagian besar mobil yang dijual menggunakan petrol atau bensin."
   ]
  },
  {
   "cell_type": "markdown",
   "metadata": {},
   "source": [
    "# Data Outlier"
   ]
  },
  {
   "cell_type": "markdown",
   "metadata": {},
   "source": [
    "Kami memfilter data untuk tenaga kendaraan kurang dari 2.039 hp karena mobil dengan tenaga kuda tertinggi yang pernah dibuat adalah Aspark Owl dengan 2.039 hp. Selain itu, fitur usia memiliki usia kurang dari 0 (atau negatif). Itu mewakili outlier dalam kasus ini dan harus di filter."
   ]
  },
  {
   "cell_type": "code",
   "execution_count": 29,
   "metadata": {},
   "outputs": [
    {
     "name": "stdout",
     "output_type": "stream",
     "text": [
      "Bentuk datase baru adalah: (339477, 17)\n",
      "\n"
     ]
    },
    {
     "data": {
      "text/html": [
       "<div>\n",
       "<style scoped>\n",
       "    .dataframe tbody tr th:only-of-type {\n",
       "        vertical-align: middle;\n",
       "    }\n",
       "\n",
       "    .dataframe tbody tr th {\n",
       "        vertical-align: top;\n",
       "    }\n",
       "\n",
       "    .dataframe thead th {\n",
       "        text-align: right;\n",
       "    }\n",
       "</style>\n",
       "<table border=\"1\" class=\"dataframe\">\n",
       "  <thead>\n",
       "    <tr style=\"text-align: right;\">\n",
       "      <th></th>\n",
       "      <th>price</th>\n",
       "      <th>registration_year</th>\n",
       "      <th>power</th>\n",
       "      <th>mileage</th>\n",
       "      <th>registration_month</th>\n",
       "      <th>number_of_pictures</th>\n",
       "      <th>postal_code</th>\n",
       "      <th>age</th>\n",
       "    </tr>\n",
       "  </thead>\n",
       "  <tbody>\n",
       "    <tr>\n",
       "      <th>count</th>\n",
       "      <td>339477.000000</td>\n",
       "      <td>339477.000000</td>\n",
       "      <td>339477.000000</td>\n",
       "      <td>339477.000000</td>\n",
       "      <td>339477.000000</td>\n",
       "      <td>339477.0</td>\n",
       "      <td>339477.000000</td>\n",
       "      <td>339477.000000</td>\n",
       "    </tr>\n",
       "    <tr>\n",
       "      <th>mean</th>\n",
       "      <td>4470.853852</td>\n",
       "      <td>2002.322655</td>\n",
       "      <td>108.436931</td>\n",
       "      <td>128066.481676</td>\n",
       "      <td>5.754838</td>\n",
       "      <td>0.0</td>\n",
       "      <td>50604.638473</td>\n",
       "      <td>13.677265</td>\n",
       "    </tr>\n",
       "    <tr>\n",
       "      <th>std</th>\n",
       "      <td>4546.385344</td>\n",
       "      <td>13.952561</td>\n",
       "      <td>72.160134</td>\n",
       "      <td>37926.613691</td>\n",
       "      <td>3.708771</td>\n",
       "      <td>0.0</td>\n",
       "      <td>25808.110293</td>\n",
       "      <td>13.952572</td>\n",
       "    </tr>\n",
       "    <tr>\n",
       "      <th>min</th>\n",
       "      <td>0.000000</td>\n",
       "      <td>1000.000000</td>\n",
       "      <td>0.000000</td>\n",
       "      <td>5000.000000</td>\n",
       "      <td>0.000000</td>\n",
       "      <td>0.0</td>\n",
       "      <td>1067.000000</td>\n",
       "      <td>0.000000</td>\n",
       "    </tr>\n",
       "    <tr>\n",
       "      <th>25%</th>\n",
       "      <td>1099.000000</td>\n",
       "      <td>1999.000000</td>\n",
       "      <td>69.000000</td>\n",
       "      <td>125000.000000</td>\n",
       "      <td>3.000000</td>\n",
       "      <td>0.0</td>\n",
       "      <td>30169.000000</td>\n",
       "      <td>9.000000</td>\n",
       "    </tr>\n",
       "    <tr>\n",
       "      <th>50%</th>\n",
       "      <td>2799.000000</td>\n",
       "      <td>2003.000000</td>\n",
       "      <td>105.000000</td>\n",
       "      <td>150000.000000</td>\n",
       "      <td>6.000000</td>\n",
       "      <td>0.0</td>\n",
       "      <td>49492.000000</td>\n",
       "      <td>13.000000</td>\n",
       "    </tr>\n",
       "    <tr>\n",
       "      <th>75%</th>\n",
       "      <td>6500.000000</td>\n",
       "      <td>2007.000000</td>\n",
       "      <td>143.000000</td>\n",
       "      <td>150000.000000</td>\n",
       "      <td>9.000000</td>\n",
       "      <td>0.0</td>\n",
       "      <td>71229.000000</td>\n",
       "      <td>17.000000</td>\n",
       "    </tr>\n",
       "    <tr>\n",
       "      <th>max</th>\n",
       "      <td>20000.000000</td>\n",
       "      <td>2016.000000</td>\n",
       "      <td>2018.000000</td>\n",
       "      <td>150000.000000</td>\n",
       "      <td>12.000000</td>\n",
       "      <td>0.0</td>\n",
       "      <td>99998.000000</td>\n",
       "      <td>1016.000000</td>\n",
       "    </tr>\n",
       "  </tbody>\n",
       "</table>\n",
       "</div>"
      ],
      "text/plain": [
       "               price  registration_year          power        mileage  \\\n",
       "count  339477.000000      339477.000000  339477.000000  339477.000000   \n",
       "mean     4470.853852        2002.322655     108.436931  128066.481676   \n",
       "std      4546.385344          13.952561      72.160134   37926.613691   \n",
       "min         0.000000        1000.000000       0.000000    5000.000000   \n",
       "25%      1099.000000        1999.000000      69.000000  125000.000000   \n",
       "50%      2799.000000        2003.000000     105.000000  150000.000000   \n",
       "75%      6500.000000        2007.000000     143.000000  150000.000000   \n",
       "max     20000.000000        2016.000000    2018.000000  150000.000000   \n",
       "\n",
       "       registration_month  number_of_pictures    postal_code            age  \n",
       "count       339477.000000            339477.0  339477.000000  339477.000000  \n",
       "mean             5.754838                 0.0   50604.638473      13.677265  \n",
       "std              3.708771                 0.0   25808.110293      13.952572  \n",
       "min              0.000000                 0.0    1067.000000       0.000000  \n",
       "25%              3.000000                 0.0   30169.000000       9.000000  \n",
       "50%              6.000000                 0.0   49492.000000      13.000000  \n",
       "75%              9.000000                 0.0   71229.000000      17.000000  \n",
       "max             12.000000                 0.0   99998.000000    1016.000000  "
      ]
     },
     "execution_count": 29,
     "metadata": {},
     "output_type": "execute_result"
    }
   ],
   "source": [
    "# memfilter keseluruhan data tanpa anomaly \n",
    "df_filtered = df[(df['power'] <= 2039) & (df['age'] >= 0)]\n",
    "print(f'Bentuk datase baru adalah: {df_filtered.shape}')\n",
    "print()\n",
    "df_filtered.describe()"
   ]
  },
  {
   "cell_type": "markdown",
   "metadata": {},
   "source": [
    "Kesimpulan :\n",
    "\n",
    "Kami memulai langkah persiapan data dengan mengganti nama kolom menjadi huruf kecil, dan memeriksa nilai yang hilang. Kami mengamati bahwa 5 kolom memiliki nilai yang hilang dengan `not_repaired` memiliki nilai yang hilang sebesar 20,1%, sedangkan `vehicle_type`, `fuel_type`, `gearbox`, dan `model` memiliki nilai yang hilang kurang dari 10%. Kami menangani nilai yang hilang dengan mengisi properti unik dari data. Kami kemudian melanjutkan untuk menghilangkan duplikat, mengubah tipe data menjadi tipe data yang benar dan menambahkan fitur baru yang mewakili usia kendaraan. Kami melakukan analisis data eksplorasi dan memeriksa anomali dalam data. Kami mengamati beberapa anomali dalam fitur daya dan usia dan memfilter data sesuai dengan itu. Kumpulan data baru kami yang difilter berisi 339.475 baris dan 17 kolom."
   ]
  },
  {
   "cell_type": "markdown",
   "metadata": {},
   "source": [
    "## Pelatihan Model"
   ]
  },
  {
   "cell_type": "markdown",
   "metadata": {},
   "source": [
    "Di bagian ini, kita akan melatih berbagai model dengan berbagai hyperparameter. Tujuan kami adalah membandingkan metode peningkatan gradien dengan random forest, decision tree, dan linear regression. Root mean square error atau metrik RMSE akan digunakan untuk mengevaluasi model."
   ]
  },
  {
   "cell_type": "code",
   "execution_count": 30,
   "metadata": {},
   "outputs": [],
   "source": [
    "# Menghapus fitur yang tidak penting \n",
    "car_df = df_filtered.drop(['date_crawled', 'registration_year', 'registration_month', 'date_created', 'number_of_pictures', 'postal_code', 'last_seen'], axis=1)\n",
    "\n",
    "# menentukan variabel target dan fitur \n",
    "y = car_df.price\n",
    "X = car_df.drop(['price'], axis=1)\n",
    "\n",
    "# Memisahkan data training 75% dan 25% untuk test \n",
    "X_train, X_test, y_train, y_test = train_test_split(X, y, test_size=0.25, random_state=12345)"
   ]
  },
  {
   "cell_type": "markdown",
   "metadata": {},
   "source": [
    "# Memeriksa efek kardinalitas pada Variabel Kategori"
   ]
  },
  {
   "cell_type": "code",
   "execution_count": 31,
   "metadata": {},
   "outputs": [
    {
     "name": "stdout",
     "output_type": "stream",
     "text": [
      "Kategorical variabel:\n",
      "['vehicle_type', 'gearbox', 'fuel_type', 'not_repaired']\n"
     ]
    }
   ],
   "source": [
    "# memiilih kolom kategorikal dengan kardinalitas yang relatif rendah\n",
    "low_cardinality_cols = [cname for cname in X_train.columns if X_train[cname].nunique() < 10 and X_train[cname].dtype == 'object']\n",
    "\n",
    "# memiilih kolom numerik\n",
    "numerical_cols = [cname for cname in X_train.columns if X_train[cname].dtype in ['int64', 'int32']]\n",
    "\n",
    "# mempertahankan kolom yang dipilih saja\n",
    "my_cols = low_cardinality_cols + numerical_cols\n",
    "features_train = X_train[my_cols].copy()\n",
    "features_test = X_test[my_cols].copy()\n",
    "\n",
    "# daftar variabel kategori\n",
    "s = (features_train.dtypes == 'object')\n",
    "object_cols = list(s[s].index)\n",
    "print('Kategorical variabel:')\n",
    "print(object_cols)"
   ]
  },
  {
   "cell_type": "code",
   "execution_count": 32,
   "metadata": {},
   "outputs": [],
   "source": [
    "# fungsi untuk membandingkan pendekatan yang berbeda\n",
    "def score_dataset(X_train, X_test, y_train, y_test):\n",
    "    model = RandomForestRegressor(n_estimators=100, random_state=0)\n",
    "    model.fit(X_train, y_train)\n",
    "    y_pred = model.predict(X_test)\n",
    "    return np.sqrt(mean_squared_error(y_test, y_pred))"
   ]
  },
  {
   "cell_type": "code",
   "execution_count": 33,
   "metadata": {},
   "outputs": [
    {
     "name": "stdout",
     "output_type": "stream",
     "text": [
      "RMSE Skor dari Pendekatan 1: Pengkodean Ordinal\n",
      "1942.755982773597\n",
      "CPU times: user 59.4 s, sys: 563 ms, total: 60 s\n",
      "Wall time: 1min\n"
     ]
    }
   ],
   "source": [
    "%%time\n",
    "# Skor dari Pendekatan 1: Pengkodean Ordinal\n",
    "\n",
    "# membuat salinan untuk menghindari perubahan data asli\n",
    "label_X_train = features_train.copy()\n",
    "label_X_test = features_test.copy()\n",
    "\n",
    "# menerapkan encoder ordinal ke setiap kolom dengan data kategorikal\n",
    "ordinal_encoder = OrdinalEncoder()\n",
    "label_X_train[object_cols] = ordinal_encoder.fit_transform(features_train[object_cols])\n",
    "label_X_test[object_cols] = ordinal_encoder.transform(features_test[object_cols])\n",
    "\n",
    "print('RMSE Skor dari Pendekatan 1: Pengkodean Ordinal')\n",
    "print(score_dataset(label_X_train, label_X_test, y_train, y_test))"
   ]
  },
  {
   "cell_type": "code",
   "execution_count": 34,
   "metadata": {},
   "outputs": [
    {
     "name": "stdout",
     "output_type": "stream",
     "text": [
      "RMSE Skor dari Pendekatan 2: One-Hot Encoding\n",
      "1935.6537678306213\n",
      "CPU times: user 1min 33s, sys: 639 ms, total: 1min 34s\n",
      "Wall time: 1min 34s\n"
     ]
    }
   ],
   "source": [
    "%%time\n",
    "# Skor dari Pendekatan 2: One-Hot Encoding\n",
    "\n",
    "#terapkan pengkodean One-Hot Encoding ke setiap kolom dengan data kategorikal\n",
    "OH_encoder = OneHotEncoder(handle_unknown='ignore', sparse=False)\n",
    "OH_cols_train = pd.DataFrame(\n",
    "    OH_encoder.fit_transform(features_train[object_cols]))\n",
    "OH_cols_test = pd.DataFrame(OH_encoder.transform(features_test[object_cols]))\n",
    "\n",
    "# Pengkodean One-Hot menghapus indeks;\n",
    "OH_cols_train.index = features_train.index\n",
    "OH_cols_test.index = features_test.index\n",
    "\n",
    "# Menghapus kolom kategorikal (diganti dengan One-hot encoding)\n",
    "num_X_train = features_train.drop(object_cols, axis=1)\n",
    "num_X_test = features_test.drop(object_cols, axis=1)\n",
    "\n",
    "# Menambahkan kolom fitur numerikal dengan pengkoden One-hot \n",
    "OH_X_train = pd.concat([num_X_train, OH_cols_train], axis=1)\n",
    "OH_X_test = pd.concat([num_X_test, OH_cols_test], axis=1)\n",
    "\n",
    "\n",
    "print('RMSE Skor dari Pendekatan 2: One-Hot Encoding')\n",
    "print(score_dataset(OH_X_train, OH_X_test, y_train, y_test))"
   ]
  },
  {
   "cell_type": "markdown",
   "metadata": {},
   "source": [
    "Pendekatan terbaik yang digunakan untuk dataset ini adalah pengkodean One-Hot karena memberikan skor RMSE terendah. Salah satu dari dua pendekatan ini akan berhasil karena skor RMSE yang dikembalikan nilainya sangat dekat."
   ]
  },
  {
   "cell_type": "markdown",
   "metadata": {},
   "source": [
    "# Linear Regression "
   ]
  },
  {
   "cell_type": "code",
   "execution_count": 35,
   "metadata": {},
   "outputs": [],
   "source": [
    "# pengkodean one-hot untuk fitur kategorical \n",
    "car_df_ohe = pd.get_dummies(car_df, drop_first=True)\n",
    "\n",
    "# menentukna variabel target dan fiturs\n",
    "y_ohe = car_df_ohe.price\n",
    "X_ohe = car_df_ohe.drop(['price'], axis=1)\n",
    "\n",
    "# memisahkan datas75% training dan 25% testing\n",
    "X_train_ohe, X_test_ohe, y_train_ohe, y_test_ohe = train_test_split(X_ohe, y_ohe, test_size=0.25, random_state=12345)\n",
    "\n",
    "# fitur numerik \n",
    "numerical_cols = [cname for cname in X_train_ohe.columns if X_train_ohe[cname].dtype in ['int64', 'int32']]\n",
    "\n",
    "# scaling fitur\n",
    "scaler = StandardScaler()\n",
    "scaler.fit(X_train_ohe[numerical_cols])\n",
    "\n",
    "# mengubah training set dan test set menggunankan transform()\n",
    "X_train_ohe[numerical_cols] = scaler.transform(X_train_ohe[numerical_cols])\n",
    "X_test_ohe[numerical_cols]  = scaler.transform(X_test_ohe[numerical_cols])"
   ]
  },
  {
   "cell_type": "code",
   "execution_count": 36,
   "metadata": {},
   "outputs": [
    {
     "name": "stdout",
     "output_type": "stream",
     "text": [
      "\u001b[1mRMSE menggunakan Linear Regression\u001b[0m\n",
      "RMSE: 3092.900\n",
      "CPU times: user 16.4 s, sys: 4.34 s, total: 20.7 s\n",
      "Wall time: 20.8 s\n"
     ]
    }
   ],
   "source": [
    "%%time\n",
    "# linear regression model\n",
    "lr_model = LinearRegression()\n",
    "lr_model.fit(X_train_ohe, y_train_ohe)\n",
    "lr_pred = lr_model.predict(X_test_ohe)\n",
    "\n",
    "# rmse for linear model\n",
    "lr_rmse = np.sqrt(mean_squared_error(y_test_ohe, lr_pred))\n",
    "print(\"\\033[1m\" + 'RMSE menggunakan Linear Regression' + \"\\033[0m\")\n",
    "print('RMSE: {:.3f}'.format(lr_rmse))"
   ]
  },
  {
   "cell_type": "markdown",
   "metadata": {},
   "source": [
    "# CatBoost Regressor"
   ]
  },
  {
   "cell_type": "code",
   "execution_count": 37,
   "metadata": {},
   "outputs": [],
   "source": [
    "# Menentukan variabel target dan features\n",
    "y_cb = car_df.price\n",
    "X_cb = car_df.drop(['price'], axis=1)\n",
    "\n",
    "# memisahkan data 75% training dan 25% testing\n",
    "X_train_cb, X_test_cb, y_train_cb, y_test_cb = train_test_split(X_cb, y_cb, test_size=0.25, random_state=12345)\n",
    "\n",
    "cat_features = [\n",
    "    'vehicle_type', \n",
    "    'gearbox', \n",
    "    'model', \n",
    "    'fuel_type', \n",
    "    'brand', \n",
    "    'not_repaired'\n",
    "]"
   ]
  },
  {
   "cell_type": "code",
   "execution_count": null,
   "metadata": {},
   "outputs": [],
   "source": [
    "%%time\n",
    "# hyperparameter optimalisasi \n",
    "\n",
    "# menentukan tuning hyperparameters\n",
    "grid = {'learning_rate': [0.001, 0.01, 0.5],\n",
    "        'depth': [4, 6, 10],\n",
    "        'l2_leaf_reg': [1, 3, 5, 7, 9]\n",
    "       }\n",
    "\n",
    "# Model \n",
    "cb_regr = CatBoostRegressor(\n",
    "    iterations=500,\n",
    "    cat_features=cat_features,\n",
    "    logging_level = 'Silent',\n",
    "    loss_function='RMSE',\n",
    "    early_stopping_rounds = 50,\n",
    "    random_state = 12345)\n",
    "\n",
    "# menentukan grid search\n",
    "grid_search_cb = GridSearchCV(estimator = cb_regr, param_grid = grid, scoring=\"neg_mean_squared_error\", cv=3)\n",
    "\n",
    "# menjalankan model \n",
    "grid_search_cb.fit(X_train_cb, y_train_cb)\n",
    "\n",
    "# menampilkan parameter\n",
    "print('Hyperparameters terbaik adalah: {}'.format(grid_search_cb.best_params_))"
   ]
  },
  {
   "cell_type": "code",
   "execution_count": null,
   "metadata": {},
   "outputs": [],
   "source": [
    "# CatBoost regressor model\n",
    "def catboost_regressor(X_train, y_train, X_test, y_test):\n",
    "    \"\"\"\n",
    "    Ini adalah fungsi CatBoost regressor model yang dikembangkan untuk melatih\n",
    "    model dan membuat prediksi pada pengujian dataset,\n",
    "    serta menghitung metrik evaluasi untuk menguji dataset\n",
    "    \"\"\"\n",
    "    # model\n",
    "    model = CatBoostRegressor(**grid_search_cb.best_params_)\n",
    "    model.fit(X_train, y_train, cat_features=cat_features, eval_set=(X_test, y_test), verbose= 1, plot=False, use_best_model=True) \n",
    "    # membuat prediksi pada train set\n",
    "    y_pred = model.predict(X_test)\n",
    "    # menghitung RMSE catboost regression \n",
    "    print('RMSE: {:.3f}'.format(np.sqrt(mean_squared_error(y_test, y_pred))))\n",
    "    print()\n",
    "    # feature terpenting dari CatBoost regression \n",
    "    sorted_feature_importance = model.feature_importances_.argsort()\n",
    "    plt.figure(figsize=(8,6))\n",
    "    plt.barh(X_cb.columns[sorted_feature_importance], \n",
    "             model.feature_importances_[sorted_feature_importance], \n",
    "             color='turquoise')\n",
    "    plt.xlabel(\"CatBoost Feature Importance\")"
   ]
  },
  {
   "cell_type": "code",
   "execution_count": null,
   "metadata": {},
   "outputs": [],
   "source": [
    "%%time\n",
    "# RMSE catboost regressor\n",
    "print(\"\\033[1m\" + 'RMSE menggunakan CatBoost Regressor' + \"\\033[0m\")\n",
    "catboost_regressor(X_train_cb, y_train_cb, X_test_cb, y_test_cb)"
   ]
  },
  {
   "cell_type": "markdown",
   "metadata": {},
   "source": [
    "# XGBoost "
   ]
  },
  {
   "cell_type": "code",
   "execution_count": null,
   "metadata": {},
   "outputs": [],
   "source": [
    "%%time\n",
    "# hyperparameter optimalisasi XGBoost\n",
    "\n",
    "# menentukan tuning hyperparameters\n",
    "xgb_grid = {'learning_rate': [0.001, 0.01, 0.1, 0.3], \n",
    "            'max_depth': [2, 4, 6, 10],\n",
    "            'n_estimators': [50, 100, 200, 500]\n",
    "           }\n",
    "#  model \n",
    "xgb_regr = XGBRegressor(random_state = 12345)\n",
    "\n",
    "# menentukan grid search\n",
    "grid_search_xgb = GridSearchCV(\n",
    "    estimator = xgb_regr, \n",
    "    param_grid = xgb_grid, \n",
    "    scoring = \"neg_mean_squared_error\", \n",
    "    cv = 3, \n",
    "    n_jobs = 1\n",
    ")\n",
    "\n",
    "# menjalankan model \n",
    "grid_search_xgb.fit(X_train_ohe, y_train_ohe)\n",
    "\n",
    "# menampilkan parameter\n",
    "print('Hyperparameters terbaik adalah: {}'.format(grid_search_xgb.best_params_))"
   ]
  },
  {
   "cell_type": "code",
   "execution_count": null,
   "metadata": {},
   "outputs": [],
   "source": [
    "# XGBoost regressor model\n",
    "def xgboost_regressor(X_train, y_train, X_test, y_test):\n",
    "    \"\"\"\n",
    "    Ini adalah fungsi XGBoost regressor model yang dikembangkan untuk melatih\n",
    "    model dan membuat prediksi pada pengujian dataset,\n",
    "    serta menghitung metrik evaluasi untuk menguji dataset\n",
    "    \"\"\"\n",
    "    # model\n",
    "    model = XGBRegressor(**grid_search_xgb.best_params_)\n",
    "    model.fit(X_train, y_train) # train the model \n",
    "    # membuat prediksi pada train set\n",
    "    y_pred = model.predict(X_test)\n",
    "    # menghitung RMSE for xgboost regressor    \n",
    "    print('RMSE: {:.3f}'.format(np.sqrt(mean_squared_error(y_test, y_pred))))"
   ]
  },
  {
   "cell_type": "code",
   "execution_count": null,
   "metadata": {},
   "outputs": [],
   "source": [
    "%%time\n",
    "#  RMSE XGBoost regressor\n",
    "print(\"\\033[1m\" + 'RMSE using XGBoost Regressor' + \"\\033[0m\")\n",
    "xgboost_regressor(X_train_ohe, y_train_ohe, X_test_ohe, y_test_ohe) "
   ]
  },
  {
   "cell_type": "markdown",
   "metadata": {},
   "source": [
    "# LightGBM "
   ]
  },
  {
   "cell_type": "code",
   "execution_count": null,
   "metadata": {},
   "outputs": [],
   "source": [
    "# menentukan variabel target dan fiturs\n",
    "y_le = car_df.price\n",
    "X_le = car_df.drop(['price'], axis=1)\n",
    "\n",
    "# memisahkan data 75% training dan 25% testing\n",
    "X_train_le, X_test_le, y_train_le, y_test_le = train_test_split(X_le, y_le, test_size=0.25, random_state=12345)\n",
    "\n",
    "# membuat salinan untuk menghindari perubahan data asli\n",
    "categorical_cols = [cname for cname in X_train_le.columns if X_train_le[cname].dtype == 'object']\n",
    "\n",
    "# menerapkan encoder ordinal ke setiap kolom dengan data kategorikal\n",
    "ordinal_encoder = OrdinalEncoder()\n",
    "label__X_train[categorical_cols] = ordinal_encoder.fit_transform(X_train_le[categorical_cols])"
   ]
  },
  {
   "cell_type": "code",
   "execution_count": null,
   "metadata": {},
   "outputs": [],
   "source": [
    "%%time \n",
    "# hyperparameter optimalisasi \n",
    "\n",
    "# menetukan tuning hyperparameters\n",
    "lgbm_grid = {'learning_rate': [0.001, 0.01, 0.05, 0.1],\n",
    "             'n_estimators': [50, 100, 500],\n",
    "             'num_leaves': [5, 10, 20, 31]\n",
    "            }\n",
    "\n",
    "# menentukan model\n",
    "lgbm_regr = LGBMRegressor(random_state = 12345)\n",
    "\n",
    "# menentukan grid search\n",
    "grid_search_lgbm = GridSearchCV(\n",
    "    estimator = lgbm_regr, \n",
    "    param_grid = lgbm_grid, \n",
    "    scoring = \"neg_mean_squared_error\", \n",
    "    cv = 3, \n",
    "    n_jobs = 1\n",
    ")\n",
    "\n",
    "# menjalankan grid search\n",
    "grid_search_lgbm.fit(label__X_train, y_train_le)\n",
    "\n",
    "# hasil \n",
    "print('The best hyperparameters are: {}'.format(grid_search_lgbm.best_params_))"
   ]
  },
  {
   "cell_type": "code",
   "execution_count": null,
   "metadata": {},
   "outputs": [],
   "source": [
    "# LightGBM regressor model\n",
    "def lightGBM_regressor(X_train, y_train, X_test, y_test):\n",
    "    \"\"\"\n",
    "    Ini adalah fungsi Light GBM regressor yang dikembangkan untuk melatih\n",
    "    model dan membuat prediksi pada pengujian dataset,\n",
    "    serta menghitung metrik evaluasi untuk menguji dataset\n",
    "    \"\"\"\n",
    "    # model\n",
    "    model = LGBMRegressor(**grid_search_lgbm.best_params_)\n",
    "    model.fit(X_train, y_train) # train the model \n",
    "    # membuat prediksi pada train dataset \n",
    "    y_pred = model.predict(X_test)\n",
    "    # Menghitung RMSE dari model LGBM regressor    \n",
    "    print('RMSE: {:.3f}'.format(np.sqrt(mean_squared_error(y_test, y_pred))))\n",
    "    print()\n",
    "    # Fitur Penting dari prediksi  LightGBM regression \n",
    "    sorted_feature_importance = model.feature_importances_.argsort()\n",
    "    plt.figure(figsize=(8,6))\n",
    "    plt.barh(X_le.columns[sorted_feature_importance], \n",
    "             model.feature_importances_[sorted_feature_importance], \n",
    "             color='dodgerblue')\n",
    "    plt.xlabel(\"LightGBM Feature Importance\")"
   ]
  },
  {
   "cell_type": "code",
   "execution_count": null,
   "metadata": {},
   "outputs": [],
   "source": [
    "%%time\n",
    "# Menjalankan fungsi RMSE untuk lightGBM regressor\n",
    "print(\"\\033[1m\" + 'RMSE using LightGBM Regressor' + \"\\033[0m\")\n",
    "lightGBM_regressor(label__X_train, y_train_le, label__X_test, y_test_le) "
   ]
  },
  {
   "cell_type": "markdown",
   "metadata": {},
   "source": [
    "## Analisis Model"
   ]
  },
  {
   "cell_type": "markdown",
   "metadata": {},
   "source": [
    "Kami dapat memvisualisasikan kinerja menggunakan bagan yang menunjukkan perbandingan skor RSME dari berbagai model, dan waktu yang diperlukan untuk melatih serta kualitas dan kecepatan prediksi.\n"
   ]
  },
  {
   "cell_type": "code",
   "execution_count": null,
   "metadata": {},
   "outputs": [],
   "source": [
    "# perbandingan kinerja model yang berbeda\n",
    "model = ['LinearRegressor',  ' CatBoost', 'XGboost', 'LightGBM']\n",
    "rmse = [3080.00, 1691.916, 1659.825, 1711.689]\n",
    "tune_time = [0, 4248, 10743, 18960, 224]\n",
    "pred_time = [6.12, 56.7, 410, 548, 3.79]\n",
    "\n",
    "# Membuat Dataframe\n",
    "analysis = pd.DataFrame(data = zip(model, rmse, tune_time, pred_time), columns = ['model', 'rmse_score', 'tune_time_secs', 'pred_time_secs'])\n",
    "\n",
    "# plot kinerja dari metrics\n",
    "fig, ax = plt.subplots(1, 3, figsize=(20, 6))\n",
    "sns.set_style('whitegrid')\n",
    "sns.barplot(data = analysis.sort_values('rmse_score'), \n",
    "            y= 'model',\n",
    "            x= 'rmse_score',\n",
    "            orient= 'h',\n",
    "            ax=ax[0],\n",
    "            )\n",
    "ax[0].set_title('RMSE score comparison of various models')\n",
    "\n",
    "sns.barplot(data = analysis.sort_values('rmse_score'), \n",
    "            y= 'model',\n",
    "            x= 'tune_time_secs',\n",
    "            orient= 'h',\n",
    "            ax=ax[1],\n",
    "            )\n",
    "ax[1].set_title('Time required to tune hyperparameters')\n",
    "\n",
    "sns.barplot(data = analysis.sort_values('rmse_score'), \n",
    "            y= 'model',\n",
    "            x= 'pred_time_secs',\n",
    "            orient= 'h',\n",
    "            ax=ax[2],\n",
    "            )\n",
    "ax[2].set_title('Time required to predict target')\n",
    "\n",
    "plt.tight_layout()\n",
    "plt.show()"
   ]
  },
  {
   "cell_type": "markdown",
   "metadata": {},
   "source": [
    "Kesimpulan :\n",
    "\n",
    "Dari analisis yang dilakukan, kita dapat melihat bahwa di antara model yang berbeda, regresi linier memiliki skor terburuk 3080 yang diharapkan sedangkan regresi XGBoost memiliki skor terbaik 1659.825. Sementara XGBoost membutuhkan waktu lebih lama untuk menyetel hyperparameter, LightGBM membutuhkan lebih sedikit waktu untuk menyetel hyperparameternya. Dalam hal kecepatan prediksi, LightGBM membutuhkan waktu lebih sedikit untuk memprediksi sedangkan XGBoost memiliki waktu prediksi paling lama. Skor RMSE adalah cara yang berguna untuk melihat seberapa baik model dapat menyesuaikan dengan kumpulan data. Semakin besar RMSE, semakin besar perbedaan antara nilai yang diprediksi dan diamati, yang berarti semakin buruk suatu model cocok dengan data. Sebaliknya, semakin kecil RMSE, semakin baik model dapat menyesuaikan data. Sangat berguna untuk membandingkan RMSE dari dua model yang berbeda satu sama lain untuk melihat model mana yang lebih cocok dengan data. Dari analisis yang dilakukan, XGBoost memiliki skor RMSE terendah tetapi membutuhkan waktu paling lama untuk melatih dan memprediksi."
   ]
  },
  {
   "cell_type": "markdown",
   "metadata": {},
   "source": [
    "Kesimpulan :\n",
    "    \n",
    "Dengan melihat informasi umum pada data, kita dapat melihat bahwa data tersebut berisi 354.369 baris dan 16 kolom. Terdapat 5 kolom dengan nilai yang hilang. Nilai yang hilang dalam kumpulan data sebagian besar hilang secara acak (MAR). serta kita memiliki 262 baris duplikat dan Kita juga perlu mengonversi tipe data untuk beberapa fitur. Kita dapat melihat bahwa column not_repaired memiliki nilai yang hilang sebesar 20,1%, sedangkan vehicle_type, fuel_type, gearbox, dan model memiliki nilai yang hilang kurang dari 10%. Kita dapat memutuskan untuk membuang nilai yang hilang kurang dari 10% tetapi cara yang lebih baik untuk mengatasi nilai yang hilang adalah dengan mengisinya secara sistematis menggunakan properti data.\n",
    "\n",
    "_________\n",
    "\n",
    "Pada bagian ini, kami menggunakan random forest untuk menguji pengaruh kardinalitas pada variabel kategori. Kami mengamati bahwa dengan tidak adanya model lain, pendekatan terbaik untuk digunakan adalah one-hot encoding karena memberikan skor RSME terendah. Kami melanjutkan untuk melatih algoritme yang berbeda dengan berbagai hyperparameter. Tujuan dari langkah ini adalah untuk membandingkan berbagai metode peningkatan gradien dengan random forest, decision tree dan regresi linier. Untuk tujuan ini, kami melatih model linier untuk sanity check, regresi catboost, regresi XGBoost, dan regresi LightGBM. Kami juga menyetel berbagai hyperparameter yang memengaruhi kinerja model. Kami juga mengamati waktu yang diperlukan untuk menyetel hyperparameter dan melatih model. Metrik yang digunakan untuk mengevaluasi model adalah skor RMSE.\n",
    "\n",
    "_______________\n",
    "\n",
    "Dari analisis yang dilakukan, kita dapat melihat bahwa di antara model yang berbeda, regresi linier memiliki skor terburuk  yang diharapkan sedangkan regresi XGBoost memiliki skor terbaik. Sementara XGBoost membutuhkan waktu lebih lama untuk menyetel hyperparameter, LightGBM membutuhkan lebih sedikit waktu untuk menyetel hyperparameternya. Dalam hal kecepatan prediksi, LightGBM membutuhkan waktu lebih sedikit untuk memprediksi sedangkan XGBoost memiliki waktu prediksi paling lama. Skor RMSE adalah cara yang berguna untuk melihat seberapa baik model dapat menyesuaikan dengan kumpulan data. Semakin besar RMSE, semakin besar perbedaan antara nilai yang diprediksi dan diamati, yang berarti semakin buruk suatu model cocok dengan data. Sebaliknya, semakin kecil RMSE, semakin baik model dapat menyesuaikan data. Sangat berguna untuk membandingkan RMSE dari dua model yang berbeda satu sama lain untuk melihat model mana yang lebih cocok dengan data. Dari analisis yang dilakukan, XGBoost memiliki skor RMSE terendah tetapi membutuhkan waktu paling lama untuk melatih dan memprediksi."
   ]
  },
  {
   "cell_type": "markdown",
   "metadata": {},
   "source": [
    "# Daftar Periksa"
   ]
  },
  {
   "cell_type": "markdown",
   "metadata": {},
   "source": [
    "Ketik 'x' untuk menandakannya sebagai selesai. Lalu, tekan tombol Shift+Enter"
   ]
  },
  {
   "cell_type": "markdown",
   "metadata": {},
   "source": [
    "- [x]  Jupyter Notebook bisa dibuka\n",
    "- [ ]  Tidak ada kesalahan pada kode\n",
    "- [ ]  Sel-sel dengan kode telah disusun berdasarkan urutan eksekusi\n",
    "- [ ]  Data telah diunduh dan disiapkan- [ ]  Model sudah dilatih\n",
    "- [ ]  Analisis terhadap kecepatan dan kualitas model telah dilakukan"
   ]
  },
  {
   "cell_type": "code",
   "execution_count": null,
   "metadata": {},
   "outputs": [],
   "source": []
  }
 ],
 "metadata": {
  "kernelspec": {
   "display_name": "Python 3 (ipykernel)",
   "language": "python",
   "name": "python3"
  },
  "language_info": {
   "codemirror_mode": {
    "name": "ipython",
    "version": 3
   },
   "file_extension": ".py",
   "mimetype": "text/x-python",
   "name": "python",
   "nbconvert_exporter": "python",
   "pygments_lexer": "ipython3",
   "version": "3.9.5"
  },
  "toc": {
   "base_numbering": 1,
   "nav_menu": {},
   "number_sections": true,
   "sideBar": true,
   "skip_h1_title": true,
   "title_cell": "Table of Contents",
   "title_sidebar": "Contents",
   "toc_cell": false,
   "toc_position": {
    "height": "calc(100% - 180px)",
    "left": "10px",
    "top": "150px",
    "width": "272.292px"
   },
   "toc_section_display": true,
   "toc_window_display": true
  }
 },
 "nbformat": 4,
 "nbformat_minor": 2
}
