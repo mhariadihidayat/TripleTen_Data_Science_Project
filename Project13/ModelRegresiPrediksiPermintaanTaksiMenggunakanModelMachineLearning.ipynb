{
 "cells": [
  {
   "cell_type": "markdown",
   "metadata": {},
   "source": [
    "# Deskripsi tugas\n",
    "\n",
    "Perusahaan taksi bernama Sweet Lift telah mengumpulkan data historis tentang pesanan taksi di bandara. Untuk menarik lebih banyak pengemudi pada jam sibuk, perlu memprediksi jumlah pesanan taksi untuk satu jam berikutnya. Buat model untuk prediksi seperti itu.\n",
    "\n",
    "Metrik RMSE pada *test set* tidak boleh lebih dari 48.\n",
    "\n",
    "## Instruksi tugas\n",
    "\n",
    "1. Unduh data dan lakukan *resampling* dalam satu jam.\n",
    "2. Analisis datanya.\n",
    "3.  Latih model yang berbeda dengan hiperparameter yang berbeda pula. Sampel tes harus 10% dari *dataset* awal.\n",
    "4. Uji data menggunakan sampel tes dan berikan kesimpulan.\n",
    "\n",
    "## Deskripsi data\n",
    "\n",
    "Data tersimpan di file `taxi.csv`. Jumlah pesanan di kolom'*num_orders*'."
   ]
  },
  {
   "cell_type": "markdown",
   "metadata": {},
   "source": [
    "## Persiapan"
   ]
  },
  {
   "cell_type": "code",
   "execution_count": 1,
   "metadata": {},
   "outputs": [
    {
     "name": "stdout",
     "output_type": "stream",
     "text": [
      "Perpustakaan proyek telah berhasil diimpor!\n"
     ]
    }
   ],
   "source": [
    "# import pandas and numpy untuk proses dan manipulasi data\n",
    "import numpy as np\n",
    "import pandas as pd\n",
    "\n",
    "# matplotlib dan seaborn untuk statistika data visualisasi\n",
    "import matplotlib.pyplot as plt\n",
    "import seaborn as sns\n",
    "%matplotlib inline\n",
    "\n",
    "# import statistik model\n",
    "from statsmodels.tsa.seasonal import seasonal_decompose\n",
    "\n",
    "# import acf auto correlation dan pacf parsial auto correlation untuk grafik time series \n",
    "from statsmodels.graphics.tsaplots import plot_acf\n",
    "from statsmodels.graphics.tsaplots import plot_pacf\n",
    "\n",
    "# i impor modul untuk pemisahan dan validasi silang menggunakan pencarian grid\n",
    "from sklearn.model_selection import train_test_split, GridSearchCV\n",
    "\n",
    "# import time series \n",
    "from sklearn.model_selection import TimeSeriesSplit\n",
    "\n",
    "# impor metrik untuk mengukur kualitas model\n",
    "from sklearn.metrics import mean_squared_error\n",
    "\n",
    "# impor model pembelajaran mesin\n",
    "from sklearn.linear_model import LinearRegression \n",
    "from sklearn.ensemble import RandomForestRegressor\n",
    "from catboost import CatBoostRegressor, Pool \n",
    "from lightgbm import LGBMRegressor \n",
    "from xgboost import XGBRegressor \n",
    "from sklearn.neighbors import KNeighborsRegressor \n",
    "\n",
    "from IPython.display import display\n",
    "\n",
    "# abaikan peringatan\n",
    "import warnings\n",
    "warnings.filterwarnings(\"ignore\")\n",
    "\n",
    "print('Perpustakaan proyek telah berhasil diimpor!')"
   ]
  },
  {
   "cell_type": "markdown",
   "metadata": {},
   "source": [
    "# Memuat Data dari csv agar dapat dijalankan dengan pandas untuk menjadi DataFrame"
   ]
  },
  {
   "cell_type": "code",
   "execution_count": 2,
   "metadata": {},
   "outputs": [],
   "source": [
    "data = pd.read_csv('/datasets/taxi.csv')"
   ]
  },
  {
   "cell_type": "code",
   "execution_count": 3,
   "metadata": {},
   "outputs": [],
   "source": [
    "# Membuat Fungsi untuk menentukan jika ada columns yang memiliki nilai yang hilang\n",
    "def get_percent_of_na(df, num):\n",
    "    count = 0\n",
    "    df = df.copy()\n",
    "    s = (df.isna().sum() / df.shape[0])\n",
    "    for column, percent in zip(s.index, s.values):\n",
    "        num_of_nulls = df[column].isna().sum()\n",
    "        if num_of_nulls == 0:\n",
    "            continue\n",
    "        else:\n",
    "            count += 1\n",
    "        print('Column {} dengan {:.{}%} persentasi nilai yang hilang , dan {} nilai yang hilang'.format(column, percent, num, num_of_nulls))\n",
    "    if count != 0:\n",
    "        print(\"\\033[1m\" + 'Terdapat {} columns dengan nilai NA.'.format(count) + \"\\033[0m\")\n",
    "    else:\n",
    "        print()\n",
    "        print(\"\\033[1m\" + 'Tidak Terdapat columns dengan nilai NA.' + \"\\033[0m\")\n",
    "        \n",
    "# Fungsi untuk melihat informasi keseluruhan pada dataset \n",
    "def get_info(df):\n",
    "    print(\"\\033[1m\" + '-'*100 + \"\\033[0m\")\n",
    "    print('Head:')\n",
    "    print()\n",
    "    display(df.head(25))\n",
    "    print('-'*100)\n",
    "    print('Info:')\n",
    "    print()\n",
    "    display(df.info())\n",
    "    print('-'*100)\n",
    "    print('Describe:')\n",
    "    print()\n",
    "    display(df.describe())\n",
    "    print('-'*100)\n",
    "    display(df.describe(include='object'))\n",
    "    print()\n",
    "    print('Columns dengan nilai yang hilang:')\n",
    "    display(get_percent_of_na(df, 4))  \n",
    "    print('-'*100)\n",
    "    print('Shape:')\n",
    "    print(df.shape)\n",
    "    print('-'*100)\n",
    "    print('Duplicated:')\n",
    "    print(\"\\033[1m\" + 'Kita mempunyai {} baris yang terduplikasi.\\n'.format(df.duplicated().sum()) + \"\\033[0m\")\n",
    "    print()"
   ]
  },
  {
   "cell_type": "code",
   "execution_count": 4,
   "metadata": {
    "scrolled": true
   },
   "outputs": [
    {
     "name": "stdout",
     "output_type": "stream",
     "text": [
      "Informasi Umum pada Dataset\n",
      "\u001b[1m----------------------------------------------------------------------------------------------------\u001b[0m\n",
      "Head:\n",
      "\n"
     ]
    },
    {
     "data": {
      "text/html": [
       "<div>\n",
       "<style scoped>\n",
       "    .dataframe tbody tr th:only-of-type {\n",
       "        vertical-align: middle;\n",
       "    }\n",
       "\n",
       "    .dataframe tbody tr th {\n",
       "        vertical-align: top;\n",
       "    }\n",
       "\n",
       "    .dataframe thead th {\n",
       "        text-align: right;\n",
       "    }\n",
       "</style>\n",
       "<table border=\"1\" class=\"dataframe\">\n",
       "  <thead>\n",
       "    <tr style=\"text-align: right;\">\n",
       "      <th></th>\n",
       "      <th>datetime</th>\n",
       "      <th>num_orders</th>\n",
       "    </tr>\n",
       "  </thead>\n",
       "  <tbody>\n",
       "    <tr>\n",
       "      <th>0</th>\n",
       "      <td>2018-03-01 00:00:00</td>\n",
       "      <td>9</td>\n",
       "    </tr>\n",
       "    <tr>\n",
       "      <th>1</th>\n",
       "      <td>2018-03-01 00:10:00</td>\n",
       "      <td>14</td>\n",
       "    </tr>\n",
       "    <tr>\n",
       "      <th>2</th>\n",
       "      <td>2018-03-01 00:20:00</td>\n",
       "      <td>28</td>\n",
       "    </tr>\n",
       "    <tr>\n",
       "      <th>3</th>\n",
       "      <td>2018-03-01 00:30:00</td>\n",
       "      <td>20</td>\n",
       "    </tr>\n",
       "    <tr>\n",
       "      <th>4</th>\n",
       "      <td>2018-03-01 00:40:00</td>\n",
       "      <td>32</td>\n",
       "    </tr>\n",
       "    <tr>\n",
       "      <th>5</th>\n",
       "      <td>2018-03-01 00:50:00</td>\n",
       "      <td>21</td>\n",
       "    </tr>\n",
       "    <tr>\n",
       "      <th>6</th>\n",
       "      <td>2018-03-01 01:00:00</td>\n",
       "      <td>7</td>\n",
       "    </tr>\n",
       "    <tr>\n",
       "      <th>7</th>\n",
       "      <td>2018-03-01 01:10:00</td>\n",
       "      <td>5</td>\n",
       "    </tr>\n",
       "    <tr>\n",
       "      <th>8</th>\n",
       "      <td>2018-03-01 01:20:00</td>\n",
       "      <td>17</td>\n",
       "    </tr>\n",
       "    <tr>\n",
       "      <th>9</th>\n",
       "      <td>2018-03-01 01:30:00</td>\n",
       "      <td>12</td>\n",
       "    </tr>\n",
       "    <tr>\n",
       "      <th>10</th>\n",
       "      <td>2018-03-01 01:40:00</td>\n",
       "      <td>19</td>\n",
       "    </tr>\n",
       "    <tr>\n",
       "      <th>11</th>\n",
       "      <td>2018-03-01 01:50:00</td>\n",
       "      <td>25</td>\n",
       "    </tr>\n",
       "    <tr>\n",
       "      <th>12</th>\n",
       "      <td>2018-03-01 02:00:00</td>\n",
       "      <td>22</td>\n",
       "    </tr>\n",
       "    <tr>\n",
       "      <th>13</th>\n",
       "      <td>2018-03-01 02:10:00</td>\n",
       "      <td>12</td>\n",
       "    </tr>\n",
       "    <tr>\n",
       "      <th>14</th>\n",
       "      <td>2018-03-01 02:20:00</td>\n",
       "      <td>19</td>\n",
       "    </tr>\n",
       "    <tr>\n",
       "      <th>15</th>\n",
       "      <td>2018-03-01 02:30:00</td>\n",
       "      <td>8</td>\n",
       "    </tr>\n",
       "    <tr>\n",
       "      <th>16</th>\n",
       "      <td>2018-03-01 02:40:00</td>\n",
       "      <td>6</td>\n",
       "    </tr>\n",
       "    <tr>\n",
       "      <th>17</th>\n",
       "      <td>2018-03-01 02:50:00</td>\n",
       "      <td>4</td>\n",
       "    </tr>\n",
       "    <tr>\n",
       "      <th>18</th>\n",
       "      <td>2018-03-01 03:00:00</td>\n",
       "      <td>8</td>\n",
       "    </tr>\n",
       "    <tr>\n",
       "      <th>19</th>\n",
       "      <td>2018-03-01 03:10:00</td>\n",
       "      <td>17</td>\n",
       "    </tr>\n",
       "    <tr>\n",
       "      <th>20</th>\n",
       "      <td>2018-03-01 03:20:00</td>\n",
       "      <td>7</td>\n",
       "    </tr>\n",
       "    <tr>\n",
       "      <th>21</th>\n",
       "      <td>2018-03-01 03:30:00</td>\n",
       "      <td>4</td>\n",
       "    </tr>\n",
       "    <tr>\n",
       "      <th>22</th>\n",
       "      <td>2018-03-01 03:40:00</td>\n",
       "      <td>10</td>\n",
       "    </tr>\n",
       "    <tr>\n",
       "      <th>23</th>\n",
       "      <td>2018-03-01 03:50:00</td>\n",
       "      <td>20</td>\n",
       "    </tr>\n",
       "    <tr>\n",
       "      <th>24</th>\n",
       "      <td>2018-03-01 04:00:00</td>\n",
       "      <td>13</td>\n",
       "    </tr>\n",
       "  </tbody>\n",
       "</table>\n",
       "</div>"
      ],
      "text/plain": [
       "               datetime  num_orders\n",
       "0   2018-03-01 00:00:00           9\n",
       "1   2018-03-01 00:10:00          14\n",
       "2   2018-03-01 00:20:00          28\n",
       "3   2018-03-01 00:30:00          20\n",
       "4   2018-03-01 00:40:00          32\n",
       "5   2018-03-01 00:50:00          21\n",
       "6   2018-03-01 01:00:00           7\n",
       "7   2018-03-01 01:10:00           5\n",
       "8   2018-03-01 01:20:00          17\n",
       "9   2018-03-01 01:30:00          12\n",
       "10  2018-03-01 01:40:00          19\n",
       "11  2018-03-01 01:50:00          25\n",
       "12  2018-03-01 02:00:00          22\n",
       "13  2018-03-01 02:10:00          12\n",
       "14  2018-03-01 02:20:00          19\n",
       "15  2018-03-01 02:30:00           8\n",
       "16  2018-03-01 02:40:00           6\n",
       "17  2018-03-01 02:50:00           4\n",
       "18  2018-03-01 03:00:00           8\n",
       "19  2018-03-01 03:10:00          17\n",
       "20  2018-03-01 03:20:00           7\n",
       "21  2018-03-01 03:30:00           4\n",
       "22  2018-03-01 03:40:00          10\n",
       "23  2018-03-01 03:50:00          20\n",
       "24  2018-03-01 04:00:00          13"
      ]
     },
     "metadata": {},
     "output_type": "display_data"
    },
    {
     "name": "stdout",
     "output_type": "stream",
     "text": [
      "----------------------------------------------------------------------------------------------------\n",
      "Info:\n",
      "\n",
      "<class 'pandas.core.frame.DataFrame'>\n",
      "RangeIndex: 26496 entries, 0 to 26495\n",
      "Data columns (total 2 columns):\n",
      " #   Column      Non-Null Count  Dtype \n",
      "---  ------      --------------  ----- \n",
      " 0   datetime    26496 non-null  object\n",
      " 1   num_orders  26496 non-null  int64 \n",
      "dtypes: int64(1), object(1)\n",
      "memory usage: 414.1+ KB\n"
     ]
    },
    {
     "data": {
      "text/plain": [
       "None"
      ]
     },
     "metadata": {},
     "output_type": "display_data"
    },
    {
     "name": "stdout",
     "output_type": "stream",
     "text": [
      "----------------------------------------------------------------------------------------------------\n",
      "Describe:\n",
      "\n"
     ]
    },
    {
     "data": {
      "text/html": [
       "<div>\n",
       "<style scoped>\n",
       "    .dataframe tbody tr th:only-of-type {\n",
       "        vertical-align: middle;\n",
       "    }\n",
       "\n",
       "    .dataframe tbody tr th {\n",
       "        vertical-align: top;\n",
       "    }\n",
       "\n",
       "    .dataframe thead th {\n",
       "        text-align: right;\n",
       "    }\n",
       "</style>\n",
       "<table border=\"1\" class=\"dataframe\">\n",
       "  <thead>\n",
       "    <tr style=\"text-align: right;\">\n",
       "      <th></th>\n",
       "      <th>num_orders</th>\n",
       "    </tr>\n",
       "  </thead>\n",
       "  <tbody>\n",
       "    <tr>\n",
       "      <th>count</th>\n",
       "      <td>26496.000000</td>\n",
       "    </tr>\n",
       "    <tr>\n",
       "      <th>mean</th>\n",
       "      <td>14.070463</td>\n",
       "    </tr>\n",
       "    <tr>\n",
       "      <th>std</th>\n",
       "      <td>9.211330</td>\n",
       "    </tr>\n",
       "    <tr>\n",
       "      <th>min</th>\n",
       "      <td>0.000000</td>\n",
       "    </tr>\n",
       "    <tr>\n",
       "      <th>25%</th>\n",
       "      <td>8.000000</td>\n",
       "    </tr>\n",
       "    <tr>\n",
       "      <th>50%</th>\n",
       "      <td>13.000000</td>\n",
       "    </tr>\n",
       "    <tr>\n",
       "      <th>75%</th>\n",
       "      <td>19.000000</td>\n",
       "    </tr>\n",
       "    <tr>\n",
       "      <th>max</th>\n",
       "      <td>119.000000</td>\n",
       "    </tr>\n",
       "  </tbody>\n",
       "</table>\n",
       "</div>"
      ],
      "text/plain": [
       "         num_orders\n",
       "count  26496.000000\n",
       "mean      14.070463\n",
       "std        9.211330\n",
       "min        0.000000\n",
       "25%        8.000000\n",
       "50%       13.000000\n",
       "75%       19.000000\n",
       "max      119.000000"
      ]
     },
     "metadata": {},
     "output_type": "display_data"
    },
    {
     "name": "stdout",
     "output_type": "stream",
     "text": [
      "----------------------------------------------------------------------------------------------------\n"
     ]
    },
    {
     "data": {
      "text/html": [
       "<div>\n",
       "<style scoped>\n",
       "    .dataframe tbody tr th:only-of-type {\n",
       "        vertical-align: middle;\n",
       "    }\n",
       "\n",
       "    .dataframe tbody tr th {\n",
       "        vertical-align: top;\n",
       "    }\n",
       "\n",
       "    .dataframe thead th {\n",
       "        text-align: right;\n",
       "    }\n",
       "</style>\n",
       "<table border=\"1\" class=\"dataframe\">\n",
       "  <thead>\n",
       "    <tr style=\"text-align: right;\">\n",
       "      <th></th>\n",
       "      <th>datetime</th>\n",
       "    </tr>\n",
       "  </thead>\n",
       "  <tbody>\n",
       "    <tr>\n",
       "      <th>count</th>\n",
       "      <td>26496</td>\n",
       "    </tr>\n",
       "    <tr>\n",
       "      <th>unique</th>\n",
       "      <td>26496</td>\n",
       "    </tr>\n",
       "    <tr>\n",
       "      <th>top</th>\n",
       "      <td>2018-07-12 06:50:00</td>\n",
       "    </tr>\n",
       "    <tr>\n",
       "      <th>freq</th>\n",
       "      <td>1</td>\n",
       "    </tr>\n",
       "  </tbody>\n",
       "</table>\n",
       "</div>"
      ],
      "text/plain": [
       "                   datetime\n",
       "count                 26496\n",
       "unique                26496\n",
       "top     2018-07-12 06:50:00\n",
       "freq                      1"
      ]
     },
     "metadata": {},
     "output_type": "display_data"
    },
    {
     "name": "stdout",
     "output_type": "stream",
     "text": [
      "\n",
      "Columns dengan nilai yang hilang:\n",
      "\n",
      "\u001b[1mTidak Terdapat columns dengan nilai NA.\u001b[0m\n"
     ]
    },
    {
     "data": {
      "text/plain": [
       "None"
      ]
     },
     "metadata": {},
     "output_type": "display_data"
    },
    {
     "name": "stdout",
     "output_type": "stream",
     "text": [
      "----------------------------------------------------------------------------------------------------\n",
      "Shape:\n",
      "(26496, 2)\n",
      "----------------------------------------------------------------------------------------------------\n",
      "Duplicated:\n",
      "\u001b[1mKita mempunyai 0 baris yang terduplikasi.\n",
      "\u001b[0m\n",
      "\n"
     ]
    }
   ],
   "source": [
    "print('Informasi Umum pada Dataset')\n",
    "get_info(data)"
   ]
  },
  {
   "cell_type": "markdown",
   "metadata": {},
   "source": [
    "Dari hasil informasi keseluruhan umum data awal terdapat 26496 baris dan 2 kolom data, tidak terdapat nilai yang hilang pada data serta tidak terdapat duplikasi pada data, namun kita perlu merubah kolom `datetime` dari object ke tipe data datetime dan menurunkan kolom `num_orders` dari int64 ke int32 untuk mengurangu penggunaan memori. "
   ]
  },
  {
   "cell_type": "markdown",
   "metadata": {},
   "source": [
    "# Mengubah tipe data"
   ]
  },
  {
   "cell_type": "code",
   "execution_count": 5,
   "metadata": {},
   "outputs": [],
   "source": [
    "# mengubah tipe data menjadi tipedata yang tepat\n",
    "def change_datatype(df, cols, type_val):\n",
    "    for col in cols:\n",
    "        df[col] = df[col].astype(type_val)\n",
    "        \n",
    "change_datatype(data, ['datetime'], 'datetime64[ns]')\n",
    "change_datatype(data, ['num_orders'], 'int32')\n",
    "    "
   ]
  },
  {
   "cell_type": "code",
   "execution_count": 6,
   "metadata": {},
   "outputs": [],
   "source": [
    "# change data to the right type\n",
    "def change_datatype(df, cols, type_val):\n",
    "    for col in cols:\n",
    "        df[col] = df[col].astype(type_val)\n",
    "        \n",
    "change_datatype(data, ['datetime'], 'datetime64[ns]')\n",
    "change_datatype(data, ['num_orders'], 'int32')"
   ]
  },
  {
   "cell_type": "code",
   "execution_count": 7,
   "metadata": {},
   "outputs": [
    {
     "name": "stdout",
     "output_type": "stream",
     "text": [
      "<class 'pandas.core.frame.DataFrame'>\n",
      "RangeIndex: 26496 entries, 0 to 26495\n",
      "Data columns (total 2 columns):\n",
      " #   Column      Non-Null Count  Dtype         \n",
      "---  ------      --------------  -----         \n",
      " 0   datetime    26496 non-null  datetime64[ns]\n",
      " 1   num_orders  26496 non-null  int32         \n",
      "dtypes: datetime64[ns](1), int32(1)\n",
      "memory usage: 310.6 KB\n"
     ]
    }
   ],
   "source": [
    "# memeriks info dataset\n",
    "data.info()"
   ]
  },
  {
   "cell_type": "markdown",
   "metadata": {},
   "source": [
    "Kita telah berhasil mengubah tipe data dari kolom `datetime` menjadi datetime64 dan `num_orders` menjadi int32. pada tahap selanjutnya kita akan memeriksa urutan waktu dan tanggal telah sesuai dengan urutan kronologisnya dengan menggunakan atribut `is_monotonic`."
   ]
  },
  {
   "cell_type": "code",
   "execution_count": 8,
   "metadata": {},
   "outputs": [
    {
     "data": {
      "text/plain": [
       "DatetimeIndex(['2018-03-01 00:00:00', '2018-03-01 00:10:00',\n",
       "               '2018-03-01 00:20:00', '2018-03-01 00:30:00',\n",
       "               '2018-03-01 00:40:00', '2018-03-01 00:50:00',\n",
       "               '2018-03-01 01:00:00', '2018-03-01 01:10:00',\n",
       "               '2018-03-01 01:20:00', '2018-03-01 01:30:00',\n",
       "               ...\n",
       "               '2018-08-31 22:20:00', '2018-08-31 22:30:00',\n",
       "               '2018-08-31 22:40:00', '2018-08-31 22:50:00',\n",
       "               '2018-08-31 23:00:00', '2018-08-31 23:10:00',\n",
       "               '2018-08-31 23:20:00', '2018-08-31 23:30:00',\n",
       "               '2018-08-31 23:40:00', '2018-08-31 23:50:00'],\n",
       "              dtype='datetime64[ns]', name='datetime', length=26496, freq=None)"
      ]
     },
     "execution_count": 8,
     "metadata": {},
     "output_type": "execute_result"
    }
   ],
   "source": [
    "# mengubah tabel index ke datetime\n",
    "taxi_df = data.set_index('datetime')\n",
    "taxi_df.sort_index(axis=0, inplace=True)\n",
    "\n",
    "# menampilkan index data\n",
    "taxi_df.index"
   ]
  },
  {
   "cell_type": "code",
   "execution_count": 9,
   "metadata": {},
   "outputs": [
    {
     "data": {
      "text/html": [
       "<div>\n",
       "<style scoped>\n",
       "    .dataframe tbody tr th:only-of-type {\n",
       "        vertical-align: middle;\n",
       "    }\n",
       "\n",
       "    .dataframe tbody tr th {\n",
       "        vertical-align: top;\n",
       "    }\n",
       "\n",
       "    .dataframe thead th {\n",
       "        text-align: right;\n",
       "    }\n",
       "</style>\n",
       "<table border=\"1\" class=\"dataframe\">\n",
       "  <thead>\n",
       "    <tr style=\"text-align: right;\">\n",
       "      <th></th>\n",
       "      <th>num_orders</th>\n",
       "    </tr>\n",
       "    <tr>\n",
       "      <th>datetime</th>\n",
       "      <th></th>\n",
       "    </tr>\n",
       "  </thead>\n",
       "  <tbody>\n",
       "    <tr>\n",
       "      <th>2018-03-01 00:00:00</th>\n",
       "      <td>9</td>\n",
       "    </tr>\n",
       "    <tr>\n",
       "      <th>2018-03-01 00:10:00</th>\n",
       "      <td>14</td>\n",
       "    </tr>\n",
       "    <tr>\n",
       "      <th>2018-03-01 00:20:00</th>\n",
       "      <td>28</td>\n",
       "    </tr>\n",
       "    <tr>\n",
       "      <th>2018-03-01 00:30:00</th>\n",
       "      <td>20</td>\n",
       "    </tr>\n",
       "    <tr>\n",
       "      <th>2018-03-01 00:40:00</th>\n",
       "      <td>32</td>\n",
       "    </tr>\n",
       "  </tbody>\n",
       "</table>\n",
       "</div>"
      ],
      "text/plain": [
       "                     num_orders\n",
       "datetime                       \n",
       "2018-03-01 00:00:00           9\n",
       "2018-03-01 00:10:00          14\n",
       "2018-03-01 00:20:00          28\n",
       "2018-03-01 00:30:00          20\n",
       "2018-03-01 00:40:00          32"
      ]
     },
     "execution_count": 9,
     "metadata": {},
     "output_type": "execute_result"
    }
   ],
   "source": [
    "# menampilkan baris awal dari data yang di sort\n",
    "taxi_df.head()"
   ]
  },
  {
   "cell_type": "code",
   "execution_count": 10,
   "metadata": {},
   "outputs": [
    {
     "name": "stdout",
     "output_type": "stream",
     "text": [
      "True\n",
      "\n",
      "<class 'pandas.core.frame.DataFrame'>\n",
      "DatetimeIndex: 26496 entries, 2018-03-01 00:00:00 to 2018-08-31 23:50:00\n",
      "Data columns (total 1 columns):\n",
      " #   Column      Non-Null Count  Dtype\n",
      "---  ------      --------------  -----\n",
      " 0   num_orders  26496 non-null  int32\n",
      "dtypes: int32(1)\n",
      "memory usage: 310.5 KB\n",
      "None\n"
     ]
    }
   ],
   "source": [
    "# memeriksa apakaj tanggal dan waktu sudah sesuai dengan kronologi pesanannya\n",
    "print(taxi_df.index.is_monotonic)\n",
    "print()\n",
    "print(taxi_df.info())"
   ]
  },
  {
   "cell_type": "code",
   "execution_count": 11,
   "metadata": {},
   "outputs": [
    {
     "name": "stdout",
     "output_type": "stream",
     "text": [
      "Minimum timestamp 2018-03-01 00:00:00\n",
      "\n",
      "Maximum timestamp 2018-08-31 23:50:00\n"
     ]
    }
   ],
   "source": [
    "# nilai minimum pada data \n",
    "print('Minimum timestamp', taxi_df.index.min())\n",
    "print()\n",
    "# nilai maximum pada data\n",
    "print('Maximum timestamp', taxi_df.index.max())"
   ]
  },
  {
   "cell_type": "markdown",
   "metadata": {},
   "source": [
    "Selanjutnya kita akan memvisualisasikan data :\n"
   ]
  },
  {
   "cell_type": "code",
   "execution_count": 12,
   "metadata": {},
   "outputs": [
    {
     "data": {
      "image/png": "[encoded data removed]",
      "text/plain": [
       "<Figure size 1080x576 with 1 Axes>"
      ]
     },
     "metadata": {
      "needs_background": "light"
     },
     "output_type": "display_data"
    }
   ],
   "source": [
    "# menampilkan visualisasi dari time serie\n",
    "\n",
    "ts = taxi_df['num_orders']\n",
    "plt.figure(figsize=(15,8))\n",
    "plt.title('Nomor Pesanan Taksi dari Sweet Lift Taxi Company')\n",
    "plt.xlabel('Waktu')\n",
    "plt.ylabel('No. Pesanan')\n",
    "plt.plot(ts);"
   ]
  },
  {
   "cell_type": "markdown",
   "metadata": {},
   "source": [
    "Plot di atas adalah plot time series jumlah pesanan taksi Sweet Lift Taxi Company antara 1 Maret 2018 hingga 31 Agustus 2018. Melihat plot tersebut, kita bisa melihat tren pada data kita. Artinya, kita dapat menggunakan deret waktu untuk memodelkan data dan menghasilkan prakiraan. Kita dapat menganalisis data menggunakan berbagai komponen deret waktu."
   ]
  },
  {
   "cell_type": "markdown",
   "metadata": {},
   "source": [
    "# Resampling dalam 1 jam "
   ]
  },
  {
   "cell_type": "markdown",
   "metadata": {},
   "source": [
    "disini kita akan mengubah interval data timeseries pada kasus kali ini dengan resampling 1 jam "
   ]
  },
  {
   "cell_type": "code",
   "execution_count": 13,
   "metadata": {},
   "outputs": [
    {
     "data": {
      "text/plain": [
       "datetime\n",
       "2018-03-01 00:00:00    124\n",
       "2018-03-01 01:00:00     85\n",
       "2018-03-01 02:00:00     71\n",
       "2018-03-01 03:00:00     66\n",
       "2018-03-01 04:00:00     43\n",
       "                      ... \n",
       "2018-08-31 19:00:00    136\n",
       "2018-08-31 20:00:00    154\n",
       "2018-08-31 21:00:00    159\n",
       "2018-08-31 22:00:00    223\n",
       "2018-08-31 23:00:00    205\n",
       "Freq: H, Name: num_orders, Length: 4416, dtype: int32"
      ]
     },
     "execution_count": 13,
     "metadata": {},
     "output_type": "execute_result"
    }
   ],
   "source": [
    "# resampling data 1 jam \n",
    "ts = ts.resample('1H').sum()\n",
    "ts"
   ]
  },
  {
   "cell_type": "code",
   "execution_count": 14,
   "metadata": {},
   "outputs": [
    {
     "data": {
      "image/png": "[encoded data removed]",
      "text/plain": [
       "<Figure size 432x288 with 4 Axes>"
      ]
     },
     "metadata": {
      "needs_background": "light"
     },
     "output_type": "display_data"
    }
   ],
   "source": [
    "# visualisasi  plot interval data pada 1 jam \n",
    "resampling1H = seasonal_decompose(ts)\n",
    "resampling1H.plot()\n",
    "plt.show()"
   ]
  },
  {
   "cell_type": "markdown",
   "metadata": {},
   "source": [
    "`Kesimpulan`  \n",
    "\n",
    "Kita telah menyiapkan data dengan mengubah tipe data ke tipe yang tepat,  kita juga telah mengurutkan data dan memeriksa apakah diurutkan secara kronologis serta memplot visualisasi dari data yang menunjukkan jumlah pesanan berdasarkan waktu. Kami kemudian mengubah deret waktu menjadi 1 jam. Sekarang kita dapat mulai menganalisis data."
   ]
  },
  {
   "cell_type": "markdown",
   "metadata": {},
   "source": [
    "## Analisis"
   ]
  },
  {
   "cell_type": "markdown",
   "metadata": {},
   "source": [
    "Pada tahap ini kita dapat mengidentifikasi tren dalam data dengan menghaluskan deret waktu dari data awal. kita akan menerapkan `rolling mean` atau `moving average` untuk mengurangi fluktuasi dalam deret waktu."
   ]
  },
  {
   "cell_type": "markdown",
   "metadata": {},
   "source": [
    "# Rolling Mean "
   ]
  },
  {
   "cell_type": "code",
   "execution_count": 15,
   "metadata": {},
   "outputs": [],
   "source": [
    "def plotMovingAverage(series, window, plot_intervals=False, scale=1.96, plot_anomalies=False):\n",
    "    \n",
    "    \"\"\"\n",
    "    seris = dataframe dengan timeseries\n",
    "    window = pergerakan ukuran window\n",
    "    plot_intervals = menampilkan confident interval data\n",
    "    plot_anomalies = menampilkan anomali pada data\n",
    "    \n",
    "    \"\"\"\n",
    "    rolling_mean = series.rolling(window=window).mean()\n",
    "    \n",
    "    plt.figure(figsize=(15,5))\n",
    "    plt.title(\"Rata-rata bergerak(Moving Average)\\n ukuran window = {}\".format(window))\n",
    "    plt.plot(rolling_mean, \"g\", label=\"Tren dari Pergerakan Rata-rata (Rolling Mean)\")\n",
    "    \n",
    "    # Plot confidence intervals untuk mmenghaluskan deret waktu\n",
    "    if plot_intervals:\n",
    "        mae = mean_absolute_error(series[window:], rolling_mean[window:])\n",
    "        deviation = np.std(series[window:] - rolling_mean[window:])\n",
    "        lower_bond = rolling_mean - (mae + scale * deviation)\n",
    "        upper_bond = rolling_mean + (mae + scale * deviation)\n",
    "        \n",
    "        \n",
    "    # memiliki interval, temukan nilai abnormal\n",
    "        if plot_anomalies:\n",
    "            anomalies = pd.DataFrame(index=series.index, columns=series.columns)\n",
    "            anomalies[series<lower_bond] = series[series<lower_bond]\n",
    "            anomalies[series>upper_bond] = series[series>upper_bond]\n",
    "            plr.plot(anomalies, \"ro\", markersize=10)\n",
    "            \n",
    "        \n",
    "    plt.plot(series[window:], label=\"Nilai yang sebenarnya\")\n",
    "    plt.legend(loc=\"upper left\")\n",
    "    plt.grid(True)"
   ]
  },
  {
   "cell_type": "markdown",
   "metadata": {},
   "source": [
    "Jika kita menghaluskan data dengan menggunakan ukuran window 30 untuk resample menjadi `1 Hari`, kita akan memiliki plot di bawah ini. Dari plot tersebut, kita bisa melihat peningkatan jumlah taksi yang dipesan setiap hari."
   ]
  },
  {
   "cell_type": "code",
   "execution_count": 16,
   "metadata": {},
   "outputs": [
    {
     "data": {
      "image/png": "[encoded data removed]",
      "text/plain": [
       "<Figure size 1080x360 with 1 Axes>"
      ]
     },
     "metadata": {
      "needs_background": "light"
     },
     "output_type": "display_data"
    }
   ],
   "source": [
    "# plot rolling mean \n",
    "ts_ = ts.resample('1D').sum()\n",
    "plotMovingAverage(ts_, 30)"
   ]
  },
  {
   "cell_type": "markdown",
   "metadata": {},
   "source": [
    "Dari plot rolling mean di atas untuk ukuran jendela 30, kita dapat mengamati peningkatan yang stabil dalam jumlah pesanan dari April hingga September 2018. Plot deret waktu diatas juga  menunjukkan peningkatan tren, dimana menunjukkan peningkatan pesanan jangka panjang selama periode April hingga September 2018."
   ]
  },
  {
   "cell_type": "markdown",
   "metadata": {},
   "source": [
    "# Tren dan Musiman"
   ]
  },
  {
   "cell_type": "code",
   "execution_count": 17,
   "metadata": {},
   "outputs": [
    {
     "data": {
      "image/png": "[encoded data removed]",
      "text/plain": [
       "<Figure size 1080x720 with 1 Axes>"
      ]
     },
     "metadata": {
      "needs_background": "light"
     },
     "output_type": "display_data"
    }
   ],
   "source": [
    "decomposed = seasonal_decompose(ts_)\n",
    "\n",
    "plt.subplot(311)\n",
    "decomposed.trend.plot(ax=plt.gca(), figsize=(15, 10))\n",
    "plt.title('Tren');"
   ]
  },
  {
   "cell_type": "markdown",
   "metadata": {},
   "source": [
    "Kami mengamati bahwa data menunjukkan tren naik. Dengan menggunakan garis tren, kita dapat membuat peramalan ke masa depan."
   ]
  },
  {
   "cell_type": "code",
   "execution_count": 18,
   "metadata": {},
   "outputs": [
    {
     "data": {
      "image/png": "[encoded data removed]",
      "text/plain": [
       "<Figure size 1080x720 with 1 Axes>"
      ]
     },
     "metadata": {
      "needs_background": "light"
     },
     "output_type": "display_data"
    }
   ],
   "source": [
    "plt.subplot(312)\n",
    "decomposed.seasonal.plot(ax=plt.gca(), figsize=(15, 10))\n",
    "plt.title('Seasonality');"
   ]
  },
  {
   "cell_type": "markdown",
   "metadata": {},
   "source": [
    "Plot di atas menunjukkan fluktuasi periodik dalam deret waktu dalam periode tertentu. Fluktuasi tersebut membentuk pola yang cenderung berulang dari satu periode musim ke musim berikutnya."
   ]
  },
  {
   "cell_type": "code",
   "execution_count": 19,
   "metadata": {
    "scrolled": true
   },
   "outputs": [
    {
     "data": {
      "image/png": "[encoded data removed]",
      "text/plain": [
       "<Figure size 1080x720 with 1 Axes>"
      ]
     },
     "metadata": {
      "needs_background": "light"
     },
     "output_type": "display_data"
    }
   ],
   "source": [
    "plt.subplot(313)\n",
    "decomposed.resid.plot(ax=plt.gca(), figsize=(15, 10))\n",
    "plt.title('Residuals')\n",
    "plt.tight_layout()"
   ]
  },
  {
   "cell_type": "markdown",
   "metadata": {},
   "source": [
    "Mari kita lihat perbedaan pesanan selama akhir pekan tertentu. Kita akan memplot grafik komponen musiman selama dua minggu pertama di bulan Maret 2018."
   ]
  },
  {
   "cell_type": "code",
   "execution_count": 20,
   "metadata": {},
   "outputs": [
    {
     "data": {
      "image/png": "[encoded data removed]",
      "text/plain": [
       "<Figure size 576x432 with 1 Axes>"
      ]
     },
     "metadata": {
      "needs_background": "light"
     },
     "output_type": "display_data"
    }
   ],
   "source": [
    "# plot seasonal pada 15 hari pertama di bulan maret\n",
    "decomposed.seasonal['2018-03-01' : '2018-03-15'].plot(figsize=(8,6))\n",
    "plt.title('plot seasonal pada 15 hari pertama di bulan maret')\n",
    "plt.show()"
   ]
  },
  {
   "cell_type": "markdown",
   "metadata": {},
   "source": [
    "Dari plot di atas, kita dapat mengamati Pemesanan taksi mencapai puncaknya pada tanggal 2 (Senin), 5 (Jumat), 9 (Senin), dan 12 (Jumat) Maret 2018. Pola yang dibentuk oleh fluktuasi ini berulang dari satu periode musim ke periode berikutnya."
   ]
  },
  {
   "cell_type": "markdown",
   "metadata": {},
   "source": [
    "# Autocorrelation dan Partial autocorrelation"
   ]
  },
  {
   "cell_type": "markdown",
   "metadata": {},
   "source": [
    "Kita dapat menerapkan autokorelasi yanng mana merupakan korelasi antara dua nilai dalam deret waktu untuk menemukan pola dalam data kita. Kita akan menggunakan fungsi autokorelasi (ACF) untuk mengidentifikasi kelambatan (lag) mana yang memiliki korelasi signifikan, memahami pola dan properti deret waktu, lalu menggunakan informasi tersebut untuk memodelkan data deret waktu. Dari ACF, kita dapat menilai keacakan dan stasioneritas deret waktu, dan juga menentukan apakah ada tren dan pola musiman."
   ]
  },
  {
   "cell_type": "code",
   "execution_count": 21,
   "metadata": {},
   "outputs": [
    {
     "data": {
      "image/png": "[encoded data removed]",
      "text/plain": [
       "<Figure size 864x432 with 1 Axes>"
      ]
     },
     "metadata": {
      "needs_background": "light"
     },
     "output_type": "display_data"
    }
   ],
   "source": [
    "# plot fungsi autocorrelation \n",
    "fig, ax = plt.subplots(figsize=(12,6))\n",
    "plot_acf(ts_, lags= 40, title= 'Fungsi Autocorrelation untuk pesanan taxi\\n (dengan 5% tingkat signifikansi dari autokorelasi)', ax=ax)\n",
    "plt.ylabel('Autokorelasi')\n",
    "plt.xlabel('Lag')\n",
    "plt.show()"
   ]
  },
  {
   "cell_type": "markdown",
   "metadata": {},
   "source": [
    "Dalam plot ACF, setiap batang mewakili ukuran dan arah korelasi. Kita dapat mengamati bahwa tren hadir dalam deret waktu, kelambatan yang lebih pendek biasanya memiliki korelasi positif yang besar karena pengamatan yang lebih dekat dalam waktu cenderung memiliki nilai yang sama. Korelasi meruncing perlahan saat kelambatan meningkat. Batang yang melintasi garis biru signifikan secara statistik. Dalam plot ACF untuk pesanan taksi, autokorelasi menurun secara perlahan. Lima belas kelambatan pertama sangat signifikan."
   ]
  },
  {
   "cell_type": "code",
   "execution_count": 22,
   "metadata": {},
   "outputs": [
    {
     "data": {
      "image/png": "[encoded data removed]",
      "text/plain": [
       "<Figure size 864x432 with 1 Axes>"
      ]
     },
     "metadata": {
      "needs_background": "light"
     },
     "output_type": "display_data"
    }
   ],
   "source": [
    "# plot dar partial autocorrelation function\n",
    "fig, ax = plt.subplots(figsize=(12, 6))\n",
    "plot_pacf(ts_, lags = 40, title='Fungsi autokorelasi parsial untuk pesanan taksi', ax=ax)\n",
    "# Anotasi PACF di k\n",
    "ax.annotate('PACF di k = 0', \n",
    "            xy=(0.5, 1.0), \n",
    "            xycoords='data', \n",
    "            fontsize=10, \n",
    "            xytext=(50, 0),\n",
    "            textcoords='offset points', \n",
    "            arrowprops=dict(arrowstyle='->', color='red'), \n",
    "            horizontalalignment='center',  \n",
    "            verticalalignment='center')\n",
    "ax.annotate(\n",
    "    'PACF di k = 1', \n",
    "    xy=(1.5, 0.9), \n",
    "    xycoords='data', \n",
    "    fontsize=10, \n",
    "    xytext=(50, 0), \n",
    "    textcoords='offset points', \n",
    "    arrowprops=dict(arrowstyle='->', color='red'), \n",
    "    horizontalalignment='center',  \n",
    "    verticalalignment='center')\n",
    "ax.annotate(\n",
    "    'PACF di k = 2', \n",
    "    xy=(2.5, 0.35), \n",
    "    xycoords='data', \n",
    "    fontsize=10, \n",
    "    xytext=(50, 0), \n",
    "    textcoords='offset points', \n",
    "    arrowprops=dict(arrowstyle='->', color='red'), \n",
    "    horizontalalignment='center',  \n",
    "    verticalalignment='center')\n",
    "plt.ylabel('Partial Autocorrelation')\n",
    "plt.xlabel('Lag')\n",
    "plt.show()"
   ]
  },
  {
   "cell_type": "markdown",
   "metadata": {},
   "source": [
    "PACF pada Lag 0 adalah 1,0. PACF pada Lag 1 adalah 0,9. Nilai PACF pada Lag 2 adalah 0,3. Pada grafik, autokorelasi parsial untuk kelambatan 0, 1 dan 2 secara statistik signifikan. Kelambatan berikutnya hampir signifikan. Dengan menilai pola autokorelasi dan autokorelasi parsial dalam data, kita dapat memahami sifat deret waktu kita dan memodelkannya."
   ]
  },
  {
   "cell_type": "markdown",
   "metadata": {},
   "source": [
    "## Pelatihan"
   ]
  },
  {
   "cell_type": "markdown",
   "metadata": {},
   "source": [
    "Pada tahap ini kita akan membuat fitur baru untuk data deret waktu. Kita dapat membuat fitur bulan, hari, hari dalam seminggu dan jam dari kolom tanggal dan waktu. Kami juga akan membuat kelambatan (lag)"
   ]
  },
  {
   "cell_type": "code",
   "execution_count": 23,
   "metadata": {},
   "outputs": [],
   "source": [
    "# fungsi untuk membuat features baru\n",
    "def make_features(data, max_lag, rolling_mean_size):\n",
    "    data['month']     = data.index.month\n",
    "    data['day']       = data.index.day\n",
    "    data['dayofweek'] = data.index.dayofweek\n",
    "    data['hour']      = data.index.hour\n",
    "    \n",
    "    for lag in range(1, max_lag + 1):\n",
    "        data['lag_{}'.format(lag)] = data['num_orders'].shift(lag)\n",
    "        \n",
    "    data['rolling_mean'] = data['num_orders'].shift().rolling(rolling_mean_size).mean()"
   ]
  },
  {
   "cell_type": "code",
   "execution_count": 24,
   "metadata": {},
   "outputs": [
    {
     "data": {
      "text/html": [
       "<div>\n",
       "<style scoped>\n",
       "    .dataframe tbody tr th:only-of-type {\n",
       "        vertical-align: middle;\n",
       "    }\n",
       "\n",
       "    .dataframe tbody tr th {\n",
       "        vertical-align: top;\n",
       "    }\n",
       "\n",
       "    .dataframe thead th {\n",
       "        text-align: right;\n",
       "    }\n",
       "</style>\n",
       "<table border=\"1\" class=\"dataframe\">\n",
       "  <thead>\n",
       "    <tr style=\"text-align: right;\">\n",
       "      <th></th>\n",
       "      <th>num_orders</th>\n",
       "      <th>month</th>\n",
       "      <th>day</th>\n",
       "      <th>dayofweek</th>\n",
       "      <th>hour</th>\n",
       "      <th>lag_1</th>\n",
       "      <th>lag_2</th>\n",
       "      <th>lag_3</th>\n",
       "      <th>lag_4</th>\n",
       "      <th>lag_5</th>\n",
       "      <th>lag_6</th>\n",
       "      <th>rolling_mean</th>\n",
       "    </tr>\n",
       "    <tr>\n",
       "      <th>datetime</th>\n",
       "      <th></th>\n",
       "      <th></th>\n",
       "      <th></th>\n",
       "      <th></th>\n",
       "      <th></th>\n",
       "      <th></th>\n",
       "      <th></th>\n",
       "      <th></th>\n",
       "      <th></th>\n",
       "      <th></th>\n",
       "      <th></th>\n",
       "      <th></th>\n",
       "    </tr>\n",
       "  </thead>\n",
       "  <tbody>\n",
       "    <tr>\n",
       "      <th>2018-03-01 00:00:00</th>\n",
       "      <td>124</td>\n",
       "      <td>3</td>\n",
       "      <td>1</td>\n",
       "      <td>3</td>\n",
       "      <td>0</td>\n",
       "      <td>NaN</td>\n",
       "      <td>NaN</td>\n",
       "      <td>NaN</td>\n",
       "      <td>NaN</td>\n",
       "      <td>NaN</td>\n",
       "      <td>NaN</td>\n",
       "      <td>NaN</td>\n",
       "    </tr>\n",
       "    <tr>\n",
       "      <th>2018-03-01 01:00:00</th>\n",
       "      <td>85</td>\n",
       "      <td>3</td>\n",
       "      <td>1</td>\n",
       "      <td>3</td>\n",
       "      <td>1</td>\n",
       "      <td>124.0</td>\n",
       "      <td>NaN</td>\n",
       "      <td>NaN</td>\n",
       "      <td>NaN</td>\n",
       "      <td>NaN</td>\n",
       "      <td>NaN</td>\n",
       "      <td>NaN</td>\n",
       "    </tr>\n",
       "    <tr>\n",
       "      <th>2018-03-01 02:00:00</th>\n",
       "      <td>71</td>\n",
       "      <td>3</td>\n",
       "      <td>1</td>\n",
       "      <td>3</td>\n",
       "      <td>2</td>\n",
       "      <td>85.0</td>\n",
       "      <td>124.0</td>\n",
       "      <td>NaN</td>\n",
       "      <td>NaN</td>\n",
       "      <td>NaN</td>\n",
       "      <td>NaN</td>\n",
       "      <td>NaN</td>\n",
       "    </tr>\n",
       "    <tr>\n",
       "      <th>2018-03-01 03:00:00</th>\n",
       "      <td>66</td>\n",
       "      <td>3</td>\n",
       "      <td>1</td>\n",
       "      <td>3</td>\n",
       "      <td>3</td>\n",
       "      <td>71.0</td>\n",
       "      <td>85.0</td>\n",
       "      <td>124.0</td>\n",
       "      <td>NaN</td>\n",
       "      <td>NaN</td>\n",
       "      <td>NaN</td>\n",
       "      <td>NaN</td>\n",
       "    </tr>\n",
       "    <tr>\n",
       "      <th>2018-03-01 04:00:00</th>\n",
       "      <td>43</td>\n",
       "      <td>3</td>\n",
       "      <td>1</td>\n",
       "      <td>3</td>\n",
       "      <td>4</td>\n",
       "      <td>66.0</td>\n",
       "      <td>71.0</td>\n",
       "      <td>85.0</td>\n",
       "      <td>124.0</td>\n",
       "      <td>NaN</td>\n",
       "      <td>NaN</td>\n",
       "      <td>NaN</td>\n",
       "    </tr>\n",
       "    <tr>\n",
       "      <th>2018-03-01 05:00:00</th>\n",
       "      <td>6</td>\n",
       "      <td>3</td>\n",
       "      <td>1</td>\n",
       "      <td>3</td>\n",
       "      <td>5</td>\n",
       "      <td>43.0</td>\n",
       "      <td>66.0</td>\n",
       "      <td>71.0</td>\n",
       "      <td>85.0</td>\n",
       "      <td>124.0</td>\n",
       "      <td>NaN</td>\n",
       "      <td>NaN</td>\n",
       "    </tr>\n",
       "    <tr>\n",
       "      <th>2018-03-01 06:00:00</th>\n",
       "      <td>12</td>\n",
       "      <td>3</td>\n",
       "      <td>1</td>\n",
       "      <td>3</td>\n",
       "      <td>6</td>\n",
       "      <td>6.0</td>\n",
       "      <td>43.0</td>\n",
       "      <td>66.0</td>\n",
       "      <td>71.0</td>\n",
       "      <td>85.0</td>\n",
       "      <td>124.0</td>\n",
       "      <td>NaN</td>\n",
       "    </tr>\n",
       "    <tr>\n",
       "      <th>2018-03-01 07:00:00</th>\n",
       "      <td>15</td>\n",
       "      <td>3</td>\n",
       "      <td>1</td>\n",
       "      <td>3</td>\n",
       "      <td>7</td>\n",
       "      <td>12.0</td>\n",
       "      <td>6.0</td>\n",
       "      <td>43.0</td>\n",
       "      <td>66.0</td>\n",
       "      <td>71.0</td>\n",
       "      <td>85.0</td>\n",
       "      <td>58.142857</td>\n",
       "    </tr>\n",
       "    <tr>\n",
       "      <th>2018-03-01 08:00:00</th>\n",
       "      <td>34</td>\n",
       "      <td>3</td>\n",
       "      <td>1</td>\n",
       "      <td>3</td>\n",
       "      <td>8</td>\n",
       "      <td>15.0</td>\n",
       "      <td>12.0</td>\n",
       "      <td>6.0</td>\n",
       "      <td>43.0</td>\n",
       "      <td>66.0</td>\n",
       "      <td>71.0</td>\n",
       "      <td>42.571429</td>\n",
       "    </tr>\n",
       "    <tr>\n",
       "      <th>2018-03-01 09:00:00</th>\n",
       "      <td>69</td>\n",
       "      <td>3</td>\n",
       "      <td>1</td>\n",
       "      <td>3</td>\n",
       "      <td>9</td>\n",
       "      <td>34.0</td>\n",
       "      <td>15.0</td>\n",
       "      <td>12.0</td>\n",
       "      <td>6.0</td>\n",
       "      <td>43.0</td>\n",
       "      <td>66.0</td>\n",
       "      <td>35.285714</td>\n",
       "    </tr>\n",
       "    <tr>\n",
       "      <th>2018-03-01 10:00:00</th>\n",
       "      <td>64</td>\n",
       "      <td>3</td>\n",
       "      <td>1</td>\n",
       "      <td>3</td>\n",
       "      <td>10</td>\n",
       "      <td>69.0</td>\n",
       "      <td>34.0</td>\n",
       "      <td>15.0</td>\n",
       "      <td>12.0</td>\n",
       "      <td>6.0</td>\n",
       "      <td>43.0</td>\n",
       "      <td>35.000000</td>\n",
       "    </tr>\n",
       "    <tr>\n",
       "      <th>2018-03-01 11:00:00</th>\n",
       "      <td>96</td>\n",
       "      <td>3</td>\n",
       "      <td>1</td>\n",
       "      <td>3</td>\n",
       "      <td>11</td>\n",
       "      <td>64.0</td>\n",
       "      <td>69.0</td>\n",
       "      <td>34.0</td>\n",
       "      <td>15.0</td>\n",
       "      <td>12.0</td>\n",
       "      <td>6.0</td>\n",
       "      <td>34.714286</td>\n",
       "    </tr>\n",
       "    <tr>\n",
       "      <th>2018-03-01 12:00:00</th>\n",
       "      <td>30</td>\n",
       "      <td>3</td>\n",
       "      <td>1</td>\n",
       "      <td>3</td>\n",
       "      <td>12</td>\n",
       "      <td>96.0</td>\n",
       "      <td>64.0</td>\n",
       "      <td>69.0</td>\n",
       "      <td>34.0</td>\n",
       "      <td>15.0</td>\n",
       "      <td>12.0</td>\n",
       "      <td>42.285714</td>\n",
       "    </tr>\n",
       "    <tr>\n",
       "      <th>2018-03-01 13:00:00</th>\n",
       "      <td>32</td>\n",
       "      <td>3</td>\n",
       "      <td>1</td>\n",
       "      <td>3</td>\n",
       "      <td>13</td>\n",
       "      <td>30.0</td>\n",
       "      <td>96.0</td>\n",
       "      <td>64.0</td>\n",
       "      <td>69.0</td>\n",
       "      <td>34.0</td>\n",
       "      <td>15.0</td>\n",
       "      <td>45.714286</td>\n",
       "    </tr>\n",
       "    <tr>\n",
       "      <th>2018-03-01 14:00:00</th>\n",
       "      <td>48</td>\n",
       "      <td>3</td>\n",
       "      <td>1</td>\n",
       "      <td>3</td>\n",
       "      <td>14</td>\n",
       "      <td>32.0</td>\n",
       "      <td>30.0</td>\n",
       "      <td>96.0</td>\n",
       "      <td>64.0</td>\n",
       "      <td>69.0</td>\n",
       "      <td>34.0</td>\n",
       "      <td>48.571429</td>\n",
       "    </tr>\n",
       "    <tr>\n",
       "      <th>2018-03-01 15:00:00</th>\n",
       "      <td>66</td>\n",
       "      <td>3</td>\n",
       "      <td>1</td>\n",
       "      <td>3</td>\n",
       "      <td>15</td>\n",
       "      <td>48.0</td>\n",
       "      <td>32.0</td>\n",
       "      <td>30.0</td>\n",
       "      <td>96.0</td>\n",
       "      <td>64.0</td>\n",
       "      <td>69.0</td>\n",
       "      <td>53.285714</td>\n",
       "    </tr>\n",
       "    <tr>\n",
       "      <th>2018-03-01 16:00:00</th>\n",
       "      <td>43</td>\n",
       "      <td>3</td>\n",
       "      <td>1</td>\n",
       "      <td>3</td>\n",
       "      <td>16</td>\n",
       "      <td>66.0</td>\n",
       "      <td>48.0</td>\n",
       "      <td>32.0</td>\n",
       "      <td>30.0</td>\n",
       "      <td>96.0</td>\n",
       "      <td>64.0</td>\n",
       "      <td>57.857143</td>\n",
       "    </tr>\n",
       "    <tr>\n",
       "      <th>2018-03-01 17:00:00</th>\n",
       "      <td>44</td>\n",
       "      <td>3</td>\n",
       "      <td>1</td>\n",
       "      <td>3</td>\n",
       "      <td>17</td>\n",
       "      <td>43.0</td>\n",
       "      <td>66.0</td>\n",
       "      <td>48.0</td>\n",
       "      <td>32.0</td>\n",
       "      <td>30.0</td>\n",
       "      <td>96.0</td>\n",
       "      <td>54.142857</td>\n",
       "    </tr>\n",
       "    <tr>\n",
       "      <th>2018-03-01 18:00:00</th>\n",
       "      <td>73</td>\n",
       "      <td>3</td>\n",
       "      <td>1</td>\n",
       "      <td>3</td>\n",
       "      <td>18</td>\n",
       "      <td>44.0</td>\n",
       "      <td>43.0</td>\n",
       "      <td>66.0</td>\n",
       "      <td>48.0</td>\n",
       "      <td>32.0</td>\n",
       "      <td>30.0</td>\n",
       "      <td>51.285714</td>\n",
       "    </tr>\n",
       "    <tr>\n",
       "      <th>2018-03-01 19:00:00</th>\n",
       "      <td>45</td>\n",
       "      <td>3</td>\n",
       "      <td>1</td>\n",
       "      <td>3</td>\n",
       "      <td>19</td>\n",
       "      <td>73.0</td>\n",
       "      <td>44.0</td>\n",
       "      <td>43.0</td>\n",
       "      <td>66.0</td>\n",
       "      <td>48.0</td>\n",
       "      <td>32.0</td>\n",
       "      <td>48.000000</td>\n",
       "    </tr>\n",
       "    <tr>\n",
       "      <th>2018-03-01 20:00:00</th>\n",
       "      <td>61</td>\n",
       "      <td>3</td>\n",
       "      <td>1</td>\n",
       "      <td>3</td>\n",
       "      <td>20</td>\n",
       "      <td>45.0</td>\n",
       "      <td>73.0</td>\n",
       "      <td>44.0</td>\n",
       "      <td>43.0</td>\n",
       "      <td>66.0</td>\n",
       "      <td>48.0</td>\n",
       "      <td>50.142857</td>\n",
       "    </tr>\n",
       "    <tr>\n",
       "      <th>2018-03-01 21:00:00</th>\n",
       "      <td>66</td>\n",
       "      <td>3</td>\n",
       "      <td>1</td>\n",
       "      <td>3</td>\n",
       "      <td>21</td>\n",
       "      <td>61.0</td>\n",
       "      <td>45.0</td>\n",
       "      <td>73.0</td>\n",
       "      <td>44.0</td>\n",
       "      <td>43.0</td>\n",
       "      <td>66.0</td>\n",
       "      <td>54.285714</td>\n",
       "    </tr>\n",
       "    <tr>\n",
       "      <th>2018-03-01 22:00:00</th>\n",
       "      <td>113</td>\n",
       "      <td>3</td>\n",
       "      <td>1</td>\n",
       "      <td>3</td>\n",
       "      <td>22</td>\n",
       "      <td>66.0</td>\n",
       "      <td>61.0</td>\n",
       "      <td>45.0</td>\n",
       "      <td>73.0</td>\n",
       "      <td>44.0</td>\n",
       "      <td>43.0</td>\n",
       "      <td>56.857143</td>\n",
       "    </tr>\n",
       "    <tr>\n",
       "      <th>2018-03-01 23:00:00</th>\n",
       "      <td>58</td>\n",
       "      <td>3</td>\n",
       "      <td>1</td>\n",
       "      <td>3</td>\n",
       "      <td>23</td>\n",
       "      <td>113.0</td>\n",
       "      <td>66.0</td>\n",
       "      <td>61.0</td>\n",
       "      <td>45.0</td>\n",
       "      <td>73.0</td>\n",
       "      <td>44.0</td>\n",
       "      <td>63.571429</td>\n",
       "    </tr>\n",
       "    <tr>\n",
       "      <th>2018-03-02 00:00:00</th>\n",
       "      <td>90</td>\n",
       "      <td>3</td>\n",
       "      <td>2</td>\n",
       "      <td>4</td>\n",
       "      <td>0</td>\n",
       "      <td>58.0</td>\n",
       "      <td>113.0</td>\n",
       "      <td>66.0</td>\n",
       "      <td>61.0</td>\n",
       "      <td>45.0</td>\n",
       "      <td>73.0</td>\n",
       "      <td>65.714286</td>\n",
       "    </tr>\n",
       "    <tr>\n",
       "      <th>2018-03-02 01:00:00</th>\n",
       "      <td>120</td>\n",
       "      <td>3</td>\n",
       "      <td>2</td>\n",
       "      <td>4</td>\n",
       "      <td>1</td>\n",
       "      <td>90.0</td>\n",
       "      <td>58.0</td>\n",
       "      <td>113.0</td>\n",
       "      <td>66.0</td>\n",
       "      <td>61.0</td>\n",
       "      <td>45.0</td>\n",
       "      <td>72.285714</td>\n",
       "    </tr>\n",
       "    <tr>\n",
       "      <th>2018-03-02 02:00:00</th>\n",
       "      <td>75</td>\n",
       "      <td>3</td>\n",
       "      <td>2</td>\n",
       "      <td>4</td>\n",
       "      <td>2</td>\n",
       "      <td>120.0</td>\n",
       "      <td>90.0</td>\n",
       "      <td>58.0</td>\n",
       "      <td>113.0</td>\n",
       "      <td>66.0</td>\n",
       "      <td>61.0</td>\n",
       "      <td>79.000000</td>\n",
       "    </tr>\n",
       "    <tr>\n",
       "      <th>2018-03-02 03:00:00</th>\n",
       "      <td>64</td>\n",
       "      <td>3</td>\n",
       "      <td>2</td>\n",
       "      <td>4</td>\n",
       "      <td>3</td>\n",
       "      <td>75.0</td>\n",
       "      <td>120.0</td>\n",
       "      <td>90.0</td>\n",
       "      <td>58.0</td>\n",
       "      <td>113.0</td>\n",
       "      <td>66.0</td>\n",
       "      <td>83.285714</td>\n",
       "    </tr>\n",
       "    <tr>\n",
       "      <th>2018-03-02 04:00:00</th>\n",
       "      <td>20</td>\n",
       "      <td>3</td>\n",
       "      <td>2</td>\n",
       "      <td>4</td>\n",
       "      <td>4</td>\n",
       "      <td>64.0</td>\n",
       "      <td>75.0</td>\n",
       "      <td>120.0</td>\n",
       "      <td>90.0</td>\n",
       "      <td>58.0</td>\n",
       "      <td>113.0</td>\n",
       "      <td>83.714286</td>\n",
       "    </tr>\n",
       "    <tr>\n",
       "      <th>2018-03-02 05:00:00</th>\n",
       "      <td>11</td>\n",
       "      <td>3</td>\n",
       "      <td>2</td>\n",
       "      <td>4</td>\n",
       "      <td>5</td>\n",
       "      <td>20.0</td>\n",
       "      <td>64.0</td>\n",
       "      <td>75.0</td>\n",
       "      <td>120.0</td>\n",
       "      <td>90.0</td>\n",
       "      <td>58.0</td>\n",
       "      <td>77.142857</td>\n",
       "    </tr>\n",
       "  </tbody>\n",
       "</table>\n",
       "</div>"
      ],
      "text/plain": [
       "                     num_orders  month  day  dayofweek  hour  lag_1  lag_2  \\\n",
       "datetime                                                                     \n",
       "2018-03-01 00:00:00         124      3    1          3     0    NaN    NaN   \n",
       "2018-03-01 01:00:00          85      3    1          3     1  124.0    NaN   \n",
       "2018-03-01 02:00:00          71      3    1          3     2   85.0  124.0   \n",
       "2018-03-01 03:00:00          66      3    1          3     3   71.0   85.0   \n",
       "2018-03-01 04:00:00          43      3    1          3     4   66.0   71.0   \n",
       "2018-03-01 05:00:00           6      3    1          3     5   43.0   66.0   \n",
       "2018-03-01 06:00:00          12      3    1          3     6    6.0   43.0   \n",
       "2018-03-01 07:00:00          15      3    1          3     7   12.0    6.0   \n",
       "2018-03-01 08:00:00          34      3    1          3     8   15.0   12.0   \n",
       "2018-03-01 09:00:00          69      3    1          3     9   34.0   15.0   \n",
       "2018-03-01 10:00:00          64      3    1          3    10   69.0   34.0   \n",
       "2018-03-01 11:00:00          96      3    1          3    11   64.0   69.0   \n",
       "2018-03-01 12:00:00          30      3    1          3    12   96.0   64.0   \n",
       "2018-03-01 13:00:00          32      3    1          3    13   30.0   96.0   \n",
       "2018-03-01 14:00:00          48      3    1          3    14   32.0   30.0   \n",
       "2018-03-01 15:00:00          66      3    1          3    15   48.0   32.0   \n",
       "2018-03-01 16:00:00          43      3    1          3    16   66.0   48.0   \n",
       "2018-03-01 17:00:00          44      3    1          3    17   43.0   66.0   \n",
       "2018-03-01 18:00:00          73      3    1          3    18   44.0   43.0   \n",
       "2018-03-01 19:00:00          45      3    1          3    19   73.0   44.0   \n",
       "2018-03-01 20:00:00          61      3    1          3    20   45.0   73.0   \n",
       "2018-03-01 21:00:00          66      3    1          3    21   61.0   45.0   \n",
       "2018-03-01 22:00:00         113      3    1          3    22   66.0   61.0   \n",
       "2018-03-01 23:00:00          58      3    1          3    23  113.0   66.0   \n",
       "2018-03-02 00:00:00          90      3    2          4     0   58.0  113.0   \n",
       "2018-03-02 01:00:00         120      3    2          4     1   90.0   58.0   \n",
       "2018-03-02 02:00:00          75      3    2          4     2  120.0   90.0   \n",
       "2018-03-02 03:00:00          64      3    2          4     3   75.0  120.0   \n",
       "2018-03-02 04:00:00          20      3    2          4     4   64.0   75.0   \n",
       "2018-03-02 05:00:00          11      3    2          4     5   20.0   64.0   \n",
       "\n",
       "                     lag_3  lag_4  lag_5  lag_6  rolling_mean  \n",
       "datetime                                                       \n",
       "2018-03-01 00:00:00    NaN    NaN    NaN    NaN           NaN  \n",
       "2018-03-01 01:00:00    NaN    NaN    NaN    NaN           NaN  \n",
       "2018-03-01 02:00:00    NaN    NaN    NaN    NaN           NaN  \n",
       "2018-03-01 03:00:00  124.0    NaN    NaN    NaN           NaN  \n",
       "2018-03-01 04:00:00   85.0  124.0    NaN    NaN           NaN  \n",
       "2018-03-01 05:00:00   71.0   85.0  124.0    NaN           NaN  \n",
       "2018-03-01 06:00:00   66.0   71.0   85.0  124.0           NaN  \n",
       "2018-03-01 07:00:00   43.0   66.0   71.0   85.0     58.142857  \n",
       "2018-03-01 08:00:00    6.0   43.0   66.0   71.0     42.571429  \n",
       "2018-03-01 09:00:00   12.0    6.0   43.0   66.0     35.285714  \n",
       "2018-03-01 10:00:00   15.0   12.0    6.0   43.0     35.000000  \n",
       "2018-03-01 11:00:00   34.0   15.0   12.0    6.0     34.714286  \n",
       "2018-03-01 12:00:00   69.0   34.0   15.0   12.0     42.285714  \n",
       "2018-03-01 13:00:00   64.0   69.0   34.0   15.0     45.714286  \n",
       "2018-03-01 14:00:00   96.0   64.0   69.0   34.0     48.571429  \n",
       "2018-03-01 15:00:00   30.0   96.0   64.0   69.0     53.285714  \n",
       "2018-03-01 16:00:00   32.0   30.0   96.0   64.0     57.857143  \n",
       "2018-03-01 17:00:00   48.0   32.0   30.0   96.0     54.142857  \n",
       "2018-03-01 18:00:00   66.0   48.0   32.0   30.0     51.285714  \n",
       "2018-03-01 19:00:00   43.0   66.0   48.0   32.0     48.000000  \n",
       "2018-03-01 20:00:00   44.0   43.0   66.0   48.0     50.142857  \n",
       "2018-03-01 21:00:00   73.0   44.0   43.0   66.0     54.285714  \n",
       "2018-03-01 22:00:00   45.0   73.0   44.0   43.0     56.857143  \n",
       "2018-03-01 23:00:00   61.0   45.0   73.0   44.0     63.571429  \n",
       "2018-03-02 00:00:00   66.0   61.0   45.0   73.0     65.714286  \n",
       "2018-03-02 01:00:00  113.0   66.0   61.0   45.0     72.285714  \n",
       "2018-03-02 02:00:00   58.0  113.0   66.0   61.0     79.000000  \n",
       "2018-03-02 03:00:00   90.0   58.0  113.0   66.0     83.285714  \n",
       "2018-03-02 04:00:00  120.0   90.0   58.0  113.0     83.714286  \n",
       "2018-03-02 05:00:00   75.0  120.0   90.0   58.0     77.142857  "
      ]
     },
     "execution_count": 24,
     "metadata": {},
     "output_type": "execute_result"
    }
   ],
   "source": [
    "# membuat features baru\n",
    "ts = pd.DataFrame(ts)\n",
    "make_features(ts,6,7)\n",
    "ts.head(30)"
   ]
  },
  {
   "cell_type": "code",
   "execution_count": 25,
   "metadata": {},
   "outputs": [
    {
     "name": "stdout",
     "output_type": "stream",
     "text": [
      "Dataset Time Series Mempunyai 4409 baris dan 12 features\n",
      "\n"
     ]
    },
    {
     "data": {
      "text/html": [
       "<div>\n",
       "<style scoped>\n",
       "    .dataframe tbody tr th:only-of-type {\n",
       "        vertical-align: middle;\n",
       "    }\n",
       "\n",
       "    .dataframe tbody tr th {\n",
       "        vertical-align: top;\n",
       "    }\n",
       "\n",
       "    .dataframe thead th {\n",
       "        text-align: right;\n",
       "    }\n",
       "</style>\n",
       "<table border=\"1\" class=\"dataframe\">\n",
       "  <thead>\n",
       "    <tr style=\"text-align: right;\">\n",
       "      <th></th>\n",
       "      <th>num_orders</th>\n",
       "      <th>month</th>\n",
       "      <th>day</th>\n",
       "      <th>dayofweek</th>\n",
       "      <th>hour</th>\n",
       "      <th>lag_1</th>\n",
       "      <th>lag_2</th>\n",
       "      <th>lag_3</th>\n",
       "      <th>lag_4</th>\n",
       "      <th>lag_5</th>\n",
       "      <th>lag_6</th>\n",
       "      <th>rolling_mean</th>\n",
       "    </tr>\n",
       "    <tr>\n",
       "      <th>datetime</th>\n",
       "      <th></th>\n",
       "      <th></th>\n",
       "      <th></th>\n",
       "      <th></th>\n",
       "      <th></th>\n",
       "      <th></th>\n",
       "      <th></th>\n",
       "      <th></th>\n",
       "      <th></th>\n",
       "      <th></th>\n",
       "      <th></th>\n",
       "      <th></th>\n",
       "    </tr>\n",
       "  </thead>\n",
       "  <tbody>\n",
       "    <tr>\n",
       "      <th>2018-03-01 07:00:00</th>\n",
       "      <td>15</td>\n",
       "      <td>3</td>\n",
       "      <td>1</td>\n",
       "      <td>3</td>\n",
       "      <td>7</td>\n",
       "      <td>12.0</td>\n",
       "      <td>6.0</td>\n",
       "      <td>43.0</td>\n",
       "      <td>66.0</td>\n",
       "      <td>71.0</td>\n",
       "      <td>85.0</td>\n",
       "      <td>58.142857</td>\n",
       "    </tr>\n",
       "    <tr>\n",
       "      <th>2018-03-01 08:00:00</th>\n",
       "      <td>34</td>\n",
       "      <td>3</td>\n",
       "      <td>1</td>\n",
       "      <td>3</td>\n",
       "      <td>8</td>\n",
       "      <td>15.0</td>\n",
       "      <td>12.0</td>\n",
       "      <td>6.0</td>\n",
       "      <td>43.0</td>\n",
       "      <td>66.0</td>\n",
       "      <td>71.0</td>\n",
       "      <td>42.571429</td>\n",
       "    </tr>\n",
       "    <tr>\n",
       "      <th>2018-03-01 09:00:00</th>\n",
       "      <td>69</td>\n",
       "      <td>3</td>\n",
       "      <td>1</td>\n",
       "      <td>3</td>\n",
       "      <td>9</td>\n",
       "      <td>34.0</td>\n",
       "      <td>15.0</td>\n",
       "      <td>12.0</td>\n",
       "      <td>6.0</td>\n",
       "      <td>43.0</td>\n",
       "      <td>66.0</td>\n",
       "      <td>35.285714</td>\n",
       "    </tr>\n",
       "    <tr>\n",
       "      <th>2018-03-01 10:00:00</th>\n",
       "      <td>64</td>\n",
       "      <td>3</td>\n",
       "      <td>1</td>\n",
       "      <td>3</td>\n",
       "      <td>10</td>\n",
       "      <td>69.0</td>\n",
       "      <td>34.0</td>\n",
       "      <td>15.0</td>\n",
       "      <td>12.0</td>\n",
       "      <td>6.0</td>\n",
       "      <td>43.0</td>\n",
       "      <td>35.000000</td>\n",
       "    </tr>\n",
       "    <tr>\n",
       "      <th>2018-03-01 11:00:00</th>\n",
       "      <td>96</td>\n",
       "      <td>3</td>\n",
       "      <td>1</td>\n",
       "      <td>3</td>\n",
       "      <td>11</td>\n",
       "      <td>64.0</td>\n",
       "      <td>69.0</td>\n",
       "      <td>34.0</td>\n",
       "      <td>15.0</td>\n",
       "      <td>12.0</td>\n",
       "      <td>6.0</td>\n",
       "      <td>34.714286</td>\n",
       "    </tr>\n",
       "    <tr>\n",
       "      <th>2018-03-01 12:00:00</th>\n",
       "      <td>30</td>\n",
       "      <td>3</td>\n",
       "      <td>1</td>\n",
       "      <td>3</td>\n",
       "      <td>12</td>\n",
       "      <td>96.0</td>\n",
       "      <td>64.0</td>\n",
       "      <td>69.0</td>\n",
       "      <td>34.0</td>\n",
       "      <td>15.0</td>\n",
       "      <td>12.0</td>\n",
       "      <td>42.285714</td>\n",
       "    </tr>\n",
       "    <tr>\n",
       "      <th>2018-03-01 13:00:00</th>\n",
       "      <td>32</td>\n",
       "      <td>3</td>\n",
       "      <td>1</td>\n",
       "      <td>3</td>\n",
       "      <td>13</td>\n",
       "      <td>30.0</td>\n",
       "      <td>96.0</td>\n",
       "      <td>64.0</td>\n",
       "      <td>69.0</td>\n",
       "      <td>34.0</td>\n",
       "      <td>15.0</td>\n",
       "      <td>45.714286</td>\n",
       "    </tr>\n",
       "    <tr>\n",
       "      <th>2018-03-01 14:00:00</th>\n",
       "      <td>48</td>\n",
       "      <td>3</td>\n",
       "      <td>1</td>\n",
       "      <td>3</td>\n",
       "      <td>14</td>\n",
       "      <td>32.0</td>\n",
       "      <td>30.0</td>\n",
       "      <td>96.0</td>\n",
       "      <td>64.0</td>\n",
       "      <td>69.0</td>\n",
       "      <td>34.0</td>\n",
       "      <td>48.571429</td>\n",
       "    </tr>\n",
       "    <tr>\n",
       "      <th>2018-03-01 15:00:00</th>\n",
       "      <td>66</td>\n",
       "      <td>3</td>\n",
       "      <td>1</td>\n",
       "      <td>3</td>\n",
       "      <td>15</td>\n",
       "      <td>48.0</td>\n",
       "      <td>32.0</td>\n",
       "      <td>30.0</td>\n",
       "      <td>96.0</td>\n",
       "      <td>64.0</td>\n",
       "      <td>69.0</td>\n",
       "      <td>53.285714</td>\n",
       "    </tr>\n",
       "    <tr>\n",
       "      <th>2018-03-01 16:00:00</th>\n",
       "      <td>43</td>\n",
       "      <td>3</td>\n",
       "      <td>1</td>\n",
       "      <td>3</td>\n",
       "      <td>16</td>\n",
       "      <td>66.0</td>\n",
       "      <td>48.0</td>\n",
       "      <td>32.0</td>\n",
       "      <td>30.0</td>\n",
       "      <td>96.0</td>\n",
       "      <td>64.0</td>\n",
       "      <td>57.857143</td>\n",
       "    </tr>\n",
       "    <tr>\n",
       "      <th>2018-03-01 17:00:00</th>\n",
       "      <td>44</td>\n",
       "      <td>3</td>\n",
       "      <td>1</td>\n",
       "      <td>3</td>\n",
       "      <td>17</td>\n",
       "      <td>43.0</td>\n",
       "      <td>66.0</td>\n",
       "      <td>48.0</td>\n",
       "      <td>32.0</td>\n",
       "      <td>30.0</td>\n",
       "      <td>96.0</td>\n",
       "      <td>54.142857</td>\n",
       "    </tr>\n",
       "    <tr>\n",
       "      <th>2018-03-01 18:00:00</th>\n",
       "      <td>73</td>\n",
       "      <td>3</td>\n",
       "      <td>1</td>\n",
       "      <td>3</td>\n",
       "      <td>18</td>\n",
       "      <td>44.0</td>\n",
       "      <td>43.0</td>\n",
       "      <td>66.0</td>\n",
       "      <td>48.0</td>\n",
       "      <td>32.0</td>\n",
       "      <td>30.0</td>\n",
       "      <td>51.285714</td>\n",
       "    </tr>\n",
       "    <tr>\n",
       "      <th>2018-03-01 19:00:00</th>\n",
       "      <td>45</td>\n",
       "      <td>3</td>\n",
       "      <td>1</td>\n",
       "      <td>3</td>\n",
       "      <td>19</td>\n",
       "      <td>73.0</td>\n",
       "      <td>44.0</td>\n",
       "      <td>43.0</td>\n",
       "      <td>66.0</td>\n",
       "      <td>48.0</td>\n",
       "      <td>32.0</td>\n",
       "      <td>48.000000</td>\n",
       "    </tr>\n",
       "    <tr>\n",
       "      <th>2018-03-01 20:00:00</th>\n",
       "      <td>61</td>\n",
       "      <td>3</td>\n",
       "      <td>1</td>\n",
       "      <td>3</td>\n",
       "      <td>20</td>\n",
       "      <td>45.0</td>\n",
       "      <td>73.0</td>\n",
       "      <td>44.0</td>\n",
       "      <td>43.0</td>\n",
       "      <td>66.0</td>\n",
       "      <td>48.0</td>\n",
       "      <td>50.142857</td>\n",
       "    </tr>\n",
       "    <tr>\n",
       "      <th>2018-03-01 21:00:00</th>\n",
       "      <td>66</td>\n",
       "      <td>3</td>\n",
       "      <td>1</td>\n",
       "      <td>3</td>\n",
       "      <td>21</td>\n",
       "      <td>61.0</td>\n",
       "      <td>45.0</td>\n",
       "      <td>73.0</td>\n",
       "      <td>44.0</td>\n",
       "      <td>43.0</td>\n",
       "      <td>66.0</td>\n",
       "      <td>54.285714</td>\n",
       "    </tr>\n",
       "    <tr>\n",
       "      <th>2018-03-01 22:00:00</th>\n",
       "      <td>113</td>\n",
       "      <td>3</td>\n",
       "      <td>1</td>\n",
       "      <td>3</td>\n",
       "      <td>22</td>\n",
       "      <td>66.0</td>\n",
       "      <td>61.0</td>\n",
       "      <td>45.0</td>\n",
       "      <td>73.0</td>\n",
       "      <td>44.0</td>\n",
       "      <td>43.0</td>\n",
       "      <td>56.857143</td>\n",
       "    </tr>\n",
       "    <tr>\n",
       "      <th>2018-03-01 23:00:00</th>\n",
       "      <td>58</td>\n",
       "      <td>3</td>\n",
       "      <td>1</td>\n",
       "      <td>3</td>\n",
       "      <td>23</td>\n",
       "      <td>113.0</td>\n",
       "      <td>66.0</td>\n",
       "      <td>61.0</td>\n",
       "      <td>45.0</td>\n",
       "      <td>73.0</td>\n",
       "      <td>44.0</td>\n",
       "      <td>63.571429</td>\n",
       "    </tr>\n",
       "    <tr>\n",
       "      <th>2018-03-02 00:00:00</th>\n",
       "      <td>90</td>\n",
       "      <td>3</td>\n",
       "      <td>2</td>\n",
       "      <td>4</td>\n",
       "      <td>0</td>\n",
       "      <td>58.0</td>\n",
       "      <td>113.0</td>\n",
       "      <td>66.0</td>\n",
       "      <td>61.0</td>\n",
       "      <td>45.0</td>\n",
       "      <td>73.0</td>\n",
       "      <td>65.714286</td>\n",
       "    </tr>\n",
       "    <tr>\n",
       "      <th>2018-03-02 01:00:00</th>\n",
       "      <td>120</td>\n",
       "      <td>3</td>\n",
       "      <td>2</td>\n",
       "      <td>4</td>\n",
       "      <td>1</td>\n",
       "      <td>90.0</td>\n",
       "      <td>58.0</td>\n",
       "      <td>113.0</td>\n",
       "      <td>66.0</td>\n",
       "      <td>61.0</td>\n",
       "      <td>45.0</td>\n",
       "      <td>72.285714</td>\n",
       "    </tr>\n",
       "    <tr>\n",
       "      <th>2018-03-02 02:00:00</th>\n",
       "      <td>75</td>\n",
       "      <td>3</td>\n",
       "      <td>2</td>\n",
       "      <td>4</td>\n",
       "      <td>2</td>\n",
       "      <td>120.0</td>\n",
       "      <td>90.0</td>\n",
       "      <td>58.0</td>\n",
       "      <td>113.0</td>\n",
       "      <td>66.0</td>\n",
       "      <td>61.0</td>\n",
       "      <td>79.000000</td>\n",
       "    </tr>\n",
       "    <tr>\n",
       "      <th>2018-03-02 03:00:00</th>\n",
       "      <td>64</td>\n",
       "      <td>3</td>\n",
       "      <td>2</td>\n",
       "      <td>4</td>\n",
       "      <td>3</td>\n",
       "      <td>75.0</td>\n",
       "      <td>120.0</td>\n",
       "      <td>90.0</td>\n",
       "      <td>58.0</td>\n",
       "      <td>113.0</td>\n",
       "      <td>66.0</td>\n",
       "      <td>83.285714</td>\n",
       "    </tr>\n",
       "    <tr>\n",
       "      <th>2018-03-02 04:00:00</th>\n",
       "      <td>20</td>\n",
       "      <td>3</td>\n",
       "      <td>2</td>\n",
       "      <td>4</td>\n",
       "      <td>4</td>\n",
       "      <td>64.0</td>\n",
       "      <td>75.0</td>\n",
       "      <td>120.0</td>\n",
       "      <td>90.0</td>\n",
       "      <td>58.0</td>\n",
       "      <td>113.0</td>\n",
       "      <td>83.714286</td>\n",
       "    </tr>\n",
       "    <tr>\n",
       "      <th>2018-03-02 05:00:00</th>\n",
       "      <td>11</td>\n",
       "      <td>3</td>\n",
       "      <td>2</td>\n",
       "      <td>4</td>\n",
       "      <td>5</td>\n",
       "      <td>20.0</td>\n",
       "      <td>64.0</td>\n",
       "      <td>75.0</td>\n",
       "      <td>120.0</td>\n",
       "      <td>90.0</td>\n",
       "      <td>58.0</td>\n",
       "      <td>77.142857</td>\n",
       "    </tr>\n",
       "    <tr>\n",
       "      <th>2018-03-02 06:00:00</th>\n",
       "      <td>11</td>\n",
       "      <td>3</td>\n",
       "      <td>2</td>\n",
       "      <td>4</td>\n",
       "      <td>6</td>\n",
       "      <td>11.0</td>\n",
       "      <td>20.0</td>\n",
       "      <td>64.0</td>\n",
       "      <td>75.0</td>\n",
       "      <td>120.0</td>\n",
       "      <td>90.0</td>\n",
       "      <td>62.571429</td>\n",
       "    </tr>\n",
       "    <tr>\n",
       "      <th>2018-03-02 07:00:00</th>\n",
       "      <td>7</td>\n",
       "      <td>3</td>\n",
       "      <td>2</td>\n",
       "      <td>4</td>\n",
       "      <td>7</td>\n",
       "      <td>11.0</td>\n",
       "      <td>11.0</td>\n",
       "      <td>20.0</td>\n",
       "      <td>64.0</td>\n",
       "      <td>75.0</td>\n",
       "      <td>120.0</td>\n",
       "      <td>55.857143</td>\n",
       "    </tr>\n",
       "    <tr>\n",
       "      <th>2018-03-02 08:00:00</th>\n",
       "      <td>46</td>\n",
       "      <td>3</td>\n",
       "      <td>2</td>\n",
       "      <td>4</td>\n",
       "      <td>8</td>\n",
       "      <td>7.0</td>\n",
       "      <td>11.0</td>\n",
       "      <td>11.0</td>\n",
       "      <td>20.0</td>\n",
       "      <td>64.0</td>\n",
       "      <td>75.0</td>\n",
       "      <td>44.000000</td>\n",
       "    </tr>\n",
       "    <tr>\n",
       "      <th>2018-03-02 09:00:00</th>\n",
       "      <td>45</td>\n",
       "      <td>3</td>\n",
       "      <td>2</td>\n",
       "      <td>4</td>\n",
       "      <td>9</td>\n",
       "      <td>46.0</td>\n",
       "      <td>7.0</td>\n",
       "      <td>11.0</td>\n",
       "      <td>11.0</td>\n",
       "      <td>20.0</td>\n",
       "      <td>64.0</td>\n",
       "      <td>33.428571</td>\n",
       "    </tr>\n",
       "    <tr>\n",
       "      <th>2018-03-02 10:00:00</th>\n",
       "      <td>54</td>\n",
       "      <td>3</td>\n",
       "      <td>2</td>\n",
       "      <td>4</td>\n",
       "      <td>10</td>\n",
       "      <td>45.0</td>\n",
       "      <td>46.0</td>\n",
       "      <td>7.0</td>\n",
       "      <td>11.0</td>\n",
       "      <td>11.0</td>\n",
       "      <td>20.0</td>\n",
       "      <td>29.142857</td>\n",
       "    </tr>\n",
       "    <tr>\n",
       "      <th>2018-03-02 11:00:00</th>\n",
       "      <td>91</td>\n",
       "      <td>3</td>\n",
       "      <td>2</td>\n",
       "      <td>4</td>\n",
       "      <td>11</td>\n",
       "      <td>54.0</td>\n",
       "      <td>45.0</td>\n",
       "      <td>46.0</td>\n",
       "      <td>7.0</td>\n",
       "      <td>11.0</td>\n",
       "      <td>11.0</td>\n",
       "      <td>27.714286</td>\n",
       "    </tr>\n",
       "    <tr>\n",
       "      <th>2018-03-02 12:00:00</th>\n",
       "      <td>36</td>\n",
       "      <td>3</td>\n",
       "      <td>2</td>\n",
       "      <td>4</td>\n",
       "      <td>12</td>\n",
       "      <td>91.0</td>\n",
       "      <td>54.0</td>\n",
       "      <td>45.0</td>\n",
       "      <td>46.0</td>\n",
       "      <td>7.0</td>\n",
       "      <td>11.0</td>\n",
       "      <td>37.857143</td>\n",
       "    </tr>\n",
       "  </tbody>\n",
       "</table>\n",
       "</div>"
      ],
      "text/plain": [
       "                     num_orders  month  day  dayofweek  hour  lag_1  lag_2  \\\n",
       "datetime                                                                     \n",
       "2018-03-01 07:00:00          15      3    1          3     7   12.0    6.0   \n",
       "2018-03-01 08:00:00          34      3    1          3     8   15.0   12.0   \n",
       "2018-03-01 09:00:00          69      3    1          3     9   34.0   15.0   \n",
       "2018-03-01 10:00:00          64      3    1          3    10   69.0   34.0   \n",
       "2018-03-01 11:00:00          96      3    1          3    11   64.0   69.0   \n",
       "2018-03-01 12:00:00          30      3    1          3    12   96.0   64.0   \n",
       "2018-03-01 13:00:00          32      3    1          3    13   30.0   96.0   \n",
       "2018-03-01 14:00:00          48      3    1          3    14   32.0   30.0   \n",
       "2018-03-01 15:00:00          66      3    1          3    15   48.0   32.0   \n",
       "2018-03-01 16:00:00          43      3    1          3    16   66.0   48.0   \n",
       "2018-03-01 17:00:00          44      3    1          3    17   43.0   66.0   \n",
       "2018-03-01 18:00:00          73      3    1          3    18   44.0   43.0   \n",
       "2018-03-01 19:00:00          45      3    1          3    19   73.0   44.0   \n",
       "2018-03-01 20:00:00          61      3    1          3    20   45.0   73.0   \n",
       "2018-03-01 21:00:00          66      3    1          3    21   61.0   45.0   \n",
       "2018-03-01 22:00:00         113      3    1          3    22   66.0   61.0   \n",
       "2018-03-01 23:00:00          58      3    1          3    23  113.0   66.0   \n",
       "2018-03-02 00:00:00          90      3    2          4     0   58.0  113.0   \n",
       "2018-03-02 01:00:00         120      3    2          4     1   90.0   58.0   \n",
       "2018-03-02 02:00:00          75      3    2          4     2  120.0   90.0   \n",
       "2018-03-02 03:00:00          64      3    2          4     3   75.0  120.0   \n",
       "2018-03-02 04:00:00          20      3    2          4     4   64.0   75.0   \n",
       "2018-03-02 05:00:00          11      3    2          4     5   20.0   64.0   \n",
       "2018-03-02 06:00:00          11      3    2          4     6   11.0   20.0   \n",
       "2018-03-02 07:00:00           7      3    2          4     7   11.0   11.0   \n",
       "2018-03-02 08:00:00          46      3    2          4     8    7.0   11.0   \n",
       "2018-03-02 09:00:00          45      3    2          4     9   46.0    7.0   \n",
       "2018-03-02 10:00:00          54      3    2          4    10   45.0   46.0   \n",
       "2018-03-02 11:00:00          91      3    2          4    11   54.0   45.0   \n",
       "2018-03-02 12:00:00          36      3    2          4    12   91.0   54.0   \n",
       "\n",
       "                     lag_3  lag_4  lag_5  lag_6  rolling_mean  \n",
       "datetime                                                       \n",
       "2018-03-01 07:00:00   43.0   66.0   71.0   85.0     58.142857  \n",
       "2018-03-01 08:00:00    6.0   43.0   66.0   71.0     42.571429  \n",
       "2018-03-01 09:00:00   12.0    6.0   43.0   66.0     35.285714  \n",
       "2018-03-01 10:00:00   15.0   12.0    6.0   43.0     35.000000  \n",
       "2018-03-01 11:00:00   34.0   15.0   12.0    6.0     34.714286  \n",
       "2018-03-01 12:00:00   69.0   34.0   15.0   12.0     42.285714  \n",
       "2018-03-01 13:00:00   64.0   69.0   34.0   15.0     45.714286  \n",
       "2018-03-01 14:00:00   96.0   64.0   69.0   34.0     48.571429  \n",
       "2018-03-01 15:00:00   30.0   96.0   64.0   69.0     53.285714  \n",
       "2018-03-01 16:00:00   32.0   30.0   96.0   64.0     57.857143  \n",
       "2018-03-01 17:00:00   48.0   32.0   30.0   96.0     54.142857  \n",
       "2018-03-01 18:00:00   66.0   48.0   32.0   30.0     51.285714  \n",
       "2018-03-01 19:00:00   43.0   66.0   48.0   32.0     48.000000  \n",
       "2018-03-01 20:00:00   44.0   43.0   66.0   48.0     50.142857  \n",
       "2018-03-01 21:00:00   73.0   44.0   43.0   66.0     54.285714  \n",
       "2018-03-01 22:00:00   45.0   73.0   44.0   43.0     56.857143  \n",
       "2018-03-01 23:00:00   61.0   45.0   73.0   44.0     63.571429  \n",
       "2018-03-02 00:00:00   66.0   61.0   45.0   73.0     65.714286  \n",
       "2018-03-02 01:00:00  113.0   66.0   61.0   45.0     72.285714  \n",
       "2018-03-02 02:00:00   58.0  113.0   66.0   61.0     79.000000  \n",
       "2018-03-02 03:00:00   90.0   58.0  113.0   66.0     83.285714  \n",
       "2018-03-02 04:00:00  120.0   90.0   58.0  113.0     83.714286  \n",
       "2018-03-02 05:00:00   75.0  120.0   90.0   58.0     77.142857  \n",
       "2018-03-02 06:00:00   64.0   75.0  120.0   90.0     62.571429  \n",
       "2018-03-02 07:00:00   20.0   64.0   75.0  120.0     55.857143  \n",
       "2018-03-02 08:00:00   11.0   20.0   64.0   75.0     44.000000  \n",
       "2018-03-02 09:00:00   11.0   11.0   20.0   64.0     33.428571  \n",
       "2018-03-02 10:00:00    7.0   11.0   11.0   20.0     29.142857  \n",
       "2018-03-02 11:00:00   46.0    7.0   11.0   11.0     27.714286  \n",
       "2018-03-02 12:00:00   45.0   46.0    7.0   11.0     37.857143  "
      ]
     },
     "execution_count": 25,
     "metadata": {},
     "output_type": "execute_result"
    }
   ],
   "source": [
    "# drop nilai NaN dari time series data\n",
    "ts = ts.dropna()\n",
    "print('Dataset Time Series Mempunyai', ts.shape[0], 'baris dan', ts.shape[1], 'features')\n",
    "print()\n",
    "ts.head(30)"
   ]
  },
  {
   "cell_type": "markdown",
   "metadata": {},
   "source": [
    "# Memisahkan data train dan test dari 10% data awal "
   ]
  },
  {
   "cell_type": "code",
   "execution_count": 26,
   "metadata": {},
   "outputs": [],
   "source": [
    "# Fungsi untuk mendefenisikan metric\n",
    "def rmse(true, pred):\n",
    "    return mean_square_error(true, pred)**0.5"
   ]
  },
  {
   "cell_type": "code",
   "execution_count": 27,
   "metadata": {},
   "outputs": [],
   "source": [
    "# memisahkan data train dan test set\n",
    "train, test = train_test_split(ts, shuffle=False, test_size=0.1)"
   ]
  },
  {
   "cell_type": "code",
   "execution_count": 28,
   "metadata": {},
   "outputs": [
    {
     "name": "stdout",
     "output_type": "stream",
     "text": [
      "2018-03-01 07:00:00 sampai dengan 2018-08-13 14:00:00\n",
      "2018-08-13 15:00:00 sampai dengan 2018-08-31 23:00:00\n",
      "\n",
      "Train set mempunyai 3968 dan baris 12 features\n",
      "Test set mempunyai 441 dan baris 12 features\n"
     ]
    }
   ],
   "source": [
    "# menampilkan index dari data set\n",
    "print(train.index.min(),'sampai dengan', train.index.max())\n",
    "print(test.index.min(),'sampai dengan',  test.index.max())\n",
    "print()\n",
    "print('Train set mempunyai', train.shape[0], 'dan baris', train.shape[1], 'features')\n",
    "print('Test set mempunyai', test.shape[0], 'dan baris', test.shape[1], 'features')\n"
   ]
  },
  {
   "cell_type": "code",
   "execution_count": 29,
   "metadata": {},
   "outputs": [],
   "source": [
    "# menentukan variable untuk target dan features\n",
    "features_train = train.drop(['num_orders'], axis=1)\n",
    "target_train = train['num_orders']\n",
    "\n",
    "features_test = test.drop(['num_orders'], axis=1)\n",
    "target_test = test['num_orders']"
   ]
  },
  {
   "cell_type": "markdown",
   "metadata": {},
   "source": [
    "Dalam melatih dan menguji model, kita akan mencoba algoritme berikut :\n",
    "\n",
    "\n",
    "1. Linear Regression\n",
    "2. Random Forest Regression\n",
    "3. Catboost Regressor\n",
    "4. XGBoost Regressor\n",
    "5. LightGBM Regressor\n",
    "6. KNeighbors Regressor\n",
    "\n",
    "\n",
    "Untuk menyetel hyperparameter, kami menggunakan pemisahan deret waktu untuk validasi silang"
   ]
  },
  {
   "cell_type": "code",
   "execution_count": 30,
   "metadata": {},
   "outputs": [
    {
     "name": "stdout",
     "output_type": "stream",
     "text": [
      "TimeSeriesSplit(gap=0, max_train_size=None, n_splits=5, test_size=None)\n"
     ]
    }
   ],
   "source": [
    "# memisahkan time series \n",
    "tscv = TimeSeriesSplit(n_splits=5)\n",
    "print(tscv)"
   ]
  },
  {
   "cell_type": "markdown",
   "metadata": {},
   "source": [
    "# Linear Regression"
   ]
  },
  {
   "cell_type": "code",
   "execution_count": 31,
   "metadata": {},
   "outputs": [],
   "source": [
    "# Fungsi untuk melatih model dan membuat prediksi \n",
    "def train_linear_model(X_train, y_train):\n",
    "    \"\"\"fungsi ini untuk melatih regresi linear\"\"\"\n",
    "    global lr_model\n",
    "    lr_model = LinearRegression()\n",
    "    lr_model.fit(X_train, y_train)\n",
    "    \n",
    "def linear_regressor_pred(X_test, y_test):\n",
    "    \"\"\"\n",
    "    Fungsi untuk membuat prediksi\n",
    "    menggunakan regresi linear\n",
    "    \"\"\"\n",
    "    \n",
    "    lr_pred = lr_model.predict(X_test)\n",
    "    # RMSE\n",
    "    lr_rmse = np.sqrt(mean_squared_error(y_test, lr_pred))\n",
    "    print(\"\\033[1m\" + 'RMSE dari Regresi Linear' + \"\\033[0m\")\n",
    "    print('RMSE: {:.3f}'.format(lr_rmse))\n",
    "    print()"
   ]
  },
  {
   "cell_type": "code",
   "execution_count": 32,
   "metadata": {},
   "outputs": [
    {
     "name": "stdout",
     "output_type": "stream",
     "text": [
      "CPU times: user 5.2 ms, sys: 274 µs, total: 5.48 ms\n",
      "Wall time: 3.99 ms\n"
     ]
    }
   ],
   "source": [
    "%%time\n",
    "# melatih model\n",
    "train_linear_model(features_train, target_train)"
   ]
  },
  {
   "cell_type": "code",
   "execution_count": 33,
   "metadata": {},
   "outputs": [
    {
     "name": "stdout",
     "output_type": "stream",
     "text": [
      "\u001b[1mRMSE dari Regresi Linear\u001b[0m\n",
      "RMSE: 52.740\n",
      "\n",
      "CPU times: user 2.71 ms, sys: 7.77 ms, total: 10.5 ms\n",
      "Wall time: 3.41 ms\n"
     ]
    }
   ],
   "source": [
    "%%time\n",
    "# membuat prediksi dan RMSE\n",
    "linear_regressor_pred(features_test, target_test)"
   ]
  },
  {
   "cell_type": "markdown",
   "metadata": {},
   "source": [
    "# KNeighbors Regressor"
   ]
  },
  {
   "cell_type": "code",
   "execution_count": 34,
   "metadata": {},
   "outputs": [
    {
     "name": "stdout",
     "output_type": "stream",
     "text": [
      "Hyperparameter terbaik: {'algorithm': 'auto', 'n_neighbors': 4}\n",
      "CPU times: user 2.13 s, sys: 1.51 s, total: 3.65 s\n",
      "Wall time: 3.69 s\n"
     ]
    }
   ],
   "source": [
    "%%time\n",
    "# optimasi hyperparameter model KNeighbors regresi\n",
    "\n",
    "# menentukan tuning hyper parameter\n",
    "knn_grid = {'n_neighbors' : range(1,5,1),\n",
    "           'algorithm': ['auto', 'ball_tree', 'kd_tree', 'brute'],\n",
    "           }\n",
    "# model \n",
    "knn_reg = KNeighborsRegressor()\n",
    "\n",
    "# Grid search \n",
    "grid_search_knn = GridSearchCV(\n",
    "    estimator   = knn_reg,\n",
    "    param_grid  = knn_grid,\n",
    "    scoring     = \"neg_mean_squared_error\",\n",
    "    cv          = tscv, \n",
    "    n_jobs      = 1\n",
    ")\n",
    "\n",
    "# menjalankan grid search\n",
    "grid_search_knn.fit(features_train, target_train)\n",
    "\n",
    "# hasil \n",
    "print('Hyperparameter terbaik: {}'.format(grid_search_knn.best_params_))"
   ]
  },
  {
   "cell_type": "code",
   "execution_count": 35,
   "metadata": {},
   "outputs": [],
   "source": [
    "# fungsi melatih model dan prediksi \n",
    "def train_KNeighbors_regressor(X_train, y_train):\n",
    "    \"\"\"fungsi ini untuk melatih KNeighbors regressor model\"\"\"\n",
    "    global knn_model\n",
    "    # model\n",
    "    knn_model = KNeighborsRegressor(**grid_search_knn.best_params_)\n",
    "    knn_model.fit(X_train, y_train)\n",
    "        \n",
    "def KNeighbors_regressor_pred(X_test, y_test):\n",
    "    \"\"\"\n",
    "    Fungsi untuk membuat prediksi\n",
    "    menggunakan KNeighbors regression\n",
    "    \"\"\"\n",
    "    # model\n",
    "    knn_pred = knn_model.predict(X_test)\n",
    "    # rmse\n",
    "    knn_rmse = np.sqrt(mean_squared_error(y_test, knn_pred))\n",
    "    print(\"\\033[1m\" + 'RMSE dari KNeighbors regressor' + \"\\033[0m\")\n",
    "    print('RMSE: {:.3f}'.format(knn_rmse))\n",
    "    print()"
   ]
  },
  {
   "cell_type": "code",
   "execution_count": 36,
   "metadata": {},
   "outputs": [
    {
     "name": "stdout",
     "output_type": "stream",
     "text": [
      "CPU times: user 9.57 ms, sys: 580 µs, total: 10.1 ms\n",
      "Wall time: 9.13 ms\n"
     ]
    }
   ],
   "source": [
    "%%time\n",
    "train_KNeighbors_regressor(features_train, target_train)"
   ]
  },
  {
   "cell_type": "code",
   "execution_count": 37,
   "metadata": {},
   "outputs": [
    {
     "name": "stdout",
     "output_type": "stream",
     "text": [
      "\u001b[1mRMSE dari KNeighbors regressor\u001b[0m\n",
      "RMSE: 62.147\n",
      "\n",
      "CPU times: user 15.7 ms, sys: 0 ns, total: 15.7 ms\n",
      "Wall time: 13.9 ms\n"
     ]
    }
   ],
   "source": [
    "%%time \n",
    "KNeighbors_regressor_pred(features_test, target_test)"
   ]
  },
  {
   "cell_type": "markdown",
   "metadata": {},
   "source": [
    "# Random Forest Regressor"
   ]
  },
  {
   "cell_type": "code",
   "execution_count": 38,
   "metadata": {},
   "outputs": [
    {
     "name": "stdout",
     "output_type": "stream",
     "text": [
      "Parameter terbaik : {'max_depth': None, 'min_samples_leaf': 2, 'n_estimators': 100}\n",
      "CPU times: user 2min 11s, sys: 320 ms, total: 2min 12s\n",
      "Wall time: 2min 12s\n"
     ]
    }
   ],
   "source": [
    "%%time\n",
    "# optimasi hyperparameter model Random Forest Regressor\n",
    "\n",
    "# menentukan tuning hyper parameter\n",
    "grid = {\n",
    "    \"n_estimators\"       : [10, 25, 50, 100],\n",
    "    \"max_depth\"          : [None, 2, 4, 8, 10, 12],\n",
    "    \"min_samples_leaf\"   : [2, 4, 6]\n",
    "}\n",
    "\n",
    "# model \n",
    "regressor = RandomForestRegressor(random_state = 12345)\n",
    "# grid search\n",
    "grid_search_rf = GridSearchCV(estimator = regressor, param_grid = grid, scoring= 'neg_mean_squared_error', cv=tscv)\n",
    "# menjalankan grid search\n",
    "grid_search_rf.fit(features_train, target_train)\n",
    "# hasil \n",
    "print('Parameter terbaik : {}'. format(grid_search_rf.best_params_))"
   ]
  },
  {
   "cell_type": "code",
   "execution_count": 39,
   "metadata": {},
   "outputs": [],
   "source": [
    "# fungsi melatih model dan prediksi\n",
    "def train_random_forest(X_train, y_train):\n",
    "    \"\"\"fungsi ini untuk melatih random forest regressor \"\"\"\n",
    "    global rf_model\n",
    "    # model\n",
    "    rf_model = RandomForestRegressor(**grid_search_rf.best_params_)\n",
    "    rf_model.fit(X_train, y_train)\n",
    "    \n",
    "def random_forest_pred(X_test, y_test):\n",
    "    \"\"\"\n",
    "    Fungsi untuk membuat prediksi\n",
    "    menggunakan random forest regressor\n",
    "    \"\"\"\n",
    "    # model \n",
    "    rf_pred = rf_model.predict(X_test)\n",
    "    # rmse\n",
    "    rf_pred = np.sqrt(mean_squared_error(y_test, rf_pred))\n",
    "    print(\"\\033[1m\" + 'RMSE dari Random Forest Regressor' + \"\\033[0m\")\n",
    "    print('RMSE: {:.3f}'.format(rf_pred))\n",
    "    print()\n",
    "    \n",
    "    # features penting dari model \n",
    "    sorted_feature_importance = rf_model.feature_importances_. argsort()\n",
    "    plt.figure(figsize=(8,6))\n",
    "    plt.barh(features_train.columns[sorted_feature_importance],\n",
    "            rf_model.feature_importances_[sorted_feature_importance],\n",
    "             color='turquoise'\n",
    "            )\n",
    "    plt.xlabel(\"Feature penting dari Random Forest \")"
   ]
  },
  {
   "cell_type": "code",
   "execution_count": 40,
   "metadata": {},
   "outputs": [
    {
     "name": "stdout",
     "output_type": "stream",
     "text": [
      "CPU times: user 2.38 s, sys: 3.94 ms, total: 2.39 s\n",
      "Wall time: 2.4 s\n"
     ]
    }
   ],
   "source": [
    "%%time\n",
    "train_random_forest(features_train, target_train)"
   ]
  },
  {
   "cell_type": "code",
   "execution_count": 41,
   "metadata": {},
   "outputs": [
    {
     "name": "stdout",
     "output_type": "stream",
     "text": [
      "\u001b[1mRMSE dari Random Forest Regressor\u001b[0m\n",
      "RMSE: 44.786\n",
      "\n",
      "CPU times: user 73.9 ms, sys: 41 µs, total: 73.9 ms\n",
      "Wall time: 71.3 ms\n"
     ]
    },
    {
     "data": {
      "image/png": "[encoded data removed]",
      "text/plain": [
       "<Figure size 576x432 with 1 Axes>"
      ]
     },
     "metadata": {
      "needs_background": "light"
     },
     "output_type": "display_data"
    }
   ],
   "source": [
    "%%time\n",
    "random_forest_pred(features_test, target_test)"
   ]
  },
  {
   "cell_type": "markdown",
   "metadata": {},
   "source": [
    "# Catboost Regressor"
   ]
  },
  {
   "cell_type": "code",
   "execution_count": 42,
   "metadata": {},
   "outputs": [
    {
     "name": "stdout",
     "output_type": "stream",
     "text": [
      "Parameter terbaik: {'depth': 10, 'l2_leaf_reg': 1, 'learning_rate': 0.01}\n",
      "CPU times: user 12min 5s, sys: 2.58 s, total: 12min 8s\n",
      "Wall time: 12min 28s\n"
     ]
    }
   ],
   "source": [
    "%%time\n",
    "# optimasi hyperparameter model catboost regressor\n",
    "\n",
    "# menentukan tuning hyper parameter\n",
    "grid= {'learning_rate'  : [0.001, 0.01, 0.5],\n",
    "       'depth'          : [4, 6, 10],\n",
    "       'l2_leaf_reg'    : [1, 3, 5, 7, 9]\n",
    "      }\n",
    "\n",
    "# model\n",
    "cb_reg = CatBoostRegressor(\n",
    "    iterations            = 500,\n",
    "    logging_level          = 'Silent',\n",
    "    loss_function          = 'RMSE',\n",
    "    early_stopping_rounds  = 50,\n",
    "    random_state           = 12345)\n",
    "# Grid Search \n",
    "grid_search = GridSearchCV(estimator = cb_reg, param_grid = grid, scoring='neg_mean_squared_error', cv=tscv)\n",
    "# menjalankan grid search\n",
    "grid_search.fit(features_train, target_train)\n",
    "# hasil\n",
    "print('Parameter terbaik: {}'. format(grid_search.best_params_))"
   ]
  },
  {
   "cell_type": "code",
   "execution_count": 43,
   "metadata": {},
   "outputs": [],
   "source": [
    "# fungsi melatih model dan prediksi\n",
    "def train_catboost_regressor(X_train, y_train, X_test, y_test):\n",
    "    \"\"\"fungsi ini untuk melatih model catboost regressor\"\"\"\n",
    "    global cb_model\n",
    "    # model\n",
    "    cb_model = CatBoostRegressor(**grid_search.best_params_)\n",
    "    cb_model.fit(X_train, y_train, eval_set=(X_test, y_test), verbose=False, plot=False)\n",
    "    \n",
    "def catboost_regressor_pred(X_test, y_test):\n",
    "    \"\"\"\n",
    "    Fungsi untuk membuat prediksi\n",
    "    menggunakan model catboost regressor\n",
    "    \"\"\"\n",
    "    # model\n",
    "    cb_pred = cb_model.predict(X_test)\n",
    "    # rmse\n",
    "    cb_rmse = np.sqrt(mean_squared_error(y_test, cb_pred))\n",
    "    print(\"\\033[1m\" + 'RMSE dari Catboost Regressor' + \"\\033[0m\")\n",
    "    print('RMSE: {:.3f}'.format(cb_rmse))\n",
    "    print()\n",
    "    \n",
    "    # features penting dari model\n",
    "    sorted_feature_importance = cb_model.feature_importances_.argsort()\n",
    "    plt.figure(figsize=(8,6))\n",
    "    plt.barh(features_train.columns[sorted_feature_importance],\n",
    "            cb_model.feature_importances_[sorted_feature_importance],\n",
    "            color='turquoise')\n",
    "    plt.xlabel(\"Feature penting dari Catboost\")"
   ]
  },
  {
   "cell_type": "code",
   "execution_count": 44,
   "metadata": {},
   "outputs": [
    {
     "name": "stdout",
     "output_type": "stream",
     "text": [
      "CPU times: user 20.9 s, sys: 76 ms, total: 21 s\n",
      "Wall time: 21.1 s\n"
     ]
    }
   ],
   "source": [
    "%%time\n",
    "train_catboost_regressor(features_train, target_train,features_test, target_test)"
   ]
  },
  {
   "cell_type": "code",
   "execution_count": 45,
   "metadata": {},
   "outputs": [
    {
     "name": "stdout",
     "output_type": "stream",
     "text": [
      "\u001b[1mRMSE dari Catboost Regressor\u001b[0m\n",
      "RMSE: 47.622\n",
      "\n",
      "CPU times: user 30 ms, sys: 5.47 ms, total: 35.4 ms\n",
      "Wall time: 31 ms\n"
     ]
    },
    {
     "data": {
      "image/png": "[encoded data removed]",
      "text/plain": [
       "<Figure size 576x432 with 1 Axes>"
      ]
     },
     "metadata": {
      "needs_background": "light"
     },
     "output_type": "display_data"
    }
   ],
   "source": [
    "%%time\n",
    "catboost_regressor_pred(features_test, target_test)"
   ]
  },
  {
   "cell_type": "markdown",
   "metadata": {},
   "source": [
    "# XGBoost Regressor"
   ]
  },
  {
   "cell_type": "code",
   "execution_count": 50,
   "metadata": {},
   "outputs": [
    {
     "name": "stdout",
     "output_type": "stream",
     "text": [
      "Parameter terbaik : {'learning_rate': 0.1, 'max_depth': 4, 'n_estimators': 100}\n",
      "CPU times: user 13min 45s, sys: 7.25 s, total: 13min 52s\n",
      "Wall time: 13min 59s\n"
     ]
    }
   ],
   "source": [
    "%%time\n",
    "# optimasi hyperparameter model xgboost\n",
    "\n",
    "# menentukan tuning hyper parameter\n",
    "xgb_grid = {'learning_rate': [0.001, 0.01, 0.1, 0.3], \n",
    "            'max_depth': [2, 4, 6, 10],\n",
    "            'n_estimators': [50, 100, 200, 500]\n",
    "           }\n",
    "# model \n",
    "xgb_regr = XGBRegressor(random_state = 12345)\n",
    "\n",
    "# grid search\n",
    "grid_search_xgb = GridSearchCV(\n",
    "    estimator = xgb_regr, \n",
    "    param_grid = xgb_grid, \n",
    "    scoring = \"neg_mean_squared_error\", \n",
    "    cv = tscv, \n",
    "    n_jobs = 1\n",
    ")\n",
    "# menjalankan grid search\n",
    "grid_search_xgb.fit(features_train, target_train)\n",
    "# hasil \n",
    "print('Parameter terbaik : {}'.format(grid_search_xgb.best_params_))"
   ]
  },
  {
   "cell_type": "code",
   "execution_count": 51,
   "metadata": {},
   "outputs": [],
   "source": [
    "# fungsi melatih model dan prediksi\n",
    "def train_xgboost_reg(X_train, y_train):\n",
    "    \"\"\"fungsi ini untuk melatih model XGBoost \"\"\"\n",
    "    global xgb_model\n",
    "    # model\n",
    "    xgb_model = XGBRegressor(**grid_search_xgb.best_params_)\n",
    "    xgb_model.fit(X_train, y_train) \n",
    "    \n",
    "def xgboost_regressor_pred(X_test, y_test):\n",
    "    \"\"\"\n",
    "    Fungsi untuk membuat prediksi\n",
    "    menggunakan model XGBoost\n",
    "    \"\"\"\n",
    "    # model\n",
    "    xgb_pred = xgb_model.predict(X_test)\n",
    "    # rmse\n",
    "    xgb_rmse = np.sqrt(mean_squared_error(y_test, xgb_pred))\n",
    "    print(\"\\033[1m\" + 'RMSE dari XGBoost Regressor' + \"\\033[0m\")\n",
    "    print('RMSE: {:.3f}'.format(xgb_rmse))\n",
    "    print()\n",
    "    \n",
    "    # features penting dari model \n",
    "    sorted_feature_importance = xgb_model.feature_importances_.argsort()\n",
    "    plt.figure(figsize=(8,6))\n",
    "    plt.barh(features_train.columns[sorted_feature_importance], \n",
    "             xgb_model.feature_importances_[sorted_feature_importance], \n",
    "             color='turquoise')\n",
    "    plt.xlabel(\"Feature penting dari XGBoost\")"
   ]
  },
  {
   "cell_type": "code",
   "execution_count": 52,
   "metadata": {},
   "outputs": [
    {
     "name": "stdout",
     "output_type": "stream",
     "text": [
      "CPU times: user 1.19 s, sys: 12.2 ms, total: 1.2 s\n",
      "Wall time: 1.21 s\n"
     ]
    }
   ],
   "source": [
    "%%time\n",
    "train_xgboost_reg(features_train, target_train)"
   ]
  },
  {
   "cell_type": "code",
   "execution_count": 53,
   "metadata": {},
   "outputs": [
    {
     "name": "stdout",
     "output_type": "stream",
     "text": [
      "\u001b[1mRMSE dari XGBoost Regressor\u001b[0m\n",
      "RMSE: 45.933\n",
      "\n",
      "CPU times: user 39.8 ms, sys: 33 µs, total: 39.8 ms\n",
      "Wall time: 33.1 ms\n"
     ]
    },
    {
     "data": {
      "image/png": "[encoded data removed]",
      "text/plain": [
       "<Figure size 576x432 with 1 Axes>"
      ]
     },
     "metadata": {
      "needs_background": "light"
     },
     "output_type": "display_data"
    }
   ],
   "source": [
    "%%time\n",
    "xgboost_regressor_pred(features_test, target_test)"
   ]
  },
  {
   "cell_type": "markdown",
   "metadata": {},
   "source": [
    "# LightGBM Regressor"
   ]
  },
  {
   "cell_type": "code",
   "execution_count": 46,
   "metadata": {},
   "outputs": [
    {
     "name": "stdout",
     "output_type": "stream",
     "text": [
      "Parameter terbaik : {'learning_rate': 0.01, 'n_estimators': 500, 'num_leaves': 31}\n",
      "CPU times: user 1min 40s, sys: 1.99 s, total: 1min 42s\n",
      "Wall time: 1min 43s\n"
     ]
    }
   ],
   "source": [
    "%%time\n",
    "# optimasi hyperparameter model xgboost\n",
    "\n",
    "# menentukan tuning hyper parameter\n",
    "lgbm_grid = {'learning_rate': [0.001, 0.01, 0.05, 0.1],\n",
    "             'n_estimators': [50, 100, 500],\n",
    "             'num_leaves': [5, 10, 20, 31]\n",
    "            }\n",
    "\n",
    "# model \n",
    "lgbm_regr = LGBMRegressor(random_state = 12345)\n",
    "\n",
    "# grid search\n",
    "grid_search_lgbm = GridSearchCV(\n",
    "    estimator = lgbm_regr, \n",
    "    param_grid = lgbm_grid, \n",
    "    scoring = \"neg_mean_squared_error\", \n",
    "    cv = tscv, \n",
    "    n_jobs = 1\n",
    ")\n",
    "\n",
    "# menjalankan grid search\n",
    "grid_search_lgbm.fit(features_train, target_train)\n",
    "# hasil \n",
    "print('Parameter terbaik : {}'.format(grid_search_lgbm.best_params_))"
   ]
  },
  {
   "cell_type": "code",
   "execution_count": 47,
   "metadata": {},
   "outputs": [],
   "source": [
    "# fungsi melatih model dan prediksi\n",
    "def train_lightGBM_reg(X_train, y_train):\n",
    "    \"\"\"fungsi ini untuk melatih model LightGBM regressor\"\"\"\n",
    "    global lgbm_model\n",
    "    # model\n",
    "    lgbm_model = LGBMRegressor(**grid_search_lgbm.best_params_)\n",
    "    lgbm_model.fit(X_train, y_train) \n",
    "    \n",
    "def lightGBM_regressor_pred(X_test, y_test):\n",
    "    \"\"\"\n",
    "    Fungsi untuk membuat prediksi\n",
    "    menggunakan model lightGBM regression \n",
    "    \"\"\"\n",
    "    # model\n",
    "    lgbm_pred = lgbm_model.predict(X_test)\n",
    "    # rmse\n",
    "    lgbm_rmse = np.sqrt(mean_squared_error(y_test, lgbm_pred))\n",
    "    print(\"\\033[1m\" + 'RMSE dari LightGBM Regressor' + \"\\033[0m\")\n",
    "    print('RMSE: {:.3f}'.format(lgbm_rmse))\n",
    "    print()\n",
    "    \n",
    "    # features penting dari model  \n",
    "    sorted_feature_importance = lgbm_model.feature_importances_.argsort()\n",
    "    plt.figure(figsize=(8,6))\n",
    "    plt.barh(features_train.columns[sorted_feature_importance], \n",
    "             lgbm_model.feature_importances_[sorted_feature_importance], \n",
    "             color='turquoise')\n",
    "    plt.xlabel(\"Feature penting dari LightGBM \")"
   ]
  },
  {
   "cell_type": "code",
   "execution_count": 48,
   "metadata": {},
   "outputs": [
    {
     "name": "stdout",
     "output_type": "stream",
     "text": [
      "CPU times: user 1.9 s, sys: 39.3 ms, total: 1.94 s\n",
      "Wall time: 1.92 s\n"
     ]
    }
   ],
   "source": [
    "%%time\n",
    "train_lightGBM_reg(features_train, target_train)"
   ]
  },
  {
   "cell_type": "code",
   "execution_count": 49,
   "metadata": {},
   "outputs": [
    {
     "name": "stdout",
     "output_type": "stream",
     "text": [
      "\u001b[1mRMSE dari LightGBM Regressor\u001b[0m\n",
      "RMSE: 45.342\n",
      "\n",
      "CPU times: user 58.1 ms, sys: 0 ns, total: 58.1 ms\n",
      "Wall time: 100 ms\n"
     ]
    },
    {
     "data": {
      "image/png": "[encoded data removed]",
      "text/plain": [
       "<Figure size 576x432 with 1 Axes>"
      ]
     },
     "metadata": {
      "needs_background": "light"
     },
     "output_type": "display_data"
    }
   ],
   "source": [
    "%%time\n",
    "lightGBM_regressor_pred(features_test, target_test)"
   ]
  },
  {
   "cell_type": "markdown",
   "metadata": {},
   "source": [
    "# Hasil Model "
   ]
  },
  {
   "cell_type": "markdown",
   "metadata": {},
   "source": [
    "Pada bagian ini, kita akan menganalisis kecepatan dan kualitas model yang dilatih. Ringkasan model, RMSE masing-masing, waktu yang diperlukan untuk menyetel hyperparameter, dan melatih model ditampilkan di bawah."
   ]
  },
  {
   "cell_type": "code",
   "execution_count": 60,
   "metadata": {},
   "outputs": [],
   "source": [
    "Model_analyz = {\"Model\" : [\"Linear Regression\", \"KNeighbors Regressor\", \"Random Forest Regressor\", \"Catboost Regressor\", \"XGBoost Regressor\", \"LightGBM Regressor\"], \"Hyperparamater Tune\":['0', '3.69s', '2min 12s','12min 28s','13min 59s','1min 43s'] , \"Training time\" :  ['3.99 ms','9.13 ms','2.4 s','21.1 s','1.21 s','1.92 s'] , \"Predict time\" : ['3.41 m','13.9 ms','71.3 ms','31 ms','33.1 ms','100 ms']   , \"RMSE\" :  ['52.740', '62.147','44.786','47.622','45.933','45.342']}"
   ]
  },
  {
   "cell_type": "code",
   "execution_count": 61,
   "metadata": {},
   "outputs": [
    {
     "data": {
      "text/html": [
       "<div>\n",
       "<style scoped>\n",
       "    .dataframe tbody tr th:only-of-type {\n",
       "        vertical-align: middle;\n",
       "    }\n",
       "\n",
       "    .dataframe tbody tr th {\n",
       "        vertical-align: top;\n",
       "    }\n",
       "\n",
       "    .dataframe thead th {\n",
       "        text-align: right;\n",
       "    }\n",
       "</style>\n",
       "<table border=\"1\" class=\"dataframe\">\n",
       "  <thead>\n",
       "    <tr style=\"text-align: right;\">\n",
       "      <th></th>\n",
       "      <th>Model</th>\n",
       "      <th>Hyperparamater Tune</th>\n",
       "      <th>Training time</th>\n",
       "      <th>Predict time</th>\n",
       "      <th>RMSE</th>\n",
       "    </tr>\n",
       "  </thead>\n",
       "  <tbody>\n",
       "    <tr>\n",
       "      <th>0</th>\n",
       "      <td>Linear Regression</td>\n",
       "      <td>0</td>\n",
       "      <td>3.99 ms</td>\n",
       "      <td>3.41 m</td>\n",
       "      <td>52.740</td>\n",
       "    </tr>\n",
       "    <tr>\n",
       "      <th>1</th>\n",
       "      <td>KNeighbors Regressor</td>\n",
       "      <td>3.69s</td>\n",
       "      <td>9.13 ms</td>\n",
       "      <td>13.9 ms</td>\n",
       "      <td>62.147</td>\n",
       "    </tr>\n",
       "    <tr>\n",
       "      <th>2</th>\n",
       "      <td>Random Forest Regressor</td>\n",
       "      <td>2min 12s</td>\n",
       "      <td>2.4 s</td>\n",
       "      <td>71.3 ms</td>\n",
       "      <td>44.786</td>\n",
       "    </tr>\n",
       "    <tr>\n",
       "      <th>3</th>\n",
       "      <td>Catboost Regressor</td>\n",
       "      <td>12min 28s</td>\n",
       "      <td>21.1 s</td>\n",
       "      <td>31 ms</td>\n",
       "      <td>47.622</td>\n",
       "    </tr>\n",
       "    <tr>\n",
       "      <th>4</th>\n",
       "      <td>XGBoost Regressor</td>\n",
       "      <td>13min 59s</td>\n",
       "      <td>1.21 s</td>\n",
       "      <td>33.1 ms</td>\n",
       "      <td>45.933</td>\n",
       "    </tr>\n",
       "    <tr>\n",
       "      <th>5</th>\n",
       "      <td>LightGBM Regressor</td>\n",
       "      <td>1min 43s</td>\n",
       "      <td>1.92 s</td>\n",
       "      <td>100 ms</td>\n",
       "      <td>45.342</td>\n",
       "    </tr>\n",
       "  </tbody>\n",
       "</table>\n",
       "</div>"
      ],
      "text/plain": [
       "                     Model Hyperparamater Tune Training time Predict time  \\\n",
       "0        Linear Regression                   0       3.99 ms       3.41 m   \n",
       "1     KNeighbors Regressor               3.69s       9.13 ms      13.9 ms   \n",
       "2  Random Forest Regressor            2min 12s         2.4 s      71.3 ms   \n",
       "3       Catboost Regressor           12min 28s        21.1 s        31 ms   \n",
       "4        XGBoost Regressor           13min 59s        1.21 s      33.1 ms   \n",
       "5       LightGBM Regressor            1min 43s        1.92 s       100 ms   \n",
       "\n",
       "     RMSE  \n",
       "0  52.740  \n",
       "1  62.147  \n",
       "2  44.786  \n",
       "3  47.622  \n",
       "4  45.933  \n",
       "5  45.342  "
      ]
     },
     "execution_count": 61,
     "metadata": {},
     "output_type": "execute_result"
    }
   ],
   "source": [
    "pd.DataFrame(Model_analyz)"
   ]
  },
  {
   "cell_type": "markdown",
   "metadata": {},
   "source": [
    "Kesimpulan :\n",
    "\n",
    "Pada tahap ini kita melatih berbagai algoritme dengan berbagai hyperparameter, yakni :  Linear regressor, KNeighbors regressor, Random forest regressor, Catboost regressor, XGBoost regressor dan LightGBM regressor. kita juga menyetel berbagai hyperparameter yang memengaruhi kinerja model serta mengamati waktu yang diperlukan untuk menyetel hyperparameter, waktu latih dan waktu prediksi model. Metrik yang digunakan untuk mengevaluasi model adalah RMSE Score. Algoritma KNeighbors regressor memiliki waktu pelatihan tercepat namun memiliki skor RMSE terburuk yaitu 62,147 dan Random Forest Regressor memiliki waktu penyetelan tercepat yakni 44.786. Model dengan skor RMSE terbaik akan dipilih untuk pengujian model untuk tugas ini."
   ]
  },
  {
   "cell_type": "markdown",
   "metadata": {},
   "source": [
    "## Pengujian"
   ]
  },
  {
   "cell_type": "markdown",
   "metadata": {},
   "source": [
    "Random Forest Regressor dipilih sebagai model untuk pengujian akhir untuk tugas ini karena memiliki skor RMSE terbaik. "
   ]
  },
  {
   "cell_type": "code",
   "execution_count": 63,
   "metadata": {},
   "outputs": [
    {
     "name": "stdout",
     "output_type": "stream",
     "text": [
      "\u001b[1mRMSE dari Random Forest Regressor\u001b[0m\n",
      "RMSE: 44.786\n",
      "\n"
     ]
    },
    {
     "data": {
      "image/png": "[encoded data removed]",
      "text/plain": [
       "<Figure size 576x432 with 1 Axes>"
      ]
     },
     "metadata": {
      "needs_background": "light"
     },
     "output_type": "display_data"
    }
   ],
   "source": [
    "# menguji model \n",
    "random_forest_pred(features_test, target_test)"
   ]
  },
  {
   "cell_type": "markdown",
   "metadata": {},
   "source": [
    "Kesimpulan:\n",
    "___\n",
    "Menggunakan algoritma Random Forest Regressor, kita memperoleh skor RMSE: 44.786 untuk test dataset. dapat dilihat bahwa Feature penting yang di tampilkan dari algoritma Random Forest Regressor yakni :  `lag_1`, `hour`, `rolling_mean`, `month`dan `lag_2`. `dayofweek` adalah feature yang paling tidak penting untuk model ini. \n"
   ]
  },
  {
   "cell_type": "markdown",
   "metadata": {},
   "source": [
    "# Daftar Periksa Penilaian"
   ]
  },
  {
   "cell_type": "markdown",
   "metadata": {},
   "source": [
    "- [x]  Jupyter Notebook bisa dibuka.\n",
    "- [ ]  Tidak ada kesalahan dalam kode\n",
    "- [ ]  Sel-sel dengan kode telah disusun berdasarkan urutan eksekusi.\n",
    "- [ ]  Data telah diunduh dan disiapkan\n",
    "- [ ]  Data telah dianalisis\n",
    "- [ ]  Model sudah dilatih dan hiperparameter sudah dipilih\n",
    "- [ ]  Model sudah dievaluasi. Kesimpulan sudah ada.\n",
    "- [ ] *RMSE* untuk *test set* tidak lebih dari 48"
   ]
  },
  {
   "cell_type": "code",
   "execution_count": null,
   "metadata": {},
   "outputs": [],
   "source": []
  }
 ],
 "metadata": {
  "kernelspec": {
   "display_name": "Python 3 (ipykernel)",
   "language": "python",
   "name": "python3"
  },
  "language_info": {
   "codemirror_mode": {
    "name": "ipython",
    "version": 3
   },
   "file_extension": ".py",
   "mimetype": "text/x-python",
   "name": "python",
   "nbconvert_exporter": "python",
   "pygments_lexer": "ipython3",
   "version": "3.9.5"
  },
  "toc": {
   "base_numbering": 1,
   "nav_menu": {},
   "number_sections": true,
   "sideBar": true,
   "skip_h1_title": true,
   "title_cell": "Table of Contents",
   "title_sidebar": "Contents",
   "toc_cell": false,
   "toc_position": {},
   "toc_section_display": true,
   "toc_window_display": true
  }
 },
 "nbformat": 4,
 "nbformat_minor": 2
}
