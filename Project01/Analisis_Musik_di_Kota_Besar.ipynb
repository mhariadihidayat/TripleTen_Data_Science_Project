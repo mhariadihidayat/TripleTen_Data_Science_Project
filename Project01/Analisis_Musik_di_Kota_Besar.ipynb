{
 "cells": [
  {
   "cell_type": "markdown",
   "metadata": {
    "id": "E0vqbgi9ay0H"
   },
   "source": [
    "# Analisis Preferensi Musik di Springfield dan Shelbyville"
   ]
  },
  {
   "cell_type": "markdown",
   "metadata": {
    "id": "fhq_eyov_Zcs"
   },
   "source": [
    "# Konten <a id='back'></a>\n",
    "\n",
    "* [Pendahuluan](#intro)\n",
    "* [Tahap 1. Ikhtisar Data](#data_review)\n",
    "    * [Kesimpulan](#data_review_conclusions)\n",
    "* [Tahap 2. Pra-pemrosesan Data](#data_preprocessing)\n",
    "    * [2.1 Gaya penulisan judul](#header_style)\n",
    "    * [2.2 Nilai-nilai yang hilang](#missing_values)\n",
    "    * [2.3 Duplikat](#duplicates)\n",
    "    * [2.4 Kesimpulan](#data_preprocessing_conclusions)\n",
    "* [Tahap 3. Menguji Hipotesis](#hypotheses)\n",
    "    * [3.1 Hipotesis 1: aktivitas pengguna di dua kota](#activity)\n",
    "    * [3.2 Hipotesis 2: preferensi musik pada hari Senin dan Jumat](#week)\n",
    "    * [3.3 Hipotesis 3: preferensi genre di kota Springfield dan Shelbyville](#genre)\n",
    "* [Temuan](#end)"
   ]
  },
  {
   "cell_type": "markdown",
   "metadata": {
    "id": "VUC88oWjTJw2"
   },
   "source": [
    "## Pendahuluan <a id='intro'></a>\n",
    "Setiap kali kita melakukan penelitian, kita perlu merumuskan hipotesis yang kemudian dapat kita uji. Terkadang kita menerima hipotesis ini; tetapi terkadang kita juga menolaknya. Untuk membuat keputusan yang tepat, sebuah bisnis harus dapat memahami apakah asumsi yang dibuatnya benar atau tidak.\n",
    "\n",
    "Dalam proyek kali ini, Anda akan membandingkan preferensi musik kota Springfield dan Shelbyville. Anda akan mempelajari data Y.Music yang sebenarnya untuk menguji hipotesis di bawah ini dan membandingkan perilaku pengguna di kedua kota ini.\n",
    "\n",
    "### Tujuan: \n",
    "Menguji tiga hipotesis:\n",
    "1. Aktivitas pengguna berbeda-beda tergantung pada hari dan kotanya.\n",
    "2. Pada senin pagi, penduduk Springfield dan Shelbyville mendengarkan genre yang berbeda. Hal ini juga ini juga berlaku untuk Jumat malam.\n",
    "3. Pendengar di Springfield dan Shelbyville memiliki preferensi yang berbeda. Di Springfield, mereka lebih suka musik pop, sementara Shelbyville, musik rap memiliki lebih banyak penggemar.\n",
    "\n",
    "### Tahapan\n",
    "Data tentang perilaku pengguna disimpan dalam berkas `/datasets/music_project_en.csv`. Tidak ada informasi tentang kualitas data, jadi Anda perlu memeriksanya lebih dahulu sebelum menguji hipotesis.\n",
    "\n",
    "Pertama, Anda akan mengevaluasi kualitas data dan melihat apakah masalahnya signifikan. Kemudian, selama pra-pemrosesan data, Anda akan mencoba memperhitungkan masalah yang paling serius.\n",
    " \n",
    "Proyek ini akan terdiri dari tiga tahap:\n",
    " 1. Ikhtisar Data\n",
    " 2. Pra-pemrosesan Data\n",
    " 3. Menguji Hipotesis\n",
    "\n",
    " \n",
    "[Kembali ke Daftar Isi](#back)"
   ]
  },
  {
   "cell_type": "markdown",
   "metadata": {
    "id": "Ml1hmfXC_Zcs"
   },
   "source": [
    "## Tahap 1. Ikhtisar Data <a id='data_review'></a>\n",
    "\n",
    "`NOTE` : Buka data di Y.Music lalu jelajahi data yang ada di sana."
   ]
  },
  {
   "cell_type": "markdown",
   "metadata": {
    "id": "57eAOGIz_Zcs"
   },
   "source": [
    "#### `Step 1` : Anda akan membutuhkan `Pandas`, jadi Anda harus mengimpornya."
   ]
  },
  {
   "cell_type": "code",
   "execution_count": 1,
   "metadata": {
    "id": "AXN7PHPN_Zcs"
   },
   "outputs": [],
   "source": [
    "# langkah 1 : perintah untuk mengimpor pandas dalam membaca data\n",
    "\n",
    "import pandas as pd\n"
   ]
  },
  {
   "cell_type": "markdown",
   "metadata": {
    "id": "SG23P8tt_Zcs"
   },
   "source": [
    "#### `Step 2` : Baca file dengan nama `music_project_en.csv` dari folder `/datasets/` lalu simpan di variabel `df`:"
   ]
  },
  {
   "cell_type": "code",
   "execution_count": 2,
   "metadata": {},
   "outputs": [],
   "source": [
    "# langkah 2 : perintah untuk membaca data dengan nama 'music_project_en.csv' dari folder '/datasets' dan menyimpannya di variabel 'df'. \n",
    "\n",
    "df = pd.read_csv('/datasets/music_project_en.csv')"
   ]
  },
  {
   "cell_type": "markdown",
   "metadata": {},
   "source": [
    "#### `Step 3` : Menampilkan deskriptif dari isi data `'/datasets/music_project_en.csv'` menggunakan Function/fungsi : `describe()`"
   ]
  },
  {
   "cell_type": "code",
   "execution_count": 3,
   "metadata": {
    "id": "fFVu7vqh_Zct",
    "scrolled": false
   },
   "outputs": [
    {
     "data": {
      "text/html": [
       "<div>\n",
       "<style scoped>\n",
       "    .dataframe tbody tr th:only-of-type {\n",
       "        vertical-align: middle;\n",
       "    }\n",
       "\n",
       "    .dataframe tbody tr th {\n",
       "        vertical-align: top;\n",
       "    }\n",
       "\n",
       "    .dataframe thead th {\n",
       "        text-align: right;\n",
       "    }\n",
       "</style>\n",
       "<table border=\"1\" class=\"dataframe\">\n",
       "  <thead>\n",
       "    <tr style=\"text-align: right;\">\n",
       "      <th></th>\n",
       "      <th>userID</th>\n",
       "      <th>Track</th>\n",
       "      <th>artist</th>\n",
       "      <th>genre</th>\n",
       "      <th>City</th>\n",
       "      <th>time</th>\n",
       "      <th>Day</th>\n",
       "    </tr>\n",
       "  </thead>\n",
       "  <tbody>\n",
       "    <tr>\n",
       "      <th>count</th>\n",
       "      <td>65079</td>\n",
       "      <td>63736</td>\n",
       "      <td>57512</td>\n",
       "      <td>63881</td>\n",
       "      <td>65079</td>\n",
       "      <td>65079</td>\n",
       "      <td>65079</td>\n",
       "    </tr>\n",
       "    <tr>\n",
       "      <th>unique</th>\n",
       "      <td>41748</td>\n",
       "      <td>39666</td>\n",
       "      <td>37806</td>\n",
       "      <td>268</td>\n",
       "      <td>2</td>\n",
       "      <td>20392</td>\n",
       "      <td>3</td>\n",
       "    </tr>\n",
       "    <tr>\n",
       "      <th>top</th>\n",
       "      <td>A8AE9169</td>\n",
       "      <td>Brand</td>\n",
       "      <td>Kartvelli</td>\n",
       "      <td>pop</td>\n",
       "      <td>Springfield</td>\n",
       "      <td>08:14:07</td>\n",
       "      <td>Friday</td>\n",
       "    </tr>\n",
       "    <tr>\n",
       "      <th>freq</th>\n",
       "      <td>76</td>\n",
       "      <td>136</td>\n",
       "      <td>136</td>\n",
       "      <td>8850</td>\n",
       "      <td>45360</td>\n",
       "      <td>14</td>\n",
       "      <td>23149</td>\n",
       "    </tr>\n",
       "  </tbody>\n",
       "</table>\n",
       "</div>"
      ],
      "text/plain": [
       "          userID  Track     artist  genre       City        time     Day\n",
       "count      65079  63736      57512  63881        65079     65079   65079\n",
       "unique     41748  39666      37806    268            2     20392       3\n",
       "top     A8AE9169  Brand  Kartvelli    pop  Springfield  08:14:07  Friday\n",
       "freq          76    136        136   8850        45360        14   23149"
      ]
     },
     "execution_count": 3,
     "metadata": {},
     "output_type": "execute_result"
    }
   ],
   "source": [
    "# langkah 3 : perintah `describe()` dengan memanggil variabel 'df' sebagai tujuan dari folder yang telah kita simpan, untuk melihat deskripsi dari isi data#\n",
    "\n",
    "df.describe()"
   ]
  },
  {
   "cell_type": "markdown",
   "metadata": {
    "id": "rDoOMd3uTqnZ"
   },
   "source": [
    "#### `Step 4` : Menampilkan  10 baris tabel pertama dari tabel `df`  :"
   ]
  },
  {
   "cell_type": "code",
   "execution_count": 4,
   "metadata": {
    "id": "oWTVX3gW_Zct",
    "scrolled": true
   },
   "outputs": [
    {
     "data": {
      "text/html": [
       "<div>\n",
       "<style scoped>\n",
       "    .dataframe tbody tr th:only-of-type {\n",
       "        vertical-align: middle;\n",
       "    }\n",
       "\n",
       "    .dataframe tbody tr th {\n",
       "        vertical-align: top;\n",
       "    }\n",
       "\n",
       "    .dataframe thead th {\n",
       "        text-align: right;\n",
       "    }\n",
       "</style>\n",
       "<table border=\"1\" class=\"dataframe\">\n",
       "  <thead>\n",
       "    <tr style=\"text-align: right;\">\n",
       "      <th></th>\n",
       "      <th>userID</th>\n",
       "      <th>Track</th>\n",
       "      <th>artist</th>\n",
       "      <th>genre</th>\n",
       "      <th>City</th>\n",
       "      <th>time</th>\n",
       "      <th>Day</th>\n",
       "    </tr>\n",
       "  </thead>\n",
       "  <tbody>\n",
       "    <tr>\n",
       "      <th>0</th>\n",
       "      <td>FFB692EC</td>\n",
       "      <td>Kamigata To Boots</td>\n",
       "      <td>The Mass Missile</td>\n",
       "      <td>rock</td>\n",
       "      <td>Shelbyville</td>\n",
       "      <td>20:28:33</td>\n",
       "      <td>Wednesday</td>\n",
       "    </tr>\n",
       "    <tr>\n",
       "      <th>1</th>\n",
       "      <td>55204538</td>\n",
       "      <td>Delayed Because of Accident</td>\n",
       "      <td>Andreas Rönnberg</td>\n",
       "      <td>rock</td>\n",
       "      <td>Springfield</td>\n",
       "      <td>14:07:09</td>\n",
       "      <td>Friday</td>\n",
       "    </tr>\n",
       "    <tr>\n",
       "      <th>2</th>\n",
       "      <td>20EC38</td>\n",
       "      <td>Funiculì funiculà</td>\n",
       "      <td>Mario Lanza</td>\n",
       "      <td>pop</td>\n",
       "      <td>Shelbyville</td>\n",
       "      <td>20:58:07</td>\n",
       "      <td>Wednesday</td>\n",
       "    </tr>\n",
       "    <tr>\n",
       "      <th>3</th>\n",
       "      <td>A3DD03C9</td>\n",
       "      <td>Dragons in the Sunset</td>\n",
       "      <td>Fire + Ice</td>\n",
       "      <td>folk</td>\n",
       "      <td>Shelbyville</td>\n",
       "      <td>08:37:09</td>\n",
       "      <td>Monday</td>\n",
       "    </tr>\n",
       "    <tr>\n",
       "      <th>4</th>\n",
       "      <td>E2DC1FAE</td>\n",
       "      <td>Soul People</td>\n",
       "      <td>Space Echo</td>\n",
       "      <td>dance</td>\n",
       "      <td>Springfield</td>\n",
       "      <td>08:34:34</td>\n",
       "      <td>Monday</td>\n",
       "    </tr>\n",
       "    <tr>\n",
       "      <th>5</th>\n",
       "      <td>842029A1</td>\n",
       "      <td>Chains</td>\n",
       "      <td>Obladaet</td>\n",
       "      <td>rusrap</td>\n",
       "      <td>Shelbyville</td>\n",
       "      <td>13:09:41</td>\n",
       "      <td>Friday</td>\n",
       "    </tr>\n",
       "    <tr>\n",
       "      <th>6</th>\n",
       "      <td>4CB90AA5</td>\n",
       "      <td>True</td>\n",
       "      <td>Roman Messer</td>\n",
       "      <td>dance</td>\n",
       "      <td>Springfield</td>\n",
       "      <td>13:00:07</td>\n",
       "      <td>Wednesday</td>\n",
       "    </tr>\n",
       "    <tr>\n",
       "      <th>7</th>\n",
       "      <td>F03E1C1F</td>\n",
       "      <td>Feeling This Way</td>\n",
       "      <td>Polina Griffith</td>\n",
       "      <td>dance</td>\n",
       "      <td>Springfield</td>\n",
       "      <td>20:47:49</td>\n",
       "      <td>Wednesday</td>\n",
       "    </tr>\n",
       "    <tr>\n",
       "      <th>8</th>\n",
       "      <td>8FA1D3BE</td>\n",
       "      <td>L’estate</td>\n",
       "      <td>Julia Dalia</td>\n",
       "      <td>ruspop</td>\n",
       "      <td>Springfield</td>\n",
       "      <td>09:17:40</td>\n",
       "      <td>Friday</td>\n",
       "    </tr>\n",
       "    <tr>\n",
       "      <th>9</th>\n",
       "      <td>E772D5C0</td>\n",
       "      <td>Pessimist</td>\n",
       "      <td>NaN</td>\n",
       "      <td>dance</td>\n",
       "      <td>Shelbyville</td>\n",
       "      <td>21:20:49</td>\n",
       "      <td>Wednesday</td>\n",
       "    </tr>\n",
       "  </tbody>\n",
       "</table>\n",
       "</div>"
      ],
      "text/plain": [
       "     userID                        Track            artist   genre  \\\n",
       "0  FFB692EC            Kamigata To Boots  The Mass Missile    rock   \n",
       "1  55204538  Delayed Because of Accident  Andreas Rönnberg    rock   \n",
       "2    20EC38            Funiculì funiculà       Mario Lanza     pop   \n",
       "3  A3DD03C9        Dragons in the Sunset        Fire + Ice    folk   \n",
       "4  E2DC1FAE                  Soul People        Space Echo   dance   \n",
       "5  842029A1                       Chains          Obladaet  rusrap   \n",
       "6  4CB90AA5                         True      Roman Messer   dance   \n",
       "7  F03E1C1F             Feeling This Way   Polina Griffith   dance   \n",
       "8  8FA1D3BE                     L’estate       Julia Dalia  ruspop   \n",
       "9  E772D5C0                    Pessimist               NaN   dance   \n",
       "\n",
       "        City        time        Day  \n",
       "0  Shelbyville  20:28:33  Wednesday  \n",
       "1  Springfield  14:07:09     Friday  \n",
       "2  Shelbyville  20:58:07  Wednesday  \n",
       "3  Shelbyville  08:37:09     Monday  \n",
       "4  Springfield  08:34:34     Monday  \n",
       "5  Shelbyville  13:09:41     Friday  \n",
       "6  Springfield  13:00:07  Wednesday  \n",
       "7  Springfield  20:47:49  Wednesday  \n",
       "8  Springfield  09:17:40     Friday  \n",
       "9  Shelbyville  21:20:49  Wednesday  "
      ]
     },
     "execution_count": 4,
     "metadata": {},
     "output_type": "execute_result"
    }
   ],
   "source": [
    "# langkah 4 : perintah yang akan menampilkan 10 baris pertama dari tabel `df` :\n",
    "\n",
    "df.head(10)"
   ]
  },
  {
   "cell_type": "markdown",
   "metadata": {
    "id": "EO73Kwic_Zct"
   },
   "source": [
    "#### `Step 5 ` : Menampilkan informasi umum tentang tabel yang ada di dalam `variabel 'df'` dengan satu perintah :"
   ]
  },
  {
   "cell_type": "code",
   "execution_count": 5,
   "metadata": {
    "id": "DSf2kIb-_Zct",
    "scrolled": true
   },
   "outputs": [
    {
     "name": "stdout",
     "output_type": "stream",
     "text": [
      "<class 'pandas.core.frame.DataFrame'>\n",
      "RangeIndex: 65079 entries, 0 to 65078\n",
      "Data columns (total 7 columns):\n",
      " #   Column    Non-Null Count  Dtype \n",
      "---  ------    --------------  ----- \n",
      " 0     userID  65079 non-null  object\n",
      " 1   Track     63736 non-null  object\n",
      " 2   artist    57512 non-null  object\n",
      " 3   genre     63881 non-null  object\n",
      " 4     City    65079 non-null  object\n",
      " 5   time      65079 non-null  object\n",
      " 6   Day       65079 non-null  object\n",
      "dtypes: object(7)\n",
      "memory usage: 3.5+ MB\n"
     ]
    }
   ],
   "source": [
    "# langkah 5 : perintah untuk menampilkan informasi umum tentang data di dalam variabel 'df'\n",
    "\n",
    "df.info()\n"
   ]
  },
  {
   "cell_type": "markdown",
   "metadata": {
    "id": "TaQ2Iwbr_Zct"
   },
   "source": [
    "##### Hasil  yang dapat di lihat dari tabel diatas berisi tujuh kolom dan  semuanya menyimpan tipe data yang sama `Dtype` , yaitu: `objek`.\n",
    "\n",
    "A. Berdasarkan dokumentasi:\n",
    "- `'userID'` — pengenal pengguna\n",
    "- `'Track'` — judul trek\n",
    "- `'artist'` — nama artis\n",
    "- `'genre'` — jenis aliran musik (pop, rock, etc)\n",
    "- `'City'` — kota tempat pengguna berada\n",
    "- `'time'` — lama waktu lagu tersebut dimainkan\n",
    "- `'Day'` — nama hari\n",
    "\n",
    "B. Kita dapat melihat tiga masalah dengan gaya penulisan nama kolom:\n",
    "1. Beberapa nama huruf besar, beberapa huruf kecil.\n",
    "2. Ada penggunaan spasi pada beberapa nama.\n",
    "3. Penggunaan beberapa nama tanpa ada tanda pemisah contoh : `snake_case` yang seharusnya `user_id.`\n",
    "\n",
    "C. Jumlah nilai kolom berbeda. Ini berarti data mengandung nilai yang hilang.\n"
   ]
  },
  {
   "cell_type": "markdown",
   "metadata": {
    "id": "MCB6-dXG_Zct"
   },
   "source": [
    "### Kesimpulan <a id='data_review_conclusions'></a> \n",
    "\n",
    "Setiap baris dalam tabel menyimpan data pada lagu yang dimainkan. Beberapa kolom menggambarkan lagu itu sendiri: judul, artis, dan genre. Sisanya menyampaikan informasi tentang pengguna: kota asal mereka, waktu mereka memutar lagu.\n",
    "\n",
    "Jelas bahwa data tersebut cukup untuk menguji hipotesis. Namun, ada nilai-nilai yang hilang.\n",
    "\n",
    "Selanjutnya, kita perlu melakukan pra-pemrosesan data terlebih dahulu."
   ]
  },
  {
   "cell_type": "markdown",
   "metadata": {
    "id": "3eL__vcwViOi"
   },
   "source": [
    "[Kembali ke Daftar Isi](#back)"
   ]
  },
  {
   "cell_type": "markdown",
   "metadata": {
    "id": "SjYF6Ub9_Zct"
   },
   "source": [
    "## Tahap 2. Pra-pemrosesan Data <a id='data_preprocessing'></a>\n",
    "`NOTE` : Perbaiki format pada judul kolom dan atasi nilai yang hilang. Kemudian, periksa apakah ada duplikat dalam data."
   ]
  },
  {
   "cell_type": "markdown",
   "metadata": {
    "id": "dIaKXr29_Zct"
   },
   "source": [
    "### 1. Gaya Penulisan Judul <a id='header_style'></a>\n"
   ]
  },
  {
   "cell_type": "markdown",
   "metadata": {},
   "source": [
    "`Step 1` : Menampilkan judul kolom dari tabel `df`\n"
   ]
  },
  {
   "cell_type": "code",
   "execution_count": 6,
   "metadata": {
    "id": "oKOTdF_Q_Zct",
    "scrolled": true
   },
   "outputs": [
    {
     "data": {
      "text/plain": [
       "Index(['  userID', 'Track', 'artist', 'genre', '  City  ', 'time', 'Day'], dtype='object')"
      ]
     },
     "execution_count": 6,
     "metadata": {},
     "output_type": "execute_result"
    }
   ],
   "source": [
    "# perintah untuk menampilkan daftar nama yang ada di kolom pada tabel 'df'\n",
    "df.columns"
   ]
  },
  {
   "cell_type": "markdown",
   "metadata": {
    "id": "zj5534cv_Zct"
   },
   "source": [
    "`Step 2` : Ubah nama kolom sesuai dengan aturan gaya penulisan yang baik:\n",
    "* Jika nama memiliki beberapa kata, gunakan snake_case\n",
    "* Semua karakter harus menggunakan huruf kecil\n",
    "* Hapus spasi"
   ]
  },
  {
   "cell_type": "code",
   "execution_count": 7,
   "metadata": {
    "id": "ISlFqs5y_Zct"
   },
   "outputs": [],
   "source": [
    "# perintah untuk mengganti nama kolom sesuai dengan aturan gaya penulisan yang baik :\n",
    "\n",
    "df = df.rename(\n",
    "    columns={\n",
    "        '  userID' : 'user_id',\n",
    "        'Track'    : 'track',\n",
    "        '  City  ' : 'city',\n",
    "        'Day'      : 'day'     \n",
    "    }\n",
    ")"
   ]
  },
  {
   "cell_type": "code",
   "execution_count": 8,
   "metadata": {},
   "outputs": [
    {
     "data": {
      "text/plain": [
       "Index(['user_id', 'track', 'artist', 'genre', 'city', 'time', 'day'], dtype='object')"
      ]
     },
     "execution_count": 8,
     "metadata": {},
     "output_type": "execute_result"
    }
   ],
   "source": [
    "df.columns"
   ]
  },
  {
   "cell_type": "markdown",
   "metadata": {},
   "source": [
    "<div class=\"alert alert-warning\">\n",
    "<b>Reviewer's comment v1</b> <a class=\"tocSkip\"></a>\n",
    "\n",
    "`print()` disini sudah tidak diperlukan untuk menampilkan output karena kode sudah berada dibaris terakhir pada sel tersebut.\n",
    "\n",
    "</div>"
   ]
  },
  {
   "cell_type": "markdown",
   "metadata": {
    "id": "xYJk6ksJVpOl"
   },
   "source": [
    "[Kembali ke Daftar Isi](#back)"
   ]
  },
  {
   "cell_type": "markdown",
   "metadata": {
    "id": "5ISfbcfY_Zct"
   },
   "source": [
    "### 2. Nilai-Nilai yang Hilang <a id='missing_values'></a>\n",
    "`Note` Pertama, temukan jumlah nilai yang hilang dalam tabel. Untuk melakukannya, gunakan dua metode `Pandas`:"
   ]
  },
  {
   "cell_type": "markdown",
   "metadata": {},
   "source": [
    "`Step 1` : Menampilkan data pada variabel `df` untuk menemukan nilai yang hilang pada tabel :"
   ]
  },
  {
   "cell_type": "code",
   "execution_count": 9,
   "metadata": {},
   "outputs": [
    {
     "data": {
      "text/html": [
       "<div>\n",
       "<style scoped>\n",
       "    .dataframe tbody tr th:only-of-type {\n",
       "        vertical-align: middle;\n",
       "    }\n",
       "\n",
       "    .dataframe tbody tr th {\n",
       "        vertical-align: top;\n",
       "    }\n",
       "\n",
       "    .dataframe thead th {\n",
       "        text-align: right;\n",
       "    }\n",
       "</style>\n",
       "<table border=\"1\" class=\"dataframe\">\n",
       "  <thead>\n",
       "    <tr style=\"text-align: right;\">\n",
       "      <th></th>\n",
       "      <th>user_id</th>\n",
       "      <th>track</th>\n",
       "      <th>artist</th>\n",
       "      <th>genre</th>\n",
       "      <th>city</th>\n",
       "      <th>time</th>\n",
       "      <th>day</th>\n",
       "    </tr>\n",
       "  </thead>\n",
       "  <tbody>\n",
       "    <tr>\n",
       "      <th>0</th>\n",
       "      <td>FFB692EC</td>\n",
       "      <td>Kamigata To Boots</td>\n",
       "      <td>The Mass Missile</td>\n",
       "      <td>rock</td>\n",
       "      <td>Shelbyville</td>\n",
       "      <td>20:28:33</td>\n",
       "      <td>Wednesday</td>\n",
       "    </tr>\n",
       "    <tr>\n",
       "      <th>1</th>\n",
       "      <td>55204538</td>\n",
       "      <td>Delayed Because of Accident</td>\n",
       "      <td>Andreas Rönnberg</td>\n",
       "      <td>rock</td>\n",
       "      <td>Springfield</td>\n",
       "      <td>14:07:09</td>\n",
       "      <td>Friday</td>\n",
       "    </tr>\n",
       "    <tr>\n",
       "      <th>2</th>\n",
       "      <td>20EC38</td>\n",
       "      <td>Funiculì funiculà</td>\n",
       "      <td>Mario Lanza</td>\n",
       "      <td>pop</td>\n",
       "      <td>Shelbyville</td>\n",
       "      <td>20:58:07</td>\n",
       "      <td>Wednesday</td>\n",
       "    </tr>\n",
       "    <tr>\n",
       "      <th>3</th>\n",
       "      <td>A3DD03C9</td>\n",
       "      <td>Dragons in the Sunset</td>\n",
       "      <td>Fire + Ice</td>\n",
       "      <td>folk</td>\n",
       "      <td>Shelbyville</td>\n",
       "      <td>08:37:09</td>\n",
       "      <td>Monday</td>\n",
       "    </tr>\n",
       "    <tr>\n",
       "      <th>4</th>\n",
       "      <td>E2DC1FAE</td>\n",
       "      <td>Soul People</td>\n",
       "      <td>Space Echo</td>\n",
       "      <td>dance</td>\n",
       "      <td>Springfield</td>\n",
       "      <td>08:34:34</td>\n",
       "      <td>Monday</td>\n",
       "    </tr>\n",
       "    <tr>\n",
       "      <th>5</th>\n",
       "      <td>842029A1</td>\n",
       "      <td>Chains</td>\n",
       "      <td>Obladaet</td>\n",
       "      <td>rusrap</td>\n",
       "      <td>Shelbyville</td>\n",
       "      <td>13:09:41</td>\n",
       "      <td>Friday</td>\n",
       "    </tr>\n",
       "    <tr>\n",
       "      <th>6</th>\n",
       "      <td>4CB90AA5</td>\n",
       "      <td>True</td>\n",
       "      <td>Roman Messer</td>\n",
       "      <td>dance</td>\n",
       "      <td>Springfield</td>\n",
       "      <td>13:00:07</td>\n",
       "      <td>Wednesday</td>\n",
       "    </tr>\n",
       "    <tr>\n",
       "      <th>7</th>\n",
       "      <td>F03E1C1F</td>\n",
       "      <td>Feeling This Way</td>\n",
       "      <td>Polina Griffith</td>\n",
       "      <td>dance</td>\n",
       "      <td>Springfield</td>\n",
       "      <td>20:47:49</td>\n",
       "      <td>Wednesday</td>\n",
       "    </tr>\n",
       "    <tr>\n",
       "      <th>8</th>\n",
       "      <td>8FA1D3BE</td>\n",
       "      <td>L’estate</td>\n",
       "      <td>Julia Dalia</td>\n",
       "      <td>ruspop</td>\n",
       "      <td>Springfield</td>\n",
       "      <td>09:17:40</td>\n",
       "      <td>Friday</td>\n",
       "    </tr>\n",
       "    <tr>\n",
       "      <th>9</th>\n",
       "      <td>E772D5C0</td>\n",
       "      <td>Pessimist</td>\n",
       "      <td>NaN</td>\n",
       "      <td>dance</td>\n",
       "      <td>Shelbyville</td>\n",
       "      <td>21:20:49</td>\n",
       "      <td>Wednesday</td>\n",
       "    </tr>\n",
       "    <tr>\n",
       "      <th>10</th>\n",
       "      <td>BC5A3A29</td>\n",
       "      <td>Gool la Mita</td>\n",
       "      <td>Shireen Abdul Wahab</td>\n",
       "      <td>world</td>\n",
       "      <td>Springfield</td>\n",
       "      <td>14:08:42</td>\n",
       "      <td>Monday</td>\n",
       "    </tr>\n",
       "    <tr>\n",
       "      <th>11</th>\n",
       "      <td>8B5192C0</td>\n",
       "      <td>Is There Anybody Out There? (Panoramic Paralys...</td>\n",
       "      <td>Pink Floyd Floydhead</td>\n",
       "      <td>electronic</td>\n",
       "      <td>Springfield</td>\n",
       "      <td>13:47:49</td>\n",
       "      <td>Monday</td>\n",
       "    </tr>\n",
       "    <tr>\n",
       "      <th>12</th>\n",
       "      <td>FF3FD2BD</td>\n",
       "      <td>Truth</td>\n",
       "      <td>Bamboo</td>\n",
       "      <td>pop</td>\n",
       "      <td>Springfield</td>\n",
       "      <td>09:19:49</td>\n",
       "      <td>Monday</td>\n",
       "    </tr>\n",
       "    <tr>\n",
       "      <th>13</th>\n",
       "      <td>CC782B0F</td>\n",
       "      <td>After School Special</td>\n",
       "      <td>Detroit Grand Pubahs</td>\n",
       "      <td>dance</td>\n",
       "      <td>Springfield</td>\n",
       "      <td>20:04:12</td>\n",
       "      <td>Friday</td>\n",
       "    </tr>\n",
       "    <tr>\n",
       "      <th>14</th>\n",
       "      <td>94EB25C2</td>\n",
       "      <td>Make Love Whenever You Can</td>\n",
       "      <td>Arabesque</td>\n",
       "      <td>pop</td>\n",
       "      <td>Shelbyville</td>\n",
       "      <td>13:22:08</td>\n",
       "      <td>Wednesday</td>\n",
       "    </tr>\n",
       "    <tr>\n",
       "      <th>15</th>\n",
       "      <td>E3C5756F</td>\n",
       "      <td>NaN</td>\n",
       "      <td>NaN</td>\n",
       "      <td>NaN</td>\n",
       "      <td>Springfield</td>\n",
       "      <td>09:24:51</td>\n",
       "      <td>Monday</td>\n",
       "    </tr>\n",
       "    <tr>\n",
       "      <th>16</th>\n",
       "      <td>81D05C7D</td>\n",
       "      <td>SLAVES OF FEAR</td>\n",
       "      <td>HEALTH</td>\n",
       "      <td>alternative</td>\n",
       "      <td>Shelbyville</td>\n",
       "      <td>20:54:48</td>\n",
       "      <td>Monday</td>\n",
       "    </tr>\n",
       "    <tr>\n",
       "      <th>17</th>\n",
       "      <td>39DE290E</td>\n",
       "      <td>Hallo Hallo</td>\n",
       "      <td>Die Klima Hawaiians</td>\n",
       "      <td>folk</td>\n",
       "      <td>Shelbyville</td>\n",
       "      <td>14:36:47</td>\n",
       "      <td>Monday</td>\n",
       "    </tr>\n",
       "    <tr>\n",
       "      <th>18</th>\n",
       "      <td>58AE138A</td>\n",
       "      <td>Pat-a-Cake</td>\n",
       "      <td>Mother Goose Club</td>\n",
       "      <td>children</td>\n",
       "      <td>Shelbyville</td>\n",
       "      <td>20:04:56</td>\n",
       "      <td>Monday</td>\n",
       "    </tr>\n",
       "    <tr>\n",
       "      <th>19</th>\n",
       "      <td>772F5B59</td>\n",
       "      <td>Sweetback</td>\n",
       "      <td>The Fabulous Three</td>\n",
       "      <td>rnb</td>\n",
       "      <td>Springfield</td>\n",
       "      <td>13:56:42</td>\n",
       "      <td>Wednesday</td>\n",
       "    </tr>\n",
       "  </tbody>\n",
       "</table>\n",
       "</div>"
      ],
      "text/plain": [
       "     user_id                                              track  \\\n",
       "0   FFB692EC                                  Kamigata To Boots   \n",
       "1   55204538                        Delayed Because of Accident   \n",
       "2     20EC38                                  Funiculì funiculà   \n",
       "3   A3DD03C9                              Dragons in the Sunset   \n",
       "4   E2DC1FAE                                        Soul People   \n",
       "5   842029A1                                             Chains   \n",
       "6   4CB90AA5                                               True   \n",
       "7   F03E1C1F                                   Feeling This Way   \n",
       "8   8FA1D3BE                                           L’estate   \n",
       "9   E772D5C0                                          Pessimist   \n",
       "10  BC5A3A29                                       Gool la Mita   \n",
       "11  8B5192C0  Is There Anybody Out There? (Panoramic Paralys...   \n",
       "12  FF3FD2BD                                              Truth   \n",
       "13  CC782B0F                               After School Special   \n",
       "14  94EB25C2                         Make Love Whenever You Can   \n",
       "15  E3C5756F                                                NaN   \n",
       "16  81D05C7D                                     SLAVES OF FEAR   \n",
       "17  39DE290E                                        Hallo Hallo   \n",
       "18  58AE138A                                         Pat-a-Cake   \n",
       "19  772F5B59                                          Sweetback   \n",
       "\n",
       "                  artist        genre         city      time        day  \n",
       "0       The Mass Missile         rock  Shelbyville  20:28:33  Wednesday  \n",
       "1       Andreas Rönnberg         rock  Springfield  14:07:09     Friday  \n",
       "2            Mario Lanza          pop  Shelbyville  20:58:07  Wednesday  \n",
       "3             Fire + Ice         folk  Shelbyville  08:37:09     Monday  \n",
       "4             Space Echo        dance  Springfield  08:34:34     Monday  \n",
       "5               Obladaet       rusrap  Shelbyville  13:09:41     Friday  \n",
       "6           Roman Messer        dance  Springfield  13:00:07  Wednesday  \n",
       "7        Polina Griffith        dance  Springfield  20:47:49  Wednesday  \n",
       "8            Julia Dalia       ruspop  Springfield  09:17:40     Friday  \n",
       "9                    NaN        dance  Shelbyville  21:20:49  Wednesday  \n",
       "10   Shireen Abdul Wahab        world  Springfield  14:08:42     Monday  \n",
       "11  Pink Floyd Floydhead   electronic  Springfield  13:47:49     Monday  \n",
       "12                Bamboo          pop  Springfield  09:19:49     Monday  \n",
       "13  Detroit Grand Pubahs        dance  Springfield  20:04:12     Friday  \n",
       "14             Arabesque          pop  Shelbyville  13:22:08  Wednesday  \n",
       "15                   NaN          NaN  Springfield  09:24:51     Monday  \n",
       "16                HEALTH  alternative  Shelbyville  20:54:48     Monday  \n",
       "17   Die Klima Hawaiians         folk  Shelbyville  14:36:47     Monday  \n",
       "18     Mother Goose Club     children  Shelbyville  20:04:56     Monday  \n",
       "19    The Fabulous Three          rnb  Springfield  13:56:42  Wednesday  "
      ]
     },
     "execution_count": 9,
     "metadata": {},
     "output_type": "execute_result"
    }
   ],
   "source": [
    "# perintah untuk menampilkan menampilkan 20 baris pertama tabel : \n",
    "\n",
    "df.head(20)\n"
   ]
  },
  {
   "cell_type": "markdown",
   "metadata": {},
   "source": [
    "Dalam `dataset` diatas, dapat dilihat pada `columns` `'artist'` pada `index` `9, 15` terdapat nilai yang hilang `Nan`. maka langkah berikutnya kita akan `menghitung nilai yang hilang` pada `/datasets/` `'df'`."
   ]
  },
  {
   "cell_type": "markdown",
   "metadata": {},
   "source": [
    "`Step 2` : Menghitung dan menampilkan `nilai yang hilang` pada pada `tabel` variabel `df` menggunakan `metode` `isna()` dan `sum()`. "
   ]
  },
  {
   "cell_type": "code",
   "execution_count": 10,
   "metadata": {
    "id": "RskX29qr_Zct",
    "scrolled": true
   },
   "outputs": [
    {
     "data": {
      "text/plain": [
       "user_id       0\n",
       "track      1343\n",
       "artist     7567\n",
       "genre      1198\n",
       "city          0\n",
       "time          0\n",
       "day           0\n",
       "dtype: int64"
      ]
     },
     "execution_count": 10,
     "metadata": {},
     "output_type": "execute_result"
    }
   ],
   "source": [
    "# perintah untuk menghitung nilai yang hilang pada pada tabel variabel df:\n",
    "\n",
    "df.isna().sum()"
   ]
  },
  {
   "cell_type": "markdown",
   "metadata": {
    "id": "qubhgnlO_Zct"
   },
   "source": [
    "Tidak semua nilai yang hilang berpengaruh terhadap penelitian. Misalnya, nilai yang hilang dalam `track` dan `artist` tidak begitu penting. Anda cukup menggantinya dengan tanda yang jelas.\n",
    "\n",
    "Namun nilai yang hilang dalam `'genre'` dapat memengaruhi perbandingan preferensi musik di Springfield dan Shelbyville. Dalam kehidupan nyata, ini akan berguna untuk mempelajari alasan mengapa data tersebut hilang dan mencoba memperbaikinya. Tetapi kita tidak memiliki kesempatan itu dalam proyek ini. Jadi Anda harus:\n",
    "* Isi nilai yang hilang ini dengan sebuah tanda\n",
    "* Evaluasi seberapa besar nilai yang hilang dapat memengaruhi perhitungan Anda"
   ]
  },
  {
   "cell_type": "markdown",
   "metadata": {
    "id": "fSv2laPA_Zct"
   },
   "source": [
    "`Note` : Ganti nilai yang hilang pada `'track'`, `'artist'`, dan `'genre'` dengan string `'unknown'`. Untuk melakukannya, buat list `columns_to_replace`, lakukan *loop* dengan `for`, dan ganti nilai yang hilang di setiap kolom:"
   ]
  },
  {
   "cell_type": "markdown",
   "metadata": {},
   "source": [
    "`Step 3` : Mengganti nilai yang hilang pada `columns`: ['track', 'artist', 'genre'] dengan tipe data `string` `'unknown'`."
   ]
  },
  {
   "cell_type": "code",
   "execution_count": 11,
   "metadata": {
    "id": "KplB5qWs_Zct",
    "scrolled": false
   },
   "outputs": [],
   "source": [
    "# Perintah untuk loop nama kolom dan ganti nilai yang hilang dengan 'unknown'\n",
    "\n",
    "columns_to_replace = ['track', 'artist', 'genre']\n",
    "\n",
    "for columns in columns_to_replace:\n",
    "    df[columns_to_replace] = df[columns_to_replace].fillna('unknown')\n",
    "\n",
    "\n"
   ]
  },
  {
   "cell_type": "markdown",
   "metadata": {
    "id": "Ilsm-MZo_Zct"
   },
   "source": [
    "`Step 4'` : Pastikan tidak ada tabel lagi yang berisi nilai yang hilang. Hitung kembali nilai yang hilang."
   ]
  },
  {
   "cell_type": "code",
   "execution_count": 12,
   "metadata": {
    "id": "Tq4nYRX4_Zct"
   },
   "outputs": [
    {
     "data": {
      "text/plain": [
       "user_id    0\n",
       "track      0\n",
       "artist     0\n",
       "genre      0\n",
       "city       0\n",
       "time       0\n",
       "day        0\n",
       "dtype: int64"
      ]
     },
     "execution_count": 12,
     "metadata": {},
     "output_type": "execute_result"
    }
   ],
   "source": [
    "# perintah untuk menghitung nilai yang hilang pada pada tabel variabel df:\n",
    "\n",
    "df.isna().sum()"
   ]
  },
  {
   "cell_type": "markdown",
   "metadata": {},
   "source": [
    "Dari hasil perintah untuk menampilkan nilai yang hilang pada tabel variabel `df` pada kolom `'track, 'artist, 'genre'` nilai digantikan dengan nilai `0`. "
   ]
  },
  {
   "cell_type": "markdown",
   "metadata": {
    "id": "74ZIBmq9VrsK"
   },
   "source": [
    "[Kembali ke Daftar Isi](#back)"
   ]
  },
  {
   "cell_type": "markdown",
   "metadata": {
    "id": "BWKRtBJ3_Zct"
   },
   "source": [
    "### 3. Duplikasi   <a id='duplicates'></a>\n",
    "`NOTE` Temukan jumlah duplikat yang jelas dalam tabel menggunakan satu perintah:"
   ]
  },
  {
   "cell_type": "markdown",
   "metadata": {},
   "source": [
    "`Step 1` : Perintah untuk menghitung duplikasi data pada variabel `df` "
   ]
  },
  {
   "cell_type": "code",
   "execution_count": 13,
   "metadata": {},
   "outputs": [
    {
     "data": {
      "text/plain": [
       "3826"
      ]
     },
     "execution_count": 13,
     "metadata": {},
     "output_type": "execute_result"
    }
   ],
   "source": [
    "# Perintah untuk menghitung semua data duplikat yang jelas pada variabel 'df '\n",
    "\n",
    "df.duplicated().sum()"
   ]
  },
  {
   "cell_type": "markdown",
   "metadata": {
    "id": "Ot25h6XR_Zct"
   },
   "source": [
    "`Step 3` : Panggil metode `Pandas` untuk menghapus duplikat yang jelas:"
   ]
  },
  {
   "cell_type": "code",
   "execution_count": 14,
   "metadata": {
    "id": "exFHq6tt_Zct"
   },
   "outputs": [],
   "source": [
    "# Perintah dengan memanggil metode `Pandas` untuk menghapus duplikat yang jelas\n",
    "\n",
    "\n",
    "df = df.drop_duplicates().reset_index(drop=True) \n",
    "\n"
   ]
  },
  {
   "cell_type": "code",
   "execution_count": 15,
   "metadata": {},
   "outputs": [
    {
     "data": {
      "text/html": [
       "<div>\n",
       "<style scoped>\n",
       "    .dataframe tbody tr th:only-of-type {\n",
       "        vertical-align: middle;\n",
       "    }\n",
       "\n",
       "    .dataframe tbody tr th {\n",
       "        vertical-align: top;\n",
       "    }\n",
       "\n",
       "    .dataframe thead th {\n",
       "        text-align: right;\n",
       "    }\n",
       "</style>\n",
       "<table border=\"1\" class=\"dataframe\">\n",
       "  <thead>\n",
       "    <tr style=\"text-align: right;\">\n",
       "      <th></th>\n",
       "      <th>user_id</th>\n",
       "      <th>track</th>\n",
       "      <th>artist</th>\n",
       "      <th>genre</th>\n",
       "      <th>city</th>\n",
       "      <th>time</th>\n",
       "      <th>day</th>\n",
       "    </tr>\n",
       "  </thead>\n",
       "  <tbody>\n",
       "    <tr>\n",
       "      <th>0</th>\n",
       "      <td>FFB692EC</td>\n",
       "      <td>Kamigata To Boots</td>\n",
       "      <td>The Mass Missile</td>\n",
       "      <td>rock</td>\n",
       "      <td>Shelbyville</td>\n",
       "      <td>20:28:33</td>\n",
       "      <td>Wednesday</td>\n",
       "    </tr>\n",
       "    <tr>\n",
       "      <th>1</th>\n",
       "      <td>55204538</td>\n",
       "      <td>Delayed Because of Accident</td>\n",
       "      <td>Andreas Rönnberg</td>\n",
       "      <td>rock</td>\n",
       "      <td>Springfield</td>\n",
       "      <td>14:07:09</td>\n",
       "      <td>Friday</td>\n",
       "    </tr>\n",
       "    <tr>\n",
       "      <th>2</th>\n",
       "      <td>20EC38</td>\n",
       "      <td>Funiculì funiculà</td>\n",
       "      <td>Mario Lanza</td>\n",
       "      <td>pop</td>\n",
       "      <td>Shelbyville</td>\n",
       "      <td>20:58:07</td>\n",
       "      <td>Wednesday</td>\n",
       "    </tr>\n",
       "    <tr>\n",
       "      <th>3</th>\n",
       "      <td>A3DD03C9</td>\n",
       "      <td>Dragons in the Sunset</td>\n",
       "      <td>Fire + Ice</td>\n",
       "      <td>folk</td>\n",
       "      <td>Shelbyville</td>\n",
       "      <td>08:37:09</td>\n",
       "      <td>Monday</td>\n",
       "    </tr>\n",
       "    <tr>\n",
       "      <th>4</th>\n",
       "      <td>E2DC1FAE</td>\n",
       "      <td>Soul People</td>\n",
       "      <td>Space Echo</td>\n",
       "      <td>dance</td>\n",
       "      <td>Springfield</td>\n",
       "      <td>08:34:34</td>\n",
       "      <td>Monday</td>\n",
       "    </tr>\n",
       "  </tbody>\n",
       "</table>\n",
       "</div>"
      ],
      "text/plain": [
       "    user_id                        track            artist  genre  \\\n",
       "0  FFB692EC            Kamigata To Boots  The Mass Missile   rock   \n",
       "1  55204538  Delayed Because of Accident  Andreas Rönnberg   rock   \n",
       "2    20EC38            Funiculì funiculà       Mario Lanza    pop   \n",
       "3  A3DD03C9        Dragons in the Sunset        Fire + Ice   folk   \n",
       "4  E2DC1FAE                  Soul People        Space Echo  dance   \n",
       "\n",
       "          city      time        day  \n",
       "0  Shelbyville  20:28:33  Wednesday  \n",
       "1  Springfield  14:07:09     Friday  \n",
       "2  Shelbyville  20:58:07  Wednesday  \n",
       "3  Shelbyville  08:37:09     Monday  \n",
       "4  Springfield  08:34:34     Monday  "
      ]
     },
     "execution_count": 15,
     "metadata": {},
     "output_type": "execute_result"
    }
   ],
   "source": [
    "df.head()"
   ]
  },
  {
   "cell_type": "markdown",
   "metadata": {
    "id": "Im2YwBEG_Zct"
   },
   "source": [
    "`Step 4` : Tampilkan data pada `variabel` `'df'` setelah menghapus duplikat yang jelas."
   ]
  },
  {
   "cell_type": "code",
   "execution_count": 16,
   "metadata": {
    "id": "-8PuNWQ0_Zct",
    "scrolled": true
   },
   "outputs": [
    {
     "data": {
      "text/plain": [
       "0"
      ]
     },
     "execution_count": 16,
     "metadata": {},
     "output_type": "execute_result"
    }
   ],
   "source": [
    "# memeriksa duplikat dengan menampikannya :\n",
    "\n",
    "df.duplicated().sum()"
   ]
  },
  {
   "cell_type": "markdown",
   "metadata": {},
   "source": [
    "`Step 5` : Hitung duplikat yang jelas sekali lagi untuk memastikan Anda telah menghapus semuanya:"
   ]
  },
  {
   "cell_type": "code",
   "execution_count": 17,
   "metadata": {},
   "outputs": [
    {
     "data": {
      "text/plain": [
       "0"
      ]
     },
     "execution_count": 17,
     "metadata": {},
     "output_type": "execute_result"
    }
   ],
   "source": [
    "# menghitung ulang jumlah duplikasi data pada variabel `df`:\n",
    "\n",
    "df.duplicated().sum()"
   ]
  },
  {
   "cell_type": "markdown",
   "metadata": {},
   "source": [
    "`NOTE` : Disini kita dapat melihat hasil dari metode `.drop_duplicates()` dari nilai awal `3826` menjadi nilai  `0`.\n",
    "\n"
   ]
  },
  {
   "cell_type": "markdown",
   "metadata": {
    "id": "QlFBsxAr_Zct"
   },
   "source": [
    "`Step 6` : Sekarang hapus duplikat implisit di kolom `genre`. Misalnya, nama `'genre'` dapat ditulis dengan cara yang berbeda. Kesalahan seperti ini juga akan mempengaruhi hasil."
   ]
  },
  {
   "cell_type": "markdown",
   "metadata": {
    "id": "eSjWwsOh_Zct"
   },
   "source": [
    "`NOTE` : Tampilkan daftar nama genre yang unik, urutkan berdasarkan abjad. Untuk melakukannya:\n",
    "* Ambil kolom DataFrame yang dimaksud\n",
    "* Terapkan metode pengurutan untuk itu\n",
    "* Untuk kolom yang diurutkan, panggil metode yang akan menghasilkan semua nilai kolom yang unik"
   ]
  },
  {
   "cell_type": "code",
   "execution_count": 18,
   "metadata": {
    "id": "JIUcqzZN_Zct",
    "scrolled": true
   },
   "outputs": [
    {
     "data": {
      "text/plain": [
       "array(['acid', 'acoustic', 'action', 'adult', 'africa', 'afrikaans',\n",
       "       'alternative', 'ambient', 'americana', 'animated', 'anime',\n",
       "       'arabesk', 'arabic', 'arena', 'argentinetango', 'art', 'audiobook',\n",
       "       'avantgarde', 'axé', 'baile', 'balkan', 'beats', 'bigroom',\n",
       "       'black', 'bluegrass', 'blues', 'bollywood', 'bossa', 'brazilian',\n",
       "       'breakbeat', 'breaks', 'broadway', 'cantautori', 'cantopop',\n",
       "       'canzone', 'caribbean', 'caucasian', 'celtic', 'chamber',\n",
       "       'children', 'chill', 'chinese', 'choral', 'christian', 'christmas',\n",
       "       'classical', 'classicmetal', 'club', 'colombian', 'comedy',\n",
       "       'conjazz', 'contemporary', 'country', 'cuban', 'dance',\n",
       "       'dancehall', 'dancepop', 'dark', 'death', 'deep', 'deutschrock',\n",
       "       'deutschspr', 'dirty', 'disco', 'dnb', 'documentary', 'downbeat',\n",
       "       'downtempo', 'drum', 'dub', 'dubstep', 'eastern', 'easy',\n",
       "       'electronic', 'electropop', 'emo', 'entehno', 'epicmetal',\n",
       "       'estrada', 'ethnic', 'eurofolk', 'european', 'experimental',\n",
       "       'extrememetal', 'fado', 'film', 'fitness', 'flamenco', 'folk',\n",
       "       'folklore', 'folkmetal', 'folkrock', 'folktronica', 'forró',\n",
       "       'frankreich', 'französisch', 'french', 'funk', 'future', 'gangsta',\n",
       "       'garage', 'german', 'ghazal', 'gitarre', 'glitch', 'gospel',\n",
       "       'gothic', 'grime', 'grunge', 'gypsy', 'handsup', \"hard'n'heavy\",\n",
       "       'hardcore', 'hardstyle', 'hardtechno', 'hip', 'hip-hop', 'hiphop',\n",
       "       'historisch', 'holiday', 'hop', 'horror', 'house', 'idm',\n",
       "       'independent', 'indian', 'indie', 'indipop', 'industrial',\n",
       "       'inspirational', 'instrumental', 'international', 'irish', 'jam',\n",
       "       'japanese', 'jazz', 'jewish', 'jpop', 'jungle', 'k-pop',\n",
       "       'karadeniz', 'karaoke', 'kayokyoku', 'korean', 'laiko', 'latin',\n",
       "       'latino', 'leftfield', 'local', 'lounge', 'loungeelectronic',\n",
       "       'lovers', 'malaysian', 'mandopop', 'marschmusik', 'meditative',\n",
       "       'mediterranean', 'melodic', 'metal', 'metalcore', 'mexican',\n",
       "       'middle', 'minimal', 'miscellaneous', 'modern', 'mood', 'mpb',\n",
       "       'muslim', 'native', 'neoklassik', 'neue', 'new', 'newage',\n",
       "       'newwave', 'nu', 'nujazz', 'numetal', 'oceania', 'old', 'opera',\n",
       "       'orchestral', 'other', 'piano', 'pop', 'popelectronic',\n",
       "       'popeurodance', 'post', 'posthardcore', 'postrock', 'power',\n",
       "       'progmetal', 'progressive', 'psychedelic', 'punjabi', 'punk',\n",
       "       'quebecois', 'ragga', 'ram', 'rancheras', 'rap', 'rave', 'reggae',\n",
       "       'reggaeton', 'regional', 'relax', 'religious', 'retro', 'rhythm',\n",
       "       'rnb', 'rnr', 'rock', 'rockabilly', 'romance', 'roots', 'ruspop',\n",
       "       'rusrap', 'rusrock', 'salsa', 'samba', 'schlager', 'self',\n",
       "       'sertanejo', 'shoegazing', 'showtunes', 'singer', 'ska', 'slow',\n",
       "       'smooth', 'soul', 'soulful', 'sound', 'soundtrack', 'southern',\n",
       "       'specialty', 'speech', 'spiritual', 'sport', 'stonerrock', 'surf',\n",
       "       'swing', 'synthpop', 'sängerportrait', 'tango', 'tanzorchester',\n",
       "       'taraftar', 'tech', 'techno', 'thrash', 'top', 'traditional',\n",
       "       'tradjazz', 'trance', 'tribal', 'trip', 'triphop', 'tropical',\n",
       "       'türk', 'türkçe', 'unknown', 'urban', 'uzbek', 'variété', 'vi',\n",
       "       'videogame', 'vocal', 'western', 'world', 'worldbeat', 'ïîï'],\n",
       "      dtype=object)"
      ]
     },
     "execution_count": 18,
     "metadata": {},
     "output_type": "execute_result"
    }
   ],
   "source": [
    "# melihat nama dari kolom `genre` yang unik\n",
    "\n",
    "df['genre'].sort_values(ascending=True).unique()"
   ]
  },
  {
   "cell_type": "markdown",
   "metadata": {
    "id": "qej-Qmuo_Zct"
   },
   "source": [
    "`STEP 7` : Sekarang lihat melalui *list* untuk menemukan duplikat implisit dari genre `hiphop`. Ini bisa berupa nama yang ditulis secara salah atau nama alternatif dari genre yang sama.\n",
    "\n",
    "Anda akan melihat duplikat implisit berikut:\n",
    "* `hip`\n",
    "* `hop`\n",
    "* `hip-hop`\n",
    "\n",
    "Untuk menghapusnya, gunakan fungsi `replace_wrong_genres()` dengan dua parameter:\n",
    "* `wrong_genres=` — daftar duplikat\n",
    "* `correct_genres=` — string dengan nilai yang benar\n",
    "\n",
    "Fungsi harus mengoreksi nama dalam kolom `'genre'` dari tabel `df`, yaitu mengganti setiap nilai dari daftar `wrong_genres` dengan nilai dalam `correct_genre`."
   ]
  },
  {
   "cell_type": "code",
   "execution_count": 19,
   "metadata": {
    "id": "ErNDkmns_Zct"
   },
   "outputs": [],
   "source": [
    "# perintah untuk fungsi `def` mengganti nilai duplikat implisit 'hip', 'hop', 'hip-hop' di variabel `df` pada kolom list 'genre' \n",
    "\n",
    "def replace_wrong_genres(wrong_genres, correct_genres):\n",
    "    for wrong_genre in wrong_genres: \n",
    "        df['genre'] = df['genre'].replace(wrong_genres, correct_genres)\n",
    "    \n",
    "    "
   ]
  },
  {
   "cell_type": "markdown",
   "metadata": {
    "id": "aDoBJxbA_Zct"
   },
   "source": [
    "`Step 8` : Panggil `replace_wrong_genres()` dan berikan argumennya sehingga menghapus duplikat implisit (`hip`, `hop`, dan `hip-hop`) dan menggantinya dengan `hiphop`:"
   ]
  },
  {
   "cell_type": "code",
   "execution_count": 20,
   "metadata": {
    "id": "YN5i2hpmSo09"
   },
   "outputs": [],
   "source": [
    "# memanggil fungsi untuk menghapus duplikat implisit\n",
    "\n",
    "wrong_genres = ['hip', 'hop', 'hip-hop']\n",
    "correct_genres = 'hiphop'\n",
    "replace_wrong_genres(wrong_genres, correct_genres)"
   ]
  },
  {
   "cell_type": "markdown",
   "metadata": {
    "id": "zQKF16_RG15m"
   },
   "source": [
    "`Step 9` : Pastikan nama duplikat telah dihapus. Tampilkan daftar nilai unik dari kolom `'genre'`:"
   ]
  },
  {
   "cell_type": "code",
   "execution_count": 21,
   "metadata": {
    "id": "wvixALnFG15m",
    "scrolled": true
   },
   "outputs": [
    {
     "data": {
      "text/plain": [
       "array(['acid', 'acoustic', 'action', 'adult', 'africa', 'afrikaans',\n",
       "       'alternative', 'ambient', 'americana', 'animated', 'anime',\n",
       "       'arabesk', 'arabic', 'arena', 'argentinetango', 'art', 'audiobook',\n",
       "       'avantgarde', 'axé', 'baile', 'balkan', 'beats', 'bigroom',\n",
       "       'black', 'bluegrass', 'blues', 'bollywood', 'bossa', 'brazilian',\n",
       "       'breakbeat', 'breaks', 'broadway', 'cantautori', 'cantopop',\n",
       "       'canzone', 'caribbean', 'caucasian', 'celtic', 'chamber',\n",
       "       'children', 'chill', 'chinese', 'choral', 'christian', 'christmas',\n",
       "       'classical', 'classicmetal', 'club', 'colombian', 'comedy',\n",
       "       'conjazz', 'contemporary', 'country', 'cuban', 'dance',\n",
       "       'dancehall', 'dancepop', 'dark', 'death', 'deep', 'deutschrock',\n",
       "       'deutschspr', 'dirty', 'disco', 'dnb', 'documentary', 'downbeat',\n",
       "       'downtempo', 'drum', 'dub', 'dubstep', 'eastern', 'easy',\n",
       "       'electronic', 'electropop', 'emo', 'entehno', 'epicmetal',\n",
       "       'estrada', 'ethnic', 'eurofolk', 'european', 'experimental',\n",
       "       'extrememetal', 'fado', 'film', 'fitness', 'flamenco', 'folk',\n",
       "       'folklore', 'folkmetal', 'folkrock', 'folktronica', 'forró',\n",
       "       'frankreich', 'französisch', 'french', 'funk', 'future', 'gangsta',\n",
       "       'garage', 'german', 'ghazal', 'gitarre', 'glitch', 'gospel',\n",
       "       'gothic', 'grime', 'grunge', 'gypsy', 'handsup', \"hard'n'heavy\",\n",
       "       'hardcore', 'hardstyle', 'hardtechno', 'hiphop', 'historisch',\n",
       "       'holiday', 'horror', 'house', 'idm', 'independent', 'indian',\n",
       "       'indie', 'indipop', 'industrial', 'inspirational', 'instrumental',\n",
       "       'international', 'irish', 'jam', 'japanese', 'jazz', 'jewish',\n",
       "       'jpop', 'jungle', 'k-pop', 'karadeniz', 'karaoke', 'kayokyoku',\n",
       "       'korean', 'laiko', 'latin', 'latino', 'leftfield', 'local',\n",
       "       'lounge', 'loungeelectronic', 'lovers', 'malaysian', 'mandopop',\n",
       "       'marschmusik', 'meditative', 'mediterranean', 'melodic', 'metal',\n",
       "       'metalcore', 'mexican', 'middle', 'minimal', 'miscellaneous',\n",
       "       'modern', 'mood', 'mpb', 'muslim', 'native', 'neoklassik', 'neue',\n",
       "       'new', 'newage', 'newwave', 'nu', 'nujazz', 'numetal', 'oceania',\n",
       "       'old', 'opera', 'orchestral', 'other', 'piano', 'pop',\n",
       "       'popelectronic', 'popeurodance', 'post', 'posthardcore',\n",
       "       'postrock', 'power', 'progmetal', 'progressive', 'psychedelic',\n",
       "       'punjabi', 'punk', 'quebecois', 'ragga', 'ram', 'rancheras', 'rap',\n",
       "       'rave', 'reggae', 'reggaeton', 'regional', 'relax', 'religious',\n",
       "       'retro', 'rhythm', 'rnb', 'rnr', 'rock', 'rockabilly', 'romance',\n",
       "       'roots', 'ruspop', 'rusrap', 'rusrock', 'salsa', 'samba',\n",
       "       'schlager', 'self', 'sertanejo', 'shoegazing', 'showtunes',\n",
       "       'singer', 'ska', 'slow', 'smooth', 'soul', 'soulful', 'sound',\n",
       "       'soundtrack', 'southern', 'specialty', 'speech', 'spiritual',\n",
       "       'sport', 'stonerrock', 'surf', 'swing', 'synthpop',\n",
       "       'sängerportrait', 'tango', 'tanzorchester', 'taraftar', 'tech',\n",
       "       'techno', 'thrash', 'top', 'traditional', 'tradjazz', 'trance',\n",
       "       'tribal', 'trip', 'triphop', 'tropical', 'türk', 'türkçe',\n",
       "       'unknown', 'urban', 'uzbek', 'variété', 'vi', 'videogame', 'vocal',\n",
       "       'western', 'world', 'worldbeat', 'ïîï'], dtype=object)"
      ]
     },
     "execution_count": 21,
     "metadata": {},
     "output_type": "execute_result"
    }
   ],
   "source": [
    "# menampilkan ulang dari nama nilai yang unik dari kolom `genre` duplikat implisit\n",
    "\n",
    "df['genre'].sort_values(ascending=True).unique()"
   ]
  },
  {
   "cell_type": "markdown",
   "metadata": {
    "id": "ALgNbvF3VtPA"
   },
   "source": [
    "[Kembali ke Daftar Isi](#back)"
   ]
  },
  {
   "cell_type": "markdown",
   "metadata": {
    "id": "jz6a9-7HQUDd"
   },
   "source": [
    "### Kesimpulan <a id='data_preprocessing_conclusions'></a>\n",
    "Kita mendeteksi tiga masalah dengan data:\n",
    "\n",
    "- Gaya penulisan judul yang salah\n",
    "- Nilai-nilai yang hilang\n",
    "- Duplikat yang jelas dan implisit\n",
    "\n",
    "Judul telah dibersihkan untuk mempermudah pemrosesan tabel.\n",
    "\n",
    "Semua nilai yang hilang telah diganti dengan `'unknown'`. Tapi kita masih harus melihat apakah nilai yang hilang dalam `'genre'` akan memengaruhi perhitungan kita.\n",
    "\n",
    "Tidak adanya duplikat akan membuat hasil lebih tepat dan lebih mudah dipahami.\n",
    "\n",
    "Sekarang kita dapat melanjutkan ke pengujian hipotesis."
   ]
  },
  {
   "cell_type": "markdown",
   "metadata": {
    "id": "eK1es74rVujj"
   },
   "source": [
    "[Kembali ke Daftar Isi](#back)"
   ]
  },
  {
   "cell_type": "markdown",
   "metadata": {
    "id": "WttZHXH0SqKk"
   },
   "source": [
    "## Tahap 3. Menguji Hipotesis <a id='hypotheses'></a>"
   ]
  },
  {
   "cell_type": "markdown",
   "metadata": {
    "id": "Im936VVi_Zcu"
   },
   "source": [
    "### Hipotesis 1: Membandingkan Perilaku Pengguna di Dua Kota <a id='activity'></a>"
   ]
  },
  {
   "cell_type": "markdown",
   "metadata": {
    "id": "nwt_MuaL_Zcu"
   },
   "source": [
    "`Step 1` : Menurut hipotesis pertama, pengguna dari Springfield dan Shelbyville memiliki perbedaan dalam mendengarkan musik. Pengujian ini menggunakan data pada hari: Senin, Rabu, dan Jumat.\n",
    "\n",
    "* Pisahkan pengguna ke dalam kelompok berdasarkan kota.\n",
    "* Bandingkan berapa banyak lagu yang dimainkan setiap kelompok pada hari Senin, Rabu, dan Jumat."
   ]
  },
  {
   "cell_type": "code",
   "execution_count": 22,
   "metadata": {},
   "outputs": [
    {
     "data": {
      "text/plain": [
       "city\n",
       "Shelbyville    18512\n",
       "Springfield    42741\n",
       "Name: user_id, dtype: int64"
      ]
     },
     "execution_count": 22,
     "metadata": {},
     "output_type": "execute_result"
    }
   ],
   "source": [
    "# Memisahkan jumlah pengguna kedalam kelompok berdasarkan kota :\n",
    "\n",
    "df.groupby('city').count()['user_id']"
   ]
  },
  {
   "cell_type": "code",
   "execution_count": 23,
   "metadata": {
    "scrolled": false
   },
   "outputs": [
    {
     "data": {
      "text/plain": [
       "day\n",
       "Friday       21840\n",
       "Monday       21354\n",
       "Wednesday    18059\n",
       "Name: track, dtype: int64"
      ]
     },
     "execution_count": 23,
     "metadata": {},
     "output_type": "execute_result"
    }
   ],
   "source": [
    "# Mengelompokkan berapa banyak lagu yang dimainkan pada setiap kelompok pada hari senin, rabu dan jumat :\n",
    "df.groupby('day').count()['track']"
   ]
  },
  {
   "cell_type": "markdown",
   "metadata": {
    "id": "8Dw_YMmT_Zcu"
   },
   "source": [
    "#### Untuk latihan, lakukan setiap perhitungan secara terpisah.\n",
    "\n",
    "`STEP 2` : Evaluasi aktivitas pengguna di setiap kota. Kelompokkan data berdasarkan kota dan temukan jumlah lagu yang diputar di setiap kelompok.\n",
    "\n"
   ]
  },
  {
   "cell_type": "code",
   "execution_count": 24,
   "metadata": {
    "id": "0_Qs96oh_Zcu"
   },
   "outputs": [
    {
     "data": {
      "text/plain": [
       "city\n",
       "Shelbyville    18512\n",
       "Springfield    42741\n",
       "Name: track, dtype: int64"
      ]
     },
     "execution_count": 24,
     "metadata": {},
     "output_type": "execute_result"
    }
   ],
   "source": [
    "# Menghitung lagu yang diputar di setiap kota\n",
    "\n",
    "\n",
    "df.groupby('city').count()['track']\n"
   ]
  },
  {
   "cell_type": "markdown",
   "metadata": {
    "id": "dzli3w8o_Zcu"
   },
   "source": [
    "#### Springfield memiliki lebih banyak lagu yang dimainkan daripada Shelbyville. Namun bukan berarti warga Springfield lebih sering mendengarkan musik. Kota ini lebih besar, dan memiliki lebih banyak pengguna.\n",
    "\n",
    "`Step 3` : Sekarang kelompokkan data menurut hari dan temukan jumlah lagu yang diputar pada hari Senin, Rabu, dan Jumat."
   ]
  },
  {
   "cell_type": "code",
   "execution_count": 25,
   "metadata": {
    "id": "uZMKjiJz_Zcu",
    "scrolled": true
   },
   "outputs": [
    {
     "data": {
      "text/plain": [
       "day\n",
       "Friday       21840\n",
       "Monday       21354\n",
       "Wednesday    18059\n",
       "Name: track, dtype: int64"
      ]
     },
     "execution_count": 25,
     "metadata": {},
     "output_type": "execute_result"
    }
   ],
   "source": [
    "# Menghitung trek yang diputar pada masing-masing hari\n",
    "\n",
    "df.groupby('day').count()['track']"
   ]
  },
  {
   "cell_type": "markdown",
   "metadata": {
    "id": "cC2tNrlL_Zcu"
   },
   "source": [
    "### Rabu adalah hari paling tenang secara keseluruhan. Tetapi jika kita mempertimbangkan kedua kota secara terpisah, kita mungkin akan memiliki kesimpulan yang berbeda."
   ]
  },
  {
   "cell_type": "markdown",
   "metadata": {
    "id": "POzs8bGa_Zcu"
   },
   "source": [
    "Anda telah melihat cara kerja pengelompokan berdasarkan kota atau hari. Sekarang tulis fungsi yang akan dikelompokkan berdasarkan keduanya.\n",
    "\n",
    "`NOTE` : Buat fungsi `number_tracks()` untuk menghitung jumlah lagu yang diputar untuk hari dan kota tertentu. Ini akan membutuhkan dua parameter:\n",
    "* nama hari\n",
    "* nama kota\n",
    "\n",
    "Dalam fungsi, gunakan variabel untuk menyimpan baris dari tabel asli, di mana:\n",
    "  *  Nilai kolom `'day'` sama dengan parameter `day`\n",
    "  * Nilai kolom `'city'` sama dengan parameter `city`\n",
    "\n",
    "Terapkan pemfilteran berurutan dengan pengindeksan logis.\n",
    "\n",
    "Kemudian hitung nilai kolom `'user_id'` pada tabel yang dihasilkan. Simpan hasilnya ke variabel baru. Kembalikan variabel ini dari fungsi."
   ]
  },
  {
   "cell_type": "code",
   "execution_count": 26,
   "metadata": {
    "id": "Nz3GdQB1_Zcu"
   },
   "outputs": [],
   "source": [
    "# <membuat fungsi number_tracks()>\n",
    "# Kita akan mendeklarasikan sebuah fungsi dengan dua parameter: day=, city=.\n",
    "# Biarkan variabel track_list menyimpan baris df di mana\n",
    "# nilai di kolom 'day' sama dengan parameter day= dan, pada saat yang sama,\n",
    "# nilai pada kolom 'city' sama dengan parameter city= (terapkan pemfilteran berurutan\n",
    "# dengan pengindeksan logis).\n",
    "\n",
    "# Biarkan variabel track_list_count menyimpan jumlah nilai kolom 'user_id' pada track_list\n",
    "# (temukan dengan metode count()).\n",
    "   \n",
    "# Biarkan fungsi menghasilkan jumlah: nilai track_list_count.\n",
    "\n",
    "def number_tracks(dataset, day, city):\n",
    "    track_list = dataset.loc[(dataset['day']==day) & (dataset['city']==city)]\n",
    "    track_list_count = track_list.count()['user_id']\n",
    "    \n",
    "    return track_list_count\n",
    "    \n",
    "\n",
    "     \n",
    "# Fungsi menghitung lagu yang diputar untuk kota dan hari tertentu.\n",
    "# Pertama-tama ini akan mengambil baris dengan hari yang diinginkan dari tabel,\n",
    "# kemudian memfilter baris hasilnya dengan kota yang dimaksud,\n",
    "# kemudian temukan jumlah nilai 'user_id' pada tabel yang difilter,\n",
    "# kemudian menghasilkan jumlah tersebut.\n",
    "# Untuk melihat apa yang dihasilkan, kemas pemanggilan fungsi pada print().\n"
   ]
  },
  {
   "cell_type": "markdown",
   "metadata": {
    "id": "ytf7xFrFJQ2r"
   },
   "source": [
    "Panggil `number_tracks()` enam kali dan ubahlah nilai parameternya, sehingga Anda bisa mengambil data di kedua kota untuk masing-masing hari tersebut."
   ]
  },
  {
   "cell_type": "code",
   "execution_count": 27,
   "metadata": {
    "id": "rJcRATNQ_Zcu"
   },
   "outputs": [
    {
     "data": {
      "text/plain": [
       "15740"
      ]
     },
     "execution_count": 27,
     "metadata": {},
     "output_type": "execute_result"
    }
   ],
   "source": [
    "# jumlah lagu yang diputar di Springfield pada hari Senin\n",
    "\n",
    "number_tracks(dataset=df, day='Monday', city='Springfield')\n"
   ]
  },
  {
   "cell_type": "code",
   "execution_count": 28,
   "metadata": {
    "id": "hq_ncZ5T_Zcu"
   },
   "outputs": [
    {
     "data": {
      "text/plain": [
       "5614"
      ]
     },
     "execution_count": 28,
     "metadata": {},
     "output_type": "execute_result"
    }
   ],
   "source": [
    "# jumlah lagu yang diputar di Shelbyville pada hari Senin\n",
    "\n",
    "number_tracks (dataset=df, day='Monday', city='Shelbyville')\n"
   ]
  },
  {
   "cell_type": "code",
   "execution_count": 29,
   "metadata": {
    "id": "_NTy2VPU_Zcu"
   },
   "outputs": [
    {
     "data": {
      "text/plain": [
       "11056"
      ]
     },
     "execution_count": 29,
     "metadata": {},
     "output_type": "execute_result"
    }
   ],
   "source": [
    "#  jumlah lagu yang diputar di Springfield pada hari Rabu\n",
    "\n",
    "number_tracks (dataset=df, day='Wednesday', city='Springfield')"
   ]
  },
  {
   "cell_type": "code",
   "execution_count": 30,
   "metadata": {
    "id": "j2y3TAwo_Zcu"
   },
   "outputs": [
    {
     "data": {
      "text/plain": [
       "7003"
      ]
     },
     "execution_count": 30,
     "metadata": {},
     "output_type": "execute_result"
    }
   ],
   "source": [
    "#  jumlah lagu yang diputar di Shelbyville pada hari Rabu\n",
    "\n",
    "number_tracks (dataset=df, day='Wednesday', city='Shelbyville')"
   ]
  },
  {
   "cell_type": "code",
   "execution_count": 31,
   "metadata": {
    "id": "vYDw5u_K_Zcu"
   },
   "outputs": [
    {
     "data": {
      "text/plain": [
       "15945"
      ]
     },
     "execution_count": 31,
     "metadata": {},
     "output_type": "execute_result"
    }
   ],
   "source": [
    "# jumlah lagu yang diputar di Springfield pada hari Jumat\n",
    "\n",
    "number_tracks (dataset=df, day='Friday', city='Springfield')"
   ]
  },
  {
   "cell_type": "code",
   "execution_count": 32,
   "metadata": {
    "id": "8_yzFtW3_Zcu",
    "scrolled": true
   },
   "outputs": [
    {
     "data": {
      "text/plain": [
       "5895"
      ]
     },
     "execution_count": 32,
     "metadata": {},
     "output_type": "execute_result"
    }
   ],
   "source": [
    "# jumlah lagu yang diputar di Shelbyville pada hari Jumat\n",
    "\n",
    "number_tracks (dataset=df, day='Friday', city='Shelbyville')"
   ]
  },
  {
   "cell_type": "markdown",
   "metadata": {
    "id": "7QXffbO-_Zcu"
   },
   "source": [
    "Gunakan `pd.DataFrame` untuk membuat tabel, di mana\n",
    "* Nama kolom adalah: `['city', 'monday', 'wednesday', 'friday']`\n",
    "* Data adalah hasil yang Anda dapatkan dari `number_tracks()`"
   ]
  },
  {
   "cell_type": "code",
   "execution_count": 33,
   "metadata": {
    "id": "APAcLpOr_Zcu",
    "scrolled": true
   },
   "outputs": [
    {
     "data": {
      "text/html": [
       "<div>\n",
       "<style scoped>\n",
       "    .dataframe tbody tr th:only-of-type {\n",
       "        vertical-align: middle;\n",
       "    }\n",
       "\n",
       "    .dataframe tbody tr th {\n",
       "        vertical-align: top;\n",
       "    }\n",
       "\n",
       "    .dataframe thead th {\n",
       "        text-align: right;\n",
       "    }\n",
       "</style>\n",
       "<table border=\"1\" class=\"dataframe\">\n",
       "  <thead>\n",
       "    <tr style=\"text-align: right;\">\n",
       "      <th></th>\n",
       "      <th>city</th>\n",
       "      <th>monday</th>\n",
       "      <th>wednesdey</th>\n",
       "      <th>friday</th>\n",
       "    </tr>\n",
       "  </thead>\n",
       "  <tbody>\n",
       "    <tr>\n",
       "      <th>0</th>\n",
       "      <td>Springfield</td>\n",
       "      <td>16715</td>\n",
       "      <td>11755</td>\n",
       "      <td>16890</td>\n",
       "    </tr>\n",
       "    <tr>\n",
       "      <th>1</th>\n",
       "      <td>Shelbyville</td>\n",
       "      <td>5982</td>\n",
       "      <td>7478</td>\n",
       "      <td>6259</td>\n",
       "    </tr>\n",
       "  </tbody>\n",
       "</table>\n",
       "</div>"
      ],
      "text/plain": [
       "          city monday wednesdey friday\n",
       "0  Springfield  16715     11755  16890\n",
       "1  Shelbyville   5982      7478   6259"
      ]
     },
     "execution_count": 33,
     "metadata": {},
     "output_type": "execute_result"
    }
   ],
   "source": [
    "# tabel dengan hasil\n",
    "data = {'city'      : ['Springfield', 'Shelbyville'],\n",
    "        'monday'    : ['16715', '5982'],\n",
    "        'wednesdey' : ['11755', '7478'],\n",
    "        'friday'    : ['16890', '6259'],\n",
    "       }\n",
    "table = pd.DataFrame(data)\n",
    "table"
   ]
  },
  {
   "cell_type": "markdown",
   "metadata": {
    "id": "-EgPIHYu_Zcu"
   },
   "source": [
    "**Kesimpulan**\n",
    "\n",
    "Data mengungkapkan perbedaan perilaku pengguna:\n",
    "\n",
    "- Pada Springfield, jumlah lagu yang diputar mencapai puncaknya pada hari Senin dan Jumat, sedangkan pada hari Rabu terjadi penurunan aktivitas.\n",
    "- Di Shelbyville, sebaliknya, pengguna lebih banyak mendengarkan musik pada hari Rabu.\n",
    "\n",
    "Aktivitas pengguna pada hari Senin dan Jumat lebih sedikit."
   ]
  },
  {
   "cell_type": "markdown",
   "metadata": {
    "id": "p7nFQajCVw5B"
   },
   "source": [
    "[Kembali ke Daftar Isi](#back)"
   ]
  },
  {
   "cell_type": "markdown",
   "metadata": {
    "id": "atZAxtq4_Zcu"
   },
   "source": [
    "### Hipotesis 2: Musik di Awal dan Akhir Minggu <a id='week'></a>"
   ]
  },
  {
   "cell_type": "markdown",
   "metadata": {
    "id": "eXrQqXFH_Zcu"
   },
   "source": [
    "Menurut hipotesis kedua, pada Senin pagi dan Jumat malam, warga Springfield mendengarkan genre yang berbeda dari yang dinikmati warga Shelbyville."
   ]
  },
  {
   "cell_type": "markdown",
   "metadata": {
    "id": "S8UcW6Hw_Zcu"
   },
   "source": [
    "Dapatkan tabel (pastikan nama tabel gabungan Anda cocok dengan DataFrame yang diberikan dalam dua blok kode di bawah):\n",
    "* Untuk Springfield — `spr_general`\n",
    "* Untuk Shelbyville — `shel_general`"
   ]
  },
  {
   "cell_type": "code",
   "execution_count": 34,
   "metadata": {
    "id": "qeaFfM_P_Zcu",
    "scrolled": true
   },
   "outputs": [
    {
     "data": {
      "text/html": [
       "<div>\n",
       "<style scoped>\n",
       "    .dataframe tbody tr th:only-of-type {\n",
       "        vertical-align: middle;\n",
       "    }\n",
       "\n",
       "    .dataframe tbody tr th {\n",
       "        vertical-align: top;\n",
       "    }\n",
       "\n",
       "    .dataframe thead th {\n",
       "        text-align: right;\n",
       "    }\n",
       "</style>\n",
       "<table border=\"1\" class=\"dataframe\">\n",
       "  <thead>\n",
       "    <tr style=\"text-align: right;\">\n",
       "      <th></th>\n",
       "      <th>user_id</th>\n",
       "      <th>track</th>\n",
       "      <th>artist</th>\n",
       "      <th>genre</th>\n",
       "      <th>city</th>\n",
       "      <th>time</th>\n",
       "      <th>day</th>\n",
       "    </tr>\n",
       "  </thead>\n",
       "  <tbody>\n",
       "    <tr>\n",
       "      <th>1</th>\n",
       "      <td>55204538</td>\n",
       "      <td>Delayed Because of Accident</td>\n",
       "      <td>Andreas Rönnberg</td>\n",
       "      <td>rock</td>\n",
       "      <td>Springfield</td>\n",
       "      <td>14:07:09</td>\n",
       "      <td>Friday</td>\n",
       "    </tr>\n",
       "    <tr>\n",
       "      <th>4</th>\n",
       "      <td>E2DC1FAE</td>\n",
       "      <td>Soul People</td>\n",
       "      <td>Space Echo</td>\n",
       "      <td>dance</td>\n",
       "      <td>Springfield</td>\n",
       "      <td>08:34:34</td>\n",
       "      <td>Monday</td>\n",
       "    </tr>\n",
       "    <tr>\n",
       "      <th>6</th>\n",
       "      <td>4CB90AA5</td>\n",
       "      <td>True</td>\n",
       "      <td>Roman Messer</td>\n",
       "      <td>dance</td>\n",
       "      <td>Springfield</td>\n",
       "      <td>13:00:07</td>\n",
       "      <td>Wednesday</td>\n",
       "    </tr>\n",
       "    <tr>\n",
       "      <th>7</th>\n",
       "      <td>F03E1C1F</td>\n",
       "      <td>Feeling This Way</td>\n",
       "      <td>Polina Griffith</td>\n",
       "      <td>dance</td>\n",
       "      <td>Springfield</td>\n",
       "      <td>20:47:49</td>\n",
       "      <td>Wednesday</td>\n",
       "    </tr>\n",
       "    <tr>\n",
       "      <th>8</th>\n",
       "      <td>8FA1D3BE</td>\n",
       "      <td>L’estate</td>\n",
       "      <td>Julia Dalia</td>\n",
       "      <td>ruspop</td>\n",
       "      <td>Springfield</td>\n",
       "      <td>09:17:40</td>\n",
       "      <td>Friday</td>\n",
       "    </tr>\n",
       "    <tr>\n",
       "      <th>...</th>\n",
       "      <td>...</td>\n",
       "      <td>...</td>\n",
       "      <td>...</td>\n",
       "      <td>...</td>\n",
       "      <td>...</td>\n",
       "      <td>...</td>\n",
       "      <td>...</td>\n",
       "    </tr>\n",
       "    <tr>\n",
       "      <th>61247</th>\n",
       "      <td>83A474E7</td>\n",
       "      <td>I Worship Only What You Bleed</td>\n",
       "      <td>The Black Dahlia Murder</td>\n",
       "      <td>extrememetal</td>\n",
       "      <td>Springfield</td>\n",
       "      <td>21:07:12</td>\n",
       "      <td>Monday</td>\n",
       "    </tr>\n",
       "    <tr>\n",
       "      <th>61248</th>\n",
       "      <td>729CBB09</td>\n",
       "      <td>My Name</td>\n",
       "      <td>McLean</td>\n",
       "      <td>rnb</td>\n",
       "      <td>Springfield</td>\n",
       "      <td>13:32:28</td>\n",
       "      <td>Wednesday</td>\n",
       "    </tr>\n",
       "    <tr>\n",
       "      <th>61250</th>\n",
       "      <td>C5E3A0D5</td>\n",
       "      <td>Jalopiina</td>\n",
       "      <td>unknown</td>\n",
       "      <td>industrial</td>\n",
       "      <td>Springfield</td>\n",
       "      <td>20:09:26</td>\n",
       "      <td>Friday</td>\n",
       "    </tr>\n",
       "    <tr>\n",
       "      <th>61251</th>\n",
       "      <td>321D0506</td>\n",
       "      <td>Freight Train</td>\n",
       "      <td>Chas McDevitt</td>\n",
       "      <td>rock</td>\n",
       "      <td>Springfield</td>\n",
       "      <td>21:43:59</td>\n",
       "      <td>Friday</td>\n",
       "    </tr>\n",
       "    <tr>\n",
       "      <th>61252</th>\n",
       "      <td>3A64EF84</td>\n",
       "      <td>Tell Me Sweet Little Lies</td>\n",
       "      <td>Monica Lopez</td>\n",
       "      <td>country</td>\n",
       "      <td>Springfield</td>\n",
       "      <td>21:59:46</td>\n",
       "      <td>Friday</td>\n",
       "    </tr>\n",
       "  </tbody>\n",
       "</table>\n",
       "<p>42741 rows × 7 columns</p>\n",
       "</div>"
      ],
      "text/plain": [
       "        user_id                          track                   artist  \\\n",
       "1      55204538    Delayed Because of Accident         Andreas Rönnberg   \n",
       "4      E2DC1FAE                    Soul People               Space Echo   \n",
       "6      4CB90AA5                           True             Roman Messer   \n",
       "7      F03E1C1F               Feeling This Way          Polina Griffith   \n",
       "8      8FA1D3BE                       L’estate              Julia Dalia   \n",
       "...         ...                            ...                      ...   \n",
       "61247  83A474E7  I Worship Only What You Bleed  The Black Dahlia Murder   \n",
       "61248  729CBB09                        My Name                   McLean   \n",
       "61250  C5E3A0D5                      Jalopiina                  unknown   \n",
       "61251  321D0506                  Freight Train            Chas McDevitt   \n",
       "61252  3A64EF84      Tell Me Sweet Little Lies             Monica Lopez   \n",
       "\n",
       "              genre         city      time        day  \n",
       "1              rock  Springfield  14:07:09     Friday  \n",
       "4             dance  Springfield  08:34:34     Monday  \n",
       "6             dance  Springfield  13:00:07  Wednesday  \n",
       "7             dance  Springfield  20:47:49  Wednesday  \n",
       "8            ruspop  Springfield  09:17:40     Friday  \n",
       "...             ...          ...       ...        ...  \n",
       "61247  extrememetal  Springfield  21:07:12     Monday  \n",
       "61248           rnb  Springfield  13:32:28  Wednesday  \n",
       "61250    industrial  Springfield  20:09:26     Friday  \n",
       "61251          rock  Springfield  21:43:59     Friday  \n",
       "61252       country  Springfield  21:59:46     Friday  \n",
       "\n",
       "[42741 rows x 7 columns]"
      ]
     },
     "execution_count": 34,
     "metadata": {},
     "output_type": "execute_result"
    }
   ],
   "source": [
    "# mendapatkan tabel spr_general dari baris df,\n",
    "# dimana nilai dari kolom 'city' adalah 'Springfield'\n",
    "spr_general = df.loc[(df['city'])=='Springfield']\n",
    "spr_general\n"
   ]
  },
  {
   "cell_type": "code",
   "execution_count": 35,
   "metadata": {
    "id": "ORaVRKto_Zcu",
    "scrolled": true
   },
   "outputs": [
    {
     "data": {
      "text/html": [
       "<div>\n",
       "<style scoped>\n",
       "    .dataframe tbody tr th:only-of-type {\n",
       "        vertical-align: middle;\n",
       "    }\n",
       "\n",
       "    .dataframe tbody tr th {\n",
       "        vertical-align: top;\n",
       "    }\n",
       "\n",
       "    .dataframe thead th {\n",
       "        text-align: right;\n",
       "    }\n",
       "</style>\n",
       "<table border=\"1\" class=\"dataframe\">\n",
       "  <thead>\n",
       "    <tr style=\"text-align: right;\">\n",
       "      <th></th>\n",
       "      <th>user_id</th>\n",
       "      <th>track</th>\n",
       "      <th>artist</th>\n",
       "      <th>genre</th>\n",
       "      <th>city</th>\n",
       "      <th>time</th>\n",
       "      <th>day</th>\n",
       "    </tr>\n",
       "  </thead>\n",
       "  <tbody>\n",
       "    <tr>\n",
       "      <th>0</th>\n",
       "      <td>FFB692EC</td>\n",
       "      <td>Kamigata To Boots</td>\n",
       "      <td>The Mass Missile</td>\n",
       "      <td>rock</td>\n",
       "      <td>Shelbyville</td>\n",
       "      <td>20:28:33</td>\n",
       "      <td>Wednesday</td>\n",
       "    </tr>\n",
       "    <tr>\n",
       "      <th>2</th>\n",
       "      <td>20EC38</td>\n",
       "      <td>Funiculì funiculà</td>\n",
       "      <td>Mario Lanza</td>\n",
       "      <td>pop</td>\n",
       "      <td>Shelbyville</td>\n",
       "      <td>20:58:07</td>\n",
       "      <td>Wednesday</td>\n",
       "    </tr>\n",
       "    <tr>\n",
       "      <th>3</th>\n",
       "      <td>A3DD03C9</td>\n",
       "      <td>Dragons in the Sunset</td>\n",
       "      <td>Fire + Ice</td>\n",
       "      <td>folk</td>\n",
       "      <td>Shelbyville</td>\n",
       "      <td>08:37:09</td>\n",
       "      <td>Monday</td>\n",
       "    </tr>\n",
       "    <tr>\n",
       "      <th>5</th>\n",
       "      <td>842029A1</td>\n",
       "      <td>Chains</td>\n",
       "      <td>Obladaet</td>\n",
       "      <td>rusrap</td>\n",
       "      <td>Shelbyville</td>\n",
       "      <td>13:09:41</td>\n",
       "      <td>Friday</td>\n",
       "    </tr>\n",
       "    <tr>\n",
       "      <th>9</th>\n",
       "      <td>E772D5C0</td>\n",
       "      <td>Pessimist</td>\n",
       "      <td>unknown</td>\n",
       "      <td>dance</td>\n",
       "      <td>Shelbyville</td>\n",
       "      <td>21:20:49</td>\n",
       "      <td>Wednesday</td>\n",
       "    </tr>\n",
       "    <tr>\n",
       "      <th>...</th>\n",
       "      <td>...</td>\n",
       "      <td>...</td>\n",
       "      <td>...</td>\n",
       "      <td>...</td>\n",
       "      <td>...</td>\n",
       "      <td>...</td>\n",
       "      <td>...</td>\n",
       "    </tr>\n",
       "    <tr>\n",
       "      <th>61239</th>\n",
       "      <td>D94F810B</td>\n",
       "      <td>Theme from the Walking Dead</td>\n",
       "      <td>Proyecto Halloween</td>\n",
       "      <td>film</td>\n",
       "      <td>Shelbyville</td>\n",
       "      <td>21:14:40</td>\n",
       "      <td>Monday</td>\n",
       "    </tr>\n",
       "    <tr>\n",
       "      <th>61240</th>\n",
       "      <td>BC8EC5CF</td>\n",
       "      <td>Red Lips: Gta (Rover Rework)</td>\n",
       "      <td>Rover</td>\n",
       "      <td>electronic</td>\n",
       "      <td>Shelbyville</td>\n",
       "      <td>21:06:50</td>\n",
       "      <td>Monday</td>\n",
       "    </tr>\n",
       "    <tr>\n",
       "      <th>61241</th>\n",
       "      <td>29E04611</td>\n",
       "      <td>Bre Petrunko</td>\n",
       "      <td>Perunika Trio</td>\n",
       "      <td>world</td>\n",
       "      <td>Shelbyville</td>\n",
       "      <td>13:56:00</td>\n",
       "      <td>Monday</td>\n",
       "    </tr>\n",
       "    <tr>\n",
       "      <th>61242</th>\n",
       "      <td>1B91C621</td>\n",
       "      <td>(Hello) Cloud Mountain</td>\n",
       "      <td>sleepmakeswaves</td>\n",
       "      <td>postrock</td>\n",
       "      <td>Shelbyville</td>\n",
       "      <td>09:22:13</td>\n",
       "      <td>Monday</td>\n",
       "    </tr>\n",
       "    <tr>\n",
       "      <th>61249</th>\n",
       "      <td>D08D4A55</td>\n",
       "      <td>Maybe One Day (feat. Black Spade)</td>\n",
       "      <td>Blu &amp; Exile</td>\n",
       "      <td>hiphop</td>\n",
       "      <td>Shelbyville</td>\n",
       "      <td>10:00:00</td>\n",
       "      <td>Monday</td>\n",
       "    </tr>\n",
       "  </tbody>\n",
       "</table>\n",
       "<p>18512 rows × 7 columns</p>\n",
       "</div>"
      ],
      "text/plain": [
       "        user_id                              track              artist  \\\n",
       "0      FFB692EC                  Kamigata To Boots    The Mass Missile   \n",
       "2        20EC38                  Funiculì funiculà         Mario Lanza   \n",
       "3      A3DD03C9              Dragons in the Sunset          Fire + Ice   \n",
       "5      842029A1                             Chains            Obladaet   \n",
       "9      E772D5C0                          Pessimist             unknown   \n",
       "...         ...                                ...                 ...   \n",
       "61239  D94F810B        Theme from the Walking Dead  Proyecto Halloween   \n",
       "61240  BC8EC5CF       Red Lips: Gta (Rover Rework)               Rover   \n",
       "61241  29E04611                       Bre Petrunko       Perunika Trio   \n",
       "61242  1B91C621             (Hello) Cloud Mountain     sleepmakeswaves   \n",
       "61249  D08D4A55  Maybe One Day (feat. Black Spade)         Blu & Exile   \n",
       "\n",
       "            genre         city      time        day  \n",
       "0            rock  Shelbyville  20:28:33  Wednesday  \n",
       "2             pop  Shelbyville  20:58:07  Wednesday  \n",
       "3            folk  Shelbyville  08:37:09     Monday  \n",
       "5          rusrap  Shelbyville  13:09:41     Friday  \n",
       "9           dance  Shelbyville  21:20:49  Wednesday  \n",
       "...           ...          ...       ...        ...  \n",
       "61239        film  Shelbyville  21:14:40     Monday  \n",
       "61240  electronic  Shelbyville  21:06:50     Monday  \n",
       "61241       world  Shelbyville  13:56:00     Monday  \n",
       "61242    postrock  Shelbyville  09:22:13     Monday  \n",
       "61249      hiphop  Shelbyville  10:00:00     Monday  \n",
       "\n",
       "[18512 rows x 7 columns]"
      ]
     },
     "execution_count": 35,
     "metadata": {},
     "output_type": "execute_result"
    }
   ],
   "source": [
    "# mendapatkan shel_general dari baris df,\n",
    "# dimana nilai dari kolom 'city' adalah 'Shelbyville'\n",
    "shel_general = df.loc[(df['city'])=='Shelbyville']\n",
    "shel_general\n"
   ]
  },
  {
   "cell_type": "markdown",
   "metadata": {
    "id": "MEJV-CX2_Zcu"
   },
   "source": [
    "Tulis fungsi `genre_weekday()` dengan empat parameter:\n",
    "* Sebuah tabel untuk data\n",
    "* Nama hari\n",
    "* Tanda waktu pertama, dalam format 'hh:mm'\n",
    "* Tanda waktu terakhir, dalam format 'hh: mm'\n",
    "\n",
    "Fungsi tersebut harus menghasilkan info tentang 15 genre paling populer pada hari tertentu dalam periode diantara dua tanda waktu."
   ]
  },
  {
   "cell_type": "code",
   "execution_count": 36,
   "metadata": {},
   "outputs": [],
   "source": [
    "# Mendeklarasikan fungsi genre_weekday() dengan parameter day=, time1=, dan time2=. Itu harus\n",
    "# memberikan informasi tentang genre paling populer pada hari dan waktu tertentu:\n",
    "def genre_weekday(dfset, day, time1, time2):\n",
    "    genre_df = dfset.loc[(dfset['day']==day) & (dfset['time']>=time1) & (dfset['time']<=time2)]\n",
    "\n",
    "    genre_df_count = genre_df.groupby('genre')['genre'].count()\n",
    "\n",
    "    genre_df_sorted = genre_df_count.sort_values(ascending=False)\n",
    "\n",
    "    return genre_df_sorted[:15]\n"
   ]
  },
  {
   "cell_type": "markdown",
   "metadata": {
    "id": "la2s2_PF_Zcu"
   },
   "source": [
    "Bandingkan hasil fungsi `genre_weekday()` untuk Springfield dan Shelbyville pada Senin pagi (dari pukul 07.00 hingga 11.00) dan pada Jumat malam (dari pukul 17:00 hingga 23:00):"
   ]
  },
  {
   "cell_type": "code",
   "execution_count": 37,
   "metadata": {
    "id": "yz7itPUQ_Zcu",
    "scrolled": true
   },
   "outputs": [
    {
     "data": {
      "text/plain": [
       "genre\n",
       "pop            781\n",
       "dance          549\n",
       "electronic     480\n",
       "rock           474\n",
       "hiphop         286\n",
       "ruspop         186\n",
       "world          181\n",
       "rusrap         175\n",
       "alternative    164\n",
       "unknown        161\n",
       "classical      157\n",
       "metal          120\n",
       "jazz           100\n",
       "folk            97\n",
       "soundtrack      95\n",
       "Name: genre, dtype: int64"
      ]
     },
     "execution_count": 37,
     "metadata": {},
     "output_type": "execute_result"
    }
   ],
   "source": [
    "# memanggil fungsi untuk Senin pagi di Springfield (gunakan spr_general alih-alih tabel df)\n",
    "genre_weekday(dfset=spr_general, day='Monday', time1='07:00:00', time2='11:00:00')"
   ]
  },
  {
   "cell_type": "code",
   "execution_count": 38,
   "metadata": {
    "id": "kwUcHPdy_Zcu",
    "scrolled": true
   },
   "outputs": [
    {
     "data": {
      "text/plain": [
       "genre\n",
       "pop            218\n",
       "dance          182\n",
       "rock           162\n",
       "electronic     147\n",
       "hiphop          80\n",
       "ruspop          64\n",
       "alternative     58\n",
       "rusrap          55\n",
       "jazz            44\n",
       "classical       40\n",
       "world           36\n",
       "rap             32\n",
       "soundtrack      31\n",
       "rnb             27\n",
       "metal           27\n",
       "Name: genre, dtype: int64"
      ]
     },
     "execution_count": 38,
     "metadata": {},
     "output_type": "execute_result"
    }
   ],
   "source": [
    "# memanggil fungsi untuk Senin pagi di Shelbyville (gunakan shel_general alih-alih tabel df)\n",
    "genre_weekday(dfset=shel_general, day='Monday', time1='07:00:00', time2='11:00:00')"
   ]
  },
  {
   "cell_type": "code",
   "execution_count": 39,
   "metadata": {
    "id": "EzXVRE1o_Zcu",
    "scrolled": true
   },
   "outputs": [
    {
     "data": {
      "text/plain": [
       "genre\n",
       "pop            713\n",
       "rock           517\n",
       "dance          495\n",
       "electronic     482\n",
       "hiphop         273\n",
       "world          208\n",
       "ruspop         170\n",
       "classical      163\n",
       "alternative    163\n",
       "rusrap         142\n",
       "jazz           111\n",
       "unknown        110\n",
       "soundtrack     105\n",
       "rnb             90\n",
       "metal           88\n",
       "Name: genre, dtype: int64"
      ]
     },
     "execution_count": 39,
     "metadata": {},
     "output_type": "execute_result"
    }
   ],
   "source": [
    "# memanggil fungsi untuk Jumat malam di Springfield\n",
    "genre_weekday(dfset=spr_general, day='Friday', time1='17:00:00', time2='23:00:00')"
   ]
  },
  {
   "cell_type": "code",
   "execution_count": 40,
   "metadata": {
    "id": "JZaEKu5v_Zcu"
   },
   "outputs": [
    {
     "data": {
      "text/plain": [
       "genre\n",
       "pop            256\n",
       "rock           216\n",
       "electronic     216\n",
       "dance          210\n",
       "hiphop          97\n",
       "alternative     63\n",
       "jazz            61\n",
       "classical       60\n",
       "rusrap          59\n",
       "world           54\n",
       "unknown         47\n",
       "ruspop          47\n",
       "soundtrack      40\n",
       "metal           39\n",
       "rap             36\n",
       "Name: genre, dtype: int64"
      ]
     },
     "execution_count": 40,
     "metadata": {},
     "output_type": "execute_result"
    }
   ],
   "source": [
    "# memanggil fungsi untuk Jumat malam di Shelbyville\n",
    "genre_weekday(dfset=shel_general, day='Friday', time1='17:00:00', time2='23:00:00')"
   ]
  },
  {
   "cell_type": "markdown",
   "metadata": {
    "id": "wrCe4MNX_Zcu"
   },
   "source": [
    "**Kesimpulan**\n",
    "\n",
    "Setelah membandingkan 15 genre teratas pada Senin pagi, kita dapat menarik kesimpulan berikut:\n",
    "\n",
    "1. Pengguna dari Springfield dan Shelbyville mendengarkan musik dengan genre yang sama. Lima genre teratas sama, hanya rock dan elektronik yang bertukar tempat.\n",
    "\n",
    "2. Di Springfield, jumlah nilai yang hilang ternyata sangat besar sehingga nilai `'unknown'` berada di urutan ke-10. Ini berarti bahwa nilai-nilai yang hilang memiliki jumlah data yang cukup besar, yang mungkin menjadi dasar untuk mempertanyakan ketepatan kesimpulan kita.\n",
    "\n",
    "Untuk Jumat malam, situasinya serupa. Genre individu agak bervariasi, tetapi secara keseluruhan, 15 besar genre untuk kedua kota sama.\n",
    "\n",
    "Dengan demikian, hipotesis kedua sebagian terbukti benar:\n",
    "* Pengguna mendengarkan musik yang sama di awal dan akhir minggu.\n",
    "* Tidak ada perbedaan yang mencolok antara Springfield dan Shelbyville. Pada kedua kota tersebut, pop adalah genre yang paling populer.\n",
    "\n",
    "Namun, jumlah nilai yang hilang membuat hasil ini dipertanyakan. Di Springfield, ada begitu banyak yang memengaruhi 15 teratas kita. Jika kita tidak mengabaikan nilai-nilai ini, hasilnya mungkin akan berbeda."
   ]
  },
  {
   "cell_type": "markdown",
   "metadata": {
    "id": "jLmXgdanVyhP"
   },
   "source": [
    "[Kembali ke Daftar Isi](#back)"
   ]
  },
  {
   "cell_type": "markdown",
   "metadata": {
    "id": "JolODAqr_Zcu"
   },
   "source": [
    "### Hipotesis 3: Preferensi Genre di Springfield dan Shelbyville <a id='genre'></a>\n",
    "\n",
    "Hipotesis: Shelbyville menyukai musik rap. Warga Springfield lebih menyukai pop."
   ]
  },
  {
   "cell_type": "markdown",
   "metadata": {
    "id": "DlegSvaT_Zcu"
   },
   "source": [
    "Kelompokkan tabel `spr_general` berdasarkan genre dan temukan jumlah lagu yang dimainkan untuk setiap genre dengan metode `count()`. Kemudian urutkan hasilnya dalam urutan menurun dan simpan ke `spr_genres`."
   ]
  },
  {
   "cell_type": "code",
   "execution_count": 41,
   "metadata": {
    "id": "r19lIPke_Zcu"
   },
   "outputs": [],
   "source": [
    "# pada satu baris: kelompokkan tabel spr_general berdasarkan kolom 'genre',\n",
    "# hitung nilai 'genre' dengan count() dalam pengelompokan,\n",
    "# urutkan Series yang dihasilkan dalam urutan menurun, lalu simpan ke spr_genres\n",
    "\n",
    "spr_general = df.groupby('genre')['genre'].count().sort_values(ascending=False).head(10)\n",
    "\n",
    "    \n",
    "   "
   ]
  },
  {
   "cell_type": "markdown",
   "metadata": {
    "id": "6kMuomxTiIr8"
   },
   "source": [
    "Tampilkan 10 baris pertama dari `spr_genres`:"
   ]
  },
  {
   "cell_type": "code",
   "execution_count": 42,
   "metadata": {
    "id": "WhCSooF8_Zcv"
   },
   "outputs": [
    {
     "data": {
      "text/plain": [
       "genre\n",
       "pop            8323\n",
       "dance          6367\n",
       "rock           5844\n",
       "electronic     5522\n",
       "hiphop         3056\n",
       "classical      2262\n",
       "alternative    2028\n",
       "world          1947\n",
       "ruspop         1910\n",
       "rusrap         1725\n",
       "Name: genre, dtype: int64"
      ]
     },
     "execution_count": 42,
     "metadata": {},
     "output_type": "execute_result"
    }
   ],
   "source": [
    "# menampilkan 10 baris pertama dari spr_genres\n",
    "spr_general"
   ]
  },
  {
   "cell_type": "markdown",
   "metadata": {
    "id": "cnPG2vnN_Zcv"
   },
   "source": [
    "Sekarang lakukan hal yang sama pada data di Shelbyville.\n",
    "\n",
    "Kelompokkan tabel `shel_general` berdasarkan genre dan temukan jumlah lagu yang dimainkan untuk setiap genre. Kemudian urutkan hasilnya dalam urutan menurun dan simpan ke tabel `shel_genres`:"
   ]
  },
  {
   "cell_type": "code",
   "execution_count": 43,
   "metadata": {
    "id": "gluLIpE7_Zcv"
   },
   "outputs": [],
   "source": [
    "# pada satu baris: kelompokkan tabel shel_general menurut kolom 'genre',\n",
    "# hitung nilai 'genre' dalam pengelompokan menggunakan count(),\n",
    "# urutkan Series yang dihasilkan dalam urutan menurun dan simpan ke shel_genres\n",
    "\n",
    "shel_general = df.groupby('genre')['genre'].count().sort_values(ascending=False).head(10)"
   ]
  },
  {
   "cell_type": "markdown",
   "metadata": {
    "id": "5Doha_ODgyQ8"
   },
   "source": [
    "Tampilkan 10 baris pertama dari `shel_genres`:"
   ]
  },
  {
   "cell_type": "code",
   "execution_count": 44,
   "metadata": {
    "id": "uaGJHjVU_Zcv"
   },
   "outputs": [
    {
     "data": {
      "text/plain": [
       "genre\n",
       "pop            8323\n",
       "dance          6367\n",
       "rock           5844\n",
       "electronic     5522\n",
       "hiphop         3056\n",
       "classical      2262\n",
       "alternative    2028\n",
       "world          1947\n",
       "ruspop         1910\n",
       "rusrap         1725\n",
       "Name: genre, dtype: int64"
      ]
     },
     "execution_count": 44,
     "metadata": {},
     "output_type": "execute_result"
    }
   ],
   "source": [
    "# menampilkan 10 baris pertama dari shel_genres\n",
    "shel_general"
   ]
  },
  {
   "cell_type": "markdown",
   "metadata": {
    "id": "RY51YJYu_Zcv"
   },
   "source": [
    "**Kesimpulan**"
   ]
  },
  {
   "cell_type": "markdown",
   "metadata": {
    "id": "nVhnJEm__Zcv"
   },
   "source": [
    "Hipotesis terbukti benar sebagian:\n",
    "* Musik pop adalah genre paling populer di Springfield, seperti yang diharapkan.\n",
    "* Namun, musik pop ternyata sama populernya baik di Springfield maupun di Shelbyville, dan musik rap tidak berada di 5 besar untuk kedua kota tersebut.\n"
   ]
  },
  {
   "cell_type": "markdown",
   "metadata": {
    "id": "Byr0RfpPVz14"
   },
   "source": [
    "[Kembali ke Daftar Isi](#back)"
   ]
  },
  {
   "cell_type": "markdown",
   "metadata": {
    "id": "ykKQ0N65_Zcv"
   },
   "source": [
    "# Temuan <a id='end'></a>"
   ]
  },
  {
   "cell_type": "markdown",
   "metadata": {
    "id": "tjUwbHb3_Zcv"
   },
   "source": [
    "Kita telah menguji tiga hipotesis berikut:\n",
    "\n",
    "1. Aktivitas pengguna berbeda-beda tergantung pada hari dan kotanya.\n",
    "2. Pada senin pagi, penduduk Springfield dan Shelbyville mendengarkan genre yang berbeda. Hal ini juga ini juga berlaku untuk Jumat malam.\n",
    "3. Pendengar di Springfield dan Shelbyville memiliki preferensi yang berbeda. Baik Springfield maupun di Shelbyville, mereka lebih suka musik pop.\n",
    "\n",
    "Setelah menganalisis data, kita dapat menyimpulkan:\n",
    "\n",
    "1. Aktivitas pengguna di Springfield dan Shelbyville bergantung pada harinya, walaupun kotanya berbeda.\n",
    "\n",
    "Hipotesis pertama dapat diterima sepenuhnya.\n",
    "\n",
    "2. Preferensi musik tidak terlalu berbeda selama seminggu di Springfield dan Shelbyville. Kita dapat melihat perbedaan kecil dalam urutan pada hari Senin, tetapi:\n",
    "* Baik di Springfield maupun di Shelbyville, orang paling banyak mendengarkan musik pop.\n",
    "\n",
    "Jadi hipotesis ini tidak dapat kita terima. Kita juga harus ingat bahwa hasilnya bisa berbeda jika bukan karena nilai yang hilang.\n",
    "\n",
    "3. Ternyata preferensi musik pengguna dari Springfield dan Shelbyville sangat mirip.\n",
    "\n",
    "Hipotesis ketiga ditolak. Jika ada perbedaan preferensi, tidak dapat dilihat dari data ini.\n",
    "\n",
    "### Catatan\n",
    "Dalam proyek sesungguhnya, penelitian melibatkan pengujian hipotesis statistik, yang lebih tepat dan lebih kuantitatif. Perhatikan juga bahwa Anda tidak dapat selalu menarik kesimpulan tentang seluruh kota berdasarkan data dari satu sumber saja.\n",
    "\n",
    "Anda akan mempelajari pengujian hipotesis dalam sprint analisis data statistik."
   ]
  },
  {
   "cell_type": "markdown",
   "metadata": {
    "id": "Ju4AHDSgV1FE"
   },
   "source": [
    "[Kembali ke Daftar Isi](#back)"
   ]
  }
 ],
 "metadata": {
  "ExecuteTimeLog": [
   {
    "duration": 433,
    "start_time": "2022-08-04T09:51:28.882Z"
   },
   {
    "duration": 159,
    "start_time": "2022-08-04T09:52:58.086Z"
   },
   {
    "duration": 173,
    "start_time": "2022-08-04T09:53:06.010Z"
   },
   {
    "duration": 154,
    "start_time": "2022-08-04T09:53:12.902Z"
   },
   {
    "duration": 148,
    "start_time": "2022-08-04T09:57:09.405Z"
   },
   {
    "duration": 242,
    "start_time": "2022-08-04T10:07:31.670Z"
   },
   {
    "duration": 173,
    "start_time": "2022-08-04T10:13:02.351Z"
   },
   {
    "duration": 3,
    "start_time": "2022-08-04T10:16:06.710Z"
   },
   {
    "duration": 21,
    "start_time": "2022-08-04T10:16:53.181Z"
   },
   {
    "duration": 45,
    "start_time": "2022-08-04T10:20:32.084Z"
   },
   {
    "duration": 174,
    "start_time": "2022-08-04T10:21:40.784Z"
   },
   {
    "duration": 85,
    "start_time": "2022-08-04T10:21:48.439Z"
   },
   {
    "duration": 149,
    "start_time": "2022-08-04T10:21:57.380Z"
   },
   {
    "duration": 2,
    "start_time": "2022-08-04T11:02:37.676Z"
   },
   {
    "duration": 3,
    "start_time": "2022-08-04T11:04:07.228Z"
   },
   {
    "duration": 4,
    "start_time": "2022-08-04T11:04:28.496Z"
   },
   {
    "duration": 4,
    "start_time": "2022-08-04T11:09:09.383Z"
   },
   {
    "duration": 2,
    "start_time": "2022-08-04T11:09:34.660Z"
   },
   {
    "duration": 182,
    "start_time": "2022-08-04T11:09:35.940Z"
   },
   {
    "duration": 140,
    "start_time": "2022-08-04T11:09:39.168Z"
   },
   {
    "duration": 12,
    "start_time": "2022-08-04T11:09:43.931Z"
   },
   {
    "duration": 3,
    "start_time": "2022-08-04T11:19:08.470Z"
   },
   {
    "duration": 6,
    "start_time": "2022-08-04T11:19:16.034Z"
   },
   {
    "duration": 3,
    "start_time": "2022-08-04T11:19:19.549Z"
   },
   {
    "duration": 14,
    "start_time": "2022-08-04T11:37:09.363Z"
   },
   {
    "duration": 11,
    "start_time": "2022-08-04T11:38:04.194Z"
   },
   {
    "duration": 8,
    "start_time": "2022-08-04T11:38:16.301Z"
   },
   {
    "duration": 12,
    "start_time": "2022-08-04T11:38:21.020Z"
   },
   {
    "duration": 27,
    "start_time": "2022-08-04T12:24:49.946Z"
   },
   {
    "duration": 1194,
    "start_time": "2022-08-04T13:06:19.400Z"
   },
   {
    "duration": 54,
    "start_time": "2022-08-05T05:43:51.607Z"
   },
   {
    "duration": 10,
    "start_time": "2022-08-05T05:44:11.521Z"
   },
   {
    "duration": 9,
    "start_time": "2022-08-05T05:44:21.169Z"
   },
   {
    "duration": 8,
    "start_time": "2022-08-05T05:44:44.178Z"
   },
   {
    "duration": 9,
    "start_time": "2022-08-05T05:45:50.308Z"
   },
   {
    "duration": 10,
    "start_time": "2022-08-05T05:48:30.615Z"
   },
   {
    "duration": 8,
    "start_time": "2022-08-05T05:55:23.864Z"
   },
   {
    "duration": 8,
    "start_time": "2022-08-05T05:55:33.126Z"
   },
   {
    "duration": 7,
    "start_time": "2022-08-05T05:55:52.446Z"
   },
   {
    "duration": 7,
    "start_time": "2022-08-05T06:38:06.790Z"
   },
   {
    "duration": 7,
    "start_time": "2022-08-05T06:38:17.719Z"
   },
   {
    "duration": 481,
    "start_time": "2022-08-05T06:38:33.528Z"
   },
   {
    "duration": 215,
    "start_time": "2022-08-05T06:38:37.171Z"
   },
   {
    "duration": 154,
    "start_time": "2022-08-05T06:38:41.100Z"
   },
   {
    "duration": 11,
    "start_time": "2022-08-05T06:38:46.180Z"
   },
   {
    "duration": 26,
    "start_time": "2022-08-05T06:38:49.153Z"
   },
   {
    "duration": 4,
    "start_time": "2022-08-05T06:38:54.832Z"
   },
   {
    "duration": 10,
    "start_time": "2022-08-05T06:38:59.051Z"
   },
   {
    "duration": 4,
    "start_time": "2022-08-05T06:39:01.579Z"
   },
   {
    "duration": 16,
    "start_time": "2022-08-05T06:39:12.708Z"
   },
   {
    "duration": 37,
    "start_time": "2022-08-05T06:39:16.053Z"
   },
   {
    "duration": 21,
    "start_time": "2022-08-05T06:42:49.269Z"
   },
   {
    "duration": 14,
    "start_time": "2022-08-05T06:42:54.886Z"
   },
   {
    "duration": 26,
    "start_time": "2022-08-05T06:42:57.929Z"
   },
   {
    "duration": 57,
    "start_time": "2022-08-05T06:47:46.454Z"
   },
   {
    "duration": 385,
    "start_time": "2022-08-07T13:58:08.314Z"
   },
   {
    "duration": 215,
    "start_time": "2022-08-07T13:58:08.701Z"
   },
   {
    "duration": 121,
    "start_time": "2022-08-07T13:58:08.918Z"
   },
   {
    "duration": 10,
    "start_time": "2022-08-07T13:58:09.041Z"
   },
   {
    "duration": 39,
    "start_time": "2022-08-07T13:58:09.053Z"
   },
   {
    "duration": 4,
    "start_time": "2022-08-07T13:58:09.093Z"
   },
   {
    "duration": 14,
    "start_time": "2022-08-07T13:58:09.098Z"
   },
   {
    "duration": 11,
    "start_time": "2022-08-07T13:58:09.113Z"
   },
   {
    "duration": 15,
    "start_time": "2022-08-07T13:58:09.125Z"
   },
   {
    "duration": 45,
    "start_time": "2022-08-07T13:58:09.141Z"
   },
   {
    "duration": 15,
    "start_time": "2022-08-07T13:58:09.188Z"
   },
   {
    "duration": 27,
    "start_time": "2022-08-07T13:58:09.204Z"
   },
   {
    "duration": 76,
    "start_time": "2022-08-07T13:58:09.232Z"
   },
   {
    "duration": 60,
    "start_time": "2022-08-07T13:58:09.312Z"
   },
   {
    "duration": 71,
    "start_time": "2022-08-07T13:58:09.374Z"
   },
   {
    "duration": 5,
    "start_time": "2022-08-07T13:58:09.447Z"
   },
   {
    "duration": 69,
    "start_time": "2022-08-07T13:58:09.454Z"
   },
   {
    "duration": 6,
    "start_time": "2022-08-07T13:58:09.525Z"
   },
   {
    "duration": 4,
    "start_time": "2022-08-07T13:58:09.533Z"
   },
   {
    "duration": 27,
    "start_time": "2022-08-07T13:58:09.538Z"
   },
   {
    "duration": 21,
    "start_time": "2022-08-07T13:58:09.567Z"
   },
   {
    "duration": 33,
    "start_time": "2022-08-07T13:58:09.589Z"
   },
   {
    "duration": 29,
    "start_time": "2022-08-07T13:58:09.623Z"
   },
   {
    "duration": 49,
    "start_time": "2022-08-07T13:58:09.654Z"
   },
   {
    "duration": 29,
    "start_time": "2022-08-07T13:58:09.705Z"
   },
   {
    "duration": 3,
    "start_time": "2022-08-07T13:58:09.736Z"
   },
   {
    "duration": 8,
    "start_time": "2022-08-07T13:58:09.740Z"
   },
   {
    "duration": 5,
    "start_time": "2022-08-07T13:58:09.750Z"
   },
   {
    "duration": 8,
    "start_time": "2022-08-07T13:58:09.756Z"
   },
   {
    "duration": 5,
    "start_time": "2022-08-07T13:58:09.765Z"
   },
   {
    "duration": 1,
    "start_time": "2022-08-07T13:58:09.787Z"
   },
   {
    "duration": 6,
    "start_time": "2022-08-07T13:58:09.790Z"
   },
   {
    "duration": 5,
    "start_time": "2022-08-07T13:58:09.797Z"
   },
   {
    "duration": 7,
    "start_time": "2022-08-07T13:58:09.803Z"
   },
   {
    "duration": 5,
    "start_time": "2022-08-07T13:58:09.811Z"
   },
   {
    "duration": 47,
    "start_time": "2022-08-07T13:58:09.818Z"
   },
   {
    "duration": 0,
    "start_time": "2022-08-07T13:58:09.866Z"
   },
   {
    "duration": 0,
    "start_time": "2022-08-07T13:58:09.867Z"
   },
   {
    "duration": 0,
    "start_time": "2022-08-07T13:58:09.868Z"
   },
   {
    "duration": 0,
    "start_time": "2022-08-07T13:58:09.869Z"
   },
   {
    "duration": 0,
    "start_time": "2022-08-07T13:58:09.871Z"
   },
   {
    "duration": 0,
    "start_time": "2022-08-07T13:58:09.872Z"
   },
   {
    "duration": 0,
    "start_time": "2022-08-07T13:58:09.873Z"
   },
   {
    "duration": 0,
    "start_time": "2022-08-07T13:58:09.874Z"
   },
   {
    "duration": 3,
    "start_time": "2022-08-07T14:08:25.162Z"
   },
   {
    "duration": 46,
    "start_time": "2022-08-07T14:14:52.276Z"
   },
   {
    "duration": 4,
    "start_time": "2022-08-07T14:15:09.107Z"
   },
   {
    "duration": 4,
    "start_time": "2022-08-07T14:15:15.947Z"
   },
   {
    "duration": 48,
    "start_time": "2022-08-07T14:15:24.277Z"
   },
   {
    "duration": 4,
    "start_time": "2022-08-07T14:17:08.101Z"
   },
   {
    "duration": 3,
    "start_time": "2022-08-07T14:17:15.743Z"
   },
   {
    "duration": 3,
    "start_time": "2022-08-07T14:17:45.762Z"
   },
   {
    "duration": 2,
    "start_time": "2022-08-07T14:18:03.127Z"
   },
   {
    "duration": 4,
    "start_time": "2022-08-07T14:31:40.366Z"
   },
   {
    "duration": 45,
    "start_time": "2022-08-07T14:32:28.641Z"
   },
   {
    "duration": 45,
    "start_time": "2022-08-07T14:32:46.126Z"
   },
   {
    "duration": 3,
    "start_time": "2022-08-07T14:33:03.460Z"
   },
   {
    "duration": 65,
    "start_time": "2022-08-07T14:33:43.352Z"
   },
   {
    "duration": 5,
    "start_time": "2022-08-07T14:34:19.940Z"
   },
   {
    "duration": 7,
    "start_time": "2022-08-07T14:35:02.931Z"
   },
   {
    "duration": 8,
    "start_time": "2022-08-07T14:35:19.525Z"
   },
   {
    "duration": 4,
    "start_time": "2022-08-07T14:35:29.374Z"
   },
   {
    "duration": 9,
    "start_time": "2022-08-07T14:50:02.728Z"
   },
   {
    "duration": 10,
    "start_time": "2022-08-07T14:50:13.060Z"
   },
   {
    "duration": 48,
    "start_time": "2022-08-07T14:50:55.412Z"
   },
   {
    "duration": 48,
    "start_time": "2022-08-07T14:51:08.940Z"
   },
   {
    "duration": 2,
    "start_time": "2022-08-07T14:51:48.646Z"
   },
   {
    "duration": 170,
    "start_time": "2022-08-07T14:51:48.650Z"
   },
   {
    "duration": 127,
    "start_time": "2022-08-07T14:51:48.822Z"
   },
   {
    "duration": 10,
    "start_time": "2022-08-07T14:51:52.889Z"
   },
   {
    "duration": 30,
    "start_time": "2022-08-07T14:51:52.901Z"
   },
   {
    "duration": 6,
    "start_time": "2022-08-07T14:51:52.932Z"
   },
   {
    "duration": 12,
    "start_time": "2022-08-07T14:51:52.939Z"
   },
   {
    "duration": 8,
    "start_time": "2022-08-07T14:51:52.953Z"
   },
   {
    "duration": 11,
    "start_time": "2022-08-07T14:51:53.341Z"
   },
   {
    "duration": 26,
    "start_time": "2022-08-07T14:51:53.354Z"
   },
   {
    "duration": 14,
    "start_time": "2022-08-07T14:51:53.381Z"
   },
   {
    "duration": 23,
    "start_time": "2022-08-07T14:51:53.397Z"
   },
   {
    "duration": 65,
    "start_time": "2022-08-07T14:51:53.422Z"
   },
   {
    "duration": 59,
    "start_time": "2022-08-07T14:51:53.489Z"
   },
   {
    "duration": 77,
    "start_time": "2022-08-07T14:51:53.550Z"
   },
   {
    "duration": 7,
    "start_time": "2022-08-07T14:51:53.628Z"
   },
   {
    "duration": 67,
    "start_time": "2022-08-07T14:51:53.638Z"
   },
   {
    "duration": 3,
    "start_time": "2022-08-07T14:52:56.406Z"
   },
   {
    "duration": 186,
    "start_time": "2022-08-07T14:52:56.440Z"
   },
   {
    "duration": 139,
    "start_time": "2022-08-07T14:52:56.628Z"
   },
   {
    "duration": 19,
    "start_time": "2022-08-07T14:52:56.769Z"
   },
   {
    "duration": 27,
    "start_time": "2022-08-07T14:52:56.790Z"
   },
   {
    "duration": 4,
    "start_time": "2022-08-07T14:52:56.819Z"
   },
   {
    "duration": 9,
    "start_time": "2022-08-07T14:52:56.824Z"
   },
   {
    "duration": 4,
    "start_time": "2022-08-07T14:52:56.834Z"
   },
   {
    "duration": 15,
    "start_time": "2022-08-07T14:52:56.839Z"
   },
   {
    "duration": 24,
    "start_time": "2022-08-07T14:52:56.887Z"
   },
   {
    "duration": 14,
    "start_time": "2022-08-07T14:52:56.914Z"
   },
   {
    "duration": 25,
    "start_time": "2022-08-07T14:52:56.929Z"
   },
   {
    "duration": 77,
    "start_time": "2022-08-07T14:52:56.956Z"
   },
   {
    "duration": 65,
    "start_time": "2022-08-07T14:52:57.034Z"
   },
   {
    "duration": 53,
    "start_time": "2022-08-07T14:52:57.101Z"
   },
   {
    "duration": 11,
    "start_time": "2022-08-07T14:52:57.156Z"
   },
   {
    "duration": 65,
    "start_time": "2022-08-07T14:52:57.169Z"
   },
   {
    "duration": 9,
    "start_time": "2022-08-07T14:52:57.236Z"
   },
   {
    "duration": 3,
    "start_time": "2022-08-07T14:52:57.247Z"
   },
   {
    "duration": 43,
    "start_time": "2022-08-07T14:52:57.252Z"
   },
   {
    "duration": 8,
    "start_time": "2022-08-07T14:52:57.296Z"
   },
   {
    "duration": 28,
    "start_time": "2022-08-07T14:52:57.306Z"
   },
   {
    "duration": 57,
    "start_time": "2022-08-07T14:52:57.336Z"
   },
   {
    "duration": 28,
    "start_time": "2022-08-07T14:52:57.395Z"
   },
   {
    "duration": 27,
    "start_time": "2022-08-07T14:52:57.424Z"
   },
   {
    "duration": 51,
    "start_time": "2022-08-07T14:52:57.453Z"
   },
   {
    "duration": 0,
    "start_time": "2022-08-07T14:52:57.507Z"
   },
   {
    "duration": 0,
    "start_time": "2022-08-07T14:52:57.508Z"
   },
   {
    "duration": 0,
    "start_time": "2022-08-07T14:52:57.510Z"
   },
   {
    "duration": 0,
    "start_time": "2022-08-07T14:52:57.511Z"
   },
   {
    "duration": 0,
    "start_time": "2022-08-07T14:52:57.512Z"
   },
   {
    "duration": 0,
    "start_time": "2022-08-07T14:52:57.514Z"
   },
   {
    "duration": 0,
    "start_time": "2022-08-07T14:52:57.515Z"
   },
   {
    "duration": 0,
    "start_time": "2022-08-07T14:52:57.516Z"
   },
   {
    "duration": 0,
    "start_time": "2022-08-07T14:52:57.518Z"
   },
   {
    "duration": 0,
    "start_time": "2022-08-07T14:52:57.519Z"
   },
   {
    "duration": 0,
    "start_time": "2022-08-07T14:52:57.521Z"
   },
   {
    "duration": 0,
    "start_time": "2022-08-07T14:52:57.522Z"
   },
   {
    "duration": 0,
    "start_time": "2022-08-07T14:52:57.523Z"
   },
   {
    "duration": 0,
    "start_time": "2022-08-07T14:52:57.525Z"
   },
   {
    "duration": 0,
    "start_time": "2022-08-07T14:52:57.526Z"
   },
   {
    "duration": 0,
    "start_time": "2022-08-07T14:52:57.527Z"
   },
   {
    "duration": 0,
    "start_time": "2022-08-07T14:52:57.529Z"
   },
   {
    "duration": 0,
    "start_time": "2022-08-07T14:52:57.529Z"
   },
   {
    "duration": 0,
    "start_time": "2022-08-07T14:52:57.531Z"
   },
   {
    "duration": 2,
    "start_time": "2022-08-07T14:53:12.740Z"
   },
   {
    "duration": 166,
    "start_time": "2022-08-07T14:53:12.748Z"
   },
   {
    "duration": 137,
    "start_time": "2022-08-07T14:53:12.916Z"
   },
   {
    "duration": 10,
    "start_time": "2022-08-07T14:53:13.054Z"
   },
   {
    "duration": 46,
    "start_time": "2022-08-07T14:53:13.066Z"
   },
   {
    "duration": 3,
    "start_time": "2022-08-07T14:53:13.114Z"
   },
   {
    "duration": 7,
    "start_time": "2022-08-07T14:53:13.119Z"
   },
   {
    "duration": 5,
    "start_time": "2022-08-07T14:53:13.128Z"
   },
   {
    "duration": 14,
    "start_time": "2022-08-07T14:53:13.134Z"
   },
   {
    "duration": 51,
    "start_time": "2022-08-07T14:53:13.149Z"
   },
   {
    "duration": 12,
    "start_time": "2022-08-07T14:53:13.203Z"
   },
   {
    "duration": 27,
    "start_time": "2022-08-07T14:53:13.217Z"
   },
   {
    "duration": 86,
    "start_time": "2022-08-07T14:53:13.245Z"
   },
   {
    "duration": 65,
    "start_time": "2022-08-07T14:53:13.333Z"
   },
   {
    "duration": 73,
    "start_time": "2022-08-07T14:53:13.400Z"
   },
   {
    "duration": 15,
    "start_time": "2022-08-07T14:53:13.475Z"
   },
   {
    "duration": 56,
    "start_time": "2022-08-07T14:53:13.491Z"
   },
   {
    "duration": 6,
    "start_time": "2022-08-07T14:53:13.549Z"
   },
   {
    "duration": 5,
    "start_time": "2022-08-07T14:53:13.557Z"
   },
   {
    "duration": 46,
    "start_time": "2022-08-07T14:53:13.563Z"
   },
   {
    "duration": 8,
    "start_time": "2022-08-07T14:53:13.610Z"
   },
   {
    "duration": 39,
    "start_time": "2022-08-07T14:53:13.620Z"
   },
   {
    "duration": 45,
    "start_time": "2022-08-07T14:53:13.661Z"
   },
   {
    "duration": 28,
    "start_time": "2022-08-07T14:53:13.708Z"
   },
   {
    "duration": 28,
    "start_time": "2022-08-07T14:53:13.737Z"
   },
   {
    "duration": 4,
    "start_time": "2022-08-07T14:53:13.786Z"
   },
   {
    "duration": 10,
    "start_time": "2022-08-07T14:53:13.791Z"
   },
   {
    "duration": 0,
    "start_time": "2022-08-07T14:53:13.803Z"
   },
   {
    "duration": 0,
    "start_time": "2022-08-07T14:53:13.804Z"
   },
   {
    "duration": 0,
    "start_time": "2022-08-07T14:53:13.805Z"
   },
   {
    "duration": 0,
    "start_time": "2022-08-07T14:53:13.806Z"
   },
   {
    "duration": 0,
    "start_time": "2022-08-07T14:53:13.807Z"
   },
   {
    "duration": 0,
    "start_time": "2022-08-07T14:53:13.808Z"
   },
   {
    "duration": 0,
    "start_time": "2022-08-07T14:53:13.809Z"
   },
   {
    "duration": 0,
    "start_time": "2022-08-07T14:53:13.810Z"
   },
   {
    "duration": 0,
    "start_time": "2022-08-07T14:53:13.810Z"
   },
   {
    "duration": 0,
    "start_time": "2022-08-07T14:53:13.812Z"
   },
   {
    "duration": 0,
    "start_time": "2022-08-07T14:53:13.812Z"
   },
   {
    "duration": 0,
    "start_time": "2022-08-07T14:53:13.814Z"
   },
   {
    "duration": 0,
    "start_time": "2022-08-07T14:53:13.814Z"
   },
   {
    "duration": 0,
    "start_time": "2022-08-07T14:53:13.815Z"
   },
   {
    "duration": 0,
    "start_time": "2022-08-07T14:53:13.817Z"
   },
   {
    "duration": 0,
    "start_time": "2022-08-07T14:53:13.817Z"
   },
   {
    "duration": 1,
    "start_time": "2022-08-07T14:53:13.818Z"
   },
   {
    "duration": 0,
    "start_time": "2022-08-07T14:53:13.820Z"
   },
   {
    "duration": 22,
    "start_time": "2022-08-07T14:53:40.498Z"
   },
   {
    "duration": 3,
    "start_time": "2022-08-07T15:00:56.073Z"
   },
   {
    "duration": 9,
    "start_time": "2022-08-07T15:03:25.013Z"
   },
   {
    "duration": 4,
    "start_time": "2022-08-07T15:27:38.241Z"
   },
   {
    "duration": 43,
    "start_time": "2022-08-07T15:29:21.004Z"
   },
   {
    "duration": 45,
    "start_time": "2022-08-07T15:29:33.926Z"
   },
   {
    "duration": 6,
    "start_time": "2022-08-07T15:30:04.821Z"
   },
   {
    "duration": 5,
    "start_time": "2022-08-07T15:30:21.934Z"
   },
   {
    "duration": 51,
    "start_time": "2022-08-07T15:30:47.593Z"
   },
   {
    "duration": 6,
    "start_time": "2022-08-07T15:30:52.150Z"
   },
   {
    "duration": 6,
    "start_time": "2022-08-07T15:31:05.404Z"
   },
   {
    "duration": 4,
    "start_time": "2022-08-07T15:31:14.816Z"
   },
   {
    "duration": 9,
    "start_time": "2022-08-07T16:00:36.840Z"
   },
   {
    "duration": 12,
    "start_time": "2022-08-07T16:00:43.557Z"
   },
   {
    "duration": 0,
    "start_time": "2022-08-08T14:30:13.832Z"
   },
   {
    "duration": 0,
    "start_time": "2022-08-08T14:30:13.834Z"
   },
   {
    "duration": 0,
    "start_time": "2022-08-08T14:30:13.835Z"
   },
   {
    "duration": 0,
    "start_time": "2022-08-08T14:30:13.836Z"
   },
   {
    "duration": 0,
    "start_time": "2022-08-08T14:30:13.837Z"
   },
   {
    "duration": 0,
    "start_time": "2022-08-08T14:30:13.838Z"
   },
   {
    "duration": 0,
    "start_time": "2022-08-08T14:30:13.839Z"
   },
   {
    "duration": 0,
    "start_time": "2022-08-08T14:30:13.840Z"
   },
   {
    "duration": 0,
    "start_time": "2022-08-08T14:30:13.841Z"
   },
   {
    "duration": 0,
    "start_time": "2022-08-08T14:30:13.841Z"
   },
   {
    "duration": 0,
    "start_time": "2022-08-08T14:30:13.843Z"
   },
   {
    "duration": 0,
    "start_time": "2022-08-08T14:30:13.843Z"
   },
   {
    "duration": 0,
    "start_time": "2022-08-08T14:30:13.845Z"
   },
   {
    "duration": 1,
    "start_time": "2022-08-08T14:30:13.845Z"
   },
   {
    "duration": 0,
    "start_time": "2022-08-08T14:30:13.847Z"
   },
   {
    "duration": 0,
    "start_time": "2022-08-08T14:30:13.848Z"
   },
   {
    "duration": 0,
    "start_time": "2022-08-08T14:30:13.903Z"
   },
   {
    "duration": 0,
    "start_time": "2022-08-08T14:30:13.905Z"
   },
   {
    "duration": 0,
    "start_time": "2022-08-08T14:30:13.905Z"
   },
   {
    "duration": 0,
    "start_time": "2022-08-08T14:30:13.907Z"
   },
   {
    "duration": 0,
    "start_time": "2022-08-08T14:30:13.908Z"
   },
   {
    "duration": 0,
    "start_time": "2022-08-08T14:30:13.909Z"
   },
   {
    "duration": 0,
    "start_time": "2022-08-08T14:30:13.910Z"
   },
   {
    "duration": 0,
    "start_time": "2022-08-08T14:30:13.911Z"
   },
   {
    "duration": 0,
    "start_time": "2022-08-08T14:30:13.912Z"
   },
   {
    "duration": 0,
    "start_time": "2022-08-08T14:30:13.912Z"
   },
   {
    "duration": 0,
    "start_time": "2022-08-08T14:30:13.913Z"
   },
   {
    "duration": 0,
    "start_time": "2022-08-08T14:30:13.914Z"
   },
   {
    "duration": 0,
    "start_time": "2022-08-08T14:30:13.916Z"
   },
   {
    "duration": 0,
    "start_time": "2022-08-08T14:30:13.916Z"
   },
   {
    "duration": 0,
    "start_time": "2022-08-08T14:30:13.917Z"
   },
   {
    "duration": 0,
    "start_time": "2022-08-08T14:30:13.918Z"
   },
   {
    "duration": 0,
    "start_time": "2022-08-08T14:30:13.919Z"
   },
   {
    "duration": 0,
    "start_time": "2022-08-08T14:30:13.920Z"
   },
   {
    "duration": 0,
    "start_time": "2022-08-08T14:30:13.921Z"
   },
   {
    "duration": 1,
    "start_time": "2022-08-08T14:30:13.922Z"
   },
   {
    "duration": 0,
    "start_time": "2022-08-08T14:30:13.924Z"
   },
   {
    "duration": 0,
    "start_time": "2022-08-08T14:30:13.925Z"
   },
   {
    "duration": 0,
    "start_time": "2022-08-08T14:30:13.926Z"
   },
   {
    "duration": 0,
    "start_time": "2022-08-08T14:30:13.927Z"
   },
   {
    "duration": 0,
    "start_time": "2022-08-08T14:30:13.928Z"
   },
   {
    "duration": 0,
    "start_time": "2022-08-08T14:30:13.929Z"
   },
   {
    "duration": 0,
    "start_time": "2022-08-08T14:30:13.930Z"
   },
   {
    "duration": 0,
    "start_time": "2022-08-08T14:30:13.930Z"
   },
   {
    "duration": 0,
    "start_time": "2022-08-08T14:30:13.931Z"
   },
   {
    "duration": 2,
    "start_time": "2022-08-08T14:31:48.339Z"
   },
   {
    "duration": 183,
    "start_time": "2022-08-08T14:31:48.345Z"
   },
   {
    "duration": 137,
    "start_time": "2022-08-08T14:31:48.530Z"
   },
   {
    "duration": 13,
    "start_time": "2022-08-08T14:31:48.669Z"
   },
   {
    "duration": 45,
    "start_time": "2022-08-08T14:31:48.684Z"
   },
   {
    "duration": 6,
    "start_time": "2022-08-08T14:31:48.731Z"
   },
   {
    "duration": 15,
    "start_time": "2022-08-08T14:31:48.738Z"
   },
   {
    "duration": 11,
    "start_time": "2022-08-08T14:31:48.755Z"
   },
   {
    "duration": 17,
    "start_time": "2022-08-08T14:31:48.767Z"
   },
   {
    "duration": 35,
    "start_time": "2022-08-08T14:31:48.786Z"
   },
   {
    "duration": 17,
    "start_time": "2022-08-08T14:31:48.825Z"
   },
   {
    "duration": 36,
    "start_time": "2022-08-08T14:31:48.844Z"
   },
   {
    "duration": 96,
    "start_time": "2022-08-08T14:31:48.883Z"
   },
   {
    "duration": 97,
    "start_time": "2022-08-08T14:31:48.981Z"
   },
   {
    "duration": 79,
    "start_time": "2022-08-08T14:31:49.080Z"
   },
   {
    "duration": 6,
    "start_time": "2022-08-08T14:31:49.161Z"
   },
   {
    "duration": 74,
    "start_time": "2022-08-08T14:31:49.169Z"
   },
   {
    "duration": 8,
    "start_time": "2022-08-08T14:31:49.245Z"
   },
   {
    "duration": 5,
    "start_time": "2022-08-08T14:31:49.254Z"
   },
   {
    "duration": 24,
    "start_time": "2022-08-08T14:31:49.261Z"
   },
   {
    "duration": 8,
    "start_time": "2022-08-08T14:31:49.303Z"
   },
   {
    "duration": 32,
    "start_time": "2022-08-08T14:31:49.313Z"
   },
   {
    "duration": 30,
    "start_time": "2022-08-08T14:31:49.346Z"
   },
   {
    "duration": 53,
    "start_time": "2022-08-08T14:31:49.378Z"
   },
   {
    "duration": 29,
    "start_time": "2022-08-08T14:31:49.433Z"
   },
   {
    "duration": 4,
    "start_time": "2022-08-08T14:31:49.464Z"
   },
   {
    "duration": 54,
    "start_time": "2022-08-08T14:31:49.470Z"
   },
   {
    "duration": 6,
    "start_time": "2022-08-08T14:31:49.526Z"
   },
   {
    "duration": 0,
    "start_time": "2022-08-08T14:31:49.534Z"
   },
   {
    "duration": 0,
    "start_time": "2022-08-08T14:31:49.535Z"
   },
   {
    "duration": 0,
    "start_time": "2022-08-08T14:31:49.536Z"
   },
   {
    "duration": 0,
    "start_time": "2022-08-08T14:31:49.537Z"
   },
   {
    "duration": 0,
    "start_time": "2022-08-08T14:31:49.538Z"
   },
   {
    "duration": 3,
    "start_time": "2022-08-08T14:31:49.842Z"
   },
   {
    "duration": 5,
    "start_time": "2022-08-08T14:31:49.847Z"
   },
   {
    "duration": 5,
    "start_time": "2022-08-08T14:31:49.854Z"
   },
   {
    "duration": 51,
    "start_time": "2022-08-08T14:31:49.861Z"
   },
   {
    "duration": 0,
    "start_time": "2022-08-08T14:31:49.914Z"
   },
   {
    "duration": 0,
    "start_time": "2022-08-08T14:31:49.915Z"
   },
   {
    "duration": 0,
    "start_time": "2022-08-08T14:31:49.917Z"
   },
   {
    "duration": 0,
    "start_time": "2022-08-08T14:31:49.918Z"
   },
   {
    "duration": 0,
    "start_time": "2022-08-08T14:31:49.920Z"
   },
   {
    "duration": 0,
    "start_time": "2022-08-08T14:31:49.921Z"
   },
   {
    "duration": 0,
    "start_time": "2022-08-08T14:31:49.923Z"
   },
   {
    "duration": 0,
    "start_time": "2022-08-08T14:31:49.924Z"
   },
   {
    "duration": 3,
    "start_time": "2022-08-08T14:34:30.419Z"
   },
   {
    "duration": 197,
    "start_time": "2022-08-08T14:34:30.425Z"
   },
   {
    "duration": 147,
    "start_time": "2022-08-08T14:34:30.625Z"
   },
   {
    "duration": 30,
    "start_time": "2022-08-08T14:34:30.773Z"
   },
   {
    "duration": 27,
    "start_time": "2022-08-08T14:34:30.806Z"
   },
   {
    "duration": 20,
    "start_time": "2022-08-08T14:34:30.835Z"
   },
   {
    "duration": 17,
    "start_time": "2022-08-08T14:34:30.857Z"
   },
   {
    "duration": 35,
    "start_time": "2022-08-08T14:34:30.875Z"
   },
   {
    "duration": 38,
    "start_time": "2022-08-08T14:34:30.912Z"
   },
   {
    "duration": 73,
    "start_time": "2022-08-08T14:34:30.951Z"
   },
   {
    "duration": 15,
    "start_time": "2022-08-08T14:34:31.025Z"
   },
   {
    "duration": 47,
    "start_time": "2022-08-08T14:34:31.042Z"
   },
   {
    "duration": 73,
    "start_time": "2022-08-08T14:34:31.093Z"
   },
   {
    "duration": 81,
    "start_time": "2022-08-08T14:34:31.168Z"
   },
   {
    "duration": 88,
    "start_time": "2022-08-08T14:34:31.250Z"
   },
   {
    "duration": 6,
    "start_time": "2022-08-08T14:34:31.340Z"
   },
   {
    "duration": 72,
    "start_time": "2022-08-08T14:34:31.348Z"
   },
   {
    "duration": 8,
    "start_time": "2022-08-08T14:34:31.422Z"
   },
   {
    "duration": 5,
    "start_time": "2022-08-08T14:34:31.431Z"
   },
   {
    "duration": 26,
    "start_time": "2022-08-08T14:34:31.438Z"
   },
   {
    "duration": 25,
    "start_time": "2022-08-08T14:34:31.466Z"
   },
   {
    "duration": 36,
    "start_time": "2022-08-08T14:34:31.493Z"
   },
   {
    "duration": 30,
    "start_time": "2022-08-08T14:34:31.530Z"
   },
   {
    "duration": 55,
    "start_time": "2022-08-08T14:34:31.562Z"
   },
   {
    "duration": 45,
    "start_time": "2022-08-08T14:34:31.620Z"
   },
   {
    "duration": 4,
    "start_time": "2022-08-08T14:34:31.667Z"
   },
   {
    "duration": 54,
    "start_time": "2022-08-08T14:34:31.673Z"
   },
   {
    "duration": 8,
    "start_time": "2022-08-08T14:34:31.728Z"
   },
   {
    "duration": 0,
    "start_time": "2022-08-08T14:34:31.738Z"
   },
   {
    "duration": 0,
    "start_time": "2022-08-08T14:34:31.740Z"
   },
   {
    "duration": 0,
    "start_time": "2022-08-08T14:34:31.741Z"
   },
   {
    "duration": 0,
    "start_time": "2022-08-08T14:34:31.742Z"
   },
   {
    "duration": 0,
    "start_time": "2022-08-08T14:34:31.743Z"
   },
   {
    "duration": 0,
    "start_time": "2022-08-08T14:34:31.745Z"
   },
   {
    "duration": 0,
    "start_time": "2022-08-08T14:34:31.746Z"
   },
   {
    "duration": 0,
    "start_time": "2022-08-08T14:34:31.747Z"
   },
   {
    "duration": 0,
    "start_time": "2022-08-08T14:34:31.748Z"
   },
   {
    "duration": 0,
    "start_time": "2022-08-08T14:34:31.749Z"
   },
   {
    "duration": 0,
    "start_time": "2022-08-08T14:34:31.750Z"
   },
   {
    "duration": 0,
    "start_time": "2022-08-08T14:34:31.751Z"
   },
   {
    "duration": 0,
    "start_time": "2022-08-08T14:34:31.753Z"
   },
   {
    "duration": 0,
    "start_time": "2022-08-08T14:34:31.754Z"
   },
   {
    "duration": 0,
    "start_time": "2022-08-08T14:34:31.755Z"
   },
   {
    "duration": 0,
    "start_time": "2022-08-08T14:34:31.756Z"
   },
   {
    "duration": 0,
    "start_time": "2022-08-08T14:34:31.803Z"
   },
   {
    "duration": 5,
    "start_time": "2022-08-08T14:39:06.428Z"
   },
   {
    "duration": 9,
    "start_time": "2022-08-08T14:39:10.303Z"
   },
   {
    "duration": 7,
    "start_time": "2022-08-08T14:39:43.019Z"
   },
   {
    "duration": 4,
    "start_time": "2022-08-08T14:40:36.728Z"
   },
   {
    "duration": 7,
    "start_time": "2022-08-08T14:40:41.191Z"
   },
   {
    "duration": 4,
    "start_time": "2022-08-08T14:41:24.058Z"
   },
   {
    "duration": 9,
    "start_time": "2022-08-08T14:41:28.855Z"
   },
   {
    "duration": 8,
    "start_time": "2022-08-08T14:42:56.125Z"
   },
   {
    "duration": 9,
    "start_time": "2022-08-08T14:43:08.398Z"
   },
   {
    "duration": 7,
    "start_time": "2022-08-08T14:43:12.729Z"
   },
   {
    "duration": 10,
    "start_time": "2022-08-08T14:43:20.101Z"
   },
   {
    "duration": 10,
    "start_time": "2022-08-08T14:43:30.342Z"
   },
   {
    "duration": 7,
    "start_time": "2022-08-08T14:43:38.534Z"
   },
   {
    "duration": 7,
    "start_time": "2022-08-08T14:43:56.481Z"
   },
   {
    "duration": 8,
    "start_time": "2022-08-08T14:44:02.441Z"
   },
   {
    "duration": 10,
    "start_time": "2022-08-08T14:44:17.152Z"
   },
   {
    "duration": 7,
    "start_time": "2022-08-08T14:44:44.323Z"
   },
   {
    "duration": 8,
    "start_time": "2022-08-08T14:44:56.023Z"
   },
   {
    "duration": 4,
    "start_time": "2022-08-08T14:45:22.644Z"
   },
   {
    "duration": 7,
    "start_time": "2022-08-08T14:45:25.697Z"
   },
   {
    "duration": 57,
    "start_time": "2022-08-08T14:45:44.123Z"
   },
   {
    "duration": 4,
    "start_time": "2022-08-08T14:45:49.754Z"
   },
   {
    "duration": 4,
    "start_time": "2022-08-08T14:45:54.178Z"
   },
   {
    "duration": 51,
    "start_time": "2022-08-08T14:45:56.545Z"
   },
   {
    "duration": 8,
    "start_time": "2022-08-08T14:46:00.068Z"
   },
   {
    "duration": 8,
    "start_time": "2022-08-08T14:50:47.036Z"
   },
   {
    "duration": 8,
    "start_time": "2022-08-08T14:52:41.259Z"
   },
   {
    "duration": 7,
    "start_time": "2022-08-08T14:53:06.449Z"
   },
   {
    "duration": 33,
    "start_time": "2022-08-08T14:54:36.640Z"
   },
   {
    "duration": 23,
    "start_time": "2022-08-08T14:54:55.352Z"
   },
   {
    "duration": 3,
    "start_time": "2022-08-08T14:55:27.385Z"
   },
   {
    "duration": 189,
    "start_time": "2022-08-08T14:55:27.396Z"
   },
   {
    "duration": 155,
    "start_time": "2022-08-08T14:55:27.587Z"
   },
   {
    "duration": 15,
    "start_time": "2022-08-08T14:55:27.743Z"
   },
   {
    "duration": 51,
    "start_time": "2022-08-08T14:55:27.761Z"
   },
   {
    "duration": 5,
    "start_time": "2022-08-08T14:55:27.814Z"
   },
   {
    "duration": 14,
    "start_time": "2022-08-08T14:55:27.821Z"
   },
   {
    "duration": 6,
    "start_time": "2022-08-08T14:55:27.838Z"
   },
   {
    "duration": 22,
    "start_time": "2022-08-08T14:55:27.847Z"
   },
   {
    "duration": 54,
    "start_time": "2022-08-08T14:55:27.871Z"
   },
   {
    "duration": 14,
    "start_time": "2022-08-08T14:55:27.928Z"
   },
   {
    "duration": 26,
    "start_time": "2022-08-08T14:55:27.944Z"
   },
   {
    "duration": 97,
    "start_time": "2022-08-08T14:55:27.972Z"
   },
   {
    "duration": 83,
    "start_time": "2022-08-08T14:55:28.071Z"
   },
   {
    "duration": 96,
    "start_time": "2022-08-08T14:55:28.156Z"
   },
   {
    "duration": 10,
    "start_time": "2022-08-08T14:55:28.256Z"
   },
   {
    "duration": 73,
    "start_time": "2022-08-08T14:55:28.268Z"
   },
   {
    "duration": 7,
    "start_time": "2022-08-08T14:55:28.343Z"
   },
   {
    "duration": 9,
    "start_time": "2022-08-08T14:55:28.352Z"
   },
   {
    "duration": 27,
    "start_time": "2022-08-08T14:55:28.362Z"
   },
   {
    "duration": 9,
    "start_time": "2022-08-08T14:55:28.404Z"
   },
   {
    "duration": 36,
    "start_time": "2022-08-08T14:55:28.416Z"
   },
   {
    "duration": 60,
    "start_time": "2022-08-08T14:55:28.453Z"
   },
   {
    "duration": 32,
    "start_time": "2022-08-08T14:55:28.515Z"
   },
   {
    "duration": 31,
    "start_time": "2022-08-08T14:55:28.549Z"
   },
   {
    "duration": 4,
    "start_time": "2022-08-08T14:55:28.603Z"
   },
   {
    "duration": 38,
    "start_time": "2022-08-08T14:55:28.609Z"
   },
   {
    "duration": 23,
    "start_time": "2022-08-08T14:55:28.648Z"
   },
   {
    "duration": 0,
    "start_time": "2022-08-08T14:55:28.677Z"
   },
   {
    "duration": 0,
    "start_time": "2022-08-08T14:55:28.678Z"
   },
   {
    "duration": 0,
    "start_time": "2022-08-08T14:55:28.703Z"
   },
   {
    "duration": 0,
    "start_time": "2022-08-08T14:55:28.705Z"
   },
   {
    "duration": 0,
    "start_time": "2022-08-08T14:55:28.706Z"
   },
   {
    "duration": 0,
    "start_time": "2022-08-08T14:55:28.708Z"
   },
   {
    "duration": 0,
    "start_time": "2022-08-08T14:55:28.709Z"
   },
   {
    "duration": 0,
    "start_time": "2022-08-08T14:55:28.710Z"
   },
   {
    "duration": 0,
    "start_time": "2022-08-08T14:55:28.712Z"
   },
   {
    "duration": 0,
    "start_time": "2022-08-08T14:55:28.713Z"
   },
   {
    "duration": 0,
    "start_time": "2022-08-08T14:55:28.715Z"
   },
   {
    "duration": 0,
    "start_time": "2022-08-08T14:55:28.716Z"
   },
   {
    "duration": 0,
    "start_time": "2022-08-08T14:55:28.717Z"
   },
   {
    "duration": 0,
    "start_time": "2022-08-08T14:55:28.718Z"
   },
   {
    "duration": 0,
    "start_time": "2022-08-08T14:55:28.720Z"
   },
   {
    "duration": 0,
    "start_time": "2022-08-08T14:55:28.721Z"
   },
   {
    "duration": 0,
    "start_time": "2022-08-08T14:55:28.722Z"
   },
   {
    "duration": 23,
    "start_time": "2022-08-08T14:56:11.994Z"
   },
   {
    "duration": 39,
    "start_time": "2022-08-08T14:57:12.356Z"
   },
   {
    "duration": 19,
    "start_time": "2022-08-08T14:57:32.656Z"
   },
   {
    "duration": 22,
    "start_time": "2022-08-08T14:59:02.705Z"
   },
   {
    "duration": 3,
    "start_time": "2022-08-08T14:59:26.456Z"
   },
   {
    "duration": 203,
    "start_time": "2022-08-08T14:59:26.462Z"
   },
   {
    "duration": 152,
    "start_time": "2022-08-08T14:59:26.667Z"
   },
   {
    "duration": 14,
    "start_time": "2022-08-08T14:59:26.821Z"
   },
   {
    "duration": 75,
    "start_time": "2022-08-08T14:59:26.838Z"
   },
   {
    "duration": 6,
    "start_time": "2022-08-08T14:59:26.916Z"
   },
   {
    "duration": 18,
    "start_time": "2022-08-08T14:59:26.924Z"
   },
   {
    "duration": 8,
    "start_time": "2022-08-08T14:59:26.943Z"
   },
   {
    "duration": 16,
    "start_time": "2022-08-08T14:59:26.952Z"
   },
   {
    "duration": 55,
    "start_time": "2022-08-08T14:59:26.970Z"
   },
   {
    "duration": 33,
    "start_time": "2022-08-08T14:59:27.070Z"
   },
   {
    "duration": 52,
    "start_time": "2022-08-08T14:59:27.106Z"
   },
   {
    "duration": 79,
    "start_time": "2022-08-08T14:59:27.160Z"
   },
   {
    "duration": 83,
    "start_time": "2022-08-08T14:59:27.241Z"
   },
   {
    "duration": 78,
    "start_time": "2022-08-08T14:59:27.325Z"
   },
   {
    "duration": 7,
    "start_time": "2022-08-08T14:59:27.405Z"
   },
   {
    "duration": 71,
    "start_time": "2022-08-08T14:59:27.414Z"
   },
   {
    "duration": 21,
    "start_time": "2022-08-08T14:59:27.487Z"
   },
   {
    "duration": 4,
    "start_time": "2022-08-08T14:59:27.510Z"
   },
   {
    "duration": 35,
    "start_time": "2022-08-08T14:59:27.516Z"
   },
   {
    "duration": 12,
    "start_time": "2022-08-08T14:59:27.554Z"
   },
   {
    "duration": 54,
    "start_time": "2022-08-08T14:59:27.568Z"
   },
   {
    "duration": 47,
    "start_time": "2022-08-08T14:59:27.624Z"
   },
   {
    "duration": 49,
    "start_time": "2022-08-08T14:59:27.673Z"
   },
   {
    "duration": 31,
    "start_time": "2022-08-08T14:59:27.724Z"
   },
   {
    "duration": 5,
    "start_time": "2022-08-08T14:59:27.757Z"
   },
   {
    "duration": 56,
    "start_time": "2022-08-08T14:59:27.764Z"
   },
   {
    "duration": 23,
    "start_time": "2022-08-08T14:59:27.822Z"
   },
   {
    "duration": 0,
    "start_time": "2022-08-08T14:59:27.848Z"
   },
   {
    "duration": 0,
    "start_time": "2022-08-08T14:59:27.849Z"
   },
   {
    "duration": 0,
    "start_time": "2022-08-08T14:59:27.850Z"
   },
   {
    "duration": 0,
    "start_time": "2022-08-08T14:59:27.851Z"
   },
   {
    "duration": 0,
    "start_time": "2022-08-08T14:59:27.852Z"
   },
   {
    "duration": 0,
    "start_time": "2022-08-08T14:59:27.854Z"
   },
   {
    "duration": 1,
    "start_time": "2022-08-08T14:59:27.854Z"
   },
   {
    "duration": 0,
    "start_time": "2022-08-08T14:59:27.856Z"
   },
   {
    "duration": 0,
    "start_time": "2022-08-08T14:59:27.857Z"
   },
   {
    "duration": 0,
    "start_time": "2022-08-08T14:59:27.858Z"
   },
   {
    "duration": 0,
    "start_time": "2022-08-08T14:59:27.860Z"
   },
   {
    "duration": 0,
    "start_time": "2022-08-08T14:59:27.861Z"
   },
   {
    "duration": 0,
    "start_time": "2022-08-08T14:59:27.861Z"
   },
   {
    "duration": 0,
    "start_time": "2022-08-08T14:59:27.863Z"
   },
   {
    "duration": 0,
    "start_time": "2022-08-08T14:59:27.903Z"
   },
   {
    "duration": 0,
    "start_time": "2022-08-08T14:59:27.905Z"
   },
   {
    "duration": 0,
    "start_time": "2022-08-08T14:59:27.906Z"
   },
   {
    "duration": 8,
    "start_time": "2022-08-08T15:05:21.453Z"
   },
   {
    "duration": 23,
    "start_time": "2022-08-08T15:05:30.332Z"
   },
   {
    "duration": 4,
    "start_time": "2022-08-08T15:05:33.599Z"
   },
   {
    "duration": 26,
    "start_time": "2022-08-08T15:05:39.045Z"
   },
   {
    "duration": 24,
    "start_time": "2022-08-08T15:05:53.839Z"
   },
   {
    "duration": 6,
    "start_time": "2022-08-08T15:07:48.399Z"
   },
   {
    "duration": 24,
    "start_time": "2022-08-08T15:07:50.065Z"
   },
   {
    "duration": 3,
    "start_time": "2022-08-08T15:08:13.457Z"
   },
   {
    "duration": 22,
    "start_time": "2022-08-08T15:08:15.916Z"
   },
   {
    "duration": 7,
    "start_time": "2022-08-08T15:08:24.108Z"
   },
   {
    "duration": 33,
    "start_time": "2022-08-08T15:08:33.321Z"
   },
   {
    "duration": 6,
    "start_time": "2022-08-08T15:09:30.834Z"
   },
   {
    "duration": 35,
    "start_time": "2022-08-08T15:09:33.327Z"
   },
   {
    "duration": 4,
    "start_time": "2022-08-08T15:11:46.299Z"
   },
   {
    "duration": 23,
    "start_time": "2022-08-08T15:11:48.015Z"
   },
   {
    "duration": 4,
    "start_time": "2022-08-08T15:12:16.897Z"
   },
   {
    "duration": 35,
    "start_time": "2022-08-08T15:12:18.991Z"
   },
   {
    "duration": 5,
    "start_time": "2022-08-08T15:13:10.597Z"
   },
   {
    "duration": 24,
    "start_time": "2022-08-08T15:13:15.717Z"
   },
   {
    "duration": 11,
    "start_time": "2022-08-08T15:17:37.459Z"
   },
   {
    "duration": 22,
    "start_time": "2022-08-08T15:17:58.161Z"
   },
   {
    "duration": 4,
    "start_time": "2022-08-08T15:18:49.192Z"
   },
   {
    "duration": 20,
    "start_time": "2022-08-08T15:18:51.747Z"
   },
   {
    "duration": 4,
    "start_time": "2022-08-08T15:18:59.533Z"
   },
   {
    "duration": 4,
    "start_time": "2022-08-08T15:19:09.862Z"
   },
   {
    "duration": 21,
    "start_time": "2022-08-08T15:19:14.239Z"
   },
   {
    "duration": 20,
    "start_time": "2022-08-08T15:19:31.003Z"
   },
   {
    "duration": 2,
    "start_time": "2022-08-08T15:19:35.963Z"
   },
   {
    "duration": 174,
    "start_time": "2022-08-08T15:19:35.972Z"
   },
   {
    "duration": 141,
    "start_time": "2022-08-08T15:19:36.148Z"
   },
   {
    "duration": 14,
    "start_time": "2022-08-08T15:19:36.302Z"
   },
   {
    "duration": 30,
    "start_time": "2022-08-08T15:19:36.319Z"
   },
   {
    "duration": 4,
    "start_time": "2022-08-08T15:19:36.351Z"
   },
   {
    "duration": 46,
    "start_time": "2022-08-08T15:19:36.357Z"
   },
   {
    "duration": 4,
    "start_time": "2022-08-08T15:19:36.405Z"
   },
   {
    "duration": 20,
    "start_time": "2022-08-08T15:19:36.410Z"
   },
   {
    "duration": 25,
    "start_time": "2022-08-08T15:19:36.432Z"
   },
   {
    "duration": 44,
    "start_time": "2022-08-08T15:19:36.461Z"
   },
   {
    "duration": 25,
    "start_time": "2022-08-08T15:19:36.506Z"
   },
   {
    "duration": 71,
    "start_time": "2022-08-08T15:19:36.533Z"
   },
   {
    "duration": 65,
    "start_time": "2022-08-08T15:19:36.606Z"
   },
   {
    "duration": 80,
    "start_time": "2022-08-08T15:19:36.673Z"
   },
   {
    "duration": 8,
    "start_time": "2022-08-08T15:19:36.755Z"
   },
   {
    "duration": 65,
    "start_time": "2022-08-08T15:19:36.764Z"
   },
   {
    "duration": 7,
    "start_time": "2022-08-08T15:19:36.830Z"
   },
   {
    "duration": 19,
    "start_time": "2022-08-08T15:19:36.839Z"
   },
   {
    "duration": 35,
    "start_time": "2022-08-08T15:19:36.859Z"
   },
   {
    "duration": 8,
    "start_time": "2022-08-08T15:19:36.896Z"
   },
   {
    "duration": 33,
    "start_time": "2022-08-08T15:19:36.906Z"
   },
   {
    "duration": 30,
    "start_time": "2022-08-08T15:19:36.941Z"
   },
   {
    "duration": 44,
    "start_time": "2022-08-08T15:19:36.973Z"
   },
   {
    "duration": 28,
    "start_time": "2022-08-08T15:19:37.019Z"
   },
   {
    "duration": 4,
    "start_time": "2022-08-08T15:19:37.048Z"
   },
   {
    "duration": 24,
    "start_time": "2022-08-08T15:19:37.054Z"
   },
   {
    "duration": 0,
    "start_time": "2022-08-08T15:19:37.080Z"
   },
   {
    "duration": 0,
    "start_time": "2022-08-08T15:19:37.103Z"
   },
   {
    "duration": 0,
    "start_time": "2022-08-08T15:19:37.105Z"
   },
   {
    "duration": 0,
    "start_time": "2022-08-08T15:19:37.106Z"
   },
   {
    "duration": 0,
    "start_time": "2022-08-08T15:19:37.107Z"
   },
   {
    "duration": 0,
    "start_time": "2022-08-08T15:19:37.108Z"
   },
   {
    "duration": 0,
    "start_time": "2022-08-08T15:19:37.109Z"
   },
   {
    "duration": 0,
    "start_time": "2022-08-08T15:19:37.110Z"
   },
   {
    "duration": 0,
    "start_time": "2022-08-08T15:19:37.111Z"
   },
   {
    "duration": 0,
    "start_time": "2022-08-08T15:19:37.112Z"
   },
   {
    "duration": 0,
    "start_time": "2022-08-08T15:19:37.113Z"
   },
   {
    "duration": 0,
    "start_time": "2022-08-08T15:19:37.114Z"
   },
   {
    "duration": 0,
    "start_time": "2022-08-08T15:19:37.115Z"
   },
   {
    "duration": 0,
    "start_time": "2022-08-08T15:19:37.116Z"
   },
   {
    "duration": 0,
    "start_time": "2022-08-08T15:19:37.117Z"
   },
   {
    "duration": 0,
    "start_time": "2022-08-08T15:19:37.118Z"
   },
   {
    "duration": 0,
    "start_time": "2022-08-08T15:19:37.119Z"
   },
   {
    "duration": 37,
    "start_time": "2022-08-08T15:24:46.676Z"
   },
   {
    "duration": 5,
    "start_time": "2022-08-08T15:25:12.014Z"
   },
   {
    "duration": 27,
    "start_time": "2022-08-08T15:25:13.880Z"
   },
   {
    "duration": 24,
    "start_time": "2022-08-08T15:27:09.915Z"
   },
   {
    "duration": 20,
    "start_time": "2022-08-08T15:27:40.331Z"
   },
   {
    "duration": 17,
    "start_time": "2022-08-08T15:30:35.115Z"
   },
   {
    "duration": 29,
    "start_time": "2022-08-08T15:30:49.714Z"
   },
   {
    "duration": 16,
    "start_time": "2022-08-08T15:32:29.543Z"
   },
   {
    "duration": 13,
    "start_time": "2022-08-08T15:32:58.218Z"
   },
   {
    "duration": 26,
    "start_time": "2022-08-08T15:34:31.822Z"
   },
   {
    "duration": 26,
    "start_time": "2022-08-08T15:35:04.152Z"
   },
   {
    "duration": 19,
    "start_time": "2022-08-08T15:35:11.516Z"
   },
   {
    "duration": 5,
    "start_time": "2022-08-08T15:36:10.275Z"
   },
   {
    "duration": 681,
    "start_time": "2022-08-08T15:36:22.693Z"
   },
   {
    "duration": 619,
    "start_time": "2022-08-08T15:36:58.366Z"
   },
   {
    "duration": 639,
    "start_time": "2022-08-08T15:36:58.987Z"
   },
   {
    "duration": 645,
    "start_time": "2022-08-08T15:37:09.969Z"
   },
   {
    "duration": 48,
    "start_time": "2022-08-08T15:37:17.338Z"
   },
   {
    "duration": 34,
    "start_time": "2022-08-08T15:37:20.462Z"
   },
   {
    "duration": 5,
    "start_time": "2022-08-08T15:37:23.468Z"
   },
   {
    "duration": 24,
    "start_time": "2022-08-08T15:37:42.445Z"
   },
   {
    "duration": 26,
    "start_time": "2022-08-08T15:38:07.351Z"
   },
   {
    "duration": 3,
    "start_time": "2022-08-08T15:38:14.962Z"
   },
   {
    "duration": 28,
    "start_time": "2022-08-08T15:39:30.461Z"
   },
   {
    "duration": 26,
    "start_time": "2022-08-08T15:40:13.146Z"
   },
   {
    "duration": 8,
    "start_time": "2022-08-08T15:46:17.759Z"
   },
   {
    "duration": 7,
    "start_time": "2022-08-08T15:46:39.968Z"
   },
   {
    "duration": 47,
    "start_time": "2022-08-08T15:46:58.891Z"
   },
   {
    "duration": 8,
    "start_time": "2022-08-08T15:48:03.413Z"
   },
   {
    "duration": 53,
    "start_time": "2022-08-08T18:14:36.498Z"
   },
   {
    "duration": 48,
    "start_time": "2022-08-08T18:15:03.791Z"
   },
   {
    "duration": 7,
    "start_time": "2022-08-08T18:15:15.251Z"
   },
   {
    "duration": 7,
    "start_time": "2022-08-08T18:16:12.010Z"
   },
   {
    "duration": 7,
    "start_time": "2022-08-08T18:16:25.946Z"
   },
   {
    "duration": 6,
    "start_time": "2022-08-08T18:19:34.160Z"
   },
   {
    "duration": 443,
    "start_time": "2022-08-08T18:19:38.766Z"
   },
   {
    "duration": 212,
    "start_time": "2022-08-08T18:19:39.211Z"
   },
   {
    "duration": 122,
    "start_time": "2022-08-08T18:19:39.425Z"
   },
   {
    "duration": 14,
    "start_time": "2022-08-08T18:19:39.550Z"
   },
   {
    "duration": 35,
    "start_time": "2022-08-08T18:19:39.566Z"
   },
   {
    "duration": 4,
    "start_time": "2022-08-08T18:19:39.602Z"
   },
   {
    "duration": 14,
    "start_time": "2022-08-08T18:19:39.607Z"
   },
   {
    "duration": 7,
    "start_time": "2022-08-08T18:19:39.622Z"
   },
   {
    "duration": 15,
    "start_time": "2022-08-08T18:19:39.631Z"
   },
   {
    "duration": 21,
    "start_time": "2022-08-08T18:19:39.649Z"
   },
   {
    "duration": 38,
    "start_time": "2022-08-08T18:19:39.671Z"
   },
   {
    "duration": 19,
    "start_time": "2022-08-08T18:19:39.711Z"
   },
   {
    "duration": 73,
    "start_time": "2022-08-08T18:19:39.732Z"
   },
   {
    "duration": 61,
    "start_time": "2022-08-08T18:19:39.807Z"
   },
   {
    "duration": 79,
    "start_time": "2022-08-08T18:19:39.870Z"
   },
   {
    "duration": 6,
    "start_time": "2022-08-08T18:19:39.951Z"
   },
   {
    "duration": 83,
    "start_time": "2022-08-08T18:19:39.959Z"
   },
   {
    "duration": 8,
    "start_time": "2022-08-08T18:19:40.044Z"
   },
   {
    "duration": 7,
    "start_time": "2022-08-08T18:19:40.053Z"
   },
   {
    "duration": 29,
    "start_time": "2022-08-08T18:19:40.061Z"
   },
   {
    "duration": 9,
    "start_time": "2022-08-08T18:19:40.091Z"
   },
   {
    "duration": 26,
    "start_time": "2022-08-08T18:19:40.102Z"
   },
   {
    "duration": 26,
    "start_time": "2022-08-08T18:19:40.130Z"
   },
   {
    "duration": 52,
    "start_time": "2022-08-08T18:19:40.158Z"
   },
   {
    "duration": 27,
    "start_time": "2022-08-08T18:19:40.212Z"
   },
   {
    "duration": 4,
    "start_time": "2022-08-08T18:19:40.241Z"
   },
   {
    "duration": 55,
    "start_time": "2022-08-08T18:19:40.246Z"
   },
   {
    "duration": 28,
    "start_time": "2022-08-08T18:19:40.305Z"
   },
   {
    "duration": 26,
    "start_time": "2022-08-08T18:19:40.335Z"
   },
   {
    "duration": 53,
    "start_time": "2022-08-08T18:19:40.363Z"
   },
   {
    "duration": 27,
    "start_time": "2022-08-08T18:19:40.417Z"
   },
   {
    "duration": 53,
    "start_time": "2022-08-08T18:19:40.446Z"
   },
   {
    "duration": 8,
    "start_time": "2022-08-08T18:19:40.501Z"
   },
   {
    "duration": 20,
    "start_time": "2022-08-08T18:19:40.510Z"
   },
   {
    "duration": 8,
    "start_time": "2022-08-08T18:19:40.532Z"
   },
   {
    "duration": 52,
    "start_time": "2022-08-08T18:19:40.542Z"
   },
   {
    "duration": 0,
    "start_time": "2022-08-08T18:19:40.596Z"
   },
   {
    "duration": 0,
    "start_time": "2022-08-08T18:19:40.598Z"
   },
   {
    "duration": 0,
    "start_time": "2022-08-08T18:19:40.600Z"
   },
   {
    "duration": 0,
    "start_time": "2022-08-08T18:19:40.601Z"
   },
   {
    "duration": 0,
    "start_time": "2022-08-08T18:19:40.603Z"
   },
   {
    "duration": 0,
    "start_time": "2022-08-08T18:19:40.604Z"
   },
   {
    "duration": 0,
    "start_time": "2022-08-08T18:19:40.606Z"
   },
   {
    "duration": 0,
    "start_time": "2022-08-08T18:19:40.608Z"
   },
   {
    "duration": 9,
    "start_time": "2022-08-08T18:20:49.107Z"
   },
   {
    "duration": 9,
    "start_time": "2022-08-08T18:21:04.838Z"
   },
   {
    "duration": 9,
    "start_time": "2022-08-08T18:22:58.183Z"
   },
   {
    "duration": 26,
    "start_time": "2022-08-08T18:30:09.277Z"
   },
   {
    "duration": 23,
    "start_time": "2022-08-08T18:30:15.915Z"
   },
   {
    "duration": 31,
    "start_time": "2022-08-08T18:34:33.812Z"
   },
   {
    "duration": 10,
    "start_time": "2022-08-08T18:34:48.909Z"
   },
   {
    "duration": 1824,
    "start_time": "2022-08-08T18:35:01.950Z"
   },
   {
    "duration": 10,
    "start_time": "2022-08-08T18:36:40.436Z"
   },
   {
    "duration": 37,
    "start_time": "2022-08-08T18:36:55.299Z"
   },
   {
    "duration": 18,
    "start_time": "2022-08-08T18:39:10.475Z"
   },
   {
    "duration": 21,
    "start_time": "2022-08-08T19:31:44.670Z"
   },
   {
    "duration": 18,
    "start_time": "2022-08-08T20:10:35.068Z"
   },
   {
    "duration": 18,
    "start_time": "2022-08-08T20:10:56.126Z"
   },
   {
    "duration": 48,
    "start_time": "2022-08-08T20:19:40.011Z"
   },
   {
    "duration": 46,
    "start_time": "2022-08-08T20:24:13.149Z"
   },
   {
    "duration": 48,
    "start_time": "2022-08-08T20:24:47.786Z"
   },
   {
    "duration": 44,
    "start_time": "2022-08-08T20:25:09.052Z"
   },
   {
    "duration": 52,
    "start_time": "2022-08-08T20:25:32.414Z"
   },
   {
    "duration": 74,
    "start_time": "2022-08-08T20:25:41.665Z"
   },
   {
    "duration": 58,
    "start_time": "2022-08-08T20:27:01.613Z"
   },
   {
    "duration": 43,
    "start_time": "2022-08-08T20:27:12.237Z"
   },
   {
    "duration": 49,
    "start_time": "2022-08-08T20:30:16.402Z"
   },
   {
    "duration": 2,
    "start_time": "2022-08-08T20:39:35.822Z"
   },
   {
    "duration": 191,
    "start_time": "2022-08-08T20:39:35.826Z"
   },
   {
    "duration": 133,
    "start_time": "2022-08-08T20:39:36.020Z"
   },
   {
    "duration": 13,
    "start_time": "2022-08-08T20:39:36.154Z"
   },
   {
    "duration": 44,
    "start_time": "2022-08-08T20:39:36.169Z"
   },
   {
    "duration": 6,
    "start_time": "2022-08-08T20:39:36.216Z"
   },
   {
    "duration": 14,
    "start_time": "2022-08-08T20:39:36.224Z"
   },
   {
    "duration": 8,
    "start_time": "2022-08-08T20:39:36.240Z"
   },
   {
    "duration": 16,
    "start_time": "2022-08-08T20:39:36.250Z"
   },
   {
    "duration": 37,
    "start_time": "2022-08-08T20:39:36.267Z"
   },
   {
    "duration": 19,
    "start_time": "2022-08-08T20:39:36.309Z"
   },
   {
    "duration": 21,
    "start_time": "2022-08-08T20:39:36.329Z"
   },
   {
    "duration": 80,
    "start_time": "2022-08-08T20:39:36.352Z"
   },
   {
    "duration": 67,
    "start_time": "2022-08-08T20:39:36.433Z"
   },
   {
    "duration": 65,
    "start_time": "2022-08-08T20:39:36.502Z"
   },
   {
    "duration": 6,
    "start_time": "2022-08-08T20:39:36.569Z"
   },
   {
    "duration": 82,
    "start_time": "2022-08-08T20:39:36.576Z"
   },
   {
    "duration": 7,
    "start_time": "2022-08-08T20:39:36.660Z"
   },
   {
    "duration": 6,
    "start_time": "2022-08-08T20:39:36.668Z"
   },
   {
    "duration": 40,
    "start_time": "2022-08-08T20:39:36.676Z"
   },
   {
    "duration": 7,
    "start_time": "2022-08-08T20:39:36.718Z"
   },
   {
    "duration": 29,
    "start_time": "2022-08-08T20:39:36.727Z"
   },
   {
    "duration": 48,
    "start_time": "2022-08-08T20:39:36.758Z"
   },
   {
    "duration": 31,
    "start_time": "2022-08-08T20:39:36.808Z"
   },
   {
    "duration": 32,
    "start_time": "2022-08-08T20:39:36.840Z"
   },
   {
    "duration": 26,
    "start_time": "2022-08-08T20:39:36.874Z"
   },
   {
    "duration": 33,
    "start_time": "2022-08-08T20:39:36.903Z"
   },
   {
    "duration": 24,
    "start_time": "2022-08-08T20:39:36.937Z"
   },
   {
    "duration": 46,
    "start_time": "2022-08-08T20:39:36.964Z"
   },
   {
    "duration": 24,
    "start_time": "2022-08-08T20:39:37.011Z"
   },
   {
    "duration": 24,
    "start_time": "2022-08-08T20:39:37.037Z"
   },
   {
    "duration": 53,
    "start_time": "2022-08-08T20:39:37.062Z"
   },
   {
    "duration": 9,
    "start_time": "2022-08-08T20:39:37.117Z"
   },
   {
    "duration": 24,
    "start_time": "2022-08-08T20:39:37.127Z"
   },
   {
    "duration": 18,
    "start_time": "2022-08-08T20:39:37.152Z"
   },
   {
    "duration": 28,
    "start_time": "2022-08-08T20:39:37.172Z"
   },
   {
    "duration": 0,
    "start_time": "2022-08-08T20:39:37.201Z"
   },
   {
    "duration": 0,
    "start_time": "2022-08-08T20:39:37.202Z"
   },
   {
    "duration": 0,
    "start_time": "2022-08-08T20:39:37.203Z"
   },
   {
    "duration": 0,
    "start_time": "2022-08-08T20:39:37.205Z"
   },
   {
    "duration": 0,
    "start_time": "2022-08-08T20:39:37.206Z"
   },
   {
    "duration": 0,
    "start_time": "2022-08-08T20:39:37.207Z"
   },
   {
    "duration": 0,
    "start_time": "2022-08-08T20:39:37.208Z"
   },
   {
    "duration": 0,
    "start_time": "2022-08-08T20:39:37.209Z"
   },
   {
    "duration": 3,
    "start_time": "2022-08-08T20:39:49.976Z"
   },
   {
    "duration": 50,
    "start_time": "2022-08-08T20:40:13.427Z"
   },
   {
    "duration": 52,
    "start_time": "2022-08-08T20:40:37.896Z"
   },
   {
    "duration": 57,
    "start_time": "2022-08-08T20:40:59.446Z"
   },
   {
    "duration": 58,
    "start_time": "2022-08-08T20:42:30.311Z"
   },
   {
    "duration": 53,
    "start_time": "2022-08-08T20:44:38.729Z"
   },
   {
    "duration": 54,
    "start_time": "2022-08-08T20:44:47.722Z"
   },
   {
    "duration": 47,
    "start_time": "2022-08-08T20:45:19.303Z"
   },
   {
    "duration": 57,
    "start_time": "2022-08-08T20:45:54.225Z"
   },
   {
    "duration": 48,
    "start_time": "2022-08-08T20:46:40.947Z"
   },
   {
    "duration": 53,
    "start_time": "2022-08-08T20:48:06.432Z"
   },
   {
    "duration": 48,
    "start_time": "2022-08-08T20:48:38.517Z"
   },
   {
    "duration": 60,
    "start_time": "2022-08-08T20:49:30.085Z"
   },
   {
    "duration": 45,
    "start_time": "2022-08-08T20:49:44.312Z"
   },
   {
    "duration": 3,
    "start_time": "2022-08-08T20:50:15.891Z"
   },
   {
    "duration": 189,
    "start_time": "2022-08-08T20:50:15.896Z"
   },
   {
    "duration": 131,
    "start_time": "2022-08-08T20:50:16.087Z"
   },
   {
    "duration": 12,
    "start_time": "2022-08-08T20:50:16.220Z"
   },
   {
    "duration": 28,
    "start_time": "2022-08-08T20:50:16.234Z"
   },
   {
    "duration": 6,
    "start_time": "2022-08-08T20:50:16.263Z"
   },
   {
    "duration": 28,
    "start_time": "2022-08-08T20:50:16.271Z"
   },
   {
    "duration": 21,
    "start_time": "2022-08-08T20:50:16.301Z"
   },
   {
    "duration": 14,
    "start_time": "2022-08-08T20:50:16.324Z"
   },
   {
    "duration": 25,
    "start_time": "2022-08-08T20:50:16.340Z"
   },
   {
    "duration": 13,
    "start_time": "2022-08-08T20:50:16.368Z"
   },
   {
    "duration": 36,
    "start_time": "2022-08-08T20:50:16.382Z"
   },
   {
    "duration": 60,
    "start_time": "2022-08-08T20:50:16.419Z"
   },
   {
    "duration": 78,
    "start_time": "2022-08-08T20:50:16.481Z"
   },
   {
    "duration": 76,
    "start_time": "2022-08-08T20:50:16.560Z"
   },
   {
    "duration": 6,
    "start_time": "2022-08-08T20:50:16.638Z"
   },
   {
    "duration": 69,
    "start_time": "2022-08-08T20:50:16.645Z"
   },
   {
    "duration": 8,
    "start_time": "2022-08-08T20:50:16.716Z"
   },
   {
    "duration": 3,
    "start_time": "2022-08-08T20:50:16.725Z"
   },
   {
    "duration": 23,
    "start_time": "2022-08-08T20:50:16.730Z"
   },
   {
    "duration": 9,
    "start_time": "2022-08-08T20:50:16.754Z"
   },
   {
    "duration": 59,
    "start_time": "2022-08-08T20:50:16.764Z"
   },
   {
    "duration": 25,
    "start_time": "2022-08-08T20:50:16.825Z"
   },
   {
    "duration": 26,
    "start_time": "2022-08-08T20:50:16.851Z"
   },
   {
    "duration": 52,
    "start_time": "2022-08-08T20:50:16.878Z"
   },
   {
    "duration": 3,
    "start_time": "2022-08-08T20:50:16.932Z"
   },
   {
    "duration": 28,
    "start_time": "2022-08-08T20:50:16.937Z"
   },
   {
    "duration": 50,
    "start_time": "2022-08-08T20:50:16.966Z"
   },
   {
    "duration": 25,
    "start_time": "2022-08-08T20:50:17.019Z"
   },
   {
    "duration": 22,
    "start_time": "2022-08-08T20:50:17.045Z"
   },
   {
    "duration": 50,
    "start_time": "2022-08-08T20:50:17.069Z"
   },
   {
    "duration": 24,
    "start_time": "2022-08-08T20:50:17.121Z"
   },
   {
    "duration": 8,
    "start_time": "2022-08-08T20:50:17.146Z"
   },
   {
    "duration": 43,
    "start_time": "2022-08-08T20:50:17.156Z"
   },
   {
    "duration": 23,
    "start_time": "2022-08-08T20:50:17.201Z"
   },
   {
    "duration": 77,
    "start_time": "2022-08-08T20:50:17.226Z"
   },
   {
    "duration": 0,
    "start_time": "2022-08-08T20:50:17.305Z"
   },
   {
    "duration": 0,
    "start_time": "2022-08-08T20:50:17.306Z"
   },
   {
    "duration": 0,
    "start_time": "2022-08-08T20:50:17.307Z"
   },
   {
    "duration": 0,
    "start_time": "2022-08-08T20:50:17.308Z"
   },
   {
    "duration": 0,
    "start_time": "2022-08-08T20:50:17.309Z"
   },
   {
    "duration": 0,
    "start_time": "2022-08-08T20:50:17.310Z"
   },
   {
    "duration": 0,
    "start_time": "2022-08-08T20:50:17.311Z"
   },
   {
    "duration": 0,
    "start_time": "2022-08-08T20:50:17.312Z"
   },
   {
    "duration": 47,
    "start_time": "2022-08-08T20:51:52.083Z"
   },
   {
    "duration": 50,
    "start_time": "2022-08-08T20:52:04.580Z"
   },
   {
    "duration": 172,
    "start_time": "2022-08-08T20:55:03.070Z"
   },
   {
    "duration": 51,
    "start_time": "2022-08-08T20:56:01.444Z"
   },
   {
    "duration": 48,
    "start_time": "2022-08-08T20:58:54.045Z"
   },
   {
    "duration": 63,
    "start_time": "2022-08-08T20:59:20.483Z"
   },
   {
    "duration": 45,
    "start_time": "2022-08-08T20:59:28.923Z"
   },
   {
    "duration": 85,
    "start_time": "2022-08-08T21:00:37.910Z"
   },
   {
    "duration": 5,
    "start_time": "2022-08-08T21:01:40.242Z"
   },
   {
    "duration": 56,
    "start_time": "2022-08-08T21:02:35.384Z"
   },
   {
    "duration": 6,
    "start_time": "2022-08-08T21:04:24.083Z"
   },
   {
    "duration": 5,
    "start_time": "2022-08-08T21:04:55.466Z"
   },
   {
    "duration": 54,
    "start_time": "2022-08-08T21:05:43.182Z"
   },
   {
    "duration": 6,
    "start_time": "2022-08-08T21:05:49.027Z"
   },
   {
    "duration": 206,
    "start_time": "2022-08-08T21:11:03.225Z"
   },
   {
    "duration": 135,
    "start_time": "2022-08-08T21:12:35.081Z"
   },
   {
    "duration": 47,
    "start_time": "2022-08-08T21:15:38.436Z"
   },
   {
    "duration": 5,
    "start_time": "2022-08-08T21:15:52.800Z"
   },
   {
    "duration": 77,
    "start_time": "2022-08-08T21:15:55.438Z"
   },
   {
    "duration": 4,
    "start_time": "2022-08-08T21:30:42.661Z"
   },
   {
    "duration": 31,
    "start_time": "2022-08-08T21:30:58.346Z"
   },
   {
    "duration": 20,
    "start_time": "2022-08-08T21:31:43.167Z"
   },
   {
    "duration": 21,
    "start_time": "2022-08-08T21:32:38.187Z"
   },
   {
    "duration": 21,
    "start_time": "2022-08-08T21:35:51.558Z"
   },
   {
    "duration": 24,
    "start_time": "2022-08-08T21:36:08.839Z"
   },
   {
    "duration": 9,
    "start_time": "2022-08-08T21:36:54.199Z"
   },
   {
    "duration": 21,
    "start_time": "2022-08-08T21:36:57.107Z"
   },
   {
    "duration": 3,
    "start_time": "2022-08-08T21:37:17.883Z"
   },
   {
    "duration": 6,
    "start_time": "2022-08-08T21:37:38.646Z"
   },
   {
    "duration": 8,
    "start_time": "2022-08-08T21:38:14.926Z"
   },
   {
    "duration": 7,
    "start_time": "2022-08-08T21:38:23.770Z"
   },
   {
    "duration": 6,
    "start_time": "2022-08-08T21:38:34.744Z"
   },
   {
    "duration": 9,
    "start_time": "2022-08-09T03:54:49.095Z"
   },
   {
    "duration": 38,
    "start_time": "2022-08-09T03:54:51.647Z"
   },
   {
    "duration": 5,
    "start_time": "2022-08-09T03:57:51.845Z"
   },
   {
    "duration": 5,
    "start_time": "2022-08-09T03:59:58.372Z"
   },
   {
    "duration": 6,
    "start_time": "2022-08-09T05:05:04.398Z"
   },
   {
    "duration": 6,
    "start_time": "2022-08-09T05:05:24.471Z"
   },
   {
    "duration": 6,
    "start_time": "2022-08-09T05:05:31.374Z"
   },
   {
    "duration": 9,
    "start_time": "2022-08-09T06:02:14.872Z"
   },
   {
    "duration": 7,
    "start_time": "2022-08-09T06:03:06.712Z"
   },
   {
    "duration": 7,
    "start_time": "2022-08-09T06:05:46.361Z"
   },
   {
    "duration": 6,
    "start_time": "2022-08-09T06:06:25.075Z"
   },
   {
    "duration": 7,
    "start_time": "2022-08-09T06:07:40.316Z"
   },
   {
    "duration": 6,
    "start_time": "2022-08-09T06:11:12.644Z"
   },
   {
    "duration": 355,
    "start_time": "2022-08-09T06:11:16.132Z"
   },
   {
    "duration": 209,
    "start_time": "2022-08-09T06:11:16.489Z"
   },
   {
    "duration": 122,
    "start_time": "2022-08-09T06:11:16.700Z"
   },
   {
    "duration": 13,
    "start_time": "2022-08-09T06:11:16.824Z"
   },
   {
    "duration": 26,
    "start_time": "2022-08-09T06:11:16.838Z"
   },
   {
    "duration": 3,
    "start_time": "2022-08-09T06:11:16.866Z"
   },
   {
    "duration": 36,
    "start_time": "2022-08-09T06:11:16.871Z"
   },
   {
    "duration": 7,
    "start_time": "2022-08-09T06:11:16.909Z"
   },
   {
    "duration": 21,
    "start_time": "2022-08-09T06:11:16.918Z"
   },
   {
    "duration": 29,
    "start_time": "2022-08-09T06:11:16.943Z"
   },
   {
    "duration": 31,
    "start_time": "2022-08-09T06:11:16.974Z"
   },
   {
    "duration": 26,
    "start_time": "2022-08-09T06:11:17.006Z"
   },
   {
    "duration": 76,
    "start_time": "2022-08-09T06:11:17.033Z"
   },
   {
    "duration": 61,
    "start_time": "2022-08-09T06:11:17.111Z"
   },
   {
    "duration": 75,
    "start_time": "2022-08-09T06:11:17.173Z"
   },
   {
    "duration": 6,
    "start_time": "2022-08-09T06:11:17.250Z"
   },
   {
    "duration": 67,
    "start_time": "2022-08-09T06:11:17.257Z"
   },
   {
    "duration": 7,
    "start_time": "2022-08-09T06:11:17.326Z"
   },
   {
    "duration": 4,
    "start_time": "2022-08-09T06:11:17.334Z"
   },
   {
    "duration": 23,
    "start_time": "2022-08-09T06:11:17.340Z"
   },
   {
    "duration": 7,
    "start_time": "2022-08-09T06:11:17.365Z"
   },
   {
    "duration": 57,
    "start_time": "2022-08-09T06:11:17.374Z"
   },
   {
    "duration": 30,
    "start_time": "2022-08-09T06:11:17.433Z"
   },
   {
    "duration": 46,
    "start_time": "2022-08-09T06:11:17.464Z"
   },
   {
    "duration": 31,
    "start_time": "2022-08-09T06:11:17.512Z"
   },
   {
    "duration": 3,
    "start_time": "2022-08-09T06:11:17.546Z"
   },
   {
    "duration": 51,
    "start_time": "2022-08-09T06:11:17.550Z"
   },
   {
    "duration": 25,
    "start_time": "2022-08-09T06:11:17.603Z"
   },
   {
    "duration": 25,
    "start_time": "2022-08-09T06:11:17.630Z"
   },
   {
    "duration": 54,
    "start_time": "2022-08-09T06:11:17.656Z"
   },
   {
    "duration": 23,
    "start_time": "2022-08-09T06:11:17.711Z"
   },
   {
    "duration": 22,
    "start_time": "2022-08-09T06:11:17.735Z"
   },
   {
    "duration": 8,
    "start_time": "2022-08-09T06:11:17.759Z"
   },
   {
    "duration": 47,
    "start_time": "2022-08-09T06:11:17.768Z"
   },
   {
    "duration": 17,
    "start_time": "2022-08-09T06:11:17.817Z"
   },
   {
    "duration": 92,
    "start_time": "2022-08-09T06:11:17.836Z"
   },
   {
    "duration": 0,
    "start_time": "2022-08-09T06:11:17.930Z"
   },
   {
    "duration": 0,
    "start_time": "2022-08-09T06:11:17.931Z"
   },
   {
    "duration": 0,
    "start_time": "2022-08-09T06:11:17.932Z"
   },
   {
    "duration": 0,
    "start_time": "2022-08-09T06:11:17.933Z"
   },
   {
    "duration": 0,
    "start_time": "2022-08-09T06:11:17.934Z"
   },
   {
    "duration": 0,
    "start_time": "2022-08-09T06:11:17.935Z"
   },
   {
    "duration": 0,
    "start_time": "2022-08-09T06:11:17.936Z"
   },
   {
    "duration": 0,
    "start_time": "2022-08-09T06:11:17.937Z"
   },
   {
    "duration": 6,
    "start_time": "2022-08-09T06:13:26.332Z"
   },
   {
    "duration": 36,
    "start_time": "2022-08-09T06:13:29.853Z"
   },
   {
    "duration": 5,
    "start_time": "2022-08-09T06:13:37.187Z"
   },
   {
    "duration": 18,
    "start_time": "2022-08-09T06:13:39.645Z"
   },
   {
    "duration": 5,
    "start_time": "2022-08-09T06:14:49.657Z"
   },
   {
    "duration": 18,
    "start_time": "2022-08-09T06:14:52.287Z"
   },
   {
    "duration": 5,
    "start_time": "2022-08-09T06:20:08.619Z"
   },
   {
    "duration": 7,
    "start_time": "2022-08-09T06:20:12.351Z"
   },
   {
    "duration": 8,
    "start_time": "2022-08-09T06:20:21.815Z"
   },
   {
    "duration": 17,
    "start_time": "2022-08-09T06:20:29.026Z"
   },
   {
    "duration": 5,
    "start_time": "2022-08-09T06:21:38.967Z"
   },
   {
    "duration": 4,
    "start_time": "2022-08-09T06:24:45.774Z"
   },
   {
    "duration": 18,
    "start_time": "2022-08-09T06:24:50.318Z"
   },
   {
    "duration": 5,
    "start_time": "2022-08-09T06:25:56.332Z"
   },
   {
    "duration": 20,
    "start_time": "2022-08-09T06:25:58.565Z"
   },
   {
    "duration": 20,
    "start_time": "2022-08-09T06:27:15.970Z"
   },
   {
    "duration": 4,
    "start_time": "2022-08-09T06:28:08.447Z"
   },
   {
    "duration": 8,
    "start_time": "2022-08-09T06:28:12.869Z"
   },
   {
    "duration": 22,
    "start_time": "2022-08-09T06:28:22.020Z"
   },
   {
    "duration": 4,
    "start_time": "2022-08-09T06:29:23.235Z"
   },
   {
    "duration": 46,
    "start_time": "2022-08-09T06:29:25.479Z"
   },
   {
    "duration": 20,
    "start_time": "2022-08-09T06:29:42.072Z"
   },
   {
    "duration": 5,
    "start_time": "2022-08-09T06:32:13.779Z"
   },
   {
    "duration": 24,
    "start_time": "2022-08-09T06:32:15.991Z"
   },
   {
    "duration": 18,
    "start_time": "2022-08-09T06:33:09.762Z"
   },
   {
    "duration": 26,
    "start_time": "2022-08-09T06:35:31.485Z"
   },
   {
    "duration": 26,
    "start_time": "2022-08-09T06:35:51.084Z"
   },
   {
    "duration": 19,
    "start_time": "2022-08-09T06:36:18.568Z"
   },
   {
    "duration": 72,
    "start_time": "2022-08-09T06:53:04.058Z"
   },
   {
    "duration": 5,
    "start_time": "2022-08-09T06:53:22.678Z"
   },
   {
    "duration": 19,
    "start_time": "2022-08-09T06:53:26.843Z"
   },
   {
    "duration": 20,
    "start_time": "2022-08-09T06:53:31.532Z"
   },
   {
    "duration": 20,
    "start_time": "2022-08-09T06:54:46.593Z"
   },
   {
    "duration": 4,
    "start_time": "2022-08-09T06:54:59.638Z"
   },
   {
    "duration": 25,
    "start_time": "2022-08-09T06:55:02.485Z"
   },
   {
    "duration": 4,
    "start_time": "2022-08-09T06:56:27.219Z"
   },
   {
    "duration": 24,
    "start_time": "2022-08-09T06:56:29.769Z"
   },
   {
    "duration": 57,
    "start_time": "2022-08-09T06:57:00.170Z"
   },
   {
    "duration": 51,
    "start_time": "2022-08-09T06:57:08.813Z"
   },
   {
    "duration": 5,
    "start_time": "2022-08-09T06:57:38.239Z"
   },
   {
    "duration": 5,
    "start_time": "2022-08-09T06:57:58.337Z"
   },
   {
    "duration": 26,
    "start_time": "2022-08-09T06:58:02.005Z"
   },
   {
    "duration": 5,
    "start_time": "2022-08-09T06:58:09.053Z"
   },
   {
    "duration": 4,
    "start_time": "2022-08-09T06:58:16.640Z"
   },
   {
    "duration": 4,
    "start_time": "2022-08-09T06:59:12.384Z"
   },
   {
    "duration": 888,
    "start_time": "2022-08-09T06:59:15.312Z"
   },
   {
    "duration": 5,
    "start_time": "2022-08-09T06:59:32.973Z"
   },
   {
    "duration": 22,
    "start_time": "2022-08-09T06:59:35.626Z"
   },
   {
    "duration": 4,
    "start_time": "2022-08-09T06:59:42.059Z"
   },
   {
    "duration": 26,
    "start_time": "2022-08-09T06:59:44.525Z"
   },
   {
    "duration": 4,
    "start_time": "2022-08-09T07:04:54.537Z"
   },
   {
    "duration": 21,
    "start_time": "2022-08-09T07:05:00.517Z"
   },
   {
    "duration": 6,
    "start_time": "2022-08-09T07:07:11.471Z"
   },
   {
    "duration": 26,
    "start_time": "2022-08-09T07:07:14.669Z"
   },
   {
    "duration": 5,
    "start_time": "2022-08-09T07:07:35.651Z"
   },
   {
    "duration": 25,
    "start_time": "2022-08-09T07:07:38.349Z"
   },
   {
    "duration": 4,
    "start_time": "2022-08-09T07:09:22.497Z"
   },
   {
    "duration": 19,
    "start_time": "2022-08-09T07:09:25.269Z"
   },
   {
    "duration": 11,
    "start_time": "2022-08-09T07:09:28.280Z"
   },
   {
    "duration": 13,
    "start_time": "2022-08-09T07:09:32.174Z"
   },
   {
    "duration": 7,
    "start_time": "2022-08-09T07:13:03.660Z"
   },
   {
    "duration": 10,
    "start_time": "2022-08-09T07:13:11.492Z"
   },
   {
    "duration": 13,
    "start_time": "2022-08-09T07:13:52.213Z"
   },
   {
    "duration": 32,
    "start_time": "2022-08-09T07:14:02.607Z"
   },
   {
    "duration": 7,
    "start_time": "2022-08-09T07:14:39.629Z"
   },
   {
    "duration": 14,
    "start_time": "2022-08-09T07:14:48.731Z"
   },
   {
    "duration": 9,
    "start_time": "2022-08-09T07:14:59.503Z"
   },
   {
    "duration": 8,
    "start_time": "2022-08-09T07:15:52.182Z"
   },
   {
    "duration": 7,
    "start_time": "2022-08-09T07:15:58.394Z"
   },
   {
    "duration": 8,
    "start_time": "2022-08-09T07:16:13.452Z"
   },
   {
    "duration": 57,
    "start_time": "2022-08-09T07:16:20.049Z"
   },
   {
    "duration": 957,
    "start_time": "2022-08-09T07:16:33.639Z"
   },
   {
    "duration": 731,
    "start_time": "2022-08-09T07:17:46.201Z"
   },
   {
    "duration": 16,
    "start_time": "2022-08-09T07:18:19.231Z"
   },
   {
    "duration": 7,
    "start_time": "2022-08-09T07:18:43.799Z"
   },
   {
    "duration": 9,
    "start_time": "2022-08-09T07:18:58.080Z"
   },
   {
    "duration": 32,
    "start_time": "2022-08-09T07:19:12.576Z"
   },
   {
    "duration": 7,
    "start_time": "2022-08-09T07:24:07.579Z"
   },
   {
    "duration": 8,
    "start_time": "2022-08-09T07:24:15.650Z"
   },
   {
    "duration": 8,
    "start_time": "2022-08-09T07:24:19.990Z"
   },
   {
    "duration": 8,
    "start_time": "2022-08-09T07:24:54.659Z"
   },
   {
    "duration": 13,
    "start_time": "2022-08-09T07:25:58.624Z"
   },
   {
    "duration": 10,
    "start_time": "2022-08-09T07:26:01.187Z"
   },
   {
    "duration": 9,
    "start_time": "2022-08-09T07:26:08.391Z"
   },
   {
    "duration": 10,
    "start_time": "2022-08-09T07:26:29.723Z"
   },
   {
    "duration": 5,
    "start_time": "2022-08-09T07:27:18.426Z"
   },
   {
    "duration": 9,
    "start_time": "2022-08-09T07:27:20.860Z"
   },
   {
    "duration": 9,
    "start_time": "2022-08-09T07:27:43.005Z"
   },
   {
    "duration": 3,
    "start_time": "2022-08-09T07:28:01.770Z"
   },
   {
    "duration": 12,
    "start_time": "2022-08-09T07:28:06.097Z"
   },
   {
    "duration": 3,
    "start_time": "2022-08-09T07:28:08.354Z"
   },
   {
    "duration": 10,
    "start_time": "2022-08-09T07:28:16.181Z"
   },
   {
    "duration": 21,
    "start_time": "2022-08-09T07:28:26.354Z"
   },
   {
    "duration": 17,
    "start_time": "2022-08-09T07:28:29.203Z"
   },
   {
    "duration": 18,
    "start_time": "2022-08-09T07:29:30.940Z"
   },
   {
    "duration": 17,
    "start_time": "2022-08-09T07:29:47.758Z"
   },
   {
    "duration": 27,
    "start_time": "2022-08-09T07:34:26.101Z"
   },
   {
    "duration": 29,
    "start_time": "2022-08-09T07:36:35.506Z"
   },
   {
    "duration": 52,
    "start_time": "2022-08-09T07:37:12.800Z"
   },
   {
    "duration": 28,
    "start_time": "2022-08-09T07:37:26.489Z"
   },
   {
    "duration": 14,
    "start_time": "2022-08-09T07:38:07.050Z"
   },
   {
    "duration": 30,
    "start_time": "2022-08-09T07:38:12.702Z"
   },
   {
    "duration": 84,
    "start_time": "2022-08-09T07:38:37.942Z"
   },
   {
    "duration": 29,
    "start_time": "2022-08-09T07:38:46.871Z"
   },
   {
    "duration": 41,
    "start_time": "2022-08-09T07:39:33.847Z"
   },
   {
    "duration": 6,
    "start_time": "2022-08-09T07:40:04.035Z"
   },
   {
    "duration": 6,
    "start_time": "2022-08-09T07:40:07.899Z"
   },
   {
    "duration": 25,
    "start_time": "2022-08-09T07:40:15.863Z"
   },
   {
    "duration": 3,
    "start_time": "2022-08-09T07:42:24.261Z"
   },
   {
    "duration": 19,
    "start_time": "2022-08-09T07:43:22.655Z"
   },
   {
    "duration": 7,
    "start_time": "2022-08-09T07:46:23.167Z"
   },
   {
    "duration": 8,
    "start_time": "2022-08-09T08:00:19.728Z"
   },
   {
    "duration": 65,
    "start_time": "2022-08-09T08:00:37.001Z"
   },
   {
    "duration": 8,
    "start_time": "2022-08-09T08:01:35.352Z"
   },
   {
    "duration": 9,
    "start_time": "2022-08-09T08:01:40.749Z"
   },
   {
    "duration": 9,
    "start_time": "2022-08-09T08:01:49.123Z"
   },
   {
    "duration": 73,
    "start_time": "2022-08-09T08:01:54.801Z"
   },
   {
    "duration": 10,
    "start_time": "2022-08-09T08:01:58.865Z"
   },
   {
    "duration": 9,
    "start_time": "2022-08-09T08:02:40.119Z"
   },
   {
    "duration": 4,
    "start_time": "2022-08-09T08:02:48.770Z"
   },
   {
    "duration": 12,
    "start_time": "2022-08-09T08:03:51.651Z"
   },
   {
    "duration": 394,
    "start_time": "2022-08-10T03:43:23.400Z"
   },
   {
    "duration": 218,
    "start_time": "2022-08-10T03:43:23.796Z"
   },
   {
    "duration": 124,
    "start_time": "2022-08-10T03:43:24.016Z"
   },
   {
    "duration": 13,
    "start_time": "2022-08-10T03:43:24.143Z"
   },
   {
    "duration": 34,
    "start_time": "2022-08-10T03:43:24.158Z"
   },
   {
    "duration": 5,
    "start_time": "2022-08-10T03:43:24.194Z"
   },
   {
    "duration": 23,
    "start_time": "2022-08-10T03:43:24.201Z"
   },
   {
    "duration": 7,
    "start_time": "2022-08-10T03:43:24.225Z"
   },
   {
    "duration": 16,
    "start_time": "2022-08-10T03:43:24.234Z"
   },
   {
    "duration": 23,
    "start_time": "2022-08-10T03:43:24.254Z"
   },
   {
    "duration": 12,
    "start_time": "2022-08-10T03:43:24.286Z"
   },
   {
    "duration": 22,
    "start_time": "2022-08-10T03:43:24.299Z"
   },
   {
    "duration": 76,
    "start_time": "2022-08-10T03:43:24.323Z"
   },
   {
    "duration": 59,
    "start_time": "2022-08-10T03:43:24.401Z"
   },
   {
    "duration": 78,
    "start_time": "2022-08-10T03:43:24.462Z"
   },
   {
    "duration": 7,
    "start_time": "2022-08-10T03:43:24.541Z"
   },
   {
    "duration": 63,
    "start_time": "2022-08-10T03:43:24.550Z"
   },
   {
    "duration": 8,
    "start_time": "2022-08-10T03:43:24.614Z"
   },
   {
    "duration": 4,
    "start_time": "2022-08-10T03:43:24.623Z"
   },
   {
    "duration": 24,
    "start_time": "2022-08-10T03:43:24.629Z"
   },
   {
    "duration": 7,
    "start_time": "2022-08-10T03:43:24.655Z"
   },
   {
    "duration": 51,
    "start_time": "2022-08-10T03:43:24.663Z"
   },
   {
    "duration": 26,
    "start_time": "2022-08-10T03:43:24.716Z"
   },
   {
    "duration": 26,
    "start_time": "2022-08-10T03:43:24.743Z"
   },
   {
    "duration": 26,
    "start_time": "2022-08-10T03:43:24.787Z"
   },
   {
    "duration": 3,
    "start_time": "2022-08-10T03:43:24.815Z"
   },
   {
    "duration": 28,
    "start_time": "2022-08-10T03:43:24.819Z"
   },
   {
    "duration": 45,
    "start_time": "2022-08-10T03:43:24.850Z"
   },
   {
    "duration": 24,
    "start_time": "2022-08-10T03:43:24.896Z"
   },
   {
    "duration": 24,
    "start_time": "2022-08-10T03:43:24.921Z"
   },
   {
    "duration": 50,
    "start_time": "2022-08-10T03:43:24.947Z"
   },
   {
    "duration": 22,
    "start_time": "2022-08-10T03:43:24.998Z"
   },
   {
    "duration": 8,
    "start_time": "2022-08-10T03:43:25.021Z"
   },
   {
    "duration": 31,
    "start_time": "2022-08-10T03:43:25.030Z"
   },
   {
    "duration": 30,
    "start_time": "2022-08-10T03:43:25.063Z"
   },
   {
    "duration": 4,
    "start_time": "2022-08-10T03:43:25.095Z"
   },
   {
    "duration": 21,
    "start_time": "2022-08-10T03:43:25.100Z"
   },
   {
    "duration": 12,
    "start_time": "2022-08-10T03:43:25.123Z"
   },
   {
    "duration": 16,
    "start_time": "2022-08-10T03:43:25.136Z"
   },
   {
    "duration": 42,
    "start_time": "2022-08-10T03:43:25.153Z"
   },
   {
    "duration": 11,
    "start_time": "2022-08-10T03:43:25.196Z"
   },
   {
    "duration": 4,
    "start_time": "2022-08-10T03:43:25.208Z"
   },
   {
    "duration": 10,
    "start_time": "2022-08-10T03:43:25.214Z"
   },
   {
    "duration": 4,
    "start_time": "2022-08-10T03:43:25.226Z"
   },
   {
    "duration": 50,
    "start_time": "2022-08-10T04:20:39.297Z"
   },
   {
    "duration": 318,
    "start_time": "2022-08-10T04:20:45.612Z"
   },
   {
    "duration": 843,
    "start_time": "2022-08-10T04:20:45.931Z"
   },
   {
    "duration": 111,
    "start_time": "2022-08-10T04:20:46.776Z"
   },
   {
    "duration": 9,
    "start_time": "2022-08-10T04:20:46.889Z"
   },
   {
    "duration": 25,
    "start_time": "2022-08-10T04:20:46.900Z"
   },
   {
    "duration": 4,
    "start_time": "2022-08-10T04:20:46.927Z"
   },
   {
    "duration": 11,
    "start_time": "2022-08-10T04:20:46.955Z"
   },
   {
    "duration": 5,
    "start_time": "2022-08-10T04:20:46.968Z"
   },
   {
    "duration": 14,
    "start_time": "2022-08-10T04:20:46.974Z"
   },
   {
    "duration": 24,
    "start_time": "2022-08-10T04:20:46.993Z"
   },
   {
    "duration": 13,
    "start_time": "2022-08-10T04:20:47.018Z"
   },
   {
    "duration": 40,
    "start_time": "2022-08-10T04:20:47.033Z"
   },
   {
    "duration": 54,
    "start_time": "2022-08-10T04:20:47.074Z"
   },
   {
    "duration": 66,
    "start_time": "2022-08-10T04:20:47.130Z"
   },
   {
    "duration": 62,
    "start_time": "2022-08-10T04:20:47.197Z"
   },
   {
    "duration": 9,
    "start_time": "2022-08-10T04:20:47.261Z"
   },
   {
    "duration": 79,
    "start_time": "2022-08-10T04:20:47.271Z"
   },
   {
    "duration": 7,
    "start_time": "2022-08-10T04:20:47.352Z"
   },
   {
    "duration": 6,
    "start_time": "2022-08-10T04:20:47.361Z"
   },
   {
    "duration": 28,
    "start_time": "2022-08-10T04:20:47.369Z"
   },
   {
    "duration": 9,
    "start_time": "2022-08-10T04:20:47.399Z"
   },
   {
    "duration": 48,
    "start_time": "2022-08-10T04:20:47.409Z"
   },
   {
    "duration": 25,
    "start_time": "2022-08-10T04:20:47.459Z"
   },
   {
    "duration": 24,
    "start_time": "2022-08-10T04:20:47.485Z"
   },
   {
    "duration": 46,
    "start_time": "2022-08-10T04:20:47.510Z"
   },
   {
    "duration": 3,
    "start_time": "2022-08-10T04:20:47.557Z"
   },
   {
    "duration": 27,
    "start_time": "2022-08-10T04:20:47.561Z"
   },
   {
    "duration": 22,
    "start_time": "2022-08-10T04:20:47.591Z"
   },
   {
    "duration": 42,
    "start_time": "2022-08-10T04:20:47.615Z"
   },
   {
    "duration": 19,
    "start_time": "2022-08-10T04:20:47.659Z"
   },
   {
    "duration": 21,
    "start_time": "2022-08-10T04:20:47.680Z"
   },
   {
    "duration": 20,
    "start_time": "2022-08-10T04:20:47.703Z"
   },
   {
    "duration": 32,
    "start_time": "2022-08-10T04:20:47.724Z"
   },
   {
    "duration": 24,
    "start_time": "2022-08-10T04:20:47.757Z"
   },
   {
    "duration": 19,
    "start_time": "2022-08-10T04:20:47.782Z"
   },
   {
    "duration": 4,
    "start_time": "2022-08-10T04:20:47.803Z"
   },
   {
    "duration": 19,
    "start_time": "2022-08-10T04:20:47.808Z"
   },
   {
    "duration": 33,
    "start_time": "2022-08-10T04:20:47.829Z"
   },
   {
    "duration": 15,
    "start_time": "2022-08-10T04:20:47.863Z"
   },
   {
    "duration": 10,
    "start_time": "2022-08-10T04:20:47.879Z"
   },
   {
    "duration": 9,
    "start_time": "2022-08-10T04:20:47.891Z"
   },
   {
    "duration": 3,
    "start_time": "2022-08-10T04:20:47.902Z"
   },
   {
    "duration": 9,
    "start_time": "2022-08-10T04:20:47.907Z"
   },
   {
    "duration": 4,
    "start_time": "2022-08-10T04:20:47.917Z"
   },
   {
    "duration": 11,
    "start_time": "2022-08-10T04:22:12.797Z"
   },
   {
    "duration": 28,
    "start_time": "2022-08-10T04:33:36.209Z"
   },
   {
    "duration": 8,
    "start_time": "2022-08-10T04:33:58.431Z"
   },
   {
    "duration": 9,
    "start_time": "2022-08-10T04:35:50.182Z"
   },
   {
    "duration": 2,
    "start_time": "2022-08-10T04:35:55.837Z"
   },
   {
    "duration": 144,
    "start_time": "2022-08-10T04:35:55.846Z"
   },
   {
    "duration": 105,
    "start_time": "2022-08-10T04:35:55.992Z"
   },
   {
    "duration": 9,
    "start_time": "2022-08-10T04:35:56.098Z"
   },
   {
    "duration": 25,
    "start_time": "2022-08-10T04:35:56.109Z"
   },
   {
    "duration": 4,
    "start_time": "2022-08-10T04:35:56.155Z"
   },
   {
    "duration": 9,
    "start_time": "2022-08-10T04:35:56.160Z"
   },
   {
    "duration": 10,
    "start_time": "2022-08-10T04:35:56.170Z"
   },
   {
    "duration": 22,
    "start_time": "2022-08-10T04:35:56.182Z"
   },
   {
    "duration": 17,
    "start_time": "2022-08-10T04:35:56.206Z"
   },
   {
    "duration": 0,
    "start_time": "2022-08-10T04:35:56.228Z"
   },
   {
    "duration": 0,
    "start_time": "2022-08-10T04:35:56.229Z"
   },
   {
    "duration": 0,
    "start_time": "2022-08-10T04:35:56.230Z"
   },
   {
    "duration": 0,
    "start_time": "2022-08-10T04:35:56.231Z"
   },
   {
    "duration": 0,
    "start_time": "2022-08-10T04:35:56.232Z"
   },
   {
    "duration": 0,
    "start_time": "2022-08-10T04:35:56.255Z"
   },
   {
    "duration": 0,
    "start_time": "2022-08-10T04:35:56.256Z"
   },
   {
    "duration": 0,
    "start_time": "2022-08-10T04:35:56.257Z"
   },
   {
    "duration": 0,
    "start_time": "2022-08-10T04:35:56.258Z"
   },
   {
    "duration": 0,
    "start_time": "2022-08-10T04:35:56.259Z"
   },
   {
    "duration": 0,
    "start_time": "2022-08-10T04:35:56.260Z"
   },
   {
    "duration": 0,
    "start_time": "2022-08-10T04:35:56.261Z"
   },
   {
    "duration": 0,
    "start_time": "2022-08-10T04:35:56.262Z"
   },
   {
    "duration": 0,
    "start_time": "2022-08-10T04:35:56.263Z"
   },
   {
    "duration": 0,
    "start_time": "2022-08-10T04:35:56.264Z"
   },
   {
    "duration": 0,
    "start_time": "2022-08-10T04:35:56.265Z"
   },
   {
    "duration": 23,
    "start_time": "2022-08-10T04:35:56.267Z"
   },
   {
    "duration": 75,
    "start_time": "2022-08-10T04:35:56.291Z"
   },
   {
    "duration": 23,
    "start_time": "2022-08-10T04:35:56.367Z"
   },
   {
    "duration": 24,
    "start_time": "2022-08-10T04:35:56.391Z"
   },
   {
    "duration": 48,
    "start_time": "2022-08-10T04:35:56.417Z"
   },
   {
    "duration": 8,
    "start_time": "2022-08-10T04:35:56.466Z"
   },
   {
    "duration": 20,
    "start_time": "2022-08-10T04:35:56.475Z"
   },
   {
    "duration": 16,
    "start_time": "2022-08-10T04:35:56.496Z"
   },
   {
    "duration": 4,
    "start_time": "2022-08-10T04:35:56.513Z"
   },
   {
    "duration": 41,
    "start_time": "2022-08-10T04:35:56.518Z"
   },
   {
    "duration": 11,
    "start_time": "2022-08-10T04:35:56.560Z"
   },
   {
    "duration": 16,
    "start_time": "2022-08-10T04:35:56.572Z"
   },
   {
    "duration": 12,
    "start_time": "2022-08-10T04:35:56.589Z"
   },
   {
    "duration": 9,
    "start_time": "2022-08-10T04:35:56.602Z"
   },
   {
    "duration": 4,
    "start_time": "2022-08-10T04:35:56.612Z"
   },
   {
    "duration": 8,
    "start_time": "2022-08-10T04:35:56.656Z"
   },
   {
    "duration": 10,
    "start_time": "2022-08-10T04:35:56.666Z"
   },
   {
    "duration": 197,
    "start_time": "2022-08-10T04:36:18.313Z"
   },
   {
    "duration": 14,
    "start_time": "2022-08-10T04:38:40.581Z"
   },
   {
    "duration": 9,
    "start_time": "2022-08-10T04:39:04.957Z"
   },
   {
    "duration": 12,
    "start_time": "2022-08-10T04:39:29.387Z"
   },
   {
    "duration": 7,
    "start_time": "2022-08-10T04:40:33.231Z"
   },
   {
    "duration": 53,
    "start_time": "2022-08-10T04:41:12.105Z"
   },
   {
    "duration": 71,
    "start_time": "2022-08-10T04:45:07.449Z"
   },
   {
    "duration": 12,
    "start_time": "2022-08-10T04:45:29.492Z"
   },
   {
    "duration": 9,
    "start_time": "2022-08-10T04:45:50.887Z"
   },
   {
    "duration": 6,
    "start_time": "2022-08-10T04:46:08.944Z"
   },
   {
    "duration": 56,
    "start_time": "2022-08-10T04:47:00.333Z"
   },
   {
    "duration": 56,
    "start_time": "2022-08-10T04:51:41.497Z"
   },
   {
    "duration": 53,
    "start_time": "2022-08-10T04:51:47.555Z"
   },
   {
    "duration": 60,
    "start_time": "2022-08-10T04:52:26.048Z"
   },
   {
    "duration": 62,
    "start_time": "2022-08-10T04:52:45.219Z"
   },
   {
    "duration": 7,
    "start_time": "2022-08-10T04:53:40.946Z"
   },
   {
    "duration": 7,
    "start_time": "2022-08-10T04:53:52.934Z"
   },
   {
    "duration": 10,
    "start_time": "2022-08-10T04:54:08.161Z"
   },
   {
    "duration": 2,
    "start_time": "2022-08-10T04:54:13.715Z"
   },
   {
    "duration": 140,
    "start_time": "2022-08-10T04:54:13.726Z"
   },
   {
    "duration": 113,
    "start_time": "2022-08-10T04:54:13.868Z"
   },
   {
    "duration": 9,
    "start_time": "2022-08-10T04:54:13.983Z"
   },
   {
    "duration": 27,
    "start_time": "2022-08-10T04:54:13.994Z"
   },
   {
    "duration": 3,
    "start_time": "2022-08-10T04:54:14.051Z"
   },
   {
    "duration": 8,
    "start_time": "2022-08-10T04:54:14.055Z"
   },
   {
    "duration": 12,
    "start_time": "2022-08-10T04:54:14.064Z"
   },
   {
    "duration": 22,
    "start_time": "2022-08-10T04:54:14.077Z"
   },
   {
    "duration": 12,
    "start_time": "2022-08-10T04:54:14.100Z"
   },
   {
    "duration": 3,
    "start_time": "2022-08-10T04:54:14.347Z"
   },
   {
    "duration": 57,
    "start_time": "2022-08-10T04:54:14.352Z"
   },
   {
    "duration": 52,
    "start_time": "2022-08-10T04:54:14.411Z"
   },
   {
    "duration": 7,
    "start_time": "2022-08-10T04:54:14.464Z"
   },
   {
    "duration": 0,
    "start_time": "2022-08-10T04:54:14.472Z"
   },
   {
    "duration": 0,
    "start_time": "2022-08-10T04:54:14.474Z"
   },
   {
    "duration": 0,
    "start_time": "2022-08-10T04:54:14.474Z"
   },
   {
    "duration": 3,
    "start_time": "2022-08-10T04:54:14.575Z"
   },
   {
    "duration": 21,
    "start_time": "2022-08-10T04:54:14.580Z"
   },
   {
    "duration": 7,
    "start_time": "2022-08-10T04:54:14.603Z"
   },
   {
    "duration": 26,
    "start_time": "2022-08-10T04:54:14.611Z"
   },
   {
    "duration": 28,
    "start_time": "2022-08-10T04:54:14.639Z"
   },
   {
    "duration": 24,
    "start_time": "2022-08-10T04:54:14.668Z"
   },
   {
    "duration": 23,
    "start_time": "2022-08-10T04:54:14.694Z"
   },
   {
    "duration": 3,
    "start_time": "2022-08-10T04:54:14.809Z"
   },
   {
    "duration": 28,
    "start_time": "2022-08-10T04:54:14.813Z"
   },
   {
    "duration": 20,
    "start_time": "2022-08-10T04:54:14.842Z"
   },
   {
    "duration": 21,
    "start_time": "2022-08-10T04:54:14.863Z"
   },
   {
    "duration": 20,
    "start_time": "2022-08-10T04:54:14.886Z"
   },
   {
    "duration": 20,
    "start_time": "2022-08-10T04:54:14.907Z"
   },
   {
    "duration": 38,
    "start_time": "2022-08-10T04:54:14.929Z"
   },
   {
    "duration": 7,
    "start_time": "2022-08-10T04:54:15.028Z"
   },
   {
    "duration": 31,
    "start_time": "2022-08-10T04:54:15.037Z"
   },
   {
    "duration": 15,
    "start_time": "2022-08-10T04:54:15.069Z"
   },
   {
    "duration": 4,
    "start_time": "2022-08-10T04:54:15.085Z"
   },
   {
    "duration": 24,
    "start_time": "2022-08-10T04:54:15.091Z"
   },
   {
    "duration": 10,
    "start_time": "2022-08-10T04:54:15.116Z"
   },
   {
    "duration": 24,
    "start_time": "2022-08-10T04:54:15.242Z"
   },
   {
    "duration": 15,
    "start_time": "2022-08-10T04:54:15.268Z"
   },
   {
    "duration": 10,
    "start_time": "2022-08-10T04:54:15.285Z"
   },
   {
    "duration": 5,
    "start_time": "2022-08-10T04:54:15.296Z"
   },
   {
    "duration": 12,
    "start_time": "2022-08-10T04:54:15.302Z"
   },
   {
    "duration": 5,
    "start_time": "2022-08-10T04:54:15.316Z"
   },
   {
    "duration": 20,
    "start_time": "2022-08-10T04:55:18.886Z"
   },
   {
    "duration": 7,
    "start_time": "2022-08-10T05:02:36.178Z"
   },
   {
    "duration": 8,
    "start_time": "2022-08-10T05:03:13.988Z"
   },
   {
    "duration": 2,
    "start_time": "2022-08-10T05:03:22.255Z"
   },
   {
    "duration": 137,
    "start_time": "2022-08-10T05:03:22.265Z"
   },
   {
    "duration": 110,
    "start_time": "2022-08-10T05:03:22.404Z"
   },
   {
    "duration": 9,
    "start_time": "2022-08-10T05:03:22.515Z"
   },
   {
    "duration": 37,
    "start_time": "2022-08-10T05:03:22.525Z"
   },
   {
    "duration": 4,
    "start_time": "2022-08-10T05:03:22.563Z"
   },
   {
    "duration": 9,
    "start_time": "2022-08-10T05:03:22.568Z"
   },
   {
    "duration": 15,
    "start_time": "2022-08-10T05:03:22.578Z"
   },
   {
    "duration": 25,
    "start_time": "2022-08-10T05:03:22.595Z"
   },
   {
    "duration": 36,
    "start_time": "2022-08-10T05:03:22.622Z"
   },
   {
    "duration": 20,
    "start_time": "2022-08-10T05:03:22.660Z"
   },
   {
    "duration": 51,
    "start_time": "2022-08-10T05:03:22.682Z"
   },
   {
    "duration": 51,
    "start_time": "2022-08-10T05:03:22.760Z"
   },
   {
    "duration": 8,
    "start_time": "2022-08-10T05:03:22.812Z"
   },
   {
    "duration": 0,
    "start_time": "2022-08-10T05:03:22.821Z"
   },
   {
    "duration": 0,
    "start_time": "2022-08-10T05:03:22.822Z"
   },
   {
    "duration": 0,
    "start_time": "2022-08-10T05:03:22.823Z"
   },
   {
    "duration": 0,
    "start_time": "2022-08-10T05:03:22.824Z"
   },
   {
    "duration": 0,
    "start_time": "2022-08-10T05:03:22.824Z"
   },
   {
    "duration": 0,
    "start_time": "2022-08-10T05:03:22.825Z"
   },
   {
    "duration": 0,
    "start_time": "2022-08-10T05:03:22.826Z"
   },
   {
    "duration": 0,
    "start_time": "2022-08-10T05:03:22.827Z"
   },
   {
    "duration": 30,
    "start_time": "2022-08-10T05:03:22.983Z"
   },
   {
    "duration": 38,
    "start_time": "2022-08-10T05:03:23.014Z"
   },
   {
    "duration": 4,
    "start_time": "2022-08-10T05:03:23.053Z"
   },
   {
    "duration": 44,
    "start_time": "2022-08-10T05:03:23.059Z"
   },
   {
    "duration": 26,
    "start_time": "2022-08-10T05:03:23.105Z"
   },
   {
    "duration": 42,
    "start_time": "2022-08-10T05:03:23.132Z"
   },
   {
    "duration": 28,
    "start_time": "2022-08-10T05:03:23.176Z"
   },
   {
    "duration": 50,
    "start_time": "2022-08-10T05:03:23.206Z"
   },
   {
    "duration": 24,
    "start_time": "2022-08-10T05:03:23.258Z"
   },
   {
    "duration": 13,
    "start_time": "2022-08-10T05:03:23.284Z"
   },
   {
    "duration": 22,
    "start_time": "2022-08-10T05:03:23.299Z"
   },
   {
    "duration": 41,
    "start_time": "2022-08-10T05:03:23.322Z"
   },
   {
    "duration": 4,
    "start_time": "2022-08-10T05:03:23.365Z"
   },
   {
    "duration": 20,
    "start_time": "2022-08-10T05:03:23.430Z"
   },
   {
    "duration": 18,
    "start_time": "2022-08-10T05:03:23.452Z"
   },
   {
    "duration": 26,
    "start_time": "2022-08-10T05:03:23.471Z"
   },
   {
    "duration": 17,
    "start_time": "2022-08-10T05:03:23.499Z"
   },
   {
    "duration": 41,
    "start_time": "2022-08-10T05:03:23.518Z"
   },
   {
    "duration": 5,
    "start_time": "2022-08-10T05:03:23.560Z"
   },
   {
    "duration": 14,
    "start_time": "2022-08-10T05:03:23.566Z"
   },
   {
    "duration": 4,
    "start_time": "2022-08-10T05:03:23.582Z"
   },
   {
    "duration": 4,
    "start_time": "2022-08-10T05:07:56.244Z"
   },
   {
    "duration": 106,
    "start_time": "2022-08-10T05:21:45.811Z"
   },
   {
    "duration": 70,
    "start_time": "2022-08-10T05:21:58.712Z"
   },
   {
    "duration": 3,
    "start_time": "2022-08-10T05:44:31.846Z"
   },
   {
    "duration": 6,
    "start_time": "2022-08-10T05:45:37.213Z"
   },
   {
    "duration": 6,
    "start_time": "2022-08-10T05:45:54.719Z"
   },
   {
    "duration": 6,
    "start_time": "2022-08-10T05:45:59.616Z"
   },
   {
    "duration": 119,
    "start_time": "2022-08-10T05:46:02.718Z"
   },
   {
    "duration": 6,
    "start_time": "2022-08-10T05:46:29.221Z"
   },
   {
    "duration": 71,
    "start_time": "2022-08-10T06:00:48.723Z"
   },
   {
    "duration": 102,
    "start_time": "2022-08-10T11:07:49.200Z"
   },
   {
    "duration": 5,
    "start_time": "2022-08-10T11:08:43.028Z"
   },
   {
    "duration": 12,
    "start_time": "2022-08-10T11:12:38.641Z"
   },
   {
    "duration": 11,
    "start_time": "2022-08-10T11:12:52.273Z"
   },
   {
    "duration": 4,
    "start_time": "2022-08-10T11:13:03.908Z"
   },
   {
    "duration": 142,
    "start_time": "2022-08-10T11:14:49.291Z"
   },
   {
    "duration": 148,
    "start_time": "2022-08-10T11:14:57.688Z"
   },
   {
    "duration": 2,
    "start_time": "2022-08-10T11:15:02.957Z"
   },
   {
    "duration": 145,
    "start_time": "2022-08-10T11:15:02.987Z"
   },
   {
    "duration": 102,
    "start_time": "2022-08-10T11:15:03.134Z"
   },
   {
    "duration": 8,
    "start_time": "2022-08-10T11:15:03.238Z"
   },
   {
    "duration": 49,
    "start_time": "2022-08-10T11:15:03.254Z"
   },
   {
    "duration": 26,
    "start_time": "2022-08-10T11:15:03.305Z"
   },
   {
    "duration": 13,
    "start_time": "2022-08-10T11:15:03.333Z"
   },
   {
    "duration": 7,
    "start_time": "2022-08-10T11:15:03.347Z"
   },
   {
    "duration": 21,
    "start_time": "2022-08-10T11:15:03.355Z"
   },
   {
    "duration": 31,
    "start_time": "2022-08-10T11:15:03.378Z"
   },
   {
    "duration": 180,
    "start_time": "2022-08-10T11:15:03.412Z"
   },
   {
    "duration": 0,
    "start_time": "2022-08-10T11:15:03.593Z"
   },
   {
    "duration": 0,
    "start_time": "2022-08-10T11:15:03.594Z"
   },
   {
    "duration": 0,
    "start_time": "2022-08-10T11:15:03.595Z"
   },
   {
    "duration": 6,
    "start_time": "2022-08-10T11:15:03.619Z"
   },
   {
    "duration": 0,
    "start_time": "2022-08-10T11:15:03.627Z"
   },
   {
    "duration": 0,
    "start_time": "2022-08-10T11:15:03.628Z"
   },
   {
    "duration": 6,
    "start_time": "2022-08-10T11:15:03.817Z"
   },
   {
    "duration": 0,
    "start_time": "2022-08-10T11:15:03.824Z"
   },
   {
    "duration": 21,
    "start_time": "2022-08-10T11:15:03.886Z"
   },
   {
    "duration": 5,
    "start_time": "2022-08-10T11:15:03.909Z"
   },
   {
    "duration": 28,
    "start_time": "2022-08-10T11:15:04.085Z"
   },
   {
    "duration": 31,
    "start_time": "2022-08-10T11:15:04.114Z"
   },
   {
    "duration": 28,
    "start_time": "2022-08-10T11:15:04.147Z"
   },
   {
    "duration": 26,
    "start_time": "2022-08-10T11:15:04.557Z"
   },
   {
    "duration": 3,
    "start_time": "2022-08-10T11:15:04.951Z"
   },
   {
    "duration": 25,
    "start_time": "2022-08-10T11:15:04.976Z"
   },
   {
    "duration": 25,
    "start_time": "2022-08-10T11:15:05.002Z"
   },
   {
    "duration": 28,
    "start_time": "2022-08-10T11:15:05.028Z"
   },
   {
    "duration": 22,
    "start_time": "2022-08-10T11:15:05.103Z"
   },
   {
    "duration": 23,
    "start_time": "2022-08-10T11:15:05.127Z"
   },
   {
    "duration": 22,
    "start_time": "2022-08-10T11:15:06.289Z"
   },
   {
    "duration": 7,
    "start_time": "2022-08-10T11:15:06.313Z"
   },
   {
    "duration": 25,
    "start_time": "2022-08-10T11:15:06.321Z"
   },
   {
    "duration": 17,
    "start_time": "2022-08-10T11:15:06.347Z"
   },
   {
    "duration": 4,
    "start_time": "2022-08-10T11:15:06.366Z"
   },
   {
    "duration": 21,
    "start_time": "2022-08-10T11:15:06.371Z"
   },
   {
    "duration": 11,
    "start_time": "2022-08-10T11:15:06.393Z"
   },
   {
    "duration": 15,
    "start_time": "2022-08-10T11:15:06.405Z"
   },
   {
    "duration": 35,
    "start_time": "2022-08-10T11:15:06.421Z"
   },
   {
    "duration": 10,
    "start_time": "2022-08-10T11:15:06.495Z"
   },
   {
    "duration": 9,
    "start_time": "2022-08-10T11:15:06.506Z"
   },
   {
    "duration": 10,
    "start_time": "2022-08-10T11:15:06.638Z"
   },
   {
    "duration": 7,
    "start_time": "2022-08-10T11:15:06.649Z"
   },
   {
    "duration": 7,
    "start_time": "2022-08-10T11:15:51.803Z"
   },
   {
    "duration": 6,
    "start_time": "2022-08-10T11:33:36.529Z"
   },
   {
    "duration": 11,
    "start_time": "2022-08-10T11:35:08.477Z"
   },
   {
    "duration": 78,
    "start_time": "2022-08-10T11:35:31.280Z"
   },
   {
    "duration": 71,
    "start_time": "2022-08-10T11:35:39.390Z"
   },
   {
    "duration": 54,
    "start_time": "2022-08-10T11:37:18.178Z"
   },
   {
    "duration": 7,
    "start_time": "2022-08-10T11:37:37.967Z"
   },
   {
    "duration": 80,
    "start_time": "2022-08-10T11:40:00.629Z"
   },
   {
    "duration": 8,
    "start_time": "2022-08-10T11:41:53.274Z"
   },
   {
    "duration": 7,
    "start_time": "2022-08-10T11:42:00.749Z"
   },
   {
    "duration": 88,
    "start_time": "2022-08-10T11:48:48.562Z"
   },
   {
    "duration": 124,
    "start_time": "2022-08-10T11:50:27.440Z"
   },
   {
    "duration": 79,
    "start_time": "2022-08-10T11:51:21.225Z"
   },
   {
    "duration": 67,
    "start_time": "2022-08-10T11:53:16.053Z"
   },
   {
    "duration": 64,
    "start_time": "2022-08-10T11:53:28.305Z"
   },
   {
    "duration": 66,
    "start_time": "2022-08-10T11:53:53.982Z"
   },
   {
    "duration": 1433,
    "start_time": "2022-08-10T11:55:26.717Z"
   },
   {
    "duration": 7,
    "start_time": "2022-08-10T11:55:35.369Z"
   },
   {
    "duration": 10,
    "start_time": "2022-08-10T11:57:19.795Z"
   },
   {
    "duration": 7,
    "start_time": "2022-08-10T11:57:30.034Z"
   },
   {
    "duration": 9,
    "start_time": "2022-08-10T11:58:02.192Z"
   },
   {
    "duration": 7,
    "start_time": "2022-08-10T11:58:45.977Z"
   },
   {
    "duration": 32,
    "start_time": "2022-08-10T11:59:36.124Z"
   },
   {
    "duration": 32,
    "start_time": "2022-08-10T11:59:49.095Z"
   },
   {
    "duration": 33,
    "start_time": "2022-08-10T12:00:02.921Z"
   },
   {
    "duration": 80,
    "start_time": "2022-08-10T12:00:11.513Z"
   },
   {
    "duration": 49,
    "start_time": "2022-08-10T12:00:14.988Z"
   },
   {
    "duration": 36,
    "start_time": "2022-08-10T12:00:38.686Z"
   },
   {
    "duration": 40,
    "start_time": "2022-08-10T12:01:07.491Z"
   },
   {
    "duration": 38,
    "start_time": "2022-08-10T12:04:37.874Z"
   },
   {
    "duration": 72,
    "start_time": "2022-08-10T12:05:42.353Z"
   },
   {
    "duration": 28,
    "start_time": "2022-08-10T12:06:14.097Z"
   },
   {
    "duration": 3,
    "start_time": "2022-08-10T12:08:27.010Z"
   },
   {
    "duration": 17,
    "start_time": "2022-08-10T12:08:29.779Z"
   },
   {
    "duration": 16,
    "start_time": "2022-08-10T12:08:31.977Z"
   },
   {
    "duration": 19,
    "start_time": "2022-08-10T12:08:36.989Z"
   },
   {
    "duration": 16,
    "start_time": "2022-08-10T12:08:46.949Z"
   },
   {
    "duration": 17,
    "start_time": "2022-08-10T12:08:49.167Z"
   },
   {
    "duration": 15,
    "start_time": "2022-08-10T12:08:51.522Z"
   },
   {
    "duration": 6,
    "start_time": "2022-08-10T12:09:49.365Z"
   },
   {
    "duration": 7,
    "start_time": "2022-08-10T12:13:01.831Z"
   },
   {
    "duration": 1043,
    "start_time": "2022-08-10T12:13:19.413Z"
   },
   {
    "duration": 7,
    "start_time": "2022-08-10T12:14:42.673Z"
   },
   {
    "duration": 8,
    "start_time": "2022-08-10T12:14:47.504Z"
   },
   {
    "duration": 8,
    "start_time": "2022-08-10T12:15:44.620Z"
   },
   {
    "duration": 7,
    "start_time": "2022-08-10T12:15:55.903Z"
   },
   {
    "duration": 73,
    "start_time": "2022-08-10T12:16:09.128Z"
   },
   {
    "duration": 613,
    "start_time": "2022-08-10T12:16:35.134Z"
   },
   {
    "duration": 11,
    "start_time": "2022-08-10T12:18:46.260Z"
   },
   {
    "duration": 18,
    "start_time": "2022-08-10T12:18:54.081Z"
   },
   {
    "duration": 4,
    "start_time": "2022-08-10T12:29:01.157Z"
   },
   {
    "duration": 21,
    "start_time": "2022-08-10T12:29:10.612Z"
   },
   {
    "duration": 4,
    "start_time": "2022-08-10T12:29:36.695Z"
   },
   {
    "duration": 21,
    "start_time": "2022-08-10T12:29:41.722Z"
   },
   {
    "duration": 4,
    "start_time": "2022-08-10T12:31:56.910Z"
   },
   {
    "duration": 33,
    "start_time": "2022-08-10T12:32:01.352Z"
   },
   {
    "duration": 4,
    "start_time": "2022-08-10T12:35:45.420Z"
   },
   {
    "duration": 26,
    "start_time": "2022-08-10T12:35:50.363Z"
   },
   {
    "duration": 5,
    "start_time": "2022-08-10T12:36:04.413Z"
   },
   {
    "duration": 23,
    "start_time": "2022-08-10T12:36:05.401Z"
   },
   {
    "duration": 4,
    "start_time": "2022-08-10T12:38:10.448Z"
   },
   {
    "duration": 3,
    "start_time": "2022-08-10T12:38:38.217Z"
   },
   {
    "duration": 19,
    "start_time": "2022-08-10T12:38:40.691Z"
   },
   {
    "duration": 38,
    "start_time": "2022-08-10T12:38:57.201Z"
   },
   {
    "duration": 17,
    "start_time": "2022-08-10T12:38:59.535Z"
   },
   {
    "duration": 4,
    "start_time": "2022-08-10T12:39:47.712Z"
   },
   {
    "duration": 19,
    "start_time": "2022-08-10T12:39:50.747Z"
   },
   {
    "duration": 3,
    "start_time": "2022-08-10T12:40:41.202Z"
   },
   {
    "duration": 21,
    "start_time": "2022-08-10T12:40:43.522Z"
   },
   {
    "duration": 19,
    "start_time": "2022-08-10T12:41:11.826Z"
   },
   {
    "duration": 18,
    "start_time": "2022-08-10T12:41:24.294Z"
   },
   {
    "duration": 17,
    "start_time": "2022-08-10T12:41:43.982Z"
   },
   {
    "duration": 19,
    "start_time": "2022-08-10T12:42:06.596Z"
   },
   {
    "duration": 3,
    "start_time": "2022-08-10T12:43:48.364Z"
   },
   {
    "duration": 18,
    "start_time": "2022-08-10T12:43:54.163Z"
   },
   {
    "duration": 17,
    "start_time": "2022-08-10T12:44:24.870Z"
   },
   {
    "duration": 4,
    "start_time": "2022-08-10T12:45:33.256Z"
   },
   {
    "duration": 36,
    "start_time": "2022-08-10T12:45:38.920Z"
   },
   {
    "duration": 30,
    "start_time": "2022-08-10T12:45:43.480Z"
   },
   {
    "duration": 31,
    "start_time": "2022-08-10T12:46:02.301Z"
   },
   {
    "duration": 30,
    "start_time": "2022-08-10T12:46:52.086Z"
   },
   {
    "duration": 3,
    "start_time": "2022-08-10T12:54:16.609Z"
   },
   {
    "duration": 21,
    "start_time": "2022-08-10T12:54:19.292Z"
   },
   {
    "duration": 20,
    "start_time": "2022-08-10T12:54:33.489Z"
   },
   {
    "duration": 17,
    "start_time": "2022-08-10T12:56:39.752Z"
   },
   {
    "duration": 18,
    "start_time": "2022-08-10T12:56:41.998Z"
   },
   {
    "duration": 16,
    "start_time": "2022-08-10T12:56:44.930Z"
   },
   {
    "duration": 25,
    "start_time": "2022-08-10T12:56:46.753Z"
   },
   {
    "duration": 17,
    "start_time": "2022-08-10T12:56:49.109Z"
   },
   {
    "duration": 17,
    "start_time": "2022-08-10T13:04:53.385Z"
   },
   {
    "duration": 21,
    "start_time": "2022-08-10T13:04:55.897Z"
   },
   {
    "duration": 17,
    "start_time": "2022-08-10T13:04:58.091Z"
   },
   {
    "duration": 18,
    "start_time": "2022-08-10T13:04:59.903Z"
   },
   {
    "duration": 16,
    "start_time": "2022-08-10T13:05:12.172Z"
   },
   {
    "duration": 7,
    "start_time": "2022-08-10T13:08:12.595Z"
   },
   {
    "duration": 77,
    "start_time": "2022-08-10T13:09:03.351Z"
   },
   {
    "duration": 87,
    "start_time": "2022-08-10T13:09:09.046Z"
   },
   {
    "duration": 176,
    "start_time": "2022-08-10T13:09:30.976Z"
   },
   {
    "duration": 16,
    "start_time": "2022-08-10T13:10:42.054Z"
   },
   {
    "duration": 78,
    "start_time": "2022-08-10T13:12:14.292Z"
   },
   {
    "duration": 9,
    "start_time": "2022-08-10T13:16:15.219Z"
   },
   {
    "duration": 5,
    "start_time": "2022-08-10T13:34:33.127Z"
   },
   {
    "duration": 1132,
    "start_time": "2022-08-10T13:34:34.518Z"
   },
   {
    "duration": 4,
    "start_time": "2022-08-10T13:35:22.744Z"
   },
   {
    "duration": 7344,
    "start_time": "2022-08-10T13:35:24.566Z"
   },
   {
    "duration": 6,
    "start_time": "2022-08-10T13:45:18.833Z"
   },
   {
    "duration": 6,
    "start_time": "2022-08-10T13:46:02.630Z"
   },
   {
    "duration": 3,
    "start_time": "2022-08-10T13:49:25.108Z"
   },
   {
    "duration": 141,
    "start_time": "2022-08-10T13:49:25.122Z"
   },
   {
    "duration": 138,
    "start_time": "2022-08-10T13:49:25.265Z"
   },
   {
    "duration": 9,
    "start_time": "2022-08-10T13:49:25.405Z"
   },
   {
    "duration": 44,
    "start_time": "2022-08-10T13:49:25.416Z"
   },
   {
    "duration": 4,
    "start_time": "2022-08-10T13:49:25.463Z"
   },
   {
    "duration": 12,
    "start_time": "2022-08-10T13:49:25.468Z"
   },
   {
    "duration": 6,
    "start_time": "2022-08-10T13:49:25.482Z"
   },
   {
    "duration": 12,
    "start_time": "2022-08-10T13:49:25.489Z"
   },
   {
    "duration": 24,
    "start_time": "2022-08-10T13:49:25.502Z"
   },
   {
    "duration": 102,
    "start_time": "2022-08-10T13:49:25.528Z"
   },
   {
    "duration": 26,
    "start_time": "2022-08-10T13:49:25.632Z"
   },
   {
    "duration": 52,
    "start_time": "2022-08-10T13:49:25.660Z"
   },
   {
    "duration": 77,
    "start_time": "2022-08-10T13:49:25.714Z"
   },
   {
    "duration": 74,
    "start_time": "2022-08-10T13:49:25.793Z"
   },
   {
    "duration": 50,
    "start_time": "2022-08-10T13:49:25.868Z"
   },
   {
    "duration": 64,
    "start_time": "2022-08-10T13:49:25.920Z"
   },
   {
    "duration": 32,
    "start_time": "2022-08-10T13:49:25.985Z"
   },
   {
    "duration": 2,
    "start_time": "2022-08-10T13:49:26.019Z"
   },
   {
    "duration": 34,
    "start_time": "2022-08-10T13:49:26.023Z"
   },
   {
    "duration": 8,
    "start_time": "2022-08-10T13:49:26.058Z"
   },
   {
    "duration": 0,
    "start_time": "2022-08-10T13:49:26.067Z"
   },
   {
    "duration": 0,
    "start_time": "2022-08-10T13:49:26.068Z"
   },
   {
    "duration": 1,
    "start_time": "2022-08-10T13:49:26.069Z"
   },
   {
    "duration": 0,
    "start_time": "2022-08-10T13:49:26.071Z"
   },
   {
    "duration": 0,
    "start_time": "2022-08-10T13:49:26.071Z"
   },
   {
    "duration": 0,
    "start_time": "2022-08-10T13:49:26.072Z"
   },
   {
    "duration": 0,
    "start_time": "2022-08-10T13:49:26.073Z"
   },
   {
    "duration": 0,
    "start_time": "2022-08-10T13:49:26.074Z"
   },
   {
    "duration": 0,
    "start_time": "2022-08-10T13:49:26.075Z"
   },
   {
    "duration": 0,
    "start_time": "2022-08-10T13:49:26.076Z"
   },
   {
    "duration": 0,
    "start_time": "2022-08-10T13:49:26.078Z"
   },
   {
    "duration": 0,
    "start_time": "2022-08-10T13:49:26.078Z"
   },
   {
    "duration": 0,
    "start_time": "2022-08-10T13:49:26.080Z"
   },
   {
    "duration": 0,
    "start_time": "2022-08-10T13:49:26.081Z"
   },
   {
    "duration": 0,
    "start_time": "2022-08-10T13:49:26.082Z"
   },
   {
    "duration": 0,
    "start_time": "2022-08-10T13:49:26.083Z"
   },
   {
    "duration": 0,
    "start_time": "2022-08-10T13:49:26.084Z"
   },
   {
    "duration": 0,
    "start_time": "2022-08-10T13:49:26.086Z"
   },
   {
    "duration": 0,
    "start_time": "2022-08-10T13:49:26.087Z"
   },
   {
    "duration": 0,
    "start_time": "2022-08-10T13:49:26.088Z"
   },
   {
    "duration": 0,
    "start_time": "2022-08-10T13:49:26.089Z"
   },
   {
    "duration": 0,
    "start_time": "2022-08-10T13:49:26.091Z"
   },
   {
    "duration": 0,
    "start_time": "2022-08-10T13:49:26.092Z"
   },
   {
    "duration": 9,
    "start_time": "2022-08-10T13:50:39.229Z"
   },
   {
    "duration": 77,
    "start_time": "2022-08-10T13:52:57.297Z"
   },
   {
    "duration": 53,
    "start_time": "2022-08-10T13:55:21.118Z"
   },
   {
    "duration": 49,
    "start_time": "2022-08-10T13:55:25.378Z"
   },
   {
    "duration": 56,
    "start_time": "2022-08-10T14:07:28.800Z"
   },
   {
    "duration": 60,
    "start_time": "2022-08-10T14:07:36.403Z"
   },
   {
    "duration": 232,
    "start_time": "2022-08-10T14:09:50.437Z"
   },
   {
    "duration": 82,
    "start_time": "2022-08-10T14:09:59.599Z"
   },
   {
    "duration": 81,
    "start_time": "2022-08-10T14:10:06.701Z"
   },
   {
    "duration": 7,
    "start_time": "2022-08-10T14:10:38.418Z"
   },
   {
    "duration": 3,
    "start_time": "2022-08-10T14:10:53.947Z"
   },
   {
    "duration": 141,
    "start_time": "2022-08-10T14:10:53.952Z"
   },
   {
    "duration": 115,
    "start_time": "2022-08-10T14:10:54.095Z"
   },
   {
    "duration": 9,
    "start_time": "2022-08-10T14:10:54.212Z"
   },
   {
    "duration": 33,
    "start_time": "2022-08-10T14:10:54.222Z"
   },
   {
    "duration": 4,
    "start_time": "2022-08-10T14:10:54.256Z"
   },
   {
    "duration": 11,
    "start_time": "2022-08-10T14:10:54.262Z"
   },
   {
    "duration": 8,
    "start_time": "2022-08-10T14:10:54.275Z"
   },
   {
    "duration": 12,
    "start_time": "2022-08-10T14:10:54.284Z"
   },
   {
    "duration": 21,
    "start_time": "2022-08-10T14:10:54.298Z"
   },
   {
    "duration": 105,
    "start_time": "2022-08-10T14:10:54.320Z"
   },
   {
    "duration": 31,
    "start_time": "2022-08-10T14:10:54.426Z"
   },
   {
    "duration": 52,
    "start_time": "2022-08-10T14:10:54.458Z"
   },
   {
    "duration": 82,
    "start_time": "2022-08-10T14:10:54.512Z"
   },
   {
    "duration": 52,
    "start_time": "2022-08-10T14:10:54.596Z"
   },
   {
    "duration": 49,
    "start_time": "2022-08-10T14:10:54.655Z"
   },
   {
    "duration": 9,
    "start_time": "2022-08-10T14:10:54.705Z"
   },
   {
    "duration": 4,
    "start_time": "2022-08-10T14:10:54.715Z"
   },
   {
    "duration": 9,
    "start_time": "2022-08-10T14:11:16.042Z"
   },
   {
    "duration": 4,
    "start_time": "2022-08-10T14:15:03.351Z"
   },
   {
    "duration": 1475,
    "start_time": "2022-08-10T14:15:05.430Z"
   },
   {
    "duration": 4,
    "start_time": "2022-08-10T14:20:34.204Z"
   },
   {
    "duration": 1552,
    "start_time": "2022-08-10T14:20:38.955Z"
   },
   {
    "duration": 81,
    "start_time": "2022-08-10T14:21:10.418Z"
   },
   {
    "duration": 124,
    "start_time": "2022-08-10T14:21:19.378Z"
   },
   {
    "duration": 1223,
    "start_time": "2022-08-10T14:21:21.587Z"
   },
   {
    "duration": 114,
    "start_time": "2022-08-10T14:22:02.045Z"
   },
   {
    "duration": 1261,
    "start_time": "2022-08-10T14:22:04.668Z"
   },
   {
    "duration": 4,
    "start_time": "2022-08-10T14:23:12.111Z"
   },
   {
    "duration": 1386,
    "start_time": "2022-08-10T14:23:16.055Z"
   },
   {
    "duration": 4,
    "start_time": "2022-08-10T14:25:18.343Z"
   },
   {
    "duration": 11,
    "start_time": "2022-08-10T14:25:18.350Z"
   },
   {
    "duration": 8,
    "start_time": "2022-08-10T14:26:08.776Z"
   },
   {
    "duration": 4,
    "start_time": "2022-08-10T14:26:58.625Z"
   },
   {
    "duration": 1266,
    "start_time": "2022-08-10T14:27:02.037Z"
   },
   {
    "duration": 1587,
    "start_time": "2022-08-10T14:27:07.285Z"
   },
   {
    "duration": 1428,
    "start_time": "2022-08-10T14:28:59.410Z"
   },
   {
    "duration": 3,
    "start_time": "2022-08-10T14:29:06.468Z"
   },
   {
    "duration": 148,
    "start_time": "2022-08-10T14:29:06.477Z"
   },
   {
    "duration": 125,
    "start_time": "2022-08-10T14:29:06.626Z"
   },
   {
    "duration": 13,
    "start_time": "2022-08-10T14:29:06.754Z"
   },
   {
    "duration": 59,
    "start_time": "2022-08-10T14:29:06.768Z"
   },
   {
    "duration": 3,
    "start_time": "2022-08-10T14:29:06.830Z"
   },
   {
    "duration": 14,
    "start_time": "2022-08-10T14:29:06.835Z"
   },
   {
    "duration": 8,
    "start_time": "2022-08-10T14:29:06.850Z"
   },
   {
    "duration": 16,
    "start_time": "2022-08-10T14:29:06.859Z"
   },
   {
    "duration": 28,
    "start_time": "2022-08-10T14:29:06.877Z"
   },
   {
    "duration": 93,
    "start_time": "2022-08-10T14:29:06.907Z"
   },
   {
    "duration": 26,
    "start_time": "2022-08-10T14:29:07.001Z"
   },
   {
    "duration": 70,
    "start_time": "2022-08-10T14:29:07.028Z"
   },
   {
    "duration": 76,
    "start_time": "2022-08-10T14:29:07.100Z"
   },
   {
    "duration": 51,
    "start_time": "2022-08-10T14:29:07.178Z"
   },
   {
    "duration": 60,
    "start_time": "2022-08-10T14:29:07.231Z"
   },
   {
    "duration": 8,
    "start_time": "2022-08-10T14:29:07.292Z"
   },
   {
    "duration": 4,
    "start_time": "2022-08-10T14:29:07.304Z"
   },
   {
    "duration": 26,
    "start_time": "2022-08-10T14:29:07.309Z"
   },
   {
    "duration": 25,
    "start_time": "2022-08-10T14:29:07.337Z"
   },
   {
    "duration": 40,
    "start_time": "2022-08-10T14:29:07.364Z"
   },
   {
    "duration": 49,
    "start_time": "2022-08-10T14:29:07.406Z"
   },
   {
    "duration": 34,
    "start_time": "2022-08-10T14:29:07.457Z"
   },
   {
    "duration": 34,
    "start_time": "2022-08-10T14:29:07.493Z"
   },
   {
    "duration": 3,
    "start_time": "2022-08-10T14:29:07.529Z"
   },
   {
    "duration": 20,
    "start_time": "2022-08-10T14:29:07.554Z"
   },
   {
    "duration": 16,
    "start_time": "2022-08-10T14:29:07.575Z"
   },
   {
    "duration": 17,
    "start_time": "2022-08-10T14:29:07.592Z"
   },
   {
    "duration": 15,
    "start_time": "2022-08-10T14:29:07.611Z"
   },
   {
    "duration": 41,
    "start_time": "2022-08-10T14:29:07.627Z"
   },
   {
    "duration": 15,
    "start_time": "2022-08-10T14:29:07.670Z"
   },
   {
    "duration": 8,
    "start_time": "2022-08-10T14:29:07.687Z"
   },
   {
    "duration": 25,
    "start_time": "2022-08-10T14:29:07.696Z"
   },
   {
    "duration": 36,
    "start_time": "2022-08-10T14:29:07.722Z"
   },
   {
    "duration": 4,
    "start_time": "2022-08-10T14:29:07.759Z"
   },
   {
    "duration": 34,
    "start_time": "2022-08-10T14:29:07.764Z"
   },
   {
    "duration": 16,
    "start_time": "2022-08-10T14:29:07.799Z"
   },
   {
    "duration": 18,
    "start_time": "2022-08-10T14:29:07.816Z"
   },
   {
    "duration": 30,
    "start_time": "2022-08-10T14:29:07.836Z"
   },
   {
    "duration": 9,
    "start_time": "2022-08-10T14:29:07.867Z"
   },
   {
    "duration": 3,
    "start_time": "2022-08-10T14:29:07.878Z"
   },
   {
    "duration": 13,
    "start_time": "2022-08-10T14:29:07.884Z"
   },
   {
    "duration": 4,
    "start_time": "2022-08-10T14:29:07.899Z"
   },
   {
    "duration": 7,
    "start_time": "2022-08-10T14:29:54.265Z"
   },
   {
    "duration": 7,
    "start_time": "2022-08-10T14:30:29.568Z"
   },
   {
    "duration": 4,
    "start_time": "2022-08-10T14:31:53.993Z"
   },
   {
    "duration": 1297,
    "start_time": "2022-08-10T14:32:01.268Z"
   },
   {
    "duration": 1383,
    "start_time": "2022-08-10T14:32:09.158Z"
   },
   {
    "duration": 4,
    "start_time": "2022-08-10T14:32:33.862Z"
   },
   {
    "duration": 1265,
    "start_time": "2022-08-10T14:32:36.111Z"
   },
   {
    "duration": 1202,
    "start_time": "2022-08-10T14:32:57.846Z"
   },
   {
    "duration": 1183,
    "start_time": "2022-08-10T14:34:31.757Z"
   },
   {
    "duration": 3,
    "start_time": "2022-08-10T14:36:19.705Z"
   },
   {
    "duration": 138,
    "start_time": "2022-08-10T14:36:19.719Z"
   },
   {
    "duration": 107,
    "start_time": "2022-08-10T14:36:19.859Z"
   },
   {
    "duration": 8,
    "start_time": "2022-08-10T14:36:19.968Z"
   },
   {
    "duration": 27,
    "start_time": "2022-08-10T14:36:19.978Z"
   },
   {
    "duration": 3,
    "start_time": "2022-08-10T14:36:20.007Z"
   },
   {
    "duration": 10,
    "start_time": "2022-08-10T14:36:20.012Z"
   },
   {
    "duration": 4,
    "start_time": "2022-08-10T14:36:20.024Z"
   },
   {
    "duration": 41,
    "start_time": "2022-08-10T14:36:20.029Z"
   },
   {
    "duration": 24,
    "start_time": "2022-08-10T14:36:20.071Z"
   },
   {
    "duration": 92,
    "start_time": "2022-08-10T14:36:20.097Z"
   },
   {
    "duration": 21,
    "start_time": "2022-08-10T14:36:20.191Z"
   },
   {
    "duration": 64,
    "start_time": "2022-08-10T14:36:20.214Z"
   },
   {
    "duration": 80,
    "start_time": "2022-08-10T14:36:20.280Z"
   },
   {
    "duration": 51,
    "start_time": "2022-08-10T14:36:20.363Z"
   },
   {
    "duration": 65,
    "start_time": "2022-08-10T14:36:20.416Z"
   },
   {
    "duration": 10,
    "start_time": "2022-08-10T14:36:20.483Z"
   },
   {
    "duration": 3,
    "start_time": "2022-08-10T14:36:20.494Z"
   },
   {
    "duration": 24,
    "start_time": "2022-08-10T14:36:20.499Z"
   },
   {
    "duration": 14,
    "start_time": "2022-08-10T14:36:20.524Z"
   },
   {
    "duration": 26,
    "start_time": "2022-08-10T14:36:20.554Z"
   },
   {
    "duration": 25,
    "start_time": "2022-08-10T14:36:20.581Z"
   },
   {
    "duration": 25,
    "start_time": "2022-08-10T14:36:20.607Z"
   },
   {
    "duration": 26,
    "start_time": "2022-08-10T14:36:20.655Z"
   },
   {
    "duration": 4,
    "start_time": "2022-08-10T14:36:20.682Z"
   },
   {
    "duration": 24,
    "start_time": "2022-08-10T14:36:20.687Z"
   },
   {
    "duration": 14,
    "start_time": "2022-08-10T14:36:20.712Z"
   },
   {
    "duration": 36,
    "start_time": "2022-08-10T14:36:20.728Z"
   },
   {
    "duration": 19,
    "start_time": "2022-08-10T14:36:20.765Z"
   },
   {
    "duration": 20,
    "start_time": "2022-08-10T14:36:20.785Z"
   },
   {
    "duration": 16,
    "start_time": "2022-08-10T14:36:20.807Z"
   },
   {
    "duration": 32,
    "start_time": "2022-08-10T14:36:20.824Z"
   },
   {
    "duration": 25,
    "start_time": "2022-08-10T14:36:20.858Z"
   },
   {
    "duration": 16,
    "start_time": "2022-08-10T14:36:20.885Z"
   },
   {
    "duration": 3,
    "start_time": "2022-08-10T14:36:20.903Z"
   },
   {
    "duration": 26,
    "start_time": "2022-08-10T14:36:20.908Z"
   },
   {
    "duration": 20,
    "start_time": "2022-08-10T14:36:20.936Z"
   },
   {
    "duration": 0,
    "start_time": "2022-08-10T14:36:20.957Z"
   },
   {
    "duration": 0,
    "start_time": "2022-08-10T14:36:20.959Z"
   },
   {
    "duration": 0,
    "start_time": "2022-08-10T14:36:20.960Z"
   },
   {
    "duration": 0,
    "start_time": "2022-08-10T14:36:20.961Z"
   },
   {
    "duration": 0,
    "start_time": "2022-08-10T14:36:20.962Z"
   },
   {
    "duration": 0,
    "start_time": "2022-08-10T14:36:20.963Z"
   },
   {
    "duration": 19,
    "start_time": "2022-08-10T14:36:31.112Z"
   },
   {
    "duration": 17,
    "start_time": "2022-08-10T14:36:55.026Z"
   },
   {
    "duration": 20,
    "start_time": "2022-08-10T14:37:03.785Z"
   },
   {
    "duration": 18,
    "start_time": "2022-08-10T14:37:19.591Z"
   },
   {
    "duration": 4,
    "start_time": "2022-08-10T14:38:12.310Z"
   },
   {
    "duration": 16,
    "start_time": "2022-08-10T14:38:14.801Z"
   },
   {
    "duration": 11,
    "start_time": "2022-08-10T14:38:20.787Z"
   },
   {
    "duration": 14,
    "start_time": "2022-08-10T14:38:25.185Z"
   },
   {
    "duration": 10,
    "start_time": "2022-08-10T14:38:28.141Z"
   },
   {
    "duration": 362,
    "start_time": "2022-08-10T14:40:19.799Z"
   },
   {
    "duration": 431,
    "start_time": "2022-08-11T08:39:08.656Z"
   },
   {
    "duration": 207,
    "start_time": "2022-08-11T08:39:09.089Z"
   },
   {
    "duration": 121,
    "start_time": "2022-08-11T08:39:09.298Z"
   },
   {
    "duration": 10,
    "start_time": "2022-08-11T08:39:09.421Z"
   },
   {
    "duration": 29,
    "start_time": "2022-08-11T08:39:09.432Z"
   },
   {
    "duration": 4,
    "start_time": "2022-08-11T08:39:09.463Z"
   },
   {
    "duration": 23,
    "start_time": "2022-08-11T08:39:09.468Z"
   },
   {
    "duration": 6,
    "start_time": "2022-08-11T08:39:09.493Z"
   },
   {
    "duration": 14,
    "start_time": "2022-08-11T08:39:09.500Z"
   },
   {
    "duration": 23,
    "start_time": "2022-08-11T08:39:09.518Z"
   },
   {
    "duration": 129,
    "start_time": "2022-08-11T08:39:09.543Z"
   },
   {
    "duration": 31,
    "start_time": "2022-08-11T08:39:09.673Z"
   },
   {
    "duration": 62,
    "start_time": "2022-08-11T08:39:09.705Z"
   },
   {
    "duration": 84,
    "start_time": "2022-08-11T08:39:09.769Z"
   },
   {
    "duration": 70,
    "start_time": "2022-08-11T08:39:09.854Z"
   },
   {
    "duration": 51,
    "start_time": "2022-08-11T08:39:09.926Z"
   },
   {
    "duration": 16,
    "start_time": "2022-08-11T08:39:09.979Z"
   },
   {
    "duration": 4,
    "start_time": "2022-08-11T08:39:09.996Z"
   },
   {
    "duration": 30,
    "start_time": "2022-08-11T08:39:10.001Z"
   },
   {
    "duration": 10,
    "start_time": "2022-08-11T08:39:10.033Z"
   },
   {
    "duration": 55,
    "start_time": "2022-08-11T08:39:10.045Z"
   },
   {
    "duration": 28,
    "start_time": "2022-08-11T08:39:10.102Z"
   },
   {
    "duration": 30,
    "start_time": "2022-08-11T08:39:10.131Z"
   },
   {
    "duration": 48,
    "start_time": "2022-08-11T08:39:10.163Z"
   },
   {
    "duration": 4,
    "start_time": "2022-08-11T08:39:10.212Z"
   },
   {
    "duration": 32,
    "start_time": "2022-08-11T08:39:10.217Z"
   },
   {
    "duration": 18,
    "start_time": "2022-08-11T08:39:10.250Z"
   },
   {
    "duration": 20,
    "start_time": "2022-08-11T08:39:10.286Z"
   },
   {
    "duration": 18,
    "start_time": "2022-08-11T08:39:10.308Z"
   },
   {
    "duration": 23,
    "start_time": "2022-08-11T08:39:10.328Z"
   },
   {
    "duration": 40,
    "start_time": "2022-08-11T08:39:10.353Z"
   },
   {
    "duration": 15,
    "start_time": "2022-08-11T08:39:10.395Z"
   },
   {
    "duration": 25,
    "start_time": "2022-08-11T08:39:10.412Z"
   },
   {
    "duration": 19,
    "start_time": "2022-08-11T08:39:10.438Z"
   },
   {
    "duration": 30,
    "start_time": "2022-08-11T08:39:10.459Z"
   },
   {
    "duration": 22,
    "start_time": "2022-08-11T08:39:10.490Z"
   },
   {
    "duration": 11,
    "start_time": "2022-08-11T08:39:10.514Z"
   },
   {
    "duration": 20,
    "start_time": "2022-08-11T08:39:10.526Z"
   },
   {
    "duration": 12,
    "start_time": "2022-08-11T08:39:10.547Z"
   },
   {
    "duration": 32,
    "start_time": "2022-08-11T08:39:10.560Z"
   },
   {
    "duration": 5,
    "start_time": "2022-08-11T08:39:10.593Z"
   },
   {
    "duration": 15,
    "start_time": "2022-08-11T08:39:10.600Z"
   },
   {
    "duration": 4,
    "start_time": "2022-08-11T08:39:10.617Z"
   },
   {
    "duration": 14,
    "start_time": "2022-08-11T08:39:26.277Z"
   },
   {
    "duration": 48,
    "start_time": "2022-08-11T10:21:19.640Z"
   },
   {
    "duration": 5,
    "start_time": "2022-08-11T10:21:26.336Z"
   },
   {
    "duration": 373,
    "start_time": "2022-08-11T10:21:34.259Z"
   },
   {
    "duration": 474,
    "start_time": "2022-08-11T10:21:34.633Z"
   },
   {
    "duration": 107,
    "start_time": "2022-08-11T10:21:35.108Z"
   },
   {
    "duration": 9,
    "start_time": "2022-08-11T10:21:35.217Z"
   },
   {
    "duration": 36,
    "start_time": "2022-08-11T10:21:35.227Z"
   },
   {
    "duration": 4,
    "start_time": "2022-08-11T10:21:35.264Z"
   },
   {
    "duration": 11,
    "start_time": "2022-08-11T10:21:35.269Z"
   },
   {
    "duration": 6,
    "start_time": "2022-08-11T10:21:35.281Z"
   },
   {
    "duration": 12,
    "start_time": "2022-08-11T10:21:35.288Z"
   },
   {
    "duration": 23,
    "start_time": "2022-08-11T10:21:35.304Z"
   },
   {
    "duration": 103,
    "start_time": "2022-08-11T10:21:35.328Z"
   },
   {
    "duration": 31,
    "start_time": "2022-08-11T10:21:35.432Z"
   },
   {
    "duration": 53,
    "start_time": "2022-08-11T10:21:35.465Z"
   },
   {
    "duration": 86,
    "start_time": "2022-08-11T10:21:35.520Z"
   },
   {
    "duration": 8,
    "start_time": "2022-08-11T10:21:35.608Z"
   },
   {
    "duration": 63,
    "start_time": "2022-08-11T10:21:35.617Z"
   },
   {
    "duration": 48,
    "start_time": "2022-08-11T10:21:35.682Z"
   },
   {
    "duration": 7,
    "start_time": "2022-08-11T10:21:35.732Z"
   },
   {
    "duration": 15,
    "start_time": "2022-08-11T10:21:35.741Z"
   },
   {
    "duration": 24,
    "start_time": "2022-08-11T10:21:35.757Z"
   },
   {
    "duration": 8,
    "start_time": "2022-08-11T10:21:35.782Z"
   },
   {
    "duration": 26,
    "start_time": "2022-08-11T10:21:35.791Z"
   },
   {
    "duration": 44,
    "start_time": "2022-08-11T10:21:35.818Z"
   },
   {
    "duration": 26,
    "start_time": "2022-08-11T10:21:35.863Z"
   },
   {
    "duration": 26,
    "start_time": "2022-08-11T10:21:35.891Z"
   },
   {
    "duration": 3,
    "start_time": "2022-08-11T10:21:35.919Z"
   },
   {
    "duration": 44,
    "start_time": "2022-08-11T10:21:35.923Z"
   },
   {
    "duration": 16,
    "start_time": "2022-08-11T10:21:35.970Z"
   },
   {
    "duration": 18,
    "start_time": "2022-08-11T10:21:35.987Z"
   },
   {
    "duration": 15,
    "start_time": "2022-08-11T10:21:36.006Z"
   },
   {
    "duration": 41,
    "start_time": "2022-08-11T10:21:36.023Z"
   },
   {
    "duration": 18,
    "start_time": "2022-08-11T10:21:36.065Z"
   },
   {
    "duration": 8,
    "start_time": "2022-08-11T10:21:36.085Z"
   },
   {
    "duration": 23,
    "start_time": "2022-08-11T10:21:36.095Z"
   },
   {
    "duration": 42,
    "start_time": "2022-08-11T10:21:36.120Z"
   },
   {
    "duration": 5,
    "start_time": "2022-08-11T10:21:36.163Z"
   },
   {
    "duration": 18,
    "start_time": "2022-08-11T10:21:36.170Z"
   },
   {
    "duration": 14,
    "start_time": "2022-08-11T10:21:36.190Z"
   },
   {
    "duration": 14,
    "start_time": "2022-08-11T10:21:36.205Z"
   },
   {
    "duration": 10,
    "start_time": "2022-08-11T10:21:36.220Z"
   },
   {
    "duration": 28,
    "start_time": "2022-08-11T10:21:36.232Z"
   },
   {
    "duration": 3,
    "start_time": "2022-08-11T10:21:36.262Z"
   },
   {
    "duration": 11,
    "start_time": "2022-08-11T10:21:36.267Z"
   },
   {
    "duration": 4,
    "start_time": "2022-08-11T10:21:36.279Z"
   },
   {
    "duration": 63,
    "start_time": "2022-08-11T10:22:49.711Z"
   },
   {
    "duration": 24,
    "start_time": "2022-08-11T10:26:00.612Z"
   },
   {
    "duration": 8,
    "start_time": "2022-08-11T10:26:29.351Z"
   },
   {
    "duration": 41,
    "start_time": "2022-08-11T10:27:51.007Z"
   },
   {
    "duration": 37,
    "start_time": "2022-08-11T10:28:27.375Z"
   },
   {
    "duration": 32,
    "start_time": "2022-08-11T10:41:34.457Z"
   },
   {
    "duration": 41,
    "start_time": "2022-08-11T10:47:38.511Z"
   },
   {
    "duration": 48,
    "start_time": "2022-08-11T10:47:47.454Z"
   },
   {
    "duration": 45,
    "start_time": "2022-08-11T10:47:54.705Z"
   },
   {
    "duration": 89,
    "start_time": "2022-08-11T10:48:09.240Z"
   },
   {
    "duration": 8,
    "start_time": "2022-08-11T10:48:13.437Z"
   },
   {
    "duration": 46,
    "start_time": "2022-08-11T10:48:43.673Z"
   },
   {
    "duration": 33,
    "start_time": "2022-08-11T10:49:40.932Z"
   },
   {
    "duration": 35,
    "start_time": "2022-08-11T11:03:49.479Z"
   },
   {
    "duration": 76,
    "start_time": "2022-08-11T12:31:26.801Z"
   },
   {
    "duration": 4,
    "start_time": "2022-08-11T12:34:39.043Z"
   },
   {
    "duration": 56,
    "start_time": "2022-08-11T12:35:58.575Z"
   },
   {
    "duration": 392,
    "start_time": "2022-08-12T03:48:34.967Z"
   },
   {
    "duration": 142,
    "start_time": "2022-08-12T03:48:35.362Z"
   },
   {
    "duration": 114,
    "start_time": "2022-08-12T03:48:35.506Z"
   },
   {
    "duration": 9,
    "start_time": "2022-08-12T03:48:35.622Z"
   },
   {
    "duration": 31,
    "start_time": "2022-08-12T03:48:35.633Z"
   },
   {
    "duration": 5,
    "start_time": "2022-08-12T03:48:35.666Z"
   },
   {
    "duration": 29,
    "start_time": "2022-08-12T03:48:35.672Z"
   },
   {
    "duration": 7,
    "start_time": "2022-08-12T03:48:35.703Z"
   },
   {
    "duration": 15,
    "start_time": "2022-08-12T03:48:35.711Z"
   },
   {
    "duration": 23,
    "start_time": "2022-08-12T03:48:35.730Z"
   },
   {
    "duration": 55,
    "start_time": "2022-08-12T03:48:35.755Z"
   },
   {
    "duration": 19,
    "start_time": "2022-08-12T03:48:35.811Z"
   },
   {
    "duration": 70,
    "start_time": "2022-08-12T03:48:35.831Z"
   },
   {
    "duration": 64,
    "start_time": "2022-08-12T03:48:35.902Z"
   },
   {
    "duration": 8,
    "start_time": "2022-08-12T03:48:35.968Z"
   },
   {
    "duration": 68,
    "start_time": "2022-08-12T03:48:35.978Z"
   },
   {
    "duration": 62,
    "start_time": "2022-08-12T03:48:36.048Z"
   },
   {
    "duration": 35,
    "start_time": "2022-08-12T03:48:36.112Z"
   },
   {
    "duration": 3,
    "start_time": "2022-08-12T03:48:36.149Z"
   },
   {
    "duration": 26,
    "start_time": "2022-08-12T03:48:36.153Z"
   },
   {
    "duration": 48,
    "start_time": "2022-08-12T03:48:36.180Z"
   },
   {
    "duration": 26,
    "start_time": "2022-08-12T03:48:36.230Z"
   },
   {
    "duration": 23,
    "start_time": "2022-08-12T03:48:36.257Z"
   },
   {
    "duration": 26,
    "start_time": "2022-08-12T03:48:36.299Z"
   },
   {
    "duration": 30,
    "start_time": "2022-08-12T03:48:36.326Z"
   },
   {
    "duration": 3,
    "start_time": "2022-08-12T03:48:36.358Z"
   },
   {
    "duration": 41,
    "start_time": "2022-08-12T03:48:36.363Z"
   },
   {
    "duration": 31,
    "start_time": "2022-08-12T03:48:36.408Z"
   },
   {
    "duration": 19,
    "start_time": "2022-08-12T03:48:36.440Z"
   },
   {
    "duration": 16,
    "start_time": "2022-08-12T03:48:36.460Z"
   },
   {
    "duration": 31,
    "start_time": "2022-08-12T03:48:36.478Z"
   },
   {
    "duration": 20,
    "start_time": "2022-08-12T03:48:36.511Z"
   },
   {
    "duration": 8,
    "start_time": "2022-08-12T03:48:36.533Z"
   },
   {
    "duration": 24,
    "start_time": "2022-08-12T03:48:36.542Z"
   },
   {
    "duration": 36,
    "start_time": "2022-08-12T03:48:36.567Z"
   },
   {
    "duration": 4,
    "start_time": "2022-08-12T03:48:36.605Z"
   },
   {
    "duration": 33,
    "start_time": "2022-08-12T03:48:36.611Z"
   },
   {
    "duration": 10,
    "start_time": "2022-08-12T03:48:36.645Z"
   },
   {
    "duration": 20,
    "start_time": "2022-08-12T03:48:36.656Z"
   },
   {
    "duration": 11,
    "start_time": "2022-08-12T03:48:36.677Z"
   },
   {
    "duration": 14,
    "start_time": "2022-08-12T03:48:36.689Z"
   },
   {
    "duration": 4,
    "start_time": "2022-08-12T03:48:36.704Z"
   },
   {
    "duration": 18,
    "start_time": "2022-08-12T03:48:36.709Z"
   },
   {
    "duration": 4,
    "start_time": "2022-08-12T03:48:36.728Z"
   }
  ],
  "colab": {
   "collapsed_sections": [
    "E0vqbgi9ay0H",
    "VUC88oWjTJw2",
    "atZAxtq4_Zcu"
   ],
   "name": "EmptyFinalProject.ipynb\"",
   "provenance": []
  },
  "kernelspec": {
   "display_name": "Python 3 (ipykernel)",
   "language": "python",
   "name": "python3"
  },
  "language_info": {
   "codemirror_mode": {
    "name": "ipython",
    "version": 3
   },
   "file_extension": ".py",
   "mimetype": "text/x-python",
   "name": "python",
   "nbconvert_exporter": "python",
   "pygments_lexer": "ipython3",
   "version": "3.9.5"
  },
  "toc": {
   "base_numbering": 1,
   "nav_menu": {},
   "number_sections": true,
   "sideBar": true,
   "skip_h1_title": true,
   "title_cell": "Table of Contents",
   "title_sidebar": "Contents",
   "toc_cell": false,
   "toc_position": {},
   "toc_section_display": true,
   "toc_window_display": true
  }
 },
 "nbformat": 4,
 "nbformat_minor": 4
}
