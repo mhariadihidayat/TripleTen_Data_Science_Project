{
 "cells": [
  {
   "cell_type": "markdown",
   "metadata": {},
   "source": [
    "# Deskripsi Proyek\n",
    "\n",
    "Operator seluler Megaline merasa tidak puas karena banyak pelanggan mereka yang masih menggunakan paket lama. Perusahaan tersebut ingin mengembangkan sebuah model yang dapat menganalisis perilaku konsumen dan merekomendasikan salah satu dari kedua paket terbaru Megaline: Smart atau Ultra.\n",
    "\n",
    "Anda memiliki akses terhadap data perilaku para pelanggan yang sudah beralih ke paket terbaru (dari proyek kursus Analisis Data Statistik). Dalam tugas klasifikasi ini, Anda perlu mengembangkan sebuah model yang mampu memilih paket dengan tepat. Mengingat Anda telah menyelesaikan langkah pra-pemrosesan data, Anda bisa langsung menuju ke tahap pembuatan model.\n",
    "Kembangkanlah sebuah model yang memiliki accuracy setinggi mungkin. Pada proyek ini, ambang batas untuk tingkat accuracy-nya adalah 0,75. Periksalah metrik accuracy model Anda dengan menggunakan test dataset.\n",
    "______________________\n",
    "\n",
    "Deskripsi Data\n",
    "Setiap observasi dalam dataset yang kita miliki memuat informasi perilaku bulanan tentang satu pengguna. Adapun informasi tersebut mencakup:\n",
    "1. сalls — jumlah panggilan\n",
    "2. minutes — total durasi panggilan dalam satuan menit\n",
    "3. messages — jumlah pesan teks\n",
    "4. mb_used — traffic penggunaan internet dalam satuan MB\n",
    "5. is_ultimate — paket untuk bulan yang sedang berjalan (Ultimate - 1, Surf - 0)"
   ]
  },
  {
   "cell_type": "markdown",
   "metadata": {},
   "source": [
    "## Memuat data dan mempelajari informasi keseluruhan pada data"
   ]
  },
  {
   "cell_type": "markdown",
   "metadata": {},
   "source": [
    "### Memuat Libary yang dibutuhkan untuk pemrosesan data"
   ]
  },
  {
   "cell_type": "code",
   "execution_count": 1,
   "metadata": {},
   "outputs": [],
   "source": [
    "# import pandas and numpy untuk proses dan manipulasi data\n",
    "import pandas as pd\n",
    "import numpy as np \n",
    "\n",
    "# Import seaborn untuk statistika data visualisasi\n",
    "import seaborn as sns\n",
    "\n",
    "# import matplotlib untuk data visualisasi\n",
    "import matplotlib.pyplot as plt \n",
    "from matplotlib import pyplot\n",
    "%matplotlib inline\n",
    "plt.rcParams.update({'figure.max_open_warning': 0})\n",
    "\n",
    "# import train_test_split untuk membagi data\n",
    "from sklearn.model_selection import train_test_split\n",
    "\n",
    "# import modul machine learning dari library sklearn\n",
    "from sklearn.tree import DecisionTreeClassifier \n",
    "from sklearn.linear_model import LogisticRegression \n",
    "from sklearn.ensemble import RandomForestClassifier \n",
    "\n",
    "\n",
    "# import sanity check untuk memeriksa fungsi terhadap model\n",
    "from sklearn.metrics import (accuracy_score, \n",
    "                             confusion_matrix, classification_report,\n",
    "                             precision_score, recall_score, f1_score,\n",
    "                             balanced_accuracy_score, roc_auc_score)\n",
    "\n",
    "# Import metode prediksi sederhana atau baseline \n",
    "from sklearn.dummy import DummyClassifier\n",
    "from sklearn.pipeline import make_pipeline, Pipeline\n",
    "from sklearn.naive_bayes import GaussianNB\n",
    "from sklearn.preprocessing import StandardScaler\n",
    "\n",
    "# import warnings untuk menghapus peringatan saat dataset di manipulasi\n",
    "import warnings\n",
    "warnings.simplefilter(action='ignore', category=FutureWarning)\n",
    "warnings.filterwarnings(\"ignore\", category=np.VisibleDeprecationWarning)"
   ]
  },
  {
   "cell_type": "markdown",
   "metadata": {},
   "source": [
    "### Memuat Data dari csv agar dapat dijalankan dengan pandas untuk menjadi DataFrame"
   ]
  },
  {
   "cell_type": "code",
   "execution_count": 2,
   "metadata": {},
   "outputs": [],
   "source": [
    "df = pd.read_csv('/datasets/users_behavior.csv')"
   ]
  },
  {
   "cell_type": "markdown",
   "metadata": {},
   "source": [
    "###  Memuat Informasi dari dataset dan mempelajari dataset"
   ]
  },
  {
   "cell_type": "code",
   "execution_count": 3,
   "metadata": {},
   "outputs": [
    {
     "name": "stdout",
     "output_type": "stream",
     "text": [
      "Tabel dari dataset\n"
     ]
    },
    {
     "data": {
      "text/html": [
       "<div>\n",
       "<style scoped>\n",
       "    .dataframe tbody tr th:only-of-type {\n",
       "        vertical-align: middle;\n",
       "    }\n",
       "\n",
       "    .dataframe tbody tr th {\n",
       "        vertical-align: top;\n",
       "    }\n",
       "\n",
       "    .dataframe thead th {\n",
       "        text-align: right;\n",
       "    }\n",
       "</style>\n",
       "<table border=\"1\" class=\"dataframe\">\n",
       "  <thead>\n",
       "    <tr style=\"text-align: right;\">\n",
       "      <th></th>\n",
       "      <th>calls</th>\n",
       "      <th>minutes</th>\n",
       "      <th>messages</th>\n",
       "      <th>mb_used</th>\n",
       "      <th>is_ultra</th>\n",
       "    </tr>\n",
       "  </thead>\n",
       "  <tbody>\n",
       "    <tr>\n",
       "      <th>1822</th>\n",
       "      <td>115.0</td>\n",
       "      <td>679.27</td>\n",
       "      <td>1.0</td>\n",
       "      <td>28668.40</td>\n",
       "      <td>1</td>\n",
       "    </tr>\n",
       "    <tr>\n",
       "      <th>1451</th>\n",
       "      <td>45.0</td>\n",
       "      <td>333.49</td>\n",
       "      <td>50.0</td>\n",
       "      <td>17275.47</td>\n",
       "      <td>0</td>\n",
       "    </tr>\n",
       "    <tr>\n",
       "      <th>15</th>\n",
       "      <td>6.0</td>\n",
       "      <td>22.13</td>\n",
       "      <td>0.0</td>\n",
       "      <td>2710.09</td>\n",
       "      <td>0</td>\n",
       "    </tr>\n",
       "    <tr>\n",
       "      <th>1394</th>\n",
       "      <td>48.0</td>\n",
       "      <td>352.55</td>\n",
       "      <td>30.0</td>\n",
       "      <td>22371.84</td>\n",
       "      <td>0</td>\n",
       "    </tr>\n",
       "    <tr>\n",
       "      <th>3014</th>\n",
       "      <td>57.0</td>\n",
       "      <td>368.96</td>\n",
       "      <td>0.0</td>\n",
       "      <td>16890.11</td>\n",
       "      <td>0</td>\n",
       "    </tr>\n",
       "    <tr>\n",
       "      <th>2573</th>\n",
       "      <td>63.0</td>\n",
       "      <td>419.72</td>\n",
       "      <td>0.0</td>\n",
       "      <td>43325.34</td>\n",
       "      <td>1</td>\n",
       "    </tr>\n",
       "    <tr>\n",
       "      <th>969</th>\n",
       "      <td>77.0</td>\n",
       "      <td>527.44</td>\n",
       "      <td>0.0</td>\n",
       "      <td>16620.31</td>\n",
       "      <td>0</td>\n",
       "    </tr>\n",
       "    <tr>\n",
       "      <th>580</th>\n",
       "      <td>43.0</td>\n",
       "      <td>321.63</td>\n",
       "      <td>42.0</td>\n",
       "      <td>25599.87</td>\n",
       "      <td>1</td>\n",
       "    </tr>\n",
       "    <tr>\n",
       "      <th>1599</th>\n",
       "      <td>19.0</td>\n",
       "      <td>135.52</td>\n",
       "      <td>48.0</td>\n",
       "      <td>13152.50</td>\n",
       "      <td>0</td>\n",
       "    </tr>\n",
       "    <tr>\n",
       "      <th>1334</th>\n",
       "      <td>63.0</td>\n",
       "      <td>457.13</td>\n",
       "      <td>56.0</td>\n",
       "      <td>16211.97</td>\n",
       "      <td>1</td>\n",
       "    </tr>\n",
       "  </tbody>\n",
       "</table>\n",
       "</div>"
      ],
      "text/plain": [
       "      calls  minutes  messages   mb_used  is_ultra\n",
       "1822  115.0   679.27       1.0  28668.40         1\n",
       "1451   45.0   333.49      50.0  17275.47         0\n",
       "15      6.0    22.13       0.0   2710.09         0\n",
       "1394   48.0   352.55      30.0  22371.84         0\n",
       "3014   57.0   368.96       0.0  16890.11         0\n",
       "2573   63.0   419.72       0.0  43325.34         1\n",
       "969    77.0   527.44       0.0  16620.31         0\n",
       "580    43.0   321.63      42.0  25599.87         1\n",
       "1599   19.0   135.52      48.0  13152.50         0\n",
       "1334   63.0   457.13      56.0  16211.97         1"
      ]
     },
     "execution_count": 3,
     "metadata": {},
     "output_type": "execute_result"
    }
   ],
   "source": [
    "print('Tabel dari dataset')\n",
    "df.sample(10)"
   ]
  },
  {
   "cell_type": "code",
   "execution_count": 4,
   "metadata": {},
   "outputs": [
    {
     "name": "stdout",
     "output_type": "stream",
     "text": [
      "Informasi keseluruhan dari dataset :\n",
      "<class 'pandas.core.frame.DataFrame'>\n",
      "RangeIndex: 3214 entries, 0 to 3213\n",
      "Data columns (total 5 columns):\n",
      " #   Column    Non-Null Count  Dtype  \n",
      "---  ------    --------------  -----  \n",
      " 0   calls     3214 non-null   float64\n",
      " 1   minutes   3214 non-null   float64\n",
      " 2   messages  3214 non-null   float64\n",
      " 3   mb_used   3214 non-null   float64\n",
      " 4   is_ultra  3214 non-null   int64  \n",
      "dtypes: float64(4), int64(1)\n",
      "memory usage: 125.7 KB\n"
     ]
    }
   ],
   "source": [
    "print('Informasi keseluruhan dari dataset :')\n",
    "df.info()"
   ]
  },
  {
   "cell_type": "code",
   "execution_count": 5,
   "metadata": {},
   "outputs": [
    {
     "name": "stdout",
     "output_type": "stream",
     "text": [
      "panjang baris dari dataset :\n"
     ]
    },
    {
     "data": {
      "text/plain": [
       "(3214, 5)"
      ]
     },
     "execution_count": 5,
     "metadata": {},
     "output_type": "execute_result"
    }
   ],
   "source": [
    "print('panjang baris dari dataset :')\n",
    "df.shape"
   ]
  },
  {
   "cell_type": "code",
   "execution_count": 6,
   "metadata": {},
   "outputs": [
    {
     "name": "stdout",
     "output_type": "stream",
     "text": [
      "memeriksa nilai yang hilang / na pada dataset :\n"
     ]
    },
    {
     "data": {
      "text/plain": [
       "calls       0\n",
       "minutes     0\n",
       "messages    0\n",
       "mb_used     0\n",
       "is_ultra    0\n",
       "dtype: int64"
      ]
     },
     "execution_count": 6,
     "metadata": {},
     "output_type": "execute_result"
    }
   ],
   "source": [
    "print('memeriksa nilai yang hilang / na pada dataset :')\n",
    "df.isna().sum()"
   ]
  },
  {
   "cell_type": "code",
   "execution_count": 7,
   "metadata": {},
   "outputs": [
    {
     "name": "stdout",
     "output_type": "stream",
     "text": [
      "memeriksa duplikat pada dataset\n"
     ]
    },
    {
     "data": {
      "text/plain": [
       "0"
      ]
     },
     "execution_count": 7,
     "metadata": {},
     "output_type": "execute_result"
    }
   ],
   "source": [
    "print('memeriksa duplikat pada dataset')\n",
    "df.duplicated().sum()"
   ]
  },
  {
   "cell_type": "code",
   "execution_count": 8,
   "metadata": {},
   "outputs": [
    {
     "name": "stdout",
     "output_type": "stream",
     "text": [
      "distribusi statisik pada dataset\n"
     ]
    },
    {
     "data": {
      "text/html": [
       "<div>\n",
       "<style scoped>\n",
       "    .dataframe tbody tr th:only-of-type {\n",
       "        vertical-align: middle;\n",
       "    }\n",
       "\n",
       "    .dataframe tbody tr th {\n",
       "        vertical-align: top;\n",
       "    }\n",
       "\n",
       "    .dataframe thead th {\n",
       "        text-align: right;\n",
       "    }\n",
       "</style>\n",
       "<table border=\"1\" class=\"dataframe\">\n",
       "  <thead>\n",
       "    <tr style=\"text-align: right;\">\n",
       "      <th></th>\n",
       "      <th>calls</th>\n",
       "      <th>minutes</th>\n",
       "      <th>messages</th>\n",
       "      <th>mb_used</th>\n",
       "      <th>is_ultra</th>\n",
       "    </tr>\n",
       "  </thead>\n",
       "  <tbody>\n",
       "    <tr>\n",
       "      <th>count</th>\n",
       "      <td>3214.000000</td>\n",
       "      <td>3214.000000</td>\n",
       "      <td>3214.000000</td>\n",
       "      <td>3214.000000</td>\n",
       "      <td>3214.000000</td>\n",
       "    </tr>\n",
       "    <tr>\n",
       "      <th>mean</th>\n",
       "      <td>63.038892</td>\n",
       "      <td>438.208787</td>\n",
       "      <td>38.281269</td>\n",
       "      <td>17207.673836</td>\n",
       "      <td>0.306472</td>\n",
       "    </tr>\n",
       "    <tr>\n",
       "      <th>std</th>\n",
       "      <td>33.236368</td>\n",
       "      <td>234.569872</td>\n",
       "      <td>36.148326</td>\n",
       "      <td>7570.968246</td>\n",
       "      <td>0.461100</td>\n",
       "    </tr>\n",
       "    <tr>\n",
       "      <th>min</th>\n",
       "      <td>0.000000</td>\n",
       "      <td>0.000000</td>\n",
       "      <td>0.000000</td>\n",
       "      <td>0.000000</td>\n",
       "      <td>0.000000</td>\n",
       "    </tr>\n",
       "    <tr>\n",
       "      <th>25%</th>\n",
       "      <td>40.000000</td>\n",
       "      <td>274.575000</td>\n",
       "      <td>9.000000</td>\n",
       "      <td>12491.902500</td>\n",
       "      <td>0.000000</td>\n",
       "    </tr>\n",
       "    <tr>\n",
       "      <th>50%</th>\n",
       "      <td>62.000000</td>\n",
       "      <td>430.600000</td>\n",
       "      <td>30.000000</td>\n",
       "      <td>16943.235000</td>\n",
       "      <td>0.000000</td>\n",
       "    </tr>\n",
       "    <tr>\n",
       "      <th>75%</th>\n",
       "      <td>82.000000</td>\n",
       "      <td>571.927500</td>\n",
       "      <td>57.000000</td>\n",
       "      <td>21424.700000</td>\n",
       "      <td>1.000000</td>\n",
       "    </tr>\n",
       "    <tr>\n",
       "      <th>max</th>\n",
       "      <td>244.000000</td>\n",
       "      <td>1632.060000</td>\n",
       "      <td>224.000000</td>\n",
       "      <td>49745.730000</td>\n",
       "      <td>1.000000</td>\n",
       "    </tr>\n",
       "  </tbody>\n",
       "</table>\n",
       "</div>"
      ],
      "text/plain": [
       "             calls      minutes     messages       mb_used     is_ultra\n",
       "count  3214.000000  3214.000000  3214.000000   3214.000000  3214.000000\n",
       "mean     63.038892   438.208787    38.281269  17207.673836     0.306472\n",
       "std      33.236368   234.569872    36.148326   7570.968246     0.461100\n",
       "min       0.000000     0.000000     0.000000      0.000000     0.000000\n",
       "25%      40.000000   274.575000     9.000000  12491.902500     0.000000\n",
       "50%      62.000000   430.600000    30.000000  16943.235000     0.000000\n",
       "75%      82.000000   571.927500    57.000000  21424.700000     1.000000\n",
       "max     244.000000  1632.060000   224.000000  49745.730000     1.000000"
      ]
     },
     "execution_count": 8,
     "metadata": {},
     "output_type": "execute_result"
    }
   ],
   "source": [
    "print('distribusi statisik pada dataset')\n",
    "df.describe()"
   ]
  },
  {
   "cell_type": "code",
   "execution_count": 9,
   "metadata": {},
   "outputs": [
    {
     "name": "stdout",
     "output_type": "stream",
     "text": [
      "barplot behavior pelanggan dalam penggunaan paket\n"
     ]
    },
    {
     "data": {
      "image/png": "[encoded data removed]",
      "text/plain": [
       "<Figure size 432x288 with 1 Axes>"
      ]
     },
     "metadata": {
      "needs_background": "light"
     },
     "output_type": "display_data"
    }
   ],
   "source": [
    "print('barplot behavior pelanggan dalam penggunaan paket')\n",
    "sns.countplot(df[\"is_ultra\"]);\n"
   ]
  },
  {
   "cell_type": "code",
   "execution_count": 10,
   "metadata": {},
   "outputs": [
    {
     "name": "stdout",
     "output_type": "stream",
     "text": [
      "persentase jumlah penggunaan paket\n"
     ]
    },
    {
     "data": {
      "text/plain": [
       "0    69.352831\n",
       "1    30.647169\n",
       "Name: is_ultra, dtype: float64"
      ]
     },
     "execution_count": 10,
     "metadata": {},
     "output_type": "execute_result"
    }
   ],
   "source": [
    "print('persentase jumlah penggunaan paket')\n",
    "df[\"is_ultra\"].value_counts()/len(df)*100"
   ]
  },
  {
   "cell_type": "markdown",
   "metadata": {},
   "source": [
    "### Kesimpulan :\n",
    "\n",
    "Setelah memproses data dan memeriksa data tidak terdapat value yang missing dan duplikasi pada data , tahap selanjutnya kita akan memisahkan dataset dengan ratio 3:1:1 pemisahan dengan persentasi traning set 60%, validation set 20% dan testing set 20%."
   ]
  },
  {
   "cell_type": "markdown",
   "metadata": {},
   "source": [
    "## Memisahkan data sumber menjadi training set, validation set, dan test set"
   ]
  },
  {
   "cell_type": "markdown",
   "metadata": {},
   "source": [
    "Pada tahap ini kita membagi data menjadi training set, validation set dan test set dengan menggunakan sklearn.model_selection.train_test_split dimana kita akan memisahkan data pertama kedalam df_train dan df_test dengan persentase 20% data. dan kedua kita akan memisahkan data kedalam df_train dan df_valid dengan persentase data 80%\n"
   ]
  },
  {
   "cell_type": "code",
   "execution_count": 11,
   "metadata": {},
   "outputs": [],
   "source": [
    "# membagi data kedalam traning dan testing  \n",
    "df_train, df_test = train_test_split(df, test_size=0.20, random_state=12345)\n",
    "\n",
    "# membagi data kedalam validation dan training\n",
    "df_train, df_valid = train_test_split(df_train, test_size=0.25, random_state=12345) # 0.25 * 0.80 = 0.20 for validation size"
   ]
  },
  {
   "cell_type": "code",
   "execution_count": 12,
   "metadata": {},
   "outputs": [
    {
     "name": "stdout",
     "output_type": "stream",
     "text": [
      "panjang baris training set   1928 persentase dataset sebesar 60% data\n",
      "panjang baris validation set 643 persentase dataset sebesar 20% data\n",
      "panjang baris testing set    643 persentase dataset sebesar 20% data\n"
     ]
    }
   ],
   "source": [
    "# melihat panjang baris data yang telah di pisah\n",
    "print('panjang baris training set   {} ' .format(df_train.shape[0]) + 'persentase dataset sebesar 60% data')\n",
    "print('panjang baris validation set {} ' .format(df_valid.shape[0]) + 'persentase dataset sebesar 20% data')\n",
    "print('panjang baris testing set    {} ' .format(df_test.shape[0]) + 'persentase dataset sebesar 20% data')"
   ]
  },
  {
   "cell_type": "code",
   "execution_count": 13,
   "metadata": {},
   "outputs": [
    {
     "name": "stdout",
     "output_type": "stream",
     "text": [
      "Train features : (1928, 4)\n",
      "Train target   : (1928,)\n",
      "Valid features : (643, 4)\n",
      "Valid target   : (643,)\n",
      "Test features  : (643, 4)\n",
      "Test target    : (643,)\n"
     ]
    }
   ],
   "source": [
    "# menentukan variabel untuk features dan target dataset training\n",
    "features_train = df_train.drop(['is_ultra'], axis=1)\n",
    "target_train = df_train['is_ultra']\n",
    "\n",
    "# menentukan variabel untuk features dan target dataset validation\n",
    "features_valid = df_valid.drop(['is_ultra'], axis=1)\n",
    "target_valid = df_valid['is_ultra']\n",
    "\n",
    "# menentukan variabel untuk features dan target dataset testing\n",
    "features_test = df_test.drop(['is_ultra'], axis=1)\n",
    "target_test = df_test['is_ultra']\n",
    "\n",
    "print('Train features :', features_train.shape)\n",
    "print('Train target   :',target_train.shape)\n",
    "print('Valid features :',features_valid.shape)\n",
    "print('Valid target   :',target_valid.shape)\n",
    "print('Test features  :',features_test.shape)\n",
    "print('Test target    :',target_test.shape)"
   ]
  },
  {
   "cell_type": "markdown",
   "metadata": {},
   "source": [
    "### Kesimpulan :\n",
    "\n",
    "Kita telah berhasil membagi data menjadi tiga bagian yakni training set = 60%, validation set = 20% dan testing set = 20 %."
   ]
  },
  {
   "cell_type": "markdown",
   "metadata": {},
   "source": [
    "Periksa kualitas model yang berbeda dengan mengubah hyperparameter-nya. Jelaskan secara singkat temuan-temuan yang Anda dapatkan dari penelitian ini."
   ]
  },
  {
   "cell_type": "markdown",
   "metadata": {},
   "source": [
    "## Memeriksa dan membandingkan kualitas model yang berbeda dengan mengubah hyperparameternya"
   ]
  },
  {
   "cell_type": "markdown",
   "metadata": {},
   "source": [
    "### Pengembangan model \n",
    "\n",
    "Pada tahap ini, kita akan memproses beberapa model untuk membandingkan model mana yang paling maksimal untuk mengklasifikasi penelitian ini, dimana kita akan menggunakan model decision tree classifier, logistic regresseion dan random forest untuk mengembangkan model. langkah pertama kita akan memeriksa keakuratan model diatas sebelum kita menggunakannya.\n"
   ]
  },
  {
   "cell_type": "markdown",
   "metadata": {},
   "source": [
    "### Hyperparameter tuning\n",
    "\n",
    "Pada langkah kali ini kita akan melakukan penyetelan guna menemukan nilai terbaik pada model yang akan kita gunakan."
   ]
  },
  {
   "cell_type": "markdown",
   "metadata": {},
   "source": [
    "#### Decision tree classifier\n",
    "\n",
    "Untuk model ini kita akan melakukan iterasi terhadap beberapa nilai yang berbeda dan membandingkan kualitas model dengan melakukan penyetelan dari kedalaman max_depth  dari hyperparameter."
   ]
  },
  {
   "cell_type": "code",
   "execution_count": 14,
   "metadata": {},
   "outputs": [],
   "source": [
    "# membuat fungsi dari decision tree classifier\n",
    "def decision_tree_classifier(X_train, y_train, X_valid, y_valid):\n",
    "    \n",
    "    # membuat list untuk mendapatkan nilai\n",
    "    train_scores = []\n",
    "    valid_scores = []\n",
    "    \n",
    "    # menetapkan kedalaman pohon\n",
    "    tree_depth = [i for i in range(1,21)]\n",
    "    \n",
    "    # membut looping untuk kedalaman pohon mas_depth dari 1 - 21\n",
    "    for depth in tree_depth:\n",
    "        model = DecisionTreeClassifier(random_state=12345, max_depth=depth)\n",
    "        model.fit(X_train, y_train) # melatih model\n",
    "        \n",
    "        # melakukan prediksi pada train dataset\n",
    "        train_predictions = model.predict(X_train)\n",
    "        train_predictions_acc = accuracy_score(y_train, train_predictions)\n",
    "        train_scores.append(train_predictions_acc)\n",
    "        \n",
    "        # melakukan prediksi pada validation dataset\n",
    "        predictions_valid = model.predict(X_valid)\n",
    "        predictions_valid_acc = accuracy_score(y_valid, predictions_valid)\n",
    "        valid_scores.append(predictions_valid_acc)\n",
    "        print('max_depth dan akurasi dari model decision tree classifer')\n",
    "        print('-'*50)\n",
    "        print('max_depth = {}'.format(depth))\n",
    "        print('Training_set :{:.3f}'.format(accuracy_score(y_train, train_predictions)))\n",
    "        print('Validation_set : {:.3f}'.format(accuracy_score(y_valid, predictions_valid)))\n",
    "        print()\n",
    "        \n",
    "    # grafik plot dari nilai training dataset dan validation dataset pada tree_depth\n",
    "    plt.figure(figsize=(10,6))\n",
    "    plt.plot(tree_depth, train_scores, '-*', label='Training Datateset')\n",
    "    plt.plot(tree_depth, valid_scores, '-o', label='Validation Dataset')\n",
    "    plt.title('grafik plot dari nilai training dataset dan validation dataset pada tree_depth')\n",
    "    plt.xlabel('Max_depth')\n",
    "    plt.ylabel('Akurasi')\n",
    "    plt.legend()\n",
    "    plt.show()"
   ]
  },
  {
   "cell_type": "code",
   "execution_count": 15,
   "metadata": {},
   "outputs": [
    {
     "name": "stdout",
     "output_type": "stream",
     "text": [
      "max_depth dan akurasi dari model decision tree classifer\n",
      "--------------------------------------------------\n",
      "max_depth = 1\n",
      "Training_set :0.758\n",
      "Validation_set : 0.739\n",
      "\n",
      "max_depth dan akurasi dari model decision tree classifer\n",
      "--------------------------------------------------\n",
      "max_depth = 2\n",
      "Training_set :0.792\n",
      "Validation_set : 0.757\n",
      "\n",
      "max_depth dan akurasi dari model decision tree classifer\n",
      "--------------------------------------------------\n",
      "max_depth = 3\n",
      "Training_set :0.812\n",
      "Validation_set : 0.765\n",
      "\n",
      "max_depth dan akurasi dari model decision tree classifer\n",
      "--------------------------------------------------\n",
      "max_depth = 4\n",
      "Training_set :0.821\n",
      "Validation_set : 0.764\n",
      "\n",
      "max_depth dan akurasi dari model decision tree classifer\n",
      "--------------------------------------------------\n",
      "max_depth = 5\n",
      "Training_set :0.827\n",
      "Validation_set : 0.759\n",
      "\n",
      "max_depth dan akurasi dari model decision tree classifer\n",
      "--------------------------------------------------\n",
      "max_depth = 6\n",
      "Training_set :0.834\n",
      "Validation_set : 0.757\n",
      "\n",
      "max_depth dan akurasi dari model decision tree classifer\n",
      "--------------------------------------------------\n",
      "max_depth = 7\n",
      "Training_set :0.851\n",
      "Validation_set : 0.774\n",
      "\n",
      "max_depth dan akurasi dari model decision tree classifer\n",
      "--------------------------------------------------\n",
      "max_depth = 8\n",
      "Training_set :0.866\n",
      "Validation_set : 0.767\n",
      "\n",
      "max_depth dan akurasi dari model decision tree classifer\n",
      "--------------------------------------------------\n",
      "max_depth = 9\n",
      "Training_set :0.875\n",
      "Validation_set : 0.762\n",
      "\n",
      "max_depth dan akurasi dari model decision tree classifer\n",
      "--------------------------------------------------\n",
      "max_depth = 10\n",
      "Training_set :0.891\n",
      "Validation_set : 0.771\n",
      "\n",
      "max_depth dan akurasi dari model decision tree classifer\n",
      "--------------------------------------------------\n",
      "max_depth = 11\n",
      "Training_set :0.902\n",
      "Validation_set : 0.759\n",
      "\n",
      "max_depth dan akurasi dari model decision tree classifer\n",
      "--------------------------------------------------\n",
      "max_depth = 12\n",
      "Training_set :0.915\n",
      "Validation_set : 0.756\n",
      "\n",
      "max_depth dan akurasi dari model decision tree classifer\n",
      "--------------------------------------------------\n",
      "max_depth = 13\n",
      "Training_set :0.924\n",
      "Validation_set : 0.750\n",
      "\n",
      "max_depth dan akurasi dari model decision tree classifer\n",
      "--------------------------------------------------\n",
      "max_depth = 14\n",
      "Training_set :0.937\n",
      "Validation_set : 0.757\n",
      "\n",
      "max_depth dan akurasi dari model decision tree classifer\n",
      "--------------------------------------------------\n",
      "max_depth = 15\n",
      "Training_set :0.944\n",
      "Validation_set : 0.753\n",
      "\n",
      "max_depth dan akurasi dari model decision tree classifer\n",
      "--------------------------------------------------\n",
      "max_depth = 16\n",
      "Training_set :0.951\n",
      "Validation_set : 0.750\n",
      "\n",
      "max_depth dan akurasi dari model decision tree classifer\n",
      "--------------------------------------------------\n",
      "max_depth = 17\n",
      "Training_set :0.957\n",
      "Validation_set : 0.739\n",
      "\n",
      "max_depth dan akurasi dari model decision tree classifer\n",
      "--------------------------------------------------\n",
      "max_depth = 18\n",
      "Training_set :0.964\n",
      "Validation_set : 0.742\n",
      "\n",
      "max_depth dan akurasi dari model decision tree classifer\n",
      "--------------------------------------------------\n",
      "max_depth = 19\n",
      "Training_set :0.970\n",
      "Validation_set : 0.736\n",
      "\n",
      "max_depth dan akurasi dari model decision tree classifer\n",
      "--------------------------------------------------\n",
      "max_depth = 20\n",
      "Training_set :0.976\n",
      "Validation_set : 0.729\n",
      "\n"
     ]
    },
    {
     "data": {
      "image/png": "[encoded data removed]",
      "text/plain": [
       "<Figure size 720x432 with 1 Axes>"
      ]
     },
     "metadata": {
      "needs_background": "light"
     },
     "output_type": "display_data"
    }
   ],
   "source": [
    "# menjalankan fungsi akurasi dari decision tree classifier\n",
    "decision_tree_classifier(features_train, target_train, features_valid, target_valid)"
   ]
  },
  {
   "cell_type": "markdown",
   "metadata": {},
   "source": [
    "Kesimpulan :\n",
    "\n",
    "Model decision tree classifier dapat menentukan rencana yang tepat ketika kita menjalankan alogaritam pembelajaran untuk melatih model membuat prediksi, disini kita membuat loop untuk menentukan hyperparameter dari kedalam pohon max_depth dari 1 hingga 20 untuk melihat kedalaman mana yang paling cocok untuk digunakan. pada percobaan model decision tree/ diatas kita memplot nilai akurasi pada dataset training dan dataset validation untuk memvisualisasikan. dapat diamati bagaimana akurasi dari tes validasi terus meningkat hingga mencapai max_depth = 4 dimana tingakat akurasinya mencapai 82.1% untuk training set dan 76.4% untuk validation set."
   ]
  },
  {
   "cell_type": "markdown",
   "metadata": {},
   "source": [
    "#### Logistic Regression "
   ]
  },
  {
   "cell_type": "code",
   "execution_count": 16,
   "metadata": {},
   "outputs": [],
   "source": [
    "# Membuat Fungsi untuk model logistic regression model \n",
    "def logistic_regression(X_train, y_train, X_valid, y_valid):\n",
    "    model = LogisticRegression(random_state=12345, solver='liblinear')\n",
    "    model.fit(X_train, y_train) # melatih model\n",
    "    model.score(X_train, y_train) # melihat akurasi model dengan score\n",
    "    train_predictions = model.predict(X_train) # prediksi score dari training dataset\n",
    "    predictions_valid = model.predict(X_valid) # prediksi score dari validation dataset\n",
    "    print('Score Akurasi dari model logistic regression')\n",
    "    print('-'*50)\n",
    "    print('Training Dataset Score   : {:.3f}'.format(accuracy_score(y_train, train_predictions)))\n",
    "    print('Validation Dataset Score : {:.3f}'.format(accuracy_score(y_valid, predictions_valid)))\n",
    "    print('-'*50)\n",
    "    print('Confusion Matrix')\n",
    "    print(confusion_matrix(y_valid, predictions_valid))"
   ]
  },
  {
   "cell_type": "code",
   "execution_count": 17,
   "metadata": {},
   "outputs": [
    {
     "name": "stdout",
     "output_type": "stream",
     "text": [
      "Score Akurasi dari model logistic regression\n",
      "--------------------------------------------------\n",
      "Training Dataset Score   : 0.742\n",
      "Validation Dataset Score : 0.729\n",
      "--------------------------------------------------\n",
      "Confusion Matrix\n",
      "[[439   4]\n",
      " [170  30]]\n"
     ]
    }
   ],
   "source": [
    "# Menjalankan fungsi akurasi score dari model logistic regression model \n",
    "logistic_regression(features_train, target_train, features_valid, target_valid)"
   ]
  },
  {
   "cell_type": "markdown",
   "metadata": {},
   "source": [
    "Kesimpulan :\n",
    "\n",
    "Meskipun pelatihan modelnya cepat, akurasinya lebih rendah. Model regresi logistik memberikan akurasi 74.2% untuk training dataset, dan sekitar 72.9% untuk dataset validation. Ini lebih rendah dari target akurasi pada model decision tree classifier dimana score untuk validation datasetnya sebesar 76.4% . Kita dapat melihat di sini bahwa baik score training dataset maupun score validation datasetnya tidak tinggi. Ini karena modelnya tidak cukup kompleks sehingga terjadi underfitting. Kami tidak dapat menggunakan model ini karena score training dan validationnya rendah."
   ]
  },
  {
   "cell_type": "markdown",
   "metadata": {},
   "source": [
    "#### Random Forest Classifier\n",
    "\n",
    "Untuk model ini kita akan melakukan iterasi terhadap beberapa nilai yang berbeda dan membandingkan kualitas model dengan melakukan penyetelan dari kedalaman max_depth dari hyperparameter."
   ]
  },
  {
   "cell_type": "code",
   "execution_count": 18,
   "metadata": {},
   "outputs": [],
   "source": [
    "# membuat fungsi dari decision tree classifier\n",
    "def random_forest_classifier(X_train, y_train, X_valid, y_valid):\n",
    "    \n",
    "    # membuat list untuk mendapatkan nilai\n",
    "    train_scores = []\n",
    "    valid_scores = []\n",
    "    \n",
    "    # menetapkan jarak n_estimator\n",
    "    estimator_depth = [i for i in range(1,21)]\n",
    "    \n",
    "    # membut looping untuk kedalaman pohon mas_depth dari 1 - 21\n",
    "    for estimator in estimator_depth:\n",
    "        model = RandomForestClassifier(random_state=12345, n_estimators=estimator)\n",
    "        model.fit(X_train, y_train) # melatih model\n",
    "        \n",
    "        # melakukan prediksi pada train dataset\n",
    "        train_predictions = model.predict(X_train)\n",
    "        train_predictions_acc = accuracy_score(y_train, train_predictions)\n",
    "        train_scores.append(train_predictions_acc)\n",
    "        \n",
    "        # melakukan prediksi pada validation dataset\n",
    "        predictions_valid = model.predict(X_valid)\n",
    "        predictions_valid_acc = accuracy_score(y_valid, predictions_valid)\n",
    "        valid_scores.append(predictions_valid_acc)\n",
    "        print('n_estimator dan akurasi dari model random forest classifier')\n",
    "        print('-'*50)\n",
    "        print('max_depth = {}'.format(estimator))\n",
    "        print('Training_set :{:.3f}'.format(accuracy_score(y_train, train_predictions)))\n",
    "        print('Validation_set : {:.3f}'.format(accuracy_score(y_valid, predictions_valid)))\n",
    "        print()\n",
    "        \n",
    "    # grafik plot dari nilai training dataset dan validation dataset pada n_estimator\n",
    "    plt.figure(figsize=(10,6))\n",
    "    plt.plot(estimator_depth, train_scores, '-*', label='Training Datateset')\n",
    "    plt.plot(estimator_depth, valid_scores, '-o', label='Validation Dataset')\n",
    "    plt.title('grafik plot dari nilai training dataset dan validation dataset pada n_estimator')\n",
    "    plt.xlabel('Max_depth')\n",
    "    plt.ylabel('Akurasi')\n",
    "    plt.legend()\n",
    "    plt.show()"
   ]
  },
  {
   "cell_type": "code",
   "execution_count": 19,
   "metadata": {},
   "outputs": [
    {
     "name": "stdout",
     "output_type": "stream",
     "text": [
      "n_estimator dan akurasi dari model random forest classifier\n",
      "--------------------------------------------------\n",
      "max_depth = 1\n",
      "Training_set :0.902\n",
      "Validation_set : 0.703\n",
      "\n",
      "n_estimator dan akurasi dari model random forest classifier\n",
      "--------------------------------------------------\n",
      "max_depth = 2\n",
      "Training_set :0.910\n",
      "Validation_set : 0.757\n",
      "\n",
      "n_estimator dan akurasi dari model random forest classifier\n",
      "--------------------------------------------------\n",
      "max_depth = 3\n",
      "Training_set :0.959\n",
      "Validation_set : 0.745\n",
      "\n",
      "n_estimator dan akurasi dari model random forest classifier\n",
      "--------------------------------------------------\n",
      "max_depth = 4\n",
      "Training_set :0.948\n",
      "Validation_set : 0.765\n",
      "\n",
      "n_estimator dan akurasi dari model random forest classifier\n",
      "--------------------------------------------------\n",
      "max_depth = 5\n",
      "Training_set :0.971\n",
      "Validation_set : 0.762\n",
      "\n",
      "n_estimator dan akurasi dari model random forest classifier\n",
      "--------------------------------------------------\n",
      "max_depth = 6\n",
      "Training_set :0.965\n",
      "Validation_set : 0.770\n",
      "\n",
      "n_estimator dan akurasi dari model random forest classifier\n",
      "--------------------------------------------------\n",
      "max_depth = 7\n",
      "Training_set :0.979\n",
      "Validation_set : 0.771\n",
      "\n",
      "n_estimator dan akurasi dari model random forest classifier\n",
      "--------------------------------------------------\n",
      "max_depth = 8\n",
      "Training_set :0.972\n",
      "Validation_set : 0.787\n",
      "\n",
      "n_estimator dan akurasi dari model random forest classifier\n",
      "--------------------------------------------------\n",
      "max_depth = 9\n",
      "Training_set :0.982\n",
      "Validation_set : 0.784\n",
      "\n",
      "n_estimator dan akurasi dari model random forest classifier\n",
      "--------------------------------------------------\n",
      "max_depth = 10\n",
      "Training_set :0.980\n",
      "Validation_set : 0.788\n",
      "\n",
      "n_estimator dan akurasi dari model random forest classifier\n",
      "--------------------------------------------------\n",
      "max_depth = 11\n",
      "Training_set :0.988\n",
      "Validation_set : 0.781\n",
      "\n",
      "n_estimator dan akurasi dari model random forest classifier\n",
      "--------------------------------------------------\n",
      "max_depth = 12\n",
      "Training_set :0.984\n",
      "Validation_set : 0.782\n",
      "\n",
      "n_estimator dan akurasi dari model random forest classifier\n",
      "--------------------------------------------------\n",
      "max_depth = 13\n",
      "Training_set :0.990\n",
      "Validation_set : 0.778\n",
      "\n",
      "n_estimator dan akurasi dari model random forest classifier\n",
      "--------------------------------------------------\n",
      "max_depth = 14\n",
      "Training_set :0.987\n",
      "Validation_set : 0.785\n",
      "\n",
      "n_estimator dan akurasi dari model random forest classifier\n",
      "--------------------------------------------------\n",
      "max_depth = 15\n",
      "Training_set :0.992\n",
      "Validation_set : 0.784\n",
      "\n",
      "n_estimator dan akurasi dari model random forest classifier\n",
      "--------------------------------------------------\n",
      "max_depth = 16\n",
      "Training_set :0.990\n",
      "Validation_set : 0.784\n",
      "\n",
      "n_estimator dan akurasi dari model random forest classifier\n",
      "--------------------------------------------------\n",
      "max_depth = 17\n",
      "Training_set :0.993\n",
      "Validation_set : 0.778\n",
      "\n",
      "n_estimator dan akurasi dari model random forest classifier\n",
      "--------------------------------------------------\n",
      "max_depth = 18\n",
      "Training_set :0.992\n",
      "Validation_set : 0.787\n",
      "\n",
      "n_estimator dan akurasi dari model random forest classifier\n",
      "--------------------------------------------------\n",
      "max_depth = 19\n",
      "Training_set :0.995\n",
      "Validation_set : 0.787\n",
      "\n",
      "n_estimator dan akurasi dari model random forest classifier\n",
      "--------------------------------------------------\n",
      "max_depth = 20\n",
      "Training_set :0.995\n",
      "Validation_set : 0.790\n",
      "\n"
     ]
    },
    {
     "data": {
      "image/png": "[encoded data removed]",
      "text/plain": [
       "<Figure size 720x432 with 1 Axes>"
      ]
     },
     "metadata": {
      "needs_background": "light"
     },
     "output_type": "display_data"
    }
   ],
   "source": [
    "# Menjalankan fungsi dari model random forest classifier\n",
    "random_forest_classifier(features_train, target_train, features_valid, target_valid)"
   ]
  },
  {
   "cell_type": "markdown",
   "metadata": {},
   "source": [
    "Kesimpulan :\n",
    "\n",
    "Pada model random forest classifier ini kita menyetel hyperparameter dengan random_state dan mengatur jumlah decision tree menggunakan hyperparameter n_estimators. disini kita akan menggunakan score n_estimator 10 dimana pada pengklasisfikasi nya memberikan nilai akurasi 98.% untuk training dataset dana 78.8% untuk validation dataset."
   ]
  },
  {
   "cell_type": "markdown",
   "metadata": {},
   "source": [
    "#### Kesimpulan  :\n",
    "\n",
    "Dari temuan hasil score  pada beberapa model yakni decision tree classifier dengan  max_depth 4 dimana tingkat akurasinya mencapai 82.1% untuk training dataset dan 76.4% untuk validation dataset, lalu pada model random forest classifier kita lihat bahwa score n_estimator dengan max_depth 10 dengan tingkat akurasi sebesar 98% pada training dataset dan 78.8% untuk validation dataset.lalu pada model logistic regression dengan akurasi 74.2% untuk training dataset, dan sekitar 72.9% untuk dataset validation. untuk tahap selanjutnya yakni test prediksi kita akan menggunakan random forest classifier untuk melihat prediksi pada dataset yang tidak terlihat.\n"
   ]
  },
  {
   "cell_type": "markdown",
   "metadata": {},
   "source": [
    "### Memeriksa Kualitas Model"
   ]
  },
  {
   "cell_type": "markdown",
   "metadata": {},
   "source": [
    "#### Model Testing\n",
    "\n",
    "Pada tahap sebelumnya kita telah menentukan bahwa model yang paling akurat menurut persentasi akurasinya adalah random forest classifier. Pada tahap ini kita akan menggunakan model ini untuk membuat prediksi menggunakan test dataset."
   ]
  },
  {
   "cell_type": "code",
   "execution_count": 20,
   "metadata": {},
   "outputs": [],
   "source": [
    "# membuat fungsi untuk menguji model dari decision tree classifier\n",
    "def test_random_forest_classifier(X_train, y_train, X_valid, y_valid, X_test, y_test):\n",
    "    \n",
    "    # membuat list untuk mendapatkan nilai\n",
    "    train_scores = []\n",
    "    valid_scores = []\n",
    "    test_scores  = []\n",
    "    \n",
    "    # menetapkan jarak n_estimator dengan akurasi tertinggi \n",
    "    estimator_depth = [10]\n",
    "    \n",
    "    # membut looping untuk menguji model \n",
    "    for estimator in estimator_depth:\n",
    "        model = RandomForestClassifier(random_state=12345, n_estimators=estimator)\n",
    "        model.fit(X_train, y_train) # melatih model\n",
    "        \n",
    "        # melakukan prediksi pada train dataset\n",
    "        train_predictions = model.predict(X_train)\n",
    "        train_predictions_acc = accuracy_score(y_train, train_predictions)\n",
    "        train_scores.append(train_predictions_acc)\n",
    "        \n",
    "        # melakukan prediksi pada validation dataset\n",
    "        predictions_valid = model.predict(X_valid)\n",
    "        predictions_valid_acc = accuracy_score(y_valid, predictions_valid)\n",
    "        valid_scores.append(predictions_valid_acc)\n",
    "        \n",
    "        # melakukan prediksi pada test dataset \n",
    "        test_predictions = model.predict(X_test)\n",
    "        test_predictions_acc = accuracy_score(y_test, test_predictions)\n",
    "        test_scores.append(test_predictions_acc)\n",
    "       \n",
    "        print('Pengujian n_estimator dan akurasi dari model random forest classifier pada Train, Valid & Test set')\n",
    "        print('-'*50)\n",
    "        print('max_depth = {}'.format(estimator))\n",
    "        print('Accuracy score Training_set   : {:.3f}'.format(accuracy_score(y_train, train_predictions)))\n",
    "        print('Accuracy score Validation_set : {:.3f}'.format(accuracy_score(y_valid, predictions_valid)))\n",
    "        print('Accuracy score Test_set       : {:.3f}'.format(accuracy_score(y_test, test_predictions)))\n",
    "        "
   ]
  },
  {
   "cell_type": "code",
   "execution_count": 21,
   "metadata": {},
   "outputs": [
    {
     "name": "stdout",
     "output_type": "stream",
     "text": [
      "Pengujian n_estimator dan akurasi dari model random forest classifier pada Train, Valid & Test set\n",
      "--------------------------------------------------\n",
      "max_depth = 10\n",
      "Accuracy score Training_set   : 0.980\n",
      "Accuracy score Validation_set : 0.788\n",
      "Accuracy score Test_set       : 0.787\n"
     ]
    }
   ],
   "source": [
    "test_random_forest_classifier(features_train, target_train, features_valid, target_valid, features_test, target_test)"
   ]
  },
  {
   "cell_type": "markdown",
   "metadata": {},
   "source": [
    "#### Kesimpulan :\n",
    "\n",
    "Dengan menggunkana model random forest classifier kita menguji model dengan Test dataset dan mendapatkan score akurasi sebesar 79%."
   ]
  },
  {
   "cell_type": "markdown",
   "metadata": {},
   "source": [
    "### Sanity Check terhadap model "
   ]
  },
  {
   "cell_type": "markdown",
   "metadata": {},
   "source": [
    "Pada tahap ini kita ingin mendapatkan gambaran mengenail keakuratan model pada validation dataset. kita dapat menyesuaikan model pada training dataset dan membuat prediksi untuk validation dataset, lalu mengevaluasi keefektifan algorithmnya. Cara yang lebih baik untuk menilai keefektifan algorime pembelajaran mesin adalah dengan menghitung skor dari precision, recall, f1 score dan confusion metrix serta classification report. "
   ]
  },
  {
   "cell_type": "markdown",
   "metadata": {},
   "source": [
    "#### Baseline"
   ]
  },
  {
   "cell_type": "markdown",
   "metadata": {},
   "source": [
    "Pada tahap ini kita akan membandingkan akurasi model dengan baseline dimana baseline ini adalah sebuah metode prediksi yang sederhana tanpa machine learning. lalu kita akan membandingkan metode baseline ini dengan model machine learning yang telah kita latih."
   ]
  },
  {
   "cell_type": "markdown",
   "metadata": {},
   "source": [
    "#### Dummy Classifier and Gaussian Naive Bayes"
   ]
  },
  {
   "cell_type": "code",
   "execution_count": 29,
   "metadata": {},
   "outputs": [
    {
     "name": "stdout",
     "output_type": "stream",
     "text": [
      "Accuracy Score pada Test dataset menggunakan dummy classifier : 56.92%\n"
     ]
    }
   ],
   "source": [
    "# membuat baseline prediksi menggunakan dummy classifier\n",
    "dummy_model = DummyClassifier(strategy='stratified')\n",
    "dummy_model.fit(features_train, target_train)\n",
    "dummy_model.score(features_train, target_train)\n",
    "dummy_predictions = dummy_model.predict(features_test)\n",
    "\n",
    "print('Accuracy Score pada Test dataset menggunakan dummy classifier : {:.2%}'.format(dummy_model.score(features_test, dummy_predictions)))"
   ]
  },
  {
   "cell_type": "code",
   "execution_count": 28,
   "metadata": {
    "scrolled": true
   },
   "outputs": [
    {
     "name": "stdout",
     "output_type": "stream",
     "text": [
      "probabiliti dari setiap kelas : [0.69450207 0.30549793] \n",
      "accuracy pada test dataset    : 30.48% \n"
     ]
    }
   ],
   "source": [
    "# membuat baseline prediksi dengan menggunakan gaussian naive bayes\n",
    "gnb = Pipeline([('scale', StandardScaler()), ('nb', GaussianNB())]).fit(features_train, target_train)\n",
    "gnb_predictions = gnb.predict(features_test)\n",
    "print('probabiliti dari setiap kelas : {} '.format(gnb.named_steps['nb'].class_prior_))\n",
    "print('accuracy pada test dataset    : {:.2%} '.format(gnb.named_steps['nb'].score(features_test, target_test)))"
   ]
  },
  {
   "cell_type": "markdown",
   "metadata": {},
   "source": [
    "Kesimpulan :\n",
    "\n",
    "Setelah kita menggunakan metode baseline dengan metode prediksi sederhana didapati bahwa dengan menggunakan metode sederhana ini yakni dummy classifier dan gaussian naive bayes didapati score accuracy pada dummy sebesar 59.% dan gnb sebesar 30%. mari kita bandingkan dengan model machine learning yang telah kita latih modelnya."
   ]
  },
  {
   "cell_type": "markdown",
   "metadata": {},
   "source": [
    "#### Confusion Matrix, Precision, Recall, F1-score, Accuracy score"
   ]
  },
  {
   "cell_type": "code",
   "execution_count": 24,
   "metadata": {},
   "outputs": [],
   "source": [
    "# Fungsi untuk menghitung precision, recal dan F1 Score\n",
    "def show_sanity_check(X_train, y_train, X_valid, y_valid):\n",
    "    model = RandomForestClassifier(random_state=12345)\n",
    "    model.fit(X_train, y_train)\n",
    "    predictions_valid = model.predict(X_valid)\n",
    "    print('Confusion Matrix')\n",
    "    print('-'*50)\n",
    "    print(confusion_matrix(y_valid, predictions_valid))\n",
    "    print()\n",
    "    print('Recall         :', recall_score(y_valid, predictions_valid))\n",
    "    print('Precision      :', '{:.3f}'.format(precision_score(y_valid, predictions_valid)))\n",
    "    print('F1             :','{:.3f}'.format(f1_score(y_valid, predictions_valid)))\n",
    "    print('Accuracy Score :', '{:.2%}'.format(accuracy_score(y_valid, predictions_valid)))\n",
    "    print()\n",
    "    print('Classification Report :')\n",
    "    print('-'*50)\n",
    "    print(classification_report(y_valid, predictions_valid))"
   ]
  },
  {
   "cell_type": "code",
   "execution_count": 25,
   "metadata": {},
   "outputs": [
    {
     "name": "stdout",
     "output_type": "stream",
     "text": [
      "Confusion Matrix\n",
      "--------------------------------------------------\n",
      "[[401  42]\n",
      " [ 90 110]]\n",
      "\n",
      "Recall         : 0.55\n",
      "Precision      : 0.724\n",
      "F1             : 0.625\n",
      "Accuracy Score : 79.47%\n",
      "\n",
      "Classification Report :\n",
      "--------------------------------------------------\n",
      "              precision    recall  f1-score   support\n",
      "\n",
      "           0       0.82      0.91      0.86       443\n",
      "           1       0.72      0.55      0.63       200\n",
      "\n",
      "    accuracy                           0.79       643\n",
      "   macro avg       0.77      0.73      0.74       643\n",
      "weighted avg       0.79      0.79      0.79       643\n",
      "\n"
     ]
    }
   ],
   "source": [
    "# Menjalankan Fungsi\n",
    "show_sanity_check(features_train, target_train, features_valid, target_valid)"
   ]
  },
  {
   "cell_type": "markdown",
   "metadata": {},
   "source": [
    "Kesimpulan :\n",
    "\n",
    "Confusion matrix membantu kita untuk mendapat gamabaran tentang seberapa baik prediksi kita secara aktual dan seberapa tepat prediksi. recall memberikan kita ukuran seberapa akurat model dalam mengidentifikasi pola dalam data yakni sebesar 0.55% atau 55%. Lalu precision dari model kita adalah 0.724 jadi ketika model memprediksi paket telepon dari perilaku pelanggan secara persentase 72% benar. lalu penghitungan F1 sebesar 0.625, dan accuracy model kita sebesar 79%. \n",
    "\n",
    "Jadi pada tahap ini kita dapat membandingkan bahwa penggunaaan model machine learning yang lebih rumit memang lebih baik dari pada baseline prediksi yang sangat sederhana dengan accuracy dari Model ML Random Forest classifier dengan tingkat accuracy sebesar 79.47%  dan accuracy score dengan baseline sederhana menggunakan dummy classifier sebesar 56% lalu gaussian naive bayes sebesar 30.48%."
   ]
  },
  {
   "cell_type": "markdown",
   "metadata": {},
   "source": [
    "### Kesimpulan Akhir \n",
    "\n",
    "Pada tahap awal kita melihat struktur dan informasi keseluruhan data, pada data diamati tidak terdapat duplikasi dan nilai yang hilang. dari bentuk data memiliki 5 kolom dan 3214 baris. lalau dengan membagi dataset menjadi training, validation dan test dengan rasio 3:1:1 atau 60% training dataset, 20% validation dataset, 20% test dataset. setelah data dipisah training dataset memiliki 1928 baris, 643 baris pada validation dataset, 643 pada test dataset. Pada tahap selanjutnya untuk mengetahui kualitas model yang berbeda denga mengubah hyperparameternya. disini kita melakukan pengklasifikasin decision tree, logistic regression, dan random forest classification dan didapati random forest classification menjadi model terbaik untuk digunakan .\n",
    "\n",
    "Dari hasil investigasi kualitas model yang berbeda, kita dapat melihat bahwa score dari n_estimator 10 dari random forest memberikan accuracy akurasi 98.% untuk training dataset dana 78.8% untuk validation dataset. lalauu pada tahap memeriksa kualitas model untuk menguji prediksi pada test dataset yang tidak terlihat dan didapati score akurasi sebesar 79%. lalu sebagai langkah tambahan untuk memeriksa Sanity Check pada model kita menghitung confusion metrix, recall, precision, F1 dan score accuracy serta classification report.\n",
    "\n",
    "Di akhir project kita mencapai tujuan untuk mengembangkan tingkat accuracy setinggi mungkin dengan ambang batas accuracy sebesar 75% dari tugas bisnis, dimana model kita memperoleh accuracy sebesar 79% dengan ini maka model ini mencapai apayang dibutuhkan untuk mengembangkan bisnis dana memilih rencana yang tepat. dengan kata lain jika kita menggunkan model ini untuk memprediksi paket telepon yang tepat untuk pelanggan maka tingkat prediksi nya sebesar 79% akan benar. "
   ]
  }
 ],
 "metadata": {
  "kernelspec": {
   "display_name": "Python 3 (ipykernel)",
   "language": "python",
   "name": "python3"
  },
  "language_info": {
   "codemirror_mode": {
    "name": "ipython",
    "version": 3
   },
   "file_extension": ".py",
   "mimetype": "text/x-python",
   "name": "python",
   "nbconvert_exporter": "python",
   "pygments_lexer": "ipython3",
   "version": "3.9.5"
  },
  "toc": {
   "base_numbering": 1,
   "nav_menu": {},
   "number_sections": true,
   "sideBar": true,
   "skip_h1_title": true,
   "title_cell": "Table of Contents",
   "title_sidebar": "Contents",
   "toc_cell": false,
   "toc_position": {
    "height": "calc(100% - 180px)",
    "left": "10px",
    "top": "150px",
    "width": "266.667px"
   },
   "toc_section_display": true,
   "toc_window_display": true
  }
 },
 "nbformat": 4,
 "nbformat_minor": 2
}
