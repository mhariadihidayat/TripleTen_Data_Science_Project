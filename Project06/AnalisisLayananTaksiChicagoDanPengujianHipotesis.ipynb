{
 "cells": [
  {
   "cell_type": "markdown",
   "metadata": {},
   "source": [
    "# Deskripsi Project\n",
    "\n",
    "Pada Project ini akan dilakukan Analisis Data Eksploratif dengan dataset : \n",
    "\n",
    "pada dataset berikut (/datasets/project_sql_result_01.csv) - memuat data berikut ini:\n",
    "1. company_name: nama perusahaan taksi\n",
    "2. trips_amount: jumlah perjalanan untuk setiap perusahaan taksi pada tanggal 15-16 November 2017.\n",
    "________________\n",
    "Dan dataset kedua (/datasets/project_sql_result_04.csv) - memuat data berikut ini:\n",
    "1. dropoff_location_name: nama wilayah di Chicago tempat perjalanan berakhir\n",
    "2. average_trips: jumlah rata-rata perjalanan yang berakhir di setiap wilayah pada bulan November 2017.\n",
    "_________________\n",
    "Pada dataset diatas saya melakukan Analisis Data Eskploratif yang meliputi : \n",
    "1. mengimpor kedua file\n",
    "2. mempelajari isi data\n",
    "3. memastikan tipe datanya sudah benar\n",
    "4. mengidentifikasi 10 wilayah teratas yang dijadikan sebagai titik pengantaran\n",
    "5. membuat grafik: perusahaan taksi dan jumlah perjalanannya, 10 wilayah teratas berdasarkan jumlah pengantaran\n",
    "6. menarik kesimpulan berdasarkan grafik yang telah dibuat dan menjelaskan hasilnya\n",
    "___________________\n",
    "Lalu pada tahap Uji HIpotesis pada Dataset (/datasets/project_sql_result_07.csv) dimana File ini memuat data perjalanan dari Loop ke Bandara Internasional O'Hare. Ingat, berikut adalah nilai kolom-kolom yang ada di tabel ini:\n",
    "1. start_ts — tanggal dan waktu penjemputan\n",
    "2. weather_conditions — kondisi cuaca saat perjalanan dimulai\n",
    "3. duration_seconds — durasi perjalanan dalam satuan detik\n",
    "\n",
    "Dengan Hipotesis \"Durasi rata-rata perjalanan dari Loop ke Bandara Internasional O'Hare berubah pada hari-hari Sabtu yang hujan.\""
   ]
  },
  {
   "cell_type": "markdown",
   "metadata": {},
   "source": [
    "## Memuat data dan mempelajari informasi keseluruhan pada data"
   ]
  },
  {
   "cell_type": "markdown",
   "metadata": {},
   "source": [
    "### Memuat Libary yang dibutuhkan untuk pemrosesan data"
   ]
  },
  {
   "cell_type": "code",
   "execution_count": 1,
   "metadata": {},
   "outputs": [],
   "source": [
    "# Memuat semua library\n",
    "\n",
    "# import pandas and numpy untuk proses dan manipulasi data\n",
    "import pandas as pd\n",
    "import numpy as np \n",
    "\n",
    "# import math dan scipy untuk perhitungan statistika \n",
    "import math as mt\n",
    "from math import factorial\n",
    "from scipy import stats as st\n",
    "\n",
    "# Import seaborn untuk statistika data visualisasi\n",
    "import seaborn as sns\n",
    "\n",
    "# import matplotlib untuk data visualisasi\n",
    "import matplotlib.pyplot as plt \n",
    "from matplotlib import pyplot\n",
    "%matplotlib inline\n",
    "plt.rcParams.update({'figure.max_open_warning': 0})\n",
    "\n",
    "# import date dan time untuk merubah tipe data\n",
    "import time\n",
    "import datetime\n",
    "from datetime import datetime\n",
    "\n",
    "# import warnings untuk menghapus peringatan saat dataset di manipulasi\n",
    "import warnings\n",
    "warnings.simplefilter(action='ignore', category=FutureWarning)\n",
    "warnings.filterwarnings(\"ignore\", category=np.VisibleDeprecationWarning)\n"
   ]
  },
  {
   "cell_type": "markdown",
   "metadata": {},
   "source": [
    "### Memuat Data dari csv agar dapat dijalankan dengan pandas untuk menjadi DataFrame"
   ]
  },
  {
   "cell_type": "code",
   "execution_count": 3,
   "metadata": {},
   "outputs": [],
   "source": [
    "# Memuat dataset \n",
    "query_result1 = pd.read_csv('/datasets/project_sql_result_01.csv')\n",
    "query_result4 = pd.read_csv('/datasets/project_sql_result_04.csv') "
   ]
  },
  {
   "cell_type": "markdown",
   "metadata": {},
   "source": [
    "###  Memuat Informasi dari dataset dan mempelajari dataset"
   ]
  },
  {
   "cell_type": "code",
   "execution_count": 4,
   "metadata": {},
   "outputs": [
    {
     "name": "stdout",
     "output_type": "stream",
     "text": [
      "Informasi dari dataset query_result_1\n"
     ]
    },
    {
     "data": {
      "text/html": [
       "<div>\n",
       "<style scoped>\n",
       "    .dataframe tbody tr th:only-of-type {\n",
       "        vertical-align: middle;\n",
       "    }\n",
       "\n",
       "    .dataframe tbody tr th {\n",
       "        vertical-align: top;\n",
       "    }\n",
       "\n",
       "    .dataframe thead th {\n",
       "        text-align: right;\n",
       "    }\n",
       "</style>\n",
       "<table border=\"1\" class=\"dataframe\">\n",
       "  <thead>\n",
       "    <tr style=\"text-align: right;\">\n",
       "      <th></th>\n",
       "      <th>company_name</th>\n",
       "      <th>trips_amount</th>\n",
       "    </tr>\n",
       "  </thead>\n",
       "  <tbody>\n",
       "    <tr>\n",
       "      <th>57</th>\n",
       "      <td>Metro Group</td>\n",
       "      <td>11</td>\n",
       "    </tr>\n",
       "    <tr>\n",
       "      <th>33</th>\n",
       "      <td>Metro Jet Taxi A</td>\n",
       "      <td>146</td>\n",
       "    </tr>\n",
       "    <tr>\n",
       "      <th>25</th>\n",
       "      <td>Top Cab Affiliation</td>\n",
       "      <td>978</td>\n",
       "    </tr>\n",
       "    <tr>\n",
       "      <th>29</th>\n",
       "      <td>303 Taxi</td>\n",
       "      <td>250</td>\n",
       "    </tr>\n",
       "    <tr>\n",
       "      <th>13</th>\n",
       "      <td>Nova Taxi Affiliation Llc</td>\n",
       "      <td>3175</td>\n",
       "    </tr>\n",
       "    <tr>\n",
       "      <th>1</th>\n",
       "      <td>Taxi Affiliation Services</td>\n",
       "      <td>11422</td>\n",
       "    </tr>\n",
       "    <tr>\n",
       "      <th>55</th>\n",
       "      <td>6057 - 24657 Richard Addo</td>\n",
       "      <td>13</td>\n",
       "    </tr>\n",
       "    <tr>\n",
       "      <th>23</th>\n",
       "      <td>KOAM Taxi Association</td>\n",
       "      <td>1259</td>\n",
       "    </tr>\n",
       "    <tr>\n",
       "      <th>24</th>\n",
       "      <td>Chicago Taxicab</td>\n",
       "      <td>1014</td>\n",
       "    </tr>\n",
       "    <tr>\n",
       "      <th>50</th>\n",
       "      <td>2823 - 73307 Lee Express Inc</td>\n",
       "      <td>15</td>\n",
       "    </tr>\n",
       "  </tbody>\n",
       "</table>\n",
       "</div>"
      ],
      "text/plain": [
       "                    company_name  trips_amount\n",
       "57                   Metro Group            11\n",
       "33              Metro Jet Taxi A           146\n",
       "25           Top Cab Affiliation           978\n",
       "29                      303 Taxi           250\n",
       "13     Nova Taxi Affiliation Llc          3175\n",
       "1      Taxi Affiliation Services         11422\n",
       "55     6057 - 24657 Richard Addo            13\n",
       "23         KOAM Taxi Association          1259\n",
       "24               Chicago Taxicab          1014\n",
       "50  2823 - 73307 Lee Express Inc            15"
      ]
     },
     "execution_count": 4,
     "metadata": {},
     "output_type": "execute_result"
    }
   ],
   "source": [
    "print('Informasi dari dataset query_result_1')\n",
    "query_result1.sample(10)"
   ]
  },
  {
   "cell_type": "code",
   "execution_count": 5,
   "metadata": {},
   "outputs": [
    {
     "name": "stdout",
     "output_type": "stream",
     "text": [
      "Informasi dari dataset query_result4\n"
     ]
    },
    {
     "data": {
      "text/html": [
       "<div>\n",
       "<style scoped>\n",
       "    .dataframe tbody tr th:only-of-type {\n",
       "        vertical-align: middle;\n",
       "    }\n",
       "\n",
       "    .dataframe tbody tr th {\n",
       "        vertical-align: top;\n",
       "    }\n",
       "\n",
       "    .dataframe thead th {\n",
       "        text-align: right;\n",
       "    }\n",
       "</style>\n",
       "<table border=\"1\" class=\"dataframe\">\n",
       "  <thead>\n",
       "    <tr style=\"text-align: right;\">\n",
       "      <th></th>\n",
       "      <th>dropoff_location_name</th>\n",
       "      <th>average_trips</th>\n",
       "    </tr>\n",
       "  </thead>\n",
       "  <tbody>\n",
       "    <tr>\n",
       "      <th>63</th>\n",
       "      <td>Andersonville</td>\n",
       "      <td>16.866667</td>\n",
       "    </tr>\n",
       "    <tr>\n",
       "      <th>45</th>\n",
       "      <td>Boystown</td>\n",
       "      <td>53.966667</td>\n",
       "    </tr>\n",
       "    <tr>\n",
       "      <th>71</th>\n",
       "      <td>Edison Park</td>\n",
       "      <td>14.166667</td>\n",
       "    </tr>\n",
       "    <tr>\n",
       "      <th>1</th>\n",
       "      <td>River North</td>\n",
       "      <td>9523.666667</td>\n",
       "    </tr>\n",
       "    <tr>\n",
       "      <th>61</th>\n",
       "      <td>Grand Crossing</td>\n",
       "      <td>22.600000</td>\n",
       "    </tr>\n",
       "    <tr>\n",
       "      <th>48</th>\n",
       "      <td>Austin</td>\n",
       "      <td>44.433333</td>\n",
       "    </tr>\n",
       "    <tr>\n",
       "      <th>4</th>\n",
       "      <td>O'Hare</td>\n",
       "      <td>2546.900000</td>\n",
       "    </tr>\n",
       "    <tr>\n",
       "      <th>38</th>\n",
       "      <td>Armour Square</td>\n",
       "      <td>77.033333</td>\n",
       "    </tr>\n",
       "    <tr>\n",
       "      <th>27</th>\n",
       "      <td>Avondale</td>\n",
       "      <td>208.233333</td>\n",
       "    </tr>\n",
       "    <tr>\n",
       "      <th>41</th>\n",
       "      <td>North Park</td>\n",
       "      <td>67.833333</td>\n",
       "    </tr>\n",
       "  </tbody>\n",
       "</table>\n",
       "</div>"
      ],
      "text/plain": [
       "   dropoff_location_name  average_trips\n",
       "63         Andersonville      16.866667\n",
       "45              Boystown      53.966667\n",
       "71           Edison Park      14.166667\n",
       "1            River North    9523.666667\n",
       "61        Grand Crossing      22.600000\n",
       "48                Austin      44.433333\n",
       "4                 O'Hare    2546.900000\n",
       "38         Armour Square      77.033333\n",
       "27              Avondale     208.233333\n",
       "41            North Park      67.833333"
      ]
     },
     "execution_count": 5,
     "metadata": {},
     "output_type": "execute_result"
    }
   ],
   "source": [
    "print('Informasi dari dataset query_result4')\n",
    "query_result4.sample(10)"
   ]
  },
  {
   "cell_type": "code",
   "execution_count": 6,
   "metadata": {},
   "outputs": [
    {
     "name": "stdout",
     "output_type": "stream",
     "text": [
      "distribusi statisik pada dataset query_result1\n"
     ]
    },
    {
     "data": {
      "text/html": [
       "<div>\n",
       "<style scoped>\n",
       "    .dataframe tbody tr th:only-of-type {\n",
       "        vertical-align: middle;\n",
       "    }\n",
       "\n",
       "    .dataframe tbody tr th {\n",
       "        vertical-align: top;\n",
       "    }\n",
       "\n",
       "    .dataframe thead th {\n",
       "        text-align: right;\n",
       "    }\n",
       "</style>\n",
       "<table border=\"1\" class=\"dataframe\">\n",
       "  <thead>\n",
       "    <tr style=\"text-align: right;\">\n",
       "      <th></th>\n",
       "      <th>trips_amount</th>\n",
       "    </tr>\n",
       "  </thead>\n",
       "  <tbody>\n",
       "    <tr>\n",
       "      <th>count</th>\n",
       "      <td>64.000000</td>\n",
       "    </tr>\n",
       "    <tr>\n",
       "      <th>mean</th>\n",
       "      <td>2145.484375</td>\n",
       "    </tr>\n",
       "    <tr>\n",
       "      <th>std</th>\n",
       "      <td>3812.310186</td>\n",
       "    </tr>\n",
       "    <tr>\n",
       "      <th>min</th>\n",
       "      <td>2.000000</td>\n",
       "    </tr>\n",
       "    <tr>\n",
       "      <th>25%</th>\n",
       "      <td>20.750000</td>\n",
       "    </tr>\n",
       "    <tr>\n",
       "      <th>50%</th>\n",
       "      <td>178.500000</td>\n",
       "    </tr>\n",
       "    <tr>\n",
       "      <th>75%</th>\n",
       "      <td>2106.500000</td>\n",
       "    </tr>\n",
       "    <tr>\n",
       "      <th>max</th>\n",
       "      <td>19558.000000</td>\n",
       "    </tr>\n",
       "  </tbody>\n",
       "</table>\n",
       "</div>"
      ],
      "text/plain": [
       "       trips_amount\n",
       "count     64.000000\n",
       "mean    2145.484375\n",
       "std     3812.310186\n",
       "min        2.000000\n",
       "25%       20.750000\n",
       "50%      178.500000\n",
       "75%     2106.500000\n",
       "max    19558.000000"
      ]
     },
     "execution_count": 6,
     "metadata": {},
     "output_type": "execute_result"
    }
   ],
   "source": [
    "print('distribusi statisik pada dataset query_result1')\n",
    "query_result1.describe()"
   ]
  },
  {
   "cell_type": "code",
   "execution_count": 7,
   "metadata": {},
   "outputs": [
    {
     "name": "stdout",
     "output_type": "stream",
     "text": [
      "distribusi statisik pada dataset query_result4\n"
     ]
    },
    {
     "data": {
      "text/html": [
       "<div>\n",
       "<style scoped>\n",
       "    .dataframe tbody tr th:only-of-type {\n",
       "        vertical-align: middle;\n",
       "    }\n",
       "\n",
       "    .dataframe tbody tr th {\n",
       "        vertical-align: top;\n",
       "    }\n",
       "\n",
       "    .dataframe thead th {\n",
       "        text-align: right;\n",
       "    }\n",
       "</style>\n",
       "<table border=\"1\" class=\"dataframe\">\n",
       "  <thead>\n",
       "    <tr style=\"text-align: right;\">\n",
       "      <th></th>\n",
       "      <th>average_trips</th>\n",
       "    </tr>\n",
       "  </thead>\n",
       "  <tbody>\n",
       "    <tr>\n",
       "      <th>count</th>\n",
       "      <td>94.000000</td>\n",
       "    </tr>\n",
       "    <tr>\n",
       "      <th>mean</th>\n",
       "      <td>599.953728</td>\n",
       "    </tr>\n",
       "    <tr>\n",
       "      <th>std</th>\n",
       "      <td>1714.591098</td>\n",
       "    </tr>\n",
       "    <tr>\n",
       "      <th>min</th>\n",
       "      <td>1.800000</td>\n",
       "    </tr>\n",
       "    <tr>\n",
       "      <th>25%</th>\n",
       "      <td>14.266667</td>\n",
       "    </tr>\n",
       "    <tr>\n",
       "      <th>50%</th>\n",
       "      <td>52.016667</td>\n",
       "    </tr>\n",
       "    <tr>\n",
       "      <th>75%</th>\n",
       "      <td>298.858333</td>\n",
       "    </tr>\n",
       "    <tr>\n",
       "      <th>max</th>\n",
       "      <td>10727.466667</td>\n",
       "    </tr>\n",
       "  </tbody>\n",
       "</table>\n",
       "</div>"
      ],
      "text/plain": [
       "       average_trips\n",
       "count      94.000000\n",
       "mean      599.953728\n",
       "std      1714.591098\n",
       "min         1.800000\n",
       "25%        14.266667\n",
       "50%        52.016667\n",
       "75%       298.858333\n",
       "max     10727.466667"
      ]
     },
     "execution_count": 7,
     "metadata": {},
     "output_type": "execute_result"
    }
   ],
   "source": [
    "print('distribusi statisik pada dataset query_result4')\n",
    "query_result4.describe()"
   ]
  },
  {
   "cell_type": "code",
   "execution_count": 8,
   "metadata": {},
   "outputs": [
    {
     "name": "stdout",
     "output_type": "stream",
     "text": [
      "memeriksa nilai yang hilang / na pada dataset query_result1 :\n"
     ]
    },
    {
     "data": {
      "text/plain": [
       "company_name    0\n",
       "trips_amount    0\n",
       "dtype: int64"
      ]
     },
     "execution_count": 8,
     "metadata": {},
     "output_type": "execute_result"
    }
   ],
   "source": [
    "print('memeriksa nilai yang hilang / na pada dataset query_result1 :')\n",
    "query_result1.isna().sum()"
   ]
  },
  {
   "cell_type": "code",
   "execution_count": 9,
   "metadata": {},
   "outputs": [
    {
     "name": "stdout",
     "output_type": "stream",
     "text": [
      "memeriksa nilai yang hilang / na pada dataset query_result4 :\n"
     ]
    },
    {
     "data": {
      "text/plain": [
       "dropoff_location_name    0\n",
       "average_trips            0\n",
       "dtype: int64"
      ]
     },
     "execution_count": 9,
     "metadata": {},
     "output_type": "execute_result"
    }
   ],
   "source": [
    "print('memeriksa nilai yang hilang / na pada dataset query_result4 :')\n",
    "query_result4.isna().sum()"
   ]
  },
  {
   "cell_type": "code",
   "execution_count": 10,
   "metadata": {},
   "outputs": [
    {
     "name": "stdout",
     "output_type": "stream",
     "text": [
      "panjang baris dari dataset query_result1 :\n"
     ]
    },
    {
     "data": {
      "text/plain": [
       "(64, 2)"
      ]
     },
     "execution_count": 10,
     "metadata": {},
     "output_type": "execute_result"
    }
   ],
   "source": [
    "print('panjang baris dari dataset query_result1 :')\n",
    "query_result1.shape"
   ]
  },
  {
   "cell_type": "code",
   "execution_count": 11,
   "metadata": {},
   "outputs": [
    {
     "name": "stdout",
     "output_type": "stream",
     "text": [
      "panjang baris dari dataset query_result4 :\n"
     ]
    },
    {
     "data": {
      "text/plain": [
       "(94, 2)"
      ]
     },
     "execution_count": 11,
     "metadata": {},
     "output_type": "execute_result"
    }
   ],
   "source": [
    "print('panjang baris dari dataset query_result4 :')\n",
    "query_result4.shape"
   ]
  },
  {
   "cell_type": "code",
   "execution_count": 12,
   "metadata": {},
   "outputs": [
    {
     "name": "stdout",
     "output_type": "stream",
     "text": [
      "memeriksa duplikasi pada dataset query_result1 :\n",
      "nilai duplikat pada dataset : 0\n"
     ]
    }
   ],
   "source": [
    "print('memeriksa duplikasi pada dataset query_result1 :')\n",
    "print('nilai duplikat pada dataset :', query_result1.duplicated().sum())"
   ]
  },
  {
   "cell_type": "code",
   "execution_count": 13,
   "metadata": {},
   "outputs": [
    {
     "name": "stdout",
     "output_type": "stream",
     "text": [
      "memeriksa duplikasi pada dataset query_result4 :\n",
      "nilai duplikat pada dataset : 0\n"
     ]
    }
   ],
   "source": [
    "print('memeriksa duplikasi pada dataset query_result4 :')\n",
    "print('nilai duplikat pada dataset :', query_result4.duplicated().sum())"
   ]
  },
  {
   "cell_type": "markdown",
   "metadata": {},
   "source": [
    "### Kesimpulan \n",
    "\n",
    "Setelah mempelajari kedua dataset dimana :\n",
    "1. Tidak terdapat value yang hilang.\n",
    "2. Tidak terdapat value yang terduplikasi. "
   ]
  },
  {
   "cell_type": "markdown",
   "metadata": {},
   "source": [
    "## Memastikan tipe datanya sudah benar"
   ]
  },
  {
   "cell_type": "code",
   "execution_count": 14,
   "metadata": {},
   "outputs": [
    {
     "name": "stdout",
     "output_type": "stream",
     "text": [
      "informasi tipe data & panjang baris , column dari dataset query_result1\n",
      "<class 'pandas.core.frame.DataFrame'>\n",
      "RangeIndex: 64 entries, 0 to 63\n",
      "Data columns (total 2 columns):\n",
      " #   Column        Non-Null Count  Dtype \n",
      "---  ------        --------------  ----- \n",
      " 0   company_name  64 non-null     object\n",
      " 1   trips_amount  64 non-null     int64 \n",
      "dtypes: int64(1), object(1)\n",
      "memory usage: 1.1+ KB\n"
     ]
    }
   ],
   "source": [
    "print('informasi tipe data & panjang baris , column dari dataset query_result1')\n",
    "query_result1.info()"
   ]
  },
  {
   "cell_type": "code",
   "execution_count": 15,
   "metadata": {
    "scrolled": true
   },
   "outputs": [
    {
     "name": "stdout",
     "output_type": "stream",
     "text": [
      "informasi tipe data & panjang baris , column dari dataset query_result1\n",
      "<class 'pandas.core.frame.DataFrame'>\n",
      "RangeIndex: 94 entries, 0 to 93\n",
      "Data columns (total 2 columns):\n",
      " #   Column                 Non-Null Count  Dtype  \n",
      "---  ------                 --------------  -----  \n",
      " 0   dropoff_location_name  94 non-null     object \n",
      " 1   average_trips          94 non-null     float64\n",
      "dtypes: float64(1), object(1)\n",
      "memory usage: 1.6+ KB\n"
     ]
    }
   ],
   "source": [
    "print('informasi tipe data & panjang baris , column dari dataset query_result1')\n",
    "query_result4.info()"
   ]
  },
  {
   "cell_type": "markdown",
   "metadata": {},
   "source": [
    "### Kesimpulan:\n",
    "\n",
    "Setelah melihat informasi tipe data pada kedua dataset dapat dipastikan tipe data sudah benar pada kedua dataset."
   ]
  },
  {
   "cell_type": "markdown",
   "metadata": {},
   "source": [
    "## Mengidentifikasi 10 wilayah teratas yang dijadikan sebagai titik pengantaran"
   ]
  },
  {
   "cell_type": "code",
   "execution_count": 16,
   "metadata": {},
   "outputs": [
    {
     "data": {
      "text/html": [
       "<div>\n",
       "<style scoped>\n",
       "    .dataframe tbody tr th:only-of-type {\n",
       "        vertical-align: middle;\n",
       "    }\n",
       "\n",
       "    .dataframe tbody tr th {\n",
       "        vertical-align: top;\n",
       "    }\n",
       "\n",
       "    .dataframe thead th {\n",
       "        text-align: right;\n",
       "    }\n",
       "</style>\n",
       "<table border=\"1\" class=\"dataframe\">\n",
       "  <thead>\n",
       "    <tr style=\"text-align: right;\">\n",
       "      <th></th>\n",
       "      <th>dropoff_location_name</th>\n",
       "      <th>average_trips</th>\n",
       "    </tr>\n",
       "  </thead>\n",
       "  <tbody>\n",
       "    <tr>\n",
       "      <th>0</th>\n",
       "      <td>Loop</td>\n",
       "      <td>10727.466667</td>\n",
       "    </tr>\n",
       "    <tr>\n",
       "      <th>1</th>\n",
       "      <td>River North</td>\n",
       "      <td>9523.666667</td>\n",
       "    </tr>\n",
       "    <tr>\n",
       "      <th>2</th>\n",
       "      <td>Streeterville</td>\n",
       "      <td>6664.666667</td>\n",
       "    </tr>\n",
       "    <tr>\n",
       "      <th>3</th>\n",
       "      <td>West Loop</td>\n",
       "      <td>5163.666667</td>\n",
       "    </tr>\n",
       "    <tr>\n",
       "      <th>4</th>\n",
       "      <td>O'Hare</td>\n",
       "      <td>2546.900000</td>\n",
       "    </tr>\n",
       "    <tr>\n",
       "      <th>5</th>\n",
       "      <td>Lake View</td>\n",
       "      <td>2420.966667</td>\n",
       "    </tr>\n",
       "    <tr>\n",
       "      <th>6</th>\n",
       "      <td>Grant Park</td>\n",
       "      <td>2068.533333</td>\n",
       "    </tr>\n",
       "    <tr>\n",
       "      <th>7</th>\n",
       "      <td>Museum Campus</td>\n",
       "      <td>1510.000000</td>\n",
       "    </tr>\n",
       "    <tr>\n",
       "      <th>8</th>\n",
       "      <td>Gold Coast</td>\n",
       "      <td>1364.233333</td>\n",
       "    </tr>\n",
       "    <tr>\n",
       "      <th>9</th>\n",
       "      <td>Sheffield &amp; DePaul</td>\n",
       "      <td>1259.766667</td>\n",
       "    </tr>\n",
       "  </tbody>\n",
       "</table>\n",
       "</div>"
      ],
      "text/plain": [
       "  dropoff_location_name  average_trips\n",
       "0                  Loop   10727.466667\n",
       "1           River North    9523.666667\n",
       "2         Streeterville    6664.666667\n",
       "3             West Loop    5163.666667\n",
       "4                O'Hare    2546.900000\n",
       "5             Lake View    2420.966667\n",
       "6            Grant Park    2068.533333\n",
       "7         Museum Campus    1510.000000\n",
       "8            Gold Coast    1364.233333\n",
       "9    Sheffield & DePaul    1259.766667"
      ]
     },
     "execution_count": 16,
     "metadata": {},
     "output_type": "execute_result"
    }
   ],
   "source": [
    "# Mengidentifikasi 10 wilayah teratas \n",
    "query_result4.nlargest(10, columns=[\"average_trips\"])"
   ]
  },
  {
   "cell_type": "code",
   "execution_count": 17,
   "metadata": {},
   "outputs": [],
   "source": [
    "# Memfilter 10 wilayah teratas\n",
    "top_10_dropoff = query_result4.nlargest(10, columns=[\"average_trips\"])"
   ]
  },
  {
   "cell_type": "code",
   "execution_count": 18,
   "metadata": {},
   "outputs": [
    {
     "data": {
      "image/png": "[encoded data removed]",
      "text/plain": [
       "<Figure size 720x576 with 1 Axes>"
      ]
     },
     "metadata": {},
     "output_type": "display_data"
    }
   ],
   "source": [
    "# Menampilkan Piechart dari 10 wilayah lokasi titik pengantaran\n",
    "(top_10_dropoff.set_index(\"dropoff_location_name\")\n",
    "                .plot(y='average_trips', kind='pie',\n",
    "                     title= 'Pie Chart dari 10 wilayah teratas dari lokasi titik pengantaran',\n",
    "                     figsize=(10,8), autopct='%1.1f%%', legend = False, shadow=True));"
   ]
  },
  {
   "cell_type": "code",
   "execution_count": 19,
   "metadata": {},
   "outputs": [
    {
     "data": {
      "image/png": "[encoded data removed]",
      "text/plain": [
       "<Figure size 1296x432 with 1 Axes>"
      ]
     },
     "metadata": {
      "needs_background": "light"
     },
     "output_type": "display_data"
    }
   ],
   "source": [
    "# Barplot dari 10 wilayah lokasi titik pengantaran\n",
    "fig, ax = plt.subplots(figsize=(18,6))\n",
    "ax = sns.barplot(data= top_10_dropoff , x='dropoff_location_name', y='average_trips', edgecolor='black', hatch='/', errwidth=0)\n",
    "ax.set_title('BarChart dari 10 wilayah teratas dari lokasi titik pengantaran', fontdict={'size':12})\n",
    "ax.set_ylabel('Jumlah rata-rata perjalanan', fontdict={'size':12})\n",
    "ax.set_xlabel('Nama wilayah di Chicago tempat perjalanan berakhir', fontdict={'size':12})\n",
    "ax.set_xticklabels(top_10_dropoff['dropoff_location_name'], rotation=60, fontdict={'horizontalalignment':'right', 'size':10});\n",
    "\n",
    "# Value Label \n",
    "for index, row in top_10_dropoff.iterrows():\n",
    "    ax.text(row.name, row.average_trips, round(row.average_trips, 1), color='black', fontweight='bold' , ha=\"center\")"
   ]
  },
  {
   "cell_type": "markdown",
   "metadata": {},
   "source": [
    "### Kesimpulan \n",
    "\n",
    "Kesimpulan pada 10 Wilayah teratas yang dijadikan sebagai titik pengantaran :\n",
    "1. Dapat kita lihat pada PieChart dimana persentase 10 wilayah titik pengantaran pada wilayah loop=24.8%,  River north=22%, streetville=15.4%, west_loop=11.9 dll. Serta dapat dilihat pada Barchart diatas menunjukkan bahwa jumlah rata-rata perjalanan di wilayah loop=10727.5, RiverNorth= 9523.7, streetville=6664.7, westloop=5163.7 dll. \n",
    "___________________\n",
    "2. Dapat Ditarik Kesimpulan bahwa Wilayah dengan rata-rata perjalan yang banyak jatuh pada wilayah Loop, Rivernorth, Streetville, dan Westloop."
   ]
  },
  {
   "cell_type": "markdown",
   "metadata": {},
   "source": [
    "## Mengidentifikasi perusahaan taksi dan jumlah perjalanannya, 10 wilayah teratas berdasarkan jumlah pengantaran pada tanggal 15-16 November 2017."
   ]
  },
  {
   "cell_type": "code",
   "execution_count": 20,
   "metadata": {},
   "outputs": [
    {
     "data": {
      "text/html": [
       "<div>\n",
       "<style scoped>\n",
       "    .dataframe tbody tr th:only-of-type {\n",
       "        vertical-align: middle;\n",
       "    }\n",
       "\n",
       "    .dataframe tbody tr th {\n",
       "        vertical-align: top;\n",
       "    }\n",
       "\n",
       "    .dataframe thead th {\n",
       "        text-align: right;\n",
       "    }\n",
       "</style>\n",
       "<table border=\"1\" class=\"dataframe\">\n",
       "  <thead>\n",
       "    <tr style=\"text-align: right;\">\n",
       "      <th></th>\n",
       "      <th>company_name</th>\n",
       "      <th>trips_amount</th>\n",
       "    </tr>\n",
       "  </thead>\n",
       "  <tbody>\n",
       "    <tr>\n",
       "      <th>0</th>\n",
       "      <td>Flash Cab</td>\n",
       "      <td>19558</td>\n",
       "    </tr>\n",
       "    <tr>\n",
       "      <th>1</th>\n",
       "      <td>Taxi Affiliation Services</td>\n",
       "      <td>11422</td>\n",
       "    </tr>\n",
       "    <tr>\n",
       "      <th>2</th>\n",
       "      <td>Medallion Leasing</td>\n",
       "      <td>10367</td>\n",
       "    </tr>\n",
       "    <tr>\n",
       "      <th>3</th>\n",
       "      <td>Yellow Cab</td>\n",
       "      <td>9888</td>\n",
       "    </tr>\n",
       "    <tr>\n",
       "      <th>4</th>\n",
       "      <td>Taxi Affiliation Service Yellow</td>\n",
       "      <td>9299</td>\n",
       "    </tr>\n",
       "    <tr>\n",
       "      <th>5</th>\n",
       "      <td>Chicago Carriage Cab Corp</td>\n",
       "      <td>9181</td>\n",
       "    </tr>\n",
       "    <tr>\n",
       "      <th>6</th>\n",
       "      <td>City Service</td>\n",
       "      <td>8448</td>\n",
       "    </tr>\n",
       "    <tr>\n",
       "      <th>7</th>\n",
       "      <td>Sun Taxi</td>\n",
       "      <td>7701</td>\n",
       "    </tr>\n",
       "    <tr>\n",
       "      <th>8</th>\n",
       "      <td>Star North Management LLC</td>\n",
       "      <td>7455</td>\n",
       "    </tr>\n",
       "    <tr>\n",
       "      <th>9</th>\n",
       "      <td>Blue Ribbon Taxi Association Inc.</td>\n",
       "      <td>5953</td>\n",
       "    </tr>\n",
       "  </tbody>\n",
       "</table>\n",
       "</div>"
      ],
      "text/plain": [
       "                        company_name  trips_amount\n",
       "0                          Flash Cab         19558\n",
       "1          Taxi Affiliation Services         11422\n",
       "2                  Medallion Leasing         10367\n",
       "3                         Yellow Cab          9888\n",
       "4    Taxi Affiliation Service Yellow          9299\n",
       "5          Chicago Carriage Cab Corp          9181\n",
       "6                       City Service          8448\n",
       "7                           Sun Taxi          7701\n",
       "8          Star North Management LLC          7455\n",
       "9  Blue Ribbon Taxi Association Inc.          5953"
      ]
     },
     "execution_count": 20,
     "metadata": {},
     "output_type": "execute_result"
    }
   ],
   "source": [
    "# Mengidentifikas Perusahaan taksi 10 teratas berdasarkan jumlah pengantaran\n",
    "query_result1.nlargest(10, columns=[\"trips_amount\"])"
   ]
  },
  {
   "cell_type": "code",
   "execution_count": 21,
   "metadata": {},
   "outputs": [],
   "source": [
    "# Memfilter Perusahaan taksi 10 teratas berdasarkan jumlah pengantaran\n",
    "top_10_compname = query_result1.nlargest(10, columns=[\"trips_amount\"])"
   ]
  },
  {
   "cell_type": "code",
   "execution_count": 22,
   "metadata": {},
   "outputs": [
    {
     "data": {
      "image/png": "[encoded data removed]",
      "text/plain": [
       "<Figure size 720x576 with 1 Axes>"
      ]
     },
     "metadata": {},
     "output_type": "display_data"
    }
   ],
   "source": [
    "# Menampilkan PieChart Perusahaan taksi 10 teratas berdasarkan jumlah pengantaran\n",
    "(top_10_compname.set_index(\"company_name\")\n",
    "                .plot(y='trips_amount', kind='pie',\n",
    "                     title= 'Pie Chart dari Perusahaan taksi 10 teratas berdasarkan jumlah pengantaran',\n",
    "                     figsize=(10,8), autopct='%1.1f%%', legend=False, shadow=True));"
   ]
  },
  {
   "cell_type": "code",
   "execution_count": 23,
   "metadata": {},
   "outputs": [
    {
     "data": {
      "image/png": "[encoded data removed]",
      "text/plain": [
       "<Figure size 1296x432 with 1 Axes>"
      ]
     },
     "metadata": {
      "needs_background": "light"
     },
     "output_type": "display_data"
    }
   ],
   "source": [
    "# Barplot dari Perusahaan taksi 10 teratas berdasarkan jumlah pengantaran\n",
    "fig, ax = plt.subplots(figsize=(18,6))\n",
    "ax = sns.barplot(data= top_10_compname, x='company_name', y='trips_amount', edgecolor='black', hatch='/', errwidth=0)\n",
    "ax.set_title('BarChart Perusahaan taksi 10 teratas berdasarkan jumlah pengantaran', fontdict={'size':12})\n",
    "ax.set_ylabel('Nama Perusahaan Taksi', fontdict={'size':12})\n",
    "ax.set_xlabel('Jumlah Perjalan Setiap Perusahaan Taksi', fontdict={'size':12})\n",
    "ax.set_xticklabels(top_10_compname['company_name'], rotation=60, fontdict={'horizontalalignment':'right', 'size':10});\n",
    "\n",
    "# Value Label \n",
    "for index, row in top_10_compname.iterrows():\n",
    "    ax.text(row.name, row.trips_amount, round(row.trips_amount, 1), color='black', fontweight='bold' , ha=\"center\")"
   ]
  },
  {
   "cell_type": "markdown",
   "metadata": {},
   "source": [
    "### Kesimpulan \n",
    "\n",
    "Kesimpulan pada 10 Jumlah Perjalan Perusahaah Taksi pada tanggal 15-16 November 2017.\n",
    "1. Dapat dilihat pada PieChart diatas bahwa 10 perusahaan taksi dengan persentasi jumlah perjalan terbanyak yakni flashcab=11.7%, TaxiAffiliationService=11.5%, Medalionleasing=10.4%, Yellowcab=10.0% etc. \n",
    "serta penjelasan dari BarChart diatas menunjukkan bahwa perusahaan taksi dengan jumlah perjalan terbanyak yaitu flashcab=19558, Taxiaffiliationservices=11422, medallionleasing=10367, yellowcab=9888 etc.\n",
    "__________________________\n",
    "2. Dapat ditarik kesimpulan bahwa perusaahaan yang memiliki jumlah perjalanan terbanyak adalah flashcab, taxiaffiliationservice, medalionleasing, yellowcab."
   ]
  },
  {
   "cell_type": "markdown",
   "metadata": {},
   "source": [
    "## Menguji Hipotesis "
   ]
  },
  {
   "cell_type": "markdown",
   "metadata": {},
   "source": [
    "/datasets/project_sql_result_07.csv — hasil dari kueri terakhir. File ini memuat data perjalanan dari Loop ke Bandara Internasional O'Hare. Ingat, berikut adalah nilai kolom-kolom yang ada di tabel ini:\n",
    "_________________\n",
    "start_ts — tanggal dan waktu penjemputan\n",
    "weather_conditions — kondisi cuaca saat perjalanan dimulai\n",
    "duration_seconds — durasi perjalanan dalam satuan detik\n",
    "_________________\n",
    "Uji hipotesis berikut:\n",
    "\n",
    "\"Durasi rata-rata perjalanan dari Loop ke Bandara Internasional O'Hare berubah pada hari-hari Sabtu yang hujan.\"\n",
    "\n",
    "Tentukan secara mandiri seberapa besar level signifikansinya (alpha).\n",
    "\n",
    "Jelaskan:\n",
    "Bagaimana Anda merumuskan hipotesis nol dan hipotesis alternatif\n",
    "Kriteria apa yang Anda gunakan untuk menguji hipotesis dan alasan Anda menggunakannya"
   ]
  },
  {
   "cell_type": "code",
   "execution_count": 24,
   "metadata": {},
   "outputs": [],
   "source": [
    "# Memuat Dataset \n",
    "query_result7 = pd.read_csv('/datasets/project_sql_result_07.csv')"
   ]
  },
  {
   "cell_type": "code",
   "execution_count": 25,
   "metadata": {},
   "outputs": [
    {
     "name": "stdout",
     "output_type": "stream",
     "text": [
      "Informasi dari dataset query_result_7\n"
     ]
    },
    {
     "data": {
      "text/html": [
       "<div>\n",
       "<style scoped>\n",
       "    .dataframe tbody tr th:only-of-type {\n",
       "        vertical-align: middle;\n",
       "    }\n",
       "\n",
       "    .dataframe tbody tr th {\n",
       "        vertical-align: top;\n",
       "    }\n",
       "\n",
       "    .dataframe thead th {\n",
       "        text-align: right;\n",
       "    }\n",
       "</style>\n",
       "<table border=\"1\" class=\"dataframe\">\n",
       "  <thead>\n",
       "    <tr style=\"text-align: right;\">\n",
       "      <th></th>\n",
       "      <th>start_ts</th>\n",
       "      <th>weather_conditions</th>\n",
       "      <th>duration_seconds</th>\n",
       "    </tr>\n",
       "  </thead>\n",
       "  <tbody>\n",
       "    <tr>\n",
       "      <th>418</th>\n",
       "      <td>2017-11-04 07:00:00</td>\n",
       "      <td>Good</td>\n",
       "      <td>1563.0</td>\n",
       "    </tr>\n",
       "    <tr>\n",
       "      <th>419</th>\n",
       "      <td>2017-11-25 11:00:00</td>\n",
       "      <td>Good</td>\n",
       "      <td>1541.0</td>\n",
       "    </tr>\n",
       "    <tr>\n",
       "      <th>120</th>\n",
       "      <td>2017-11-04 14:00:00</td>\n",
       "      <td>Good</td>\n",
       "      <td>3240.0</td>\n",
       "    </tr>\n",
       "    <tr>\n",
       "      <th>840</th>\n",
       "      <td>2017-11-11 11:00:00</td>\n",
       "      <td>Good</td>\n",
       "      <td>1740.0</td>\n",
       "    </tr>\n",
       "    <tr>\n",
       "      <th>773</th>\n",
       "      <td>2017-11-11 11:00:00</td>\n",
       "      <td>Good</td>\n",
       "      <td>2032.0</td>\n",
       "    </tr>\n",
       "    <tr>\n",
       "      <th>1015</th>\n",
       "      <td>2017-11-11 13:00:00</td>\n",
       "      <td>Good</td>\n",
       "      <td>2449.0</td>\n",
       "    </tr>\n",
       "    <tr>\n",
       "      <th>958</th>\n",
       "      <td>2017-11-11 21:00:00</td>\n",
       "      <td>Good</td>\n",
       "      <td>1363.0</td>\n",
       "    </tr>\n",
       "    <tr>\n",
       "      <th>782</th>\n",
       "      <td>2017-11-11 16:00:00</td>\n",
       "      <td>Good</td>\n",
       "      <td>2400.0</td>\n",
       "    </tr>\n",
       "    <tr>\n",
       "      <th>186</th>\n",
       "      <td>2017-11-25 09:00:00</td>\n",
       "      <td>Good</td>\n",
       "      <td>1473.0</td>\n",
       "    </tr>\n",
       "    <tr>\n",
       "      <th>841</th>\n",
       "      <td>2017-11-04 12:00:00</td>\n",
       "      <td>Good</td>\n",
       "      <td>2520.0</td>\n",
       "    </tr>\n",
       "  </tbody>\n",
       "</table>\n",
       "</div>"
      ],
      "text/plain": [
       "                 start_ts weather_conditions  duration_seconds\n",
       "418   2017-11-04 07:00:00               Good            1563.0\n",
       "419   2017-11-25 11:00:00               Good            1541.0\n",
       "120   2017-11-04 14:00:00               Good            3240.0\n",
       "840   2017-11-11 11:00:00               Good            1740.0\n",
       "773   2017-11-11 11:00:00               Good            2032.0\n",
       "1015  2017-11-11 13:00:00               Good            2449.0\n",
       "958   2017-11-11 21:00:00               Good            1363.0\n",
       "782   2017-11-11 16:00:00               Good            2400.0\n",
       "186   2017-11-25 09:00:00               Good            1473.0\n",
       "841   2017-11-04 12:00:00               Good            2520.0"
      ]
     },
     "execution_count": 25,
     "metadata": {},
     "output_type": "execute_result"
    }
   ],
   "source": [
    "print('Informasi dari dataset query_result_7')\n",
    "query_result7.sample(10)"
   ]
  },
  {
   "cell_type": "code",
   "execution_count": 26,
   "metadata": {},
   "outputs": [
    {
     "name": "stdout",
     "output_type": "stream",
     "text": [
      "informasi tipe data & panjang baris , column dari dataset query_result7\n",
      "<class 'pandas.core.frame.DataFrame'>\n",
      "RangeIndex: 1068 entries, 0 to 1067\n",
      "Data columns (total 3 columns):\n",
      " #   Column              Non-Null Count  Dtype  \n",
      "---  ------              --------------  -----  \n",
      " 0   start_ts            1068 non-null   object \n",
      " 1   weather_conditions  1068 non-null   object \n",
      " 2   duration_seconds    1068 non-null   float64\n",
      "dtypes: float64(1), object(2)\n",
      "memory usage: 25.2+ KB\n"
     ]
    }
   ],
   "source": [
    "print('informasi tipe data & panjang baris , column dari dataset query_result7')\n",
    "query_result7.info()"
   ]
  },
  {
   "cell_type": "code",
   "execution_count": 27,
   "metadata": {},
   "outputs": [
    {
     "name": "stdout",
     "output_type": "stream",
     "text": [
      "memeriksa nilai yang hilang / na pada dataset query_result7 :\n"
     ]
    },
    {
     "data": {
      "text/plain": [
       "start_ts              0\n",
       "weather_conditions    0\n",
       "duration_seconds      0\n",
       "dtype: int64"
      ]
     },
     "execution_count": 27,
     "metadata": {},
     "output_type": "execute_result"
    }
   ],
   "source": [
    "print('memeriksa nilai yang hilang / na pada dataset query_result7 :')\n",
    "query_result7.isna().sum()"
   ]
  },
  {
   "cell_type": "markdown",
   "metadata": {},
   "source": [
    "Kesimpulan : \n",
    "\n",
    "Setelah melihat informasi umum dari dataset didapati bahwa pada table start_ts memiliki tipe data yang salah yang seharusnya datetime. mari kita ubah pada langkah selanjutnya."
   ]
  },
  {
   "cell_type": "markdown",
   "metadata": {},
   "source": [
    "### Mengubah tipe data "
   ]
  },
  {
   "cell_type": "code",
   "execution_count": 28,
   "metadata": {},
   "outputs": [
    {
     "name": "stdout",
     "output_type": "stream",
     "text": [
      "0      2017-11-25 16:00:00\n",
      "1      2017-11-25 14:00:00\n",
      "2      2017-11-25 12:00:00\n",
      "3      2017-11-04 10:00:00\n",
      "4      2017-11-11 07:00:00\n",
      "               ...        \n",
      "1063   2017-11-25 11:00:00\n",
      "1064   2017-11-11 10:00:00\n",
      "1065   2017-11-11 13:00:00\n",
      "1066   2017-11-11 08:00:00\n",
      "1067   2017-11-04 16:00:00\n",
      "Name: start_ts, Length: 1068, dtype: datetime64[ns]\n"
     ]
    }
   ],
   "source": [
    "# Mengubah Tipe data variable start_ts dari obj menjadi date time\n",
    "\n",
    "query_result7['start_ts'] = pd.to_datetime(query_result7['start_ts'], format='%Y-%m-%d %H:%M:%S', errors='raise')\n",
    "print(query_result7['start_ts'])"
   ]
  },
  {
   "cell_type": "markdown",
   "metadata": {},
   "source": [
    "Kesimpulan :\n",
    "\n",
    "table start_ts sudah berhasil di konversi ke tipedata yang sesuai. langkah selanjutanya mari kita cek distribusi datanya.\n"
   ]
  },
  {
   "cell_type": "markdown",
   "metadata": {},
   "source": [
    "### Melihat distribusi data"
   ]
  },
  {
   "cell_type": "code",
   "execution_count": 29,
   "metadata": {},
   "outputs": [
    {
     "data": {
      "image/png": "[encoded data removed]",
      "text/plain": [
       "<Figure size 432x288 with 1 Axes>"
      ]
     },
     "metadata": {
      "needs_background": "light"
     },
     "output_type": "display_data"
    }
   ],
   "source": [
    "# Histogram dari distribusi data variabel duration_second\n",
    "sns.distplot(query_result7[\"duration_seconds\"], bins=list(range(100, 4000, 200)));"
   ]
  },
  {
   "cell_type": "code",
   "execution_count": 30,
   "metadata": {},
   "outputs": [
    {
     "data": {
      "image/png": "[encoded data removed]",
      "text/plain": [
       "<Figure size 432x288 with 1 Axes>"
      ]
     },
     "metadata": {
      "needs_background": "light"
     },
     "output_type": "display_data"
    }
   ],
   "source": [
    "# Boxplot dari distribusi data variabel duration_second\n",
    "sns.boxplot(query_result7[\"duration_seconds\"]);\n"
   ]
  },
  {
   "cell_type": "code",
   "execution_count": 31,
   "metadata": {},
   "outputs": [
    {
     "data": {
      "text/plain": [
       "count    1068.000000\n",
       "mean     2071.731273\n",
       "std       769.461125\n",
       "min         0.000000\n",
       "25%      1438.250000\n",
       "50%      1980.000000\n",
       "75%      2580.000000\n",
       "max      7440.000000\n",
       "Name: duration_seconds, dtype: float64"
      ]
     },
     "execution_count": 31,
     "metadata": {},
     "output_type": "execute_result"
    }
   ],
   "source": [
    "# Disribusi Data statistik dari distribusi data variabel duration_second\n",
    "query_result7[\"duration_seconds\"].describe()"
   ]
  },
  {
   "cell_type": "markdown",
   "metadata": {},
   "source": [
    "Kesimpulan :\n",
    "\n",
    "1. Dapat dilihat pada hasil distribusi data statistik pada variabel duration_second memiliki distribusi dengan kemiringan positif yang dapat dilihat bahwa mean/rata-rata = 2071 dari variable duration_seconds lebih besar dari pada mediannya = 1438."
   ]
  },
  {
   "cell_type": "markdown",
   "metadata": {},
   "source": [
    "### Memfilter data untuk menguji hipotesis \"Durasi rata-rata perjalanan dari Loop ke Bandara Internasional O'Hare berubah pada hari-hari Sabtu yang hujan.\""
   ]
  },
  {
   "cell_type": "code",
   "execution_count": 32,
   "metadata": {},
   "outputs": [
    {
     "data": {
      "text/html": [
       "<div>\n",
       "<style scoped>\n",
       "    .dataframe tbody tr th:only-of-type {\n",
       "        vertical-align: middle;\n",
       "    }\n",
       "\n",
       "    .dataframe tbody tr th {\n",
       "        vertical-align: top;\n",
       "    }\n",
       "\n",
       "    .dataframe thead th {\n",
       "        text-align: right;\n",
       "    }\n",
       "</style>\n",
       "<table border=\"1\" class=\"dataframe\">\n",
       "  <thead>\n",
       "    <tr style=\"text-align: right;\">\n",
       "      <th></th>\n",
       "      <th>start_ts</th>\n",
       "      <th>weather_conditions</th>\n",
       "      <th>duration_seconds</th>\n",
       "    </tr>\n",
       "  </thead>\n",
       "  <tbody>\n",
       "    <tr>\n",
       "      <th>0</th>\n",
       "      <td>2017-11-25 16:00:00</td>\n",
       "      <td>Good</td>\n",
       "      <td>2410.0</td>\n",
       "    </tr>\n",
       "    <tr>\n",
       "      <th>1</th>\n",
       "      <td>2017-11-25 14:00:00</td>\n",
       "      <td>Good</td>\n",
       "      <td>1920.0</td>\n",
       "    </tr>\n",
       "    <tr>\n",
       "      <th>2</th>\n",
       "      <td>2017-11-25 12:00:00</td>\n",
       "      <td>Good</td>\n",
       "      <td>1543.0</td>\n",
       "    </tr>\n",
       "    <tr>\n",
       "      <th>3</th>\n",
       "      <td>2017-11-04 10:00:00</td>\n",
       "      <td>Good</td>\n",
       "      <td>2512.0</td>\n",
       "    </tr>\n",
       "    <tr>\n",
       "      <th>4</th>\n",
       "      <td>2017-11-11 07:00:00</td>\n",
       "      <td>Good</td>\n",
       "      <td>1440.0</td>\n",
       "    </tr>\n",
       "    <tr>\n",
       "      <th>...</th>\n",
       "      <td>...</td>\n",
       "      <td>...</td>\n",
       "      <td>...</td>\n",
       "    </tr>\n",
       "    <tr>\n",
       "      <th>1063</th>\n",
       "      <td>2017-11-25 11:00:00</td>\n",
       "      <td>Good</td>\n",
       "      <td>0.0</td>\n",
       "    </tr>\n",
       "    <tr>\n",
       "      <th>1064</th>\n",
       "      <td>2017-11-11 10:00:00</td>\n",
       "      <td>Good</td>\n",
       "      <td>1318.0</td>\n",
       "    </tr>\n",
       "    <tr>\n",
       "      <th>1065</th>\n",
       "      <td>2017-11-11 13:00:00</td>\n",
       "      <td>Good</td>\n",
       "      <td>2100.0</td>\n",
       "    </tr>\n",
       "    <tr>\n",
       "      <th>1066</th>\n",
       "      <td>2017-11-11 08:00:00</td>\n",
       "      <td>Good</td>\n",
       "      <td>1380.0</td>\n",
       "    </tr>\n",
       "    <tr>\n",
       "      <th>1067</th>\n",
       "      <td>2017-11-04 16:00:00</td>\n",
       "      <td>Bad</td>\n",
       "      <td>2834.0</td>\n",
       "    </tr>\n",
       "  </tbody>\n",
       "</table>\n",
       "<p>1068 rows × 3 columns</p>\n",
       "</div>"
      ],
      "text/plain": [
       "                start_ts weather_conditions  duration_seconds\n",
       "0    2017-11-25 16:00:00               Good            2410.0\n",
       "1    2017-11-25 14:00:00               Good            1920.0\n",
       "2    2017-11-25 12:00:00               Good            1543.0\n",
       "3    2017-11-04 10:00:00               Good            2512.0\n",
       "4    2017-11-11 07:00:00               Good            1440.0\n",
       "...                  ...                ...               ...\n",
       "1063 2017-11-25 11:00:00               Good               0.0\n",
       "1064 2017-11-11 10:00:00               Good            1318.0\n",
       "1065 2017-11-11 13:00:00               Good            2100.0\n",
       "1066 2017-11-11 08:00:00               Good            1380.0\n",
       "1067 2017-11-04 16:00:00                Bad            2834.0\n",
       "\n",
       "[1068 rows x 3 columns]"
      ]
     },
     "execution_count": 32,
     "metadata": {},
     "output_type": "execute_result"
    }
   ],
   "source": [
    "query_result7"
   ]
  },
  {
   "cell_type": "code",
   "execution_count": 33,
   "metadata": {},
   "outputs": [
    {
     "name": "stdout",
     "output_type": "stream",
     "text": [
      "6       2969.0\n",
      "30      1980.0\n",
      "34      2460.0\n",
      "51      2760.0\n",
      "52      2460.0\n",
      "         ...  \n",
      "1031    2560.0\n",
      "1032    1908.0\n",
      "1053    2400.0\n",
      "1061    2186.0\n",
      "1067    2834.0\n",
      "Name: duration_seconds, Length: 180, dtype: float64\n"
     ]
    }
   ],
   "source": [
    "# Memfilter kondisi cuaca buruk pada dataset\n",
    "saturday_bad_con = query_result7[(query_result7.weather_conditions!='Good') & (query_result7.start_ts.dt.weekday==5)][\"duration_seconds\"]\n",
    "print(saturday_bad_con)\n"
   ]
  },
  {
   "cell_type": "code",
   "execution_count": 34,
   "metadata": {},
   "outputs": [
    {
     "data": {
      "text/plain": [
       "0       2410.0\n",
       "1       1920.0\n",
       "2       1543.0\n",
       "3       2512.0\n",
       "4       1440.0\n",
       "         ...  \n",
       "1062    1500.0\n",
       "1063       0.0\n",
       "1064    1318.0\n",
       "1065    2100.0\n",
       "1066    1380.0\n",
       "Name: duration_seconds, Length: 888, dtype: float64"
      ]
     },
     "execution_count": 34,
     "metadata": {},
     "output_type": "execute_result"
    }
   ],
   "source": [
    "# Memfilter kondisi cuaca bagus pada dataset\n",
    "saturday_good_con = query_result7[(query_result7.weather_conditions=='Good') & (query_result7.start_ts.dt.weekday==5)][\"duration_seconds\"]\n",
    "saturday_good_con"
   ]
  },
  {
   "cell_type": "code",
   "execution_count": 35,
   "metadata": {},
   "outputs": [
    {
     "name": "stdout",
     "output_type": "stream",
     "text": [
      "Rata-rata dari cuaca buruk adalah 2427.21 and rata-rata dari rating pengguna untuk platform PC adalah 1999.68\n",
      "Persentasi Selisih Rata-rata dari cuaca buruk dan cuaca bagis adalah 17.61%\n"
     ]
    }
   ],
   "source": [
    "# Menghitung rata-rata dari cuaca buruk dan bagus \n",
    "\n",
    "avg_saturday_bad_con = query_result7[(query_result7.weather_conditions!='Good') & (query_result7.start_ts.dt.weekday==5)][\"duration_seconds\"].mean()\n",
    "avg_saturday_good_con = query_result7[(query_result7.weather_conditions=='Good') & (query_result7.start_ts.dt.weekday==5)][\"duration_seconds\"].mean()\n",
    "\n",
    "print('Rata-rata dari cuaca buruk adalah {:.2f}'.format(avg_saturday_bad_con) + ' and ' + \\\n",
    "      'rata-rata dari rating pengguna untuk platform PC adalah {:.2f}'.format(avg_saturday_good_con))\n",
    "diff = (avg_saturday_bad_con - avg_saturday_good_con) / avg_saturday_bad_con * 100\n",
    "print('Persentasi Selisih Rata-rata dari cuaca buruk dan cuaca bagis adalah {:.2f}%'.format(diff))"
   ]
  },
  {
   "cell_type": "markdown",
   "metadata": {},
   "source": [
    "Kesimpulan :\n",
    "\n",
    "a. Setelah menghitung rata-rata dari cuaca buruk dan bagus didapati durasi perjalanan dari wilayah Loop ke Bandara Internasional O'Hare berubah pada hari-hari Sabtu yang hujan dimana kita membandingkan rata-rata dari durasi perjalan dengan cuaca yang buruk = 2427.21 dana durasi perjalan dengan cuaca yang bagus = 1999.68.\n",
    "__________\n",
    "b. alih-alih hanya berasumsi berdasarkan nilai rata-rata dari cuaca buruk dan bagus pada tahap selanjutnya kita akan melakukan uji statistik dengan merumuskan hipotesis null : \"Durasi rata-rata perjalanan dari Loop ke Bandara Internasional O'Hare tidak berubah pada hari-hari Sabtu yang hujan\" dan hipotesis alternatifnya \"Durasi rata-rata perjalanan dari Loop ke Bandara Internasional O'Hare berubah pada hari-hari Sabtu yang hujan\". \n",
    "___________\n",
    "c. Untuk melakukan pengujian hipotesis diatas kita menggunakan nilai signifikansi atau alpha 0.05 yang berarti dalam 5% tingkat signifikansi kesalahannya. Dimana kita akan menolak hipotesis nol ketika hipotesis alternatif nya benar lalu menggunakan uji-t untuk menguji hipotesis karena membandingkan rata-rata dua kelompok untuk menentukan apakah kedua kelompok ini berbeda satu sama lain."
   ]
  },
  {
   "cell_type": "markdown",
   "metadata": {},
   "source": [
    "Perumusan Hipotesis:\n",
    "\n",
    "1. Ho (Hipotesis nol)   = \"Durasi rata-rata perjalanan dari Loop ke Bandara Internasional O'Hare tidak berubah pada hari-hari Sabtu yang hujan\"\n",
    "_______________________________\n",
    "2. H1 (Hipotesis alternatif) =  \"Durasi rata-rata perjalanan dari Loop ke Bandara Internasional O'Hare berubah pada hari-hari Sabtu yang hujan\"\n",
    "_________________________________\n",
    "3. α (alpha) tingkat signifikansi  = 0.05 \n",
    "_________________________________\n",
    "4. Jika p-value < (lebih kecil), maka hipotesis nol ditolak. jika p-value > (lebih besar) , maka hipotesis nol diterima."
   ]
  },
  {
   "cell_type": "code",
   "execution_count": 36,
   "metadata": {},
   "outputs": [],
   "source": [
    "#  Fungsi untuk menentukan hasil hipotesis\n",
    "\n",
    "def hipotesis_test(variable1, variable2, alpha):\n",
    "    \n",
    "    # Menentukan nilai signifikasi alpha \n",
    "    alpha = alpha\n",
    "    \n",
    "    # Menguji hipotesis dengan rata-rata dari dua populasi\n",
    "    results = st.ttest_ind(variable1, variable2, equal_var = False)\n",
    "    print('Nilai p-value adalah : {}'.format(results.pvalue))\n",
    "    \n",
    "    # Hasil dari p-value\n",
    "    if (results.pvalue < alpha ):\n",
    "         print('Kita dapat menolak Ho')\n",
    "    else :\n",
    "        print('Kita tidak dapat menolak Ho')"
   ]
  },
  {
   "cell_type": "code",
   "execution_count": 37,
   "metadata": {},
   "outputs": [
    {
     "name": "stdout",
     "output_type": "stream",
     "text": [
      "Nilai p-value adalah : 6.738994326108734e-12\n",
      "Kita dapat menolak Ho\n"
     ]
    }
   ],
   "source": [
    "# Menguji hipotesis \n",
    "\n",
    "hipotesis_test(saturday_bad_con, saturday_good_con, 0.05)"
   ]
  },
  {
   "cell_type": "markdown",
   "metadata": {},
   "source": [
    "## Kesimpulan akhir: \n",
    "\n",
    "Setelah menguji hipotesis null dengan menyatakan bahwa tidak \"Durasi rata-rata perjalanan dari Loop ke Bandara Internasional O'Hare tidak berubah pada hari-hari Sabtu yang hujan\"  dengan menggunakan nilai signifikansi 0.05 dan didapati hasil uji hipotesis bahwa p-valuenya lebih kecil dari 0.05 maka kita dapat menolak Hipotesis null dan Menerima hipotesis alternatif dimana \"Durasi rata-rata perjalanan dari Loop ke Bandara Internasional O'Hare berubah pada hari-hari Sabtu yang hujan\"."
   ]
  }
 ],
 "metadata": {
  "kernelspec": {
   "display_name": "Python 3 (ipykernel)",
   "language": "python",
   "name": "python3"
  },
  "language_info": {
   "codemirror_mode": {
    "name": "ipython",
    "version": 3
   },
   "file_extension": ".py",
   "mimetype": "text/x-python",
   "name": "python",
   "nbconvert_exporter": "python",
   "pygments_lexer": "ipython3",
   "version": "3.9.5"
  },
  "toc": {
   "base_numbering": 1,
   "nav_menu": {},
   "number_sections": true,
   "sideBar": true,
   "skip_h1_title": true,
   "title_cell": "Table of Contents",
   "title_sidebar": "Contents",
   "toc_cell": false,
   "toc_position": {
    "height": "calc(100% - 180px)",
    "left": "10px",
    "top": "150px",
    "width": "266.667px"
   },
   "toc_section_display": true,
   "toc_window_display": true
  }
 },
 "nbformat": 4,
 "nbformat_minor": 2
}
